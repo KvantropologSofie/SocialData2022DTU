{
 "cells": [
  {
   "cell_type": "markdown",
   "id": "f06ed7ab",
   "metadata": {},
   "source": [
    "# Table of contents\n",
    "1. [Motivation](#Motivation)\n",
    "2. [Global Patterns](#Global)\n",
    "    1. [Global data](#globaldata)\n",
    "    2. [Preprocessing and data mining](#preprocessing)\n",
    "    3. [Basic stats and exploration of the data](#basicstats)\n",
    "    4. [Data analysis](#dataanalysis)\n",
    "    5. [Prediction of deaths caused by pollution](#prediction)\n",
    "    6. [Conclusion](#conclusionglobal)\n",
    "3. [Zooming in on Denmark](#denmark)\n",
    "    1. [Data used in the Danish part](#denmarkdata)\n",
    "    2. [Preprocessing and data mining](#denmarkpre)\n",
    "    3. [Basic stats - Denmark](#statsdk)\n",
    "    4. [Data analysis](#analysisdk)\n",
    "    4. [Conclusion](#conclusiondk)\n",
    "4. [Genre](#genre)\n",
    "5. [Visualizations](#visualisations)\n",
    "6. [Discussion and Conclusion](#finalcon)\n",
    "7. [Contributions](#contributions)\n",
    "8. [References](#references)\n",
    "\n",
    "This notebook is heavy, and even though we have saved it with all visualizations shown, they migh not be visible when you open the notebook. If this is the case, you can run the cells below the text stating **RUN CELL BELOW TO SEE THE VISUALIZATION** instead of running the whole notebook.  \n",
    "\n",
    "You can access our website about the project [here](https://kvantropologsofie.github.io/socialdata2022.io/docs/pollution-DK/mapping-pollution/mapping_pollution/)"
   ]
  },
  {
   "cell_type": "markdown",
   "id": "d6c47a32",
   "metadata": {},
   "source": [
    "# Understanding consequences of air pollution \n",
    "\n",
    "## 1. Motivation <br>  <a name=\"Motivation\"></a>\n",
    "\n",
    "The quality of the air around us have a significant effect on our daily life and health. Nevertheless, estimates reveal that 99% of the world's population live in areas exceeding WHO's guidelines for clean air. Exposure to air pollution is the fifth greatest risk factor of mortality globally, and every year 4.2 milion people die prematurely from outdoor air pollution (https://www.who.int/data/gho/data/themes/air-pollution/ambient-air-pollution). The exsisting research indicates that individuals with lower socioeconomic status are disproportionally affected by air pollution. Thus, air pollution is a social issue that needs to be elucidated in order to prevent environmental inequality and protect the public health in the future.\n",
    "\n",
    "Throughout this project we aim to investigate and shed light on differences in exposure to air pollution. Who are affected by the higest concentrations globally, and is it through visualizations possible to detect environmental inequality? In addition to investigating patterns globally, we are also zooming in on Denmark to obtain a more nuanced and unbiased understanding of possible patterns and differenses within a country. \n",
    "\n",
    "Through this report we will mainly focus on pollution caused by $PM_{2.5}$, also known as fine inhalable particles. $PM_{2.5}$ is the pollutant causing the greatest risk for human health by causing cardiovascular and respiratory disease, and cancers. $PM_{2.5}$ is emitted from power plants, industries, and automobiles, and are thereby direct consequences of human behaviour. WHO's guidelines are stating that annual average concentrations of $PM_{2.5}$ should not exceed 5 µg/m3. The thresholds for all types of pollution can be found in the following figure:\n",
    "\n",
    "|  $NO_{2}$| $PM_{2.5}$ | $PM_{10}$|\n",
    "| --- | --- | --- |\n",
    "| 10 μg/m3 annual mean | 5 μg/m3 annual mean | 15 μg/m3 annual mean |\n",
    "\n",
    "\n",
    "\n",
    "The project is thus devided into two parts. First a part where we examine the global development in air pollution over time and investigate whether air pollution is distributed unequally. Second a part where we zoom in on Denmark to investigate patterns in a country with high GDP and relatively low concentrations of air pollution. Throughout both parts of the project we will apply different types of visualizations to explore social differences in the exposure to air pollution. The project provides insights into environmental inequality, but also that it is necessary to investigate each country on a more granular level instead of as a whole unit, as there can be significant social differences even within small geographical differences. Thus, nuanced exploration is key when understanding consequences of global  problems such as air pollution - and in this process proper visualizations are excellent tools. "
   ]
  },
  {
   "cell_type": "markdown",
   "id": "5850304d",
   "metadata": {},
   "source": [
    "## 2. Global Patterns  <a name=\"Global\"></a>"
   ]
  },
  {
   "cell_type": "markdown",
   "id": "5e276762",
   "metadata": {},
   "source": [
    "### 2.1 Data\n",
    "<a name=\"globaldata\"></a>\n",
    "\n",
    "In this section we are importing the relevant datasets, preprocessing them and combining them to create our final dataset for the global part of the project. The dataset will contain features describing the annual concentrations of $PM_{2.5}$, death rates related to pollution and features related to the economy and health of all countries. The final dataset consists of observations from 2011 to 2017. \n",
    "\n",
    "**WHO**\n",
    "\n",
    "The pollution data used in the analysis is retrieved from WHO and contains concentrations of ambient air pollution for almost all countries globally (https://www.who.int/data/gho/data/indicators/indicator-details/GHO/concentrations-of-fine-particulate-matter-(pm2-5)). The dataset is only covering one type of pollution, $PM_{2.5}$, which will be our main pollutant throughout all parts of the project. \n",
    "\n",
    "**Our world in data**\n",
    "\n",
    "We are further retrieving a range of datasets from *Our World in Data* regarding death rates related to the exposure of $PM_{2.5}$, the cardiovascular disease death rate, and the health expenditure as % of GDP. All datasets from OWID originates from WHO. Death rates are measured by the number of deaths per 100.000 individuals in a given country. \n",
    "\n",
    "**The World Bank**\n",
    "\n",
    "We are further enriching the data with GDP data from the World Bank in order to investigate whether cointries with lower GDP are experiencing higher concentrations of air pollution.  "
   ]
  },
  {
   "cell_type": "code",
   "execution_count": 6,
   "id": "17705b09",
   "metadata": {},
   "outputs": [
    {
     "data": {
      "text/html": [
       "\n",
       "    <div class=\"bk-root\">\n",
       "        <a href=\"https://bokeh.org\" target=\"_blank\" class=\"bk-logo bk-logo-small bk-logo-notebook\"></a>\n",
       "        <span id=\"1002\">Loading BokehJS ...</span>\n",
       "    </div>"
      ]
     },
     "metadata": {},
     "output_type": "display_data"
    },
    {
     "data": {
      "application/javascript": [
       "\n",
       "(function(root) {\n",
       "  function now() {\n",
       "    return new Date();\n",
       "  }\n",
       "\n",
       "  const force = true;\n",
       "\n",
       "  if (typeof root._bokeh_onload_callbacks === \"undefined\" || force === true) {\n",
       "    root._bokeh_onload_callbacks = [];\n",
       "    root._bokeh_is_loading = undefined;\n",
       "  }\n",
       "\n",
       "  const JS_MIME_TYPE = 'application/javascript';\n",
       "  const HTML_MIME_TYPE = 'text/html';\n",
       "  const EXEC_MIME_TYPE = 'application/vnd.bokehjs_exec.v0+json';\n",
       "  const CLASS_NAME = 'output_bokeh rendered_html';\n",
       "\n",
       "  /**\n",
       "   * Render data to the DOM node\n",
       "   */\n",
       "  function render(props, node) {\n",
       "    const script = document.createElement(\"script\");\n",
       "    node.appendChild(script);\n",
       "  }\n",
       "\n",
       "  /**\n",
       "   * Handle when an output is cleared or removed\n",
       "   */\n",
       "  function handleClearOutput(event, handle) {\n",
       "    const cell = handle.cell;\n",
       "\n",
       "    const id = cell.output_area._bokeh_element_id;\n",
       "    const server_id = cell.output_area._bokeh_server_id;\n",
       "    // Clean up Bokeh references\n",
       "    if (id != null && id in Bokeh.index) {\n",
       "      Bokeh.index[id].model.document.clear();\n",
       "      delete Bokeh.index[id];\n",
       "    }\n",
       "\n",
       "    if (server_id !== undefined) {\n",
       "      // Clean up Bokeh references\n",
       "      const cmd_clean = \"from bokeh.io.state import curstate; print(curstate().uuid_to_server['\" + server_id + \"'].get_sessions()[0].document.roots[0]._id)\";\n",
       "      cell.notebook.kernel.execute(cmd_clean, {\n",
       "        iopub: {\n",
       "          output: function(msg) {\n",
       "            const id = msg.content.text.trim();\n",
       "            if (id in Bokeh.index) {\n",
       "              Bokeh.index[id].model.document.clear();\n",
       "              delete Bokeh.index[id];\n",
       "            }\n",
       "          }\n",
       "        }\n",
       "      });\n",
       "      // Destroy server and session\n",
       "      const cmd_destroy = \"import bokeh.io.notebook as ion; ion.destroy_server('\" + server_id + \"')\";\n",
       "      cell.notebook.kernel.execute(cmd_destroy);\n",
       "    }\n",
       "  }\n",
       "\n",
       "  /**\n",
       "   * Handle when a new output is added\n",
       "   */\n",
       "  function handleAddOutput(event, handle) {\n",
       "    const output_area = handle.output_area;\n",
       "    const output = handle.output;\n",
       "\n",
       "    // limit handleAddOutput to display_data with EXEC_MIME_TYPE content only\n",
       "    if ((output.output_type != \"display_data\") || (!Object.prototype.hasOwnProperty.call(output.data, EXEC_MIME_TYPE))) {\n",
       "      return\n",
       "    }\n",
       "\n",
       "    const toinsert = output_area.element.find(\".\" + CLASS_NAME.split(' ')[0]);\n",
       "\n",
       "    if (output.metadata[EXEC_MIME_TYPE][\"id\"] !== undefined) {\n",
       "      toinsert[toinsert.length - 1].firstChild.textContent = output.data[JS_MIME_TYPE];\n",
       "      // store reference to embed id on output_area\n",
       "      output_area._bokeh_element_id = output.metadata[EXEC_MIME_TYPE][\"id\"];\n",
       "    }\n",
       "    if (output.metadata[EXEC_MIME_TYPE][\"server_id\"] !== undefined) {\n",
       "      const bk_div = document.createElement(\"div\");\n",
       "      bk_div.innerHTML = output.data[HTML_MIME_TYPE];\n",
       "      const script_attrs = bk_div.children[0].attributes;\n",
       "      for (let i = 0; i < script_attrs.length; i++) {\n",
       "        toinsert[toinsert.length - 1].firstChild.setAttribute(script_attrs[i].name, script_attrs[i].value);\n",
       "        toinsert[toinsert.length - 1].firstChild.textContent = bk_div.children[0].textContent\n",
       "      }\n",
       "      // store reference to server id on output_area\n",
       "      output_area._bokeh_server_id = output.metadata[EXEC_MIME_TYPE][\"server_id\"];\n",
       "    }\n",
       "  }\n",
       "\n",
       "  function register_renderer(events, OutputArea) {\n",
       "\n",
       "    function append_mime(data, metadata, element) {\n",
       "      // create a DOM node to render to\n",
       "      const toinsert = this.create_output_subarea(\n",
       "        metadata,\n",
       "        CLASS_NAME,\n",
       "        EXEC_MIME_TYPE\n",
       "      );\n",
       "      this.keyboard_manager.register_events(toinsert);\n",
       "      // Render to node\n",
       "      const props = {data: data, metadata: metadata[EXEC_MIME_TYPE]};\n",
       "      render(props, toinsert[toinsert.length - 1]);\n",
       "      element.append(toinsert);\n",
       "      return toinsert\n",
       "    }\n",
       "\n",
       "    /* Handle when an output is cleared or removed */\n",
       "    events.on('clear_output.CodeCell', handleClearOutput);\n",
       "    events.on('delete.Cell', handleClearOutput);\n",
       "\n",
       "    /* Handle when a new output is added */\n",
       "    events.on('output_added.OutputArea', handleAddOutput);\n",
       "\n",
       "    /**\n",
       "     * Register the mime type and append_mime function with output_area\n",
       "     */\n",
       "    OutputArea.prototype.register_mime_type(EXEC_MIME_TYPE, append_mime, {\n",
       "      /* Is output safe? */\n",
       "      safe: true,\n",
       "      /* Index of renderer in `output_area.display_order` */\n",
       "      index: 0\n",
       "    });\n",
       "  }\n",
       "\n",
       "  // register the mime type if in Jupyter Notebook environment and previously unregistered\n",
       "  if (root.Jupyter !== undefined) {\n",
       "    const events = require('base/js/events');\n",
       "    const OutputArea = require('notebook/js/outputarea').OutputArea;\n",
       "\n",
       "    if (OutputArea.prototype.mime_types().indexOf(EXEC_MIME_TYPE) == -1) {\n",
       "      register_renderer(events, OutputArea);\n",
       "    }\n",
       "  }\n",
       "\n",
       "  \n",
       "  if (typeof (root._bokeh_timeout) === \"undefined\" || force === true) {\n",
       "    root._bokeh_timeout = Date.now() + 5000;\n",
       "    root._bokeh_failed_load = false;\n",
       "  }\n",
       "\n",
       "  const NB_LOAD_WARNING = {'data': {'text/html':\n",
       "     \"<div style='background-color: #fdd'>\\n\"+\n",
       "     \"<p>\\n\"+\n",
       "     \"BokehJS does not appear to have successfully loaded. If loading BokehJS from CDN, this \\n\"+\n",
       "     \"may be due to a slow or bad network connection. Possible fixes:\\n\"+\n",
       "     \"</p>\\n\"+\n",
       "     \"<ul>\\n\"+\n",
       "     \"<li>re-rerun `output_notebook()` to attempt to load from CDN again, or</li>\\n\"+\n",
       "     \"<li>use INLINE resources instead, as so:</li>\\n\"+\n",
       "     \"</ul>\\n\"+\n",
       "     \"<code>\\n\"+\n",
       "     \"from bokeh.resources import INLINE\\n\"+\n",
       "     \"output_notebook(resources=INLINE)\\n\"+\n",
       "     \"</code>\\n\"+\n",
       "     \"</div>\"}};\n",
       "\n",
       "  function display_loaded() {\n",
       "    const el = document.getElementById(\"1002\");\n",
       "    if (el != null) {\n",
       "      el.textContent = \"BokehJS is loading...\";\n",
       "    }\n",
       "    if (root.Bokeh !== undefined) {\n",
       "      if (el != null) {\n",
       "        el.textContent = \"BokehJS \" + root.Bokeh.version + \" successfully loaded.\";\n",
       "      }\n",
       "    } else if (Date.now() < root._bokeh_timeout) {\n",
       "      setTimeout(display_loaded, 100)\n",
       "    }\n",
       "  }\n",
       "\n",
       "\n",
       "  function run_callbacks() {\n",
       "    try {\n",
       "      root._bokeh_onload_callbacks.forEach(function(callback) {\n",
       "        if (callback != null)\n",
       "          callback();\n",
       "      });\n",
       "    } finally {\n",
       "      delete root._bokeh_onload_callbacks\n",
       "    }\n",
       "    console.debug(\"Bokeh: all callbacks have finished\");\n",
       "  }\n",
       "\n",
       "  function load_libs(css_urls, js_urls, callback) {\n",
       "    if (css_urls == null) css_urls = [];\n",
       "    if (js_urls == null) js_urls = [];\n",
       "\n",
       "    root._bokeh_onload_callbacks.push(callback);\n",
       "    if (root._bokeh_is_loading > 0) {\n",
       "      console.debug(\"Bokeh: BokehJS is being loaded, scheduling callback at\", now());\n",
       "      return null;\n",
       "    }\n",
       "    if (js_urls == null || js_urls.length === 0) {\n",
       "      run_callbacks();\n",
       "      return null;\n",
       "    }\n",
       "    console.debug(\"Bokeh: BokehJS not loaded, scheduling load and callback at\", now());\n",
       "    root._bokeh_is_loading = css_urls.length + js_urls.length;\n",
       "\n",
       "    function on_load() {\n",
       "      root._bokeh_is_loading--;\n",
       "      if (root._bokeh_is_loading === 0) {\n",
       "        console.debug(\"Bokeh: all BokehJS libraries/stylesheets loaded\");\n",
       "        run_callbacks()\n",
       "      }\n",
       "    }\n",
       "\n",
       "    function on_error(url) {\n",
       "      console.error(\"failed to load \" + url);\n",
       "    }\n",
       "\n",
       "    for (let i = 0; i < css_urls.length; i++) {\n",
       "      const url = css_urls[i];\n",
       "      const element = document.createElement(\"link\");\n",
       "      element.onload = on_load;\n",
       "      element.onerror = on_error.bind(null, url);\n",
       "      element.rel = \"stylesheet\";\n",
       "      element.type = \"text/css\";\n",
       "      element.href = url;\n",
       "      console.debug(\"Bokeh: injecting link tag for BokehJS stylesheet: \", url);\n",
       "      document.body.appendChild(element);\n",
       "    }\n",
       "\n",
       "    for (let i = 0; i < js_urls.length; i++) {\n",
       "      const url = js_urls[i];\n",
       "      const element = document.createElement('script');\n",
       "      element.onload = on_load;\n",
       "      element.onerror = on_error.bind(null, url);\n",
       "      element.async = false;\n",
       "      element.src = url;\n",
       "      console.debug(\"Bokeh: injecting script tag for BokehJS library: \", url);\n",
       "      document.head.appendChild(element);\n",
       "    }\n",
       "  };\n",
       "\n",
       "  function inject_raw_css(css) {\n",
       "    const element = document.createElement(\"style\");\n",
       "    element.appendChild(document.createTextNode(css));\n",
       "    document.body.appendChild(element);\n",
       "  }\n",
       "\n",
       "  \n",
       "  const js_urls = [\"https://cdn.bokeh.org/bokeh/release/bokeh-2.4.1.min.js\", \"https://cdn.bokeh.org/bokeh/release/bokeh-gl-2.4.1.min.js\", \"https://cdn.bokeh.org/bokeh/release/bokeh-widgets-2.4.1.min.js\", \"https://cdn.bokeh.org/bokeh/release/bokeh-tables-2.4.1.min.js\", \"https://cdn.bokeh.org/bokeh/release/bokeh-mathjax-2.4.1.min.js\"];\n",
       "  const css_urls = [];\n",
       "  \n",
       "\n",
       "  const inline_js = [\n",
       "    function(Bokeh) {\n",
       "      Bokeh.set_log_level(\"info\");\n",
       "    },\n",
       "    function(Bokeh) {\n",
       "    \n",
       "    \n",
       "    }\n",
       "  ];\n",
       "\n",
       "  function run_inline_js() {\n",
       "    \n",
       "    if (root.Bokeh !== undefined || force === true) {\n",
       "      \n",
       "    for (let i = 0; i < inline_js.length; i++) {\n",
       "      inline_js[i].call(root, root.Bokeh);\n",
       "    }\n",
       "    if (force === true) {\n",
       "        display_loaded();\n",
       "      }} else if (Date.now() < root._bokeh_timeout) {\n",
       "      setTimeout(run_inline_js, 100);\n",
       "    } else if (!root._bokeh_failed_load) {\n",
       "      console.log(\"Bokeh: BokehJS failed to load within specified timeout.\");\n",
       "      root._bokeh_failed_load = true;\n",
       "    } else if (force !== true) {\n",
       "      const cell = $(document.getElementById(\"1002\")).parents('.cell').data().cell;\n",
       "      cell.output_area.append_execute_result(NB_LOAD_WARNING)\n",
       "    }\n",
       "\n",
       "  }\n",
       "\n",
       "  if (root._bokeh_is_loading === 0) {\n",
       "    console.debug(\"Bokeh: BokehJS loaded, going straight to plotting\");\n",
       "    run_inline_js();\n",
       "  } else {\n",
       "    load_libs(css_urls, js_urls, function() {\n",
       "      console.debug(\"Bokeh: BokehJS plotting callback run at\", now());\n",
       "      run_inline_js();\n",
       "    });\n",
       "  }\n",
       "}(window));"
      ],
      "application/vnd.bokehjs_load.v0+json": "\n(function(root) {\n  function now() {\n    return new Date();\n  }\n\n  const force = true;\n\n  if (typeof root._bokeh_onload_callbacks === \"undefined\" || force === true) {\n    root._bokeh_onload_callbacks = [];\n    root._bokeh_is_loading = undefined;\n  }\n\n  \n\n  \n  if (typeof (root._bokeh_timeout) === \"undefined\" || force === true) {\n    root._bokeh_timeout = Date.now() + 5000;\n    root._bokeh_failed_load = false;\n  }\n\n  const NB_LOAD_WARNING = {'data': {'text/html':\n     \"<div style='background-color: #fdd'>\\n\"+\n     \"<p>\\n\"+\n     \"BokehJS does not appear to have successfully loaded. If loading BokehJS from CDN, this \\n\"+\n     \"may be due to a slow or bad network connection. Possible fixes:\\n\"+\n     \"</p>\\n\"+\n     \"<ul>\\n\"+\n     \"<li>re-rerun `output_notebook()` to attempt to load from CDN again, or</li>\\n\"+\n     \"<li>use INLINE resources instead, as so:</li>\\n\"+\n     \"</ul>\\n\"+\n     \"<code>\\n\"+\n     \"from bokeh.resources import INLINE\\n\"+\n     \"output_notebook(resources=INLINE)\\n\"+\n     \"</code>\\n\"+\n     \"</div>\"}};\n\n  function display_loaded() {\n    const el = document.getElementById(\"1002\");\n    if (el != null) {\n      el.textContent = \"BokehJS is loading...\";\n    }\n    if (root.Bokeh !== undefined) {\n      if (el != null) {\n        el.textContent = \"BokehJS \" + root.Bokeh.version + \" successfully loaded.\";\n      }\n    } else if (Date.now() < root._bokeh_timeout) {\n      setTimeout(display_loaded, 100)\n    }\n  }\n\n\n  function run_callbacks() {\n    try {\n      root._bokeh_onload_callbacks.forEach(function(callback) {\n        if (callback != null)\n          callback();\n      });\n    } finally {\n      delete root._bokeh_onload_callbacks\n    }\n    console.debug(\"Bokeh: all callbacks have finished\");\n  }\n\n  function load_libs(css_urls, js_urls, callback) {\n    if (css_urls == null) css_urls = [];\n    if (js_urls == null) js_urls = [];\n\n    root._bokeh_onload_callbacks.push(callback);\n    if (root._bokeh_is_loading > 0) {\n      console.debug(\"Bokeh: BokehJS is being loaded, scheduling callback at\", now());\n      return null;\n    }\n    if (js_urls == null || js_urls.length === 0) {\n      run_callbacks();\n      return null;\n    }\n    console.debug(\"Bokeh: BokehJS not loaded, scheduling load and callback at\", now());\n    root._bokeh_is_loading = css_urls.length + js_urls.length;\n\n    function on_load() {\n      root._bokeh_is_loading--;\n      if (root._bokeh_is_loading === 0) {\n        console.debug(\"Bokeh: all BokehJS libraries/stylesheets loaded\");\n        run_callbacks()\n      }\n    }\n\n    function on_error(url) {\n      console.error(\"failed to load \" + url);\n    }\n\n    for (let i = 0; i < css_urls.length; i++) {\n      const url = css_urls[i];\n      const element = document.createElement(\"link\");\n      element.onload = on_load;\n      element.onerror = on_error.bind(null, url);\n      element.rel = \"stylesheet\";\n      element.type = \"text/css\";\n      element.href = url;\n      console.debug(\"Bokeh: injecting link tag for BokehJS stylesheet: \", url);\n      document.body.appendChild(element);\n    }\n\n    for (let i = 0; i < js_urls.length; i++) {\n      const url = js_urls[i];\n      const element = document.createElement('script');\n      element.onload = on_load;\n      element.onerror = on_error.bind(null, url);\n      element.async = false;\n      element.src = url;\n      console.debug(\"Bokeh: injecting script tag for BokehJS library: \", url);\n      document.head.appendChild(element);\n    }\n  };\n\n  function inject_raw_css(css) {\n    const element = document.createElement(\"style\");\n    element.appendChild(document.createTextNode(css));\n    document.body.appendChild(element);\n  }\n\n  \n  const js_urls = [\"https://cdn.bokeh.org/bokeh/release/bokeh-2.4.1.min.js\", \"https://cdn.bokeh.org/bokeh/release/bokeh-gl-2.4.1.min.js\", \"https://cdn.bokeh.org/bokeh/release/bokeh-widgets-2.4.1.min.js\", \"https://cdn.bokeh.org/bokeh/release/bokeh-tables-2.4.1.min.js\", \"https://cdn.bokeh.org/bokeh/release/bokeh-mathjax-2.4.1.min.js\"];\n  const css_urls = [];\n  \n\n  const inline_js = [\n    function(Bokeh) {\n      Bokeh.set_log_level(\"info\");\n    },\n    function(Bokeh) {\n    \n    \n    }\n  ];\n\n  function run_inline_js() {\n    \n    if (root.Bokeh !== undefined || force === true) {\n      \n    for (let i = 0; i < inline_js.length; i++) {\n      inline_js[i].call(root, root.Bokeh);\n    }\n    if (force === true) {\n        display_loaded();\n      }} else if (Date.now() < root._bokeh_timeout) {\n      setTimeout(run_inline_js, 100);\n    } else if (!root._bokeh_failed_load) {\n      console.log(\"Bokeh: BokehJS failed to load within specified timeout.\");\n      root._bokeh_failed_load = true;\n    } else if (force !== true) {\n      const cell = $(document.getElementById(\"1002\")).parents('.cell').data().cell;\n      cell.output_area.append_execute_result(NB_LOAD_WARNING)\n    }\n\n  }\n\n  if (root._bokeh_is_loading === 0) {\n    console.debug(\"Bokeh: BokehJS loaded, going straight to plotting\");\n    run_inline_js();\n  } else {\n    load_libs(css_urls, js_urls, function() {\n      console.debug(\"Bokeh: BokehJS plotting callback run at\", now());\n      run_inline_js();\n    });\n  }\n}(window));"
     },
     "metadata": {},
     "output_type": "display_data"
    }
   ],
   "source": [
    "### Importing modules for Part A\n",
    "#Import modules for data processing \n",
    "import pandas as pd\n",
    "import pycountry # To import pycountry you have to run \"pip install pycountry\" in your prompt\n",
    "import json\n",
    "import re\n",
    "import requests\n",
    "\n",
    "# Import modules for interactive vizualizations  \n",
    "from bokeh.io import push_notebook, show, output_notebook,reset_output,curdoc\n",
    "from bokeh.layouts import row,layout \n",
    "from bokeh.plotting import figure,output_file, save\n",
    "from bokeh.transform import factor_cmap\n",
    "from bokeh.models import  ColumnDataSource, Legend,HoverTool,LinearInterpolator\n",
    "from bokeh.models.widgets import Tabs, Panel\n",
    "import folium\n",
    "from folium import plugins\n",
    "from chart_studio import plotly  # To import plotly you have to run \"pip install plotly\" in your prompt\n",
    "import plotly  \n",
    "import plotly.graph_objs as go\n",
    "from plotly.subplots import make_subplots\n",
    "import plotly.express as px\n",
    "output_notebook()\n",
    "\n",
    "#import modules for data machine learning  \n",
    "from sklearn.ensemble import RandomForestRegressor\n",
    "import numpy as np\n",
    "from sklearn import metrics\n",
    "import matplotlib.pyplot as plt\n",
    "from sklearn.model_selection import train_test_split\n",
    "from sklearn.model_selection import RandomizedSearchCV\n",
    "from sklearn.model_selection import KFold\n",
    "from sklearn.metrics import mean_squared_error, explained_variance_score,max_error, mean_absolute_error, median_absolute_error, r2_score, mean_absolute_percentage_error\n",
    "import warnings\n",
    "from IPython.display import IFrame\n",
    "warnings.filterwarnings('ignore')"
   ]
  },
  {
   "cell_type": "markdown",
   "id": "9bf963d1",
   "metadata": {},
   "source": [
    "### 2.2 Preprocessing and data mining:\n",
    "<a name=\"preprocessing\"></a>\n",
    "All of the datasets are combined by their ISO codes. For countries without ISO-codes, we are determining the codes by using the python-package pycountry which makes it possible to convert country-names to other formats. "
   ]
  },
  {
   "cell_type": "code",
   "execution_count": 2,
   "id": "a57bf298",
   "metadata": {},
   "outputs": [],
   "source": [
    "#Read dataset from WHO with pollution levels\n",
    "who = pd.read_excel(\"https://github.com/KvantropologSofie/SocialData2022DTU/raw/main/WHO-data-global.xlsx\")\n",
    "\n",
    "# Defining the years we are interested in (We have pollution data for these years)\n",
    "years = [2011,2012,2013,2014,2015,2016,2017]\n",
    "\n",
    "# We subset the data to only contain data from these years \n",
    "who = who[who['Measurement Year'].isin(years)]\n",
    "\n",
    "# Reading data set containing deaths \n",
    "deaths = pd.read_csv('https://raw.githubusercontent.com/KvantropologSofie/SocialData2022DTU/main/deaths_owid.csv') \n",
    "\n",
    "#Dropping irrelevant collumns \n",
    "deaths = deaths.drop(columns = {'Year.1', \n",
    "                                'Deaths - Cause: All causes - Risk: Outdoor air pollution - OWID - Sex: Both - Age: Age-standardized (Rate).1'})\n",
    "\n",
    "# Fixing country codes to not have replicates\n",
    "deaths['Entity'] = deaths['Entity'].replace({'Republic of Vietnam: Vietnam'})\n",
    "\n",
    "# Removing Abknazia from the list of contries as it is not recognized by the modules we use \n",
    "deaths.drop(deaths[deaths.Code ==\"OWID_ABK\"].index, inplace=True)\n",
    "\n",
    "#Subsetting the dataframe based on years included in the original df:\n",
    "deaths = deaths[deaths.Year.isin(years)]\n",
    "\n",
    "#Creating function to getting full name of the countries in the pollutiondf:\n",
    "def get_full_country(value):\n",
    "    full_name = pycountry.countries.get(name=value)\n",
    "    try: \n",
    "        name = full_name.alpha_3\n",
    "    except:\n",
    "        name = 'NaN'\n",
    "    return name\n",
    "\n",
    "#Applying function to get full names of counties:\n",
    "deaths['Country_iso'] = deaths['Entity'].apply(get_full_country)\n",
    "\n",
    "#Merging the dfs together based on year and country-name:\n",
    "df = deaths.merge(who, left_on=['Country_iso', 'Year'], right_on=['ISO3', 'Measurement Year'], how='left')\n",
    "\n",
    "#Dropping redundant coulmns:\n",
    "df = df.drop(columns = {'Status', 'Version of the database','PM10 (μg/m3)', 'NO2 (μg/m3)'})\n",
    "\n",
    "df_agg = df.groupby(['Country_iso', 'Year','Entity'])[['PM2.5 (μg/m3)', 'Population (historical estimates)', 'Deaths - Cause: All causes - Risk: Outdoor air pollution - OWID - Sex: Both - Age: Age-standardized (Rate)']].mean().reset_index()\n",
    "\n",
    "# Enriching the data further with data from Our World in Data about pollution\n",
    "pollution2 = pd.read_csv('https://raw.githubusercontent.com/KvantropologSofie/SocialData2022DTU/main/PM25-air-pollution_owid.csv') \n",
    "\n",
    "# Selecting codes in data that we use fir merging\n",
    "codes = pollution2[['Code', 'Entity']]\n",
    "\n",
    "#Merging on country codes from pollution data and replacing NaNs\n",
    "df_agg = df_agg.merge(codes, left_on='Entity', right_on='Entity', how='right')\n",
    "df_agg['Country_iso'].fillna(df_agg['Code'], inplace = True)\n",
    "\n",
    "# Merging the rest of the pollution data on \n",
    "df_agg = df_agg.merge(pollution2, left_on=['Code', 'Year'], right_on=['Code', 'Year'], how='left')\n",
    "df_agg['PM2.5 (μg/m3)'].fillna(df_agg['PM2.5 air pollution, mean annual exposure (micrograms per cubic meter)'], inplace = True)\n",
    "\n",
    "# Removing duplicates \n",
    "df_agg['Code'].fillna(df_agg['Country_iso'], inplace = True)\n",
    "df_agg = df_agg.drop_duplicates()\n",
    "\n",
    "#Subsetting dataframe based on years:\n",
    "df_agg = df_agg[df_agg.Year.isin(years)]\n",
    "\n",
    "# Renaming variable to a shorter name \n",
    "df_agg = df_agg.rename(columns = {'Deaths - Cause: All causes - Risk: Outdoor air pollution - OWID - Sex: Both - Age: Age-standardized (Rate)':'Death_rate'})\n",
    "\n",
    "# defining s asubset containing years, country, population size, country iso, pollution and pollution deaths\n",
    "final_pol_global = df_agg[['Population (historical estimates)', 'Year', 'Code', 'PM2.5 (μg/m3)', 'Death_rate']]"
   ]
  },
  {
   "cell_type": "markdown",
   "id": "7fbc9e54",
   "metadata": {},
   "source": [
    "**Adding GDP to the dataframe**\n",
    "\n",
    "In the following section we are preprocessing the original data and adding it to our final dataframe."
   ]
  },
  {
   "cell_type": "code",
   "execution_count": 3,
   "id": "8a692fdc",
   "metadata": {},
   "outputs": [],
   "source": [
    "#Merging on GDP:\n",
    "gdp = pd.read_excel('https://github.com/KvantropologSofie/SocialData2022DTU/raw/main/gdp.xlsx') \n",
    "\n",
    "# Renaming columns \n",
    "gdp = gdp.rename(columns={\"1990 [YR1990]\": 1990,\"2000 [YR2000]\": 2000, '2011 [YR2011]': 2011, '2012 [YR2012]': 2012, \n",
    "                          '2013 [YR2013]': 2013, '2014 [YR2014]': 2014, '2015 [YR2015]': 2015, '2016 [YR2016]': 2016,\n",
    "                          '2017 [YR2017]': 2017, '2018 [YR2018]': 2018, '2019 [YR2019]': 2019, '2020 [YR2020]': 2020})\n",
    "\n",
    "# Using pd. melt to transform the year columns to one variable called year\n",
    "gdp_transformed = pd.melt(gdp, id_vars=[\"Country Name\", \"Country Code\" ,'Series Name', 'Series Code'], \n",
    "                  var_name=\"Year\", value_name=\"GDP\")\n",
    "\n",
    "# Subsetting the data to only include the years 2011-2017\n",
    "gdp_transformed = gdp_transformed[gdp_transformed.Year.isin([2011,2012,2013,2014,2015,2016,2017])]\n",
    "\n",
    "# Dropping irrelevant columns  and duplicates\n",
    "gdp_transformed = gdp_transformed.drop(columns={'Series Name', 'Series Code'})\n",
    "gdp_transformed = gdp_transformed.drop_duplicates()\n",
    "\n",
    "# Removing nans in country code\n",
    "gdp_transformed = gdp_transformed[gdp_transformed['Country Code'].notna()]\n",
    "\n",
    "# Merging GDP data to dataframe of pollution and populations \n",
    "final_pol_global = final_pol_global.merge(gdp_transformed, left_on=['Code', 'Year'],right_on=['Country Code', 'Year'], how='left')\n",
    "# Adding NaN where there are no availeble values for GDP\n",
    "final_pol_global.loc[final_pol_global.GDP == \"..\",\"GDP\"] = np.nan"
   ]
  },
  {
   "cell_type": "markdown",
   "id": "83d5fcb8",
   "metadata": {},
   "source": [
    "**Adding healthcare expenditures and cardiovascular disease rate to dataframe**"
   ]
  },
  {
   "cell_type": "code",
   "execution_count": 4,
   "id": "983e96e7",
   "metadata": {},
   "outputs": [],
   "source": [
    "# Reading the data sets and removing irrelevant columns\n",
    "healthcare = pd.read_csv('https://raw.githubusercontent.com/KvantropologSofie/SocialData2022DTU/main/total-healthcare-expenditure-gdp.csv') \n",
    "healthcare = healthcare.drop(columns = {'Entity'})\n",
    "cardi = pd.read_csv('https://raw.githubusercontent.com/KvantropologSofie/SocialData2022DTU/main/cardiovascular-disease-death-rates.csv') \n",
    "cardi = cardi.drop(columns = {'Entity'})\n",
    "\n",
    "# Merging the datasets to the dataset with pollution and gdp\n",
    "final_pol_global = final_pol_global.merge(healthcare, left_on=['Code', 'Year'], right_on=['Code', 'Year'], how='left')\n",
    "final_pol_global = final_pol_global.merge(cardi, left_on=['Code', 'Year'], right_on=['Code', 'Year'], how='left')\n",
    "\n",
    "# Renaming columns to have shorter names \n",
    "final_pol_global = final_pol_global.rename(columns={\"Population (historical estimates)\": \"Population\",\"Death_rate\":\"Air pollution death rate\", \"GDP\": \"GDP/capita\"})\n",
    "final_pol_global = final_pol_global.rename(columns={\"Indicator:Current health expenditure (CHE) as percentage of gross domestic product (GDP) (%)\":\"Health expenditure as a % of GDP\",\"Deaths - Cardiovascular diseases - Sex: Both - Age: Age-standardized (Rate)\":\"Cardiovascular disease death rate\",\"Deaths - Cause: All causes - Risk: Smoking - Sex: Both - Age: Age-standardized (Rate)\":\"Smoking death rate\"})\n",
    "\n",
    "#Remove Code NaN (from merged data corresponding to not countries)\n",
    "df_global_clean = final_pol_global[final_pol_global['Code']!='NaN']\n",
    "\n",
    "#Empty code corresponds to not countries - dropping these\n",
    "df_global_clean.dropna(subset=['Code'], inplace=True)\n",
    "\n",
    "#Dropping the grouping of OWID_WRL as this does not correspond to a country\n",
    "df_global_clean.drop(df_global_clean[df_global_clean.Code=='OWID_WRL'].index, inplace=True)\n",
    "\n",
    "# Manual check of populations in urban agglomerations of more than 1 million shows missing values to correspond \n",
    "# To smaller countries. Thus these missing values are made zero.\n",
    "# Updating empty indicator to be based on mean of other values for that country\n",
    "df_global_clean[\"Health expenditure as a % of GDP\"] = (df_global_clean[\"Health expenditure as a % of GDP\"].fillna(df_global_clean.groupby(\"Code\")[\"Health expenditure as a % of GDP\"].transform(\"mean\")))\n",
    "\n",
    "# If a country has no indicator listed ever, filling it with zero\n",
    "df_global_clean[\"Health expenditure as a % of GDP\"] = (df_global_clean[\"Health expenditure as a % of GDP\"].fillna(0))"
   ]
  },
  {
   "cell_type": "markdown",
   "id": "d14a9dd8",
   "metadata": {},
   "source": [
    "**Adding continent, adjusting GDP, and finalizing dataframe**"
   ]
  },
  {
   "cell_type": "code",
   "execution_count": 5,
   "id": "da9c66ba",
   "metadata": {},
   "outputs": [],
   "source": [
    "# Making values in column of GDP/per capita numeric \n",
    "df_global_clean[\"GDP/capita\"] = pd.to_numeric(df_global_clean[\"GDP/capita\"], downcast=\"float\")\n",
    "\n",
    "#updating empty GDP to be based on mean of other values for that country\n",
    "df_global_clean[\"GDP/capita\"] = (df_global_clean[\"GDP/capita\"].fillna(df_global_clean.groupby(\"Code\")[\"GDP/capita\"].transform(\"mean\")))\n",
    "\n",
    "#if a country has no GDP listed ever, dropping this country from the model\n",
    "df_global_clean.dropna(subset=['GDP/capita'], inplace=True)\n",
    "\n",
    "# Adding continent to final data frame by using the deaths dataframe\n",
    "maps=dict(list(pd.DataFrame(deaths.groupby(['Code','Continent']))[0]))\n",
    "\n",
    "# Addding Continent variable to dataframe \n",
    "df_global_clean['Continent']=(df_global_clean.Code.map(maps))\n",
    "\n",
    "# Dropping duplicated column\n",
    "df_global_clean = df_global_clean.drop(columns = {'Country Code'})"
   ]
  },
  {
   "cell_type": "markdown",
   "id": "420f09bb",
   "metadata": {},
   "source": [
    "### 2.3 Basic stats and exploration of the data:\n",
    "<a name=\"basicstats\"></a>\n",
    "\n",
    "The final dataset contains 1351 rows and 11 columns. In the dataset we have gathered information about 193 countries (all members of the UN), and a wide range of features related to economy and health. In this section we will explore the global dataset further by looking into each of the features included in the further analysis."
   ]
  },
  {
   "cell_type": "code",
   "execution_count": 6,
   "id": "fe491975",
   "metadata": {},
   "outputs": [
    {
     "name": "stdout",
     "output_type": "stream",
     "text": [
      "\n",
      "Shape of final dataframe:  (1351, 10)\n"
     ]
    },
    {
     "data": {
      "text/html": [
       "<div>\n",
       "<style scoped>\n",
       "    .dataframe tbody tr th:only-of-type {\n",
       "        vertical-align: middle;\n",
       "    }\n",
       "\n",
       "    .dataframe tbody tr th {\n",
       "        vertical-align: top;\n",
       "    }\n",
       "\n",
       "    .dataframe thead th {\n",
       "        text-align: right;\n",
       "    }\n",
       "</style>\n",
       "<table border=\"1\" class=\"dataframe\">\n",
       "  <thead>\n",
       "    <tr style=\"text-align: right;\">\n",
       "      <th></th>\n",
       "      <th>Population</th>\n",
       "      <th>Year</th>\n",
       "      <th>Code</th>\n",
       "      <th>PM2.5 (μg/m3)</th>\n",
       "      <th>Air pollution death rate</th>\n",
       "      <th>Country Name</th>\n",
       "      <th>GDP/capita</th>\n",
       "      <th>Health expenditure as a % of GDP</th>\n",
       "      <th>Cardiovascular disease death rate</th>\n",
       "      <th>Continent</th>\n",
       "    </tr>\n",
       "  </thead>\n",
       "  <tbody>\n",
       "    <tr>\n",
       "      <th>0</th>\n",
       "      <td>30117411.0</td>\n",
       "      <td>2011.0</td>\n",
       "      <td>AFG</td>\n",
       "      <td>66.835727</td>\n",
       "      <td>46.368422</td>\n",
       "      <td>Afghanistan</td>\n",
       "      <td>591.190002</td>\n",
       "      <td>8.56</td>\n",
       "      <td>628.086714</td>\n",
       "      <td>Asia</td>\n",
       "    </tr>\n",
       "    <tr>\n",
       "      <th>1</th>\n",
       "      <td>31161378.0</td>\n",
       "      <td>2012.0</td>\n",
       "      <td>AFG</td>\n",
       "      <td>66.023174</td>\n",
       "      <td>50.766174</td>\n",
       "      <td>Afghanistan</td>\n",
       "      <td>638.845825</td>\n",
       "      <td>7.90</td>\n",
       "      <td>618.448889</td>\n",
       "      <td>Asia</td>\n",
       "    </tr>\n",
       "    <tr>\n",
       "      <th>2</th>\n",
       "      <td>32269592.0</td>\n",
       "      <td>2013.0</td>\n",
       "      <td>AFG</td>\n",
       "      <td>61.366745</td>\n",
       "      <td>55.043697</td>\n",
       "      <td>Afghanistan</td>\n",
       "      <td>624.315430</td>\n",
       "      <td>8.81</td>\n",
       "      <td>607.686812</td>\n",
       "      <td>Asia</td>\n",
       "    </tr>\n",
       "    <tr>\n",
       "      <th>3</th>\n",
       "      <td>33370803.0</td>\n",
       "      <td>2014.0</td>\n",
       "      <td>AFG</td>\n",
       "      <td>59.010330</td>\n",
       "      <td>57.920728</td>\n",
       "      <td>Afghanistan</td>\n",
       "      <td>614.223328</td>\n",
       "      <td>9.53</td>\n",
       "      <td>600.550299</td>\n",
       "      <td>Asia</td>\n",
       "    </tr>\n",
       "    <tr>\n",
       "      <th>4</th>\n",
       "      <td>34413603.0</td>\n",
       "      <td>2015.0</td>\n",
       "      <td>AFG</td>\n",
       "      <td>61.252656</td>\n",
       "      <td>59.418035</td>\n",
       "      <td>Afghanistan</td>\n",
       "      <td>556.007202</td>\n",
       "      <td>10.11</td>\n",
       "      <td>597.019285</td>\n",
       "      <td>Asia</td>\n",
       "    </tr>\n",
       "  </tbody>\n",
       "</table>\n",
       "</div>"
      ],
      "text/plain": [
       "   Population    Year Code  PM2.5 (μg/m3)  Air pollution death rate  \\\n",
       "0  30117411.0  2011.0  AFG      66.835727                 46.368422   \n",
       "1  31161378.0  2012.0  AFG      66.023174                 50.766174   \n",
       "2  32269592.0  2013.0  AFG      61.366745                 55.043697   \n",
       "3  33370803.0  2014.0  AFG      59.010330                 57.920728   \n",
       "4  34413603.0  2015.0  AFG      61.252656                 59.418035   \n",
       "\n",
       "  Country Name  GDP/capita  Health expenditure as a % of GDP  \\\n",
       "0  Afghanistan  591.190002                              8.56   \n",
       "1  Afghanistan  638.845825                              7.90   \n",
       "2  Afghanistan  624.315430                              8.81   \n",
       "3  Afghanistan  614.223328                              9.53   \n",
       "4  Afghanistan  556.007202                             10.11   \n",
       "\n",
       "   Cardiovascular disease death rate Continent  \n",
       "0                         628.086714      Asia  \n",
       "1                         618.448889      Asia  \n",
       "2                         607.686812      Asia  \n",
       "3                         600.550299      Asia  \n",
       "4                         597.019285      Asia  "
      ]
     },
     "execution_count": 6,
     "metadata": {},
     "output_type": "execute_result"
    }
   ],
   "source": [
    "# Printing the shape of our final cleaned dataset\n",
    "print('\\nShape of final dataframe: ',df_global_clean.shape)\n",
    "\n",
    "# Printing head of dataframe\n",
    "df_global_clean.head()"
   ]
  },
  {
   "cell_type": "code",
   "execution_count": 7,
   "id": "a73319dc",
   "metadata": {},
   "outputs": [],
   "source": [
    "# Reading data (Same data as processed above)\n",
    "df_global_clean = pd.read_csv('https://raw.githubusercontent.com/KvantropologSofie/SocialData2022DTU/main/clean_global_dataframe.csv')"
   ]
  },
  {
   "cell_type": "markdown",
   "id": "28f978d6",
   "metadata": {},
   "source": [
    "**Boxplots of key features**\n",
    "\n",
    "From the boxplots presented in Figure 1, we can examine the dispersion of data within four variables in our dataset: Pollution of $PM_{2.5}$, Air pollution death rates, GDPR per capita, and health expenditures. We plotted the mean values over the years in the dataset for each country. By hovering over the data points, we see the specific country and specific value, and when hovering over the boxplot, information about values for median, quartile, max, min, and fences are shown.\n",
    "\n",
    "For the first boxplot of air pollution in$PM_{2.5}$, we see that the median is 24 μg/m3 which is far beyond the WHO limit of 5 μg/m3 (https://www.who.int/news-room/feature-stories/detail/what-are-the-who-air-quality-guidelines). From the lower bound, we see that no countries are on average below the recommended level. Whereas most countries have air pollution levels below 40 μg, we see that there is a big distance between the third quartile and the upper fence, and there are even several outliers with pollution levels above the upper fence with the maximum value being 87,76 for Mongolia. This indicates that the air pollution levels differ widely across countries, especially concerning the higher levels where some countries experience extremely high concentrations of air pollution.\n",
    "\n",
    "The second boxplot represents air pollution death rates measured as the number of deaths per 100,000 people in a given country. With this boxplot, we see a distribution that looks like the one in the first boxplot. Whereas 75% of the observations are below 64 which is within the third quartile. Like the previous boxplot, the values above the third quartiles are more dispersed with values stretching up to 197.4. Thus we see from this, that the health consequences of air pollution are very unequally dispersed, with some countries experiencing much higher death rates than others.\n",
    "\n",
    "The third boxplot is GDP (Gross Domestic Product) per capita in USD for the countries. Here we see that the observations are united at the bottom of the boxplot with 75 percent of the observations below 16,400 USD. Here the variation in observation for the last quartile is huge and stretches up to the max value of 113,872.57 USD for Luxembourg. The median is 5,959.159 $ which is nearly a third of the value for the third quartile. Thus the economic inequality is very visible from the boxplot above.\n",
    "\n",
    "The fourth boxplot is the percent of health expenditures from the GDP. Here the median is 5.646 % whereas the min is 0 and the max is 16.4% (United States). The zero might correspond to missing values. We see that 75% of the world's countries spend less than 7.8% of their GDP on health care.\n",
    "\n",
    "Overall, we infer from the boxplots that there are huge inequalities present in the dispersion of all of these features. The diffusion of air pollution differs widely, and the consequences are furthermore unevenly distributed. Now we will dive deeper into how the pollution is dispersed and how it has changed between 2011 and 2017."
   ]
  },
  {
   "cell_type": "code",
   "execution_count": 9,
   "id": "de33bb2e",
   "metadata": {},
   "outputs": [],
   "source": [
    "### Creating boxplot of chosen variables\n",
    "\n",
    "# Grouping dataframe across countries in all years\n",
    "df_mean_across_years=df_global_clean.groupby(['Country Name']).mean().reset_index()\n",
    "\n",
    "# Defining variables that we use in boxplot \n",
    "vars = ['PM2.5 (μg/m3)','Air pollution death rate', 'GDP/capita', \n",
    "        'Health expenditure as a % of GDP']\n",
    "\n",
    "# Initiating figure and making subfigures \n",
    "fig = make_subplots(rows=1, cols=len(vars))\n",
    "\n",
    "# Looping over variables \n",
    "for i, var in enumerate(vars):\n",
    "    \n",
    "# Making boxplot for each variable by using dataframe defined above. Defining position of each boxplot \n",
    "    fig.add_trace(go.Box(y=df_mean_across_years[vars[i]],name=var, customdata = np.stack((df_mean_across_years['Country Name'],\n",
    "                                                                            df_mean_across_years[var].round(2)),axis=-1),\n",
    "                         hovertemplate=('Country: %{customdata[0]}<br>' + '%{customdata[1]}<br>') ),row=1, col=i+1)\n",
    "    \n",
    "# Including datapoints in graph and also jitter so the points don't overlap  \n",
    "fig.update_traces(boxpoints='all', jitter=0.7)\n",
    "\n",
    "# Defining layout with title and color scheme\n",
    "fig.update_layout(title_text=\"Figure 1 - Boxplots: Distribution of features included in the analysis for all countries\",\n",
    "                  colorway =[\"#fcbba1\",\"#fb6a4a\",\"#cb181d\",\"#a50f15\"],\n",
    "    font_family=\"Times New Roman\",\n",
    "    title_font_family=\"Times New Roman\",\n",
    "    xaxis=dict(showgrid=False, zeroline=False, showticklabels=False),\n",
    "    yaxis=dict(zeroline=False, gridcolor='white'),\n",
    "    plot_bgcolor='#f5f5f5')\n",
    "fig\n",
    "# Saving HTML to use for Website\n",
    "#plotly.offline.plot(fig, auto_open=True,filename='Boxplots_global_features.html', validate=True)"
   ]
  },
  {
   "cell_type": "markdown",
   "id": "624da8e8",
   "metadata": {},
   "source": [
    "### **RUN THE CELL BELOW TO SEE VISUALIZATION**"
   ]
  },
  {
   "cell_type": "code",
   "execution_count": 14,
   "id": "3d904a38",
   "metadata": {},
   "outputs": [
    {
     "data": {
      "text/html": [
       "\n",
       "        <iframe\n",
       "            width=\"1000\"\n",
       "            height=\"750\"\n",
       "            src=\"https://rawcdn.githack.com/KvantropologSofie/socialdata2022.io/8da5418d1fe64920d241ea779d64130ed9f172f2/Boxplots_global_features.html\"\n",
       "            frameborder=\"0\"\n",
       "            allowfullscreen\n",
       "            \n",
       "        ></iframe>\n",
       "        "
      ],
      "text/plain": [
       "<IPython.lib.display.IFrame at 0x1811ed2abe0>"
      ]
     },
     "execution_count": 14,
     "metadata": {},
     "output_type": "execute_result"
    }
   ],
   "source": [
    "from IPython.display import IFrame\n",
    "\n",
    "# Displaying air pollution in Denmark\n",
    "IFrame(src=\"https://rawcdn.githack.com/KvantropologSofie/socialdata2022.io/8da5418d1fe64920d241ea779d64130ed9f172f2/Boxplots_global_features.html\", width=1000, height=750)"
   ]
  },
  {
   "cell_type": "markdown",
   "id": "66807737",
   "metadata": {},
   "source": [
    "### 2.4 Data analysis:\n",
    "<a name=\"dataanalysis\"></a>\n",
    "In the following sections we are looking further into patterns in the data and exploring possible relations between pollution and factors related to the health and economy of the countries. "
   ]
  },
  {
   "cell_type": "markdown",
   "id": "1398739b",
   "metadata": {},
   "source": [
    "**2.4.1 Mapping exposure to pollution over time**\n",
    "\n",
    "In Figure 2 we have plotted the levels of $PM_{2.5}$ on country level in the years 2011 to 2017. With the slider below the map, you can move through the years by dragging the handle with your mouse. You can also zoom in on areas to better be able to see the country-wise differences in pollution levels. Furthermore, by hovering over a country, you see the name of that country and the specific air pollution level for the year chosen. The pollution scale on the right side covers the levels from 10 $μg/m^{3}$ where the color is light red and 100 where it is darkest. \n",
    "\n",
    "The colors change a little bit for many of the countries everytime we change the years. Overall, we infer from the map that the pollution levels are highest in Asian and African countries. Here, countries such as India, Mongolia, and China stand out with particularly high concentrations of pollution in Central Asia, while countries located in the Arabian Peninsula also experience high concentrations. Countries located in the northern part of Africa is furthermore exposed to high concentrations. Especially Madagascar, which is experiencing big changes in the pollution levels going from 8 to 128 $μg/m^{3}$ in just two years. This might very well be a data error/bias as it seems unrealistic that pollution levels can change that much in one country, even with increasing ship fare. \n",
    "\n"
   ]
  },
  {
   "cell_type": "code",
   "execution_count": 11,
   "id": "5a8b3bd2",
   "metadata": {},
   "outputs": [],
   "source": [
    "### Mapping pollution levels \n",
    "\n",
    "# Setting min year in our dataset\n",
    "year = 2011\n",
    "\n",
    "# Setting color-scale of Reds\n",
    "scl=[[0.0, '#fee0d2'],[0.166, '#fcbba1'],[0.333, '#fc9272'],\n",
    "       [0.5, '#fb6a4a'],[0.6666, '#ef3b2c'],[0.8333, '#cb181d'],[1.0, '#67000d']] # Reds\n",
    "\n",
    "#Defining a dataslider - This is a list with dicts for each year that the slider goes through \n",
    "data_slider = [] \n",
    "\n",
    "# Mappimg over all years\n",
    "for year in df_global_clean['Year'].unique():\n",
    "    \n",
    "    # Creating a dataframe for each year\n",
    "    df_year = df_global_clean[df_global_clean['Year'] == year]\n",
    "\n",
    "    # Looping over each column in the new data frame \n",
    "    for col in df_year.columns:\n",
    "        df_year[col] = df_year[col].astype(str)\n",
    "    \n",
    "    # Creating a dict for each year with attiubutes for the map\n",
    "    data_one_year = dict(\n",
    "                        type='choropleth', # Type of map\n",
    "                        locations = df_year['Country Name'], #Location on map\n",
    "                        z=df_year['PM2.5 (μg/m3)'].astype(float), # Defining value that we are mapping\n",
    "                        zmin=10, # Defining the lower bound of the scale to be used\n",
    "                        zmax=100, # Defining upper bound\n",
    "                        locationmode='country names', # Setting location to search for country names\n",
    "                        colorscale = scl, # Applying colorscale from earlier\n",
    "                        colorbar_title='Pollution PM2.5 (μg/m3)', # Setting title and adjusting colorbar\n",
    "                        colorbar=dict(thickness=25, thicknessmode=\"pixels\", len=1.2, lenmode=\"fraction\") \n",
    "                        )\n",
    "#     Appending a dict with data for each year to list  \n",
    "    data_slider.append(data_one_year)\n",
    "\n",
    "# Initiating steps that the slider will take. This is a dict for each step/year to style the sluder\n",
    "steps = []\n",
    "\n",
    "for i in range(len(data_slider)):\n",
    "    step = dict(method='restyle', #With every step there is a new style \n",
    "                args=['visible', [False] * len(data_slider)], # Adjusting number of steps\n",
    "                label='Year: {}'.format(i + 2011)) # Setting lael for each step on the slider\n",
    "    step['args'][1][i] = True\n",
    "    steps.append(step)\n",
    "\n",
    "# Setting information for slider with time steps \n",
    "sliders = [dict(active=0, pad={\"b\":10,\"t\": 50},currentvalue= {'font': {'size': 17},\"prefix\": \"Current \",\n",
    "'visible': True,'xanchor': 'right'},transition= {\"duration\": 300, \"easing\": \"cubic-in-out\"},steps=steps)] \n",
    "\n",
    "# Defining layout for map. This includes the information for slider and also formatting \n",
    "layout = dict(title ={'text':'Figure 2: PM2.5 Pollution levels from 2011-2017','x':0.22,'font':{'size': 20}},geo=dict(scope='world',\n",
    "                       showcountries = True,showframe=True,showcoastlines=False,projection={'type': 'natural earth'}),\n",
    "              sliders=sliders)\n",
    "\n",
    "# Creating the figure with information from data slider and layout \n",
    "fig = dict(data=data_slider, layout=layout)\n",
    "\n",
    "# Plotting figure\n",
    "plotly.offline.iplot(fig, show_link = True, image_width=1000,image_height=800,)\n",
    "\n",
    "fig\n",
    "# Saving plot\n",
    "plotly.offline.plot(fig, auto_open=False,filename='map_word_apollution_slider.html', validate=True)\n"
   ]
  },
  {
   "cell_type": "markdown",
   "id": "59eb7c70",
   "metadata": {},
   "source": [
    "### **RUN THE CELL BELOW TO SEE VISUALIZATION**"
   ]
  },
  {
   "cell_type": "code",
   "execution_count": 13,
   "id": "e08fb682",
   "metadata": {},
   "outputs": [
    {
     "data": {
      "text/html": [
       "\n",
       "        <iframe\n",
       "            width=\"1000\"\n",
       "            height=\"750\"\n",
       "            src=\"https://rawcdn.githack.com/KvantropologSofie/socialdata2022.io/e277416e7c642c7226aa1129fd0b718e5f6d7af9/pictures%20and%20titles/map_word_apollution_slider.html\"\n",
       "            frameborder=\"0\"\n",
       "            allowfullscreen\n",
       "            \n",
       "        ></iframe>\n",
       "        "
      ],
      "text/plain": [
       "<IPython.lib.display.IFrame at 0x1811ed2acd0>"
      ]
     },
     "execution_count": 13,
     "metadata": {},
     "output_type": "execute_result"
    }
   ],
   "source": [
    "from IPython.display import IFrame\n",
    "\n",
    "# Displaying air pollution in Denmark\n",
    "IFrame(src=\"https://rawcdn.githack.com/KvantropologSofie/socialdata2022.io/e277416e7c642c7226aa1129fd0b718e5f6d7af9/pictures%20and%20titles/map_word_apollution_slider.html\", width=1000, height=750)"
   ]
  },
  {
   "cell_type": "markdown",
   "id": "d7e09ca6",
   "metadata": {},
   "source": [
    "**2.4.2 Line plot of pollution levels across time for each country**\n",
    "\n",
    "Figure 3 represents the development in mean of air pollution across the years from 2011 to 2017 for each continent. When you hover over the line it shows you which continent the line represent and what the concentration of $PM_{2.5}$ is for respective continent the respective year.\n",
    "\n",
    "For four continents, Oceania, Asia, Europe, North and South America, the concentrations of $PM_{2.5}$ have decreased from 2011 to 2017. However, for Africa the mean pollution level has increased slightly from 35.4 $μg/m^{3}$ to 39.7 $μg/m^{3}$. As we could also see from the global map, Asia and Africa experience the highest concentrations of pollution. From 2011 to 2015 Asia had the highest air pollution levels, but between 2015 and 2016 the lines of respectively Asia and Africa intersect, and then in 2016 and 2017, it is Africa that has the highest levels of air pollution with $PM_{2.5}$globally. \n",
    "\n",
    "The lowest levels are in Oceania and then Europe, where the mean pollution levels are below 20 $μg/m^{3}$ for the entire period. Thus the two continents that have the highest levels of air pollution, Africa and Asia, have approximately twice as much pollution as the two continents with the lowest concentrations of pollution."
   ]
  },
  {
   "cell_type": "code",
   "execution_count": 11,
   "id": "e0434d05",
   "metadata": {},
   "outputs": [
    {
     "data": {
      "application/vnd.plotly.v1+json": {
       "config": {
        "plotlyServerURL": "https://plot.ly"
       },
       "data": [
        {
         "hovertemplate": "Continent=Africa<br>Year=%{x}<br>PM2.5 (μg/m3)=%{y}<extra></extra>",
         "legendgroup": "Africa",
         "line": {
          "color": "#fee0d2",
          "dash": "solid"
         },
         "marker": {
          "symbol": "circle"
         },
         "mode": "lines",
         "name": "Africa",
         "orientation": "v",
         "showlegend": true,
         "type": "scatter",
         "x": [
          2011,
          2012,
          2013,
          2014,
          2015,
          2016,
          2017
         ],
         "xaxis": "x",
         "y": [
          35.34021210120918,
          35.856943996103794,
          35.643708032324824,
          34.091183102180075,
          38.57716840166091,
          38.17927682397093,
          39.718991221323726
         ],
         "yaxis": "y"
        },
        {
         "hovertemplate": "Continent=Asia<br>Year=%{x}<br>PM2.5 (μg/m3)=%{y}<extra></extra>",
         "legendgroup": "Asia",
         "line": {
          "color": "#fcbba1",
          "dash": "solid"
         },
         "marker": {
          "symbol": "circle"
         },
         "mode": "lines",
         "name": "Asia",
         "orientation": "v",
         "showlegend": true,
         "type": "scatter",
         "x": [
          2011,
          2012,
          2013,
          2014,
          2015,
          2016,
          2017
         ],
         "xaxis": "x",
         "y": [
          44.02608371813121,
          42.259864433969604,
          40.02393948411261,
          38.821730570631196,
          40.21714123668367,
          34.45694340403623,
          36.248868458167806
         ],
         "yaxis": "y"
        },
        {
         "hovertemplate": "Continent=Europe<br>Year=%{x}<br>PM2.5 (μg/m3)=%{y}<extra></extra>",
         "legendgroup": "Europe",
         "line": {
          "color": "#fc9272",
          "dash": "solid"
         },
         "marker": {
          "symbol": "circle"
         },
         "mode": "lines",
         "name": "Europe",
         "orientation": "v",
         "showlegend": true,
         "type": "scatter",
         "x": [
          2011,
          2012,
          2013,
          2014,
          2015,
          2016,
          2017
         ],
         "xaxis": "x",
         "y": [
          17.87496834551686,
          16.503194341941402,
          16.237030720678497,
          15.244450571368,
          15.426065054431778,
          14.720080095326896,
          15.069732129174682
         ],
         "yaxis": "y"
        },
        {
         "hovertemplate": "Continent=North America<br>Year=%{x}<br>PM2.5 (μg/m3)=%{y}<extra></extra>",
         "legendgroup": "North America",
         "line": {
          "color": "#fb6a4a",
          "dash": "solid"
         },
         "marker": {
          "symbol": "circle"
         },
         "mode": "lines",
         "name": "North America",
         "orientation": "v",
         "showlegend": true,
         "type": "scatter",
         "x": [
          2011,
          2012,
          2013,
          2014,
          2015,
          2016,
          2017
         ],
         "xaxis": "x",
         "y": [
          21.78199962443688,
          20.991461131631123,
          21.53538472715896,
          19.45723760875631,
          19.242446594113655,
          16.851440782256468,
          16.877368135701225
         ],
         "yaxis": "y"
        },
        {
         "hovertemplate": "Continent=Oceania<br>Year=%{x}<br>PM2.5 (μg/m3)=%{y}<extra></extra>",
         "legendgroup": "Oceania",
         "line": {
          "color": "#ef3b2c",
          "dash": "solid"
         },
         "marker": {
          "symbol": "circle"
         },
         "mode": "lines",
         "name": "Oceania",
         "orientation": "v",
         "showlegend": true,
         "type": "scatter",
         "x": [
          2011,
          2012,
          2013,
          2014,
          2015,
          2016,
          2017
         ],
         "xaxis": "x",
         "y": [
          13.432297055843302,
          13.001499237192435,
          12.033325442548833,
          11.184081304257992,
          11.059690110394394,
          10.784223896006596,
          10.987785772890204
         ],
         "yaxis": "y"
        },
        {
         "hovertemplate": "Continent=South America<br>Year=%{x}<br>PM2.5 (μg/m3)=%{y}<extra></extra>",
         "legendgroup": "South America",
         "line": {
          "color": "#cb181d",
          "dash": "solid"
         },
         "marker": {
          "symbol": "circle"
         },
         "mode": "lines",
         "name": "South America",
         "orientation": "v",
         "showlegend": true,
         "type": "scatter",
         "x": [
          2011,
          2012,
          2013,
          2014,
          2015,
          2016,
          2017
         ],
         "xaxis": "x",
         "y": [
          22.550619003175324,
          21.531982993626325,
          21.58734491947058,
          19.81264318133523,
          19.541502441566394,
          18.348091113820946,
          17.216237665222057
         ],
         "yaxis": "y"
        }
       ],
       "layout": {
        "font": {
         "family": "Times New Roman"
        },
        "height": 500,
        "legend": {
         "title": {
          "text": "Continent"
         },
         "tracegroupgap": 0
        },
        "plot_bgcolor": "#f5f5f5",
        "template": {
         "data": {
          "bar": [
           {
            "error_x": {
             "color": "#2a3f5f"
            },
            "error_y": {
             "color": "#2a3f5f"
            },
            "marker": {
             "line": {
              "color": "#E5ECF6",
              "width": 0.5
             },
             "pattern": {
              "fillmode": "overlay",
              "size": 10,
              "solidity": 0.2
             }
            },
            "type": "bar"
           }
          ],
          "barpolar": [
           {
            "marker": {
             "line": {
              "color": "#E5ECF6",
              "width": 0.5
             },
             "pattern": {
              "fillmode": "overlay",
              "size": 10,
              "solidity": 0.2
             }
            },
            "type": "barpolar"
           }
          ],
          "carpet": [
           {
            "aaxis": {
             "endlinecolor": "#2a3f5f",
             "gridcolor": "white",
             "linecolor": "white",
             "minorgridcolor": "white",
             "startlinecolor": "#2a3f5f"
            },
            "baxis": {
             "endlinecolor": "#2a3f5f",
             "gridcolor": "white",
             "linecolor": "white",
             "minorgridcolor": "white",
             "startlinecolor": "#2a3f5f"
            },
            "type": "carpet"
           }
          ],
          "choropleth": [
           {
            "colorbar": {
             "outlinewidth": 0,
             "ticks": ""
            },
            "type": "choropleth"
           }
          ],
          "contour": [
           {
            "colorbar": {
             "outlinewidth": 0,
             "ticks": ""
            },
            "colorscale": [
             [
              0,
              "#0d0887"
             ],
             [
              0.1111111111111111,
              "#46039f"
             ],
             [
              0.2222222222222222,
              "#7201a8"
             ],
             [
              0.3333333333333333,
              "#9c179e"
             ],
             [
              0.4444444444444444,
              "#bd3786"
             ],
             [
              0.5555555555555556,
              "#d8576b"
             ],
             [
              0.6666666666666666,
              "#ed7953"
             ],
             [
              0.7777777777777778,
              "#fb9f3a"
             ],
             [
              0.8888888888888888,
              "#fdca26"
             ],
             [
              1,
              "#f0f921"
             ]
            ],
            "type": "contour"
           }
          ],
          "contourcarpet": [
           {
            "colorbar": {
             "outlinewidth": 0,
             "ticks": ""
            },
            "type": "contourcarpet"
           }
          ],
          "heatmap": [
           {
            "colorbar": {
             "outlinewidth": 0,
             "ticks": ""
            },
            "colorscale": [
             [
              0,
              "#0d0887"
             ],
             [
              0.1111111111111111,
              "#46039f"
             ],
             [
              0.2222222222222222,
              "#7201a8"
             ],
             [
              0.3333333333333333,
              "#9c179e"
             ],
             [
              0.4444444444444444,
              "#bd3786"
             ],
             [
              0.5555555555555556,
              "#d8576b"
             ],
             [
              0.6666666666666666,
              "#ed7953"
             ],
             [
              0.7777777777777778,
              "#fb9f3a"
             ],
             [
              0.8888888888888888,
              "#fdca26"
             ],
             [
              1,
              "#f0f921"
             ]
            ],
            "type": "heatmap"
           }
          ],
          "heatmapgl": [
           {
            "colorbar": {
             "outlinewidth": 0,
             "ticks": ""
            },
            "colorscale": [
             [
              0,
              "#0d0887"
             ],
             [
              0.1111111111111111,
              "#46039f"
             ],
             [
              0.2222222222222222,
              "#7201a8"
             ],
             [
              0.3333333333333333,
              "#9c179e"
             ],
             [
              0.4444444444444444,
              "#bd3786"
             ],
             [
              0.5555555555555556,
              "#d8576b"
             ],
             [
              0.6666666666666666,
              "#ed7953"
             ],
             [
              0.7777777777777778,
              "#fb9f3a"
             ],
             [
              0.8888888888888888,
              "#fdca26"
             ],
             [
              1,
              "#f0f921"
             ]
            ],
            "type": "heatmapgl"
           }
          ],
          "histogram": [
           {
            "marker": {
             "pattern": {
              "fillmode": "overlay",
              "size": 10,
              "solidity": 0.2
             }
            },
            "type": "histogram"
           }
          ],
          "histogram2d": [
           {
            "colorbar": {
             "outlinewidth": 0,
             "ticks": ""
            },
            "colorscale": [
             [
              0,
              "#0d0887"
             ],
             [
              0.1111111111111111,
              "#46039f"
             ],
             [
              0.2222222222222222,
              "#7201a8"
             ],
             [
              0.3333333333333333,
              "#9c179e"
             ],
             [
              0.4444444444444444,
              "#bd3786"
             ],
             [
              0.5555555555555556,
              "#d8576b"
             ],
             [
              0.6666666666666666,
              "#ed7953"
             ],
             [
              0.7777777777777778,
              "#fb9f3a"
             ],
             [
              0.8888888888888888,
              "#fdca26"
             ],
             [
              1,
              "#f0f921"
             ]
            ],
            "type": "histogram2d"
           }
          ],
          "histogram2dcontour": [
           {
            "colorbar": {
             "outlinewidth": 0,
             "ticks": ""
            },
            "colorscale": [
             [
              0,
              "#0d0887"
             ],
             [
              0.1111111111111111,
              "#46039f"
             ],
             [
              0.2222222222222222,
              "#7201a8"
             ],
             [
              0.3333333333333333,
              "#9c179e"
             ],
             [
              0.4444444444444444,
              "#bd3786"
             ],
             [
              0.5555555555555556,
              "#d8576b"
             ],
             [
              0.6666666666666666,
              "#ed7953"
             ],
             [
              0.7777777777777778,
              "#fb9f3a"
             ],
             [
              0.8888888888888888,
              "#fdca26"
             ],
             [
              1,
              "#f0f921"
             ]
            ],
            "type": "histogram2dcontour"
           }
          ],
          "mesh3d": [
           {
            "colorbar": {
             "outlinewidth": 0,
             "ticks": ""
            },
            "type": "mesh3d"
           }
          ],
          "parcoords": [
           {
            "line": {
             "colorbar": {
              "outlinewidth": 0,
              "ticks": ""
             }
            },
            "type": "parcoords"
           }
          ],
          "pie": [
           {
            "automargin": true,
            "type": "pie"
           }
          ],
          "scatter": [
           {
            "fillpattern": {
             "fillmode": "overlay",
             "size": 10,
             "solidity": 0.2
            },
            "type": "scatter"
           }
          ],
          "scatter3d": [
           {
            "line": {
             "colorbar": {
              "outlinewidth": 0,
              "ticks": ""
             }
            },
            "marker": {
             "colorbar": {
              "outlinewidth": 0,
              "ticks": ""
             }
            },
            "type": "scatter3d"
           }
          ],
          "scattercarpet": [
           {
            "marker": {
             "colorbar": {
              "outlinewidth": 0,
              "ticks": ""
             }
            },
            "type": "scattercarpet"
           }
          ],
          "scattergeo": [
           {
            "marker": {
             "colorbar": {
              "outlinewidth": 0,
              "ticks": ""
             }
            },
            "type": "scattergeo"
           }
          ],
          "scattergl": [
           {
            "marker": {
             "colorbar": {
              "outlinewidth": 0,
              "ticks": ""
             }
            },
            "type": "scattergl"
           }
          ],
          "scattermapbox": [
           {
            "marker": {
             "colorbar": {
              "outlinewidth": 0,
              "ticks": ""
             }
            },
            "type": "scattermapbox"
           }
          ],
          "scatterpolar": [
           {
            "marker": {
             "colorbar": {
              "outlinewidth": 0,
              "ticks": ""
             }
            },
            "type": "scatterpolar"
           }
          ],
          "scatterpolargl": [
           {
            "marker": {
             "colorbar": {
              "outlinewidth": 0,
              "ticks": ""
             }
            },
            "type": "scatterpolargl"
           }
          ],
          "scatterternary": [
           {
            "marker": {
             "colorbar": {
              "outlinewidth": 0,
              "ticks": ""
             }
            },
            "type": "scatterternary"
           }
          ],
          "surface": [
           {
            "colorbar": {
             "outlinewidth": 0,
             "ticks": ""
            },
            "colorscale": [
             [
              0,
              "#0d0887"
             ],
             [
              0.1111111111111111,
              "#46039f"
             ],
             [
              0.2222222222222222,
              "#7201a8"
             ],
             [
              0.3333333333333333,
              "#9c179e"
             ],
             [
              0.4444444444444444,
              "#bd3786"
             ],
             [
              0.5555555555555556,
              "#d8576b"
             ],
             [
              0.6666666666666666,
              "#ed7953"
             ],
             [
              0.7777777777777778,
              "#fb9f3a"
             ],
             [
              0.8888888888888888,
              "#fdca26"
             ],
             [
              1,
              "#f0f921"
             ]
            ],
            "type": "surface"
           }
          ],
          "table": [
           {
            "cells": {
             "fill": {
              "color": "#EBF0F8"
             },
             "line": {
              "color": "white"
             }
            },
            "header": {
             "fill": {
              "color": "#C8D4E3"
             },
             "line": {
              "color": "white"
             }
            },
            "type": "table"
           }
          ]
         },
         "layout": {
          "annotationdefaults": {
           "arrowcolor": "#2a3f5f",
           "arrowhead": 0,
           "arrowwidth": 1
          },
          "autotypenumbers": "strict",
          "coloraxis": {
           "colorbar": {
            "outlinewidth": 0,
            "ticks": ""
           }
          },
          "colorscale": {
           "diverging": [
            [
             0,
             "#8e0152"
            ],
            [
             0.1,
             "#c51b7d"
            ],
            [
             0.2,
             "#de77ae"
            ],
            [
             0.3,
             "#f1b6da"
            ],
            [
             0.4,
             "#fde0ef"
            ],
            [
             0.5,
             "#f7f7f7"
            ],
            [
             0.6,
             "#e6f5d0"
            ],
            [
             0.7,
             "#b8e186"
            ],
            [
             0.8,
             "#7fbc41"
            ],
            [
             0.9,
             "#4d9221"
            ],
            [
             1,
             "#276419"
            ]
           ],
           "sequential": [
            [
             0,
             "#0d0887"
            ],
            [
             0.1111111111111111,
             "#46039f"
            ],
            [
             0.2222222222222222,
             "#7201a8"
            ],
            [
             0.3333333333333333,
             "#9c179e"
            ],
            [
             0.4444444444444444,
             "#bd3786"
            ],
            [
             0.5555555555555556,
             "#d8576b"
            ],
            [
             0.6666666666666666,
             "#ed7953"
            ],
            [
             0.7777777777777778,
             "#fb9f3a"
            ],
            [
             0.8888888888888888,
             "#fdca26"
            ],
            [
             1,
             "#f0f921"
            ]
           ],
           "sequentialminus": [
            [
             0,
             "#0d0887"
            ],
            [
             0.1111111111111111,
             "#46039f"
            ],
            [
             0.2222222222222222,
             "#7201a8"
            ],
            [
             0.3333333333333333,
             "#9c179e"
            ],
            [
             0.4444444444444444,
             "#bd3786"
            ],
            [
             0.5555555555555556,
             "#d8576b"
            ],
            [
             0.6666666666666666,
             "#ed7953"
            ],
            [
             0.7777777777777778,
             "#fb9f3a"
            ],
            [
             0.8888888888888888,
             "#fdca26"
            ],
            [
             1,
             "#f0f921"
            ]
           ]
          },
          "colorway": [
           "#636efa",
           "#EF553B",
           "#00cc96",
           "#ab63fa",
           "#FFA15A",
           "#19d3f3",
           "#FF6692",
           "#B6E880",
           "#FF97FF",
           "#FECB52"
          ],
          "font": {
           "color": "#2a3f5f"
          },
          "geo": {
           "bgcolor": "white",
           "lakecolor": "white",
           "landcolor": "#E5ECF6",
           "showlakes": true,
           "showland": true,
           "subunitcolor": "white"
          },
          "hoverlabel": {
           "align": "left"
          },
          "hovermode": "closest",
          "mapbox": {
           "style": "light"
          },
          "paper_bgcolor": "white",
          "plot_bgcolor": "#E5ECF6",
          "polar": {
           "angularaxis": {
            "gridcolor": "white",
            "linecolor": "white",
            "ticks": ""
           },
           "bgcolor": "#E5ECF6",
           "radialaxis": {
            "gridcolor": "white",
            "linecolor": "white",
            "ticks": ""
           }
          },
          "scene": {
           "xaxis": {
            "backgroundcolor": "#E5ECF6",
            "gridcolor": "white",
            "gridwidth": 2,
            "linecolor": "white",
            "showbackground": true,
            "ticks": "",
            "zerolinecolor": "white"
           },
           "yaxis": {
            "backgroundcolor": "#E5ECF6",
            "gridcolor": "white",
            "gridwidth": 2,
            "linecolor": "white",
            "showbackground": true,
            "ticks": "",
            "zerolinecolor": "white"
           },
           "zaxis": {
            "backgroundcolor": "#E5ECF6",
            "gridcolor": "white",
            "gridwidth": 2,
            "linecolor": "white",
            "showbackground": true,
            "ticks": "",
            "zerolinecolor": "white"
           }
          },
          "shapedefaults": {
           "line": {
            "color": "#2a3f5f"
           }
          },
          "ternary": {
           "aaxis": {
            "gridcolor": "white",
            "linecolor": "white",
            "ticks": ""
           },
           "baxis": {
            "gridcolor": "white",
            "linecolor": "white",
            "ticks": ""
           },
           "bgcolor": "#E5ECF6",
           "caxis": {
            "gridcolor": "white",
            "linecolor": "white",
            "ticks": ""
           }
          },
          "title": {
           "x": 0.05
          },
          "xaxis": {
           "automargin": true,
           "gridcolor": "white",
           "linecolor": "white",
           "ticks": "",
           "title": {
            "standoff": 15
           },
           "zerolinecolor": "white",
           "zerolinewidth": 2
          },
          "yaxis": {
           "automargin": true,
           "gridcolor": "white",
           "linecolor": "white",
           "ticks": "",
           "title": {
            "standoff": 15
           },
           "zerolinecolor": "white",
           "zerolinewidth": 2
          }
         }
        },
        "title": {
         "font": {
          "family": "Times New Roman"
         },
         "text": "Figure 3 - Pollution through time on different continents"
        },
        "width": 700,
        "xaxis": {
         "anchor": "y",
         "domain": [
          0,
          1
         ],
         "title": {
          "text": "Year"
         }
        },
        "yaxis": {
         "anchor": "x",
         "domain": [
          0,
          1
         ],
         "title": {
          "text": "PM2.5 (μg/m3)"
         }
        }
       }
      },
      "text/html": [
       "<div>                            <div id=\"ef82df94-118c-45f6-97a7-e4b8e99f838f\" class=\"plotly-graph-div\" style=\"height:500px; width:700px;\"></div>            <script type=\"text/javascript\">                require([\"plotly\"], function(Plotly) {                    window.PLOTLYENV=window.PLOTLYENV || {};                                    if (document.getElementById(\"ef82df94-118c-45f6-97a7-e4b8e99f838f\")) {                    Plotly.newPlot(                        \"ef82df94-118c-45f6-97a7-e4b8e99f838f\",                        [{\"hovertemplate\":\"Continent=Africa<br>Year=%{x}<br>PM2.5 (\\u03bcg/m3)=%{y}<extra></extra>\",\"legendgroup\":\"Africa\",\"line\":{\"color\":\"#fee0d2\",\"dash\":\"solid\"},\"marker\":{\"symbol\":\"circle\"},\"mode\":\"lines\",\"name\":\"Africa\",\"orientation\":\"v\",\"showlegend\":true,\"x\":[2011.0,2012.0,2013.0,2014.0,2015.0,2016.0,2017.0],\"xaxis\":\"x\",\"y\":[35.34021210120918,35.856943996103794,35.643708032324824,34.091183102180075,38.57716840166091,38.17927682397093,39.718991221323726],\"yaxis\":\"y\",\"type\":\"scatter\"},{\"hovertemplate\":\"Continent=Asia<br>Year=%{x}<br>PM2.5 (\\u03bcg/m3)=%{y}<extra></extra>\",\"legendgroup\":\"Asia\",\"line\":{\"color\":\"#fcbba1\",\"dash\":\"solid\"},\"marker\":{\"symbol\":\"circle\"},\"mode\":\"lines\",\"name\":\"Asia\",\"orientation\":\"v\",\"showlegend\":true,\"x\":[2011.0,2012.0,2013.0,2014.0,2015.0,2016.0,2017.0],\"xaxis\":\"x\",\"y\":[44.02608371813121,42.259864433969604,40.02393948411261,38.821730570631196,40.21714123668367,34.45694340403623,36.248868458167806],\"yaxis\":\"y\",\"type\":\"scatter\"},{\"hovertemplate\":\"Continent=Europe<br>Year=%{x}<br>PM2.5 (\\u03bcg/m3)=%{y}<extra></extra>\",\"legendgroup\":\"Europe\",\"line\":{\"color\":\"#fc9272\",\"dash\":\"solid\"},\"marker\":{\"symbol\":\"circle\"},\"mode\":\"lines\",\"name\":\"Europe\",\"orientation\":\"v\",\"showlegend\":true,\"x\":[2011.0,2012.0,2013.0,2014.0,2015.0,2016.0,2017.0],\"xaxis\":\"x\",\"y\":[17.87496834551686,16.503194341941402,16.237030720678497,15.244450571368,15.426065054431778,14.720080095326896,15.069732129174682],\"yaxis\":\"y\",\"type\":\"scatter\"},{\"hovertemplate\":\"Continent=North America<br>Year=%{x}<br>PM2.5 (\\u03bcg/m3)=%{y}<extra></extra>\",\"legendgroup\":\"North America\",\"line\":{\"color\":\"#fb6a4a\",\"dash\":\"solid\"},\"marker\":{\"symbol\":\"circle\"},\"mode\":\"lines\",\"name\":\"North America\",\"orientation\":\"v\",\"showlegend\":true,\"x\":[2011.0,2012.0,2013.0,2014.0,2015.0,2016.0,2017.0],\"xaxis\":\"x\",\"y\":[21.78199962443688,20.991461131631123,21.53538472715896,19.45723760875631,19.242446594113655,16.851440782256468,16.877368135701225],\"yaxis\":\"y\",\"type\":\"scatter\"},{\"hovertemplate\":\"Continent=Oceania<br>Year=%{x}<br>PM2.5 (\\u03bcg/m3)=%{y}<extra></extra>\",\"legendgroup\":\"Oceania\",\"line\":{\"color\":\"#ef3b2c\",\"dash\":\"solid\"},\"marker\":{\"symbol\":\"circle\"},\"mode\":\"lines\",\"name\":\"Oceania\",\"orientation\":\"v\",\"showlegend\":true,\"x\":[2011.0,2012.0,2013.0,2014.0,2015.0,2016.0,2017.0],\"xaxis\":\"x\",\"y\":[13.432297055843302,13.001499237192435,12.033325442548833,11.184081304257992,11.059690110394394,10.784223896006596,10.987785772890204],\"yaxis\":\"y\",\"type\":\"scatter\"},{\"hovertemplate\":\"Continent=South America<br>Year=%{x}<br>PM2.5 (\\u03bcg/m3)=%{y}<extra></extra>\",\"legendgroup\":\"South America\",\"line\":{\"color\":\"#cb181d\",\"dash\":\"solid\"},\"marker\":{\"symbol\":\"circle\"},\"mode\":\"lines\",\"name\":\"South America\",\"orientation\":\"v\",\"showlegend\":true,\"x\":[2011.0,2012.0,2013.0,2014.0,2015.0,2016.0,2017.0],\"xaxis\":\"x\",\"y\":[22.550619003175324,21.531982993626325,21.58734491947058,19.81264318133523,19.541502441566394,18.348091113820946,17.216237665222057],\"yaxis\":\"y\",\"type\":\"scatter\"}],                        {\"template\":{\"data\":{\"histogram2dcontour\":[{\"type\":\"histogram2dcontour\",\"colorbar\":{\"outlinewidth\":0,\"ticks\":\"\"},\"colorscale\":[[0.0,\"#0d0887\"],[0.1111111111111111,\"#46039f\"],[0.2222222222222222,\"#7201a8\"],[0.3333333333333333,\"#9c179e\"],[0.4444444444444444,\"#bd3786\"],[0.5555555555555556,\"#d8576b\"],[0.6666666666666666,\"#ed7953\"],[0.7777777777777778,\"#fb9f3a\"],[0.8888888888888888,\"#fdca26\"],[1.0,\"#f0f921\"]]}],\"choropleth\":[{\"type\":\"choropleth\",\"colorbar\":{\"outlinewidth\":0,\"ticks\":\"\"}}],\"histogram2d\":[{\"type\":\"histogram2d\",\"colorbar\":{\"outlinewidth\":0,\"ticks\":\"\"},\"colorscale\":[[0.0,\"#0d0887\"],[0.1111111111111111,\"#46039f\"],[0.2222222222222222,\"#7201a8\"],[0.3333333333333333,\"#9c179e\"],[0.4444444444444444,\"#bd3786\"],[0.5555555555555556,\"#d8576b\"],[0.6666666666666666,\"#ed7953\"],[0.7777777777777778,\"#fb9f3a\"],[0.8888888888888888,\"#fdca26\"],[1.0,\"#f0f921\"]]}],\"heatmap\":[{\"type\":\"heatmap\",\"colorbar\":{\"outlinewidth\":0,\"ticks\":\"\"},\"colorscale\":[[0.0,\"#0d0887\"],[0.1111111111111111,\"#46039f\"],[0.2222222222222222,\"#7201a8\"],[0.3333333333333333,\"#9c179e\"],[0.4444444444444444,\"#bd3786\"],[0.5555555555555556,\"#d8576b\"],[0.6666666666666666,\"#ed7953\"],[0.7777777777777778,\"#fb9f3a\"],[0.8888888888888888,\"#fdca26\"],[1.0,\"#f0f921\"]]}],\"heatmapgl\":[{\"type\":\"heatmapgl\",\"colorbar\":{\"outlinewidth\":0,\"ticks\":\"\"},\"colorscale\":[[0.0,\"#0d0887\"],[0.1111111111111111,\"#46039f\"],[0.2222222222222222,\"#7201a8\"],[0.3333333333333333,\"#9c179e\"],[0.4444444444444444,\"#bd3786\"],[0.5555555555555556,\"#d8576b\"],[0.6666666666666666,\"#ed7953\"],[0.7777777777777778,\"#fb9f3a\"],[0.8888888888888888,\"#fdca26\"],[1.0,\"#f0f921\"]]}],\"contourcarpet\":[{\"type\":\"contourcarpet\",\"colorbar\":{\"outlinewidth\":0,\"ticks\":\"\"}}],\"contour\":[{\"type\":\"contour\",\"colorbar\":{\"outlinewidth\":0,\"ticks\":\"\"},\"colorscale\":[[0.0,\"#0d0887\"],[0.1111111111111111,\"#46039f\"],[0.2222222222222222,\"#7201a8\"],[0.3333333333333333,\"#9c179e\"],[0.4444444444444444,\"#bd3786\"],[0.5555555555555556,\"#d8576b\"],[0.6666666666666666,\"#ed7953\"],[0.7777777777777778,\"#fb9f3a\"],[0.8888888888888888,\"#fdca26\"],[1.0,\"#f0f921\"]]}],\"surface\":[{\"type\":\"surface\",\"colorbar\":{\"outlinewidth\":0,\"ticks\":\"\"},\"colorscale\":[[0.0,\"#0d0887\"],[0.1111111111111111,\"#46039f\"],[0.2222222222222222,\"#7201a8\"],[0.3333333333333333,\"#9c179e\"],[0.4444444444444444,\"#bd3786\"],[0.5555555555555556,\"#d8576b\"],[0.6666666666666666,\"#ed7953\"],[0.7777777777777778,\"#fb9f3a\"],[0.8888888888888888,\"#fdca26\"],[1.0,\"#f0f921\"]]}],\"mesh3d\":[{\"type\":\"mesh3d\",\"colorbar\":{\"outlinewidth\":0,\"ticks\":\"\"}}],\"scatter\":[{\"fillpattern\":{\"fillmode\":\"overlay\",\"size\":10,\"solidity\":0.2},\"type\":\"scatter\"}],\"parcoords\":[{\"type\":\"parcoords\",\"line\":{\"colorbar\":{\"outlinewidth\":0,\"ticks\":\"\"}}}],\"scatterpolargl\":[{\"type\":\"scatterpolargl\",\"marker\":{\"colorbar\":{\"outlinewidth\":0,\"ticks\":\"\"}}}],\"bar\":[{\"error_x\":{\"color\":\"#2a3f5f\"},\"error_y\":{\"color\":\"#2a3f5f\"},\"marker\":{\"line\":{\"color\":\"#E5ECF6\",\"width\":0.5},\"pattern\":{\"fillmode\":\"overlay\",\"size\":10,\"solidity\":0.2}},\"type\":\"bar\"}],\"scattergeo\":[{\"type\":\"scattergeo\",\"marker\":{\"colorbar\":{\"outlinewidth\":0,\"ticks\":\"\"}}}],\"scatterpolar\":[{\"type\":\"scatterpolar\",\"marker\":{\"colorbar\":{\"outlinewidth\":0,\"ticks\":\"\"}}}],\"histogram\":[{\"marker\":{\"pattern\":{\"fillmode\":\"overlay\",\"size\":10,\"solidity\":0.2}},\"type\":\"histogram\"}],\"scattergl\":[{\"type\":\"scattergl\",\"marker\":{\"colorbar\":{\"outlinewidth\":0,\"ticks\":\"\"}}}],\"scatter3d\":[{\"type\":\"scatter3d\",\"line\":{\"colorbar\":{\"outlinewidth\":0,\"ticks\":\"\"}},\"marker\":{\"colorbar\":{\"outlinewidth\":0,\"ticks\":\"\"}}}],\"scattermapbox\":[{\"type\":\"scattermapbox\",\"marker\":{\"colorbar\":{\"outlinewidth\":0,\"ticks\":\"\"}}}],\"scatterternary\":[{\"type\":\"scatterternary\",\"marker\":{\"colorbar\":{\"outlinewidth\":0,\"ticks\":\"\"}}}],\"scattercarpet\":[{\"type\":\"scattercarpet\",\"marker\":{\"colorbar\":{\"outlinewidth\":0,\"ticks\":\"\"}}}],\"carpet\":[{\"aaxis\":{\"endlinecolor\":\"#2a3f5f\",\"gridcolor\":\"white\",\"linecolor\":\"white\",\"minorgridcolor\":\"white\",\"startlinecolor\":\"#2a3f5f\"},\"baxis\":{\"endlinecolor\":\"#2a3f5f\",\"gridcolor\":\"white\",\"linecolor\":\"white\",\"minorgridcolor\":\"white\",\"startlinecolor\":\"#2a3f5f\"},\"type\":\"carpet\"}],\"table\":[{\"cells\":{\"fill\":{\"color\":\"#EBF0F8\"},\"line\":{\"color\":\"white\"}},\"header\":{\"fill\":{\"color\":\"#C8D4E3\"},\"line\":{\"color\":\"white\"}},\"type\":\"table\"}],\"barpolar\":[{\"marker\":{\"line\":{\"color\":\"#E5ECF6\",\"width\":0.5},\"pattern\":{\"fillmode\":\"overlay\",\"size\":10,\"solidity\":0.2}},\"type\":\"barpolar\"}],\"pie\":[{\"automargin\":true,\"type\":\"pie\"}]},\"layout\":{\"autotypenumbers\":\"strict\",\"colorway\":[\"#636efa\",\"#EF553B\",\"#00cc96\",\"#ab63fa\",\"#FFA15A\",\"#19d3f3\",\"#FF6692\",\"#B6E880\",\"#FF97FF\",\"#FECB52\"],\"font\":{\"color\":\"#2a3f5f\"},\"hovermode\":\"closest\",\"hoverlabel\":{\"align\":\"left\"},\"paper_bgcolor\":\"white\",\"plot_bgcolor\":\"#E5ECF6\",\"polar\":{\"bgcolor\":\"#E5ECF6\",\"angularaxis\":{\"gridcolor\":\"white\",\"linecolor\":\"white\",\"ticks\":\"\"},\"radialaxis\":{\"gridcolor\":\"white\",\"linecolor\":\"white\",\"ticks\":\"\"}},\"ternary\":{\"bgcolor\":\"#E5ECF6\",\"aaxis\":{\"gridcolor\":\"white\",\"linecolor\":\"white\",\"ticks\":\"\"},\"baxis\":{\"gridcolor\":\"white\",\"linecolor\":\"white\",\"ticks\":\"\"},\"caxis\":{\"gridcolor\":\"white\",\"linecolor\":\"white\",\"ticks\":\"\"}},\"coloraxis\":{\"colorbar\":{\"outlinewidth\":0,\"ticks\":\"\"}},\"colorscale\":{\"sequential\":[[0.0,\"#0d0887\"],[0.1111111111111111,\"#46039f\"],[0.2222222222222222,\"#7201a8\"],[0.3333333333333333,\"#9c179e\"],[0.4444444444444444,\"#bd3786\"],[0.5555555555555556,\"#d8576b\"],[0.6666666666666666,\"#ed7953\"],[0.7777777777777778,\"#fb9f3a\"],[0.8888888888888888,\"#fdca26\"],[1.0,\"#f0f921\"]],\"sequentialminus\":[[0.0,\"#0d0887\"],[0.1111111111111111,\"#46039f\"],[0.2222222222222222,\"#7201a8\"],[0.3333333333333333,\"#9c179e\"],[0.4444444444444444,\"#bd3786\"],[0.5555555555555556,\"#d8576b\"],[0.6666666666666666,\"#ed7953\"],[0.7777777777777778,\"#fb9f3a\"],[0.8888888888888888,\"#fdca26\"],[1.0,\"#f0f921\"]],\"diverging\":[[0,\"#8e0152\"],[0.1,\"#c51b7d\"],[0.2,\"#de77ae\"],[0.3,\"#f1b6da\"],[0.4,\"#fde0ef\"],[0.5,\"#f7f7f7\"],[0.6,\"#e6f5d0\"],[0.7,\"#b8e186\"],[0.8,\"#7fbc41\"],[0.9,\"#4d9221\"],[1,\"#276419\"]]},\"xaxis\":{\"gridcolor\":\"white\",\"linecolor\":\"white\",\"ticks\":\"\",\"title\":{\"standoff\":15},\"zerolinecolor\":\"white\",\"automargin\":true,\"zerolinewidth\":2},\"yaxis\":{\"gridcolor\":\"white\",\"linecolor\":\"white\",\"ticks\":\"\",\"title\":{\"standoff\":15},\"zerolinecolor\":\"white\",\"automargin\":true,\"zerolinewidth\":2},\"scene\":{\"xaxis\":{\"backgroundcolor\":\"#E5ECF6\",\"gridcolor\":\"white\",\"linecolor\":\"white\",\"showbackground\":true,\"ticks\":\"\",\"zerolinecolor\":\"white\",\"gridwidth\":2},\"yaxis\":{\"backgroundcolor\":\"#E5ECF6\",\"gridcolor\":\"white\",\"linecolor\":\"white\",\"showbackground\":true,\"ticks\":\"\",\"zerolinecolor\":\"white\",\"gridwidth\":2},\"zaxis\":{\"backgroundcolor\":\"#E5ECF6\",\"gridcolor\":\"white\",\"linecolor\":\"white\",\"showbackground\":true,\"ticks\":\"\",\"zerolinecolor\":\"white\",\"gridwidth\":2}},\"shapedefaults\":{\"line\":{\"color\":\"#2a3f5f\"}},\"annotationdefaults\":{\"arrowcolor\":\"#2a3f5f\",\"arrowhead\":0,\"arrowwidth\":1},\"geo\":{\"bgcolor\":\"white\",\"landcolor\":\"#E5ECF6\",\"subunitcolor\":\"white\",\"showland\":true,\"showlakes\":true,\"lakecolor\":\"white\"},\"title\":{\"x\":0.05},\"mapbox\":{\"style\":\"light\"}}},\"xaxis\":{\"anchor\":\"y\",\"domain\":[0.0,1.0],\"title\":{\"text\":\"Year\"}},\"yaxis\":{\"anchor\":\"x\",\"domain\":[0.0,1.0],\"title\":{\"text\":\"PM2.5 (\\u03bcg/m3)\"}},\"legend\":{\"title\":{\"text\":\"Continent\"},\"tracegroupgap\":0},\"title\":{\"text\":\"Figure 3 - Pollution through time on different continents\",\"font\":{\"family\":\"Times New Roman\"}},\"height\":500,\"width\":700,\"font\":{\"family\":\"Times New Roman\"},\"plot_bgcolor\":\"#f5f5f5\"},                        {\"responsive\": true}                    ).then(function(){\n",
       "                            \n",
       "var gd = document.getElementById('ef82df94-118c-45f6-97a7-e4b8e99f838f');\n",
       "var x = new MutationObserver(function (mutations, observer) {{\n",
       "        var display = window.getComputedStyle(gd).display;\n",
       "        if (!display || display === 'none') {{\n",
       "            console.log([gd, 'removed!']);\n",
       "            Plotly.purge(gd);\n",
       "            observer.disconnect();\n",
       "        }}\n",
       "}});\n",
       "\n",
       "// Listen for the removal of the full notebook cells\n",
       "var notebookContainer = gd.closest('#notebook-container');\n",
       "if (notebookContainer) {{\n",
       "    x.observe(notebookContainer, {childList: true});\n",
       "}}\n",
       "\n",
       "// Listen for the clearing of the current output cell\n",
       "var outputEl = gd.closest('.output');\n",
       "if (outputEl) {{\n",
       "    x.observe(outputEl, {childList: true});\n",
       "}}\n",
       "\n",
       "                        })                };                });            </script>        </div>"
      ]
     },
     "metadata": {},
     "output_type": "display_data"
    }
   ],
   "source": [
    "### Making a lineplot of pollution levels across time for each continent \n",
    "\n",
    "# Subsetting a dataframe to mean for all countries within a continent for each year\n",
    "df_mean_across_continent=df_global_clean.groupby(['Year','Continent']).mean().reset_index()\n",
    "\n",
    "# Defining a color scale\n",
    "color_scl=['#fee0d2', '#fcbba1', '#fc9272','#fb6a4a', '#ef3b2c', '#cb181d','#67000d']\n",
    "\n",
    "# Initiating figure. Setting x- and y-axis. Setting color for each continent. Setting layout features\n",
    "fig = px.line(df_mean_across_continent, x=\"Year\", y=\"PM2.5 (μg/m3)\", color='Continent',color_discrete_sequence=color_scl,\n",
    "              title='Figure 3: Pollution through time on different continents',facet_row_spacing=0.01, height=500, width=700)\n",
    "\n",
    "# Setting background color\n",
    "\n",
    "fig.update_layout(\n",
    "    font_family=\"Times New Roman\",\n",
    "    title_font_family=\"Times New Roman\",\n",
    "    plot_bgcolor=\"#f5f5f5\")\n",
    "\n",
    "fig.show()\n",
    "\n",
    "# Saving HTML code to put on the website\n",
    "#plotly.offline.plot(fig, auto_open=False,filename='Line_plot_pollution_continents.html', validate=True)\n"
   ]
  },
  {
   "cell_type": "markdown",
   "id": "70fe585a",
   "metadata": {},
   "source": [
    "### **RUN THE CELL BELOW TO SEE VISUALIZATION**"
   ]
  },
  {
   "cell_type": "code",
   "execution_count": 17,
   "id": "ef3ff97a",
   "metadata": {},
   "outputs": [
    {
     "data": {
      "text/html": [
       "\n",
       "        <iframe\n",
       "            width=\"800\"\n",
       "            height=\"500\"\n",
       "            src=\"https://rawcdn.githack.com/KvantropologSofie/socialdata2022.io/e277416e7c642c7226aa1129fd0b718e5f6d7af9/pictures%20and%20titles/Line_plot_pollution_continents.html\"\n",
       "            frameborder=\"0\"\n",
       "            allowfullscreen\n",
       "            \n",
       "        ></iframe>\n",
       "        "
      ],
      "text/plain": [
       "<IPython.lib.display.IFrame at 0x1811ed2ab50>"
      ]
     },
     "execution_count": 17,
     "metadata": {},
     "output_type": "execute_result"
    }
   ],
   "source": [
    "from IPython.display import IFrame\n",
    "\n",
    "# Displaying air pollution in Denmark\n",
    "IFrame(src=\"https://rawcdn.githack.com/KvantropologSofie/socialdata2022.io/e277416e7c642c7226aa1129fd0b718e5f6d7af9/pictures%20and%20titles/Line_plot_pollution_continents.html\", width=800, height=500)"
   ]
  },
  {
   "cell_type": "markdown",
   "id": "3df2b95e",
   "metadata": {},
   "source": [
    "**2.4.3 Heatmap showing GDP levels world-wide in 2017**\n",
    "\n",
    "The world map in Figure 4 contains information about GDP for 2017 in the different countries. When you hover over a country its name is shown, and you can zoom in to explore regions further. The color shows the approximate GDP per capita where the light red countries have the lowest GDP's and the darkest have the highest.  \n",
    "\n",
    "As we also observed in the boxplot of GDP in Figure 1, there are huge economical differences world-wide. As we inferred from the boxplots, more than 75% of the countries have a GDP per capita below 20.000. To make it easier for the reader to  distinguish between the countries, we create more intervals in the lower range of GDP.\n",
    "\n",
    "With this map we can also observe whether countries in different regions have GDP close to each other. Here, it is evident that countries in Europe, America, and Oceania have the highest GDP's, whereas  Africa and Asia have lower GDP's. We can thereby, based on the maps, conclude that the continents experiencing higher concentrations of air-pollution are also the continents with lower GDP."
   ]
  },
  {
   "cell_type": "code",
   "execution_count": 12,
   "id": "4a593f26",
   "metadata": {},
   "outputs": [
    {
     "data": {
      "text/html": [
       "<div style=\"width:100%;\"><div style=\"position:relative;width:100%;height:0;padding-bottom:60%;\"><span style=\"color:#565656\">Make this Notebook Trusted to load map: File -> Trust Notebook</span><iframe src=\"about:blank\" style=\"position:absolute;width:100%;height:100%;left:0;top:0;border:none !important;\" data-html=%3C%21DOCTYPE%20html%3E%0A%3Chead%3E%20%20%20%20%0A%20%20%20%20%3Cmeta%20http-equiv%3D%22content-type%22%20content%3D%22text/html%3B%20charset%3DUTF-8%22%20/%3E%0A%20%20%20%20%0A%20%20%20%20%20%20%20%20%3Cscript%3E%0A%20%20%20%20%20%20%20%20%20%20%20%20L_NO_TOUCH%20%3D%20false%3B%0A%20%20%20%20%20%20%20%20%20%20%20%20L_DISABLE_3D%20%3D%20false%3B%0A%20%20%20%20%20%20%20%20%3C/script%3E%0A%20%20%20%20%0A%20%20%20%20%3Cstyle%3Ehtml%2C%20body%20%7Bwidth%3A%20100%25%3Bheight%3A%20100%25%3Bmargin%3A%200%3Bpadding%3A%200%3B%7D%3C/style%3E%0A%20%20%20%20%3Cstyle%3E%23map%20%7Bposition%3Aabsolute%3Btop%3A0%3Bbottom%3A0%3Bright%3A0%3Bleft%3A0%3B%7D%3C/style%3E%0A%20%20%20%20%3Cscript%20src%3D%22https%3A//cdn.jsdelivr.net/npm/leaflet%401.6.0/dist/leaflet.js%22%3E%3C/script%3E%0A%20%20%20%20%3Cscript%20src%3D%22https%3A//code.jquery.com/jquery-1.12.4.min.js%22%3E%3C/script%3E%0A%20%20%20%20%3Cscript%20src%3D%22https%3A//maxcdn.bootstrapcdn.com/bootstrap/3.2.0/js/bootstrap.min.js%22%3E%3C/script%3E%0A%20%20%20%20%3Cscript%20src%3D%22https%3A//cdnjs.cloudflare.com/ajax/libs/Leaflet.awesome-markers/2.0.2/leaflet.awesome-markers.js%22%3E%3C/script%3E%0A%20%20%20%20%3Clink%20rel%3D%22stylesheet%22%20href%3D%22https%3A//cdn.jsdelivr.net/npm/leaflet%401.6.0/dist/leaflet.css%22/%3E%0A%20%20%20%20%3Clink%20rel%3D%22stylesheet%22%20href%3D%22https%3A//maxcdn.bootstrapcdn.com/bootstrap/3.2.0/css/bootstrap.min.css%22/%3E%0A%20%20%20%20%3Clink%20rel%3D%22stylesheet%22%20href%3D%22https%3A//maxcdn.bootstrapcdn.com/bootstrap/3.2.0/css/bootstrap-theme.min.css%22/%3E%0A%20%20%20%20%3Clink%20rel%3D%22stylesheet%22%20href%3D%22https%3A//maxcdn.bootstrapcdn.com/font-awesome/4.6.3/css/font-awesome.min.css%22/%3E%0A%20%20%20%20%3Clink%20rel%3D%22stylesheet%22%20href%3D%22https%3A//cdnjs.cloudflare.com/ajax/libs/Leaflet.awesome-markers/2.0.2/leaflet.awesome-markers.css%22/%3E%0A%20%20%20%20%3Clink%20rel%3D%22stylesheet%22%20href%3D%22https%3A//cdn.jsdelivr.net/gh/python-visualization/folium/folium/templates/leaflet.awesome.rotate.min.css%22/%3E%0A%20%20%20%20%0A%20%20%20%20%20%20%20%20%20%20%20%20%3Cmeta%20name%3D%22viewport%22%20content%3D%22width%3Ddevice-width%2C%0A%20%20%20%20%20%20%20%20%20%20%20%20%20%20%20%20initial-scale%3D1.0%2C%20maximum-scale%3D1.0%2C%20user-scalable%3Dno%22%20/%3E%0A%20%20%20%20%20%20%20%20%20%20%20%20%3Cstyle%3E%0A%20%20%20%20%20%20%20%20%20%20%20%20%20%20%20%20%23map_09db261f8dfb423f83c9a2ac36594622%20%7B%0A%20%20%20%20%20%20%20%20%20%20%20%20%20%20%20%20%20%20%20%20position%3A%20relative%3B%0A%20%20%20%20%20%20%20%20%20%20%20%20%20%20%20%20%20%20%20%20width%3A%20100.0%25%3B%0A%20%20%20%20%20%20%20%20%20%20%20%20%20%20%20%20%20%20%20%20height%3A%20100.0%25%3B%0A%20%20%20%20%20%20%20%20%20%20%20%20%20%20%20%20%20%20%20%20left%3A%200.0%25%3B%0A%20%20%20%20%20%20%20%20%20%20%20%20%20%20%20%20%20%20%20%20top%3A%200.0%25%3B%0A%20%20%20%20%20%20%20%20%20%20%20%20%20%20%20%20%7D%0A%20%20%20%20%20%20%20%20%20%20%20%20%3C/style%3E%0A%20%20%20%20%20%20%20%20%0A%20%20%20%20%0A%20%20%20%20%20%20%20%20%20%20%20%20%20%20%20%20%20%20%20%20%3Cstyle%3E%0A%20%20%20%20%20%20%20%20%20%20%20%20%20%20%20%20%20%20%20%20%20%20%20%20.foliumtooltip%20%7B%0A%20%20%20%20%20%20%20%20%20%20%20%20%20%20%20%20%20%20%20%20%20%20%20%20%20%20%20%20%0A%20%20%20%20%20%20%20%20%20%20%20%20%20%20%20%20%20%20%20%20%20%20%20%20%7D%0A%20%20%20%20%20%20%20%20%20%20%20%20%20%20%20%20%20%20%20%20%20%20%20.foliumtooltip%20table%7B%0A%20%20%20%20%20%20%20%20%20%20%20%20%20%20%20%20%20%20%20%20%20%20%20%20%20%20%20%20margin%3A%20auto%3B%0A%20%20%20%20%20%20%20%20%20%20%20%20%20%20%20%20%20%20%20%20%20%20%20%20%7D%0A%20%20%20%20%20%20%20%20%20%20%20%20%20%20%20%20%20%20%20%20%20%20%20%20.foliumtooltip%20tr%7B%0A%20%20%20%20%20%20%20%20%20%20%20%20%20%20%20%20%20%20%20%20%20%20%20%20%20%20%20%20text-align%3A%20left%3B%0A%20%20%20%20%20%20%20%20%20%20%20%20%20%20%20%20%20%20%20%20%20%20%20%20%7D%0A%20%20%20%20%20%20%20%20%20%20%20%20%20%20%20%20%20%20%20%20%20%20%20%20.foliumtooltip%20th%7B%0A%20%20%20%20%20%20%20%20%20%20%20%20%20%20%20%20%20%20%20%20%20%20%20%20%20%20%20%20padding%3A%202px%3B%20padding-right%3A%208px%3B%0A%20%20%20%20%20%20%20%20%20%20%20%20%20%20%20%20%20%20%20%20%20%20%20%20%7D%0A%20%20%20%20%20%20%20%20%20%20%20%20%20%20%20%20%20%20%20%20%3C/style%3E%0A%20%20%20%20%20%20%20%20%20%20%20%20%0A%20%20%20%20%3Cscript%20src%3D%22https%3A//cdnjs.cloudflare.com/ajax/libs/d3/3.5.5/d3.min.js%22%3E%3C/script%3E%0A%3C/head%3E%0A%3Cbody%3E%20%20%20%20%0A%20%20%20%20%0A%20%20%20%20%20%20%20%20%20%20%20%20%20%3Ch3%20align%3D%22center%22%20style%3D%22font-size%3A16px%22%3E%3Cb%3EFigure%204%20-%20GDP%20worldwide%3C/b%3E%3C/h3%3E%0A%20%20%20%20%20%20%20%20%20%20%20%20%20%0A%20%20%20%20%0A%20%20%20%20%20%20%20%20%20%20%20%20%3Cdiv%20class%3D%22folium-map%22%20id%3D%22map_09db261f8dfb423f83c9a2ac36594622%22%20%3E%3C/div%3E%0A%20%20%20%20%20%20%20%20%0A%3C/body%3E%0A%3Cscript%3E%20%20%20%20%0A%20%20%20%20%0A%20%20%20%20%20%20%20%20%20%20%20%20var%20map_09db261f8dfb423f83c9a2ac36594622%20%3D%20L.map%28%0A%20%20%20%20%20%20%20%20%20%20%20%20%20%20%20%20%22map_09db261f8dfb423f83c9a2ac36594622%22%2C%0A%20%20%20%20%20%20%20%20%20%20%20%20%20%20%20%20%7B%0A%20%20%20%20%20%20%20%20%20%20%20%20%20%20%20%20%20%20%20%20center%3A%20%5B0%2C%200%5D%2C%0A%20%20%20%20%20%20%20%20%20%20%20%20%20%20%20%20%20%20%20%20crs%3A%20L.CRS.EPSG3857%2C%0A%20%20%20%20%20%20%20%20%20%20%20%20%20%20%20%20%20%20%20%20zoom%3A%201%2C%0A%20%20%20%20%20%20%20%20%20%20%20%20%20%20%20%20%20%20%20%20zoomControl%3A%20true%2C%0A%20%20%20%20%20%20%20%20%20%20%20%20%20%20%20%20%20%20%20%20preferCanvas%3A%20false%2C%0A%20%20%20%20%20%20%20%20%20%20%20%20%20%20%20%20%7D%0A%20%20%20%20%20%20%20%20%20%20%20%20%29%3B%0A%0A%20%20%20%20%20%20%20%20%20%20%20%20%0A%0A%20%20%20%20%20%20%20%20%0A%20%20%20%20%0A%20%20%20%20%20%20%20%20%20%20%20%20var%20tile_layer_e97843d29498410887ac7d70311f9b90%20%3D%20L.tileLayer%28%0A%20%20%20%20%20%20%20%20%20%20%20%20%20%20%20%20%22https%3A//cartodb-basemaps-%7Bs%7D.global.ssl.fastly.net/light_all/%7Bz%7D/%7Bx%7D/%7By%7D.png%22%2C%0A%20%20%20%20%20%20%20%20%20%20%20%20%20%20%20%20%7B%22attribution%22%3A%20%22%5Cu0026copy%3B%20%5Cu003ca%20href%3D%5C%22http%3A//www.openstreetmap.org/copyright%5C%22%5Cu003eOpenStreetMap%5Cu003c/a%5Cu003e%20contributors%20%5Cu0026copy%3B%20%5Cu003ca%20href%3D%5C%22http%3A//cartodb.com/attributions%5C%22%5Cu003eCartoDB%5Cu003c/a%5Cu003e%2C%20CartoDB%20%5Cu003ca%20href%20%3D%5C%22http%3A//cartodb.com/attributions%5C%22%5Cu003eattributions%5Cu003c/a%5Cu003e%22%2C%20%22detectRetina%22%3A%20false%2C%20%22maxNativeZoom%22%3A%2018%2C%20%22maxZoom%22%3A%2018%2C%20%22minZoom%22%3A%200%2C%20%22noWrap%22%3A%20false%2C%20%22opacity%22%3A%201%2C%20%22subdomains%22%3A%20%22abc%22%2C%20%22tms%22%3A%20false%7D%0A%20%20%20%20%20%20%20%20%20%20%20%20%29.addTo%28map_09db261f8dfb423f83c9a2ac36594622%29%3B%0A%20%20%20%20%20%20%20%20%0A%20%20%20%20%0A%20%20%20%20%20%20%20%20%20%20%20%20var%20choropleth_0a8ecdd256824865978352c1b251de43%20%3D%20L.featureGroup%28%0A%20%20%20%20%20%20%20%20%20%20%20%20%20%20%20%20%7B%7D%0A%20%20%20%20%20%20%20%20%20%20%20%20%29.addTo%28map_09db261f8dfb423f83c9a2ac36594622%29%3B%0A%20%20%20%20%20%20%20%20%0A%20%20%20%20%0A%20%20%20%20%20%20%20%20function%20geo_json_1289e5352f7a4e0193e1a64e3f2744e7_styler%28feature%29%20%7B%0A%20%20%20%20%20%20%20%20%20%20%20%20switch%28feature.properties.name%29%20%7B%0A%20%20%20%20%20%20%20%20%20%20%20%20%20%20%20%20case%20%22United%20Arab%20Emirates%22%3A%20case%20%22Austria%22%3A%20case%20%22Belgium%22%3A%20case%20%22Canada%22%3A%20case%20%22Germany%22%3A%20case%20%22Finland%22%3A%20case%20%22France%22%3A%20case%20%22United%20Kingdom%22%3A%20case%20%22Israel%22%3A%20case%20%22Japan%22%3A%20case%20%22Netherlands%22%3A%20case%20%22New%20Zealand%22%3A%20%0A%20%20%20%20%20%20%20%20%20%20%20%20%20%20%20%20%20%20%20%20return%20%7B%22color%22%3A%20%22black%22%2C%20%22fillColor%22%3A%20%22%23fb6a4a%22%2C%20%22fillOpacity%22%3A%202%2C%20%22opacity%22%3A%200.3%2C%20%22weight%22%3A%201%7D%3B%0A%20%20%20%20%20%20%20%20%20%20%20%20%20%20%20%20case%20%22Argentina%22%3A%20case%20%22Bulgaria%22%3A%20case%20%22Brazil%22%3A%20case%20%22Chile%22%3A%20case%20%22China%22%3A%20case%20%22Costa%20Rica%22%3A%20case%20%22Cuba%22%3A%20case%20%22Equatorial%20Guinea%22%3A%20case%20%22Greece%22%3A%20case%20%22Croatia%22%3A%20case%20%22Hungary%22%3A%20case%20%22Kazakhstan%22%3A%20case%20%22Lithuania%22%3A%20case%20%22Latvia%22%3A%20case%20%22Mexico%22%3A%20case%20%22Malaysia%22%3A%20case%20%22Oman%22%3A%20case%20%22Panama%22%3A%20case%20%22Poland%22%3A%20case%20%22Romania%22%3A%20case%20%22Russia%22%3A%20case%20%22Slovakia%22%3A%20case%20%22Trinidad%20and%20Tobago%22%3A%20case%20%22Turkey%22%3A%20case%20%22Uruguay%22%3A%20case%20%22Venezuela%22%3A%20%0A%20%20%20%20%20%20%20%20%20%20%20%20%20%20%20%20%20%20%20%20return%20%7B%22color%22%3A%20%22black%22%2C%20%22fillColor%22%3A%20%22%23fcbba1%22%2C%20%22fillOpacity%22%3A%202%2C%20%22opacity%22%3A%200.3%2C%20%22weight%22%3A%201%7D%3B%0A%20%20%20%20%20%20%20%20%20%20%20%20%20%20%20%20case%20%22Antarctica%22%3A%20case%20%22French%20Southern%20and%20Antarctic%20Lands%22%3A%20case%20%22Northern%20Cyprus%22%3A%20case%20%22Falkland%20Islands%22%3A%20case%20%22Kosovo%22%3A%20case%20%22New%20Caledonia%22%3A%20case%20%22North%20Korea%22%3A%20case%20%22Western%20Sahara%22%3A%20case%20%22South%20Sudan%22%3A%20case%20%22Somaliland%22%3A%20case%20%22Taiwan%22%3A%20%0A%20%20%20%20%20%20%20%20%20%20%20%20%20%20%20%20%20%20%20%20return%20%7B%22color%22%3A%20%22black%22%2C%20%22fillColor%22%3A%20%22white%22%2C%20%22fillOpacity%22%3A%202%2C%20%22opacity%22%3A%200.3%2C%20%22weight%22%3A%201%7D%3B%0A%20%20%20%20%20%20%20%20%20%20%20%20%20%20%20%20case%20%22Australia%22%3A%20case%20%22Denmark%22%3A%20case%20%22Greenland%22%3A%20case%20%22Ireland%22%3A%20case%20%22Qatar%22%3A%20case%20%22Sweden%22%3A%20case%20%22United%20States%20of%20America%22%3A%20%0A%20%20%20%20%20%20%20%20%20%20%20%20%20%20%20%20%20%20%20%20return%20%7B%22color%22%3A%20%22black%22%2C%20%22fillColor%22%3A%20%22%23de2d26%22%2C%20%22fillOpacity%22%3A%202%2C%20%22opacity%22%3A%200.3%2C%20%22weight%22%3A%201%7D%3B%0A%20%20%20%20%20%20%20%20%20%20%20%20%20%20%20%20case%20%22The%20Bahamas%22%3A%20case%20%22Brunei%22%3A%20case%20%22Cyprus%22%3A%20case%20%22Czech%20Republic%22%3A%20case%20%22Spain%22%3A%20case%20%22Estonia%22%3A%20case%20%22Italy%22%3A%20case%20%22South%20Korea%22%3A%20case%20%22Kuwait%22%3A%20case%20%22Puerto%20Rico%22%3A%20case%20%22Portugal%22%3A%20case%20%22Saudi%20Arabia%22%3A%20case%20%22Slovenia%22%3A%20%0A%20%20%20%20%20%20%20%20%20%20%20%20%20%20%20%20%20%20%20%20return%20%7B%22color%22%3A%20%22black%22%2C%20%22fillColor%22%3A%20%22%23fc9272%22%2C%20%22fillOpacity%22%3A%202%2C%20%22opacity%22%3A%200.3%2C%20%22weight%22%3A%201%7D%3B%0A%20%20%20%20%20%20%20%20%20%20%20%20%20%20%20%20case%20%22Switzerland%22%3A%20case%20%22Iceland%22%3A%20case%20%22Luxembourg%22%3A%20case%20%22Norway%22%3A%20%0A%20%20%20%20%20%20%20%20%20%20%20%20%20%20%20%20%20%20%20%20return%20%7B%22color%22%3A%20%22black%22%2C%20%22fillColor%22%3A%20%22%23a50f15%22%2C%20%22fillOpacity%22%3A%202%2C%20%22opacity%22%3A%200.3%2C%20%22weight%22%3A%201%7D%3B%0A%20%20%20%20%20%20%20%20%20%20%20%20%20%20%20%20default%3A%0A%20%20%20%20%20%20%20%20%20%20%20%20%20%20%20%20%20%20%20%20return%20%7B%22color%22%3A%20%22black%22%2C%20%22fillColor%22%3A%20%22%23fee5d9%22%2C%20%22fillOpacity%22%3A%202%2C%20%22opacity%22%3A%200.3%2C%20%22weight%22%3A%201%7D%3B%0A%20%20%20%20%20%20%20%20%20%20%20%20%7D%0A%20%20%20%20%20%20%20%20%7D%0A%0A%20%20%20%20%20%20%20%20function%20geo_json_1289e5352f7a4e0193e1a64e3f2744e7_onEachFeature%28feature%2C%20layer%29%20%7B%0A%20%20%20%20%20%20%20%20%20%20%20%20layer.on%28%7B%0A%20%20%20%20%20%20%20%20%20%20%20%20%7D%29%3B%0A%20%20%20%20%20%20%20%20%7D%3B%0A%20%20%20%20%20%20%20%20var%20geo_json_1289e5352f7a4e0193e1a64e3f2744e7%20%3D%20L.geoJson%28null%2C%20%7B%0A%20%20%20%20%20%20%20%20%20%20%20%20%20%20%20%20onEachFeature%3A%20geo_json_1289e5352f7a4e0193e1a64e3f2744e7_onEachFeature%2C%0A%20%20%20%20%20%20%20%20%20%20%20%20%0A%20%20%20%20%20%20%20%20%20%20%20%20%20%20%20%20style%3A%20geo_json_1289e5352f7a4e0193e1a64e3f2744e7_styler%2C%0A%20%20%20%20%20%20%20%20%7D%29%3B%0A%0A%20%20%20%20%20%20%20%20function%20geo_json_1289e5352f7a4e0193e1a64e3f2744e7_add%20%28data%29%20%7B%0A%20%20%20%20%20%20%20%20%20%20%20%20geo_json_1289e5352f7a4e0193e1a64e3f2744e7%0A%20%20%20%20%20%20%20%20%20%20%20%20%20%20%20%20.addData%28data%29%0A%20%20%20%20%20%20%20%20%20%20%20%20%20%20%20%20.addTo%28choropleth_0a8ecdd256824865978352c1b251de43%29%3B%0A%20%20%20%20%20%20%20%20%7D%0A%20%20%20%20%20%20%20%20%20%20%20%20geo_json_1289e5352f7a4e0193e1a64e3f2744e7_add%28%7B%22features%22%3A%20%5B%7B%22geometry%22%3A%20%7B%22coordinates%22%3A%20%5B%5B%5B61.210817%2C%2035.650072%5D%2C%20%5B62.230651%2C%2035.270664%5D%2C%20%5B62.984662%2C%2035.404041%5D%2C%20%5B63.193538%2C%2035.857166%5D%2C%20%5B63.982896%2C%2036.007957%5D%2C%20%5B64.546479%2C%2036.312073%5D%2C%20%5B64.746105%2C%2037.111818%5D%2C%20%5B65.588948%2C%2037.305217%5D%2C%20%5B65.745631%2C%2037.661164%5D%2C%20%5B66.217385%2C%2037.39379%5D%2C%20%5B66.518607%2C%2037.362784%5D%2C%20%5B67.075782%2C%2037.356144%5D%2C%20%5B67.83%2C%2037.144994%5D%2C%20%5B68.135562%2C%2037.023115%5D%2C%20%5B68.859446%2C%2037.344336%5D%2C%20%5B69.196273%2C%2037.151144%5D%2C%20%5B69.518785%2C%2037.608997%5D%2C%20%5B70.116578%2C%2037.588223%5D%2C%20%5B70.270574%2C%2037.735165%5D%2C%20%5B70.376304%2C%2038.138396%5D%2C%20%5B70.806821%2C%2038.486282%5D%2C%20%5B71.348131%2C%2038.258905%5D%2C%20%5B71.239404%2C%2037.953265%5D%2C%20%5B71.541918%2C%2037.905774%5D%2C%20%5B71.448693%2C%2037.065645%5D%2C%20%5B71.844638%2C%2036.738171%5D%2C%20%5B72.193041%2C%2036.948288%5D%2C%20%5B72.63689%2C%2037.047558%5D%2C%20%5B73.260056%2C%2037.495257%5D%2C%20%5B73.948696%2C%2037.421566%5D%2C%20%5B74.980002%2C%2037.41999%5D%2C%20%5B75.158028%2C%2037.133031%5D%2C%20%5B74.575893%2C%2037.020841%5D%2C%20%5B74.067552%2C%2036.836176%5D%2C%20%5B72.920025%2C%2036.720007%5D%2C%20%5B71.846292%2C%2036.509942%5D%2C%20%5B71.262348%2C%2036.074388%5D%2C%20%5B71.498768%2C%2035.650563%5D%2C%20%5B71.613076%2C%2035.153203%5D%2C%20%5B71.115019%2C%2034.733126%5D%2C%20%5B71.156773%2C%2034.348911%5D%2C%20%5B70.881803%2C%2033.988856%5D%2C%20%5B69.930543%2C%2034.02012%5D%2C%20%5B70.323594%2C%2033.358533%5D%2C%20%5B69.687147%2C%2033.105499%5D%2C%20%5B69.262522%2C%2032.501944%5D%2C%20%5B69.317764%2C%2031.901412%5D%2C%20%5B68.926677%2C%2031.620189%5D%2C%20%5B68.556932%2C%2031.71331%5D%2C%20%5B67.792689%2C%2031.58293%5D%2C%20%5B67.683394%2C%2031.303154%5D%2C%20%5B66.938891%2C%2031.304911%5D%2C%20%5B66.381458%2C%2030.738899%5D%2C%20%5B66.346473%2C%2029.887943%5D%2C%20%5B65.046862%2C%2029.472181%5D%2C%20%5B64.350419%2C%2029.560031%5D%2C%20%5B64.148002%2C%2029.340819%5D%2C%20%5B63.550261%2C%2029.468331%5D%2C%20%5B62.549857%2C%2029.318572%5D%2C%20%5B60.874248%2C%2029.829239%5D%2C%20%5B61.781222%2C%2030.73585%5D%2C%20%5B61.699314%2C%2031.379506%5D%2C%20%5B60.941945%2C%2031.548075%5D%2C%20%5B60.863655%2C%2032.18292%5D%2C%20%5B60.536078%2C%2032.981269%5D%2C%20%5B60.9637%2C%2033.528832%5D%2C%20%5B60.52843%2C%2033.676446%5D%2C%20%5B60.803193%2C%2034.404102%5D%2C%20%5B61.210817%2C%2035.650072%5D%5D%5D%2C%20%22type%22%3A%20%22Polygon%22%7D%2C%20%22id%22%3A%20%22AFG%22%2C%20%22properties%22%3A%20%7B%22name%22%3A%20%22Afghanistan%22%7D%2C%20%22type%22%3A%20%22Feature%22%7D%2C%20%7B%22geometry%22%3A%20%7B%22coordinates%22%3A%20%5B%5B%5B%5B16.326528%2C%20-5.87747%5D%2C%20%5B16.57318%2C%20-6.622645%5D%2C%20%5B16.860191%2C%20-7.222298%5D%2C%20%5B17.089996%2C%20-7.545689%5D%2C%20%5B17.47297%2C%20-8.068551%5D%2C%20%5B18.134222%2C%20-7.987678%5D%2C%20%5B18.464176%2C%20-7.847014%5D%2C%20%5B19.016752%2C%20-7.988246%5D%2C%20%5B19.166613%2C%20-7.738184%5D%2C%20%5B19.417502%2C%20-7.155429%5D%2C%20%5B20.037723%2C%20-7.116361%5D%2C%20%5B20.091622%2C%20-6.94309%5D%2C%20%5B20.601823%2C%20-6.939318%5D%2C%20%5B20.514748%2C%20-7.299606%5D%2C%20%5B21.728111%2C%20-7.290872%5D%2C%20%5B21.746456%2C%20-7.920085%5D%2C%20%5B21.949131%2C%20-8.305901%5D%2C%20%5B21.801801%2C%20-8.908707%5D%2C%20%5B21.875182%2C%20-9.523708%5D%2C%20%5B22.208753%2C%20-9.894796%5D%2C%20%5B22.155268%2C%20-11.084801%5D%2C%20%5B22.402798%2C%20-10.993075%5D%2C%20%5B22.837345%2C%20-11.017622%5D%2C%20%5B23.456791%2C%20-10.867863%5D%2C%20%5B23.912215%2C%20-10.926826%5D%2C%20%5B24.017894%2C%20-11.237298%5D%2C%20%5B23.904154%2C%20-11.722282%5D%2C%20%5B24.079905%2C%20-12.191297%5D%2C%20%5B23.930922%2C%20-12.565848%5D%2C%20%5B24.016137%2C%20-12.911046%5D%2C%20%5B21.933886%2C%20-12.898437%5D%2C%20%5B21.887843%2C%20-16.08031%5D%2C%20%5B22.562478%2C%20-16.898451%5D%2C%20%5B23.215048%2C%20-17.523116%5D%2C%20%5B21.377176%2C%20-17.930636%5D%2C%20%5B18.956187%2C%20-17.789095%5D%2C%20%5B18.263309%2C%20-17.309951%5D%2C%20%5B14.209707%2C%20-17.353101%5D%2C%20%5B14.058501%2C%20-17.423381%5D%2C%20%5B13.462362%2C%20-16.971212%5D%2C%20%5B12.814081%2C%20-16.941343%5D%2C%20%5B12.215461%2C%20-17.111668%5D%2C%20%5B11.734199%2C%20-17.301889%5D%2C%20%5B11.640096%2C%20-16.673142%5D%2C%20%5B11.778537%2C%20-15.793816%5D%2C%20%5B12.123581%2C%20-14.878316%5D%2C%20%5B12.175619%2C%20-14.449144%5D%2C%20%5B12.500095%2C%20-13.5477%5D%2C%20%5B12.738479%2C%20-13.137906%5D%2C%20%5B13.312914%2C%20-12.48363%5D%2C%20%5B13.633721%2C%20-12.038645%5D%2C%20%5B13.738728%2C%20-11.297863%5D%2C%20%5B13.686379%2C%20-10.731076%5D%2C%20%5B13.387328%2C%20-10.373578%5D%2C%20%5B13.120988%2C%20-9.766897%5D%2C%20%5B12.87537%2C%20-9.166934%5D%2C%20%5B12.929061%2C%20-8.959091%5D%2C%20%5B13.236433%2C%20-8.562629%5D%2C%20%5B12.93304%2C%20-7.596539%5D%2C%20%5B12.728298%2C%20-6.927122%5D%2C%20%5B12.227347%2C%20-6.294448%5D%2C%20%5B12.322432%2C%20-6.100092%5D%2C%20%5B12.735171%2C%20-5.965682%5D%2C%20%5B13.024869%2C%20-5.984389%5D%2C%20%5B13.375597%2C%20-5.864241%5D%2C%20%5B16.326528%2C%20-5.87747%5D%5D%5D%2C%20%5B%5B%5B12.436688%2C%20-5.684304%5D%2C%20%5B12.182337%2C%20-5.789931%5D%2C%20%5B11.914963%2C%20-5.037987%5D%2C%20%5B12.318608%2C%20-4.60623%5D%2C%20%5B12.62076%2C%20-4.438023%5D%2C%20%5B12.995517%2C%20-4.781103%5D%2C%20%5B12.631612%2C%20-4.991271%5D%2C%20%5B12.468004%2C%20-5.248362%5D%2C%20%5B12.436688%2C%20-5.684304%5D%5D%5D%5D%2C%20%22type%22%3A%20%22MultiPolygon%22%7D%2C%20%22id%22%3A%20%22AGO%22%2C%20%22properties%22%3A%20%7B%22name%22%3A%20%22Angola%22%7D%2C%20%22type%22%3A%20%22Feature%22%7D%2C%20%7B%22geometry%22%3A%20%7B%22coordinates%22%3A%20%5B%5B%5B20.590247%2C%2041.855404%5D%2C%20%5B20.463175%2C%2041.515089%5D%2C%20%5B20.605182%2C%2041.086226%5D%2C%20%5B21.02004%2C%2040.842727%5D%2C%20%5B20.99999%2C%2040.580004%5D%2C%20%5B20.674997%2C%2040.435%5D%2C%20%5B20.615%2C%2040.110007%5D%2C%20%5B20.150016%2C%2039.624998%5D%2C%20%5B19.98%2C%2039.694993%5D%2C%20%5B19.960002%2C%2039.915006%5D%2C%20%5B19.406082%2C%2040.250773%5D%2C%20%5B19.319059%2C%2040.72723%5D%2C%20%5B19.40355%2C%2041.409566%5D%2C%20%5B19.540027%2C%2041.719986%5D%2C%20%5B19.371769%2C%2041.877548%5D%2C%20%5B19.304486%2C%2042.195745%5D%2C%20%5B19.738051%2C%2042.688247%5D%2C%20%5B19.801613%2C%2042.500093%5D%2C%20%5B20.0707%2C%2042.58863%5D%2C%20%5B20.283755%2C%2042.32026%5D%2C%20%5B20.52295%2C%2042.21787%5D%2C%20%5B20.590247%2C%2041.855404%5D%5D%5D%2C%20%22type%22%3A%20%22Polygon%22%7D%2C%20%22id%22%3A%20%22ALB%22%2C%20%22properties%22%3A%20%7B%22name%22%3A%20%22Albania%22%7D%2C%20%22type%22%3A%20%22Feature%22%7D%2C%20%7B%22geometry%22%3A%20%7B%22coordinates%22%3A%20%5B%5B%5B51.579519%2C%2024.245497%5D%2C%20%5B51.757441%2C%2024.294073%5D%2C%20%5B51.794389%2C%2024.019826%5D%2C%20%5B52.577081%2C%2024.177439%5D%2C%20%5B53.404007%2C%2024.151317%5D%2C%20%5B54.008001%2C%2024.121758%5D%2C%20%5B54.693024%2C%2024.797892%5D%2C%20%5B55.439025%2C%2025.439145%5D%2C%20%5B56.070821%2C%2026.055464%5D%2C%20%5B56.261042%2C%2025.714606%5D%2C%20%5B56.396847%2C%2024.924732%5D%2C%20%5B55.886233%2C%2024.920831%5D%2C%20%5B55.804119%2C%2024.269604%5D%2C%20%5B55.981214%2C%2024.130543%5D%2C%20%5B55.528632%2C%2023.933604%5D%2C%20%5B55.525841%2C%2023.524869%5D%2C%20%5B55.234489%2C%2023.110993%5D%2C%20%5B55.208341%2C%2022.70833%5D%2C%20%5B55.006803%2C%2022.496948%5D%2C%20%5B52.000733%2C%2023.001154%5D%2C%20%5B51.617708%2C%2024.014219%5D%2C%20%5B51.579519%2C%2024.245497%5D%5D%5D%2C%20%22type%22%3A%20%22Polygon%22%7D%2C%20%22id%22%3A%20%22ARE%22%2C%20%22properties%22%3A%20%7B%22name%22%3A%20%22United%20Arab%20Emirates%22%7D%2C%20%22type%22%3A%20%22Feature%22%7D%2C%20%7B%22geometry%22%3A%20%7B%22coordinates%22%3A%20%5B%5B%5B%5B-65.5%2C%20-55.2%5D%2C%20%5B-66.45%2C%20-55.25%5D%2C%20%5B-66.95992%2C%20-54.89681%5D%2C%20%5B-67.56244%2C%20-54.87001%5D%2C%20%5B-68.63335%2C%20-54.8695%5D%2C%20%5B-68.63401%2C%20-52.63637%5D%2C%20%5B-68.25%2C%20-53.1%5D%2C%20%5B-67.75%2C%20-53.85%5D%2C%20%5B-66.45%2C%20-54.45%5D%2C%20%5B-65.05%2C%20-54.7%5D%2C%20%5B-65.5%2C%20-55.2%5D%5D%5D%2C%20%5B%5B%5B-64.964892%2C%20-22.075862%5D%2C%20%5B-64.377021%2C%20-22.798091%5D%2C%20%5B-63.986838%2C%20-21.993644%5D%2C%20%5B-62.846468%2C%20-22.034985%5D%2C%20%5B-62.685057%2C%20-22.249029%5D%2C%20%5B-60.846565%2C%20-23.880713%5D%2C%20%5B-60.028966%2C%20-24.032796%5D%2C%20%5B-58.807128%2C%20-24.771459%5D%2C%20%5B-57.777217%2C%20-25.16234%5D%2C%20%5B-57.63366%2C%20-25.603657%5D%2C%20%5B-58.618174%2C%20-27.123719%5D%2C%20%5B-57.60976%2C%20-27.395899%5D%2C%20%5B-56.486702%2C%20-27.548499%5D%2C%20%5B-55.695846%2C%20-27.387837%5D%2C%20%5B-54.788795%2C%20-26.621786%5D%2C%20%5B-54.625291%2C%20-25.739255%5D%2C%20%5B-54.13005%2C%20-25.547639%5D%2C%20%5B-53.628349%2C%20-26.124865%5D%2C%20%5B-53.648735%2C%20-26.923473%5D%2C%20%5B-54.490725%2C%20-27.474757%5D%2C%20%5B-55.162286%2C%20-27.881915%5D%2C%20%5B-56.2909%2C%20-28.852761%5D%2C%20%5B-57.625133%2C%20-30.216295%5D%2C%20%5B-57.874937%2C%20-31.016556%5D%2C%20%5B-58.14244%2C%20-32.044504%5D%2C%20%5B-58.132648%2C%20-33.040567%5D%2C%20%5B-58.349611%2C%20-33.263189%5D%2C%20%5B-58.427074%2C%20-33.909454%5D%2C%20%5B-58.495442%2C%20-34.43149%5D%2C%20%5B-57.22583%2C%20-35.288027%5D%2C%20%5B-57.362359%2C%20-35.97739%5D%2C%20%5B-56.737487%2C%20-36.413126%5D%2C%20%5B-56.788285%2C%20-36.901572%5D%2C%20%5B-57.749157%2C%20-38.183871%5D%2C%20%5B-59.231857%2C%20-38.72022%5D%2C%20%5B-61.237445%2C%20-38.928425%5D%2C%20%5B-62.335957%2C%20-38.827707%5D%2C%20%5B-62.125763%2C%20-39.424105%5D%2C%20%5B-62.330531%2C%20-40.172586%5D%2C%20%5B-62.145994%2C%20-40.676897%5D%2C%20%5B-62.745803%2C%20-41.028761%5D%2C%20%5B-63.770495%2C%20-41.166789%5D%2C%20%5B-64.73209%2C%20-40.802677%5D%2C%20%5B-65.118035%2C%20-41.064315%5D%2C%20%5B-64.978561%2C%20-42.058001%5D%2C%20%5B-64.303408%2C%20-42.359016%5D%2C%20%5B-63.755948%2C%20-42.043687%5D%2C%20%5B-63.458059%2C%20-42.563138%5D%2C%20%5B-64.378804%2C%20-42.873558%5D%2C%20%5B-65.181804%2C%20-43.495381%5D%2C%20%5B-65.328823%2C%20-44.501366%5D%2C%20%5B-65.565269%2C%20-45.036786%5D%2C%20%5B-66.509966%2C%20-45.039628%5D%2C%20%5B-67.293794%2C%20-45.551896%5D%2C%20%5B-67.580546%2C%20-46.301773%5D%2C%20%5B-66.597066%2C%20-47.033925%5D%2C%20%5B-65.641027%2C%20-47.236135%5D%2C%20%5B-65.985088%2C%20-48.133289%5D%2C%20%5B-67.166179%2C%20-48.697337%5D%2C%20%5B-67.816088%2C%20-49.869669%5D%2C%20%5B-68.728745%2C%20-50.264218%5D%2C%20%5B-69.138539%2C%20-50.73251%5D%2C%20%5B-68.815561%2C%20-51.771104%5D%2C%20%5B-68.149995%2C%20-52.349983%5D%2C%20%5B-68.571545%2C%20-52.299444%5D%2C%20%5B-69.498362%2C%20-52.142761%5D%2C%20%5B-71.914804%2C%20-52.009022%5D%2C%20%5B-72.329404%2C%20-51.425956%5D%2C%20%5B-72.309974%2C%20-50.67701%5D%2C%20%5B-72.975747%2C%20-50.74145%5D%2C%20%5B-73.328051%2C%20-50.378785%5D%2C%20%5B-73.415436%2C%20-49.318436%5D%2C%20%5B-72.648247%2C%20-48.878618%5D%2C%20%5B-72.331161%2C%20-48.244238%5D%2C%20%5B-72.447355%2C%20-47.738533%5D%2C%20%5B-71.917258%2C%20-46.884838%5D%2C%20%5B-71.552009%2C%20-45.560733%5D%2C%20%5B-71.659316%2C%20-44.973689%5D%2C%20%5B-71.222779%2C%20-44.784243%5D%2C%20%5B-71.329801%2C%20-44.407522%5D%2C%20%5B-71.793623%2C%20-44.207172%5D%2C%20%5B-71.464056%2C%20-43.787611%5D%2C%20%5B-71.915424%2C%20-43.408565%5D%2C%20%5B-72.148898%2C%20-42.254888%5D%2C%20%5B-71.746804%2C%20-42.051386%5D%2C%20%5B-71.915734%2C%20-40.832339%5D%2C%20%5B-71.680761%2C%20-39.808164%5D%2C%20%5B-71.413517%2C%20-38.916022%5D%2C%20%5B-70.814664%2C%20-38.552995%5D%2C%20%5B-71.118625%2C%20-37.576827%5D%2C%20%5B-71.121881%2C%20-36.658124%5D%2C%20%5B-70.364769%2C%20-36.005089%5D%2C%20%5B-70.388049%2C%20-35.169688%5D%2C%20%5B-69.817309%2C%20-34.193571%5D%2C%20%5B-69.814777%2C%20-33.273886%5D%2C%20%5B-70.074399%2C%20-33.09121%5D%2C%20%5B-70.535069%2C%20-31.36501%5D%2C%20%5B-69.919008%2C%20-30.336339%5D%2C%20%5B-70.01355%2C%20-29.367923%5D%2C%20%5B-69.65613%2C%20-28.459141%5D%2C%20%5B-69.001235%2C%20-27.521214%5D%2C%20%5B-68.295542%2C%20-26.89934%5D%2C%20%5B-68.5948%2C%20-26.506909%5D%2C%20%5B-68.386001%2C%20-26.185016%5D%2C%20%5B-68.417653%2C%20-24.518555%5D%2C%20%5B-67.328443%2C%20-24.025303%5D%2C%20%5B-66.985234%2C%20-22.986349%5D%2C%20%5B-67.106674%2C%20-22.735925%5D%2C%20%5B-66.273339%2C%20-21.83231%5D%2C%20%5B-64.964892%2C%20-22.075862%5D%5D%5D%5D%2C%20%22type%22%3A%20%22MultiPolygon%22%7D%2C%20%22id%22%3A%20%22ARG%22%2C%20%22properties%22%3A%20%7B%22name%22%3A%20%22Argentina%22%7D%2C%20%22type%22%3A%20%22Feature%22%7D%2C%20%7B%22geometry%22%3A%20%7B%22coordinates%22%3A%20%5B%5B%5B43.582746%2C%2041.092143%5D%2C%20%5B44.97248%2C%2041.248129%5D%2C%20%5B45.179496%2C%2040.985354%5D%2C%20%5B45.560351%2C%2040.81229%5D%2C%20%5B45.359175%2C%2040.561504%5D%2C%20%5B45.891907%2C%2040.218476%5D%2C%20%5B45.610012%2C%2039.899994%5D%2C%20%5B46.034534%2C%2039.628021%5D%2C%20%5B46.483499%2C%2039.464155%5D%2C%20%5B46.50572%2C%2038.770605%5D%2C%20%5B46.143623%2C%2038.741201%5D%2C%20%5B45.735379%2C%2039.319719%5D%2C%20%5B45.739978%2C%2039.473999%5D%2C%20%5B45.298145%2C%2039.471751%5D%2C%20%5B45.001987%2C%2039.740004%5D%2C%20%5B44.79399%2C%2039.713003%5D%2C%20%5B44.400009%2C%2040.005%5D%2C%20%5B43.656436%2C%2040.253564%5D%2C%20%5B43.752658%2C%2040.740201%5D%2C%20%5B43.582746%2C%2041.092143%5D%5D%5D%2C%20%22type%22%3A%20%22Polygon%22%7D%2C%20%22id%22%3A%20%22ARM%22%2C%20%22properties%22%3A%20%7B%22name%22%3A%20%22Armenia%22%7D%2C%20%22type%22%3A%20%22Feature%22%7D%2C%20%7B%22geometry%22%3A%20%7B%22coordinates%22%3A%20%5B%5B%5B%5B-59.572095%2C%20-80.040179%5D%2C%20%5B-59.865849%2C%20-80.549657%5D%2C%20%5B-60.159656%2C%20-81.000327%5D%2C%20%5B-62.255393%2C%20-80.863178%5D%2C%20%5B-64.488125%2C%20-80.921934%5D%2C%20%5B-65.741666%2C%20-80.588827%5D%2C%20%5B-65.741666%2C%20-80.549657%5D%2C%20%5B-66.290031%2C%20-80.255773%5D%2C%20%5B-64.037688%2C%20-80.294944%5D%2C%20%5B-61.883246%2C%20-80.39287%5D%2C%20%5B-61.138976%2C%20-79.981371%5D%2C%20%5B-60.610119%2C%20-79.628679%5D%2C%20%5B-59.572095%2C%20-80.040179%5D%5D%5D%2C%20%5B%5B%5B-159.208184%2C%20-79.497059%5D%2C%20%5B-161.127601%2C%20-79.634209%5D%2C%20%5B-162.439847%2C%20-79.281465%5D%2C%20%5B-163.027408%2C%20-78.928774%5D%2C%20%5B-163.066604%2C%20-78.869966%5D%2C%20%5B-163.712896%2C%20-78.595667%5D%2C%20%5B-163.712896%2C%20-78.595667%5D%2C%20%5B-163.105801%2C%20-78.223338%5D%2C%20%5B-161.245113%2C%20-78.380176%5D%2C%20%5B-160.246208%2C%20-78.693645%5D%2C%20%5B-159.482405%2C%20-79.046338%5D%2C%20%5B-159.208184%2C%20-79.497059%5D%5D%5D%2C%20%5B%5B%5B-45.154758%2C%20-78.04707%5D%2C%20%5B-43.920828%2C%20-78.478103%5D%2C%20%5B-43.48995%2C%20-79.08556%5D%2C%20%5B-43.372438%2C%20-79.516645%5D%2C%20%5B-43.333267%2C%20-80.026123%5D%2C%20%5B-44.880537%2C%20-80.339644%5D%2C%20%5B-46.506174%2C%20-80.594357%5D%2C%20%5B-48.386421%2C%20-80.829485%5D%2C%20%5B-50.482107%2C%20-81.025442%5D%2C%20%5B-52.851988%2C%20-80.966685%5D%2C%20%5B-54.164259%2C%20-80.633528%5D%2C%20%5B-53.987991%2C%20-80.222028%5D%2C%20%5B-51.853134%2C%20-79.94773%5D%2C%20%5B-50.991326%2C%20-79.614623%5D%2C%20%5B-50.364595%2C%20-79.183487%5D%2C%20%5B-49.914131%2C%20-78.811209%5D%2C%20%5B-49.306959%2C%20-78.458569%5D%2C%20%5B-48.660616%2C%20-78.047018%5D%2C%20%5B-48.660616%2C%20-78.047019%5D%2C%20%5B-48.151396%2C%20-78.04707%5D%2C%20%5B-46.662857%2C%20-77.831476%5D%2C%20%5B-45.154758%2C%20-78.04707%5D%5D%5D%2C%20%5B%5B%5B-121.211511%2C%20-73.50099%5D%2C%20%5B-119.918851%2C%20-73.657725%5D%2C%20%5B-118.724143%2C%20-73.481353%5D%2C%20%5B-119.292119%2C%20-73.834097%5D%2C%20%5B-120.232217%2C%20-74.08881%5D%2C%20%5B-121.62283%2C%20-74.010468%5D%2C%20%5B-122.621735%2C%20-73.657778%5D%2C%20%5B-122.621735%2C%20-73.657777%5D%2C%20%5B-122.406245%2C%20-73.324619%5D%2C%20%5B-121.211511%2C%20-73.50099%5D%5D%5D%2C%20%5B%5B%5B-125.559566%2C%20-73.481353%5D%2C%20%5B-124.031882%2C%20-73.873268%5D%2C%20%5B-124.619469%2C%20-73.834097%5D%2C%20%5B-125.912181%2C%20-73.736118%5D%2C%20%5B-127.28313%2C%20-73.461769%5D%2C%20%5B-127.28313%2C%20-73.461768%5D%2C%20%5B-126.558472%2C%20-73.246226%5D%2C%20%5B-125.559566%2C%20-73.481353%5D%5D%5D%2C%20%5B%5B%5B-98.98155%2C%20-71.933334%5D%2C%20%5B-97.884743%2C%20-72.070535%5D%2C%20%5B-96.787937%2C%20-71.952971%5D%2C%20%5B-96.20035%2C%20-72.521205%5D%2C%20%5B-96.983765%2C%20-72.442864%5D%2C%20%5B-98.198083%2C%20-72.482035%5D%2C%20%5B-99.432013%2C%20-72.442864%5D%2C%20%5B-100.783455%2C%20-72.50162%5D%2C%20%5B-101.801868%2C%20-72.305663%5D%2C%20%5B-102.330725%2C%20-71.894164%5D%2C%20%5B-102.330725%2C%20-71.894164%5D%2C%20%5B-101.703967%2C%20-71.717792%5D%2C%20%5B-100.430919%2C%20-71.854993%5D%2C%20%5B-98.98155%2C%20-71.933334%5D%5D%5D%2C%20%5B%5B%5B-68.451346%2C%20-70.955823%5D%2C%20%5B-68.333834%2C%20-71.406493%5D%2C%20%5B-68.510128%2C%20-71.798407%5D%2C%20%5B-68.784297%2C%20-72.170736%5D%2C%20%5B-69.959471%2C%20-72.307885%5D%2C%20%5B-71.075889%2C%20-72.503842%5D%2C%20%5B-72.388134%2C%20-72.484257%5D%2C%20%5B-71.8985%2C%20-72.092343%5D%2C%20%5B-73.073622%2C%20-72.229492%5D%2C%20%5B-74.19004%2C%20-72.366693%5D%2C%20%5B-74.953895%2C%20-72.072757%5D%2C%20%5B-75.012625%2C%20-71.661258%5D%2C%20%5B-73.915819%2C%20-71.269345%5D%2C%20%5B-73.915819%2C%20-71.269344%5D%2C%20%5B-73.230331%2C%20-71.15178%5D%2C%20%5B-72.074717%2C%20-71.190951%5D%2C%20%5B-71.780962%2C%20-70.681473%5D%2C%20%5B-71.72218%2C%20-70.309196%5D%2C%20%5B-71.741791%2C%20-69.505782%5D%2C%20%5B-71.173815%2C%20-69.035475%5D%2C%20%5B-70.253252%2C%20-68.87874%5D%2C%20%5B-69.724447%2C%20-69.251017%5D%2C%20%5B-69.489422%2C%20-69.623346%5D%2C%20%5B-69.058518%2C%20-70.074016%5D%2C%20%5B-68.725541%2C%20-70.505153%5D%2C%20%5B-68.451346%2C%20-70.955823%5D%5D%5D%2C%20%5B%5B%5B-58.614143%2C%20-64.152467%5D%2C%20%5B-59.045073%2C%20-64.36801%5D%2C%20%5B-59.789342%2C%20-64.211223%5D%2C%20%5B-60.611928%2C%20-64.309202%5D%2C%20%5B-61.297416%2C%20-64.54433%5D%2C%20%5B-62.0221%2C%20-64.799094%5D%2C%20%5B-62.51176%2C%20-65.09303%5D%2C%20%5B-62.648858%2C%20-65.484942%5D%2C%20%5B-62.590128%2C%20-65.857219%5D%2C%20%5B-62.120079%2C%20-66.190326%5D%2C%20%5B-62.805567%2C%20-66.425505%5D%2C%20%5B-63.74569%2C%20-66.503847%5D%2C%20%5B-64.294106%2C%20-66.837004%5D%2C%20%5B-64.881693%2C%20-67.150474%5D%2C%20%5B-65.508425%2C%20-67.58161%5D%2C%20%5B-65.665082%2C%20-67.953887%5D%2C%20%5B-65.312545%2C%20-68.365335%5D%2C%20%5B-64.783715%2C%20-68.678908%5D%2C%20%5B-63.961103%2C%20-68.913984%5D%2C%20%5B-63.1973%2C%20-69.227556%5D%2C%20%5B-62.785955%2C%20-69.619419%5D%2C%20%5B-62.570516%2C%20-69.991747%5D%2C%20%5B-62.276736%2C%20-70.383661%5D%2C%20%5B-61.806661%2C%20-70.716768%5D%2C%20%5B-61.512906%2C%20-71.089045%5D%2C%20%5B-61.375809%2C%20-72.010074%5D%2C%20%5B-61.081977%2C%20-72.382351%5D%2C%20%5B-61.003661%2C%20-72.774265%5D%2C%20%5B-60.690269%2C%20-73.166179%5D%2C%20%5B-60.827367%2C%20-73.695242%5D%2C%20%5B-61.375809%2C%20-74.106742%5D%2C%20%5B-61.96337%2C%20-74.439848%5D%2C%20%5B-63.295201%2C%20-74.576997%5D%2C%20%5B-63.74569%2C%20-74.92974%5D%2C%20%5B-64.352836%2C%20-75.262847%5D%2C%20%5B-65.860987%2C%20-75.635124%5D%2C%20%5B-67.192818%2C%20-75.79191%5D%2C%20%5B-68.446282%2C%20-76.007452%5D%2C%20%5B-69.797724%2C%20-76.222995%5D%2C%20%5B-70.600724%2C%20-76.634494%5D%2C%20%5B-72.206776%2C%20-76.673665%5D%2C%20%5B-73.969536%2C%20-76.634494%5D%2C%20%5B-75.555977%2C%20-76.712887%5D%2C%20%5B-77.24037%2C%20-76.712887%5D%2C%20%5B-76.926979%2C%20-77.104802%5D%2C%20%5B-75.399294%2C%20-77.28107%5D%2C%20%5B-74.282876%2C%20-77.55542%5D%2C%20%5B-73.656119%2C%20-77.908112%5D%2C%20%5B-74.772536%2C%20-78.221633%5D%2C%20%5B-76.4961%2C%20-78.123654%5D%2C%20%5B-77.925858%2C%20-78.378419%5D%2C%20%5B-77.984666%2C%20-78.789918%5D%2C%20%5B-78.023785%2C%20-79.181833%5D%2C%20%5B-76.848637%2C%20-79.514939%5D%2C%20%5B-76.633224%2C%20-79.887216%5D%2C%20%5B-75.360097%2C%20-80.259545%5D%2C%20%5B-73.244852%2C%20-80.416331%5D%2C%20%5B-71.442946%2C%20-80.69063%5D%2C%20%5B-70.013163%2C%20-81.004151%5D%2C%20%5B-68.191646%2C%20-81.317672%5D%2C%20%5B-65.704279%2C%20-81.474458%5D%2C%20%5B-63.25603%2C%20-81.748757%5D%2C%20%5B-61.552026%2C%20-82.042692%5D%2C%20%5B-59.691416%2C%20-82.37585%5D%2C%20%5B-58.712121%2C%20-82.846106%5D%2C%20%5B-58.222487%2C%20-83.218434%5D%2C%20%5B-57.008117%2C%20-82.865691%5D%2C%20%5B-55.362894%2C%20-82.571755%5D%2C%20%5B-53.619771%2C%20-82.258235%5D%2C%20%5B-51.543644%2C%20-82.003521%5D%2C%20%5B-49.76135%2C%20-81.729171%5D%2C%20%5B-47.273931%2C%20-81.709586%5D%2C%20%5B-44.825708%2C%20-81.846735%5D%2C%20%5B-42.808363%2C%20-82.081915%5D%2C%20%5B-42.16202%2C%20-81.65083%5D%2C%20%5B-40.771433%2C%20-81.356894%5D%2C%20%5B-38.244818%2C%20-81.337309%5D%2C%20%5B-36.26667%2C%20-81.121715%5D%2C%20%5B-34.386397%2C%20-80.906172%5D%2C%20%5B-32.310296%2C%20-80.769023%5D%2C%20%5B-30.097098%2C%20-80.592651%5D%2C%20%5B-28.549802%2C%20-80.337938%5D%2C%20%5B-29.254901%2C%20-79.985195%5D%2C%20%5B-29.685805%2C%20-79.632503%5D%2C%20%5B-29.685805%2C%20-79.260226%5D%2C%20%5B-31.624808%2C%20-79.299397%5D%2C%20%5B-33.681324%2C%20-79.456132%5D%2C%20%5B-35.639912%2C%20-79.456132%5D%2C%20%5B-35.914107%2C%20-79.083855%5D%2C%20%5B-35.77701%2C%20-78.339248%5D%2C%20%5B-35.326546%2C%20-78.123654%5D%2C%20%5B-33.896763%2C%20-77.888526%5D%2C%20%5B-32.212369%2C%20-77.65345%5D%2C%20%5B-30.998051%2C%20-77.359515%5D%2C%20%5B-29.783732%2C%20-77.065579%5D%2C%20%5B-28.882779%2C%20-76.673665%5D%2C%20%5B-27.511752%2C%20-76.497345%5D%2C%20%5B-26.160336%2C%20-76.360144%5D%2C%20%5B-25.474822%2C%20-76.281803%5D%2C%20%5B-23.927552%2C%20-76.24258%5D%2C%20%5B-22.458598%2C%20-76.105431%5D%2C%20%5B-21.224694%2C%20-75.909474%5D%2C%20%5B-20.010375%2C%20-75.674346%5D%2C%20%5B-18.913543%2C%20-75.439218%5D%2C%20%5B-17.522982%2C%20-75.125698%5D%2C%20%5B-16.641589%2C%20-74.79254%5D%2C%20%5B-15.701491%2C%20-74.498604%5D%2C%20%5B-15.40771%2C%20-74.106742%5D%2C%20%5B-16.46532%2C%20-73.871614%5D%2C%20%5B-16.112784%2C%20-73.460114%5D%2C%20%5B-15.446855%2C%20-73.146542%5D%2C%20%5B-14.408805%2C%20-72.950585%5D%2C%20%5B-13.311973%2C%20-72.715457%5D%2C%20%5B-12.293508%2C%20-72.401936%5D%2C%20%5B-11.510067%2C%20-72.010074%5D%2C%20%5B-11.020433%2C%20-71.539767%5D%2C%20%5B-10.295774%2C%20-71.265416%5D%2C%20%5B-9.101015%2C%20-71.324224%5D%2C%20%5B-8.611381%2C%20-71.65733%5D%2C%20%5B-7.416622%2C%20-71.696501%5D%2C%20%5B-7.377451%2C%20-71.324224%5D%2C%20%5B-6.868232%2C%20-70.93231%5D%2C%20%5B-5.790985%2C%20-71.030289%5D%2C%20%5B-5.536375%2C%20-71.402617%5D%2C%20%5B-4.341667%2C%20-71.461373%5D%2C%20%5B-3.048981%2C%20-71.285053%5D%2C%20%5B-1.795492%2C%20-71.167438%5D%2C%20%5B-0.659489%2C%20-71.226246%5D%2C%20%5B-0.228637%2C%20-71.637745%5D%2C%20%5B0.868195%2C%20-71.304639%5D%2C%20%5B1.886686%2C%20-71.128267%5D%2C%20%5B3.022638%2C%20-70.991118%5D%2C%20%5B4.139055%2C%20-70.853917%5D%2C%20%5B5.157546%2C%20-70.618789%5D%2C%20%5B6.273912%2C%20-70.462055%5D%2C%20%5B7.13572%2C%20-70.246512%5D%2C%20%5B7.742866%2C%20-69.893769%5D%2C%20%5B8.48711%2C%20-70.148534%5D%2C%20%5B9.525135%2C%20-70.011333%5D%2C%20%5B10.249845%2C%20-70.48164%5D%2C%20%5B10.817821%2C%20-70.834332%5D%2C%20%5B11.953824%2C%20-70.638375%5D%2C%20%5B12.404287%2C%20-70.246512%5D%2C%20%5B13.422778%2C%20-69.972162%5D%2C%20%5B14.734998%2C%20-70.030918%5D%2C%20%5B15.126757%2C%20-70.403247%5D%2C%20%5B15.949342%2C%20-70.030918%5D%2C%20%5B17.026589%2C%20-69.913354%5D%2C%20%5B18.201711%2C%20-69.874183%5D%2C%20%5B19.259373%2C%20-69.893769%5D%2C%20%5B20.375739%2C%20-70.011333%5D%2C%20%5B21.452985%2C%20-70.07014%5D%2C%20%5B21.923034%2C%20-70.403247%5D%2C%20%5B22.569403%2C%20-70.697182%5D%2C%20%5B23.666184%2C%20-70.520811%5D%2C%20%5B24.841357%2C%20-70.48164%5D%2C%20%5B25.977309%2C%20-70.48164%5D%2C%20%5B27.093726%2C%20-70.462055%5D%2C%20%5B28.09258%2C%20-70.324854%5D%2C%20%5B29.150242%2C%20-70.20729%5D%2C%20%5B30.031583%2C%20-69.93294%5D%2C%20%5B30.971733%2C%20-69.75662%5D%2C%20%5B31.990172%2C%20-69.658641%5D%2C%20%5B32.754053%2C%20-69.384291%5D%2C%20%5B33.302443%2C%20-68.835642%5D%2C%20%5B33.870419%2C%20-68.502588%5D%2C%20%5B34.908495%2C%20-68.659271%5D%2C%20%5B35.300202%2C%20-69.012014%5D%2C%20%5B36.16201%2C%20-69.247142%5D%2C%20%5B37.200035%2C%20-69.168748%5D%2C%20%5B37.905108%2C%20-69.52144%5D%2C%20%5B38.649404%2C%20-69.776205%5D%2C%20%5B39.667894%2C%20-69.541077%5D%2C%20%5B40.020431%2C%20-69.109941%5D%2C%20%5B40.921358%2C%20-68.933621%5D%2C%20%5B41.959434%2C%20-68.600514%5D%2C%20%5B42.938702%2C%20-68.463313%5D%2C%20%5B44.113876%2C%20-68.267408%5D%2C%20%5B44.897291%2C%20-68.051866%5D%2C%20%5B45.719928%2C%20-67.816738%5D%2C%20%5B46.503343%2C%20-67.601196%5D%2C%20%5B47.44344%2C%20-67.718759%5D%2C%20%5B48.344419%2C%20-67.366068%5D%2C%20%5B48.990736%2C%20-67.091718%5D%2C%20%5B49.930885%2C%20-67.111303%5D%2C%20%5B50.753471%2C%20-66.876175%5D%2C%20%5B50.949325%2C%20-66.523484%5D%2C%20%5B51.791547%2C%20-66.249133%5D%2C%20%5B52.614133%2C%20-66.053176%5D%2C%20%5B53.613038%2C%20-65.89639%5D%2C%20%5B54.53355%2C%20-65.818049%5D%2C%20%5B55.414943%2C%20-65.876805%5D%2C%20%5B56.355041%2C%20-65.974783%5D%2C%20%5B57.158093%2C%20-66.249133%5D%2C%20%5B57.255968%2C%20-66.680218%5D%2C%20%5B58.137361%2C%20-67.013324%5D%2C%20%5B58.744508%2C%20-67.287675%5D%2C%20%5B59.939318%2C%20-67.405239%5D%2C%20%5B60.605221%2C%20-67.679589%5D%2C%20%5B61.427806%2C%20-67.953887%5D%2C%20%5B62.387489%2C%20-68.012695%5D%2C%20%5B63.19049%2C%20-67.816738%5D%2C%20%5B64.052349%2C%20-67.405239%5D%2C%20%5B64.992447%2C%20-67.620729%5D%2C%20%5B65.971715%2C%20-67.738345%5D%2C%20%5B66.911864%2C%20-67.855909%5D%2C%20%5B67.891133%2C%20-67.934302%5D%2C%20%5B68.890038%2C%20-67.934302%5D%2C%20%5B69.712624%2C%20-68.972791%5D%2C%20%5B69.673453%2C%20-69.227556%5D%2C%20%5B69.555941%2C%20-69.678226%5D%2C%20%5B68.596258%2C%20-69.93294%5D%2C%20%5B67.81274%2C%20-70.305268%5D%2C%20%5B67.949889%2C%20-70.697182%5D%2C%20%5B69.066307%2C%20-70.677545%5D%2C%20%5B68.929157%2C%20-71.069459%5D%2C%20%5B68.419989%2C%20-71.441788%5D%2C%20%5B67.949889%2C%20-71.853287%5D%2C%20%5B68.71377%2C%20-72.166808%5D%2C%20%5B69.869307%2C%20-72.264787%5D%2C%20%5B71.024895%2C%20-72.088415%5D%2C%20%5B71.573285%2C%20-71.696501%5D%2C%20%5B71.906288%2C%20-71.324224%5D%2C%20%5B72.454627%2C%20-71.010703%5D%2C%20%5B73.08141%2C%20-70.716768%5D%2C%20%5B73.33602%2C%20-70.364024%5D%2C%20%5B73.864877%2C%20-69.874183%5D%2C%20%5B74.491557%2C%20-69.776205%5D%2C%20%5B75.62756%2C%20-69.737034%5D%2C%20%5B76.626465%2C%20-69.619419%5D%2C%20%5B77.644904%2C%20-69.462684%5D%2C%20%5B78.134539%2C%20-69.07077%5D%2C%20%5B78.428371%2C%20-68.698441%5D%2C%20%5B79.113859%2C%20-68.326216%5D%2C%20%5B80.093127%2C%20-68.071503%5D%2C%20%5B80.93535%2C%20-67.875546%5D%2C%20%5B81.483792%2C%20-67.542388%5D%2C%20%5B82.051767%2C%20-67.366068%5D%2C%20%5B82.776426%2C%20-67.209282%5D%2C%20%5B83.775331%2C%20-67.30726%5D%2C%20%5B84.676206%2C%20-67.209282%5D%2C%20%5B85.655527%2C%20-67.091718%5D%2C%20%5B86.752359%2C%20-67.150474%5D%2C%20%5B87.477017%2C%20-66.876175%5D%2C%20%5B87.986289%2C%20-66.209911%5D%2C%20%5B88.358411%2C%20-66.484261%5D%2C%20%5B88.828408%2C%20-66.954568%5D%2C%20%5B89.67063%2C%20-67.150474%5D%2C%20%5B90.630365%2C%20-67.228867%5D%2C%20%5B91.5901%2C%20-67.111303%5D%2C%20%5B92.608539%2C%20-67.189696%5D%2C%20%5B93.548637%2C%20-67.209282%5D%2C%20%5B94.17542%2C%20-67.111303%5D%2C%20%5B95.017591%2C%20-67.170111%5D%2C%20%5B95.781472%2C%20-67.385653%5D%2C%20%5B96.682399%2C%20-67.248504%5D%2C%20%5B97.759646%2C%20-67.248504%5D%2C%20%5B98.68021%2C%20-67.111303%5D%2C%20%5B99.718182%2C%20-67.248504%5D%2C%20%5B100.384188%2C%20-66.915346%5D%2C%20%5B100.893356%2C%20-66.58224%5D%2C%20%5B101.578896%2C%20-66.30789%5D%2C%20%5B102.832411%2C%20-65.563284%5D%2C%20%5B103.478676%2C%20-65.700485%5D%2C%20%5B104.242557%2C%20-65.974783%5D%2C%20%5B104.90846%2C%20-66.327527%5D%2C%20%5B106.181561%2C%20-66.934931%5D%2C%20%5B107.160881%2C%20-66.954568%5D%2C%20%5B108.081393%2C%20-66.954568%5D%2C%20%5B109.15864%2C%20-66.837004%5D%2C%20%5B110.235835%2C%20-66.699804%5D%2C%20%5B111.058472%2C%20-66.425505%5D%2C%20%5B111.74396%2C%20-66.13157%5D%2C%20%5B112.860378%2C%20-66.092347%5D%2C%20%5B113.604673%2C%20-65.876805%5D%2C%20%5B114.388088%2C%20-66.072762%5D%2C%20%5B114.897308%2C%20-66.386283%5D%2C%20%5B115.602381%2C%20-66.699804%5D%2C%20%5B116.699161%2C%20-66.660633%5D%2C%20%5B117.384701%2C%20-66.915346%5D%2C%20%5B118.57946%2C%20-67.170111%5D%2C%20%5B119.832924%2C%20-67.268089%5D%2C%20%5B120.871%2C%20-67.189696%5D%2C%20%5B121.654415%2C%20-66.876175%5D%2C%20%5B122.320369%2C%20-66.562654%5D%2C%20%5B123.221296%2C%20-66.484261%5D%2C%20%5B124.122274%2C%20-66.621462%5D%2C%20%5B125.160247%2C%20-66.719389%5D%2C%20%5B126.100396%2C%20-66.562654%5D%2C%20%5B127.001427%2C%20-66.562654%5D%2C%20%5B127.882768%2C%20-66.660633%5D%2C%20%5B128.80328%2C%20-66.758611%5D%2C%20%5B129.704259%2C%20-66.58224%5D%2C%20%5B130.781454%2C%20-66.425505%5D%2C%20%5B131.799945%2C%20-66.386283%5D%2C%20%5B132.935896%2C%20-66.386283%5D%2C%20%5B133.85646%2C%20-66.288304%5D%2C%20%5B134.757387%2C%20-66.209963%5D%2C%20%5B135.031582%2C%20-65.72007%5D%2C%20%5B135.070753%2C%20-65.308571%5D%2C%20%5B135.697485%2C%20-65.582869%5D%2C%20%5B135.873805%2C%20-66.033591%5D%2C%20%5B136.206705%2C%20-66.44509%5D%2C%20%5B136.618049%2C%20-66.778197%5D%2C%20%5B137.460271%2C%20-66.954568%5D%2C%20%5B138.596223%2C%20-66.895761%5D%2C%20%5B139.908442%2C%20-66.876175%5D%2C%20%5B140.809421%2C%20-66.817367%5D%2C%20%5B142.121692%2C%20-66.817367%5D%2C%20%5B143.061842%2C%20-66.797782%5D%2C%20%5B144.374061%2C%20-66.837004%5D%2C%20%5B145.490427%2C%20-66.915346%5D%2C%20%5B146.195552%2C%20-67.228867%5D%2C%20%5B145.999699%2C%20-67.601196%5D%2C%20%5B146.646067%2C%20-67.895131%5D%2C%20%5B147.723263%2C%20-68.130259%5D%2C%20%5B148.839629%2C%20-68.385024%5D%2C%20%5B150.132314%2C%20-68.561292%5D%2C%20%5B151.483705%2C%20-68.71813%5D%2C%20%5B152.502247%2C%20-68.874813%5D%2C%20%5B153.638199%2C%20-68.894502%5D%2C%20%5B154.284567%2C%20-68.561292%5D%2C%20%5B155.165857%2C%20-68.835642%5D%2C%20%5B155.92979%2C%20-69.149215%5D%2C%20%5B156.811132%2C%20-69.384291%5D%2C%20%5B158.025528%2C%20-69.482269%5D%2C%20%5B159.181013%2C%20-69.599833%5D%2C%20%5B159.670699%2C%20-69.991747%5D%2C%20%5B160.80665%2C%20-70.226875%5D%2C%20%5B161.570479%2C%20-70.579618%5D%2C%20%5B162.686897%2C%20-70.736353%5D%2C%20%5B163.842434%2C%20-70.716768%5D%2C%20%5B164.919681%2C%20-70.775524%5D%2C%20%5B166.11444%2C%20-70.755938%5D%2C%20%5B167.309095%2C%20-70.834332%5D%2C%20%5B168.425616%2C%20-70.971481%5D%2C%20%5B169.463589%2C%20-71.20666%5D%2C%20%5B170.501665%2C%20-71.402617%5D%2C%20%5B171.20679%2C%20-71.696501%5D%2C%20%5B171.089227%2C%20-72.088415%5D%2C%20%5B170.560422%2C%20-72.441159%5D%2C%20%5B170.109958%2C%20-72.891829%5D%2C%20%5B169.75737%2C%20-73.24452%5D%2C%20%5B169.287321%2C%20-73.65602%5D%2C%20%5B167.975101%2C%20-73.812806%5D%2C%20%5B167.387489%2C%20-74.165498%5D%2C%20%5B166.094803%2C%20-74.38104%5D%2C%20%5B165.644391%2C%20-74.772954%5D%2C%20%5B164.958851%2C%20-75.145283%5D%2C%20%5B164.234193%2C%20-75.458804%5D%2C%20%5B163.822797%2C%20-75.870303%5D%2C%20%5B163.568239%2C%20-76.24258%5D%2C%20%5B163.47026%2C%20-76.693302%5D%2C%20%5B163.489897%2C%20-77.065579%5D%2C%20%5B164.057873%2C%20-77.457442%5D%2C%20%5B164.273363%2C%20-77.82977%5D%2C%20%5B164.743464%2C%20-78.182514%5D%2C%20%5B166.604126%2C%20-78.319611%5D%2C%20%5B166.995781%2C%20-78.750748%5D%2C%20%5B165.193876%2C%20-78.907483%5D%2C%20%5B163.666217%2C%20-79.123025%5D%2C%20%5B161.766385%2C%20-79.162248%5D%2C%20%5B160.924162%2C%20-79.730482%5D%2C%20%5B160.747894%2C%20-80.200737%5D%2C%20%5B160.316964%2C%20-80.573066%5D%2C%20%5B159.788211%2C%20-80.945395%5D%2C%20%5B161.120016%2C%20-81.278501%5D%2C%20%5B161.629287%2C%20-81.690001%5D%2C%20%5B162.490992%2C%20-82.062278%5D%2C%20%5B163.705336%2C%20-82.395435%5D%2C%20%5B165.095949%2C%20-82.708956%5D%2C%20%5B166.604126%2C%20-83.022477%5D%2C%20%5B168.895665%2C%20-83.335998%5D%2C%20%5B169.404782%2C%20-83.825891%5D%2C%20%5B172.283934%2C%20-84.041433%5D%2C%20%5B172.477049%2C%20-84.117914%5D%2C%20%5B173.224083%2C%20-84.41371%5D%2C%20%5B175.985672%2C%20-84.158997%5D%2C%20%5B178.277212%2C%20-84.472518%5D%2C%20%5B180%2C%20-84.71338%5D%2C%20%5B-179.942499%2C%20-84.721443%5D%2C%20%5B-179.058677%2C%20-84.139412%5D%2C%20%5B-177.256772%2C%20-84.452933%5D%2C%20%5B-177.140807%2C%20-84.417941%5D%2C%20%5B-176.084673%2C%20-84.099259%5D%2C%20%5B-175.947235%2C%20-84.110449%5D%2C%20%5B-175.829882%2C%20-84.117914%5D%2C%20%5B-174.382503%2C%20-84.534323%5D%2C%20%5B-173.116559%2C%20-84.117914%5D%2C%20%5B-172.889106%2C%20-84.061019%5D%2C%20%5B-169.951223%2C%20-83.884647%5D%2C%20%5B-168.999989%2C%20-84.117914%5D%2C%20%5B-168.530199%2C%20-84.23739%5D%2C%20%5B-167.022099%2C%20-84.570497%5D%2C%20%5B-164.182144%2C%20-84.82521%5D%2C%20%5B-161.929775%2C%20-85.138731%5D%2C%20%5B-158.07138%2C%20-85.37391%5D%2C%20%5B-155.192253%2C%20-85.09956%5D%2C%20%5B-150.942099%2C%20-85.295517%5D%2C%20%5B-148.533073%2C%20-85.609038%5D%2C%20%5B-145.888918%2C%20-85.315102%5D%2C%20%5B-143.107718%2C%20-85.040752%5D%2C%20%5B-142.892279%2C%20-84.570497%5D%2C%20%5B-146.829068%2C%20-84.531274%5D%2C%20%5B-150.060732%2C%20-84.296146%5D%2C%20%5B-150.902928%2C%20-83.904232%5D%2C%20%5B-153.586201%2C%20-83.68869%5D%2C%20%5B-153.409907%2C%20-83.23802%5D%2C%20%5B-153.037759%2C%20-82.82652%5D%2C%20%5B-152.665637%2C%20-82.454192%5D%2C%20%5B-152.861517%2C%20-82.042692%5D%2C%20%5B-154.526299%2C%20-81.768394%5D%2C%20%5B-155.29018%2C%20-81.41565%5D%2C%20%5B-156.83745%2C%20-81.102129%5D%2C%20%5B-154.408787%2C%20-81.160937%5D%2C%20%5B-152.097662%2C%20-81.004151%5D%2C%20%5B-150.648293%2C%20-81.337309%5D%2C%20%5B-148.865998%2C%20-81.043373%5D%2C%20%5B-147.22075%2C%20-80.671045%5D%2C%20%5B-146.417749%2C%20-80.337938%5D%2C%20%5B-146.770286%2C%20-79.926439%5D%2C%20%5B-148.062947%2C%20-79.652089%5D%2C%20%5B-149.531901%2C%20-79.358205%5D%2C%20%5B-151.588416%2C%20-79.299397%5D%2C%20%5B-153.390322%2C%20-79.162248%5D%2C%20%5B-155.329376%2C%20-79.064269%5D%2C%20%5B-155.975668%2C%20-78.69194%5D%2C%20%5B-157.268302%2C%20-78.378419%5D%2C%20%5B-158.051768%2C%20-78.025676%5D%2C%20%5B-158.365134%2C%20-76.889207%5D%2C%20%5B-157.875474%2C%20-76.987238%5D%2C%20%5B-156.974573%2C%20-77.300759%5D%2C%20%5B-155.329376%2C%20-77.202728%5D%2C%20%5B-153.742832%2C%20-77.065579%5D%2C%20%5B-152.920247%2C%20-77.496664%5D%2C%20%5B-151.33378%2C%20-77.398737%5D%2C%20%5B-150.00195%2C%20-77.183143%5D%2C%20%5B-148.748486%2C%20-76.908845%5D%2C%20%5B-147.612483%2C%20-76.575738%5D%2C%20%5B-146.104409%2C%20-76.47776%5D%2C%20%5B-146.143528%2C%20-76.105431%5D%2C%20%5B-146.496091%2C%20-75.733154%5D%2C%20%5B-146.20231%2C%20-75.380411%5D%2C%20%5B-144.909624%2C%20-75.204039%5D%2C%20%5B-144.322037%2C%20-75.537197%5D%2C%20%5B-142.794353%2C%20-75.34124%5D%2C%20%5B-141.638764%2C%20-75.086475%5D%2C%20%5B-140.209007%2C%20-75.06689%5D%2C%20%5B-138.85759%2C%20-74.968911%5D%2C%20%5B-137.5062%2C%20-74.733783%5D%2C%20%5B-136.428901%2C%20-74.518241%5D%2C%20%5B-135.214583%2C%20-74.302699%5D%2C%20%5B-134.431194%2C%20-74.361455%5D%2C%20%5B-133.745654%2C%20-74.439848%5D%2C%20%5B-132.257168%2C%20-74.302699%5D%2C%20%5B-130.925311%2C%20-74.479019%5D%2C%20%5B-129.554284%2C%20-74.459433%5D%2C%20%5B-128.242038%2C%20-74.322284%5D%2C%20%5B-126.890622%2C%20-74.420263%5D%2C%20%5B-125.402082%2C%20-74.518241%5D%2C%20%5B-124.011496%2C%20-74.479019%5D%2C%20%5B-122.562152%2C%20-74.498604%5D%2C%20%5B-121.073613%2C%20-74.518241%5D%2C%20%5B-119.70256%2C%20-74.479019%5D%2C%20%5B-118.684145%2C%20-74.185083%5D%2C%20%5B-117.469801%2C%20-74.028348%5D%2C%20%5B-116.216312%2C%20-74.243891%5D%2C%20%5B-115.021552%2C%20-74.067519%5D%2C%20%5B-113.944331%2C%20-73.714828%5D%2C%20%5B-113.297988%2C%20-74.028348%5D%2C%20%5B-112.945452%2C%20-74.38104%5D%2C%20%5B-112.299083%2C%20-74.714198%5D%2C%20%5B-111.261059%2C%20-74.420263%5D%2C%20%5B-110.066325%2C%20-74.79254%5D%2C%20%5B-108.714909%2C%20-74.910103%5D%2C%20%5B-107.559346%2C%20-75.184454%5D%2C%20%5B-106.149148%2C%20-75.125698%5D%2C%20%5B-104.876074%2C%20-74.949326%5D%2C%20%5B-103.367949%2C%20-74.988497%5D%2C%20%5B-102.016507%2C%20-75.125698%5D%2C%20%5B-100.645531%2C%20-75.302018%5D%2C%20%5B-100.1167%2C%20-74.870933%5D%2C%20%5B-100.763043%2C%20-74.537826%5D%2C%20%5B-101.252703%2C%20-74.185083%5D%2C%20%5B-102.545337%2C%20-74.106742%5D%2C%20%5B-103.113313%2C%20-73.734413%5D%2C%20%5B-103.328752%2C%20-73.362084%5D%2C%20%5B-103.681289%2C%20-72.61753%5D%2C%20%5B-102.917485%2C%20-72.754679%5D%2C%20%5B-101.60524%2C%20-72.813436%5D%2C%20%5B-100.312528%2C%20-72.754679%5D%2C%20%5B-99.13738%2C%20-72.911414%5D%2C%20%5B-98.118889%2C%20-73.20535%5D%2C%20%5B-97.688037%2C%20-73.558041%5D%2C%20%5B-96.336595%2C%20-73.616849%5D%2C%20%5B-95.043961%2C%20-73.4797%5D%2C%20%5B-93.672907%2C%20-73.283743%5D%2C%20%5B-92.439003%2C%20-73.166179%5D%2C%20%5B-91.420564%2C%20-73.401307%5D%2C%20%5B-90.088733%2C%20-73.322914%5D%2C%20%5B-89.226951%2C%20-72.558722%5D%2C%20%5B-88.423951%2C%20-73.009393%5D%2C%20%5B-87.268337%2C%20-73.185764%5D%2C%20%5B-86.014822%2C%20-73.087786%5D%2C%20%5B-85.192236%2C%20-73.4797%5D%2C%20%5B-83.879991%2C%20-73.518871%5D%2C%20%5B-82.665646%2C%20-73.636434%5D%2C%20%5B-81.470913%2C%20-73.851977%5D%2C%20%5B-80.687447%2C%20-73.4797%5D%2C%20%5B-80.295791%2C%20-73.126956%5D%2C%20%5B-79.296886%2C%20-73.518871%5D%2C%20%5B-77.925858%2C%20-73.420892%5D%2C%20%5B-76.907367%2C%20-73.636434%5D%2C%20%5B-76.221879%2C%20-73.969541%5D%2C%20%5B-74.890049%2C%20-73.871614%5D%2C%20%5B-73.852024%2C%20-73.65602%5D%2C%20%5B-72.833533%2C%20-73.401307%5D%2C%20%5B-71.619215%2C%20-73.264157%5D%2C%20%5B-70.209042%2C%20-73.146542%5D%2C%20%5B-68.935916%2C%20-73.009393%5D%2C%20%5B-67.956622%2C%20-72.79385%5D%2C%20%5B-67.369061%2C%20-72.480329%5D%2C%20%5B-67.134036%2C%20-72.049244%5D%2C%20%5B-67.251548%2C%20-71.637745%5D%2C%20%5B-67.56494%2C%20-71.245831%5D%2C%20%5B-67.917477%2C%20-70.853917%5D%2C%20%5B-68.230843%2C%20-70.462055%5D%2C%20%5B-68.485452%2C%20-70.109311%5D%2C%20%5B-68.544209%2C%20-69.717397%5D%2C%20%5B-68.446282%2C%20-69.325535%5D%2C%20%5B-67.976233%2C%20-68.953206%5D%2C%20%5B-67.5845%2C%20-68.541707%5D%2C%20%5B-67.427843%2C%20-68.149844%5D%2C%20%5B-67.62367%2C%20-67.718759%5D%2C%20%5B-67.741183%2C%20-67.326845%5D%2C%20%5B-67.251548%2C%20-66.876175%5D%2C%20%5B-66.703184%2C%20-66.58224%5D%2C%20%5B-66.056815%2C%20-66.209963%5D%2C%20%5B-65.371327%2C%20-65.89639%5D%2C%20%5B-64.568276%2C%20-65.602506%5D%2C%20%5B-64.176542%2C%20-65.171423%5D%2C%20%5B-63.628152%2C%20-64.897073%5D%2C%20%5B-63.001394%2C%20-64.642308%5D%2C%20%5B-62.041686%2C%20-64.583552%5D%2C%20%5B-61.414928%2C%20-64.270031%5D%2C%20%5B-60.709855%2C%20-64.074074%5D%2C%20%5B-59.887269%2C%20-63.95651%5D%2C%20%5B-59.162585%2C%20-63.701745%5D%2C%20%5B-58.594557%2C%20-63.388224%5D%2C%20%5B-57.811143%2C%20-63.27066%5D%2C%20%5B-57.223582%2C%20-63.525425%5D%2C%20%5B-57.59573%2C%20-63.858532%5D%2C%20%5B-58.614143%2C%20-64.152467%5D%5D%5D%5D%2C%20%22type%22%3A%20%22MultiPolygon%22%7D%2C%20%22id%22%3A%20%22ATA%22%2C%20%22properties%22%3A%20%7B%22name%22%3A%20%22Antarctica%22%7D%2C%20%22type%22%3A%20%22Feature%22%7D%2C%20%7B%22geometry%22%3A%20%7B%22coordinates%22%3A%20%5B%5B%5B68.935%2C%20-48.625%5D%2C%20%5B69.58%2C%20-48.94%5D%2C%20%5B70.525%2C%20-49.065%5D%2C%20%5B70.56%2C%20-49.255%5D%2C%20%5B70.28%2C%20-49.71%5D%2C%20%5B68.745%2C%20-49.775%5D%2C%20%5B68.72%2C%20-49.2425%5D%2C%20%5B68.8675%2C%20-48.83%5D%2C%20%5B68.935%2C%20-48.625%5D%5D%5D%2C%20%22type%22%3A%20%22Polygon%22%7D%2C%20%22id%22%3A%20%22ATF%22%2C%20%22properties%22%3A%20%7B%22name%22%3A%20%22French%20Southern%20and%20Antarctic%20Lands%22%7D%2C%20%22type%22%3A%20%22Feature%22%7D%2C%20%7B%22geometry%22%3A%20%7B%22coordinates%22%3A%20%5B%5B%5B%5B145.397978%2C%20-40.792549%5D%2C%20%5B146.364121%2C%20-41.137695%5D%2C%20%5B146.908584%2C%20-41.000546%5D%2C%20%5B147.689259%2C%20-40.808258%5D%2C%20%5B148.289068%2C%20-40.875438%5D%2C%20%5B148.359865%2C%20-42.062445%5D%2C%20%5B148.017301%2C%20-42.407024%5D%2C%20%5B147.914052%2C%20-43.211522%5D%2C%20%5B147.564564%2C%20-42.937689%5D%2C%20%5B146.870343%2C%20-43.634597%5D%2C%20%5B146.663327%2C%20-43.580854%5D%2C%20%5B146.048378%2C%20-43.549745%5D%2C%20%5B145.43193%2C%20-42.693776%5D%2C%20%5B145.29509%2C%20-42.03361%5D%2C%20%5B144.718071%2C%20-41.162552%5D%2C%20%5B144.743755%2C%20-40.703975%5D%2C%20%5B145.397978%2C%20-40.792549%5D%5D%5D%2C%20%5B%5B%5B143.561811%2C%20-13.763656%5D%2C%20%5B143.922099%2C%20-14.548311%5D%2C%20%5B144.563714%2C%20-14.171176%5D%2C%20%5B144.894908%2C%20-14.594458%5D%2C%20%5B145.374724%2C%20-14.984976%5D%2C%20%5B145.271991%2C%20-15.428205%5D%2C%20%5B145.48526%2C%20-16.285672%5D%2C%20%5B145.637033%2C%20-16.784918%5D%2C%20%5B145.888904%2C%20-16.906926%5D%2C%20%5B146.160309%2C%20-17.761655%5D%2C%20%5B146.063674%2C%20-18.280073%5D%2C%20%5B146.387478%2C%20-18.958274%5D%2C%20%5B147.471082%2C%20-19.480723%5D%2C%20%5B148.177602%2C%20-19.955939%5D%2C%20%5B148.848414%2C%20-20.39121%5D%2C%20%5B148.717465%2C%20-20.633469%5D%2C%20%5B149.28942%2C%20-21.260511%5D%2C%20%5B149.678337%2C%20-22.342512%5D%2C%20%5B150.077382%2C%20-22.122784%5D%2C%20%5B150.482939%2C%20-22.556142%5D%2C%20%5B150.727265%2C%20-22.402405%5D%2C%20%5B150.899554%2C%20-23.462237%5D%2C%20%5B151.609175%2C%20-24.076256%5D%2C%20%5B152.07354%2C%20-24.457887%5D%2C%20%5B152.855197%2C%20-25.267501%5D%2C%20%5B153.136162%2C%20-26.071173%5D%2C%20%5B153.161949%2C%20-26.641319%5D%2C%20%5B153.092909%2C%20-27.2603%5D%2C%20%5B153.569469%2C%20-28.110067%5D%2C%20%5B153.512108%2C%20-28.995077%5D%2C%20%5B153.339095%2C%20-29.458202%5D%2C%20%5B153.069241%2C%20-30.35024%5D%2C%20%5B153.089602%2C%20-30.923642%5D%2C%20%5B152.891578%2C%20-31.640446%5D%2C%20%5B152.450002%2C%20-32.550003%5D%2C%20%5B151.709117%2C%20-33.041342%5D%2C%20%5B151.343972%2C%20-33.816023%5D%2C%20%5B151.010555%2C%20-34.31036%5D%2C%20%5B150.714139%2C%20-35.17346%5D%2C%20%5B150.32822%2C%20-35.671879%5D%2C%20%5B150.075212%2C%20-36.420206%5D%2C%20%5B149.946124%2C%20-37.109052%5D%2C%20%5B149.997284%2C%20-37.425261%5D%2C%20%5B149.423882%2C%20-37.772681%5D%2C%20%5B148.304622%2C%20-37.809061%5D%2C%20%5B147.381733%2C%20-38.219217%5D%2C%20%5B146.922123%2C%20-38.606532%5D%2C%20%5B146.317922%2C%20-39.035757%5D%2C%20%5B145.489652%2C%20-38.593768%5D%2C%20%5B144.876976%2C%20-38.417448%5D%2C%20%5B145.032212%2C%20-37.896188%5D%2C%20%5B144.485682%2C%20-38.085324%5D%2C%20%5B143.609974%2C%20-38.809465%5D%2C%20%5B142.745427%2C%20-38.538268%5D%2C%20%5B142.17833%2C%20-38.380034%5D%2C%20%5B141.606582%2C%20-38.308514%5D%2C%20%5B140.638579%2C%20-38.019333%5D%2C%20%5B139.992158%2C%20-37.402936%5D%2C%20%5B139.806588%2C%20-36.643603%5D%2C%20%5B139.574148%2C%20-36.138362%5D%2C%20%5B139.082808%2C%20-35.732754%5D%2C%20%5B138.120748%2C%20-35.612296%5D%2C%20%5B138.449462%2C%20-35.127261%5D%2C%20%5B138.207564%2C%20-34.384723%5D%2C%20%5B137.71917%2C%20-35.076825%5D%2C%20%5B136.829406%2C%20-35.260535%5D%2C%20%5B137.352371%2C%20-34.707339%5D%2C%20%5B137.503886%2C%20-34.130268%5D%2C%20%5B137.890116%2C%20-33.640479%5D%2C%20%5B137.810328%2C%20-32.900007%5D%2C%20%5B136.996837%2C%20-33.752771%5D%2C%20%5B136.372069%2C%20-34.094766%5D%2C%20%5B135.989043%2C%20-34.890118%5D%2C%20%5B135.208213%2C%20-34.47867%5D%2C%20%5B135.239218%2C%20-33.947953%5D%2C%20%5B134.613417%2C%20-33.222778%5D%2C%20%5B134.085904%2C%20-32.848072%5D%2C%20%5B134.273903%2C%20-32.617234%5D%2C%20%5B132.990777%2C%20-32.011224%5D%2C%20%5B132.288081%2C%20-31.982647%5D%2C%20%5B131.326331%2C%20-31.495803%5D%2C%20%5B129.535794%2C%20-31.590423%5D%2C%20%5B128.240938%2C%20-31.948489%5D%2C%20%5B127.102867%2C%20-32.282267%5D%2C%20%5B126.148714%2C%20-32.215966%5D%2C%20%5B125.088623%2C%20-32.728751%5D%2C%20%5B124.221648%2C%20-32.959487%5D%2C%20%5B124.028947%2C%20-33.483847%5D%2C%20%5B123.659667%2C%20-33.890179%5D%2C%20%5B122.811036%2C%20-33.914467%5D%2C%20%5B122.183064%2C%20-34.003402%5D%2C%20%5B121.299191%2C%20-33.821036%5D%2C%20%5B120.580268%2C%20-33.930177%5D%2C%20%5B119.893695%2C%20-33.976065%5D%2C%20%5B119.298899%2C%20-34.509366%5D%2C%20%5B119.007341%2C%20-34.464149%5D%2C%20%5B118.505718%2C%20-34.746819%5D%2C%20%5B118.024972%2C%20-35.064733%5D%2C%20%5B117.295507%2C%20-35.025459%5D%2C%20%5B116.625109%2C%20-35.025097%5D%2C%20%5B115.564347%2C%20-34.386428%5D%2C%20%5B115.026809%2C%20-34.196517%5D%2C%20%5B115.048616%2C%20-33.623425%5D%2C%20%5B115.545123%2C%20-33.487258%5D%2C%20%5B115.714674%2C%20-33.259572%5D%2C%20%5B115.679379%2C%20-32.900369%5D%2C%20%5B115.801645%2C%20-32.205062%5D%2C%20%5B115.689611%2C%20-31.612437%5D%2C%20%5B115.160909%2C%20-30.601594%5D%2C%20%5B114.997043%2C%20-30.030725%5D%2C%20%5B115.040038%2C%20-29.461095%5D%2C%20%5B114.641974%2C%20-28.810231%5D%2C%20%5B114.616498%2C%20-28.516399%5D%2C%20%5B114.173579%2C%20-28.118077%5D%2C%20%5B114.048884%2C%20-27.334765%5D%2C%20%5B113.477498%2C%20-26.543134%5D%2C%20%5B113.338953%2C%20-26.116545%5D%2C%20%5B113.778358%2C%20-26.549025%5D%2C%20%5B113.440962%2C%20-25.621278%5D%2C%20%5B113.936901%2C%20-25.911235%5D%2C%20%5B114.232852%2C%20-26.298446%5D%2C%20%5B114.216161%2C%20-25.786281%5D%2C%20%5B113.721255%2C%20-24.998939%5D%2C%20%5B113.625344%2C%20-24.683971%5D%2C%20%5B113.393523%2C%20-24.384764%5D%2C%20%5B113.502044%2C%20-23.80635%5D%2C%20%5B113.706993%2C%20-23.560215%5D%2C%20%5B113.843418%2C%20-23.059987%5D%2C%20%5B113.736552%2C%20-22.475475%5D%2C%20%5B114.149756%2C%20-21.755881%5D%2C%20%5B114.225307%2C%20-22.517488%5D%2C%20%5B114.647762%2C%20-21.82952%5D%2C%20%5B115.460167%2C%20-21.495173%5D%2C%20%5B115.947373%2C%20-21.068688%5D%2C%20%5B116.711615%2C%20-20.701682%5D%2C%20%5B117.166316%2C%20-20.623599%5D%2C%20%5B117.441545%2C%20-20.746899%5D%2C%20%5B118.229559%2C%20-20.374208%5D%2C%20%5B118.836085%2C%20-20.263311%5D%2C%20%5B118.987807%2C%20-20.044203%5D%2C%20%5B119.252494%2C%20-19.952942%5D%2C%20%5B119.805225%2C%20-19.976506%5D%2C%20%5B120.85622%2C%20-19.683708%5D%2C%20%5B121.399856%2C%20-19.239756%5D%2C%20%5B121.655138%2C%20-18.705318%5D%2C%20%5B122.241665%2C%20-18.197649%5D%2C%20%5B122.286624%2C%20-17.798603%5D%2C%20%5B122.312772%2C%20-17.254967%5D%2C%20%5B123.012574%2C%20-16.4052%5D%2C%20%5B123.433789%2C%20-17.268558%5D%2C%20%5B123.859345%2C%20-17.069035%5D%2C%20%5B123.503242%2C%20-16.596506%5D%2C%20%5B123.817073%2C%20-16.111316%5D%2C%20%5B124.258287%2C%20-16.327944%5D%2C%20%5B124.379726%2C%20-15.56706%5D%2C%20%5B124.926153%2C%20-15.0751%5D%2C%20%5B125.167275%2C%20-14.680396%5D%2C%20%5B125.670087%2C%20-14.51007%5D%2C%20%5B125.685796%2C%20-14.230656%5D%2C%20%5B126.125149%2C%20-14.347341%5D%2C%20%5B126.142823%2C%20-14.095987%5D%2C%20%5B126.582589%2C%20-13.952791%5D%2C%20%5B127.065867%2C%20-13.817968%5D%2C%20%5B127.804633%2C%20-14.276906%5D%2C%20%5B128.35969%2C%20-14.86917%5D%2C%20%5B128.985543%2C%20-14.875991%5D%2C%20%5B129.621473%2C%20-14.969784%5D%2C%20%5B129.4096%2C%20-14.42067%5D%2C%20%5B129.888641%2C%20-13.618703%5D%2C%20%5B130.339466%2C%20-13.357376%5D%2C%20%5B130.183506%2C%20-13.10752%5D%2C%20%5B130.617795%2C%20-12.536392%5D%2C%20%5B131.223495%2C%20-12.183649%5D%2C%20%5B131.735091%2C%20-12.302453%5D%2C%20%5B132.575298%2C%20-12.114041%5D%2C%20%5B132.557212%2C%20-11.603012%5D%2C%20%5B131.824698%2C%20-11.273782%5D%2C%20%5B132.357224%2C%20-11.128519%5D%2C%20%5B133.019561%2C%20-11.376411%5D%2C%20%5B133.550846%2C%20-11.786515%5D%2C%20%5B134.393068%2C%20-12.042365%5D%2C%20%5B134.678632%2C%20-11.941183%5D%2C%20%5B135.298491%2C%20-12.248606%5D%2C%20%5B135.882693%2C%20-11.962267%5D%2C%20%5B136.258381%2C%20-12.049342%5D%2C%20%5B136.492475%2C%20-11.857209%5D%2C%20%5B136.95162%2C%20-12.351959%5D%2C%20%5B136.685125%2C%20-12.887223%5D%2C%20%5B136.305407%2C%20-13.29123%5D%2C%20%5B135.961758%2C%20-13.324509%5D%2C%20%5B136.077617%2C%20-13.724278%5D%2C%20%5B135.783836%2C%20-14.223989%5D%2C%20%5B135.428664%2C%20-14.715432%5D%2C%20%5B135.500184%2C%20-14.997741%5D%2C%20%5B136.295175%2C%20-15.550265%5D%2C%20%5B137.06536%2C%20-15.870762%5D%2C%20%5B137.580471%2C%20-16.215082%5D%2C%20%5B138.303217%2C%20-16.807604%5D%2C%20%5B138.585164%2C%20-16.806622%5D%2C%20%5B139.108543%2C%20-17.062679%5D%2C%20%5B139.260575%2C%20-17.371601%5D%2C%20%5B140.215245%2C%20-17.710805%5D%2C%20%5B140.875463%2C%20-17.369069%5D%2C%20%5B141.07111%2C%20-16.832047%5D%2C%20%5B141.274095%2C%20-16.38887%5D%2C%20%5B141.398222%2C%20-15.840532%5D%2C%20%5B141.702183%2C%20-15.044921%5D%2C%20%5B141.56338%2C%20-14.561333%5D%2C%20%5B141.63552%2C%20-14.270395%5D%2C%20%5B141.519869%2C%20-13.698078%5D%2C%20%5B141.65092%2C%20-12.944688%5D%2C%20%5B141.842691%2C%20-12.741548%5D%2C%20%5B141.68699%2C%20-12.407614%5D%2C%20%5B141.928629%2C%20-11.877466%5D%2C%20%5B142.118488%2C%20-11.328042%5D%2C%20%5B142.143706%2C%20-11.042737%5D%2C%20%5B142.51526%2C%20-10.668186%5D%2C%20%5B142.79731%2C%20-11.157355%5D%2C%20%5B142.866763%2C%20-11.784707%5D%2C%20%5B143.115947%2C%20-11.90563%5D%2C%20%5B143.158632%2C%20-12.325656%5D%2C%20%5B143.522124%2C%20-12.834358%5D%2C%20%5B143.597158%2C%20-13.400422%5D%2C%20%5B143.561811%2C%20-13.763656%5D%5D%5D%5D%2C%20%22type%22%3A%20%22MultiPolygon%22%7D%2C%20%22id%22%3A%20%22AUS%22%2C%20%22properties%22%3A%20%7B%22name%22%3A%20%22Australia%22%7D%2C%20%22type%22%3A%20%22Feature%22%7D%2C%20%7B%22geometry%22%3A%20%7B%22coordinates%22%3A%20%5B%5B%5B16.979667%2C%2048.123497%5D%2C%20%5B16.903754%2C%2047.714866%5D%2C%20%5B16.340584%2C%2047.712902%5D%2C%20%5B16.534268%2C%2047.496171%5D%2C%20%5B16.202298%2C%2046.852386%5D%2C%20%5B16.011664%2C%2046.683611%5D%2C%20%5B15.137092%2C%2046.658703%5D%2C%20%5B14.632472%2C%2046.431817%5D%2C%20%5B13.806475%2C%2046.509306%5D%2C%20%5B12.376485%2C%2046.767559%5D%2C%20%5B12.153088%2C%2047.115393%5D%2C%20%5B11.164828%2C%2046.941579%5D%2C%20%5B11.048556%2C%2046.751359%5D%2C%20%5B10.442701%2C%2046.893546%5D%2C%20%5B9.932448%2C%2046.920728%5D%2C%20%5B9.47997%2C%2047.10281%5D%2C%20%5B9.632932%2C%2047.347601%5D%2C%20%5B9.594226%2C%2047.525058%5D%2C%20%5B9.896068%2C%2047.580197%5D%2C%20%5B10.402084%2C%2047.302488%5D%2C%20%5B10.544504%2C%2047.566399%5D%2C%20%5B11.426414%2C%2047.523766%5D%2C%20%5B12.141357%2C%2047.703083%5D%2C%20%5B12.62076%2C%2047.672388%5D%2C%20%5B12.932627%2C%2047.467646%5D%2C%20%5B13.025851%2C%2047.637584%5D%2C%20%5B12.884103%2C%2048.289146%5D%2C%20%5B13.243357%2C%2048.416115%5D%2C%20%5B13.595946%2C%2048.877172%5D%2C%20%5B14.338898%2C%2048.555305%5D%2C%20%5B14.901447%2C%2048.964402%5D%2C%20%5B15.253416%2C%2049.039074%5D%2C%20%5B16.029647%2C%2048.733899%5D%2C%20%5B16.499283%2C%2048.785808%5D%2C%20%5B16.960288%2C%2048.596982%5D%2C%20%5B16.879983%2C%2048.470013%5D%2C%20%5B16.979667%2C%2048.123497%5D%5D%5D%2C%20%22type%22%3A%20%22Polygon%22%7D%2C%20%22id%22%3A%20%22AUT%22%2C%20%22properties%22%3A%20%7B%22name%22%3A%20%22Austria%22%7D%2C%20%22type%22%3A%20%22Feature%22%7D%2C%20%7B%22geometry%22%3A%20%7B%22coordinates%22%3A%20%5B%5B%5B%5B45.001987%2C%2039.740004%5D%2C%20%5B45.298145%2C%2039.471751%5D%2C%20%5B45.739978%2C%2039.473999%5D%2C%20%5B45.735379%2C%2039.319719%5D%2C%20%5B46.143623%2C%2038.741201%5D%2C%20%5B45.457722%2C%2038.874139%5D%2C%20%5B44.952688%2C%2039.335765%5D%2C%20%5B44.79399%2C%2039.713003%5D%2C%20%5B45.001987%2C%2039.740004%5D%5D%5D%2C%20%5B%5B%5B47.373315%2C%2041.219732%5D%2C%20%5B47.815666%2C%2041.151416%5D%2C%20%5B47.987283%2C%2041.405819%5D%2C%20%5B48.584353%2C%2041.80887%5D%2C%20%5B49.110264%2C%2041.282287%5D%2C%20%5B49.618915%2C%2040.572924%5D%2C%20%5B50.08483%2C%2040.526157%5D%2C%20%5B50.392821%2C%2040.256561%5D%2C%20%5B49.569202%2C%2040.176101%5D%2C%20%5B49.395259%2C%2039.399482%5D%2C%20%5B49.223228%2C%2039.049219%5D%2C%20%5B48.856532%2C%2038.815486%5D%2C%20%5B48.883249%2C%2038.320245%5D%2C%20%5B48.634375%2C%2038.270378%5D%2C%20%5B48.010744%2C%2038.794015%5D%2C%20%5B48.355529%2C%2039.288765%5D%2C%20%5B48.060095%2C%2039.582235%5D%2C%20%5B47.685079%2C%2039.508364%5D%2C%20%5B46.50572%2C%2038.770605%5D%2C%20%5B46.483499%2C%2039.464155%5D%2C%20%5B46.034534%2C%2039.628021%5D%2C%20%5B45.610012%2C%2039.899994%5D%2C%20%5B45.891907%2C%2040.218476%5D%2C%20%5B45.359175%2C%2040.561504%5D%2C%20%5B45.560351%2C%2040.81229%5D%2C%20%5B45.179496%2C%2040.985354%5D%2C%20%5B44.97248%2C%2041.248129%5D%2C%20%5B45.217426%2C%2041.411452%5D%2C%20%5B45.962601%2C%2041.123873%5D%2C%20%5B46.501637%2C%2041.064445%5D%2C%20%5B46.637908%2C%2041.181673%5D%2C%20%5B46.145432%2C%2041.722802%5D%2C%20%5B46.404951%2C%2041.860675%5D%2C%20%5B46.686071%2C%2041.827137%5D%2C%20%5B47.373315%2C%2041.219732%5D%5D%5D%5D%2C%20%22type%22%3A%20%22MultiPolygon%22%7D%2C%20%22id%22%3A%20%22AZE%22%2C%20%22properties%22%3A%20%7B%22name%22%3A%20%22Azerbaijan%22%7D%2C%20%22type%22%3A%20%22Feature%22%7D%2C%20%7B%22geometry%22%3A%20%7B%22coordinates%22%3A%20%5B%5B%5B29.339998%2C%20-4.499983%5D%2C%20%5B29.276384%2C%20-3.293907%5D%2C%20%5B29.024926%2C%20-2.839258%5D%2C%20%5B29.632176%2C%20-2.917858%5D%2C%20%5B29.938359%2C%20-2.348487%5D%2C%20%5B30.469696%2C%20-2.413858%5D%2C%20%5B30.527677%2C%20-2.807632%5D%2C%20%5B30.743013%2C%20-3.034285%5D%2C%20%5B30.752263%2C%20-3.35933%5D%2C%20%5B30.50556%2C%20-3.568567%5D%2C%20%5B30.116333%2C%20-4.090138%5D%2C%20%5B29.753512%2C%20-4.452389%5D%2C%20%5B29.339998%2C%20-4.499983%5D%5D%5D%2C%20%22type%22%3A%20%22Polygon%22%7D%2C%20%22id%22%3A%20%22BDI%22%2C%20%22properties%22%3A%20%7B%22name%22%3A%20%22Burundi%22%7D%2C%20%22type%22%3A%20%22Feature%22%7D%2C%20%7B%22geometry%22%3A%20%7B%22coordinates%22%3A%20%5B%5B%5B3.314971%2C%2051.345781%5D%2C%20%5B4.047071%2C%2051.267259%5D%2C%20%5B4.973991%2C%2051.475024%5D%2C%20%5B5.606976%2C%2051.037298%5D%2C%20%5B6.156658%2C%2050.803721%5D%2C%20%5B6.043073%2C%2050.128052%5D%2C%20%5B5.782417%2C%2050.090328%5D%2C%20%5B5.674052%2C%2049.529484%5D%2C%20%5B4.799222%2C%2049.985373%5D%2C%20%5B4.286023%2C%2049.907497%5D%2C%20%5B3.588184%2C%2050.378992%5D%2C%20%5B3.123252%2C%2050.780363%5D%2C%20%5B2.658422%2C%2050.796848%5D%2C%20%5B2.513573%2C%2051.148506%5D%2C%20%5B3.314971%2C%2051.345781%5D%5D%5D%2C%20%22type%22%3A%20%22Polygon%22%7D%2C%20%22id%22%3A%20%22BEL%22%2C%20%22properties%22%3A%20%7B%22name%22%3A%20%22Belgium%22%7D%2C%20%22type%22%3A%20%22Feature%22%7D%2C%20%7B%22geometry%22%3A%20%7B%22coordinates%22%3A%20%5B%5B%5B2.691702%2C%206.258817%5D%2C%20%5B1.865241%2C%206.142158%5D%2C%20%5B1.618951%2C%206.832038%5D%2C%20%5B1.664478%2C%209.12859%5D%2C%20%5B1.463043%2C%209.334624%5D%2C%20%5B1.425061%2C%209.825395%5D%2C%20%5B1.077795%2C%2010.175607%5D%2C%20%5B0.772336%2C%2010.470808%5D%2C%20%5B0.899563%2C%2010.997339%5D%2C%20%5B1.24347%2C%2011.110511%5D%2C%20%5B1.447178%2C%2011.547719%5D%2C%20%5B1.935986%2C%2011.64115%5D%2C%20%5B2.154474%2C%2011.94015%5D%2C%20%5B2.490164%2C%2012.233052%5D%2C%20%5B2.848643%2C%2012.235636%5D%2C%20%5B3.61118%2C%2011.660167%5D%2C%20%5B3.572216%2C%2011.327939%5D%2C%20%5B3.797112%2C%2010.734746%5D%2C%20%5B3.60007%2C%2010.332186%5D%2C%20%5B3.705438%2C%2010.06321%5D%2C%20%5B3.220352%2C%209.444153%5D%2C%20%5B2.912308%2C%209.137608%5D%2C%20%5B2.723793%2C%208.506845%5D%2C%20%5B2.749063%2C%207.870734%5D%2C%20%5B2.691702%2C%206.258817%5D%5D%5D%2C%20%22type%22%3A%20%22Polygon%22%7D%2C%20%22id%22%3A%20%22BEN%22%2C%20%22properties%22%3A%20%7B%22name%22%3A%20%22Benin%22%7D%2C%20%22type%22%3A%20%22Feature%22%7D%2C%20%7B%22geometry%22%3A%20%7B%22coordinates%22%3A%20%5B%5B%5B-2.827496%2C%209.642461%5D%2C%20%5B-3.511899%2C%209.900326%5D%2C%20%5B-3.980449%2C%209.862344%5D%2C%20%5B-4.330247%2C%209.610835%5D%2C%20%5B-4.779884%2C%209.821985%5D%2C%20%5B-4.954653%2C%2010.152714%5D%2C%20%5B-5.404342%2C%2010.370737%5D%2C%20%5B-5.470565%2C%2010.95127%5D%2C%20%5B-5.197843%2C%2011.375146%5D%2C%20%5B-5.220942%2C%2011.713859%5D%2C%20%5B-4.427166%2C%2012.542646%5D%2C%20%5B-4.280405%2C%2013.228444%5D%2C%20%5B-4.006391%2C%2013.472485%5D%2C%20%5B-3.522803%2C%2013.337662%5D%2C%20%5B-3.103707%2C%2013.541267%5D%2C%20%5B-2.967694%2C%2013.79815%5D%2C%20%5B-2.191825%2C%2014.246418%5D%2C%20%5B-2.001035%2C%2014.559008%5D%2C%20%5B-1.066363%2C%2014.973815%5D%2C%20%5B-0.515854%2C%2015.116158%5D%2C%20%5B-0.266257%2C%2014.924309%5D%2C%20%5B0.374892%2C%2014.928908%5D%2C%20%5B0.295646%2C%2014.444235%5D%2C%20%5B0.429928%2C%2013.988733%5D%2C%20%5B0.993046%2C%2013.33575%5D%2C%20%5B1.024103%2C%2012.851826%5D%2C%20%5B2.177108%2C%2012.625018%5D%2C%20%5B2.154474%2C%2011.94015%5D%2C%20%5B1.935986%2C%2011.64115%5D%2C%20%5B1.447178%2C%2011.547719%5D%2C%20%5B1.24347%2C%2011.110511%5D%2C%20%5B0.899563%2C%2010.997339%5D%2C%20%5B0.023803%2C%2011.018682%5D%2C%20%5B-0.438702%2C%2011.098341%5D%2C%20%5B-0.761576%2C%2010.93693%5D%2C%20%5B-1.203358%2C%2011.009819%5D%2C%20%5B-2.940409%2C%2010.96269%5D%2C%20%5B-2.963896%2C%2010.395335%5D%2C%20%5B-2.827496%2C%209.642461%5D%5D%5D%2C%20%22type%22%3A%20%22Polygon%22%7D%2C%20%22id%22%3A%20%22BFA%22%2C%20%22properties%22%3A%20%7B%22name%22%3A%20%22Burkina%20Faso%22%7D%2C%20%22type%22%3A%20%22Feature%22%7D%2C%20%7B%22geometry%22%3A%20%7B%22coordinates%22%3A%20%5B%5B%5B92.672721%2C%2022.041239%5D%2C%20%5B92.652257%2C%2021.324048%5D%2C%20%5B92.303234%2C%2021.475485%5D%2C%20%5B92.368554%2C%2020.670883%5D%2C%20%5B92.082886%2C%2021.192195%5D%2C%20%5B92.025215%2C%2021.70157%5D%2C%20%5B91.834891%2C%2022.182936%5D%2C%20%5B91.417087%2C%2022.765019%5D%2C%20%5B90.496006%2C%2022.805017%5D%2C%20%5B90.586957%2C%2022.392794%5D%2C%20%5B90.272971%2C%2021.836368%5D%2C%20%5B89.847467%2C%2022.039146%5D%2C%20%5B89.70205%2C%2021.857116%5D%2C%20%5B89.418863%2C%2021.966179%5D%2C%20%5B89.031961%2C%2022.055708%5D%2C%20%5B88.876312%2C%2022.879146%5D%2C%20%5B88.52977%2C%2023.631142%5D%2C%20%5B88.69994%2C%2024.233715%5D%2C%20%5B88.084422%2C%2024.501657%5D%2C%20%5B88.306373%2C%2024.866079%5D%2C%20%5B88.931554%2C%2025.238692%5D%2C%20%5B88.209789%2C%2025.768066%5D%2C%20%5B88.563049%2C%2026.446526%5D%2C%20%5B89.355094%2C%2026.014407%5D%2C%20%5B89.832481%2C%2025.965082%5D%2C%20%5B89.920693%2C%2025.26975%5D%2C%20%5B90.872211%2C%2025.132601%5D%2C%20%5B91.799596%2C%2025.147432%5D%2C%20%5B92.376202%2C%2024.976693%5D%2C%20%5B91.915093%2C%2024.130414%5D%2C%20%5B91.46773%2C%2024.072639%5D%2C%20%5B91.158963%2C%2023.503527%5D%2C%20%5B91.706475%2C%2022.985264%5D%2C%20%5B91.869928%2C%2023.624346%5D%2C%20%5B92.146035%2C%2023.627499%5D%2C%20%5B92.672721%2C%2022.041239%5D%5D%5D%2C%20%22type%22%3A%20%22Polygon%22%7D%2C%20%22id%22%3A%20%22BGD%22%2C%20%22properties%22%3A%20%7B%22name%22%3A%20%22Bangladesh%22%7D%2C%20%22type%22%3A%20%22Feature%22%7D%2C%20%7B%22geometry%22%3A%20%7B%22coordinates%22%3A%20%5B%5B%5B22.65715%2C%2044.234923%5D%2C%20%5B22.944832%2C%2043.823785%5D%2C%20%5B23.332302%2C%2043.897011%5D%2C%20%5B24.100679%2C%2043.741051%5D%2C%20%5B25.569272%2C%2043.688445%5D%2C%20%5B26.065159%2C%2043.943494%5D%2C%20%5B27.2424%2C%2044.175986%5D%2C%20%5B27.970107%2C%2043.812468%5D%2C%20%5B28.558081%2C%2043.707462%5D%2C%20%5B28.039095%2C%2043.293172%5D%2C%20%5B27.673898%2C%2042.577892%5D%2C%20%5B27.99672%2C%2042.007359%5D%2C%20%5B27.135739%2C%2042.141485%5D%2C%20%5B26.117042%2C%2041.826905%5D%2C%20%5B26.106138%2C%2041.328899%5D%2C%20%5B25.197201%2C%2041.234486%5D%2C%20%5B24.492645%2C%2041.583896%5D%2C%20%5B23.692074%2C%2041.309081%5D%2C%20%5B22.952377%2C%2041.337994%5D%2C%20%5B22.881374%2C%2041.999297%5D%2C%20%5B22.380526%2C%2042.32026%5D%2C%20%5B22.545012%2C%2042.461362%5D%2C%20%5B22.436595%2C%2042.580321%5D%2C%20%5B22.604801%2C%2042.898519%5D%2C%20%5B22.986019%2C%2043.211161%5D%2C%20%5B22.500157%2C%2043.642814%5D%2C%20%5B22.410446%2C%2044.008063%5D%2C%20%5B22.65715%2C%2044.234923%5D%5D%5D%2C%20%22type%22%3A%20%22Polygon%22%7D%2C%20%22id%22%3A%20%22BGR%22%2C%20%22properties%22%3A%20%7B%22name%22%3A%20%22Bulgaria%22%7D%2C%20%22type%22%3A%20%22Feature%22%7D%2C%20%7B%22geometry%22%3A%20%7B%22coordinates%22%3A%20%5B%5B%5B%5B-77.53466%2C%2023.75975%5D%2C%20%5B-77.78%2C%2023.71%5D%2C%20%5B-78.03405%2C%2024.28615%5D%2C%20%5B-78.40848%2C%2024.57564%5D%2C%20%5B-78.19087%2C%2025.2103%5D%2C%20%5B-77.89%2C%2025.17%5D%2C%20%5B-77.54%2C%2024.34%5D%2C%20%5B-77.53466%2C%2023.75975%5D%5D%5D%2C%20%5B%5B%5B-77.82%2C%2026.58%5D%2C%20%5B-78.91%2C%2026.42%5D%2C%20%5B-78.98%2C%2026.79%5D%2C%20%5B-78.51%2C%2026.87%5D%2C%20%5B-77.85%2C%2026.84%5D%2C%20%5B-77.82%2C%2026.58%5D%5D%5D%2C%20%5B%5B%5B-77%2C%2026.59%5D%2C%20%5B-77.17255%2C%2025.87918%5D%2C%20%5B-77.35641%2C%2026.00735%5D%2C%20%5B-77.34%2C%2026.53%5D%2C%20%5B-77.78802%2C%2026.92516%5D%2C%20%5B-77.79%2C%2027.04%5D%2C%20%5B-77%2C%2026.59%5D%5D%5D%5D%2C%20%22type%22%3A%20%22MultiPolygon%22%7D%2C%20%22id%22%3A%20%22BHS%22%2C%20%22properties%22%3A%20%7B%22name%22%3A%20%22The%20Bahamas%22%7D%2C%20%22type%22%3A%20%22Feature%22%7D%2C%20%7B%22geometry%22%3A%20%7B%22coordinates%22%3A%20%5B%5B%5B19.005486%2C%2044.860234%5D%2C%20%5B19.36803%2C%2044.863%5D%2C%20%5B19.11761%2C%2044.42307%5D%2C%20%5B19.59976%2C%2044.03847%5D%2C%20%5B19.454%2C%2043.5681%5D%2C%20%5B19.21852%2C%2043.52384%5D%2C%20%5B19.03165%2C%2043.43253%5D%2C%20%5B18.70648%2C%2043.20011%5D%2C%20%5B18.56%2C%2042.65%5D%2C%20%5B17.674922%2C%2043.028563%5D%2C%20%5B17.297373%2C%2043.446341%5D%2C%20%5B16.916156%2C%2043.667722%5D%2C%20%5B16.456443%2C%2044.04124%5D%2C%20%5B16.23966%2C%2044.351143%5D%2C%20%5B15.750026%2C%2044.818712%5D%2C%20%5B15.959367%2C%2045.233777%5D%2C%20%5B16.318157%2C%2045.004127%5D%2C%20%5B16.534939%2C%2045.211608%5D%2C%20%5B17.002146%2C%2045.233777%5D%2C%20%5B17.861783%2C%2045.06774%5D%2C%20%5B18.553214%2C%2045.08159%5D%2C%20%5B19.005486%2C%2044.860234%5D%5D%5D%2C%20%22type%22%3A%20%22Polygon%22%7D%2C%20%22id%22%3A%20%22BIH%22%2C%20%22properties%22%3A%20%7B%22name%22%3A%20%22Bosnia%20and%20Herzegovina%22%7D%2C%20%22type%22%3A%20%22Feature%22%7D%2C%20%7B%22geometry%22%3A%20%7B%22coordinates%22%3A%20%5B%5B%5B23.484128%2C%2053.912498%5D%2C%20%5B24.450684%2C%2053.905702%5D%2C%20%5B25.536354%2C%2054.282423%5D%2C%20%5B25.768433%2C%2054.846963%5D%2C%20%5B26.588279%2C%2055.167176%5D%2C%20%5B26.494331%2C%2055.615107%5D%2C%20%5B27.10246%2C%2055.783314%5D%2C%20%5B28.176709%2C%2056.16913%5D%2C%20%5B29.229513%2C%2055.918344%5D%2C%20%5B29.371572%2C%2055.670091%5D%2C%20%5B29.896294%2C%2055.789463%5D%2C%20%5B30.873909%2C%2055.550976%5D%2C%20%5B30.971836%2C%2055.081548%5D%2C%20%5B30.757534%2C%2054.811771%5D%2C%20%5B31.384472%2C%2054.157056%5D%2C%20%5B31.791424%2C%2053.974639%5D%2C%20%5B31.731273%2C%2053.794029%5D%2C%20%5B32.405599%2C%2053.618045%5D%2C%20%5B32.693643%2C%2053.351421%5D%2C%20%5B32.304519%2C%2053.132726%5D%2C%20%5B31.497644%2C%2053.167427%5D%2C%20%5B31.305201%2C%2053.073996%5D%2C%20%5B31.540018%2C%2052.742052%5D%2C%20%5B31.785998%2C%2052.101678%5D%2C%20%5B30.927549%2C%2052.042353%5D%2C%20%5B30.619454%2C%2051.822806%5D%2C%20%5B30.555117%2C%2051.319503%5D%2C%20%5B30.157364%2C%2051.416138%5D%2C%20%5B29.254938%2C%2051.368234%5D%2C%20%5B28.992835%2C%2051.602044%5D%2C%20%5B28.617613%2C%2051.427714%5D%2C%20%5B28.241615%2C%2051.572227%5D%2C%20%5B27.454066%2C%2051.592303%5D%2C%20%5B26.337959%2C%2051.832289%5D%2C%20%5B25.327788%2C%2051.910656%5D%2C%20%5B24.553106%2C%2051.888461%5D%2C%20%5B24.005078%2C%2051.617444%5D%2C%20%5B23.527071%2C%2051.578454%5D%2C%20%5B23.508002%2C%2052.023647%5D%2C%20%5B23.199494%2C%2052.486977%5D%2C%20%5B23.799199%2C%2052.691099%5D%2C%20%5B23.804935%2C%2053.089731%5D%2C%20%5B23.527536%2C%2053.470122%5D%2C%20%5B23.484128%2C%2053.912498%5D%5D%5D%2C%20%22type%22%3A%20%22Polygon%22%7D%2C%20%22id%22%3A%20%22BLR%22%2C%20%22properties%22%3A%20%7B%22name%22%3A%20%22Belarus%22%7D%2C%20%22type%22%3A%20%22Feature%22%7D%2C%20%7B%22geometry%22%3A%20%7B%22coordinates%22%3A%20%5B%5B%5B-89.14308%2C%2017.808319%5D%2C%20%5B-89.150909%2C%2017.955468%5D%2C%20%5B-89.029857%2C%2018.001511%5D%2C%20%5B-88.848344%2C%2017.883198%5D%2C%20%5B-88.490123%2C%2018.486831%5D%2C%20%5B-88.300031%2C%2018.499982%5D%2C%20%5B-88.296336%2C%2018.353273%5D%2C%20%5B-88.106813%2C%2018.348674%5D%2C%20%5B-88.123479%2C%2018.076675%5D%2C%20%5B-88.285355%2C%2017.644143%5D%2C%20%5B-88.197867%2C%2017.489475%5D%2C%20%5B-88.302641%2C%2017.131694%5D%2C%20%5B-88.239518%2C%2017.036066%5D%2C%20%5B-88.355428%2C%2016.530774%5D%2C%20%5B-88.551825%2C%2016.265467%5D%2C%20%5B-88.732434%2C%2016.233635%5D%2C%20%5B-88.930613%2C%2015.887273%5D%2C%20%5B-89.229122%2C%2015.886938%5D%2C%20%5B-89.150806%2C%2017.015577%5D%2C%20%5B-89.14308%2C%2017.808319%5D%5D%5D%2C%20%22type%22%3A%20%22Polygon%22%7D%2C%20%22id%22%3A%20%22BLZ%22%2C%20%22properties%22%3A%20%7B%22name%22%3A%20%22Belize%22%7D%2C%20%22type%22%3A%20%22Feature%22%7D%2C%20%7B%22geometry%22%3A%20%7B%22coordinates%22%3A%20%5B%5B%5B-62.846468%2C%20-22.034985%5D%2C%20%5B-63.986838%2C%20-21.993644%5D%2C%20%5B-64.377021%2C%20-22.798091%5D%2C%20%5B-64.964892%2C%20-22.075862%5D%2C%20%5B-66.273339%2C%20-21.83231%5D%2C%20%5B-67.106674%2C%20-22.735925%5D%2C%20%5B-67.82818%2C%20-22.872919%5D%2C%20%5B-68.219913%2C%20-21.494347%5D%2C%20%5B-68.757167%2C%20-20.372658%5D%2C%20%5B-68.442225%2C%20-19.405068%5D%2C%20%5B-68.966818%2C%20-18.981683%5D%2C%20%5B-69.100247%2C%20-18.260125%5D%2C%20%5B-69.590424%2C%20-17.580012%5D%2C%20%5B-68.959635%2C%20-16.500698%5D%2C%20%5B-69.389764%2C%20-15.660129%5D%2C%20%5B-69.160347%2C%20-15.323974%5D%2C%20%5B-69.339535%2C%20-14.953195%5D%2C%20%5B-68.948887%2C%20-14.453639%5D%2C%20%5B-68.929224%2C%20-13.602684%5D%2C%20%5B-68.88008%2C%20-12.899729%5D%2C%20%5B-68.66508%2C%20-12.5613%5D%2C%20%5B-69.529678%2C%20-10.951734%5D%2C%20%5B-68.786158%2C%20-11.03638%5D%2C%20%5B-68.271254%2C%20-11.014521%5D%2C%20%5B-68.048192%2C%20-10.712059%5D%2C%20%5B-67.173801%2C%20-10.306812%5D%2C%20%5B-66.646908%2C%20-9.931331%5D%2C%20%5B-65.338435%2C%20-9.761988%5D%2C%20%5B-65.444837%2C%20-10.511451%5D%2C%20%5B-65.321899%2C%20-10.895872%5D%2C%20%5B-65.402281%2C%20-11.56627%5D%2C%20%5B-64.316353%2C%20-12.461978%5D%2C%20%5B-63.196499%2C%20-12.627033%5D%2C%20%5B-62.80306%2C%20-13.000653%5D%2C%20%5B-62.127081%2C%20-13.198781%5D%2C%20%5B-61.713204%2C%20-13.489202%5D%2C%20%5B-61.084121%2C%20-13.479384%5D%2C%20%5B-60.503304%2C%20-13.775955%5D%2C%20%5B-60.459198%2C%20-14.354007%5D%2C%20%5B-60.264326%2C%20-14.645979%5D%2C%20%5B-60.251149%2C%20-15.077219%5D%2C%20%5B-60.542966%2C%20-15.09391%5D%2C%20%5B-60.15839%2C%20-16.258284%5D%2C%20%5B-58.24122%2C%20-16.299573%5D%2C%20%5B-58.388058%2C%20-16.877109%5D%2C%20%5B-58.280804%2C%20-17.27171%5D%2C%20%5B-57.734558%2C%20-17.552468%5D%2C%20%5B-57.498371%2C%20-18.174188%5D%2C%20%5B-57.676009%2C%20-18.96184%5D%2C%20%5B-57.949997%2C%20-19.400004%5D%2C%20%5B-57.853802%2C%20-19.969995%5D%2C%20%5B-58.166392%2C%20-20.176701%5D%2C%20%5B-58.183471%2C%20-19.868399%5D%2C%20%5B-59.115042%2C%20-19.356906%5D%2C%20%5B-60.043565%2C%20-19.342747%5D%2C%20%5B-61.786326%2C%20-19.633737%5D%2C%20%5B-62.265961%2C%20-20.513735%5D%2C%20%5B-62.291179%2C%20-21.051635%5D%2C%20%5B-62.685057%2C%20-22.249029%5D%2C%20%5B-62.846468%2C%20-22.034985%5D%5D%5D%2C%20%22type%22%3A%20%22Polygon%22%7D%2C%20%22id%22%3A%20%22BOL%22%2C%20%22properties%22%3A%20%7B%22name%22%3A%20%22Bolivia%22%7D%2C%20%22type%22%3A%20%22Feature%22%7D%2C%20%7B%22geometry%22%3A%20%7B%22coordinates%22%3A%20%5B%5B%5B-57.625133%2C%20-30.216295%5D%2C%20%5B-56.2909%2C%20-28.852761%5D%2C%20%5B-55.162286%2C%20-27.881915%5D%2C%20%5B-54.490725%2C%20-27.474757%5D%2C%20%5B-53.648735%2C%20-26.923473%5D%2C%20%5B-53.628349%2C%20-26.124865%5D%2C%20%5B-54.13005%2C%20-25.547639%5D%2C%20%5B-54.625291%2C%20-25.739255%5D%2C%20%5B-54.428946%2C%20-25.162185%5D%2C%20%5B-54.293476%2C%20-24.5708%5D%2C%20%5B-54.29296%2C%20-24.021014%5D%2C%20%5B-54.652834%2C%20-23.839578%5D%2C%20%5B-55.027902%2C%20-24.001274%5D%2C%20%5B-55.400747%2C%20-23.956935%5D%2C%20%5B-55.517639%2C%20-23.571998%5D%2C%20%5B-55.610683%2C%20-22.655619%5D%2C%20%5B-55.797958%2C%20-22.35693%5D%2C%20%5B-56.473317%2C%20-22.0863%5D%2C%20%5B-56.88151%2C%20-22.282154%5D%2C%20%5B-57.937156%2C%20-22.090176%5D%2C%20%5B-57.870674%2C%20-20.732688%5D%2C%20%5B-58.166392%2C%20-20.176701%5D%2C%20%5B-57.853802%2C%20-19.969995%5D%2C%20%5B-57.949997%2C%20-19.400004%5D%2C%20%5B-57.676009%2C%20-18.96184%5D%2C%20%5B-57.498371%2C%20-18.174188%5D%2C%20%5B-57.734558%2C%20-17.552468%5D%2C%20%5B-58.280804%2C%20-17.27171%5D%2C%20%5B-58.388058%2C%20-16.877109%5D%2C%20%5B-58.24122%2C%20-16.299573%5D%2C%20%5B-60.15839%2C%20-16.258284%5D%2C%20%5B-60.542966%2C%20-15.09391%5D%2C%20%5B-60.251149%2C%20-15.077219%5D%2C%20%5B-60.264326%2C%20-14.645979%5D%2C%20%5B-60.459198%2C%20-14.354007%5D%2C%20%5B-60.503304%2C%20-13.775955%5D%2C%20%5B-61.084121%2C%20-13.479384%5D%2C%20%5B-61.713204%2C%20-13.489202%5D%2C%20%5B-62.127081%2C%20-13.198781%5D%2C%20%5B-62.80306%2C%20-13.000653%5D%2C%20%5B-63.196499%2C%20-12.627033%5D%2C%20%5B-64.316353%2C%20-12.461978%5D%2C%20%5B-65.402281%2C%20-11.56627%5D%2C%20%5B-65.321899%2C%20-10.895872%5D%2C%20%5B-65.444837%2C%20-10.511451%5D%2C%20%5B-65.338435%2C%20-9.761988%5D%2C%20%5B-66.646908%2C%20-9.931331%5D%2C%20%5B-67.173801%2C%20-10.306812%5D%2C%20%5B-68.048192%2C%20-10.712059%5D%2C%20%5B-68.271254%2C%20-11.014521%5D%2C%20%5B-68.786158%2C%20-11.03638%5D%2C%20%5B-69.529678%2C%20-10.951734%5D%2C%20%5B-70.093752%2C%20-11.123972%5D%2C%20%5B-70.548686%2C%20-11.009147%5D%2C%20%5B-70.481894%2C%20-9.490118%5D%2C%20%5B-71.302412%2C%20-10.079436%5D%2C%20%5B-72.184891%2C%20-10.053598%5D%2C%20%5B-72.563033%2C%20-9.520194%5D%2C%20%5B-73.226713%2C%20-9.462213%5D%2C%20%5B-73.015383%2C%20-9.032833%5D%2C%20%5B-73.571059%2C%20-8.424447%5D%2C%20%5B-73.987235%2C%20-7.52383%5D%2C%20%5B-73.723401%2C%20-7.340999%5D%2C%20%5B-73.724487%2C%20-6.918595%5D%2C%20%5B-73.120027%2C%20-6.629931%5D%2C%20%5B-73.219711%2C%20-6.089189%5D%2C%20%5B-72.964507%2C%20-5.741251%5D%2C%20%5B-72.891928%2C%20-5.274561%5D%2C%20%5B-71.748406%2C%20-4.593983%5D%2C%20%5B-70.928843%2C%20-4.401591%5D%2C%20%5B-70.794769%2C%20-4.251265%5D%2C%20%5B-69.893635%2C%20-4.298187%5D%2C%20%5B-69.444102%2C%20-1.556287%5D%2C%20%5B-69.420486%2C%20-1.122619%5D%2C%20%5B-69.577065%2C%20-0.549992%5D%2C%20%5B-70.020656%2C%20-0.185156%5D%2C%20%5B-70.015566%2C%200.541414%5D%2C%20%5B-69.452396%2C%200.706159%5D%2C%20%5B-69.252434%2C%200.602651%5D%2C%20%5B-69.218638%2C%200.985677%5D%2C%20%5B-69.804597%2C%201.089081%5D%2C%20%5B-69.816973%2C%201.714805%5D%2C%20%5B-67.868565%2C%201.692455%5D%2C%20%5B-67.53781%2C%202.037163%5D%2C%20%5B-67.259998%2C%201.719999%5D%2C%20%5B-67.065048%2C%201.130112%5D%2C%20%5B-66.876326%2C%201.253361%5D%2C%20%5B-66.325765%2C%200.724452%5D%2C%20%5B-65.548267%2C%200.789254%5D%2C%20%5B-65.354713%2C%201.095282%5D%2C%20%5B-64.611012%2C%201.328731%5D%2C%20%5B-64.199306%2C%201.492855%5D%2C%20%5B-64.083085%2C%201.916369%5D%2C%20%5B-63.368788%2C%202.2009%5D%2C%20%5B-63.422867%2C%202.411068%5D%2C%20%5B-64.269999%2C%202.497006%5D%2C%20%5B-64.408828%2C%203.126786%5D%2C%20%5B-64.368494%2C%203.79721%5D%2C%20%5B-64.816064%2C%204.056445%5D%2C%20%5B-64.628659%2C%204.148481%5D%2C%20%5B-63.888343%2C%204.02053%5D%2C%20%5B-63.093198%2C%203.770571%5D%2C%20%5B-62.804533%2C%204.006965%5D%2C%20%5B-62.08543%2C%204.162124%5D%2C%20%5B-60.966893%2C%204.536468%5D%2C%20%5B-60.601179%2C%204.918098%5D%2C%20%5B-60.733574%2C%205.200277%5D%2C%20%5B-60.213683%2C%205.244486%5D%2C%20%5B-59.980959%2C%205.014061%5D%2C%20%5B-60.111002%2C%204.574967%5D%2C%20%5B-59.767406%2C%204.423503%5D%2C%20%5B-59.53804%2C%203.958803%5D%2C%20%5B-59.815413%2C%203.606499%5D%2C%20%5B-59.974525%2C%202.755233%5D%2C%20%5B-59.718546%2C%202.24963%5D%2C%20%5B-59.646044%2C%201.786894%5D%2C%20%5B-59.030862%2C%201.317698%5D%2C%20%5B-58.540013%2C%201.268088%5D%2C%20%5B-58.429477%2C%201.463942%5D%2C%20%5B-58.11345%2C%201.507195%5D%2C%20%5B-57.660971%2C%201.682585%5D%2C%20%5B-57.335823%2C%201.948538%5D%2C%20%5B-56.782704%2C%201.863711%5D%2C%20%5B-56.539386%2C%201.899523%5D%2C%20%5B-55.995698%2C%201.817667%5D%2C%20%5B-55.9056%2C%202.021996%5D%2C%20%5B-56.073342%2C%202.220795%5D%2C%20%5B-55.973322%2C%202.510364%5D%2C%20%5B-55.569755%2C%202.421506%5D%2C%20%5B-55.097587%2C%202.523748%5D%2C%20%5B-54.524754%2C%202.311849%5D%2C%20%5B-54.088063%2C%202.105557%5D%2C%20%5B-53.778521%2C%202.376703%5D%2C%20%5B-53.554839%2C%202.334897%5D%2C%20%5B-53.418465%2C%202.053389%5D%2C%20%5B-52.939657%2C%202.124858%5D%2C%20%5B-52.556425%2C%202.504705%5D%2C%20%5B-52.249338%2C%203.241094%5D%2C%20%5B-51.657797%2C%204.156232%5D%2C%20%5B-51.317146%2C%204.203491%5D%2C%20%5B-51.069771%2C%203.650398%5D%2C%20%5B-50.508875%2C%201.901564%5D%2C%20%5B-49.974076%2C%201.736483%5D%2C%20%5B-49.947101%2C%201.04619%5D%2C%20%5B-50.699251%2C%200.222984%5D%2C%20%5B-50.388211%2C%20-0.078445%5D%2C%20%5B-48.620567%2C%20-0.235489%5D%2C%20%5B-48.584497%2C%20-1.237805%5D%2C%20%5B-47.824956%2C%20-0.581618%5D%2C%20%5B-46.566584%2C%20-0.941028%5D%2C%20%5B-44.905703%2C%20-1.55174%5D%2C%20%5B-44.417619%2C%20-2.13775%5D%2C%20%5B-44.581589%2C%20-2.691308%5D%2C%20%5B-43.418791%2C%20-2.38311%5D%2C%20%5B-41.472657%2C%20-2.912018%5D%2C%20%5B-39.978665%2C%20-2.873054%5D%2C%20%5B-38.500383%2C%20-3.700652%5D%2C%20%5B-37.223252%2C%20-4.820946%5D%2C%20%5B-36.452937%2C%20-5.109404%5D%2C%20%5B-35.597796%2C%20-5.149504%5D%2C%20%5B-35.235389%2C%20-5.464937%5D%2C%20%5B-34.89603%2C%20-6.738193%5D%2C%20%5B-34.729993%2C%20-7.343221%5D%2C%20%5B-35.128212%2C%20-8.996401%5D%2C%20%5B-35.636967%2C%20-9.649282%5D%2C%20%5B-37.046519%2C%20-11.040721%5D%2C%20%5B-37.683612%2C%20-12.171195%5D%2C%20%5B-38.423877%2C%20-13.038119%5D%2C%20%5B-38.673887%2C%20-13.057652%5D%2C%20%5B-38.953276%2C%20-13.79337%5D%2C%20%5B-38.882298%2C%20-15.667054%5D%2C%20%5B-39.161092%2C%20-17.208407%5D%2C%20%5B-39.267339%2C%20-17.867746%5D%2C%20%5B-39.583521%2C%20-18.262296%5D%2C%20%5B-39.760823%2C%20-19.599113%5D%2C%20%5B-40.774741%2C%20-20.904512%5D%2C%20%5B-40.944756%2C%20-21.937317%5D%2C%20%5B-41.754164%2C%20-22.370676%5D%2C%20%5B-41.988284%2C%20-22.97007%5D%2C%20%5B-43.074704%2C%20-22.967693%5D%2C%20%5B-44.647812%2C%20-23.351959%5D%2C%20%5B-45.352136%2C%20-23.796842%5D%2C%20%5B-46.472093%2C%20-24.088969%5D%2C%20%5B-47.648972%2C%20-24.885199%5D%2C%20%5B-48.495458%2C%20-25.877025%5D%2C%20%5B-48.641005%2C%20-26.623698%5D%2C%20%5B-48.474736%2C%20-27.175912%5D%2C%20%5B-48.66152%2C%20-28.186135%5D%2C%20%5B-48.888457%2C%20-28.674115%5D%2C%20%5B-49.587329%2C%20-29.224469%5D%2C%20%5B-50.696874%2C%20-30.984465%5D%2C%20%5B-51.576226%2C%20-31.777698%5D%2C%20%5B-52.256081%2C%20-32.24537%5D%2C%20%5B-52.7121%2C%20-33.196578%5D%2C%20%5B-53.373662%2C%20-33.768378%5D%2C%20%5B-53.650544%2C%20-33.202004%5D%2C%20%5B-53.209589%2C%20-32.727666%5D%2C%20%5B-53.787952%2C%20-32.047243%5D%2C%20%5B-54.572452%2C%20-31.494511%5D%2C%20%5B-55.60151%2C%20-30.853879%5D%2C%20%5B-55.973245%2C%20-30.883076%5D%2C%20%5B-56.976026%2C%20-30.109686%5D%2C%20%5B-57.625133%2C%20-30.216295%5D%5D%5D%2C%20%22type%22%3A%20%22Polygon%22%7D%2C%20%22id%22%3A%20%22BRA%22%2C%20%22properties%22%3A%20%7B%22name%22%3A%20%22Brazil%22%7D%2C%20%22type%22%3A%20%22Feature%22%7D%2C%20%7B%22geometry%22%3A%20%7B%22coordinates%22%3A%20%5B%5B%5B114.204017%2C%204.525874%5D%2C%20%5B114.599961%2C%204.900011%5D%2C%20%5B115.45071%2C%205.44773%5D%2C%20%5B115.4057%2C%204.955228%5D%2C%20%5B115.347461%2C%204.316636%5D%2C%20%5B114.869557%2C%204.348314%5D%2C%20%5B114.659596%2C%204.007637%5D%2C%20%5B114.204017%2C%204.525874%5D%5D%5D%2C%20%22type%22%3A%20%22Polygon%22%7D%2C%20%22id%22%3A%20%22BRN%22%2C%20%22properties%22%3A%20%7B%22name%22%3A%20%22Brunei%22%7D%2C%20%22type%22%3A%20%22Feature%22%7D%2C%20%7B%22geometry%22%3A%20%7B%22coordinates%22%3A%20%5B%5B%5B91.696657%2C%2027.771742%5D%2C%20%5B92.103712%2C%2027.452614%5D%2C%20%5B92.033484%2C%2026.83831%5D%2C%20%5B91.217513%2C%2026.808648%5D%2C%20%5B90.373275%2C%2026.875724%5D%2C%20%5B89.744528%2C%2026.719403%5D%2C%20%5B88.835643%2C%2027.098966%5D%2C%20%5B88.814248%2C%2027.299316%5D%2C%20%5B89.47581%2C%2028.042759%5D%2C%20%5B90.015829%2C%2028.296439%5D%2C%20%5B90.730514%2C%2028.064954%5D%2C%20%5B91.258854%2C%2028.040614%5D%2C%20%5B91.696657%2C%2027.771742%5D%5D%5D%2C%20%22type%22%3A%20%22Polygon%22%7D%2C%20%22id%22%3A%20%22BTN%22%2C%20%22properties%22%3A%20%7B%22name%22%3A%20%22Bhutan%22%7D%2C%20%22type%22%3A%20%22Feature%22%7D%2C%20%7B%22geometry%22%3A%20%7B%22coordinates%22%3A%20%5B%5B%5B25.649163%2C%20-18.536026%5D%2C%20%5B25.850391%2C%20-18.714413%5D%2C%20%5B26.164791%2C%20-19.293086%5D%2C%20%5B27.296505%2C%20-20.39152%5D%2C%20%5B27.724747%2C%20-20.499059%5D%2C%20%5B27.727228%2C%20-20.851802%5D%2C%20%5B28.02137%2C%20-21.485975%5D%2C%20%5B28.794656%2C%20-21.639454%5D%2C%20%5B29.432188%2C%20-22.091313%5D%2C%20%5B28.017236%2C%20-22.827754%5D%2C%20%5B27.11941%2C%20-23.574323%5D%2C%20%5B26.786407%2C%20-24.240691%5D%2C%20%5B26.485753%2C%20-24.616327%5D%2C%20%5B25.941652%2C%20-24.696373%5D%2C%20%5B25.765849%2C%20-25.174845%5D%2C%20%5B25.664666%2C%20-25.486816%5D%2C%20%5B25.025171%2C%20-25.71967%5D%2C%20%5B24.211267%2C%20-25.670216%5D%2C%20%5B23.73357%2C%20-25.390129%5D%2C%20%5B23.312097%2C%20-25.26869%5D%2C%20%5B22.824271%2C%20-25.500459%5D%2C%20%5B22.579532%2C%20-25.979448%5D%2C%20%5B22.105969%2C%20-26.280256%5D%2C%20%5B21.605896%2C%20-26.726534%5D%2C%20%5B20.889609%2C%20-26.828543%5D%2C%20%5B20.66647%2C%20-26.477453%5D%2C%20%5B20.758609%2C%20-25.868136%5D%2C%20%5B20.165726%2C%20-24.917962%5D%2C%20%5B19.895768%2C%20-24.76779%5D%2C%20%5B19.895458%2C%20-21.849157%5D%2C%20%5B20.881134%2C%20-21.814327%5D%2C%20%5B20.910641%2C%20-18.252219%5D%2C%20%5B21.65504%2C%20-18.219146%5D%2C%20%5B23.196858%2C%20-17.869038%5D%2C%20%5B23.579006%2C%20-18.281261%5D%2C%20%5B24.217365%2C%20-17.889347%5D%2C%20%5B24.520705%2C%20-17.887125%5D%2C%20%5B25.084443%2C%20-17.661816%5D%2C%20%5B25.264226%2C%20-17.73654%5D%2C%20%5B25.649163%2C%20-18.536026%5D%5D%5D%2C%20%22type%22%3A%20%22Polygon%22%7D%2C%20%22id%22%3A%20%22BWA%22%2C%20%22properties%22%3A%20%7B%22name%22%3A%20%22Botswana%22%7D%2C%20%22type%22%3A%20%22Feature%22%7D%2C%20%7B%22geometry%22%3A%20%7B%22coordinates%22%3A%20%5B%5B%5B15.27946%2C%207.421925%5D%2C%20%5B16.106232%2C%207.497088%5D%2C%20%5B16.290562%2C%207.754307%5D%2C%20%5B16.456185%2C%207.734774%5D%2C%20%5B16.705988%2C%207.508328%5D%2C%20%5B17.96493%2C%207.890914%5D%2C%20%5B18.389555%2C%208.281304%5D%2C%20%5B18.911022%2C%208.630895%5D%2C%20%5B18.81201%2C%208.982915%5D%2C%20%5B19.094008%2C%209.074847%5D%2C%20%5B20.059685%2C%209.012706%5D%2C%20%5B21.000868%2C%209.475985%5D%2C%20%5B21.723822%2C%2010.567056%5D%2C%20%5B22.231129%2C%2010.971889%5D%2C%20%5B22.864165%2C%2011.142395%5D%2C%20%5B22.977544%2C%2010.714463%5D%2C%20%5B23.554304%2C%2010.089255%5D%2C%20%5B23.55725%2C%209.681218%5D%2C%20%5B23.394779%2C%209.265068%5D%2C%20%5B23.459013%2C%208.954286%5D%2C%20%5B23.805813%2C%208.666319%5D%2C%20%5B24.567369%2C%208.229188%5D%2C%20%5B25.114932%2C%207.825104%5D%2C%20%5B25.124131%2C%207.500085%5D%2C%20%5B25.796648%2C%206.979316%5D%2C%20%5B26.213418%2C%206.546603%5D%2C%20%5B26.465909%2C%205.946717%5D%2C%20%5B27.213409%2C%205.550953%5D%2C%20%5B27.374226%2C%205.233944%5D%2C%20%5B27.044065%2C%205.127853%5D%2C%20%5B26.402761%2C%205.150875%5D%2C%20%5B25.650455%2C%205.256088%5D%2C%20%5B25.278798%2C%205.170408%5D%2C%20%5B25.128833%2C%204.927245%5D%2C%20%5B24.805029%2C%204.897247%5D%2C%20%5B24.410531%2C%205.108784%5D%2C%20%5B23.297214%2C%204.609693%5D%2C%20%5B22.84148%2C%204.710126%5D%2C%20%5B22.704124%2C%204.633051%5D%2C%20%5B22.405124%2C%204.02916%5D%2C%20%5B21.659123%2C%204.224342%5D%2C%20%5B20.927591%2C%204.322786%5D%2C%20%5B20.290679%2C%204.691678%5D%2C%20%5B19.467784%2C%205.031528%5D%2C%20%5B18.932312%2C%204.709506%5D%2C%20%5B18.542982%2C%204.201785%5D%2C%20%5B18.453065%2C%203.504386%5D%2C%20%5B17.8099%2C%203.560196%5D%2C%20%5B17.133042%2C%203.728197%5D%2C%20%5B16.537058%2C%203.198255%5D%2C%20%5B16.012852%2C%202.26764%5D%2C%20%5B15.907381%2C%202.557389%5D%2C%20%5B15.862732%2C%203.013537%5D%2C%20%5B15.405396%2C%203.335301%5D%2C%20%5B15.03622%2C%203.851367%5D%2C%20%5B14.950953%2C%204.210389%5D%2C%20%5B14.478372%2C%204.732605%5D%2C%20%5B14.558936%2C%205.030598%5D%2C%20%5B14.459407%2C%205.451761%5D%2C%20%5B14.53656%2C%206.226959%5D%2C%20%5B14.776545%2C%206.408498%5D%2C%20%5B15.27946%2C%207.421925%5D%5D%5D%2C%20%22type%22%3A%20%22Polygon%22%7D%2C%20%22id%22%3A%20%22CAF%22%2C%20%22properties%22%3A%20%7B%22name%22%3A%20%22Central%20African%20Republic%22%7D%2C%20%22type%22%3A%20%22Feature%22%7D%2C%20%7B%22geometry%22%3A%20%7B%22coordinates%22%3A%20%5B%5B%5B%5B-63.6645%2C%2046.55001%5D%2C%20%5B-62.9393%2C%2046.41587%5D%2C%20%5B-62.01208%2C%2046.44314%5D%2C%20%5B-62.50391%2C%2046.03339%5D%2C%20%5B-62.87433%2C%2045.96818%5D%2C%20%5B-64.1428%2C%2046.39265%5D%2C%20%5B-64.39261%2C%2046.72747%5D%2C%20%5B-64.01486%2C%2047.03601%5D%2C%20%5B-63.6645%2C%2046.55001%5D%5D%5D%2C%20%5B%5B%5B-61.806305%2C%2049.10506%5D%2C%20%5B-62.29318%2C%2049.08717%5D%2C%20%5B-63.58926%2C%2049.40069%5D%2C%20%5B-64.51912%2C%2049.87304%5D%2C%20%5B-64.17322%2C%2049.95718%5D%2C%20%5B-62.85829%2C%2049.70641%5D%2C%20%5B-61.835585%2C%2049.28855%5D%2C%20%5B-61.806305%2C%2049.10506%5D%5D%5D%2C%20%5B%5B%5B-123.510002%2C%2048.510011%5D%2C%20%5B-124.012891%2C%2048.370846%5D%2C%20%5B-125.655013%2C%2048.825005%5D%2C%20%5B-125.954994%2C%2049.179996%5D%2C%20%5B-126.850004%2C%2049.53%5D%2C%20%5B-127.029993%2C%2049.814996%5D%2C%20%5B-128.059336%2C%2049.994959%5D%2C%20%5B-128.444584%2C%2050.539138%5D%2C%20%5B-128.358414%2C%2050.770648%5D%2C%20%5B-127.308581%2C%2050.552574%5D%2C%20%5B-126.695001%2C%2050.400903%5D%2C%20%5B-125.755007%2C%2050.295018%5D%2C%20%5B-125.415002%2C%2049.950001%5D%2C%20%5B-124.920768%2C%2049.475275%5D%2C%20%5B-123.922509%2C%2049.062484%5D%2C%20%5B-123.510002%2C%2048.510011%5D%5D%5D%2C%20%5B%5B%5B-56.134036%2C%2050.68701%5D%2C%20%5B-56.795882%2C%2049.812309%5D%2C%20%5B-56.143105%2C%2050.150117%5D%2C%20%5B-55.471492%2C%2049.935815%5D%2C%20%5B-55.822401%2C%2049.587129%5D%2C%20%5B-54.935143%2C%2049.313011%5D%2C%20%5B-54.473775%2C%2049.556691%5D%2C%20%5B-53.476549%2C%2049.249139%5D%2C%20%5B-53.786014%2C%2048.516781%5D%2C%20%5B-53.086134%2C%2048.687804%5D%2C%20%5B-52.958648%2C%2048.157164%5D%2C%20%5B-52.648099%2C%2047.535548%5D%2C%20%5B-53.069158%2C%2046.655499%5D%2C%20%5B-53.521456%2C%2046.618292%5D%2C%20%5B-54.178936%2C%2046.807066%5D%2C%20%5B-53.961869%2C%2047.625207%5D%2C%20%5B-54.240482%2C%2047.752279%5D%2C%20%5B-55.400773%2C%2046.884994%5D%2C%20%5B-55.997481%2C%2046.91972%5D%2C%20%5B-55.291219%2C%2047.389562%5D%2C%20%5B-56.250799%2C%2047.632545%5D%2C%20%5B-57.325229%2C%2047.572807%5D%2C%20%5B-59.266015%2C%2047.603348%5D%2C%20%5B-59.419494%2C%2047.899454%5D%2C%20%5B-58.796586%2C%2048.251525%5D%2C%20%5B-59.231625%2C%2048.523188%5D%2C%20%5B-58.391805%2C%2049.125581%5D%2C%20%5B-57.35869%2C%2050.718274%5D%2C%20%5B-56.73865%2C%2051.287438%5D%2C%20%5B-55.870977%2C%2051.632094%5D%2C%20%5B-55.406974%2C%2051.588273%5D%2C%20%5B-55.600218%2C%2051.317075%5D%2C%20%5B-56.134036%2C%2050.68701%5D%5D%5D%2C%20%5B%5B%5B-132.710008%2C%2054.040009%5D%2C%20%5B-132.710009%2C%2054.040009%5D%2C%20%5B-132.710008%2C%2054.040009%5D%2C%20%5B-132.710008%2C%2054.040009%5D%2C%20%5B-131.74999%2C%2054.120004%5D%2C%20%5B-132.04948%2C%2052.984621%5D%2C%20%5B-131.179043%2C%2052.180433%5D%2C%20%5B-131.57783%2C%2052.182371%5D%2C%20%5B-132.180428%2C%2052.639707%5D%2C%20%5B-132.549992%2C%2053.100015%5D%2C%20%5B-133.054611%2C%2053.411469%5D%2C%20%5B-133.239664%2C%2053.85108%5D%2C%20%5B-133.180004%2C%2054.169975%5D%2C%20%5B-132.710008%2C%2054.040009%5D%5D%5D%2C%20%5B%5B%5B-79.26582%2C%2062.158675%5D%2C%20%5B-79.65752%2C%2061.63308%5D%2C%20%5B-80.09956%2C%2061.7181%5D%2C%20%5B-80.36215%2C%2062.01649%5D%2C%20%5B-80.315395%2C%2062.085565%5D%2C%20%5B-79.92939%2C%2062.3856%5D%2C%20%5B-79.52002%2C%2062.36371%5D%2C%20%5B-79.26582%2C%2062.158675%5D%5D%5D%2C%20%5B%5B%5B-81.89825%2C%2062.7108%5D%2C%20%5B-83.06857%2C%2062.15922%5D%2C%20%5B-83.77462%2C%2062.18231%5D%2C%20%5B-83.99367%2C%2062.4528%5D%2C%20%5B-83.25048%2C%2062.91409%5D%2C%20%5B-81.87699%2C%2062.90458%5D%2C%20%5B-81.89825%2C%2062.7108%5D%5D%5D%2C%20%5B%5B%5B-85.161308%2C%2065.657285%5D%2C%20%5B-84.975764%2C%2065.217518%5D%2C%20%5B-84.464012%2C%2065.371772%5D%2C%20%5B-83.882626%2C%2065.109618%5D%2C%20%5B-82.787577%2C%2064.766693%5D%2C%20%5B-81.642014%2C%2064.455136%5D%2C%20%5B-81.55344%2C%2063.979609%5D%2C%20%5B-80.817361%2C%2064.057486%5D%2C%20%5B-80.103451%2C%2063.725981%5D%2C%20%5B-80.99102%2C%2063.411246%5D%2C%20%5B-82.547178%2C%2063.651722%5D%2C%20%5B-83.108798%2C%2064.101876%5D%2C%20%5B-84.100417%2C%2063.569712%5D%2C%20%5B-85.523405%2C%2063.052379%5D%2C%20%5B-85.866769%2C%2063.637253%5D%2C%20%5B-87.221983%2C%2063.541238%5D%2C%20%5B-86.35276%2C%2064.035833%5D%2C%20%5B-86.224886%2C%2064.822917%5D%2C%20%5B-85.883848%2C%2065.738778%5D%2C%20%5B-85.161308%2C%2065.657285%5D%5D%5D%2C%20%5B%5B%5B-75.86588%2C%2067.14886%5D%2C%20%5B-76.98687%2C%2067.09873%5D%2C%20%5B-77.2364%2C%2067.58809%5D%2C%20%5B-76.81166%2C%2068.14856%5D%2C%20%5B-75.89521%2C%2068.28721%5D%2C%20%5B-75.1145%2C%2068.01036%5D%2C%20%5B-75.10333%2C%2067.58202%5D%2C%20%5B-75.21597%2C%2067.44425%5D%2C%20%5B-75.86588%2C%2067.14886%5D%5D%5D%2C%20%5B%5B%5B-95.647681%2C%2069.10769%5D%2C%20%5B-96.269521%2C%2068.75704%5D%2C%20%5B-97.617401%2C%2069.06003%5D%2C%20%5B-98.431801%2C%2068.9507%5D%2C%20%5B-99.797401%2C%2069.40003%5D%2C%20%5B-98.917401%2C%2069.71003%5D%2C%20%5B-98.218261%2C%2070.14354%5D%2C%20%5B-97.157401%2C%2069.86003%5D%2C%20%5B-96.557401%2C%2069.68003%5D%2C%20%5B-96.257401%2C%2069.49003%5D%2C%20%5B-95.647681%2C%2069.10769%5D%5D%5D%2C%20%5B%5B%5B-90.5471%2C%2069.49766%5D%2C%20%5B-90.55151%2C%2068.47499%5D%2C%20%5B-89.21515%2C%2069.25873%5D%2C%20%5B-88.01966%2C%2068.61508%5D%2C%20%5B-88.31749%2C%2067.87338%5D%2C%20%5B-87.35017%2C%2067.19872%5D%2C%20%5B-86.30607%2C%2067.92146%5D%2C%20%5B-85.57664%2C%2068.78456%5D%2C%20%5B-85.52197%2C%2069.88211%5D%2C%20%5B-84.10081%2C%2069.80539%5D%2C%20%5B-82.62258%2C%2069.65826%5D%2C%20%5B-81.28043%2C%2069.16202%5D%2C%20%5B-81.2202%2C%2068.66567%5D%2C%20%5B-81.96436%2C%2068.13253%5D%2C%20%5B-81.25928%2C%2067.59716%5D%2C%20%5B-81.38653%2C%2067.11078%5D%2C%20%5B-83.34456%2C%2066.41154%5D%2C%20%5B-84.73542%2C%2066.2573%5D%2C%20%5B-85.76943%2C%2066.55833%5D%2C%20%5B-86.0676%2C%2066.05625%5D%2C%20%5B-87.03143%2C%2065.21297%5D%2C%20%5B-87.32324%2C%2064.77563%5D%2C%20%5B-88.48296%2C%2064.09897%5D%2C%20%5B-89.91444%2C%2064.03273%5D%2C%20%5B-90.70398%2C%2063.61017%5D%2C%20%5B-90.77004%2C%2062.96021%5D%2C%20%5B-91.93342%2C%2062.83508%5D%2C%20%5B-93.15698%2C%2062.02469%5D%2C%20%5B-94.24153%2C%2060.89865%5D%2C%20%5B-94.62931%2C%2060.11021%5D%2C%20%5B-94.6846%2C%2058.94882%5D%2C%20%5B-93.21502%2C%2058.78212%5D%2C%20%5B-92.76462%2C%2057.84571%5D%2C%20%5B-92.29703%2C%2057.08709%5D%2C%20%5B-90.89769%2C%2057.28468%5D%2C%20%5B-89.03953%2C%2056.85172%5D%2C%20%5B-88.03978%2C%2056.47162%5D%2C%20%5B-87.32421%2C%2055.99914%5D%2C%20%5B-86.07121%2C%2055.72383%5D%2C%20%5B-85.01181%2C%2055.3026%5D%2C%20%5B-83.36055%2C%2055.24489%5D%2C%20%5B-82.27285%2C%2055.14832%5D%2C%20%5B-82.4362%2C%2054.28227%5D%2C%20%5B-82.12502%2C%2053.27703%5D%2C%20%5B-81.40075%2C%2052.15788%5D%2C%20%5B-79.91289%2C%2051.20842%5D%2C%20%5B-79.14301%2C%2051.53393%5D%2C%20%5B-78.60191%2C%2052.56208%5D%2C%20%5B-79.12421%2C%2054.14145%5D%2C%20%5B-79.82958%2C%2054.66772%5D%2C%20%5B-78.22874%2C%2055.13645%5D%2C%20%5B-77.0956%2C%2055.83741%5D%2C%20%5B-76.54137%2C%2056.53423%5D%2C%20%5B-76.62319%2C%2057.20263%5D%2C%20%5B-77.30226%2C%2058.05209%5D%2C%20%5B-78.51688%2C%2058.80458%5D%2C%20%5B-77.33676%2C%2059.85261%5D%2C%20%5B-77.77272%2C%2060.75788%5D%2C%20%5B-78.10687%2C%2062.31964%5D%2C%20%5B-77.41067%2C%2062.55053%5D%2C%20%5B-75.69621%2C%2062.2784%5D%2C%20%5B-74.6682%2C%2062.18111%5D%2C%20%5B-73.83988%2C%2062.4438%5D%2C%20%5B-72.90853%2C%2062.10507%5D%2C%20%5B-71.67708%2C%2061.52535%5D%2C%20%5B-71.37369%2C%2061.13717%5D%2C%20%5B-69.59042%2C%2061.06141%5D%2C%20%5B-69.62033%2C%2060.22125%5D%2C%20%5B-69.2879%2C%2058.95736%5D%2C%20%5B-68.37455%2C%2058.80106%5D%2C%20%5B-67.64976%2C%2058.21206%5D%2C%20%5B-66.20178%2C%2058.76731%5D%2C%20%5B-65.24517%2C%2059.87071%5D%2C%20%5B-64.58352%2C%2060.33558%5D%2C%20%5B-63.80475%2C%2059.4426%5D%2C%20%5B-62.50236%2C%2058.16708%5D%2C%20%5B-61.39655%2C%2056.96745%5D%2C%20%5B-61.79866%2C%2056.33945%5D%2C%20%5B-60.46853%2C%2055.77548%5D%2C%20%5B-59.56962%2C%2055.20407%5D%2C%20%5B-57.97508%2C%2054.94549%5D%2C%20%5B-57.3332%2C%2054.6265%5D%2C%20%5B-56.93689%2C%2053.78032%5D%2C%20%5B-56.15811%2C%2053.64749%5D%2C%20%5B-55.75632%2C%2053.27036%5D%2C%20%5B-55.68338%2C%2052.14664%5D%2C%20%5B-56.40916%2C%2051.7707%5D%2C%20%5B-57.12691%2C%2051.41972%5D%2C%20%5B-58.77482%2C%2051.0643%5D%2C%20%5B-60.03309%2C%2050.24277%5D%2C%20%5B-61.72366%2C%2050.08046%5D%2C%20%5B-63.86251%2C%2050.29099%5D%2C%20%5B-65.36331%2C%2050.2982%5D%2C%20%5B-66.39905%2C%2050.22897%5D%2C%20%5B-67.23631%2C%2049.51156%5D%2C%20%5B-68.51114%2C%2049.06836%5D%2C%20%5B-69.95362%2C%2047.74488%5D%2C%20%5B-71.10458%2C%2046.82171%5D%2C%20%5B-70.25522%2C%2046.98606%5D%2C%20%5B-68.65%2C%2048.3%5D%2C%20%5B-66.55243%2C%2049.1331%5D%2C%20%5B-65.05626%2C%2049.23278%5D%2C%20%5B-64.17099%2C%2048.74248%5D%2C%20%5B-65.11545%2C%2048.07085%5D%2C%20%5B-64.79854%2C%2046.99297%5D%2C%20%5B-64.47219%2C%2046.23849%5D%2C%20%5B-63.17329%2C%2045.73902%5D%2C%20%5B-61.52072%2C%2045.88377%5D%2C%20%5B-60.51815%2C%2047.00793%5D%2C%20%5B-60.4486%2C%2046.28264%5D%2C%20%5B-59.80287%2C%2045.9204%5D%2C%20%5B-61.03988%2C%2045.26525%5D%2C%20%5B-63.25471%2C%2044.67014%5D%2C%20%5B-64.24656%2C%2044.26553%5D%2C%20%5B-65.36406%2C%2043.54523%5D%2C%20%5B-66.1234%2C%2043.61867%5D%2C%20%5B-66.16173%2C%2044.46512%5D%2C%20%5B-64.42549%2C%2045.29204%5D%2C%20%5B-66.02605%2C%2045.25931%5D%2C%20%5B-67.13741%2C%2045.13753%5D%2C%20%5B-67.79134%2C%2045.70281%5D%2C%20%5B-67.79046%2C%2047.06636%5D%2C%20%5B-68.23444%2C%2047.35486%5D%2C%20%5B-68.905%2C%2047.185%5D%2C%20%5B-69.237216%2C%2047.447781%5D%2C%20%5B-69.99997%2C%2046.69307%5D%2C%20%5B-70.305%2C%2045.915%5D%2C%20%5B-70.66%2C%2045.46%5D%2C%20%5B-71.08482%2C%2045.30524%5D%2C%20%5B-71.405%2C%2045.255%5D%2C%20%5B-71.50506%2C%2045.0082%5D%2C%20%5B-73.34783%2C%2045.00738%5D%2C%20%5B-74.867%2C%2045.00048%5D%2C%20%5B-75.31821%2C%2044.81645%5D%2C%20%5B-76.375%2C%2044.09631%5D%2C%20%5B-76.5%2C%2044.018459%5D%2C%20%5B-76.820034%2C%2043.628784%5D%2C%20%5B-77.737885%2C%2043.629056%5D%2C%20%5B-78.72028%2C%2043.625089%5D%2C%20%5B-79.171674%2C%2043.466339%5D%2C%20%5B-79.01%2C%2043.27%5D%2C%20%5B-78.92%2C%2042.965%5D%2C%20%5B-78.939362%2C%2042.863611%5D%2C%20%5B-80.247448%2C%2042.3662%5D%2C%20%5B-81.277747%2C%2042.209026%5D%2C%20%5B-82.439278%2C%2041.675105%5D%2C%20%5B-82.690089%2C%2041.675105%5D%2C%20%5B-83.02981%2C%2041.832796%5D%2C%20%5B-83.142%2C%2041.975681%5D%2C%20%5B-83.12%2C%2042.08%5D%2C%20%5B-82.9%2C%2042.43%5D%2C%20%5B-82.43%2C%2042.98%5D%2C%20%5B-82.137642%2C%2043.571088%5D%2C%20%5B-82.337763%2C%2044.44%5D%2C%20%5B-82.550925%2C%2045.347517%5D%2C%20%5B-83.592851%2C%2045.816894%5D%2C%20%5B-83.469551%2C%2045.994686%5D%2C%20%5B-83.616131%2C%2046.116927%5D%2C%20%5B-83.890765%2C%2046.116927%5D%2C%20%5B-84.091851%2C%2046.275419%5D%2C%20%5B-84.14212%2C%2046.512226%5D%2C%20%5B-84.3367%2C%2046.40877%5D%2C%20%5B-84.6049%2C%2046.4396%5D%2C%20%5B-84.543749%2C%2046.538684%5D%2C%20%5B-84.779238%2C%2046.637102%5D%2C%20%5B-84.87608%2C%2046.900083%5D%2C%20%5B-85.652363%2C%2047.220219%5D%2C%20%5B-86.461991%2C%2047.553338%5D%2C%20%5B-87.439793%2C%2047.94%5D%2C%20%5B-88.378114%2C%2048.302918%5D%2C%20%5B-89.272917%2C%2048.019808%5D%2C%20%5B-89.6%2C%2048.01%5D%2C%20%5B-90.83%2C%2048.27%5D%2C%20%5B-91.64%2C%2048.14%5D%2C%20%5B-92.61%2C%2048.45%5D%2C%20%5B-93.63087%2C%2048.60926%5D%2C%20%5B-94.32914%2C%2048.67074%5D%2C%20%5B-94.64%2C%2048.84%5D%2C%20%5B-94.81758%2C%2049.38905%5D%2C%20%5B-95.15609%2C%2049.38425%5D%2C%20%5B-95.15907%2C%2049%5D%2C%20%5B-97.22872%2C%2049.0007%5D%2C%20%5B-100.65%2C%2049%5D%2C%20%5B-104.04826%2C%2048.99986%5D%2C%20%5B-107.05%2C%2049%5D%2C%20%5B-110.05%2C%2049%5D%2C%20%5B-113%2C%2049%5D%2C%20%5B-116.04818%2C%2049%5D%2C%20%5B-117.03121%2C%2049%5D%2C%20%5B-120%2C%2049%5D%2C%20%5B-122.84%2C%2049%5D%2C%20%5B-122.97421%2C%2049.002538%5D%2C%20%5B-124.91024%2C%2049.98456%5D%2C%20%5B-125.62461%2C%2050.41656%5D%2C%20%5B-127.43561%2C%2050.83061%5D%2C%20%5B-127.99276%2C%2051.71583%5D%2C%20%5B-127.85032%2C%2052.32961%5D%2C%20%5B-129.12979%2C%2052.75538%5D%2C%20%5B-129.30523%2C%2053.56159%5D%2C%20%5B-130.51497%2C%2054.28757%5D%2C%20%5B-130.53611%2C%2054.80278%5D%2C%20%5B-129.98%2C%2055.285%5D%2C%20%5B-130.00778%2C%2055.91583%5D%2C%20%5B-131.70781%2C%2056.55212%5D%2C%20%5B-132.73042%2C%2057.69289%5D%2C%20%5B-133.35556%2C%2058.41028%5D%2C%20%5B-134.27111%2C%2058.86111%5D%2C%20%5B-134.945%2C%2059.27056%5D%2C%20%5B-135.47583%2C%2059.78778%5D%2C%20%5B-136.47972%2C%2059.46389%5D%2C%20%5B-137.4525%2C%2058.905%5D%2C%20%5B-138.34089%2C%2059.56211%5D%2C%20%5B-139.039%2C%2060%5D%2C%20%5B-140.013%2C%2060.27682%5D%2C%20%5B-140.99778%2C%2060.30639%5D%2C%20%5B-140.9925%2C%2066.00003%5D%2C%20%5B-140.986%2C%2069.712%5D%2C%20%5B-139.12052%2C%2069.47102%5D%2C%20%5B-137.54636%2C%2068.99002%5D%2C%20%5B-136.50358%2C%2068.89804%5D%2C%20%5B-135.62576%2C%2069.31512%5D%2C%20%5B-134.41464%2C%2069.62743%5D%2C%20%5B-132.92925%2C%2069.50534%5D%2C%20%5B-131.43136%2C%2069.94451%5D%2C%20%5B-129.79471%2C%2070.19369%5D%2C%20%5B-129.10773%2C%2069.77927%5D%2C%20%5B-128.36156%2C%2070.01286%5D%2C%20%5B-128.13817%2C%2070.48384%5D%2C%20%5B-127.44712%2C%2070.37721%5D%2C%20%5B-125.75632%2C%2069.48058%5D%2C%20%5B-124.42483%2C%2070.1584%5D%2C%20%5B-124.28968%2C%2069.39969%5D%2C%20%5B-123.06108%2C%2069.56372%5D%2C%20%5B-122.6835%2C%2069.85553%5D%2C%20%5B-121.47226%2C%2069.79778%5D%2C%20%5B-119.94288%2C%2069.37786%5D%2C%20%5B-117.60268%2C%2069.01128%5D%2C%20%5B-116.22643%2C%2068.84151%5D%2C%20%5B-115.2469%2C%2068.90591%5D%2C%20%5B-113.89794%2C%2068.3989%5D%2C%20%5B-115.30489%2C%2067.90261%5D%2C%20%5B-113.49727%2C%2067.68815%5D%2C%20%5B-110.798%2C%2067.80612%5D%2C%20%5B-109.94619%2C%2067.98104%5D%2C%20%5B-108.8802%2C%2067.38144%5D%2C%20%5B-107.79239%2C%2067.88736%5D%2C%20%5B-108.81299%2C%2068.31164%5D%2C%20%5B-108.16721%2C%2068.65392%5D%2C%20%5B-106.95%2C%2068.7%5D%2C%20%5B-106.15%2C%2068.8%5D%2C%20%5B-105.34282%2C%2068.56122%5D%2C%20%5B-104.33791%2C%2068.018%5D%2C%20%5B-103.22115%2C%2068.09775%5D%2C%20%5B-101.45433%2C%2067.64689%5D%2C%20%5B-99.90195%2C%2067.80566%5D%2C%20%5B-98.4432%2C%2067.78165%5D%2C%20%5B-98.5586%2C%2068.40394%5D%2C%20%5B-97.66948%2C%2068.57864%5D%2C%20%5B-96.11991%2C%2068.23939%5D%2C%20%5B-96.12588%2C%2067.29338%5D%2C%20%5B-95.48943%2C%2068.0907%5D%2C%20%5B-94.685%2C%2068.06383%5D%2C%20%5B-94.23282%2C%2069.06903%5D%2C%20%5B-95.30408%2C%2069.68571%5D%2C%20%5B-96.47131%2C%2070.08976%5D%2C%20%5B-96.39115%2C%2071.19482%5D%2C%20%5B-95.2088%2C%2071.92053%5D%2C%20%5B-93.88997%2C%2071.76015%5D%2C%20%5B-92.87818%2C%2071.31869%5D%2C%20%5B-91.51964%2C%2070.19129%5D%2C%20%5B-92.40692%2C%2069.69997%5D%2C%20%5B-90.5471%2C%2069.49766%5D%5D%5D%2C%20%5B%5B%5B-114.16717%2C%2073.12145%5D%2C%20%5B-114.66634%2C%2072.65277%5D%2C%20%5B-112.44102%2C%2072.9554%5D%2C%20%5B-111.05039%2C%2072.4504%5D%2C%20%5B-109.92035%2C%2072.96113%5D%2C%20%5B-109.00654%2C%2072.63335%5D%2C%20%5B-108.18835%2C%2071.65089%5D%2C%20%5B-107.68599%2C%2072.06548%5D%2C%20%5B-108.39639%2C%2073.08953%5D%2C%20%5B-107.51645%2C%2073.23598%5D%2C%20%5B-106.52259%2C%2073.07601%5D%2C%20%5B-105.40246%2C%2072.67259%5D%2C%20%5B-104.77484%2C%2071.6984%5D%2C%20%5B-104.46476%2C%2070.99297%5D%2C%20%5B-102.78537%2C%2070.49776%5D%2C%20%5B-100.98078%2C%2070.02432%5D%2C%20%5B-101.08929%2C%2069.58447%5D%2C%20%5B-102.73116%2C%2069.50402%5D%2C%20%5B-102.09329%2C%2069.11962%5D%2C%20%5B-102.43024%2C%2068.75282%5D%2C%20%5B-104.24%2C%2068.91%5D%2C%20%5B-105.96%2C%2069.18%5D%2C%20%5B-107.12254%2C%2069.11922%5D%2C%20%5B-109%2C%2068.78%5D%2C%20%5B-111.534149%2C%2068.630059%5D%2C%20%5B-113.3132%2C%2068.53554%5D%2C%20%5B-113.85496%2C%2069.00744%5D%2C%20%5B-115.22%2C%2069.28%5D%2C%20%5B-116.10794%2C%2069.16821%5D%2C%20%5B-117.34%2C%2069.96%5D%2C%20%5B-116.67473%2C%2070.06655%5D%2C%20%5B-115.13112%2C%2070.2373%5D%2C%20%5B-113.72141%2C%2070.19237%5D%2C%20%5B-112.4161%2C%2070.36638%5D%2C%20%5B-114.35%2C%2070.6%5D%2C%20%5B-116.48684%2C%2070.52045%5D%2C%20%5B-117.9048%2C%2070.54056%5D%2C%20%5B-118.43238%2C%2070.9092%5D%2C%20%5B-116.11311%2C%2071.30918%5D%2C%20%5B-117.65568%2C%2071.2952%5D%2C%20%5B-119.40199%2C%2071.55859%5D%2C%20%5B-118.56267%2C%2072.30785%5D%2C%20%5B-117.86642%2C%2072.70594%5D%2C%20%5B-115.18909%2C%2073.31459%5D%2C%20%5B-114.16717%2C%2073.12145%5D%5D%5D%2C%20%5B%5B%5B-104.5%2C%2073.42%5D%2C%20%5B-105.38%2C%2072.76%5D%2C%20%5B-106.94%2C%2073.46%5D%2C%20%5B-106.6%2C%2073.6%5D%2C%20%5B-105.26%2C%2073.64%5D%2C%20%5B-104.5%2C%2073.42%5D%5D%5D%2C%20%5B%5B%5B-76.34%2C%2073.102685%5D%2C%20%5B-76.251404%2C%2072.826385%5D%2C%20%5B-77.314438%2C%2072.855545%5D%2C%20%5B-78.39167%2C%2072.876656%5D%2C%20%5B-79.486252%2C%2072.742203%5D%2C%20%5B-79.775833%2C%2072.802902%5D%2C%20%5B-80.876099%2C%2073.333183%5D%2C%20%5B-80.833885%2C%2073.693184%5D%2C%20%5B-80.353058%2C%2073.75972%5D%2C%20%5B-78.064438%2C%2073.651932%5D%2C%20%5B-76.34%2C%2073.102685%5D%5D%5D%2C%20%5B%5B%5B-86.562179%2C%2073.157447%5D%2C%20%5B-85.774371%2C%2072.534126%5D%2C%20%5B-84.850112%2C%2073.340278%5D%2C%20%5B-82.31559%2C%2073.750951%5D%2C%20%5B-80.600088%2C%2072.716544%5D%2C%20%5B-80.748942%2C%2072.061907%5D%2C%20%5B-78.770639%2C%2072.352173%5D%2C%20%5B-77.824624%2C%2072.749617%5D%2C%20%5B-75.605845%2C%2072.243678%5D%2C%20%5B-74.228616%2C%2071.767144%5D%2C%20%5B-74.099141%2C%2071.33084%5D%2C%20%5B-72.242226%2C%2071.556925%5D%2C%20%5B-71.200015%2C%2070.920013%5D%2C%20%5B-68.786054%2C%2070.525024%5D%2C%20%5B-67.91497%2C%2070.121948%5D%2C%20%5B-66.969033%2C%2069.186087%5D%2C%20%5B-68.805123%2C%2068.720198%5D%2C%20%5B-66.449866%2C%2068.067163%5D%2C%20%5B-64.862314%2C%2067.847539%5D%2C%20%5B-63.424934%2C%2066.928473%5D%2C%20%5B-61.851981%2C%2066.862121%5D%2C%20%5B-62.163177%2C%2066.160251%5D%2C%20%5B-63.918444%2C%2064.998669%5D%2C%20%5B-65.14886%2C%2065.426033%5D%2C%20%5B-66.721219%2C%2066.388041%5D%2C%20%5B-68.015016%2C%2066.262726%5D%2C%20%5B-68.141287%2C%2065.689789%5D%2C%20%5B-67.089646%2C%2065.108455%5D%2C%20%5B-65.73208%2C%2064.648406%5D%2C%20%5B-65.320168%2C%2064.382737%5D%2C%20%5B-64.669406%2C%2063.392927%5D%2C%20%5B-65.013804%2C%2062.674185%5D%2C%20%5B-66.275045%2C%2062.945099%5D%2C%20%5B-68.783186%2C%2063.74567%5D%2C%20%5B-67.369681%2C%2062.883966%5D%2C%20%5B-66.328297%2C%2062.280075%5D%2C%20%5B-66.165568%2C%2061.930897%5D%2C%20%5B-68.877367%2C%2062.330149%5D%2C%20%5B-71.023437%2C%2062.910708%5D%2C%20%5B-72.235379%2C%2063.397836%5D%2C%20%5B-71.886278%2C%2063.679989%5D%2C%20%5B-73.378306%2C%2064.193963%5D%2C%20%5B-74.834419%2C%2064.679076%5D%2C%20%5B-74.818503%2C%2064.389093%5D%2C%20%5B-77.70998%2C%2064.229542%5D%2C%20%5B-78.555949%2C%2064.572906%5D%2C%20%5B-77.897281%2C%2065.309192%5D%2C%20%5B-76.018274%2C%2065.326969%5D%2C%20%5B-73.959795%2C%2065.454765%5D%2C%20%5B-74.293883%2C%2065.811771%5D%2C%20%5B-73.944912%2C%2066.310578%5D%2C%20%5B-72.651167%2C%2067.284576%5D%2C%20%5B-72.92606%2C%2067.726926%5D%2C%20%5B-73.311618%2C%2068.069437%5D%2C%20%5B-74.843307%2C%2068.554627%5D%2C%20%5B-76.869101%2C%2068.894736%5D%2C%20%5B-76.228649%2C%2069.147769%5D%2C%20%5B-77.28737%2C%2069.76954%5D%2C%20%5B-78.168634%2C%2069.826488%5D%2C%20%5B-78.957242%2C%2070.16688%5D%2C%20%5B-79.492455%2C%2069.871808%5D%2C%20%5B-81.305471%2C%2069.743185%5D%2C%20%5B-84.944706%2C%2069.966634%5D%2C%20%5B-87.060003%2C%2070.260001%5D%2C%20%5B-88.681713%2C%2070.410741%5D%2C%20%5B-89.51342%2C%2070.762038%5D%2C%20%5B-88.467721%2C%2071.218186%5D%2C%20%5B-89.888151%2C%2071.222552%5D%2C%20%5B-90.20516%2C%2072.235074%5D%2C%20%5B-89.436577%2C%2073.129464%5D%2C%20%5B-88.408242%2C%2073.537889%5D%2C%20%5B-85.826151%2C%2073.803816%5D%2C%20%5B-86.562179%2C%2073.157447%5D%5D%5D%2C%20%5B%5B%5B-100.35642%2C%2073.84389%5D%2C%20%5B-99.16387%2C%2073.63339%5D%2C%20%5B-97.38%2C%2073.76%5D%2C%20%5B-97.12%2C%2073.47%5D%2C%20%5B-98.05359%2C%2072.99052%5D%2C%20%5B-96.54%2C%2072.56%5D%2C%20%5B-96.72%2C%2071.66%5D%2C%20%5B-98.35966%2C%2071.27285%5D%2C%20%5B-99.32286%2C%2071.35639%5D%2C%20%5B-100.01482%2C%2071.73827%5D%2C%20%5B-102.5%2C%2072.51%5D%2C%20%5B-102.48%2C%2072.83%5D%2C%20%5B-100.43836%2C%2072.70588%5D%2C%20%5B-101.54%2C%2073.36%5D%2C%20%5B-100.35642%2C%2073.84389%5D%5D%5D%2C%20%5B%5B%5B-93.196296%2C%2072.771992%5D%2C%20%5B-94.269047%2C%2072.024596%5D%2C%20%5B-95.409856%2C%2072.061881%5D%2C%20%5B-96.033745%2C%2072.940277%5D%2C%20%5B-96.018268%2C%2073.43743%5D%2C%20%5B-95.495793%2C%2073.862417%5D%2C%20%5B-94.503658%2C%2074.134907%5D%2C%20%5B-92.420012%2C%2074.100025%5D%2C%20%5B-90.509793%2C%2073.856732%5D%2C%20%5B-92.003965%2C%2072.966244%5D%2C%20%5B-93.196296%2C%2072.771992%5D%5D%5D%2C%20%5B%5B%5B-120.46%2C%2071.383602%5D%2C%20%5B-123.09219%2C%2070.90164%5D%2C%20%5B-123.62%2C%2071.34%5D%2C%20%5B-125.928949%2C%2071.868688%5D%2C%20%5B-125.5%2C%2072.292261%5D%2C%20%5B-124.80729%2C%2073.02256%5D%2C%20%5B-123.94%2C%2073.68%5D%2C%20%5B-124.91775%2C%2074.29275%5D%2C%20%5B-121.53788%2C%2074.44893%5D%2C%20%5B-120.10978%2C%2074.24135%5D%2C%20%5B-117.55564%2C%2074.18577%5D%2C%20%5B-116.58442%2C%2073.89607%5D%2C%20%5B-115.51081%2C%2073.47519%5D%2C%20%5B-116.76794%2C%2073.22292%5D%2C%20%5B-119.22%2C%2072.52%5D%2C%20%5B-120.46%2C%2071.82%5D%2C%20%5B-120.46%2C%2071.383602%5D%5D%5D%2C%20%5B%5B%5B-93.612756%2C%2074.979997%5D%2C%20%5B-94.156909%2C%2074.592347%5D%2C%20%5B-95.608681%2C%2074.666864%5D%2C%20%5B-96.820932%2C%2074.927623%5D%2C%20%5B-96.288587%2C%2075.377828%5D%2C%20%5B-94.85082%2C%2075.647218%5D%2C%20%5B-93.977747%2C%2075.29649%5D%2C%20%5B-93.612756%2C%2074.979997%5D%5D%5D%2C%20%5B%5B%5B-98.5%2C%2076.72%5D%2C%20%5B-97.735585%2C%2076.25656%5D%2C%20%5B-97.704415%2C%2075.74344%5D%2C%20%5B-98.16%2C%2075%5D%2C%20%5B-99.80874%2C%2074.89744%5D%2C%20%5B-100.88366%2C%2075.05736%5D%2C%20%5B-100.86292%2C%2075.64075%5D%2C%20%5B-102.50209%2C%2075.5638%5D%2C%20%5B-102.56552%2C%2076.3366%5D%2C%20%5B-101.48973%2C%2076.30537%5D%2C%20%5B-99.98349%2C%2076.64634%5D%2C%20%5B-98.57699%2C%2076.58859%5D%2C%20%5B-98.5%2C%2076.72%5D%5D%5D%2C%20%5B%5B%5B-108.21141%2C%2076.20168%5D%2C%20%5B-107.81943%2C%2075.84552%5D%2C%20%5B-106.92893%2C%2076.01282%5D%2C%20%5B-105.881%2C%2075.9694%5D%2C%20%5B-105.70498%2C%2075.47951%5D%2C%20%5B-106.31347%2C%2075.00527%5D%2C%20%5B-109.7%2C%2074.85%5D%2C%20%5B-112.22307%2C%2074.41696%5D%2C%20%5B-113.74381%2C%2074.39427%5D%2C%20%5B-113.87135%2C%2074.72029%5D%2C%20%5B-111.79421%2C%2075.1625%5D%2C%20%5B-116.31221%2C%2075.04343%5D%2C%20%5B-117.7104%2C%2075.2222%5D%2C%20%5B-116.34602%2C%2076.19903%5D%2C%20%5B-115.40487%2C%2076.47887%5D%2C%20%5B-112.59056%2C%2076.14134%5D%2C%20%5B-110.81422%2C%2075.54919%5D%2C%20%5B-109.0671%2C%2075.47321%5D%2C%20%5B-110.49726%2C%2076.42982%5D%2C%20%5B-109.5811%2C%2076.79417%5D%2C%20%5B-108.54859%2C%2076.67832%5D%2C%20%5B-108.21141%2C%2076.20168%5D%5D%5D%2C%20%5B%5B%5B-94.684086%2C%2077.097878%5D%2C%20%5B-93.573921%2C%2076.776296%5D%2C%20%5B-91.605023%2C%2076.778518%5D%2C%20%5B-90.741846%2C%2076.449597%5D%2C%20%5B-90.969661%2C%2076.074013%5D%2C%20%5B-89.822238%2C%2075.847774%5D%2C%20%5B-89.187083%2C%2075.610166%5D%2C%20%5B-87.838276%2C%2075.566189%5D%2C%20%5B-86.379192%2C%2075.482421%5D%2C%20%5B-84.789625%2C%2075.699204%5D%2C%20%5B-82.753445%2C%2075.784315%5D%2C%20%5B-81.128531%2C%2075.713983%5D%2C%20%5B-80.057511%2C%2075.336849%5D%2C%20%5B-79.833933%2C%2074.923127%5D%2C%20%5B-80.457771%2C%2074.657304%5D%2C%20%5B-81.948843%2C%2074.442459%5D%2C%20%5B-83.228894%2C%2074.564028%5D%2C%20%5B-86.097452%2C%2074.410032%5D%2C%20%5B-88.15035%2C%2074.392307%5D%2C%20%5B-89.764722%2C%2074.515555%5D%2C%20%5B-92.422441%2C%2074.837758%5D%2C%20%5B-92.768285%2C%2075.38682%5D%2C%20%5B-92.889906%2C%2075.882655%5D%2C%20%5B-93.893824%2C%2076.319244%5D%2C%20%5B-95.962457%2C%2076.441381%5D%2C%20%5B-97.121379%2C%2076.751078%5D%2C%20%5B-96.745123%2C%2077.161389%5D%2C%20%5B-94.684086%2C%2077.097878%5D%5D%5D%2C%20%5B%5B%5B-116.198587%2C%2077.645287%5D%2C%20%5B-116.335813%2C%2076.876962%5D%2C%20%5B-117.106051%2C%2076.530032%5D%2C%20%5B-118.040412%2C%2076.481172%5D%2C%20%5B-119.899318%2C%2076.053213%5D%2C%20%5B-121.499995%2C%2075.900019%5D%2C%20%5B-122.854924%2C%2076.116543%5D%2C%20%5B-122.854925%2C%2076.116543%5D%2C%20%5B-121.157535%2C%2076.864508%5D%2C%20%5B-119.103939%2C%2077.51222%5D%2C%20%5B-117.570131%2C%2077.498319%5D%2C%20%5B-116.198587%2C%2077.645287%5D%5D%5D%2C%20%5B%5B%5B-93.840003%2C%2077.519997%5D%2C%20%5B-94.295608%2C%2077.491343%5D%2C%20%5B-96.169654%2C%2077.555111%5D%2C%20%5B-96.436304%2C%2077.834629%5D%2C%20%5B-94.422577%2C%2077.820005%5D%2C%20%5B-93.720656%2C%2077.634331%5D%2C%20%5B-93.840003%2C%2077.519997%5D%5D%5D%2C%20%5B%5B%5B-110.186938%2C%2077.697015%5D%2C%20%5B-112.051191%2C%2077.409229%5D%2C%20%5B-113.534279%2C%2077.732207%5D%2C%20%5B-112.724587%2C%2078.05105%5D%2C%20%5B-111.264443%2C%2078.152956%5D%2C%20%5B-109.854452%2C%2077.996325%5D%2C%20%5B-110.186938%2C%2077.697015%5D%5D%5D%2C%20%5B%5B%5B-109.663146%2C%2078.601973%5D%2C%20%5B-110.881314%2C%2078.40692%5D%2C%20%5B-112.542091%2C%2078.407902%5D%2C%20%5B-112.525891%2C%2078.550555%5D%2C%20%5B-111.50001%2C%2078.849994%5D%2C%20%5B-110.963661%2C%2078.804441%5D%2C%20%5B-109.663146%2C%2078.601973%5D%5D%5D%2C%20%5B%5B%5B-95.830295%2C%2078.056941%5D%2C%20%5B-97.309843%2C%2077.850597%5D%2C%20%5B-98.124289%2C%2078.082857%5D%2C%20%5B-98.552868%2C%2078.458105%5D%2C%20%5B-98.631984%2C%2078.87193%5D%2C%20%5B-97.337231%2C%2078.831984%5D%2C%20%5B-96.754399%2C%2078.765813%5D%2C%20%5B-95.559278%2C%2078.418315%5D%2C%20%5B-95.830295%2C%2078.056941%5D%5D%5D%2C%20%5B%5B%5B-100.060192%2C%2078.324754%5D%2C%20%5B-99.670939%2C%2077.907545%5D%2C%20%5B-101.30394%2C%2078.018985%5D%2C%20%5B-102.949809%2C%2078.343229%5D%2C%20%5B-105.176133%2C%2078.380332%5D%2C%20%5B-104.210429%2C%2078.67742%5D%2C%20%5B-105.41958%2C%2078.918336%5D%2C%20%5B-105.492289%2C%2079.301594%5D%2C%20%5B-103.529282%2C%2079.165349%5D%2C%20%5B-100.825158%2C%2078.800462%5D%2C%20%5B-100.060192%2C%2078.324754%5D%5D%5D%2C%20%5B%5B%5B-87.02%2C%2079.66%5D%2C%20%5B-85.81435%2C%2079.3369%5D%2C%20%5B-87.18756%2C%2079.0393%5D%2C%20%5B-89.03535%2C%2078.28723%5D%2C%20%5B-90.80436%2C%2078.21533%5D%2C%20%5B-92.87669%2C%2078.34333%5D%2C%20%5B-93.95116%2C%2078.75099%5D%2C%20%5B-93.93574%2C%2079.11373%5D%2C%20%5B-93.14524%2C%2079.3801%5D%2C%20%5B-94.974%2C%2079.37248%5D%2C%20%5B-96.07614%2C%2079.70502%5D%2C%20%5B-96.70972%2C%2080.15777%5D%2C%20%5B-96.01644%2C%2080.60233%5D%2C%20%5B-95.32345%2C%2080.90729%5D%2C%20%5B-94.29843%2C%2080.97727%5D%2C%20%5B-94.73542%2C%2081.20646%5D%2C%20%5B-92.40984%2C%2081.25739%5D%2C%20%5B-91.13289%2C%2080.72345%5D%2C%20%5B-89.45%2C%2080.509322%5D%2C%20%5B-87.81%2C%2080.32%5D%2C%20%5B-87.02%2C%2079.66%5D%5D%5D%2C%20%5B%5B%5B-68.5%2C%2083.106322%5D%2C%20%5B-65.82735%2C%2083.02801%5D%2C%20%5B-63.68%2C%2082.9%5D%2C%20%5B-61.85%2C%2082.6286%5D%2C%20%5B-61.89388%2C%2082.36165%5D%2C%20%5B-64.334%2C%2081.92775%5D%2C%20%5B-66.75342%2C%2081.72527%5D%2C%20%5B-67.65755%2C%2081.50141%5D%2C%20%5B-65.48031%2C%2081.50657%5D%2C%20%5B-67.84%2C%2080.9%5D%2C%20%5B-69.4697%2C%2080.61683%5D%2C%20%5B-71.18%2C%2079.8%5D%2C%20%5B-73.2428%2C%2079.63415%5D%2C%20%5B-73.88%2C%2079.430162%5D%2C%20%5B-76.90773%2C%2079.32309%5D%2C%20%5B-75.52924%2C%2079.19766%5D%2C%20%5B-76.22046%2C%2079.01907%5D%2C%20%5B-75.39345%2C%2078.52581%5D%2C%20%5B-76.34354%2C%2078.18296%5D%2C%20%5B-77.88851%2C%2077.89991%5D%2C%20%5B-78.36269%2C%2077.50859%5D%2C%20%5B-79.75951%2C%2077.20968%5D%2C%20%5B-79.61965%2C%2076.98336%5D%2C%20%5B-77.91089%2C%2077.022045%5D%2C%20%5B-77.88911%2C%2076.777955%5D%2C%20%5B-80.56125%2C%2076.17812%5D%2C%20%5B-83.17439%2C%2076.45403%5D%2C%20%5B-86.11184%2C%2076.29901%5D%2C%20%5B-87.6%2C%2076.42%5D%2C%20%5B-89.49068%2C%2076.47239%5D%2C%20%5B-89.6161%2C%2076.95213%5D%2C%20%5B-87.76739%2C%2077.17833%5D%2C%20%5B-88.26%2C%2077.9%5D%2C%20%5B-87.65%2C%2077.970222%5D%2C%20%5B-84.97634%2C%2077.53873%5D%2C%20%5B-86.34%2C%2078.18%5D%2C%20%5B-87.96192%2C%2078.37181%5D%2C%20%5B-87.15198%2C%2078.75867%5D%2C%20%5B-85.37868%2C%2078.9969%5D%2C%20%5B-85.09495%2C%2079.34543%5D%2C%20%5B-86.50734%2C%2079.73624%5D%2C%20%5B-86.93179%2C%2080.25145%5D%2C%20%5B-84.19844%2C%2080.20836%5D%2C%20%5B-83.408696%2C%2080.1%5D%2C%20%5B-81.84823%2C%2080.46442%5D%2C%20%5B-84.1%2C%2080.58%5D%2C%20%5B-87.59895%2C%2080.51627%5D%2C%20%5B-89.36663%2C%2080.85569%5D%2C%20%5B-90.2%2C%2081.26%5D%2C%20%5B-91.36786%2C%2081.5531%5D%2C%20%5B-91.58702%2C%2081.89429%5D%2C%20%5B-90.1%2C%2082.085%5D%2C%20%5B-88.93227%2C%2082.11751%5D%2C%20%5B-86.97024%2C%2082.27961%5D%2C%20%5B-85.5%2C%2082.652273%5D%2C%20%5B-84.260005%2C%2082.6%5D%2C%20%5B-83.18%2C%2082.32%5D%2C%20%5B-82.42%2C%2082.86%5D%2C%20%5B-81.1%2C%2083.02%5D%2C%20%5B-79.30664%2C%2083.13056%5D%2C%20%5B-76.25%2C%2083.172059%5D%2C%20%5B-75.71878%2C%2083.06404%5D%2C%20%5B-72.83153%2C%2083.23324%5D%2C%20%5B-70.665765%2C%2083.169781%5D%2C%20%5B-68.5%2C%2083.106322%5D%5D%5D%5D%2C%20%22type%22%3A%20%22MultiPolygon%22%7D%2C%20%22id%22%3A%20%22CAN%22%2C%20%22properties%22%3A%20%7B%22name%22%3A%20%22Canada%22%7D%2C%20%22type%22%3A%20%22Feature%22%7D%2C%20%7B%22geometry%22%3A%20%7B%22coordinates%22%3A%20%5B%5B%5B9.594226%2C%2047.525058%5D%2C%20%5B9.632932%2C%2047.347601%5D%2C%20%5B9.47997%2C%2047.10281%5D%2C%20%5B9.932448%2C%2046.920728%5D%2C%20%5B10.442701%2C%2046.893546%5D%2C%20%5B10.363378%2C%2046.483571%5D%2C%20%5B9.922837%2C%2046.314899%5D%2C%20%5B9.182882%2C%2046.440215%5D%2C%20%5B8.966306%2C%2046.036932%5D%2C%20%5B8.489952%2C%2046.005151%5D%2C%20%5B8.31663%2C%2046.163642%5D%2C%20%5B7.755992%2C%2045.82449%5D%2C%20%5B7.273851%2C%2045.776948%5D%2C%20%5B6.843593%2C%2045.991147%5D%2C%20%5B6.5001%2C%2046.429673%5D%2C%20%5B6.022609%2C%2046.27299%5D%2C%20%5B6.037389%2C%2046.725779%5D%2C%20%5B6.768714%2C%2047.287708%5D%2C%20%5B6.736571%2C%2047.541801%5D%2C%20%5B7.192202%2C%2047.449766%5D%2C%20%5B7.466759%2C%2047.620582%5D%2C%20%5B8.317301%2C%2047.61358%5D%2C%20%5B8.522612%2C%2047.830828%5D%2C%20%5B9.594226%2C%2047.525058%5D%5D%5D%2C%20%22type%22%3A%20%22Polygon%22%7D%2C%20%22id%22%3A%20%22CHE%22%2C%20%22properties%22%3A%20%7B%22name%22%3A%20%22Switzerland%22%7D%2C%20%22type%22%3A%20%22Feature%22%7D%2C%20%7B%22geometry%22%3A%20%7B%22coordinates%22%3A%20%5B%5B%5B%5B-68.63401%2C%20-52.63637%5D%2C%20%5B-68.63335%2C%20-54.8695%5D%2C%20%5B-67.56244%2C%20-54.87001%5D%2C%20%5B-66.95992%2C%20-54.89681%5D%2C%20%5B-67.29103%2C%20-55.30124%5D%2C%20%5B-68.14863%2C%20-55.61183%5D%2C%20%5B-68.639991%2C%20-55.580018%5D%2C%20%5B-69.2321%2C%20-55.49906%5D%2C%20%5B-69.95809%2C%20-55.19843%5D%2C%20%5B-71.00568%2C%20-55.05383%5D%2C%20%5B-72.2639%2C%20-54.49514%5D%2C%20%5B-73.2852%2C%20-53.95752%5D%2C%20%5B-74.66253%2C%20-52.83749%5D%2C%20%5B-73.8381%2C%20-53.04743%5D%2C%20%5B-72.43418%2C%20-53.7154%5D%2C%20%5B-71.10773%2C%20-54.07433%5D%2C%20%5B-70.59178%2C%20-53.61583%5D%2C%20%5B-70.26748%2C%20-52.93123%5D%2C%20%5B-69.34565%2C%20-52.5183%5D%2C%20%5B-68.63401%2C%20-52.63637%5D%5D%5D%2C%20%5B%5B%5B-68.219913%2C%20-21.494347%5D%2C%20%5B-67.82818%2C%20-22.872919%5D%2C%20%5B-67.106674%2C%20-22.735925%5D%2C%20%5B-66.985234%2C%20-22.986349%5D%2C%20%5B-67.328443%2C%20-24.025303%5D%2C%20%5B-68.417653%2C%20-24.518555%5D%2C%20%5B-68.386001%2C%20-26.185016%5D%2C%20%5B-68.5948%2C%20-26.506909%5D%2C%20%5B-68.295542%2C%20-26.89934%5D%2C%20%5B-69.001235%2C%20-27.521214%5D%2C%20%5B-69.65613%2C%20-28.459141%5D%2C%20%5B-70.01355%2C%20-29.367923%5D%2C%20%5B-69.919008%2C%20-30.336339%5D%2C%20%5B-70.535069%2C%20-31.36501%5D%2C%20%5B-70.074399%2C%20-33.09121%5D%2C%20%5B-69.814777%2C%20-33.273886%5D%2C%20%5B-69.817309%2C%20-34.193571%5D%2C%20%5B-70.388049%2C%20-35.169688%5D%2C%20%5B-70.364769%2C%20-36.005089%5D%2C%20%5B-71.121881%2C%20-36.658124%5D%2C%20%5B-71.118625%2C%20-37.576827%5D%2C%20%5B-70.814664%2C%20-38.552995%5D%2C%20%5B-71.413517%2C%20-38.916022%5D%2C%20%5B-71.680761%2C%20-39.808164%5D%2C%20%5B-71.915734%2C%20-40.832339%5D%2C%20%5B-71.746804%2C%20-42.051386%5D%2C%20%5B-72.148898%2C%20-42.254888%5D%2C%20%5B-71.915424%2C%20-43.408565%5D%2C%20%5B-71.464056%2C%20-43.787611%5D%2C%20%5B-71.793623%2C%20-44.207172%5D%2C%20%5B-71.329801%2C%20-44.407522%5D%2C%20%5B-71.222779%2C%20-44.784243%5D%2C%20%5B-71.659316%2C%20-44.973689%5D%2C%20%5B-71.552009%2C%20-45.560733%5D%2C%20%5B-71.917258%2C%20-46.884838%5D%2C%20%5B-72.447355%2C%20-47.738533%5D%2C%20%5B-72.331161%2C%20-48.244238%5D%2C%20%5B-72.648247%2C%20-48.878618%5D%2C%20%5B-73.415436%2C%20-49.318436%5D%2C%20%5B-73.328051%2C%20-50.378785%5D%2C%20%5B-72.975747%2C%20-50.74145%5D%2C%20%5B-72.309974%2C%20-50.67701%5D%2C%20%5B-72.329404%2C%20-51.425956%5D%2C%20%5B-71.914804%2C%20-52.009022%5D%2C%20%5B-69.498362%2C%20-52.142761%5D%2C%20%5B-68.571545%2C%20-52.299444%5D%2C%20%5B-69.461284%2C%20-52.291951%5D%2C%20%5B-69.94278%2C%20-52.537931%5D%2C%20%5B-70.845102%2C%20-52.899201%5D%2C%20%5B-71.006332%2C%20-53.833252%5D%2C%20%5B-71.429795%2C%20-53.856455%5D%2C%20%5B-72.557943%2C%20-53.53141%5D%2C%20%5B-73.702757%2C%20-52.835069%5D%2C%20%5B-73.702757%2C%20-52.83507%5D%2C%20%5B-74.946763%2C%20-52.262754%5D%2C%20%5B-75.260026%2C%20-51.629355%5D%2C%20%5B-74.976632%2C%20-51.043396%5D%2C%20%5B-75.479754%2C%20-50.378372%5D%2C%20%5B-75.608015%2C%20-48.673773%5D%2C%20%5B-75.18277%2C%20-47.711919%5D%2C%20%5B-74.126581%2C%20-46.939253%5D%2C%20%5B-75.644395%2C%20-46.647643%5D%2C%20%5B-74.692154%2C%20-45.763976%5D%2C%20%5B-74.351709%2C%20-44.103044%5D%2C%20%5B-73.240356%2C%20-44.454961%5D%2C%20%5B-72.717804%2C%20-42.383356%5D%2C%20%5B-73.3889%2C%20-42.117532%5D%2C%20%5B-73.701336%2C%20-43.365776%5D%2C%20%5B-74.331943%2C%20-43.224958%5D%2C%20%5B-74.017957%2C%20-41.794813%5D%2C%20%5B-73.677099%2C%20-39.942213%5D%2C%20%5B-73.217593%2C%20-39.258689%5D%2C%20%5B-73.505559%2C%20-38.282883%5D%2C%20%5B-73.588061%2C%20-37.156285%5D%2C%20%5B-73.166717%2C%20-37.12378%5D%2C%20%5B-72.553137%2C%20-35.50884%5D%2C%20%5B-71.861732%2C%20-33.909093%5D%2C%20%5B-71.43845%2C%20-32.418899%5D%2C%20%5B-71.668721%2C%20-30.920645%5D%2C%20%5B-71.370083%2C%20-30.095682%5D%2C%20%5B-71.489894%2C%20-28.861442%5D%2C%20%5B-70.905124%2C%20-27.64038%5D%2C%20%5B-70.724954%2C%20-25.705924%5D%2C%20%5B-70.403966%2C%20-23.628997%5D%2C%20%5B-70.091246%2C%20-21.393319%5D%2C%20%5B-70.16442%2C%20-19.756468%5D%2C%20%5B-70.372572%2C%20-18.347975%5D%2C%20%5B-69.858444%2C%20-18.092694%5D%2C%20%5B-69.590424%2C%20-17.580012%5D%2C%20%5B-69.100247%2C%20-18.260125%5D%2C%20%5B-68.966818%2C%20-18.981683%5D%2C%20%5B-68.442225%2C%20-19.405068%5D%2C%20%5B-68.757167%2C%20-20.372658%5D%2C%20%5B-68.219913%2C%20-21.494347%5D%5D%5D%5D%2C%20%22type%22%3A%20%22MultiPolygon%22%7D%2C%20%22id%22%3A%20%22CHL%22%2C%20%22properties%22%3A%20%7B%22name%22%3A%20%22Chile%22%7D%2C%20%22type%22%3A%20%22Feature%22%7D%2C%20%7B%22geometry%22%3A%20%7B%22coordinates%22%3A%20%5B%5B%5B%5B110.339188%2C%2018.678395%5D%2C%20%5B109.47521%2C%2018.197701%5D%2C%20%5B108.655208%2C%2018.507682%5D%2C%20%5B108.626217%2C%2019.367888%5D%2C%20%5B109.119056%2C%2019.821039%5D%2C%20%5B110.211599%2C%2020.101254%5D%2C%20%5B110.786551%2C%2020.077534%5D%2C%20%5B111.010051%2C%2019.69593%5D%2C%20%5B110.570647%2C%2019.255879%5D%2C%20%5B110.339188%2C%2018.678395%5D%5D%5D%2C%20%5B%5B%5B127.657407%2C%2049.76027%5D%2C%20%5B129.397818%2C%2049.4406%5D%2C%20%5B130.582293%2C%2048.729687%5D%2C%20%5B130.987282%2C%2047.790132%5D%2C%20%5B132.506672%2C%2047.78897%5D%2C%20%5B133.373596%2C%2048.183442%5D%2C%20%5B135.026311%2C%2048.47823%5D%2C%20%5B134.500814%2C%2047.57844%5D%2C%20%5B134.112362%2C%2047.212467%5D%2C%20%5B133.769644%2C%2046.116927%5D%2C%20%5B133.097127%2C%2045.144066%5D%2C%20%5B131.883454%2C%2045.321162%5D%2C%20%5B131.025212%2C%2044.967953%5D%2C%20%5B131.288555%2C%2044.11152%5D%2C%20%5B131.144688%2C%2042.92999%5D%2C%20%5B130.633866%2C%2042.903015%5D%2C%20%5B130.640016%2C%2042.395009%5D%2C%20%5B129.994267%2C%2042.985387%5D%2C%20%5B129.596669%2C%2042.424982%5D%2C%20%5B128.052215%2C%2041.994285%5D%2C%20%5B128.208433%2C%2041.466772%5D%2C%20%5B127.343783%2C%2041.503152%5D%2C%20%5B126.869083%2C%2041.816569%5D%2C%20%5B126.182045%2C%2041.107336%5D%2C%20%5B125.079942%2C%2040.569824%5D%2C%20%5B124.265625%2C%2039.928493%5D%2C%20%5B122.86757%2C%2039.637788%5D%2C%20%5B122.131388%2C%2039.170452%5D%2C%20%5B121.054554%2C%2038.897471%5D%2C%20%5B121.585995%2C%2039.360854%5D%2C%20%5B121.376757%2C%2039.750261%5D%2C%20%5B122.168595%2C%2040.422443%5D%2C%20%5B121.640359%2C%2040.94639%5D%2C%20%5B120.768629%2C%2040.593388%5D%2C%20%5B119.639602%2C%2039.898056%5D%2C%20%5B119.023464%2C%2039.252333%5D%2C%20%5B118.042749%2C%2039.204274%5D%2C%20%5B117.532702%2C%2038.737636%5D%2C%20%5B118.059699%2C%2038.061476%5D%2C%20%5B118.87815%2C%2037.897325%5D%2C%20%5B118.911636%2C%2037.448464%5D%2C%20%5B119.702802%2C%2037.156389%5D%2C%20%5B120.823457%2C%2037.870428%5D%2C%20%5B121.711259%2C%2037.481123%5D%2C%20%5B122.357937%2C%2037.454484%5D%2C%20%5B122.519995%2C%2036.930614%5D%2C%20%5B121.104164%2C%2036.651329%5D%2C%20%5B120.637009%2C%2036.11144%5D%2C%20%5B119.664562%2C%2035.609791%5D%2C%20%5B119.151208%2C%2034.909859%5D%2C%20%5B120.227525%2C%2034.360332%5D%2C%20%5B120.620369%2C%2033.376723%5D%2C%20%5B121.229014%2C%2032.460319%5D%2C%20%5B121.908146%2C%2031.692174%5D%2C%20%5B121.891919%2C%2030.949352%5D%2C%20%5B121.264257%2C%2030.676267%5D%2C%20%5B121.503519%2C%2030.142915%5D%2C%20%5B122.092114%2C%2029.83252%5D%2C%20%5B121.938428%2C%2029.018022%5D%2C%20%5B121.684439%2C%2028.225513%5D%2C%20%5B121.125661%2C%2028.135673%5D%2C%20%5B120.395473%2C%2027.053207%5D%2C%20%5B119.585497%2C%2025.740781%5D%2C%20%5B118.656871%2C%2024.547391%5D%2C%20%5B117.281606%2C%2023.624501%5D%2C%20%5B115.890735%2C%2022.782873%5D%2C%20%5B114.763827%2C%2022.668074%5D%2C%20%5B114.152547%2C%2022.22376%5D%2C%20%5B113.80678%2C%2022.54834%5D%2C%20%5B113.241078%2C%2022.051367%5D%2C%20%5B111.843592%2C%2021.550494%5D%2C%20%5B110.785466%2C%2021.397144%5D%2C%20%5B110.444039%2C%2020.341033%5D%2C%20%5B109.889861%2C%2020.282457%5D%2C%20%5B109.627655%2C%2021.008227%5D%2C%20%5B109.864488%2C%2021.395051%5D%2C%20%5B108.522813%2C%2021.715212%5D%2C%20%5B108.05018%2C%2021.55238%5D%2C%20%5B107.04342%2C%2021.811899%5D%2C%20%5B106.567273%2C%2022.218205%5D%2C%20%5B106.725403%2C%2022.794268%5D%2C%20%5B105.811247%2C%2022.976892%5D%2C%20%5B105.329209%2C%2023.352063%5D%2C%20%5B104.476858%2C%2022.81915%5D%2C%20%5B103.504515%2C%2022.703757%5D%2C%20%5B102.706992%2C%2022.708795%5D%2C%20%5B102.170436%2C%2022.464753%5D%2C%20%5B101.652018%2C%2022.318199%5D%2C%20%5B101.80312%2C%2021.174367%5D%2C%20%5B101.270026%2C%2021.201652%5D%2C%20%5B101.180005%2C%2021.436573%5D%2C%20%5B101.150033%2C%2021.849984%5D%2C%20%5B100.416538%2C%2021.558839%5D%2C%20%5B99.983489%2C%2021.742937%5D%2C%20%5B99.240899%2C%2022.118314%5D%2C%20%5B99.531992%2C%2022.949039%5D%2C%20%5B98.898749%2C%2023.142722%5D%2C%20%5B98.660262%2C%2024.063286%5D%2C%20%5B97.60472%2C%2023.897405%5D%2C%20%5B97.724609%2C%2025.083637%5D%2C%20%5B98.671838%2C%2025.918703%5D%2C%20%5B98.712094%2C%2026.743536%5D%2C%20%5B98.68269%2C%2027.508812%5D%2C%20%5B98.246231%2C%2027.747221%5D%2C%20%5B97.911988%2C%2028.335945%5D%2C%20%5B97.327114%2C%2028.261583%5D%2C%20%5B96.248833%2C%2028.411031%5D%2C%20%5B96.586591%2C%2028.83098%5D%2C%20%5B96.117679%2C%2029.452802%5D%2C%20%5B95.404802%2C%2029.031717%5D%2C%20%5B94.56599%2C%2029.277438%5D%2C%20%5B93.413348%2C%2028.640629%5D%2C%20%5B92.503119%2C%2027.896876%5D%2C%20%5B91.696657%2C%2027.771742%5D%2C%20%5B91.258854%2C%2028.040614%5D%2C%20%5B90.730514%2C%2028.064954%5D%2C%20%5B90.015829%2C%2028.296439%5D%2C%20%5B89.47581%2C%2028.042759%5D%2C%20%5B88.814248%2C%2027.299316%5D%2C%20%5B88.730326%2C%2028.086865%5D%2C%20%5B88.120441%2C%2027.876542%5D%2C%20%5B86.954517%2C%2027.974262%5D%2C%20%5B85.82332%2C%2028.203576%5D%2C%20%5B85.011638%2C%2028.642774%5D%2C%20%5B84.23458%2C%2028.839894%5D%2C%20%5B83.898993%2C%2029.320226%5D%2C%20%5B83.337115%2C%2029.463732%5D%2C%20%5B82.327513%2C%2030.115268%5D%2C%20%5B81.525804%2C%2030.422717%5D%2C%20%5B81.111256%2C%2030.183481%5D%2C%20%5B79.721367%2C%2030.882715%5D%2C%20%5B78.738894%2C%2031.515906%5D%2C%20%5B78.458446%2C%2032.618164%5D%2C%20%5B79.176129%2C%2032.48378%5D%2C%20%5B79.208892%2C%2032.994395%5D%2C%20%5B78.811086%2C%2033.506198%5D%2C%20%5B78.912269%2C%2034.321936%5D%2C%20%5B77.837451%2C%2035.49401%5D%2C%20%5B76.192848%2C%2035.898403%5D%2C%20%5B75.896897%2C%2036.666806%5D%2C%20%5B75.158028%2C%2037.133031%5D%2C%20%5B74.980002%2C%2037.41999%5D%2C%20%5B74.829986%2C%2037.990007%5D%2C%20%5B74.864816%2C%2038.378846%5D%2C%20%5B74.257514%2C%2038.606507%5D%2C%20%5B73.928852%2C%2038.505815%5D%2C%20%5B73.675379%2C%2039.431237%5D%2C%20%5B73.960013%2C%2039.660008%5D%2C%20%5B73.822244%2C%2039.893973%5D%2C%20%5B74.776862%2C%2040.366425%5D%2C%20%5B75.467828%2C%2040.562072%5D%2C%20%5B76.526368%2C%2040.427946%5D%2C%20%5B76.904484%2C%2041.066486%5D%2C%20%5B78.187197%2C%2041.185316%5D%2C%20%5B78.543661%2C%2041.582243%5D%2C%20%5B80.11943%2C%2042.123941%5D%2C%20%5B80.25999%2C%2042.349999%5D%2C%20%5B80.18015%2C%2042.920068%5D%2C%20%5B80.866206%2C%2043.180362%5D%2C%20%5B79.966106%2C%2044.917517%5D%2C%20%5B81.947071%2C%2045.317027%5D%2C%20%5B82.458926%2C%2045.53965%5D%2C%20%5B83.180484%2C%2047.330031%5D%2C%20%5B85.16429%2C%2047.000956%5D%2C%20%5B85.720484%2C%2047.452969%5D%2C%20%5B85.768233%2C%2048.455751%5D%2C%20%5B86.598776%2C%2048.549182%5D%2C%20%5B87.35997%2C%2049.214981%5D%2C%20%5B87.751264%2C%2049.297198%5D%2C%20%5B88.013832%2C%2048.599463%5D%2C%20%5B88.854298%2C%2048.069082%5D%2C%20%5B90.280826%2C%2047.693549%5D%2C%20%5B90.970809%2C%2046.888146%5D%2C%20%5B90.585768%2C%2045.719716%5D%2C%20%5B90.94554%2C%2045.286073%5D%2C%20%5B92.133891%2C%2045.115076%5D%2C%20%5B93.480734%2C%2044.975472%5D%2C%20%5B94.688929%2C%2044.352332%5D%2C%20%5B95.306875%2C%2044.241331%5D%2C%20%5B95.762455%2C%2043.319449%5D%2C%20%5B96.349396%2C%2042.725635%5D%2C%20%5B97.451757%2C%2042.74889%5D%2C%20%5B99.515817%2C%2042.524691%5D%2C%20%5B100.845866%2C%2042.663804%5D%2C%20%5B101.83304%2C%2042.514873%5D%2C%20%5B103.312278%2C%2041.907468%5D%2C%20%5B104.522282%2C%2041.908347%5D%2C%20%5B104.964994%2C%2041.59741%5D%2C%20%5B106.129316%2C%2042.134328%5D%2C%20%5B107.744773%2C%2042.481516%5D%2C%20%5B109.243596%2C%2042.519446%5D%2C%20%5B110.412103%2C%2042.871234%5D%2C%20%5B111.129682%2C%2043.406834%5D%2C%20%5B111.829588%2C%2043.743118%5D%2C%20%5B111.667737%2C%2044.073176%5D%2C%20%5B111.348377%2C%2044.457442%5D%2C%20%5B111.873306%2C%2045.102079%5D%2C%20%5B112.436062%2C%2045.011646%5D%2C%20%5B113.463907%2C%2044.808893%5D%2C%20%5B114.460332%2C%2045.339817%5D%2C%20%5B115.985096%2C%2045.727235%5D%2C%20%5B116.717868%2C%2046.388202%5D%2C%20%5B117.421701%2C%2046.672733%5D%2C%20%5B118.874326%2C%2046.805412%5D%2C%20%5B119.66327%2C%2046.69268%5D%2C%20%5B119.772824%2C%2047.048059%5D%2C%20%5B118.866574%2C%2047.74706%5D%2C%20%5B118.064143%2C%2048.06673%5D%2C%20%5B117.295507%2C%2047.697709%5D%2C%20%5B116.308953%2C%2047.85341%5D%2C%20%5B115.742837%2C%2047.726545%5D%2C%20%5B115.485282%2C%2048.135383%5D%2C%20%5B116.191802%2C%2049.134598%5D%2C%20%5B116.678801%2C%2049.888531%5D%2C%20%5B117.879244%2C%2049.510983%5D%2C%20%5B119.288461%2C%2050.142883%5D%2C%20%5B119.279366%2C%2050.582908%5D%2C%20%5B120.18205%2C%2051.643566%5D%2C%20%5B120.738191%2C%2051.964115%5D%2C%20%5B120.725789%2C%2052.516226%5D%2C%20%5B120.177089%2C%2052.753886%5D%2C%20%5B121.003085%2C%2053.251401%5D%2C%20%5B122.245748%2C%2053.431726%5D%2C%20%5B123.571507%2C%2053.458804%5D%2C%20%5B125.068211%2C%2053.161045%5D%2C%20%5B125.946349%2C%2052.792799%5D%2C%20%5B126.564399%2C%2051.784255%5D%2C%20%5B126.939157%2C%2051.353894%5D%2C%20%5B127.287456%2C%2050.739797%5D%2C%20%5B127.657407%2C%2049.76027%5D%5D%5D%5D%2C%20%22type%22%3A%20%22MultiPolygon%22%7D%2C%20%22id%22%3A%20%22CHN%22%2C%20%22properties%22%3A%20%7B%22name%22%3A%20%22China%22%7D%2C%20%22type%22%3A%20%22Feature%22%7D%2C%20%7B%22geometry%22%3A%20%7B%22coordinates%22%3A%20%5B%5B%5B-2.856125%2C%204.994476%5D%2C%20%5B-3.311084%2C%204.984296%5D%2C%20%5B-4.00882%2C%205.179813%5D%2C%20%5B-4.649917%2C%205.168264%5D%2C%20%5B-5.834496%2C%204.993701%5D%2C%20%5B-6.528769%2C%204.705088%5D%2C%20%5B-7.518941%2C%204.338288%5D%2C%20%5B-7.712159%2C%204.364566%5D%2C%20%5B-7.635368%2C%205.188159%5D%2C%20%5B-7.539715%2C%205.313345%5D%2C%20%5B-7.570153%2C%205.707352%5D%2C%20%5B-7.993693%2C%206.12619%5D%2C%20%5B-8.311348%2C%206.193033%5D%2C%20%5B-8.60288%2C%206.467564%5D%2C%20%5B-8.385452%2C%206.911801%5D%2C%20%5B-8.485446%2C%207.395208%5D%2C%20%5B-8.439298%2C%207.686043%5D%2C%20%5B-8.280703%2C%207.68718%5D%2C%20%5B-8.221792%2C%208.123329%5D%2C%20%5B-8.299049%2C%208.316444%5D%2C%20%5B-8.203499%2C%208.455453%5D%2C%20%5B-7.8321%2C%208.575704%5D%2C%20%5B-8.079114%2C%209.376224%5D%2C%20%5B-8.309616%2C%209.789532%5D%2C%20%5B-8.229337%2C%2010.12902%5D%2C%20%5B-8.029944%2C%2010.206535%5D%2C%20%5B-7.89959%2C%2010.297382%5D%2C%20%5B-7.622759%2C%2010.147236%5D%2C%20%5B-6.850507%2C%2010.138994%5D%2C%20%5B-6.666461%2C%2010.430811%5D%2C%20%5B-6.493965%2C%2010.411303%5D%2C%20%5B-6.205223%2C%2010.524061%5D%2C%20%5B-6.050452%2C%2010.096361%5D%2C%20%5B-5.816926%2C%2010.222555%5D%2C%20%5B-5.404342%2C%2010.370737%5D%2C%20%5B-4.954653%2C%2010.152714%5D%2C%20%5B-4.779884%2C%209.821985%5D%2C%20%5B-4.330247%2C%209.610835%5D%2C%20%5B-3.980449%2C%209.862344%5D%2C%20%5B-3.511899%2C%209.900326%5D%2C%20%5B-2.827496%2C%209.642461%5D%2C%20%5B-2.56219%2C%208.219628%5D%2C%20%5B-2.983585%2C%207.379705%5D%2C%20%5B-3.24437%2C%206.250472%5D%2C%20%5B-2.810701%2C%205.389051%5D%2C%20%5B-2.856125%2C%204.994476%5D%5D%5D%2C%20%22type%22%3A%20%22Polygon%22%7D%2C%20%22id%22%3A%20%22CIV%22%2C%20%22properties%22%3A%20%7B%22name%22%3A%20%22Ivory%20Coast%22%7D%2C%20%22type%22%3A%20%22Feature%22%7D%2C%20%7B%22geometry%22%3A%20%7B%22coordinates%22%3A%20%5B%5B%5B13.075822%2C%202.267097%5D%2C%20%5B12.951334%2C%202.321616%5D%2C%20%5B12.35938%2C%202.192812%5D%2C%20%5B11.751665%2C%202.326758%5D%2C%20%5B11.276449%2C%202.261051%5D%2C%20%5B9.649158%2C%202.283866%5D%2C%20%5B9.795196%2C%203.073404%5D%2C%20%5B9.404367%2C%203.734527%5D%2C%20%5B8.948116%2C%203.904129%5D%2C%20%5B8.744924%2C%204.352215%5D%2C%20%5B8.488816%2C%204.495617%5D%2C%20%5B8.500288%2C%204.771983%5D%2C%20%5B8.757533%2C%205.479666%5D%2C%20%5B9.233163%2C%206.444491%5D%2C%20%5B9.522706%2C%206.453482%5D%2C%20%5B10.118277%2C%207.03877%5D%2C%20%5B10.497375%2C%207.055358%5D%2C%20%5B11.058788%2C%206.644427%5D%2C%20%5B11.745774%2C%206.981383%5D%2C%20%5B11.839309%2C%207.397042%5D%2C%20%5B12.063946%2C%207.799808%5D%2C%20%5B12.218872%2C%208.305824%5D%2C%20%5B12.753672%2C%208.717763%5D%2C%20%5B12.955468%2C%209.417772%5D%2C%20%5B13.1676%2C%209.640626%5D%2C%20%5B13.308676%2C%2010.160362%5D%2C%20%5B13.57295%2C%2010.798566%5D%2C%20%5B14.415379%2C%2011.572369%5D%2C%20%5B14.468192%2C%2011.904752%5D%2C%20%5B14.577178%2C%2012.085361%5D%2C%20%5B14.181336%2C%2012.483657%5D%2C%20%5B14.213531%2C%2012.802035%5D%2C%20%5B14.495787%2C%2012.859396%5D%2C%20%5B14.893386%2C%2012.219048%5D%2C%20%5B14.960152%2C%2011.555574%5D%2C%20%5B14.923565%2C%2010.891325%5D%2C%20%5B15.467873%2C%209.982337%5D%2C%20%5B14.909354%2C%209.992129%5D%2C%20%5B14.627201%2C%209.920919%5D%2C%20%5B14.171466%2C%2010.021378%5D%2C%20%5B13.954218%2C%209.549495%5D%2C%20%5B14.544467%2C%208.965861%5D%2C%20%5B14.979996%2C%208.796104%5D%2C%20%5B15.120866%2C%208.38215%5D%2C%20%5B15.436092%2C%207.692812%5D%2C%20%5B15.27946%2C%207.421925%5D%2C%20%5B14.776545%2C%206.408498%5D%2C%20%5B14.53656%2C%206.226959%5D%2C%20%5B14.459407%2C%205.451761%5D%2C%20%5B14.558936%2C%205.030598%5D%2C%20%5B14.478372%2C%204.732605%5D%2C%20%5B14.950953%2C%204.210389%5D%2C%20%5B15.03622%2C%203.851367%5D%2C%20%5B15.405396%2C%203.335301%5D%2C%20%5B15.862732%2C%203.013537%5D%2C%20%5B15.907381%2C%202.557389%5D%2C%20%5B16.012852%2C%202.26764%5D%2C%20%5B15.940919%2C%201.727673%5D%2C%20%5B15.146342%2C%201.964015%5D%2C%20%5B14.337813%2C%202.227875%5D%2C%20%5B13.075822%2C%202.267097%5D%5D%5D%2C%20%22type%22%3A%20%22Polygon%22%7D%2C%20%22id%22%3A%20%22CMR%22%2C%20%22properties%22%3A%20%7B%22name%22%3A%20%22Cameroon%22%7D%2C%20%22type%22%3A%20%22Feature%22%7D%2C%20%7B%22geometry%22%3A%20%7B%22coordinates%22%3A%20%5B%5B%5B30.83386%2C%203.509166%5D%2C%20%5B30.773347%2C%202.339883%5D%2C%20%5B31.174149%2C%202.204465%5D%2C%20%5B30.85267%2C%201.849396%5D%2C%20%5B30.468508%2C%201.583805%5D%2C%20%5B30.086154%2C%201.062313%5D%2C%20%5B29.875779%2C%200.59738%5D%2C%20%5B29.819503%2C%20-0.20531%5D%2C%20%5B29.587838%2C%20-0.587406%5D%2C%20%5B29.579466%2C%20-1.341313%5D%2C%20%5B29.291887%2C%20-1.620056%5D%2C%20%5B29.254835%2C%20-2.21511%5D%2C%20%5B29.117479%2C%20-2.292211%5D%2C%20%5B29.024926%2C%20-2.839258%5D%2C%20%5B29.276384%2C%20-3.293907%5D%2C%20%5B29.339998%2C%20-4.499983%5D%2C%20%5B29.519987%2C%20-5.419979%5D%2C%20%5B29.419993%2C%20-5.939999%5D%2C%20%5B29.620032%2C%20-6.520015%5D%2C%20%5B30.199997%2C%20-7.079981%5D%2C%20%5B30.740015%2C%20-8.340007%5D%2C%20%5B30.346086%2C%20-8.238257%5D%2C%20%5B29.002912%2C%20-8.407032%5D%2C%20%5B28.734867%2C%20-8.526559%5D%2C%20%5B28.449871%2C%20-9.164918%5D%2C%20%5B28.673682%2C%20-9.605925%5D%2C%20%5B28.49607%2C%20-10.789884%5D%2C%20%5B28.372253%2C%20-11.793647%5D%2C%20%5B28.642417%2C%20-11.971569%5D%2C%20%5B29.341548%2C%20-12.360744%5D%2C%20%5B29.616001%2C%20-12.178895%5D%2C%20%5B29.699614%2C%20-13.257227%5D%2C%20%5B28.934286%2C%20-13.248958%5D%2C%20%5B28.523562%2C%20-12.698604%5D%2C%20%5B28.155109%2C%20-12.272481%5D%2C%20%5B27.388799%2C%20-12.132747%5D%2C%20%5B27.16442%2C%20-11.608748%5D%2C%20%5B26.553088%2C%20-11.92444%5D%2C%20%5B25.75231%2C%20-11.784965%5D%2C%20%5B25.418118%2C%20-11.330936%5D%2C%20%5B24.78317%2C%20-11.238694%5D%2C%20%5B24.314516%2C%20-11.262826%5D%2C%20%5B24.257155%2C%20-10.951993%5D%2C%20%5B23.912215%2C%20-10.926826%5D%2C%20%5B23.456791%2C%20-10.867863%5D%2C%20%5B22.837345%2C%20-11.017622%5D%2C%20%5B22.402798%2C%20-10.993075%5D%2C%20%5B22.155268%2C%20-11.084801%5D%2C%20%5B22.208753%2C%20-9.894796%5D%2C%20%5B21.875182%2C%20-9.523708%5D%2C%20%5B21.801801%2C%20-8.908707%5D%2C%20%5B21.949131%2C%20-8.305901%5D%2C%20%5B21.746456%2C%20-7.920085%5D%2C%20%5B21.728111%2C%20-7.290872%5D%2C%20%5B20.514748%2C%20-7.299606%5D%2C%20%5B20.601823%2C%20-6.939318%5D%2C%20%5B20.091622%2C%20-6.94309%5D%2C%20%5B20.037723%2C%20-7.116361%5D%2C%20%5B19.417502%2C%20-7.155429%5D%2C%20%5B19.166613%2C%20-7.738184%5D%2C%20%5B19.016752%2C%20-7.988246%5D%2C%20%5B18.464176%2C%20-7.847014%5D%2C%20%5B18.134222%2C%20-7.987678%5D%2C%20%5B17.47297%2C%20-8.068551%5D%2C%20%5B17.089996%2C%20-7.545689%5D%2C%20%5B16.860191%2C%20-7.222298%5D%2C%20%5B16.57318%2C%20-6.622645%5D%2C%20%5B16.326528%2C%20-5.87747%5D%2C%20%5B13.375597%2C%20-5.864241%5D%2C%20%5B13.024869%2C%20-5.984389%5D%2C%20%5B12.735171%2C%20-5.965682%5D%2C%20%5B12.322432%2C%20-6.100092%5D%2C%20%5B12.182337%2C%20-5.789931%5D%2C%20%5B12.436688%2C%20-5.684304%5D%2C%20%5B12.468004%2C%20-5.248362%5D%2C%20%5B12.631612%2C%20-4.991271%5D%2C%20%5B12.995517%2C%20-4.781103%5D%2C%20%5B13.25824%2C%20-4.882957%5D%2C%20%5B13.600235%2C%20-4.500138%5D%2C%20%5B14.144956%2C%20-4.510009%5D%2C%20%5B14.209035%2C%20-4.793092%5D%2C%20%5B14.582604%2C%20-4.970239%5D%2C%20%5B15.170992%2C%20-4.343507%5D%2C%20%5B15.75354%2C%20-3.855165%5D%2C%20%5B16.00629%2C%20-3.535133%5D%2C%20%5B15.972803%2C%20-2.712392%5D%2C%20%5B16.407092%2C%20-1.740927%5D%2C%20%5B16.865307%2C%20-1.225816%5D%2C%20%5B17.523716%2C%20-0.74383%5D%2C%20%5B17.638645%2C%20-0.424832%5D%2C%20%5B17.663553%2C%20-0.058084%5D%2C%20%5B17.82654%2C%200.288923%5D%2C%20%5B17.774192%2C%200.855659%5D%2C%20%5B17.898835%2C%201.741832%5D%2C%20%5B18.094276%2C%202.365722%5D%2C%20%5B18.393792%2C%202.900443%5D%2C%20%5B18.453065%2C%203.504386%5D%2C%20%5B18.542982%2C%204.201785%5D%2C%20%5B18.932312%2C%204.709506%5D%2C%20%5B19.467784%2C%205.031528%5D%2C%20%5B20.290679%2C%204.691678%5D%2C%20%5B20.927591%2C%204.322786%5D%2C%20%5B21.659123%2C%204.224342%5D%2C%20%5B22.405124%2C%204.02916%5D%2C%20%5B22.704124%2C%204.633051%5D%2C%20%5B22.84148%2C%204.710126%5D%2C%20%5B23.297214%2C%204.609693%5D%2C%20%5B24.410531%2C%205.108784%5D%2C%20%5B24.805029%2C%204.897247%5D%2C%20%5B25.128833%2C%204.927245%5D%2C%20%5B25.278798%2C%205.170408%5D%2C%20%5B25.650455%2C%205.256088%5D%2C%20%5B26.402761%2C%205.150875%5D%2C%20%5B27.044065%2C%205.127853%5D%2C%20%5B27.374226%2C%205.233944%5D%2C%20%5B27.979977%2C%204.408413%5D%2C%20%5B28.428994%2C%204.287155%5D%2C%20%5B28.696678%2C%204.455077%5D%2C%20%5B29.159078%2C%204.389267%5D%2C%20%5B29.715995%2C%204.600805%5D%2C%20%5B29.9535%2C%204.173699%5D%2C%20%5B30.83386%2C%203.509166%5D%5D%5D%2C%20%22type%22%3A%20%22Polygon%22%7D%2C%20%22id%22%3A%20%22COD%22%2C%20%22properties%22%3A%20%7B%22name%22%3A%20%22Democratic%20Republic%20of%20the%20Congo%22%7D%2C%20%22type%22%3A%20%22Feature%22%7D%2C%20%7B%22geometry%22%3A%20%7B%22coordinates%22%3A%20%5B%5B%5B12.995517%2C%20-4.781103%5D%2C%20%5B12.62076%2C%20-4.438023%5D%2C%20%5B12.318608%2C%20-4.60623%5D%2C%20%5B11.914963%2C%20-5.037987%5D%2C%20%5B11.093773%2C%20-3.978827%5D%2C%20%5B11.855122%2C%20-3.426871%5D%2C%20%5B11.478039%2C%20-2.765619%5D%2C%20%5B11.820964%2C%20-2.514161%5D%2C%20%5B12.495703%2C%20-2.391688%5D%2C%20%5B12.575284%2C%20-1.948511%5D%2C%20%5B13.109619%2C%20-2.42874%5D%2C%20%5B13.992407%2C%20-2.470805%5D%2C%20%5B14.29921%2C%20-1.998276%5D%2C%20%5B14.425456%2C%20-1.333407%5D%2C%20%5B14.316418%2C%20-0.552627%5D%2C%20%5B13.843321%2C%200.038758%5D%2C%20%5B14.276266%2C%201.19693%5D%2C%20%5B14.026669%2C%201.395677%5D%2C%20%5B13.282631%2C%201.314184%5D%2C%20%5B13.003114%2C%201.830896%5D%2C%20%5B13.075822%2C%202.267097%5D%2C%20%5B14.337813%2C%202.227875%5D%2C%20%5B15.146342%2C%201.964015%5D%2C%20%5B15.940919%2C%201.727673%5D%2C%20%5B16.012852%2C%202.26764%5D%2C%20%5B16.537058%2C%203.198255%5D%2C%20%5B17.133042%2C%203.728197%5D%2C%20%5B17.8099%2C%203.560196%5D%2C%20%5B18.453065%2C%203.504386%5D%2C%20%5B18.393792%2C%202.900443%5D%2C%20%5B18.094276%2C%202.365722%5D%2C%20%5B17.898835%2C%201.741832%5D%2C%20%5B17.774192%2C%200.855659%5D%2C%20%5B17.82654%2C%200.288923%5D%2C%20%5B17.663553%2C%20-0.058084%5D%2C%20%5B17.638645%2C%20-0.424832%5D%2C%20%5B17.523716%2C%20-0.74383%5D%2C%20%5B16.865307%2C%20-1.225816%5D%2C%20%5B16.407092%2C%20-1.740927%5D%2C%20%5B15.972803%2C%20-2.712392%5D%2C%20%5B16.00629%2C%20-3.535133%5D%2C%20%5B15.75354%2C%20-3.855165%5D%2C%20%5B15.170992%2C%20-4.343507%5D%2C%20%5B14.582604%2C%20-4.970239%5D%2C%20%5B14.209035%2C%20-4.793092%5D%2C%20%5B14.144956%2C%20-4.510009%5D%2C%20%5B13.600235%2C%20-4.500138%5D%2C%20%5B13.25824%2C%20-4.882957%5D%2C%20%5B12.995517%2C%20-4.781103%5D%5D%5D%2C%20%22type%22%3A%20%22Polygon%22%7D%2C%20%22id%22%3A%20%22COG%22%2C%20%22properties%22%3A%20%7B%22name%22%3A%20%22Republic%20of%20the%20Congo%22%7D%2C%20%22type%22%3A%20%22Feature%22%7D%2C%20%7B%22geometry%22%3A%20%7B%22coordinates%22%3A%20%5B%5B%5B-75.373223%2C%20-0.152032%5D%2C%20%5B-75.801466%2C%200.084801%5D%2C%20%5B-76.292314%2C%200.416047%5D%2C%20%5B-76.57638%2C%200.256936%5D%2C%20%5B-77.424984%2C%200.395687%5D%2C%20%5B-77.668613%2C%200.825893%5D%2C%20%5B-77.855061%2C%200.809925%5D%2C%20%5B-78.855259%2C%201.380924%5D%2C%20%5B-78.990935%2C%201.69137%5D%2C%20%5B-78.617831%2C%201.766404%5D%2C%20%5B-78.662118%2C%202.267355%5D%2C%20%5B-78.42761%2C%202.629556%5D%2C%20%5B-77.931543%2C%202.696606%5D%2C%20%5B-77.510431%2C%203.325017%5D%2C%20%5B-77.12769%2C%203.849636%5D%2C%20%5B-77.496272%2C%204.087606%5D%2C%20%5B-77.307601%2C%204.667984%5D%2C%20%5B-77.533221%2C%205.582812%5D%2C%20%5B-77.318815%2C%205.845354%5D%2C%20%5B-77.476661%2C%206.691116%5D%2C%20%5B-77.881571%2C%207.223771%5D%2C%20%5B-77.753414%2C%207.70984%5D%2C%20%5B-77.431108%2C%207.638061%5D%2C%20%5B-77.242566%2C%207.935278%5D%2C%20%5B-77.474723%2C%208.524286%5D%2C%20%5B-77.353361%2C%208.670505%5D%2C%20%5B-76.836674%2C%208.638749%5D%2C%20%5B-76.086384%2C%209.336821%5D%2C%20%5B-75.6746%2C%209.443248%5D%2C%20%5B-75.664704%2C%209.774003%5D%2C%20%5B-75.480426%2C%2010.61899%5D%2C%20%5B-74.906895%2C%2011.083045%5D%2C%20%5B-74.276753%2C%2011.102036%5D%2C%20%5B-74.197223%2C%2011.310473%5D%2C%20%5B-73.414764%2C%2011.227015%5D%2C%20%5B-72.627835%2C%2011.731972%5D%2C%20%5B-72.238195%2C%2011.95555%5D%2C%20%5B-71.75409%2C%2012.437303%5D%2C%20%5B-71.399822%2C%2012.376041%5D%2C%20%5B-71.137461%2C%2012.112982%5D%2C%20%5B-71.331584%2C%2011.776284%5D%2C%20%5B-71.973922%2C%2011.608672%5D%2C%20%5B-72.227575%2C%2011.108702%5D%2C%20%5B-72.614658%2C%2010.821975%5D%2C%20%5B-72.905286%2C%2010.450344%5D%2C%20%5B-73.027604%2C%209.73677%5D%2C%20%5B-73.304952%2C%209.152%5D%2C%20%5B-72.78873%2C%209.085027%5D%2C%20%5B-72.660495%2C%208.625288%5D%2C%20%5B-72.439862%2C%208.405275%5D%2C%20%5B-72.360901%2C%208.002638%5D%2C%20%5B-72.479679%2C%207.632506%5D%2C%20%5B-72.444487%2C%207.423785%5D%2C%20%5B-72.198352%2C%207.340431%5D%2C%20%5B-71.960176%2C%206.991615%5D%2C%20%5B-70.674234%2C%207.087785%5D%2C%20%5B-70.093313%2C%206.960376%5D%2C%20%5B-69.38948%2C%206.099861%5D%2C%20%5B-68.985319%2C%206.206805%5D%2C%20%5B-68.265052%2C%206.153268%5D%2C%20%5B-67.695087%2C%206.267318%5D%2C%20%5B-67.34144%2C%206.095468%5D%2C%20%5B-67.521532%2C%205.55687%5D%2C%20%5B-67.744697%2C%205.221129%5D%2C%20%5B-67.823012%2C%204.503937%5D%2C%20%5B-67.621836%2C%203.839482%5D%2C%20%5B-67.337564%2C%203.542342%5D%2C%20%5B-67.303173%2C%203.318454%5D%2C%20%5B-67.809938%2C%202.820655%5D%2C%20%5B-67.447092%2C%202.600281%5D%2C%20%5B-67.181294%2C%202.250638%5D%2C%20%5B-66.876326%2C%201.253361%5D%2C%20%5B-67.065048%2C%201.130112%5D%2C%20%5B-67.259998%2C%201.719999%5D%2C%20%5B-67.53781%2C%202.037163%5D%2C%20%5B-67.868565%2C%201.692455%5D%2C%20%5B-69.816973%2C%201.714805%5D%2C%20%5B-69.804597%2C%201.089081%5D%2C%20%5B-69.218638%2C%200.985677%5D%2C%20%5B-69.252434%2C%200.602651%5D%2C%20%5B-69.452396%2C%200.706159%5D%2C%20%5B-70.015566%2C%200.541414%5D%2C%20%5B-70.020656%2C%20-0.185156%5D%2C%20%5B-69.577065%2C%20-0.549992%5D%2C%20%5B-69.420486%2C%20-1.122619%5D%2C%20%5B-69.444102%2C%20-1.556287%5D%2C%20%5B-69.893635%2C%20-4.298187%5D%2C%20%5B-70.394044%2C%20-3.766591%5D%2C%20%5B-70.692682%2C%20-3.742872%5D%2C%20%5B-70.047709%2C%20-2.725156%5D%2C%20%5B-70.813476%2C%20-2.256865%5D%2C%20%5B-71.413646%2C%20-2.342802%5D%2C%20%5B-71.774761%2C%20-2.16979%5D%2C%20%5B-72.325787%2C%20-2.434218%5D%2C%20%5B-73.070392%2C%20-2.308954%5D%2C%20%5B-73.659504%2C%20-1.260491%5D%2C%20%5B-74.122395%2C%20-1.002833%5D%2C%20%5B-74.441601%2C%20-0.53082%5D%2C%20%5B-75.106625%2C%20-0.057205%5D%2C%20%5B-75.373223%2C%20-0.152032%5D%5D%5D%2C%20%22type%22%3A%20%22Polygon%22%7D%2C%20%22id%22%3A%20%22COL%22%2C%20%22properties%22%3A%20%7B%22name%22%3A%20%22Colombia%22%7D%2C%20%22type%22%3A%20%22Feature%22%7D%2C%20%7B%22geometry%22%3A%20%7B%22coordinates%22%3A%20%5B%5B%5B-82.965783%2C%208.225028%5D%2C%20%5B-83.508437%2C%208.446927%5D%2C%20%5B-83.711474%2C%208.656836%5D%2C%20%5B-83.596313%2C%208.830443%5D%2C%20%5B-83.632642%2C%209.051386%5D%2C%20%5B-83.909886%2C%209.290803%5D%2C%20%5B-84.303402%2C%209.487354%5D%2C%20%5B-84.647644%2C%209.615537%5D%2C%20%5B-84.713351%2C%209.908052%5D%2C%20%5B-84.97566%2C%2010.086723%5D%2C%20%5B-84.911375%2C%209.795992%5D%2C%20%5B-85.110923%2C%209.55704%5D%2C%20%5B-85.339488%2C%209.834542%5D%2C%20%5B-85.660787%2C%209.933347%5D%2C%20%5B-85.797445%2C%2010.134886%5D%2C%20%5B-85.791709%2C%2010.439337%5D%2C%20%5B-85.659314%2C%2010.754331%5D%2C%20%5B-85.941725%2C%2010.895278%5D%2C%20%5B-85.71254%2C%2011.088445%5D%2C%20%5B-85.561852%2C%2011.217119%5D%2C%20%5B-84.903003%2C%2010.952303%5D%2C%20%5B-84.673069%2C%2011.082657%5D%2C%20%5B-84.355931%2C%2010.999226%5D%2C%20%5B-84.190179%2C%2010.79345%5D%2C%20%5B-83.895054%2C%2010.726839%5D%2C%20%5B-83.655612%2C%2010.938764%5D%2C%20%5B-83.40232%2C%2010.395438%5D%2C%20%5B-83.015677%2C%209.992982%5D%2C%20%5B-82.546196%2C%209.566135%5D%2C%20%5B-82.932891%2C%209.476812%5D%2C%20%5B-82.927155%2C%209.07433%5D%2C%20%5B-82.719183%2C%208.925709%5D%2C%20%5B-82.868657%2C%208.807266%5D%2C%20%5B-82.829771%2C%208.626295%5D%2C%20%5B-82.913176%2C%208.423517%5D%2C%20%5B-82.965783%2C%208.225028%5D%5D%5D%2C%20%22type%22%3A%20%22Polygon%22%7D%2C%20%22id%22%3A%20%22CRI%22%2C%20%22properties%22%3A%20%7B%22name%22%3A%20%22Costa%20Rica%22%7D%2C%20%22type%22%3A%20%22Feature%22%7D%2C%20%7B%22geometry%22%3A%20%7B%22coordinates%22%3A%20%5B%5B%5B-82.268151%2C%2023.188611%5D%2C%20%5B-81.404457%2C%2023.117271%5D%2C%20%5B-80.618769%2C%2023.10598%5D%2C%20%5B-79.679524%2C%2022.765303%5D%2C%20%5B-79.281486%2C%2022.399202%5D%2C%20%5B-78.347434%2C%2022.512166%5D%2C%20%5B-77.993296%2C%2022.277194%5D%2C%20%5B-77.146422%2C%2021.657851%5D%2C%20%5B-76.523825%2C%2021.20682%5D%2C%20%5B-76.19462%2C%2021.220565%5D%2C%20%5B-75.598222%2C%2021.016624%5D%2C%20%5B-75.67106%2C%2020.735091%5D%2C%20%5B-74.933896%2C%2020.693905%5D%2C%20%5B-74.178025%2C%2020.284628%5D%2C%20%5B-74.296648%2C%2020.050379%5D%2C%20%5B-74.961595%2C%2019.923435%5D%2C%20%5B-75.63468%2C%2019.873774%5D%2C%20%5B-76.323656%2C%2019.952891%5D%2C%20%5B-77.755481%2C%2019.855481%5D%2C%20%5B-77.085108%2C%2020.413354%5D%2C%20%5B-77.492655%2C%2020.673105%5D%2C%20%5B-78.137292%2C%2020.739949%5D%2C%20%5B-78.482827%2C%2021.028613%5D%2C%20%5B-78.719867%2C%2021.598114%5D%2C%20%5B-79.285%2C%2021.559175%5D%2C%20%5B-80.217475%2C%2021.827324%5D%2C%20%5B-80.517535%2C%2022.037079%5D%2C%20%5B-81.820943%2C%2022.192057%5D%2C%20%5B-82.169992%2C%2022.387109%5D%2C%20%5B-81.795002%2C%2022.636965%5D%2C%20%5B-82.775898%2C%2022.68815%5D%2C%20%5B-83.494459%2C%2022.168518%5D%2C%20%5B-83.9088%2C%2022.154565%5D%2C%20%5B-84.052151%2C%2021.910575%5D%2C%20%5B-84.54703%2C%2021.801228%5D%2C%20%5B-84.974911%2C%2021.896028%5D%2C%20%5B-84.447062%2C%2022.20495%5D%2C%20%5B-84.230357%2C%2022.565755%5D%2C%20%5B-83.77824%2C%2022.788118%5D%2C%20%5B-83.267548%2C%2022.983042%5D%2C%20%5B-82.510436%2C%2023.078747%5D%2C%20%5B-82.268151%2C%2023.188611%5D%5D%5D%2C%20%22type%22%3A%20%22Polygon%22%7D%2C%20%22id%22%3A%20%22CUB%22%2C%20%22properties%22%3A%20%7B%22name%22%3A%20%22Cuba%22%7D%2C%20%22type%22%3A%20%22Feature%22%7D%2C%20%7B%22geometry%22%3A%20%7B%22coordinates%22%3A%20%5B%5B%5B32.73178%2C%2035.140026%5D%2C%20%5B32.802474%2C%2035.145504%5D%2C%20%5B32.946961%2C%2035.386703%5D%2C%20%5B33.667227%2C%2035.373216%5D%2C%20%5B34.576474%2C%2035.671596%5D%2C%20%5B33.900804%2C%2035.245756%5D%2C%20%5B33.973617%2C%2035.058506%5D%2C%20%5B33.86644%2C%2035.093595%5D%2C%20%5B33.675392%2C%2035.017863%5D%2C%20%5B33.525685%2C%2035.038688%5D%2C%20%5B33.475817%2C%2035.000345%5D%2C%20%5B33.455922%2C%2035.101424%5D%2C%20%5B33.383833%2C%2035.162712%5D%2C%20%5B33.190977%2C%2035.173125%5D%2C%20%5B32.919572%2C%2035.087833%5D%2C%20%5B32.73178%2C%2035.140026%5D%5D%5D%2C%20%22type%22%3A%20%22Polygon%22%7D%2C%20%22id%22%3A%20%22-99%22%2C%20%22properties%22%3A%20%7B%22name%22%3A%20%22Northern%20Cyprus%22%7D%2C%20%22type%22%3A%20%22Feature%22%7D%2C%20%7B%22geometry%22%3A%20%7B%22coordinates%22%3A%20%5B%5B%5B33.973617%2C%2035.058506%5D%2C%20%5B34.004881%2C%2034.978098%5D%2C%20%5B32.979827%2C%2034.571869%5D%2C%20%5B32.490296%2C%2034.701655%5D%2C%20%5B32.256667%2C%2035.103232%5D%2C%20%5B32.73178%2C%2035.140026%5D%2C%20%5B32.919572%2C%2035.087833%5D%2C%20%5B33.190977%2C%2035.173125%5D%2C%20%5B33.383833%2C%2035.162712%5D%2C%20%5B33.455922%2C%2035.101424%5D%2C%20%5B33.475817%2C%2035.000345%5D%2C%20%5B33.525685%2C%2035.038688%5D%2C%20%5B33.675392%2C%2035.017863%5D%2C%20%5B33.86644%2C%2035.093595%5D%2C%20%5B33.973617%2C%2035.058506%5D%5D%5D%2C%20%22type%22%3A%20%22Polygon%22%7D%2C%20%22id%22%3A%20%22CYP%22%2C%20%22properties%22%3A%20%7B%22name%22%3A%20%22Cyprus%22%7D%2C%20%22type%22%3A%20%22Feature%22%7D%2C%20%7B%22geometry%22%3A%20%7B%22coordinates%22%3A%20%5B%5B%5B16.960288%2C%2048.596982%5D%2C%20%5B16.499283%2C%2048.785808%5D%2C%20%5B16.029647%2C%2048.733899%5D%2C%20%5B15.253416%2C%2049.039074%5D%2C%20%5B14.901447%2C%2048.964402%5D%2C%20%5B14.338898%2C%2048.555305%5D%2C%20%5B13.595946%2C%2048.877172%5D%2C%20%5B13.031329%2C%2049.307068%5D%2C%20%5B12.521024%2C%2049.547415%5D%2C%20%5B12.415191%2C%2049.969121%5D%2C%20%5B12.240111%2C%2050.266338%5D%2C%20%5B12.966837%2C%2050.484076%5D%2C%20%5B13.338132%2C%2050.733234%5D%2C%20%5B14.056228%2C%2050.926918%5D%2C%20%5B14.307013%2C%2051.117268%5D%2C%20%5B14.570718%2C%2051.002339%5D%2C%20%5B15.016996%2C%2051.106674%5D%2C%20%5B15.490972%2C%2050.78473%5D%2C%20%5B16.238627%2C%2050.697733%5D%2C%20%5B16.176253%2C%2050.422607%5D%2C%20%5B16.719476%2C%2050.215747%5D%2C%20%5B16.868769%2C%2050.473974%5D%2C%20%5B17.554567%2C%2050.362146%5D%2C%20%5B17.649445%2C%2050.049038%5D%2C%20%5B18.392914%2C%2049.988629%5D%2C%20%5B18.853144%2C%2049.49623%5D%2C%20%5B18.554971%2C%2049.495015%5D%2C%20%5B18.399994%2C%2049.315001%5D%2C%20%5B18.170498%2C%2049.271515%5D%2C%20%5B18.104973%2C%2049.043983%5D%2C%20%5B17.913512%2C%2048.996493%5D%2C%20%5B17.886485%2C%2048.903475%5D%2C%20%5B17.545007%2C%2048.800019%5D%2C%20%5B17.101985%2C%2048.816969%5D%2C%20%5B16.960288%2C%2048.596982%5D%5D%5D%2C%20%22type%22%3A%20%22Polygon%22%7D%2C%20%22id%22%3A%20%22CZE%22%2C%20%22properties%22%3A%20%7B%22name%22%3A%20%22Czech%20Republic%22%7D%2C%20%22type%22%3A%20%22Feature%22%7D%2C%20%7B%22geometry%22%3A%20%7B%22coordinates%22%3A%20%5B%5B%5B9.921906%2C%2054.983104%5D%2C%20%5B9.93958%2C%2054.596642%5D%2C%20%5B10.950112%2C%2054.363607%5D%2C%20%5B10.939467%2C%2054.008693%5D%2C%20%5B11.956252%2C%2054.196486%5D%2C%20%5B12.51844%2C%2054.470371%5D%2C%20%5B13.647467%2C%2054.075511%5D%2C%20%5B14.119686%2C%2053.757029%5D%2C%20%5B14.353315%2C%2053.248171%5D%2C%20%5B14.074521%2C%2052.981263%5D%2C%20%5B14.4376%2C%2052.62485%5D%2C%20%5B14.685026%2C%2052.089947%5D%2C%20%5B14.607098%2C%2051.745188%5D%2C%20%5B15.016996%2C%2051.106674%5D%2C%20%5B14.570718%2C%2051.002339%5D%2C%20%5B14.307013%2C%2051.117268%5D%2C%20%5B14.056228%2C%2050.926918%5D%2C%20%5B13.338132%2C%2050.733234%5D%2C%20%5B12.966837%2C%2050.484076%5D%2C%20%5B12.240111%2C%2050.266338%5D%2C%20%5B12.415191%2C%2049.969121%5D%2C%20%5B12.521024%2C%2049.547415%5D%2C%20%5B13.031329%2C%2049.307068%5D%2C%20%5B13.595946%2C%2048.877172%5D%2C%20%5B13.243357%2C%2048.416115%5D%2C%20%5B12.884103%2C%2048.289146%5D%2C%20%5B13.025851%2C%2047.637584%5D%2C%20%5B12.932627%2C%2047.467646%5D%2C%20%5B12.62076%2C%2047.672388%5D%2C%20%5B12.141357%2C%2047.703083%5D%2C%20%5B11.426414%2C%2047.523766%5D%2C%20%5B10.544504%2C%2047.566399%5D%2C%20%5B10.402084%2C%2047.302488%5D%2C%20%5B9.896068%2C%2047.580197%5D%2C%20%5B9.594226%2C%2047.525058%5D%2C%20%5B8.522612%2C%2047.830828%5D%2C%20%5B8.317301%2C%2047.61358%5D%2C%20%5B7.466759%2C%2047.620582%5D%2C%20%5B7.593676%2C%2048.333019%5D%2C%20%5B8.099279%2C%2049.017784%5D%2C%20%5B6.65823%2C%2049.201958%5D%2C%20%5B6.18632%2C%2049.463803%5D%2C%20%5B6.242751%2C%2049.902226%5D%2C%20%5B6.043073%2C%2050.128052%5D%2C%20%5B6.156658%2C%2050.803721%5D%2C%20%5B5.988658%2C%2051.851616%5D%2C%20%5B6.589397%2C%2051.852029%5D%2C%20%5B6.84287%2C%2052.22844%5D%2C%20%5B7.092053%2C%2053.144043%5D%2C%20%5B6.90514%2C%2053.482162%5D%2C%20%5B7.100425%2C%2053.693932%5D%2C%20%5B7.936239%2C%2053.748296%5D%2C%20%5B8.121706%2C%2053.527792%5D%2C%20%5B8.800734%2C%2054.020786%5D%2C%20%5B8.572118%2C%2054.395646%5D%2C%20%5B8.526229%2C%2054.962744%5D%2C%20%5B9.282049%2C%2054.830865%5D%2C%20%5B9.921906%2C%2054.983104%5D%5D%5D%2C%20%22type%22%3A%20%22Polygon%22%7D%2C%20%22id%22%3A%20%22DEU%22%2C%20%22properties%22%3A%20%7B%22name%22%3A%20%22Germany%22%7D%2C%20%22type%22%3A%20%22Feature%22%7D%2C%20%7B%22geometry%22%3A%20%7B%22coordinates%22%3A%20%5B%5B%5B43.081226%2C%2012.699639%5D%2C%20%5B43.317852%2C%2012.390148%5D%2C%20%5B43.286381%2C%2011.974928%5D%2C%20%5B42.715874%2C%2011.735641%5D%2C%20%5B43.145305%2C%2011.46204%5D%2C%20%5B42.776852%2C%2010.926879%5D%2C%20%5B42.55493%2C%2011.10511%5D%2C%20%5B42.31414%2C%2011.0342%5D%2C%20%5B41.75557%2C%2011.05091%5D%2C%20%5B41.73959%2C%2011.35511%5D%2C%20%5B41.66176%2C%2011.6312%5D%2C%20%5B42%2C%2012.1%5D%2C%20%5B42.35156%2C%2012.54223%5D%2C%20%5B42.779642%2C%2012.455416%5D%2C%20%5B43.081226%2C%2012.699639%5D%5D%5D%2C%20%22type%22%3A%20%22Polygon%22%7D%2C%20%22id%22%3A%20%22DJI%22%2C%20%22properties%22%3A%20%7B%22name%22%3A%20%22Djibouti%22%7D%2C%20%22type%22%3A%20%22Feature%22%7D%2C%20%7B%22geometry%22%3A%20%7B%22coordinates%22%3A%20%5B%5B%5B%5B12.690006%2C%2055.609991%5D%2C%20%5B12.089991%2C%2054.800015%5D%2C%20%5B11.043543%2C%2055.364864%5D%2C%20%5B10.903914%2C%2055.779955%5D%2C%20%5B12.370904%2C%2056.111407%5D%2C%20%5B12.690006%2C%2055.609991%5D%5D%5D%2C%20%5B%5B%5B10.912182%2C%2056.458621%5D%2C%20%5B10.667804%2C%2056.081383%5D%2C%20%5B10.369993%2C%2056.190007%5D%2C%20%5B9.649985%2C%2055.469999%5D%2C%20%5B9.921906%2C%2054.983104%5D%2C%20%5B9.282049%2C%2054.830865%5D%2C%20%5B8.526229%2C%2054.962744%5D%2C%20%5B8.120311%2C%2055.517723%5D%2C%20%5B8.089977%2C%2056.540012%5D%2C%20%5B8.256582%2C%2056.809969%5D%2C%20%5B8.543438%2C%2057.110003%5D%2C%20%5B9.424469%2C%2057.172066%5D%2C%20%5B9.775559%2C%2057.447941%5D%2C%20%5B10.580006%2C%2057.730017%5D%2C%20%5B10.546106%2C%2057.215733%5D%2C%20%5B10.25%2C%2056.890016%5D%2C%20%5B10.369993%2C%2056.609982%5D%2C%20%5B10.912182%2C%2056.458621%5D%5D%5D%5D%2C%20%22type%22%3A%20%22MultiPolygon%22%7D%2C%20%22id%22%3A%20%22DNK%22%2C%20%22properties%22%3A%20%7B%22name%22%3A%20%22Denmark%22%7D%2C%20%22type%22%3A%20%22Feature%22%7D%2C%20%7B%22geometry%22%3A%20%7B%22coordinates%22%3A%20%5B%5B%5B-71.712361%2C%2019.714456%5D%2C%20%5B-71.587304%2C%2019.884911%5D%2C%20%5B-70.806706%2C%2019.880286%5D%2C%20%5B-70.214365%2C%2019.622885%5D%2C%20%5B-69.950815%2C%2019.648%5D%2C%20%5B-69.76925%2C%2019.293267%5D%2C%20%5B-69.222126%2C%2019.313214%5D%2C%20%5B-69.254346%2C%2019.015196%5D%2C%20%5B-68.809412%2C%2018.979074%5D%2C%20%5B-68.317943%2C%2018.612198%5D%2C%20%5B-68.689316%2C%2018.205142%5D%2C%20%5B-69.164946%2C%2018.422648%5D%2C%20%5B-69.623988%2C%2018.380713%5D%2C%20%5B-69.952934%2C%2018.428307%5D%2C%20%5B-70.133233%2C%2018.245915%5D%2C%20%5B-70.517137%2C%2018.184291%5D%2C%20%5B-70.669298%2C%2018.426886%5D%2C%20%5B-70.99995%2C%2018.283329%5D%2C%20%5B-71.40021%2C%2017.598564%5D%2C%20%5B-71.657662%2C%2017.757573%5D%2C%20%5B-71.708305%2C%2018.044997%5D%2C%20%5B-71.687738%2C%2018.31666%5D%2C%20%5B-71.945112%2C%2018.6169%5D%2C%20%5B-71.701303%2C%2018.785417%5D%2C%20%5B-71.624873%2C%2019.169838%5D%2C%20%5B-71.712361%2C%2019.714456%5D%5D%5D%2C%20%22type%22%3A%20%22Polygon%22%7D%2C%20%22id%22%3A%20%22DOM%22%2C%20%22properties%22%3A%20%7B%22name%22%3A%20%22Dominican%20Republic%22%7D%2C%20%22type%22%3A%20%22Feature%22%7D%2C%20%7B%22geometry%22%3A%20%7B%22coordinates%22%3A%20%5B%5B%5B11.999506%2C%2023.471668%5D%2C%20%5B8.572893%2C%2021.565661%5D%2C%20%5B5.677566%2C%2019.601207%5D%2C%20%5B4.267419%2C%2019.155265%5D%2C%20%5B3.158133%2C%2019.057364%5D%2C%20%5B3.146661%2C%2019.693579%5D%2C%20%5B2.683588%2C%2019.85623%5D%2C%20%5B2.060991%2C%2020.142233%5D%2C%20%5B1.823228%2C%2020.610809%5D%2C%20%5B-1.550055%2C%2022.792666%5D%2C%20%5B-4.923337%2C%2024.974574%5D%2C%20%5B-8.6844%2C%2027.395744%5D%2C%20%5B-8.665124%2C%2027.589479%5D%2C%20%5B-8.66559%2C%2027.656426%5D%2C%20%5B-8.674116%2C%2028.841289%5D%2C%20%5B-7.059228%2C%2029.579228%5D%2C%20%5B-6.060632%2C%2029.7317%5D%2C%20%5B-5.242129%2C%2030.000443%5D%2C%20%5B-4.859646%2C%2030.501188%5D%2C%20%5B-3.690441%2C%2030.896952%5D%2C%20%5B-3.647498%2C%2031.637294%5D%2C%20%5B-3.06898%2C%2031.724498%5D%2C%20%5B-2.616605%2C%2032.094346%5D%2C%20%5B-1.307899%2C%2032.262889%5D%2C%20%5B-1.124551%2C%2032.651522%5D%2C%20%5B-1.388049%2C%2032.864015%5D%2C%20%5B-1.733455%2C%2033.919713%5D%2C%20%5B-1.792986%2C%2034.527919%5D%2C%20%5B-2.169914%2C%2035.168396%5D%2C%20%5B-1.208603%2C%2035.714849%5D%2C%20%5B-0.127454%2C%2035.888662%5D%2C%20%5B0.503877%2C%2036.301273%5D%2C%20%5B1.466919%2C%2036.605647%5D%2C%20%5B3.161699%2C%2036.783905%5D%2C%20%5B4.815758%2C%2036.865037%5D%2C%20%5B5.32012%2C%2036.716519%5D%2C%20%5B6.26182%2C%2037.110655%5D%2C%20%5B7.330385%2C%2037.118381%5D%2C%20%5B7.737078%2C%2036.885708%5D%2C%20%5B8.420964%2C%2036.946427%5D%2C%20%5B8.217824%2C%2036.433177%5D%2C%20%5B8.376368%2C%2035.479876%5D%2C%20%5B8.140981%2C%2034.655146%5D%2C%20%5B7.524482%2C%2034.097376%5D%2C%20%5B7.612642%2C%2033.344115%5D%2C%20%5B8.430473%2C%2032.748337%5D%2C%20%5B8.439103%2C%2032.506285%5D%2C%20%5B9.055603%2C%2032.102692%5D%2C%20%5B9.48214%2C%2030.307556%5D%2C%20%5B9.805634%2C%2029.424638%5D%2C%20%5B9.859998%2C%2028.95999%5D%2C%20%5B9.683885%2C%2028.144174%5D%2C%20%5B9.756128%2C%2027.688259%5D%2C%20%5B9.629056%2C%2027.140953%5D%2C%20%5B9.716286%2C%2026.512206%5D%2C%20%5B9.319411%2C%2026.094325%5D%2C%20%5B9.910693%2C%2025.365455%5D%2C%20%5B9.948261%2C%2024.936954%5D%2C%20%5B10.303847%2C%2024.379313%5D%2C%20%5B10.771364%2C%2024.562532%5D%2C%20%5B11.560669%2C%2024.097909%5D%2C%20%5B11.999506%2C%2023.471668%5D%5D%5D%2C%20%22type%22%3A%20%22Polygon%22%7D%2C%20%22id%22%3A%20%22DZA%22%2C%20%22properties%22%3A%20%7B%22name%22%3A%20%22Algeria%22%7D%2C%20%22type%22%3A%20%22Feature%22%7D%2C%20%7B%22geometry%22%3A%20%7B%22coordinates%22%3A%20%5B%5B%5B-80.302561%2C%20-3.404856%5D%2C%20%5B-79.770293%2C%20-2.657512%5D%2C%20%5B-79.986559%2C%20-2.220794%5D%2C%20%5B-80.368784%2C%20-2.685159%5D%2C%20%5B-80.967765%2C%20-2.246943%5D%2C%20%5B-80.764806%2C%20-1.965048%5D%2C%20%5B-80.933659%2C%20-1.057455%5D%2C%20%5B-80.58337%2C%20-0.906663%5D%2C%20%5B-80.399325%2C%20-0.283703%5D%2C%20%5B-80.020898%2C%200.36034%5D%2C%20%5B-80.09061%2C%200.768429%5D%2C%20%5B-79.542762%2C%200.982938%5D%2C%20%5B-78.855259%2C%201.380924%5D%2C%20%5B-77.855061%2C%200.809925%5D%2C%20%5B-77.668613%2C%200.825893%5D%2C%20%5B-77.424984%2C%200.395687%5D%2C%20%5B-76.57638%2C%200.256936%5D%2C%20%5B-76.292314%2C%200.416047%5D%2C%20%5B-75.801466%2C%200.084801%5D%2C%20%5B-75.373223%2C%20-0.152032%5D%2C%20%5B-75.233723%2C%20-0.911417%5D%2C%20%5B-75.544996%2C%20-1.56161%5D%2C%20%5B-76.635394%2C%20-2.608678%5D%2C%20%5B-77.837905%2C%20-3.003021%5D%2C%20%5B-78.450684%2C%20-3.873097%5D%2C%20%5B-78.639897%2C%20-4.547784%5D%2C%20%5B-79.205289%2C%20-4.959129%5D%2C%20%5B-79.624979%2C%20-4.454198%5D%2C%20%5B-80.028908%2C%20-4.346091%5D%2C%20%5B-80.442242%2C%20-4.425724%5D%2C%20%5B-80.469295%2C%20-4.059287%5D%2C%20%5B-80.184015%2C%20-3.821162%5D%2C%20%5B-80.302561%2C%20-3.404856%5D%5D%5D%2C%20%22type%22%3A%20%22Polygon%22%7D%2C%20%22id%22%3A%20%22ECU%22%2C%20%22properties%22%3A%20%7B%22name%22%3A%20%22Ecuador%22%7D%2C%20%22type%22%3A%20%22Feature%22%7D%2C%20%7B%22geometry%22%3A%20%7B%22coordinates%22%3A%20%5B%5B%5B34.9226%2C%2029.50133%5D%2C%20%5B34.64174%2C%2029.09942%5D%2C%20%5B34.42655%2C%2028.34399%5D%2C%20%5B34.15451%2C%2027.8233%5D%2C%20%5B33.92136%2C%2027.6487%5D%2C%20%5B33.58811%2C%2027.97136%5D%2C%20%5B33.13676%2C%2028.41765%5D%2C%20%5B32.42323%2C%2029.85108%5D%2C%20%5B32.32046%2C%2029.76043%5D%2C%20%5B32.73482%2C%2028.70523%5D%2C%20%5B33.34876%2C%2027.69989%5D%2C%20%5B34.10455%2C%2026.14227%5D%2C%20%5B34.47387%2C%2025.59856%5D%2C%20%5B34.79507%2C%2025.03375%5D%2C%20%5B35.69241%2C%2023.92671%5D%2C%20%5B35.49372%2C%2023.75237%5D%2C%20%5B35.52598%2C%2023.10244%5D%2C%20%5B36.69069%2C%2022.20485%5D%2C%20%5B36.86623%2C%2022%5D%2C%20%5B32.9%2C%2022%5D%2C%20%5B29.02%2C%2022%5D%2C%20%5B25%2C%2022%5D%2C%20%5B25%2C%2025.6825%5D%2C%20%5B25%2C%2029.238655%5D%2C%20%5B24.70007%2C%2030.04419%5D%2C%20%5B24.95762%2C%2030.6616%5D%2C%20%5B24.80287%2C%2031.08929%5D%2C%20%5B25.16482%2C%2031.56915%5D%2C%20%5B26.49533%2C%2031.58568%5D%2C%20%5B27.45762%2C%2031.32126%5D%2C%20%5B28.45048%2C%2031.02577%5D%2C%20%5B28.91353%2C%2030.87005%5D%2C%20%5B29.68342%2C%2031.18686%5D%2C%20%5B30.09503%2C%2031.4734%5D%2C%20%5B30.97693%2C%2031.55586%5D%2C%20%5B31.68796%2C%2031.4296%5D%2C%20%5B31.96041%2C%2030.9336%5D%2C%20%5B32.19247%2C%2031.26034%5D%2C%20%5B32.99392%2C%2031.02407%5D%2C%20%5B33.7734%2C%2030.96746%5D%2C%20%5B34.26544%2C%2031.21936%5D%2C%20%5B34.9226%2C%2029.50133%5D%5D%5D%2C%20%22type%22%3A%20%22Polygon%22%7D%2C%20%22id%22%3A%20%22EGY%22%2C%20%22properties%22%3A%20%7B%22name%22%3A%20%22Egypt%22%7D%2C%20%22type%22%3A%20%22Feature%22%7D%2C%20%7B%22geometry%22%3A%20%7B%22coordinates%22%3A%20%5B%5B%5B42.35156%2C%2012.54223%5D%2C%20%5B42.00975%2C%2012.86582%5D%2C%20%5B41.59856%2C%2013.45209%5D%2C%20%5B41.155194%2C%2013.77332%5D%2C%20%5B40.8966%2C%2014.11864%5D%2C%20%5B40.026219%2C%2014.519579%5D%2C%20%5B39.34061%2C%2014.53155%5D%2C%20%5B39.0994%2C%2014.74064%5D%2C%20%5B38.51295%2C%2014.50547%5D%2C%20%5B37.90607%2C%2014.95943%5D%2C%20%5B37.59377%2C%2014.2131%5D%2C%20%5B36.42951%2C%2014.42211%5D%2C%20%5B36.323189%2C%2014.822481%5D%2C%20%5B36.75386%2C%2016.291874%5D%2C%20%5B36.85253%2C%2016.95655%5D%2C%20%5B37.16747%2C%2017.26314%5D%2C%20%5B37.904%2C%2017.42754%5D%2C%20%5B38.41009%2C%2017.998307%5D%2C%20%5B38.990623%2C%2016.840626%5D%2C%20%5B39.26611%2C%2015.922723%5D%2C%20%5B39.814294%2C%2015.435647%5D%2C%20%5B41.179275%2C%2014.49108%5D%2C%20%5B41.734952%2C%2013.921037%5D%2C%20%5B42.276831%2C%2013.343992%5D%2C%20%5B42.589576%2C%2013.000421%5D%2C%20%5B43.081226%2C%2012.699639%5D%2C%20%5B42.779642%2C%2012.455416%5D%2C%20%5B42.35156%2C%2012.54223%5D%5D%5D%2C%20%22type%22%3A%20%22Polygon%22%7D%2C%20%22id%22%3A%20%22ERI%22%2C%20%22properties%22%3A%20%7B%22name%22%3A%20%22Eritrea%22%7D%2C%20%22type%22%3A%20%22Feature%22%7D%2C%20%7B%22geometry%22%3A%20%7B%22coordinates%22%3A%20%5B%5B%5B-9.034818%2C%2041.880571%5D%2C%20%5B-8.984433%2C%2042.592775%5D%2C%20%5B-9.392884%2C%2043.026625%5D%2C%20%5B-7.97819%2C%2043.748338%5D%2C%20%5B-6.754492%2C%2043.567909%5D%2C%20%5B-5.411886%2C%2043.57424%5D%2C%20%5B-4.347843%2C%2043.403449%5D%2C%20%5B-3.517532%2C%2043.455901%5D%2C%20%5B-1.901351%2C%2043.422802%5D%2C%20%5B-1.502771%2C%2043.034014%5D%2C%20%5B0.338047%2C%2042.579546%5D%2C%20%5B0.701591%2C%2042.795734%5D%2C%20%5B1.826793%2C%2042.343385%5D%2C%20%5B2.985999%2C%2042.473015%5D%2C%20%5B3.039484%2C%2041.89212%5D%2C%20%5B2.091842%2C%2041.226089%5D%2C%20%5B0.810525%2C%2041.014732%5D%2C%20%5B0.721331%2C%2040.678318%5D%2C%20%5B0.106692%2C%2040.123934%5D%2C%20%5B-0.278711%2C%2039.309978%5D%2C%20%5B0.111291%2C%2038.738514%5D%2C%20%5B-0.467124%2C%2038.292366%5D%2C%20%5B-0.683389%2C%2037.642354%5D%2C%20%5B-1.438382%2C%2037.443064%5D%2C%20%5B-2.146453%2C%2036.674144%5D%2C%20%5B-3.415781%2C%2036.6589%5D%2C%20%5B-4.368901%2C%2036.677839%5D%2C%20%5B-4.995219%2C%2036.324708%5D%2C%20%5B-5.37716%2C%2035.94685%5D%2C%20%5B-5.866432%2C%2036.029817%5D%2C%20%5B-6.236694%2C%2036.367677%5D%2C%20%5B-6.520191%2C%2036.942913%5D%2C%20%5B-7.453726%2C%2037.097788%5D%2C%20%5B-7.537105%2C%2037.428904%5D%2C%20%5B-7.166508%2C%2037.803894%5D%2C%20%5B-7.029281%2C%2038.075764%5D%2C%20%5B-7.374092%2C%2038.373059%5D%2C%20%5B-7.098037%2C%2039.030073%5D%2C%20%5B-7.498632%2C%2039.629571%5D%2C%20%5B-7.066592%2C%2039.711892%5D%2C%20%5B-7.026413%2C%2040.184524%5D%2C%20%5B-6.86402%2C%2040.330872%5D%2C%20%5B-6.851127%2C%2041.111083%5D%2C%20%5B-6.389088%2C%2041.381815%5D%2C%20%5B-6.668606%2C%2041.883387%5D%2C%20%5B-7.251309%2C%2041.918346%5D%2C%20%5B-7.422513%2C%2041.792075%5D%2C%20%5B-8.013175%2C%2041.790886%5D%2C%20%5B-8.263857%2C%2042.280469%5D%2C%20%5B-8.671946%2C%2042.134689%5D%2C%20%5B-9.034818%2C%2041.880571%5D%5D%5D%2C%20%22type%22%3A%20%22Polygon%22%7D%2C%20%22id%22%3A%20%22ESP%22%2C%20%22properties%22%3A%20%7B%22name%22%3A%20%22Spain%22%7D%2C%20%22type%22%3A%20%22Feature%22%7D%2C%20%7B%22geometry%22%3A%20%7B%22coordinates%22%3A%20%5B%5B%5B24.312863%2C%2057.793424%5D%2C%20%5B24.428928%2C%2058.383413%5D%2C%20%5B24.061198%2C%2058.257375%5D%2C%20%5B23.42656%2C%2058.612753%5D%2C%20%5B23.339795%2C%2059.18724%5D%2C%20%5B24.604214%2C%2059.465854%5D%2C%20%5B25.864189%2C%2059.61109%5D%2C%20%5B26.949136%2C%2059.445803%5D%2C%20%5B27.981114%2C%2059.475388%5D%2C%20%5B28.131699%2C%2059.300825%5D%2C%20%5B27.420166%2C%2058.724581%5D%2C%20%5B27.716686%2C%2057.791899%5D%2C%20%5B27.288185%2C%2057.474528%5D%2C%20%5B26.463532%2C%2057.476389%5D%2C%20%5B25.60281%2C%2057.847529%5D%2C%20%5B25.164594%2C%2057.970157%5D%2C%20%5B24.312863%2C%2057.793424%5D%5D%5D%2C%20%22type%22%3A%20%22Polygon%22%7D%2C%20%22id%22%3A%20%22EST%22%2C%20%22properties%22%3A%20%7B%22name%22%3A%20%22Estonia%22%7D%2C%20%22type%22%3A%20%22Feature%22%7D%2C%20%7B%22geometry%22%3A%20%7B%22coordinates%22%3A%20%5B%5B%5B37.90607%2C%2014.95943%5D%2C%20%5B38.51295%2C%2014.50547%5D%2C%20%5B39.0994%2C%2014.74064%5D%2C%20%5B39.34061%2C%2014.53155%5D%2C%20%5B40.02625%2C%2014.51959%5D%2C%20%5B40.8966%2C%2014.11864%5D%2C%20%5B41.1552%2C%2013.77333%5D%2C%20%5B41.59856%2C%2013.45209%5D%2C%20%5B42.00975%2C%2012.86582%5D%2C%20%5B42.35156%2C%2012.54223%5D%2C%20%5B42%2C%2012.1%5D%2C%20%5B41.66176%2C%2011.6312%5D%2C%20%5B41.73959%2C%2011.35511%5D%2C%20%5B41.75557%2C%2011.05091%5D%2C%20%5B42.31414%2C%2011.0342%5D%2C%20%5B42.55493%2C%2011.10511%5D%2C%20%5B42.776852%2C%2010.926879%5D%2C%20%5B42.55876%2C%2010.57258%5D%2C%20%5B42.92812%2C%2010.02194%5D%2C%20%5B43.29699%2C%209.54048%5D%2C%20%5B43.67875%2C%209.18358%5D%2C%20%5B46.94834%2C%207.99688%5D%2C%20%5B47.78942%2C%208.003%5D%2C%20%5B44.9636%2C%205.00162%5D%2C%20%5B43.66087%2C%204.95755%5D%2C%20%5B42.76967%2C%204.25259%5D%2C%20%5B42.12861%2C%204.23413%5D%2C%20%5B41.855083%2C%203.918912%5D%2C%20%5B41.1718%2C%203.91909%5D%2C%20%5B40.76848%2C%204.25702%5D%2C%20%5B39.85494%2C%203.83879%5D%2C%20%5B39.559384%2C%203.42206%5D%2C%20%5B38.89251%2C%203.50074%5D%2C%20%5B38.67114%2C%203.61607%5D%2C%20%5B38.43697%2C%203.58851%5D%2C%20%5B38.120915%2C%203.598605%5D%2C%20%5B36.855093%2C%204.447864%5D%2C%20%5B36.159079%2C%204.447864%5D%2C%20%5B35.817448%2C%204.776966%5D%2C%20%5B35.817448%2C%205.338232%5D%2C%20%5B35.298007%2C%205.506%5D%2C%20%5B34.70702%2C%206.59422%5D%2C%20%5B34.25032%2C%206.82607%5D%2C%20%5B34.0751%2C%207.22595%5D%2C%20%5B33.56829%2C%207.71334%5D%2C%20%5B32.95418%2C%207.78497%5D%2C%20%5B33.2948%2C%208.35458%5D%2C%20%5B33.8255%2C%208.37916%5D%2C%20%5B33.97498%2C%208.68456%5D%2C%20%5B33.96162%2C%209.58358%5D%2C%20%5B34.25745%2C%2010.63009%5D%2C%20%5B34.73115%2C%2010.91017%5D%2C%20%5B34.83163%2C%2011.31896%5D%2C%20%5B35.26049%2C%2012.08286%5D%2C%20%5B35.86363%2C%2012.57828%5D%2C%20%5B36.27022%2C%2013.56333%5D%2C%20%5B36.42951%2C%2014.42211%5D%2C%20%5B37.59377%2C%2014.2131%5D%2C%20%5B37.90607%2C%2014.95943%5D%5D%5D%2C%20%22type%22%3A%20%22Polygon%22%7D%2C%20%22id%22%3A%20%22ETH%22%2C%20%22properties%22%3A%20%7B%22name%22%3A%20%22Ethiopia%22%7D%2C%20%22type%22%3A%20%22Feature%22%7D%2C%20%7B%22geometry%22%3A%20%7B%22coordinates%22%3A%20%5B%5B%5B28.59193%2C%2069.064777%5D%2C%20%5B28.445944%2C%2068.364613%5D%2C%20%5B29.977426%2C%2067.698297%5D%2C%20%5B29.054589%2C%2066.944286%5D%2C%20%5B30.21765%2C%2065.80598%5D%2C%20%5B29.54443%2C%2064.948672%5D%2C%20%5B30.444685%2C%2064.204453%5D%2C%20%5B30.035872%2C%2063.552814%5D%2C%20%5B31.516092%2C%2062.867687%5D%2C%20%5B31.139991%2C%2062.357693%5D%2C%20%5B30.211107%2C%2061.780028%5D%2C%20%5B28.069998%2C%2060.503517%5D%2C%20%5B26.255173%2C%2060.423961%5D%2C%20%5B24.496624%2C%2060.057316%5D%2C%20%5B22.869695%2C%2059.846373%5D%2C%20%5B22.290764%2C%2060.391921%5D%2C%20%5B21.322244%2C%2060.72017%5D%2C%20%5B21.544866%2C%2061.705329%5D%2C%20%5B21.059211%2C%2062.607393%5D%2C%20%5B21.536029%2C%2063.189735%5D%2C%20%5B22.442744%2C%2063.81781%5D%2C%20%5B24.730512%2C%2064.902344%5D%2C%20%5B25.398068%2C%2065.111427%5D%2C%20%5B25.294043%2C%2065.534346%5D%2C%20%5B23.903379%2C%2066.006927%5D%2C%20%5B23.56588%2C%2066.396051%5D%2C%20%5B23.539473%2C%2067.936009%5D%2C%20%5B21.978535%2C%2068.616846%5D%2C%20%5B20.645593%2C%2069.106247%5D%2C%20%5B21.244936%2C%2069.370443%5D%2C%20%5B22.356238%2C%2068.841741%5D%2C%20%5B23.66205%2C%2068.891247%5D%2C%20%5B24.735679%2C%2068.649557%5D%2C%20%5B25.689213%2C%2069.092114%5D%2C%20%5B26.179622%2C%2069.825299%5D%2C%20%5B27.732292%2C%2070.164193%5D%2C%20%5B29.015573%2C%2069.766491%5D%2C%20%5B28.59193%2C%2069.064777%5D%5D%5D%2C%20%22type%22%3A%20%22Polygon%22%7D%2C%20%22id%22%3A%20%22FIN%22%2C%20%22properties%22%3A%20%7B%22name%22%3A%20%22Finland%22%7D%2C%20%22type%22%3A%20%22Feature%22%7D%2C%20%7B%22geometry%22%3A%20%7B%22coordinates%22%3A%20%5B%5B%5B%5B178.3736%2C%20-17.33992%5D%2C%20%5B178.71806%2C%20-17.62846%5D%2C%20%5B178.55271%2C%20-18.15059%5D%2C%20%5B177.93266%2C%20-18.28799%5D%2C%20%5B177.38146%2C%20-18.16432%5D%2C%20%5B177.28504%2C%20-17.72465%5D%2C%20%5B177.67087%2C%20-17.38114%5D%2C%20%5B178.12557%2C%20-17.50481%5D%2C%20%5B178.3736%2C%20-17.33992%5D%5D%5D%2C%20%5B%5B%5B179.364143%2C%20-16.801354%5D%2C%20%5B178.725059%2C%20-17.012042%5D%2C%20%5B178.596839%2C%20-16.63915%5D%2C%20%5B179.096609%2C%20-16.433984%5D%2C%20%5B179.413509%2C%20-16.379054%5D%2C%20%5B180%2C%20-16.067133%5D%2C%20%5B180%2C%20-16.555217%5D%2C%20%5B179.364143%2C%20-16.801354%5D%5D%5D%2C%20%5B%5B%5B-179.917369%2C%20-16.501783%5D%2C%20%5B-180%2C%20-16.555217%5D%2C%20%5B-180%2C%20-16.067133%5D%2C%20%5B-179.79332%2C%20-16.020882%5D%2C%20%5B-179.917369%2C%20-16.501783%5D%5D%5D%5D%2C%20%22type%22%3A%20%22MultiPolygon%22%7D%2C%20%22id%22%3A%20%22FJI%22%2C%20%22properties%22%3A%20%7B%22name%22%3A%20%22Fiji%22%7D%2C%20%22type%22%3A%20%22Feature%22%7D%2C%20%7B%22geometry%22%3A%20%7B%22coordinates%22%3A%20%5B%5B%5B-61.2%2C%20-51.85%5D%2C%20%5B-60%2C%20-51.25%5D%2C%20%5B-59.15%2C%20-51.5%5D%2C%20%5B-58.55%2C%20-51.1%5D%2C%20%5B-57.75%2C%20-51.55%5D%2C%20%5B-58.05%2C%20-51.9%5D%2C%20%5B-59.4%2C%20-52.2%5D%2C%20%5B-59.85%2C%20-51.85%5D%2C%20%5B-60.7%2C%20-52.3%5D%2C%20%5B-61.2%2C%20-51.85%5D%5D%5D%2C%20%22type%22%3A%20%22Polygon%22%7D%2C%20%22id%22%3A%20%22FLK%22%2C%20%22properties%22%3A%20%7B%22name%22%3A%20%22Falkland%20Islands%22%7D%2C%20%22type%22%3A%20%22Feature%22%7D%2C%20%7B%22geometry%22%3A%20%7B%22coordinates%22%3A%20%5B%5B%5B%5B-52.556425%2C%202.504705%5D%2C%20%5B-52.939657%2C%202.124858%5D%2C%20%5B-53.418465%2C%202.053389%5D%2C%20%5B-53.554839%2C%202.334897%5D%2C%20%5B-53.778521%2C%202.376703%5D%2C%20%5B-54.088063%2C%202.105557%5D%2C%20%5B-54.524754%2C%202.311849%5D%2C%20%5B-54.27123%2C%202.738748%5D%2C%20%5B-54.184284%2C%203.194172%5D%2C%20%5B-54.011504%2C%203.62257%5D%2C%20%5B-54.399542%2C%204.212611%5D%2C%20%5B-54.478633%2C%204.896756%5D%2C%20%5B-53.958045%2C%205.756548%5D%2C%20%5B-53.618453%2C%205.646529%5D%2C%20%5B-52.882141%2C%205.409851%5D%2C%20%5B-51.823343%2C%204.565768%5D%2C%20%5B-51.657797%2C%204.156232%5D%2C%20%5B-52.249338%2C%203.241094%5D%2C%20%5B-52.556425%2C%202.504705%5D%5D%5D%2C%20%5B%5B%5B9.560016%2C%2042.152492%5D%2C%20%5B9.229752%2C%2041.380007%5D%2C%20%5B8.775723%2C%2041.583612%5D%2C%20%5B8.544213%2C%2042.256517%5D%2C%20%5B8.746009%2C%2042.628122%5D%2C%20%5B9.390001%2C%2043.009985%5D%2C%20%5B9.560016%2C%2042.152492%5D%5D%5D%2C%20%5B%5B%5B3.588184%2C%2050.378992%5D%2C%20%5B4.286023%2C%2049.907497%5D%2C%20%5B4.799222%2C%2049.985373%5D%2C%20%5B5.674052%2C%2049.529484%5D%2C%20%5B5.897759%2C%2049.442667%5D%2C%20%5B6.18632%2C%2049.463803%5D%2C%20%5B6.65823%2C%2049.201958%5D%2C%20%5B8.099279%2C%2049.017784%5D%2C%20%5B7.593676%2C%2048.333019%5D%2C%20%5B7.466759%2C%2047.620582%5D%2C%20%5B7.192202%2C%2047.449766%5D%2C%20%5B6.736571%2C%2047.541801%5D%2C%20%5B6.768714%2C%2047.287708%5D%2C%20%5B6.037389%2C%2046.725779%5D%2C%20%5B6.022609%2C%2046.27299%5D%2C%20%5B6.5001%2C%2046.429673%5D%2C%20%5B6.843593%2C%2045.991147%5D%2C%20%5B6.802355%2C%2045.70858%5D%2C%20%5B7.096652%2C%2045.333099%5D%2C%20%5B6.749955%2C%2045.028518%5D%2C%20%5B7.007562%2C%2044.254767%5D%2C%20%5B7.549596%2C%2044.127901%5D%2C%20%5B7.435185%2C%2043.693845%5D%2C%20%5B6.529245%2C%2043.128892%5D%2C%20%5B4.556963%2C%2043.399651%5D%2C%20%5B3.100411%2C%2043.075201%5D%2C%20%5B2.985999%2C%2042.473015%5D%2C%20%5B1.826793%2C%2042.343385%5D%2C%20%5B0.701591%2C%2042.795734%5D%2C%20%5B0.338047%2C%2042.579546%5D%2C%20%5B-1.502771%2C%2043.034014%5D%2C%20%5B-1.901351%2C%2043.422802%5D%2C%20%5B-1.384225%2C%2044.02261%5D%2C%20%5B-1.193798%2C%2046.014918%5D%2C%20%5B-2.225724%2C%2047.064363%5D%2C%20%5B-2.963276%2C%2047.570327%5D%2C%20%5B-4.491555%2C%2047.954954%5D%2C%20%5B-4.59235%2C%2048.68416%5D%2C%20%5B-3.295814%2C%2048.901692%5D%2C%20%5B-1.616511%2C%2048.644421%5D%2C%20%5B-1.933494%2C%2049.776342%5D%2C%20%5B-0.989469%2C%2049.347376%5D%2C%20%5B1.338761%2C%2050.127173%5D%2C%20%5B1.639001%2C%2050.946606%5D%2C%20%5B2.513573%2C%2051.148506%5D%2C%20%5B2.658422%2C%2050.796848%5D%2C%20%5B3.123252%2C%2050.780363%5D%2C%20%5B3.588184%2C%2050.378992%5D%5D%5D%5D%2C%20%22type%22%3A%20%22MultiPolygon%22%7D%2C%20%22id%22%3A%20%22FRA%22%2C%20%22properties%22%3A%20%7B%22name%22%3A%20%22France%22%7D%2C%20%22type%22%3A%20%22Feature%22%7D%2C%20%7B%22geometry%22%3A%20%7B%22coordinates%22%3A%20%5B%5B%5B11.093773%2C%20-3.978827%5D%2C%20%5B10.066135%2C%20-2.969483%5D%2C%20%5B9.405245%2C%20-2.144313%5D%2C%20%5B8.797996%2C%20-1.111301%5D%2C%20%5B8.830087%2C%20-0.779074%5D%2C%20%5B9.04842%2C%20-0.459351%5D%2C%20%5B9.291351%2C%200.268666%5D%2C%20%5B9.492889%2C%201.01012%5D%2C%20%5B9.830284%2C%201.067894%5D%2C%20%5B11.285079%2C%201.057662%5D%2C%20%5B11.276449%2C%202.261051%5D%2C%20%5B11.751665%2C%202.326758%5D%2C%20%5B12.35938%2C%202.192812%5D%2C%20%5B12.951334%2C%202.321616%5D%2C%20%5B13.075822%2C%202.267097%5D%2C%20%5B13.003114%2C%201.830896%5D%2C%20%5B13.282631%2C%201.314184%5D%2C%20%5B14.026669%2C%201.395677%5D%2C%20%5B14.276266%2C%201.19693%5D%2C%20%5B13.843321%2C%200.038758%5D%2C%20%5B14.316418%2C%20-0.552627%5D%2C%20%5B14.425456%2C%20-1.333407%5D%2C%20%5B14.29921%2C%20-1.998276%5D%2C%20%5B13.992407%2C%20-2.470805%5D%2C%20%5B13.109619%2C%20-2.42874%5D%2C%20%5B12.575284%2C%20-1.948511%5D%2C%20%5B12.495703%2C%20-2.391688%5D%2C%20%5B11.820964%2C%20-2.514161%5D%2C%20%5B11.478039%2C%20-2.765619%5D%2C%20%5B11.855122%2C%20-3.426871%5D%2C%20%5B11.093773%2C%20-3.978827%5D%5D%5D%2C%20%22type%22%3A%20%22Polygon%22%7D%2C%20%22id%22%3A%20%22GAB%22%2C%20%22properties%22%3A%20%7B%22name%22%3A%20%22Gabon%22%7D%2C%20%22type%22%3A%20%22Feature%22%7D%2C%20%7B%22geometry%22%3A%20%7B%22coordinates%22%3A%20%5B%5B%5B%5B-5.661949%2C%2054.554603%5D%2C%20%5B-6.197885%2C%2053.867565%5D%2C%20%5B-6.95373%2C%2054.073702%5D%2C%20%5B-7.572168%2C%2054.059956%5D%2C%20%5B-7.366031%2C%2054.595841%5D%2C%20%5B-7.572168%2C%2055.131622%5D%2C%20%5B-6.733847%2C%2055.17286%5D%2C%20%5B-5.661949%2C%2054.554603%5D%5D%5D%2C%20%5B%5B%5B-3.005005%2C%2058.635%5D%2C%20%5B-4.073828%2C%2057.553025%5D%2C%20%5B-3.055002%2C%2057.690019%5D%2C%20%5B-1.959281%2C%2057.6848%5D%2C%20%5B-2.219988%2C%2056.870017%5D%2C%20%5B-3.119003%2C%2055.973793%5D%2C%20%5B-2.085009%2C%2055.909998%5D%2C%20%5B-2.005676%2C%2055.804903%5D%2C%20%5B-1.114991%2C%2054.624986%5D%2C%20%5B-0.430485%2C%2054.464376%5D%2C%20%5B0.184981%2C%2053.325014%5D%2C%20%5B0.469977%2C%2052.929999%5D%2C%20%5B1.681531%2C%2052.73952%5D%2C%20%5B1.559988%2C%2052.099998%5D%2C%20%5B1.050562%2C%2051.806761%5D%2C%20%5B1.449865%2C%2051.289428%5D%2C%20%5B0.550334%2C%2050.765739%5D%2C%20%5B-0.787517%2C%2050.774989%5D%2C%20%5B-2.489998%2C%2050.500019%5D%2C%20%5B-2.956274%2C%2050.69688%5D%2C%20%5B-3.617448%2C%2050.228356%5D%2C%20%5B-4.542508%2C%2050.341837%5D%2C%20%5B-5.245023%2C%2049.96%5D%2C%20%5B-5.776567%2C%2050.159678%5D%2C%20%5B-4.30999%2C%2051.210001%5D%2C%20%5B-3.414851%2C%2051.426009%5D%2C%20%5B-3.422719%2C%2051.426848%5D%2C%20%5B-4.984367%2C%2051.593466%5D%2C%20%5B-5.267296%2C%2051.9914%5D%2C%20%5B-4.222347%2C%2052.301356%5D%2C%20%5B-4.770013%2C%2052.840005%5D%2C%20%5B-4.579999%2C%2053.495004%5D%2C%20%5B-3.093831%2C%2053.404547%5D%2C%20%5B-3.09208%2C%2053.404441%5D%2C%20%5B-2.945009%2C%2053.985%5D%2C%20%5B-3.614701%2C%2054.600937%5D%2C%20%5B-3.630005%2C%2054.615013%5D%2C%20%5B-4.844169%2C%2054.790971%5D%2C%20%5B-5.082527%2C%2055.061601%5D%2C%20%5B-4.719112%2C%2055.508473%5D%2C%20%5B-5.047981%2C%2055.783986%5D%2C%20%5B-5.586398%2C%2055.311146%5D%2C%20%5B-5.644999%2C%2056.275015%5D%2C%20%5B-6.149981%2C%2056.78501%5D%2C%20%5B-5.786825%2C%2057.818848%5D%2C%20%5B-5.009999%2C%2058.630013%5D%2C%20%5B-4.211495%2C%2058.550845%5D%2C%20%5B-3.005005%2C%2058.635%5D%5D%5D%5D%2C%20%22type%22%3A%20%22MultiPolygon%22%7D%2C%20%22id%22%3A%20%22GBR%22%2C%20%22properties%22%3A%20%7B%22name%22%3A%20%22United%20Kingdom%22%7D%2C%20%22type%22%3A%20%22Feature%22%7D%2C%20%7B%22geometry%22%3A%20%7B%22coordinates%22%3A%20%5B%5B%5B41.554084%2C%2041.535656%5D%2C%20%5B41.703171%2C%2041.962943%5D%2C%20%5B41.45347%2C%2042.645123%5D%2C%20%5B40.875469%2C%2043.013628%5D%2C%20%5B40.321394%2C%2043.128634%5D%2C%20%5B39.955009%2C%2043.434998%5D%2C%20%5B40.076965%2C%2043.553104%5D%2C%20%5B40.922185%2C%2043.382159%5D%2C%20%5B42.394395%2C%2043.220308%5D%2C%20%5B43.756017%2C%2042.740828%5D%2C%20%5B43.9312%2C%2042.554974%5D%2C%20%5B44.537623%2C%2042.711993%5D%2C%20%5B45.470279%2C%2042.502781%5D%2C%20%5B45.77641%2C%2042.092444%5D%2C%20%5B46.404951%2C%2041.860675%5D%2C%20%5B46.145432%2C%2041.722802%5D%2C%20%5B46.637908%2C%2041.181673%5D%2C%20%5B46.501637%2C%2041.064445%5D%2C%20%5B45.962601%2C%2041.123873%5D%2C%20%5B45.217426%2C%2041.411452%5D%2C%20%5B44.97248%2C%2041.248129%5D%2C%20%5B43.582746%2C%2041.092143%5D%2C%20%5B42.619549%2C%2041.583173%5D%2C%20%5B41.554084%2C%2041.535656%5D%5D%5D%2C%20%22type%22%3A%20%22Polygon%22%7D%2C%20%22id%22%3A%20%22GEO%22%2C%20%22properties%22%3A%20%7B%22name%22%3A%20%22Georgia%22%7D%2C%20%22type%22%3A%20%22Feature%22%7D%2C%20%7B%22geometry%22%3A%20%7B%22coordinates%22%3A%20%5B%5B%5B1.060122%2C%205.928837%5D%2C%20%5B-0.507638%2C%205.343473%5D%2C%20%5B-1.063625%2C%205.000548%5D%2C%20%5B-1.964707%2C%204.710462%5D%2C%20%5B-2.856125%2C%204.994476%5D%2C%20%5B-2.810701%2C%205.389051%5D%2C%20%5B-3.24437%2C%206.250472%5D%2C%20%5B-2.983585%2C%207.379705%5D%2C%20%5B-2.56219%2C%208.219628%5D%2C%20%5B-2.827496%2C%209.642461%5D%2C%20%5B-2.963896%2C%2010.395335%5D%2C%20%5B-2.940409%2C%2010.96269%5D%2C%20%5B-1.203358%2C%2011.009819%5D%2C%20%5B-0.761576%2C%2010.93693%5D%2C%20%5B-0.438702%2C%2011.098341%5D%2C%20%5B0.023803%2C%2011.018682%5D%2C%20%5B-0.049785%2C%2010.706918%5D%2C%20%5B0.36758%2C%2010.191213%5D%2C%20%5B0.365901%2C%209.465004%5D%2C%20%5B0.461192%2C%208.677223%5D%2C%20%5B0.712029%2C%208.312465%5D%2C%20%5B0.490957%2C%207.411744%5D%2C%20%5B0.570384%2C%206.914359%5D%2C%20%5B0.836931%2C%206.279979%5D%2C%20%5B1.060122%2C%205.928837%5D%5D%5D%2C%20%22type%22%3A%20%22Polygon%22%7D%2C%20%22id%22%3A%20%22GHA%22%2C%20%22properties%22%3A%20%7B%22name%22%3A%20%22Ghana%22%7D%2C%20%22type%22%3A%20%22Feature%22%7D%2C%20%7B%22geometry%22%3A%20%7B%22coordinates%22%3A%20%5B%5B%5B-8.439298%2C%207.686043%5D%2C%20%5B-8.722124%2C%207.711674%5D%2C%20%5B-8.926065%2C%207.309037%5D%2C%20%5B-9.208786%2C%207.313921%5D%2C%20%5B-9.403348%2C%207.526905%5D%2C%20%5B-9.33728%2C%207.928534%5D%2C%20%5B-9.755342%2C%208.541055%5D%2C%20%5B-10.016567%2C%208.428504%5D%2C%20%5B-10.230094%2C%208.406206%5D%2C%20%5B-10.505477%2C%208.348896%5D%2C%20%5B-10.494315%2C%208.715541%5D%2C%20%5B-10.65477%2C%208.977178%5D%2C%20%5B-10.622395%2C%209.26791%5D%2C%20%5B-10.839152%2C%209.688246%5D%2C%20%5B-11.117481%2C%2010.045873%5D%2C%20%5B-11.917277%2C%2010.046984%5D%2C%20%5B-12.150338%2C%209.858572%5D%2C%20%5B-12.425929%2C%209.835834%5D%2C%20%5B-12.596719%2C%209.620188%5D%2C%20%5B-12.711958%2C%209.342712%5D%2C%20%5B-13.24655%2C%208.903049%5D%2C%20%5B-13.685154%2C%209.494744%5D%2C%20%5B-14.074045%2C%209.886167%5D%2C%20%5B-14.330076%2C%2010.01572%5D%2C%20%5B-14.579699%2C%2010.214467%5D%2C%20%5B-14.693232%2C%2010.656301%5D%2C%20%5B-14.839554%2C%2010.876572%5D%2C%20%5B-15.130311%2C%2011.040412%5D%2C%20%5B-14.685687%2C%2011.527824%5D%2C%20%5B-14.382192%2C%2011.509272%5D%2C%20%5B-14.121406%2C%2011.677117%5D%2C%20%5B-13.9008%2C%2011.678719%5D%2C%20%5B-13.743161%2C%2011.811269%5D%2C%20%5B-13.828272%2C%2012.142644%5D%2C%20%5B-13.718744%2C%2012.247186%5D%2C%20%5B-13.700476%2C%2012.586183%5D%2C%20%5B-13.217818%2C%2012.575874%5D%2C%20%5B-12.499051%2C%2012.33209%5D%2C%20%5B-12.278599%2C%2012.35444%5D%2C%20%5B-12.203565%2C%2012.465648%5D%2C%20%5B-11.658301%2C%2012.386583%5D%2C%20%5B-11.513943%2C%2012.442988%5D%2C%20%5B-11.456169%2C%2012.076834%5D%2C%20%5B-11.297574%2C%2012.077971%5D%2C%20%5B-11.036556%2C%2012.211245%5D%2C%20%5B-10.87083%2C%2012.177887%5D%2C%20%5B-10.593224%2C%2011.923975%5D%2C%20%5B-10.165214%2C%2011.844084%5D%2C%20%5B-9.890993%2C%2012.060479%5D%2C%20%5B-9.567912%2C%2012.194243%5D%2C%20%5B-9.327616%2C%2012.334286%5D%2C%20%5B-9.127474%2C%2012.30806%5D%2C%20%5B-8.905265%2C%2012.088358%5D%2C%20%5B-8.786099%2C%2011.812561%5D%2C%20%5B-8.376305%2C%2011.393646%5D%2C%20%5B-8.581305%2C%2011.136246%5D%2C%20%5B-8.620321%2C%2010.810891%5D%2C%20%5B-8.407311%2C%2010.909257%5D%2C%20%5B-8.282357%2C%2010.792597%5D%2C%20%5B-8.335377%2C%2010.494812%5D%2C%20%5B-8.029944%2C%2010.206535%5D%2C%20%5B-8.229337%2C%2010.12902%5D%2C%20%5B-8.309616%2C%209.789532%5D%2C%20%5B-8.079114%2C%209.376224%5D%2C%20%5B-7.8321%2C%208.575704%5D%2C%20%5B-8.203499%2C%208.455453%5D%2C%20%5B-8.299049%2C%208.316444%5D%2C%20%5B-8.221792%2C%208.123329%5D%2C%20%5B-8.280703%2C%207.68718%5D%2C%20%5B-8.439298%2C%207.686043%5D%5D%5D%2C%20%22type%22%3A%20%22Polygon%22%7D%2C%20%22id%22%3A%20%22GIN%22%2C%20%22properties%22%3A%20%7B%22name%22%3A%20%22Guinea%22%7D%2C%20%22type%22%3A%20%22Feature%22%7D%2C%20%7B%22geometry%22%3A%20%7B%22coordinates%22%3A%20%5B%5B%5B-16.841525%2C%2013.151394%5D%2C%20%5B-16.713729%2C%2013.594959%5D%2C%20%5B-15.624596%2C%2013.623587%5D%2C%20%5B-15.39877%2C%2013.860369%5D%2C%20%5B-15.081735%2C%2013.876492%5D%2C%20%5B-14.687031%2C%2013.630357%5D%2C%20%5B-14.376714%2C%2013.62568%5D%2C%20%5B-14.046992%2C%2013.794068%5D%2C%20%5B-13.844963%2C%2013.505042%5D%2C%20%5B-14.277702%2C%2013.280585%5D%2C%20%5B-14.712197%2C%2013.298207%5D%2C%20%5B-15.141163%2C%2013.509512%5D%2C%20%5B-15.511813%2C%2013.27857%5D%2C%20%5B-15.691001%2C%2013.270353%5D%2C%20%5B-15.931296%2C%2013.130284%5D%2C%20%5B-16.841525%2C%2013.151394%5D%5D%5D%2C%20%22type%22%3A%20%22Polygon%22%7D%2C%20%22id%22%3A%20%22GMB%22%2C%20%22properties%22%3A%20%7B%22name%22%3A%20%22Gambia%22%7D%2C%20%22type%22%3A%20%22Feature%22%7D%2C%20%7B%22geometry%22%3A%20%7B%22coordinates%22%3A%20%5B%5B%5B-15.130311%2C%2011.040412%5D%2C%20%5B-15.66418%2C%2011.458474%5D%2C%20%5B-16.085214%2C%2011.524594%5D%2C%20%5B-16.314787%2C%2011.806515%5D%2C%20%5B-16.308947%2C%2011.958702%5D%2C%20%5B-16.613838%2C%2012.170911%5D%2C%20%5B-16.677452%2C%2012.384852%5D%2C%20%5B-16.147717%2C%2012.547762%5D%2C%20%5B-15.816574%2C%2012.515567%5D%2C%20%5B-15.548477%2C%2012.62817%5D%2C%20%5B-13.700476%2C%2012.586183%5D%2C%20%5B-13.718744%2C%2012.247186%5D%2C%20%5B-13.828272%2C%2012.142644%5D%2C%20%5B-13.743161%2C%2011.811269%5D%2C%20%5B-13.9008%2C%2011.678719%5D%2C%20%5B-14.121406%2C%2011.677117%5D%2C%20%5B-14.382192%2C%2011.509272%5D%2C%20%5B-14.685687%2C%2011.527824%5D%2C%20%5B-15.130311%2C%2011.040412%5D%5D%5D%2C%20%22type%22%3A%20%22Polygon%22%7D%2C%20%22id%22%3A%20%22GNB%22%2C%20%22properties%22%3A%20%7B%22name%22%3A%20%22Guinea%20Bissau%22%7D%2C%20%22type%22%3A%20%22Feature%22%7D%2C%20%7B%22geometry%22%3A%20%7B%22coordinates%22%3A%20%5B%5B%5B9.492889%2C%201.01012%5D%2C%20%5B9.305613%2C%201.160911%5D%2C%20%5B9.649158%2C%202.283866%5D%2C%20%5B11.276449%2C%202.261051%5D%2C%20%5B11.285079%2C%201.057662%5D%2C%20%5B9.830284%2C%201.067894%5D%2C%20%5B9.492889%2C%201.01012%5D%5D%5D%2C%20%22type%22%3A%20%22Polygon%22%7D%2C%20%22id%22%3A%20%22GNQ%22%2C%20%22properties%22%3A%20%7B%22name%22%3A%20%22Equatorial%20Guinea%22%7D%2C%20%22type%22%3A%20%22Feature%22%7D%2C%20%7B%22geometry%22%3A%20%7B%22coordinates%22%3A%20%5B%5B%5B%5B23.69998%2C%2035.705004%5D%2C%20%5B24.246665%2C%2035.368022%5D%2C%20%5B25.025015%2C%2035.424996%5D%2C%20%5B25.769208%2C%2035.354018%5D%2C%20%5B25.745023%2C%2035.179998%5D%2C%20%5B26.290003%2C%2035.29999%5D%2C%20%5B26.164998%2C%2035.004995%5D%2C%20%5B24.724982%2C%2034.919988%5D%2C%20%5B24.735007%2C%2035.084991%5D%2C%20%5B23.514978%2C%2035.279992%5D%2C%20%5B23.69998%2C%2035.705004%5D%5D%5D%2C%20%5B%5B%5B26.604196%2C%2041.562115%5D%2C%20%5B26.294602%2C%2040.936261%5D%2C%20%5B26.056942%2C%2040.824123%5D%2C%20%5B25.447677%2C%2040.852545%5D%2C%20%5B24.925848%2C%2040.947062%5D%2C%20%5B23.714811%2C%2040.687129%5D%2C%20%5B24.407999%2C%2040.124993%5D%2C%20%5B23.899968%2C%2039.962006%5D%2C%20%5B23.342999%2C%2039.960998%5D%2C%20%5B22.813988%2C%2040.476005%5D%2C%20%5B22.626299%2C%2040.256561%5D%2C%20%5B22.849748%2C%2039.659311%5D%2C%20%5B23.350027%2C%2039.190011%5D%2C%20%5B22.973099%2C%2038.970903%5D%2C%20%5B23.530016%2C%2038.510001%5D%2C%20%5B24.025025%2C%2038.219993%5D%2C%20%5B24.040011%2C%2037.655015%5D%2C%20%5B23.115003%2C%2037.920011%5D%2C%20%5B23.409972%2C%2037.409991%5D%2C%20%5B22.774972%2C%2037.30501%5D%2C%20%5B23.154225%2C%2036.422506%5D%2C%20%5B22.490028%2C%2036.41%5D%2C%20%5B21.670026%2C%2036.844986%5D%2C%20%5B21.295011%2C%2037.644989%5D%2C%20%5B21.120034%2C%2038.310323%5D%2C%20%5B20.730032%2C%2038.769985%5D%2C%20%5B20.217712%2C%2039.340235%5D%2C%20%5B20.150016%2C%2039.624998%5D%2C%20%5B20.615%2C%2040.110007%5D%2C%20%5B20.674997%2C%2040.435%5D%2C%20%5B20.99999%2C%2040.580004%5D%2C%20%5B21.02004%2C%2040.842727%5D%2C%20%5B21.674161%2C%2040.931275%5D%2C%20%5B22.055378%2C%2041.149866%5D%2C%20%5B22.597308%2C%2041.130487%5D%2C%20%5B22.76177%2C%2041.3048%5D%2C%20%5B22.952377%2C%2041.337994%5D%2C%20%5B23.692074%2C%2041.309081%5D%2C%20%5B24.492645%2C%2041.583896%5D%2C%20%5B25.197201%2C%2041.234486%5D%2C%20%5B26.106138%2C%2041.328899%5D%2C%20%5B26.117042%2C%2041.826905%5D%2C%20%5B26.604196%2C%2041.562115%5D%5D%5D%5D%2C%20%22type%22%3A%20%22MultiPolygon%22%7D%2C%20%22id%22%3A%20%22GRC%22%2C%20%22properties%22%3A%20%7B%22name%22%3A%20%22Greece%22%7D%2C%20%22type%22%3A%20%22Feature%22%7D%2C%20%7B%22geometry%22%3A%20%7B%22coordinates%22%3A%20%5B%5B%5B-46.76379%2C%2082.62796%5D%2C%20%5B-43.40644%2C%2083.22516%5D%2C%20%5B-39.89753%2C%2083.18018%5D%2C%20%5B-38.62214%2C%2083.54905%5D%2C%20%5B-35.08787%2C%2083.64513%5D%2C%20%5B-27.10046%2C%2083.51966%5D%2C%20%5B-20.84539%2C%2082.72669%5D%2C%20%5B-22.69182%2C%2082.34165%5D%2C%20%5B-26.51753%2C%2082.29765%5D%2C%20%5B-31.9%2C%2082.2%5D%2C%20%5B-31.39646%2C%2082.02154%5D%2C%20%5B-27.85666%2C%2082.13178%5D%2C%20%5B-24.84448%2C%2081.78697%5D%2C%20%5B-22.90328%2C%2082.09317%5D%2C%20%5B-22.07175%2C%2081.73449%5D%2C%20%5B-23.16961%2C%2081.15271%5D%2C%20%5B-20.62363%2C%2081.52462%5D%2C%20%5B-15.76818%2C%2081.91245%5D%2C%20%5B-12.77018%2C%2081.71885%5D%2C%20%5B-12.20855%2C%2081.29154%5D%2C%20%5B-16.28533%2C%2080.58004%5D%2C%20%5B-16.85%2C%2080.35%5D%2C%20%5B-20.04624%2C%2080.17708%5D%2C%20%5B-17.73035%2C%2080.12912%5D%2C%20%5B-18.9%2C%2079.4%5D%2C%20%5B-19.70499%2C%2078.75128%5D%2C%20%5B-19.67353%2C%2077.63859%5D%2C%20%5B-18.47285%2C%2076.98565%5D%2C%20%5B-20.03503%2C%2076.94434%5D%2C%20%5B-21.67944%2C%2076.62795%5D%2C%20%5B-19.83407%2C%2076.09808%5D%2C%20%5B-19.59896%2C%2075.24838%5D%2C%20%5B-20.66818%2C%2075.15585%5D%2C%20%5B-19.37281%2C%2074.29561%5D%2C%20%5B-21.59422%2C%2074.22382%5D%2C%20%5B-20.43454%2C%2073.81713%5D%2C%20%5B-20.76234%2C%2073.46436%5D%2C%20%5B-22.17221%2C%2073.30955%5D%2C%20%5B-23.56593%2C%2073.30663%5D%2C%20%5B-22.31311%2C%2072.62928%5D%2C%20%5B-22.29954%2C%2072.18409%5D%2C%20%5B-24.27834%2C%2072.59788%5D%2C%20%5B-24.79296%2C%2072.3302%5D%2C%20%5B-23.44296%2C%2072.08016%5D%2C%20%5B-22.13281%2C%2071.46898%5D%2C%20%5B-21.75356%2C%2070.66369%5D%2C%20%5B-23.53603%2C%2070.471%5D%2C%20%5B-24.30702%2C%2070.85649%5D%2C%20%5B-25.54341%2C%2071.43094%5D%2C%20%5B-25.20135%2C%2070.75226%5D%2C%20%5B-26.36276%2C%2070.22646%5D%2C%20%5B-23.72742%2C%2070.18401%5D%2C%20%5B-22.34902%2C%2070.12946%5D%2C%20%5B-25.02927%2C%2069.2588%5D%2C%20%5B-27.74737%2C%2068.47046%5D%2C%20%5B-30.67371%2C%2068.12503%5D%2C%20%5B-31.77665%2C%2068.12078%5D%2C%20%5B-32.81105%2C%2067.73547%5D%2C%20%5B-34.20196%2C%2066.67974%5D%2C%20%5B-36.35284%2C%2065.9789%5D%2C%20%5B-37.04378%2C%2065.93768%5D%2C%20%5B-38.37505%2C%2065.69213%5D%2C%20%5B-39.81222%2C%2065.45848%5D%2C%20%5B-40.66899%2C%2064.83997%5D%2C%20%5B-40.68281%2C%2064.13902%5D%2C%20%5B-41.1887%2C%2063.48246%5D%2C%20%5B-42.81938%2C%2062.68233%5D%2C%20%5B-42.41666%2C%2061.90093%5D%2C%20%5B-42.86619%2C%2061.07404%5D%2C%20%5B-43.3784%2C%2060.09772%5D%2C%20%5B-44.7875%2C%2060.03676%5D%2C%20%5B-46.26364%2C%2060.85328%5D%2C%20%5B-48.26294%2C%2060.85843%5D%2C%20%5B-49.23308%2C%2061.40681%5D%2C%20%5B-49.90039%2C%2062.38336%5D%2C%20%5B-51.63325%2C%2063.62691%5D%2C%20%5B-52.14014%2C%2064.27842%5D%2C%20%5B-52.27659%2C%2065.1767%5D%2C%20%5B-53.66166%2C%2066.09957%5D%2C%20%5B-53.30161%2C%2066.8365%5D%2C%20%5B-53.96911%2C%2067.18899%5D%2C%20%5B-52.9804%2C%2068.35759%5D%2C%20%5B-51.47536%2C%2068.72958%5D%2C%20%5B-51.08041%2C%2069.14781%5D%2C%20%5B-50.87122%2C%2069.9291%5D%2C%20%5B-52.013585%2C%2069.574925%5D%2C%20%5B-52.55792%2C%2069.42616%5D%2C%20%5B-53.45629%2C%2069.283625%5D%2C%20%5B-54.68336%2C%2069.61003%5D%2C%20%5B-54.75001%2C%2070.28932%5D%2C%20%5B-54.35884%2C%2070.821315%5D%2C%20%5B-53.431315%2C%2070.835755%5D%2C%20%5B-51.39014%2C%2070.56978%5D%2C%20%5B-53.10937%2C%2071.20485%5D%2C%20%5B-54.00422%2C%2071.54719%5D%2C%20%5B-55%2C%2071.406537%5D%2C%20%5B-55.83468%2C%2071.65444%5D%2C%20%5B-54.71819%2C%2072.58625%5D%2C%20%5B-55.32634%2C%2072.95861%5D%2C%20%5B-56.12003%2C%2073.64977%5D%2C%20%5B-57.32363%2C%2074.71026%5D%2C%20%5B-58.59679%2C%2075.09861%5D%2C%20%5B-58.58516%2C%2075.51727%5D%2C%20%5B-61.26861%2C%2076.10238%5D%2C%20%5B-63.39165%2C%2076.1752%5D%2C%20%5B-66.06427%2C%2076.13486%5D%2C%20%5B-68.50438%2C%2076.06141%5D%2C%20%5B-69.66485%2C%2076.37975%5D%2C%20%5B-71.40257%2C%2077.00857%5D%2C%20%5B-68.77671%2C%2077.32312%5D%2C%20%5B-66.76397%2C%2077.37595%5D%2C%20%5B-71.04293%2C%2077.63595%5D%2C%20%5B-73.297%2C%2078.04419%5D%2C%20%5B-73.15938%2C%2078.43271%5D%2C%20%5B-69.37345%2C%2078.91388%5D%2C%20%5B-65.7107%2C%2079.39436%5D%2C%20%5B-65.3239%2C%2079.75814%5D%2C%20%5B-68.02298%2C%2080.11721%5D%2C%20%5B-67.15129%2C%2080.51582%5D%2C%20%5B-63.68925%2C%2081.21396%5D%2C%20%5B-62.23444%2C%2081.3211%5D%2C%20%5B-62.65116%2C%2081.77042%5D%2C%20%5B-60.28249%2C%2082.03363%5D%2C%20%5B-57.20744%2C%2082.19074%5D%2C%20%5B-54.13442%2C%2082.19962%5D%2C%20%5B-53.04328%2C%2081.88833%5D%2C%20%5B-50.39061%2C%2082.43883%5D%2C%20%5B-48.00386%2C%2082.06481%5D%2C%20%5B-46.59984%2C%2081.985945%5D%2C%20%5B-44.523%2C%2081.6607%5D%2C%20%5B-46.9007%2C%2082.19979%5D%2C%20%5B-46.76379%2C%2082.62796%5D%5D%5D%2C%20%22type%22%3A%20%22Polygon%22%7D%2C%20%22id%22%3A%20%22GRL%22%2C%20%22properties%22%3A%20%7B%22name%22%3A%20%22Greenland%22%7D%2C%20%22type%22%3A%20%22Feature%22%7D%2C%20%7B%22geometry%22%3A%20%7B%22coordinates%22%3A%20%5B%5B%5B-90.095555%2C%2013.735338%5D%2C%20%5B-90.608624%2C%2013.909771%5D%2C%20%5B-91.23241%2C%2013.927832%5D%2C%20%5B-91.689747%2C%2014.126218%5D%2C%20%5B-92.22775%2C%2014.538829%5D%2C%20%5B-92.20323%2C%2014.830103%5D%2C%20%5B-92.087216%2C%2015.064585%5D%2C%20%5B-92.229249%2C%2015.251447%5D%2C%20%5B-91.74796%2C%2016.066565%5D%2C%20%5B-90.464473%2C%2016.069562%5D%2C%20%5B-90.438867%2C%2016.41011%5D%2C%20%5B-90.600847%2C%2016.470778%5D%2C%20%5B-90.711822%2C%2016.687483%5D%2C%20%5B-91.08167%2C%2016.918477%5D%2C%20%5B-91.453921%2C%2017.252177%5D%2C%20%5B-91.002269%2C%2017.254658%5D%2C%20%5B-91.00152%2C%2017.817595%5D%2C%20%5B-90.067934%2C%2017.819326%5D%2C%20%5B-89.14308%2C%2017.808319%5D%2C%20%5B-89.150806%2C%2017.015577%5D%2C%20%5B-89.229122%2C%2015.886938%5D%2C%20%5B-88.930613%2C%2015.887273%5D%2C%20%5B-88.604586%2C%2015.70638%5D%2C%20%5B-88.518364%2C%2015.855389%5D%2C%20%5B-88.225023%2C%2015.727722%5D%2C%20%5B-88.68068%2C%2015.346247%5D%2C%20%5B-89.154811%2C%2015.066419%5D%2C%20%5B-89.22522%2C%2014.874286%5D%2C%20%5B-89.145535%2C%2014.678019%5D%2C%20%5B-89.353326%2C%2014.424133%5D%2C%20%5B-89.587343%2C%2014.362586%5D%2C%20%5B-89.534219%2C%2014.244816%5D%2C%20%5B-89.721934%2C%2014.134228%5D%2C%20%5B-90.064678%2C%2013.88197%5D%2C%20%5B-90.095555%2C%2013.735338%5D%5D%5D%2C%20%22type%22%3A%20%22Polygon%22%7D%2C%20%22id%22%3A%20%22GTM%22%2C%20%22properties%22%3A%20%7B%22name%22%3A%20%22Guatemala%22%7D%2C%20%22type%22%3A%20%22Feature%22%7D%2C%20%7B%22geometry%22%3A%20%7B%22coordinates%22%3A%20%5B%5B%5B-59.758285%2C%208.367035%5D%2C%20%5B-59.101684%2C%207.999202%5D%2C%20%5B-58.482962%2C%207.347691%5D%2C%20%5B-58.454876%2C%206.832787%5D%2C%20%5B-58.078103%2C%206.809094%5D%2C%20%5B-57.542219%2C%206.321268%5D%2C%20%5B-57.147436%2C%205.97315%5D%2C%20%5B-57.307246%2C%205.073567%5D%2C%20%5B-57.914289%2C%204.812626%5D%2C%20%5B-57.86021%2C%204.576801%5D%2C%20%5B-58.044694%2C%204.060864%5D%2C%20%5B-57.601569%2C%203.334655%5D%2C%20%5B-57.281433%2C%203.333492%5D%2C%20%5B-57.150098%2C%202.768927%5D%2C%20%5B-56.539386%2C%201.899523%5D%2C%20%5B-56.782704%2C%201.863711%5D%2C%20%5B-57.335823%2C%201.948538%5D%2C%20%5B-57.660971%2C%201.682585%5D%2C%20%5B-58.11345%2C%201.507195%5D%2C%20%5B-58.429477%2C%201.463942%5D%2C%20%5B-58.540013%2C%201.268088%5D%2C%20%5B-59.030862%2C%201.317698%5D%2C%20%5B-59.646044%2C%201.786894%5D%2C%20%5B-59.718546%2C%202.24963%5D%2C%20%5B-59.974525%2C%202.755233%5D%2C%20%5B-59.815413%2C%203.606499%5D%2C%20%5B-59.53804%2C%203.958803%5D%2C%20%5B-59.767406%2C%204.423503%5D%2C%20%5B-60.111002%2C%204.574967%5D%2C%20%5B-59.980959%2C%205.014061%5D%2C%20%5B-60.213683%2C%205.244486%5D%2C%20%5B-60.733574%2C%205.200277%5D%2C%20%5B-61.410303%2C%205.959068%5D%2C%20%5B-61.139415%2C%206.234297%5D%2C%20%5B-61.159336%2C%206.696077%5D%2C%20%5B-60.543999%2C%206.856584%5D%2C%20%5B-60.295668%2C%207.043911%5D%2C%20%5B-60.637973%2C%207.415%5D%2C%20%5B-60.550588%2C%207.779603%5D%2C%20%5B-59.758285%2C%208.367035%5D%5D%5D%2C%20%22type%22%3A%20%22Polygon%22%7D%2C%20%22id%22%3A%20%22GUY%22%2C%20%22properties%22%3A%20%7B%22name%22%3A%20%22Guyana%22%7D%2C%20%22type%22%3A%20%22Feature%22%7D%2C%20%7B%22geometry%22%3A%20%7B%22coordinates%22%3A%20%5B%5B%5B-87.316654%2C%2012.984686%5D%2C%20%5B-87.489409%2C%2013.297535%5D%2C%20%5B-87.793111%2C%2013.38448%5D%2C%20%5B-87.723503%2C%2013.78505%5D%2C%20%5B-87.859515%2C%2013.893312%5D%2C%20%5B-88.065343%2C%2013.964626%5D%2C%20%5B-88.503998%2C%2013.845486%5D%2C%20%5B-88.541231%2C%2013.980155%5D%2C%20%5B-88.843073%2C%2014.140507%5D%2C%20%5B-89.058512%2C%2014.340029%5D%2C%20%5B-89.353326%2C%2014.424133%5D%2C%20%5B-89.145535%2C%2014.678019%5D%2C%20%5B-89.22522%2C%2014.874286%5D%2C%20%5B-89.154811%2C%2015.066419%5D%2C%20%5B-88.68068%2C%2015.346247%5D%2C%20%5B-88.225023%2C%2015.727722%5D%2C%20%5B-88.121153%2C%2015.688655%5D%2C%20%5B-87.901813%2C%2015.864458%5D%2C%20%5B-87.61568%2C%2015.878799%5D%2C%20%5B-87.522921%2C%2015.797279%5D%2C%20%5B-87.367762%2C%2015.84694%5D%2C%20%5B-86.903191%2C%2015.756713%5D%2C%20%5B-86.440946%2C%2015.782835%5D%2C%20%5B-86.119234%2C%2015.893449%5D%2C%20%5B-86.001954%2C%2016.005406%5D%2C%20%5B-85.683317%2C%2015.953652%5D%2C%20%5B-85.444004%2C%2015.885749%5D%2C%20%5B-85.182444%2C%2015.909158%5D%2C%20%5B-84.983722%2C%2015.995923%5D%2C%20%5B-84.52698%2C%2015.857224%5D%2C%20%5B-84.368256%2C%2015.835158%5D%2C%20%5B-84.063055%2C%2015.648244%5D%2C%20%5B-83.773977%2C%2015.424072%5D%2C%20%5B-83.410381%2C%2015.270903%5D%2C%20%5B-83.147219%2C%2014.995829%5D%2C%20%5B-83.489989%2C%2015.016267%5D%2C%20%5B-83.628585%2C%2014.880074%5D%2C%20%5B-83.975721%2C%2014.749436%5D%2C%20%5B-84.228342%2C%2014.748764%5D%2C%20%5B-84.449336%2C%2014.621614%5D%2C%20%5B-84.649582%2C%2014.666805%5D%2C%20%5B-84.820037%2C%2014.819587%5D%2C%20%5B-84.924501%2C%2014.790493%5D%2C%20%5B-85.052787%2C%2014.551541%5D%2C%20%5B-85.148751%2C%2014.560197%5D%2C%20%5B-85.165365%2C%2014.35437%5D%2C%20%5B-85.514413%2C%2014.079012%5D%2C%20%5B-85.698665%2C%2013.960078%5D%2C%20%5B-85.801295%2C%2013.836055%5D%2C%20%5B-86.096264%2C%2014.038187%5D%2C%20%5B-86.312142%2C%2013.771356%5D%2C%20%5B-86.520708%2C%2013.778487%5D%2C%20%5B-86.755087%2C%2013.754845%5D%2C%20%5B-86.733822%2C%2013.263093%5D%2C%20%5B-86.880557%2C%2013.254204%5D%2C%20%5B-87.005769%2C%2013.025794%5D%2C%20%5B-87.316654%2C%2012.984686%5D%5D%5D%2C%20%22type%22%3A%20%22Polygon%22%7D%2C%20%22id%22%3A%20%22HND%22%2C%20%22properties%22%3A%20%7B%22name%22%3A%20%22Honduras%22%7D%2C%20%22type%22%3A%20%22Feature%22%7D%2C%20%7B%22geometry%22%3A%20%7B%22coordinates%22%3A%20%5B%5B%5B18.829838%2C%2045.908878%5D%2C%20%5B19.072769%2C%2045.521511%5D%2C%20%5B19.390476%2C%2045.236516%5D%2C%20%5B19.005486%2C%2044.860234%5D%2C%20%5B18.553214%2C%2045.08159%5D%2C%20%5B17.861783%2C%2045.06774%5D%2C%20%5B17.002146%2C%2045.233777%5D%2C%20%5B16.534939%2C%2045.211608%5D%2C%20%5B16.318157%2C%2045.004127%5D%2C%20%5B15.959367%2C%2045.233777%5D%2C%20%5B15.750026%2C%2044.818712%5D%2C%20%5B16.23966%2C%2044.351143%5D%2C%20%5B16.456443%2C%2044.04124%5D%2C%20%5B16.916156%2C%2043.667722%5D%2C%20%5B17.297373%2C%2043.446341%5D%2C%20%5B17.674922%2C%2043.028563%5D%2C%20%5B18.56%2C%2042.65%5D%2C%20%5B18.450016%2C%2042.479991%5D%2C%20%5B17.50997%2C%2042.849995%5D%2C%20%5B16.930006%2C%2043.209998%5D%2C%20%5B16.015385%2C%2043.507215%5D%2C%20%5B15.174454%2C%2044.243191%5D%2C%20%5B15.37625%2C%2044.317915%5D%2C%20%5B14.920309%2C%2044.738484%5D%2C%20%5B14.901602%2C%2045.07606%5D%2C%20%5B14.258748%2C%2045.233777%5D%2C%20%5B13.952255%2C%2044.802124%5D%2C%20%5B13.656976%2C%2045.136935%5D%2C%20%5B13.679403%2C%2045.484149%5D%2C%20%5B13.71506%2C%2045.500324%5D%2C%20%5B14.411968%2C%2045.466166%5D%2C%20%5B14.595109%2C%2045.634941%5D%2C%20%5B14.935244%2C%2045.471695%5D%2C%20%5B15.327675%2C%2045.452316%5D%2C%20%5B15.323954%2C%2045.731783%5D%2C%20%5B15.67153%2C%2045.834154%5D%2C%20%5B15.768733%2C%2046.238108%5D%2C%20%5B16.564808%2C%2046.503751%5D%2C%20%5B16.882515%2C%2046.380632%5D%2C%20%5B17.630066%2C%2045.951769%5D%2C%20%5B18.456062%2C%2045.759481%5D%2C%20%5B18.829838%2C%2045.908878%5D%5D%5D%2C%20%22type%22%3A%20%22Polygon%22%7D%2C%20%22id%22%3A%20%22HRV%22%2C%20%22properties%22%3A%20%7B%22name%22%3A%20%22Croatia%22%7D%2C%20%22type%22%3A%20%22Feature%22%7D%2C%20%7B%22geometry%22%3A%20%7B%22coordinates%22%3A%20%5B%5B%5B-73.189791%2C%2019.915684%5D%2C%20%5B-72.579673%2C%2019.871501%5D%2C%20%5B-71.712361%2C%2019.714456%5D%2C%20%5B-71.624873%2C%2019.169838%5D%2C%20%5B-71.701303%2C%2018.785417%5D%2C%20%5B-71.945112%2C%2018.6169%5D%2C%20%5B-71.687738%2C%2018.31666%5D%2C%20%5B-71.708305%2C%2018.044997%5D%2C%20%5B-72.372476%2C%2018.214961%5D%2C%20%5B-72.844411%2C%2018.145611%5D%2C%20%5B-73.454555%2C%2018.217906%5D%2C%20%5B-73.922433%2C%2018.030993%5D%2C%20%5B-74.458034%2C%2018.34255%5D%2C%20%5B-74.369925%2C%2018.664908%5D%2C%20%5B-73.449542%2C%2018.526053%5D%2C%20%5B-72.694937%2C%2018.445799%5D%2C%20%5B-72.334882%2C%2018.668422%5D%2C%20%5B-72.79165%2C%2019.101625%5D%2C%20%5B-72.784105%2C%2019.483591%5D%2C%20%5B-73.415022%2C%2019.639551%5D%2C%20%5B-73.189791%2C%2019.915684%5D%5D%5D%2C%20%22type%22%3A%20%22Polygon%22%7D%2C%20%22id%22%3A%20%22HTI%22%2C%20%22properties%22%3A%20%7B%22name%22%3A%20%22Haiti%22%7D%2C%20%22type%22%3A%20%22Feature%22%7D%2C%20%7B%22geometry%22%3A%20%7B%22coordinates%22%3A%20%5B%5B%5B16.202298%2C%2046.852386%5D%2C%20%5B16.534268%2C%2047.496171%5D%2C%20%5B16.340584%2C%2047.712902%5D%2C%20%5B16.903754%2C%2047.714866%5D%2C%20%5B16.979667%2C%2048.123497%5D%2C%20%5B17.488473%2C%2047.867466%5D%2C%20%5B17.857133%2C%2047.758429%5D%2C%20%5B18.696513%2C%2047.880954%5D%2C%20%5B18.777025%2C%2048.081768%5D%2C%20%5B19.174365%2C%2048.111379%5D%2C%20%5B19.661364%2C%2048.266615%5D%2C%20%5B19.769471%2C%2048.202691%5D%2C%20%5B20.239054%2C%2048.327567%5D%2C%20%5B20.473562%2C%2048.56285%5D%2C%20%5B20.801294%2C%2048.623854%5D%2C%20%5B21.872236%2C%2048.319971%5D%2C%20%5B22.085608%2C%2048.422264%5D%2C%20%5B22.64082%2C%2048.15024%5D%2C%20%5B22.710531%2C%2047.882194%5D%2C%20%5B22.099768%2C%2047.672439%5D%2C%20%5B21.626515%2C%2046.994238%5D%2C%20%5B21.021952%2C%2046.316088%5D%2C%20%5B20.220192%2C%2046.127469%5D%2C%20%5B19.596045%2C%2046.17173%5D%2C%20%5B18.829838%2C%2045.908878%5D%2C%20%5B18.456062%2C%2045.759481%5D%2C%20%5B17.630066%2C%2045.951769%5D%2C%20%5B16.882515%2C%2046.380632%5D%2C%20%5B16.564808%2C%2046.503751%5D%2C%20%5B16.370505%2C%2046.841327%5D%2C%20%5B16.202298%2C%2046.852386%5D%5D%5D%2C%20%22type%22%3A%20%22Polygon%22%7D%2C%20%22id%22%3A%20%22HUN%22%2C%20%22properties%22%3A%20%7B%22name%22%3A%20%22Hungary%22%7D%2C%20%22type%22%3A%20%22Feature%22%7D%2C%20%7B%22geometry%22%3A%20%7B%22coordinates%22%3A%20%5B%5B%5B%5B120.715609%2C%20-10.239581%5D%2C%20%5B120.295014%2C%20-10.25865%5D%2C%20%5B118.967808%2C%20-9.557969%5D%2C%20%5B119.90031%2C%20-9.36134%5D%2C%20%5B120.425756%2C%20-9.665921%5D%2C%20%5B120.775502%2C%20-9.969675%5D%2C%20%5B120.715609%2C%20-10.239581%5D%5D%5D%2C%20%5B%5B%5B124.43595%2C%20-10.140001%5D%2C%20%5B123.579982%2C%20-10.359987%5D%2C%20%5B123.459989%2C%20-10.239995%5D%2C%20%5B123.550009%2C%20-9.900016%5D%2C%20%5B123.980009%2C%20-9.290027%5D%2C%20%5B124.968682%2C%20-8.89279%5D%2C%20%5B125.07002%2C%20-9.089987%5D%2C%20%5B125.08852%2C%20-9.393173%5D%2C%20%5B124.43595%2C%20-10.140001%5D%5D%5D%2C%20%5B%5B%5B117.900018%2C%20-8.095681%5D%2C%20%5B118.260616%2C%20-8.362383%5D%2C%20%5B118.87846%2C%20-8.280683%5D%2C%20%5B119.126507%2C%20-8.705825%5D%2C%20%5B117.970402%2C%20-8.906639%5D%2C%20%5B117.277731%2C%20-9.040895%5D%2C%20%5B116.740141%2C%20-9.032937%5D%2C%20%5B117.083737%2C%20-8.457158%5D%2C%20%5B117.632024%2C%20-8.449303%5D%2C%20%5B117.900018%2C%20-8.095681%5D%5D%5D%2C%20%5B%5B%5B122.903537%2C%20-8.094234%5D%2C%20%5B122.756983%2C%20-8.649808%5D%2C%20%5B121.254491%2C%20-8.933666%5D%2C%20%5B119.924391%2C%20-8.810418%5D%2C%20%5B119.920929%2C%20-8.444859%5D%2C%20%5B120.715092%2C%20-8.236965%5D%2C%20%5B121.341669%2C%20-8.53674%5D%2C%20%5B122.007365%2C%20-8.46062%5D%2C%20%5B122.903537%2C%20-8.094234%5D%5D%5D%2C%20%5B%5B%5B108.623479%2C%20-6.777674%5D%2C%20%5B110.539227%2C%20-6.877358%5D%2C%20%5B110.759576%2C%20-6.465186%5D%2C%20%5B112.614811%2C%20-6.946036%5D%2C%20%5B112.978768%2C%20-7.594213%5D%2C%20%5B114.478935%2C%20-7.776528%5D%2C%20%5B115.705527%2C%20-8.370807%5D%2C%20%5B114.564511%2C%20-8.751817%5D%2C%20%5B113.464734%2C%20-8.348947%5D%2C%20%5B112.559672%2C%20-8.376181%5D%2C%20%5B111.522061%2C%20-8.302129%5D%2C%20%5B110.58615%2C%20-8.122605%5D%2C%20%5B109.427667%2C%20-7.740664%5D%2C%20%5B108.693655%2C%20-7.6416%5D%2C%20%5B108.277763%2C%20-7.766657%5D%2C%20%5B106.454102%2C%20-7.3549%5D%2C%20%5B106.280624%2C%20-6.9249%5D%2C%20%5B105.365486%2C%20-6.851416%5D%2C%20%5B106.051646%2C%20-5.895919%5D%2C%20%5B107.265009%2C%20-5.954985%5D%2C%20%5B108.072091%2C%20-6.345762%5D%2C%20%5B108.486846%2C%20-6.421985%5D%2C%20%5B108.623479%2C%20-6.777674%5D%5D%5D%2C%20%5B%5B%5B134.724624%2C%20-6.214401%5D%2C%20%5B134.210134%2C%20-6.895238%5D%2C%20%5B134.112776%2C%20-6.142467%5D%2C%20%5B134.290336%2C%20-5.783058%5D%2C%20%5B134.499625%2C%20-5.445042%5D%2C%20%5B134.727002%2C%20-5.737582%5D%2C%20%5B134.724624%2C%20-6.214401%5D%5D%5D%2C%20%5B%5B%5B127.249215%2C%20-3.459065%5D%2C%20%5B126.874923%2C%20-3.790983%5D%2C%20%5B126.183802%2C%20-3.607376%5D%2C%20%5B125.989034%2C%20-3.177273%5D%2C%20%5B127.000651%2C%20-3.129318%5D%2C%20%5B127.249215%2C%20-3.459065%5D%5D%5D%2C%20%5B%5B%5B130.471344%2C%20-3.093764%5D%2C%20%5B130.834836%2C%20-3.858472%5D%2C%20%5B129.990547%2C%20-3.446301%5D%2C%20%5B129.155249%2C%20-3.362637%5D%2C%20%5B128.590684%2C%20-3.428679%5D%2C%20%5B127.898891%2C%20-3.393436%5D%2C%20%5B128.135879%2C%20-2.84365%5D%2C%20%5B129.370998%2C%20-2.802154%5D%2C%20%5B130.471344%2C%20-3.093764%5D%5D%5D%2C%20%5B%5B%5B134.143368%2C%20-1.151867%5D%2C%20%5B134.422627%2C%20-2.769185%5D%2C%20%5B135.457603%2C%20-3.367753%5D%2C%20%5B136.293314%2C%20-2.307042%5D%2C%20%5B137.440738%2C%20-1.703513%5D%2C%20%5B138.329727%2C%20-1.702686%5D%2C%20%5B139.184921%2C%20-2.051296%5D%2C%20%5B139.926684%2C%20-2.409052%5D%2C%20%5B141.00021%2C%20-2.600151%5D%2C%20%5B141.017057%2C%20-5.859022%5D%2C%20%5B141.033852%2C%20-9.117893%5D%2C%20%5B140.143415%2C%20-8.297168%5D%2C%20%5B139.127767%2C%20-8.096043%5D%2C%20%5B138.881477%2C%20-8.380935%5D%2C%20%5B137.614474%2C%20-8.411683%5D%2C%20%5B138.039099%2C%20-7.597882%5D%2C%20%5B138.668621%2C%20-7.320225%5D%2C%20%5B138.407914%2C%20-6.232849%5D%2C%20%5B137.92784%2C%20-5.393366%5D%2C%20%5B135.98925%2C%20-4.546544%5D%2C%20%5B135.164598%2C%20-4.462931%5D%2C%20%5B133.66288%2C%20-3.538853%5D%2C%20%5B133.367705%2C%20-4.024819%5D%2C%20%5B132.983956%2C%20-4.112979%5D%2C%20%5B132.756941%2C%20-3.746283%5D%2C%20%5B132.753789%2C%20-3.311787%5D%2C%20%5B131.989804%2C%20-2.820551%5D%2C%20%5B133.066845%2C%20-2.460418%5D%2C%20%5B133.780031%2C%20-2.479848%5D%2C%20%5B133.696212%2C%20-2.214542%5D%2C%20%5B132.232373%2C%20-2.212526%5D%2C%20%5B131.836222%2C%20-1.617162%5D%2C%20%5B130.94284%2C%20-1.432522%5D%2C%20%5B130.519558%2C%20-0.93772%5D%2C%20%5B131.867538%2C%20-0.695461%5D%2C%20%5B132.380116%2C%20-0.369538%5D%2C%20%5B133.985548%2C%20-0.78021%5D%2C%20%5B134.143368%2C%20-1.151867%5D%5D%5D%2C%20%5B%5B%5B125.240501%2C%201.419836%5D%2C%20%5B124.437035%2C%200.427881%5D%2C%20%5B123.685505%2C%200.235593%5D%2C%20%5B122.723083%2C%200.431137%5D%2C%20%5B121.056725%2C%200.381217%5D%2C%20%5B120.183083%2C%200.237247%5D%2C%20%5B120.04087%2C%20-0.519658%5D%2C%20%5B120.935905%2C%20-1.408906%5D%2C%20%5B121.475821%2C%20-0.955962%5D%2C%20%5B123.340565%2C%20-0.615673%5D%2C%20%5B123.258399%2C%20-1.076213%5D%2C%20%5B122.822715%2C%20-0.930951%5D%2C%20%5B122.38853%2C%20-1.516858%5D%2C%20%5B121.508274%2C%20-1.904483%5D%2C%20%5B122.454572%2C%20-3.186058%5D%2C%20%5B122.271896%2C%20-3.5295%5D%2C%20%5B123.170963%2C%20-4.683693%5D%2C%20%5B123.162333%2C%20-5.340604%5D%2C%20%5B122.628515%2C%20-5.634591%5D%2C%20%5B122.236394%2C%20-5.282933%5D%2C%20%5B122.719569%2C%20-4.464172%5D%2C%20%5B121.738234%2C%20-4.851331%5D%2C%20%5B121.489463%2C%20-4.574553%5D%2C%20%5B121.619171%2C%20-4.188478%5D%2C%20%5B120.898182%2C%20-3.602105%5D%2C%20%5B120.972389%2C%20-2.627643%5D%2C%20%5B120.305453%2C%20-2.931604%5D%2C%20%5B120.390047%2C%20-4.097579%5D%2C%20%5B120.430717%2C%20-5.528241%5D%2C%20%5B119.796543%2C%20-5.6734%5D%2C%20%5B119.366906%2C%20-5.379878%5D%2C%20%5B119.653606%2C%20-4.459417%5D%2C%20%5B119.498835%2C%20-3.494412%5D%2C%20%5B119.078344%2C%20-3.487022%5D%2C%20%5B118.767769%2C%20-2.801999%5D%2C%20%5B119.180974%2C%20-2.147104%5D%2C%20%5B119.323394%2C%20-1.353147%5D%2C%20%5B119.825999%2C%200.154254%5D%2C%20%5B120.035702%2C%200.566477%5D%2C%20%5B120.885779%2C%201.309223%5D%2C%20%5B121.666817%2C%201.013944%5D%2C%20%5B122.927567%2C%200.875192%5D%2C%20%5B124.077522%2C%200.917102%5D%2C%20%5B125.065989%2C%201.643259%5D%2C%20%5B125.240501%2C%201.419836%5D%5D%5D%2C%20%5B%5B%5B128.688249%2C%201.132386%5D%2C%20%5B128.635952%2C%200.258486%5D%2C%20%5B128.12017%2C%200.356413%5D%2C%20%5B127.968034%2C%20-0.252077%5D%2C%20%5B128.379999%2C%20-0.780004%5D%2C%20%5B128.100016%2C%20-0.899996%5D%2C%20%5B127.696475%2C%20-0.266598%5D%2C%20%5B127.39949%2C%201.011722%5D%2C%20%5B127.600512%2C%201.810691%5D%2C%20%5B127.932378%2C%202.174596%5D%2C%20%5B128.004156%2C%201.628531%5D%2C%20%5B128.594559%2C%201.540811%5D%2C%20%5B128.688249%2C%201.132386%5D%5D%5D%2C%20%5B%5B%5B117.875627%2C%201.827641%5D%2C%20%5B118.996747%2C%200.902219%5D%2C%20%5B117.811858%2C%200.784242%5D%2C%20%5B117.478339%2C%200.102475%5D%2C%20%5B117.521644%2C%20-0.803723%5D%2C%20%5B116.560048%2C%20-1.487661%5D%2C%20%5B116.533797%2C%20-2.483517%5D%2C%20%5B116.148084%2C%20-4.012726%5D%2C%20%5B116.000858%2C%20-3.657037%5D%2C%20%5B114.864803%2C%20-4.106984%5D%2C%20%5B114.468652%2C%20-3.495704%5D%2C%20%5B113.755672%2C%20-3.43917%5D%2C%20%5B113.256994%2C%20-3.118776%5D%2C%20%5B112.068126%2C%20-3.478392%5D%2C%20%5B111.703291%2C%20-2.994442%5D%2C%20%5B111.04824%2C%20-3.049426%5D%2C%20%5B110.223846%2C%20-2.934032%5D%2C%20%5B110.070936%2C%20-1.592874%5D%2C%20%5B109.571948%2C%20-1.314907%5D%2C%20%5B109.091874%2C%20-0.459507%5D%2C%20%5B108.952658%2C%200.415375%5D%2C%20%5B109.069136%2C%201.341934%5D%2C%20%5B109.66326%2C%202.006467%5D%2C%20%5B109.830227%2C%201.338136%5D%2C%20%5B110.514061%2C%200.773131%5D%2C%20%5B111.159138%2C%200.976478%5D%2C%20%5B111.797548%2C%200.904441%5D%2C%20%5B112.380252%2C%201.410121%5D%2C%20%5B112.859809%2C%201.49779%5D%2C%20%5B113.80585%2C%201.217549%5D%2C%20%5B114.621355%2C%201.430688%5D%2C%20%5B115.134037%2C%202.821482%5D%2C%20%5B115.519078%2C%203.169238%5D%2C%20%5B115.865517%2C%204.306559%5D%2C%20%5B117.015214%2C%204.306094%5D%2C%20%5B117.882035%2C%204.137551%5D%2C%20%5B117.313232%2C%203.234428%5D%2C%20%5B118.04833%2C%202.28769%5D%2C%20%5B117.875627%2C%201.827641%5D%5D%5D%2C%20%5B%5B%5B105.817655%2C%20-5.852356%5D%2C%20%5B104.710384%2C%20-5.873285%5D%2C%20%5B103.868213%2C%20-5.037315%5D%2C%20%5B102.584261%2C%20-4.220259%5D%2C%20%5B102.156173%2C%20-3.614146%5D%2C%20%5B101.399113%2C%20-2.799777%5D%2C%20%5B100.902503%2C%20-2.050262%5D%2C%20%5B100.141981%2C%20-0.650348%5D%2C%20%5B99.26374%2C%200.183142%5D%2C%20%5B98.970011%2C%201.042882%5D%2C%20%5B98.601351%2C%201.823507%5D%2C%20%5B97.699598%2C%202.453184%5D%2C%20%5B97.176942%2C%203.308791%5D%2C%20%5B96.424017%2C%203.86886%5D%2C%20%5B95.380876%2C%204.970782%5D%2C%20%5B95.293026%2C%205.479821%5D%2C%20%5B95.936863%2C%205.439513%5D%2C%20%5B97.484882%2C%205.246321%5D%2C%20%5B98.369169%2C%204.26837%5D%2C%20%5B99.142559%2C%203.59035%5D%2C%20%5B99.693998%2C%203.174329%5D%2C%20%5B100.641434%2C%202.099381%5D%2C%20%5B101.658012%2C%202.083697%5D%2C%20%5B102.498271%2C%201.3987%5D%2C%20%5B103.07684%2C%200.561361%5D%2C%20%5B103.838396%2C%200.104542%5D%2C%20%5B103.437645%2C%20-0.711946%5D%2C%20%5B104.010789%2C%20-1.059212%5D%2C%20%5B104.369991%2C%20-1.084843%5D%2C%20%5B104.53949%2C%20-1.782372%5D%2C%20%5B104.887893%2C%20-2.340425%5D%2C%20%5B105.622111%2C%20-2.428844%5D%2C%20%5B106.108593%2C%20-3.061777%5D%2C%20%5B105.857446%2C%20-4.305525%5D%2C%20%5B105.817655%2C%20-5.852356%5D%5D%5D%5D%2C%20%22type%22%3A%20%22MultiPolygon%22%7D%2C%20%22id%22%3A%20%22IDN%22%2C%20%22properties%22%3A%20%7B%22name%22%3A%20%22Indonesia%22%7D%2C%20%22type%22%3A%20%22Feature%22%7D%2C%20%7B%22geometry%22%3A%20%7B%22coordinates%22%3A%20%5B%5B%5B77.837451%2C%2035.49401%5D%2C%20%5B78.912269%2C%2034.321936%5D%2C%20%5B78.811086%2C%2033.506198%5D%2C%20%5B79.208892%2C%2032.994395%5D%2C%20%5B79.176129%2C%2032.48378%5D%2C%20%5B78.458446%2C%2032.618164%5D%2C%20%5B78.738894%2C%2031.515906%5D%2C%20%5B79.721367%2C%2030.882715%5D%2C%20%5B81.111256%2C%2030.183481%5D%2C%20%5B80.476721%2C%2029.729865%5D%2C%20%5B80.088425%2C%2028.79447%5D%2C%20%5B81.057203%2C%2028.416095%5D%2C%20%5B81.999987%2C%2027.925479%5D%2C%20%5B83.304249%2C%2027.364506%5D%2C%20%5B84.675018%2C%2027.234901%5D%2C%20%5B85.251779%2C%2026.726198%5D%2C%20%5B86.024393%2C%2026.630985%5D%2C%20%5B87.227472%2C%2026.397898%5D%2C%20%5B88.060238%2C%2026.414615%5D%2C%20%5B88.174804%2C%2026.810405%5D%2C%20%5B88.043133%2C%2027.445819%5D%2C%20%5B88.120441%2C%2027.876542%5D%2C%20%5B88.730326%2C%2028.086865%5D%2C%20%5B88.814248%2C%2027.299316%5D%2C%20%5B88.835643%2C%2027.098966%5D%2C%20%5B89.744528%2C%2026.719403%5D%2C%20%5B90.373275%2C%2026.875724%5D%2C%20%5B91.217513%2C%2026.808648%5D%2C%20%5B92.033484%2C%2026.83831%5D%2C%20%5B92.103712%2C%2027.452614%5D%2C%20%5B91.696657%2C%2027.771742%5D%2C%20%5B92.503119%2C%2027.896876%5D%2C%20%5B93.413348%2C%2028.640629%5D%2C%20%5B94.56599%2C%2029.277438%5D%2C%20%5B95.404802%2C%2029.031717%5D%2C%20%5B96.117679%2C%2029.452802%5D%2C%20%5B96.586591%2C%2028.83098%5D%2C%20%5B96.248833%2C%2028.411031%5D%2C%20%5B97.327114%2C%2028.261583%5D%2C%20%5B97.402561%2C%2027.882536%5D%2C%20%5B97.051989%2C%2027.699059%5D%2C%20%5B97.133999%2C%2027.083774%5D%2C%20%5B96.419366%2C%2027.264589%5D%2C%20%5B95.124768%2C%2026.573572%5D%2C%20%5B95.155153%2C%2026.001307%5D%2C%20%5B94.603249%2C%2025.162495%5D%2C%20%5B94.552658%2C%2024.675238%5D%2C%20%5B94.106742%2C%2023.850741%5D%2C%20%5B93.325188%2C%2024.078556%5D%2C%20%5B93.286327%2C%2023.043658%5D%2C%20%5B93.060294%2C%2022.703111%5D%2C%20%5B93.166128%2C%2022.27846%5D%2C%20%5B92.672721%2C%2022.041239%5D%2C%20%5B92.146035%2C%2023.627499%5D%2C%20%5B91.869928%2C%2023.624346%5D%2C%20%5B91.706475%2C%2022.985264%5D%2C%20%5B91.158963%2C%2023.503527%5D%2C%20%5B91.46773%2C%2024.072639%5D%2C%20%5B91.915093%2C%2024.130414%5D%2C%20%5B92.376202%2C%2024.976693%5D%2C%20%5B91.799596%2C%2025.147432%5D%2C%20%5B90.872211%2C%2025.132601%5D%2C%20%5B89.920693%2C%2025.26975%5D%2C%20%5B89.832481%2C%2025.965082%5D%2C%20%5B89.355094%2C%2026.014407%5D%2C%20%5B88.563049%2C%2026.446526%5D%2C%20%5B88.209789%2C%2025.768066%5D%2C%20%5B88.931554%2C%2025.238692%5D%2C%20%5B88.306373%2C%2024.866079%5D%2C%20%5B88.084422%2C%2024.501657%5D%2C%20%5B88.69994%2C%2024.233715%5D%2C%20%5B88.52977%2C%2023.631142%5D%2C%20%5B88.876312%2C%2022.879146%5D%2C%20%5B89.031961%2C%2022.055708%5D%2C%20%5B88.888766%2C%2021.690588%5D%2C%20%5B88.208497%2C%2021.703172%5D%2C%20%5B86.975704%2C%2021.495562%5D%2C%20%5B87.033169%2C%2020.743308%5D%2C%20%5B86.499351%2C%2020.151638%5D%2C%20%5B85.060266%2C%2019.478579%5D%2C%20%5B83.941006%2C%2018.30201%5D%2C%20%5B83.189217%2C%2017.671221%5D%2C%20%5B82.192792%2C%2017.016636%5D%2C%20%5B82.191242%2C%2016.556664%5D%2C%20%5B81.692719%2C%2016.310219%5D%2C%20%5B80.791999%2C%2015.951972%5D%2C%20%5B80.324896%2C%2015.899185%5D%2C%20%5B80.025069%2C%2015.136415%5D%2C%20%5B80.233274%2C%2013.835771%5D%2C%20%5B80.286294%2C%2013.006261%5D%2C%20%5B79.862547%2C%2012.056215%5D%2C%20%5B79.857999%2C%2010.357275%5D%2C%20%5B79.340512%2C%2010.308854%5D%2C%20%5B78.885345%2C%209.546136%5D%2C%20%5B79.18972%2C%209.216544%5D%2C%20%5B78.277941%2C%208.933047%5D%2C%20%5B77.941165%2C%208.252959%5D%2C%20%5B77.539898%2C%207.965535%5D%2C%20%5B76.592979%2C%208.899276%5D%2C%20%5B76.130061%2C%2010.29963%5D%2C%20%5B75.746467%2C%2011.308251%5D%2C%20%5B75.396101%2C%2011.781245%5D%2C%20%5B74.864816%2C%2012.741936%5D%2C%20%5B74.616717%2C%2013.992583%5D%2C%20%5B74.443859%2C%2014.617222%5D%2C%20%5B73.534199%2C%2015.990652%5D%2C%20%5B73.119909%2C%2017.92857%5D%2C%20%5B72.820909%2C%2019.208234%5D%2C%20%5B72.824475%2C%2020.419503%5D%2C%20%5B72.630533%2C%2021.356009%5D%2C%20%5B71.175273%2C%2020.757441%5D%2C%20%5B70.470459%2C%2020.877331%5D%2C%20%5B69.16413%2C%2022.089298%5D%2C%20%5B69.644928%2C%2022.450775%5D%2C%20%5B69.349597%2C%2022.84318%5D%2C%20%5B68.176645%2C%2023.691965%5D%2C%20%5B68.842599%2C%2024.359134%5D%2C%20%5B71.04324%2C%2024.356524%5D%2C%20%5B70.844699%2C%2025.215102%5D%2C%20%5B70.282873%2C%2025.722229%5D%2C%20%5B70.168927%2C%2026.491872%5D%2C%20%5B69.514393%2C%2026.940966%5D%2C%20%5B70.616496%2C%2027.989196%5D%2C%20%5B71.777666%2C%2027.91318%5D%2C%20%5B72.823752%2C%2028.961592%5D%2C%20%5B73.450638%2C%2029.976413%5D%2C%20%5B74.42138%2C%2030.979815%5D%2C%20%5B74.405929%2C%2031.692639%5D%2C%20%5B75.258642%2C%2032.271105%5D%2C%20%5B74.451559%2C%2032.7649%5D%2C%20%5B74.104294%2C%2033.441473%5D%2C%20%5B73.749948%2C%2034.317699%5D%2C%20%5B74.240203%2C%2034.748887%5D%2C%20%5B75.757061%2C%2034.504923%5D%2C%20%5B76.871722%2C%2034.653544%5D%2C%20%5B77.837451%2C%2035.49401%5D%5D%5D%2C%20%22type%22%3A%20%22Polygon%22%7D%2C%20%22id%22%3A%20%22IND%22%2C%20%22properties%22%3A%20%7B%22name%22%3A%20%22India%22%7D%2C%20%22type%22%3A%20%22Feature%22%7D%2C%20%7B%22geometry%22%3A%20%7B%22coordinates%22%3A%20%5B%5B%5B-6.197885%2C%2053.867565%5D%2C%20%5B-6.032985%2C%2053.153164%5D%2C%20%5B-6.788857%2C%2052.260118%5D%2C%20%5B-8.561617%2C%2051.669301%5D%2C%20%5B-9.977086%2C%2051.820455%5D%2C%20%5B-9.166283%2C%2052.864629%5D%2C%20%5B-9.688525%2C%2053.881363%5D%2C%20%5B-8.327987%2C%2054.664519%5D%2C%20%5B-7.572168%2C%2055.131622%5D%2C%20%5B-7.366031%2C%2054.595841%5D%2C%20%5B-7.572168%2C%2054.059956%5D%2C%20%5B-6.95373%2C%2054.073702%5D%2C%20%5B-6.197885%2C%2053.867565%5D%5D%5D%2C%20%22type%22%3A%20%22Polygon%22%7D%2C%20%22id%22%3A%20%22IRL%22%2C%20%22properties%22%3A%20%7B%22name%22%3A%20%22Ireland%22%7D%2C%20%22type%22%3A%20%22Feature%22%7D%2C%20%7B%22geometry%22%3A%20%7B%22coordinates%22%3A%20%5B%5B%5B53.921598%2C%2037.198918%5D%2C%20%5B54.800304%2C%2037.392421%5D%2C%20%5B55.511578%2C%2037.964117%5D%2C%20%5B56.180375%2C%2037.935127%5D%2C%20%5B56.619366%2C%2038.121394%5D%2C%20%5B57.330434%2C%2038.029229%5D%2C%20%5B58.436154%2C%2037.522309%5D%2C%20%5B59.234762%2C%2037.412988%5D%2C%20%5B60.377638%2C%2036.527383%5D%2C%20%5B61.123071%2C%2036.491597%5D%2C%20%5B61.210817%2C%2035.650072%5D%2C%20%5B60.803193%2C%2034.404102%5D%2C%20%5B60.52843%2C%2033.676446%5D%2C%20%5B60.9637%2C%2033.528832%5D%2C%20%5B60.536078%2C%2032.981269%5D%2C%20%5B60.863655%2C%2032.18292%5D%2C%20%5B60.941945%2C%2031.548075%5D%2C%20%5B61.699314%2C%2031.379506%5D%2C%20%5B61.781222%2C%2030.73585%5D%2C%20%5B60.874248%2C%2029.829239%5D%2C%20%5B61.369309%2C%2029.303276%5D%2C%20%5B61.771868%2C%2028.699334%5D%2C%20%5B62.72783%2C%2028.259645%5D%2C%20%5B62.755426%2C%2027.378923%5D%2C%20%5B63.233898%2C%2027.217047%5D%2C%20%5B63.316632%2C%2026.756532%5D%2C%20%5B61.874187%2C%2026.239975%5D%2C%20%5B61.497363%2C%2025.078237%5D%2C%20%5B59.616134%2C%2025.380157%5D%2C%20%5B58.525761%2C%2025.609962%5D%2C%20%5B57.397251%2C%2025.739902%5D%2C%20%5B56.970766%2C%2026.966106%5D%2C%20%5B56.492139%2C%2027.143305%5D%2C%20%5B55.72371%2C%2026.964633%5D%2C%20%5B54.71509%2C%2026.480658%5D%2C%20%5B53.493097%2C%2026.812369%5D%2C%20%5B52.483598%2C%2027.580849%5D%2C%20%5B51.520763%2C%2027.86569%5D%2C%20%5B50.852948%2C%2028.814521%5D%2C%20%5B50.115009%2C%2030.147773%5D%2C%20%5B49.57685%2C%2029.985715%5D%2C%20%5B48.941333%2C%2030.31709%5D%2C%20%5B48.567971%2C%2029.926778%5D%2C%20%5B48.014568%2C%2030.452457%5D%2C%20%5B48.004698%2C%2030.985137%5D%2C%20%5B47.685286%2C%2030.984853%5D%2C%20%5B47.849204%2C%2031.709176%5D%2C%20%5B47.334661%2C%2032.469155%5D%2C%20%5B46.109362%2C%2033.017287%5D%2C%20%5B45.416691%2C%2033.967798%5D%2C%20%5B45.64846%2C%2034.748138%5D%2C%20%5B46.151788%2C%2035.093259%5D%2C%20%5B46.07634%2C%2035.677383%5D%2C%20%5B45.420618%2C%2035.977546%5D%2C%20%5B44.77267%2C%2037.17045%5D%2C%20%5B44.225756%2C%2037.971584%5D%2C%20%5B44.421403%2C%2038.281281%5D%2C%20%5B44.109225%2C%2039.428136%5D%2C%20%5B44.79399%2C%2039.713003%5D%2C%20%5B44.952688%2C%2039.335765%5D%2C%20%5B45.457722%2C%2038.874139%5D%2C%20%5B46.143623%2C%2038.741201%5D%2C%20%5B46.50572%2C%2038.770605%5D%2C%20%5B47.685079%2C%2039.508364%5D%2C%20%5B48.060095%2C%2039.582235%5D%2C%20%5B48.355529%2C%2039.288765%5D%2C%20%5B48.010744%2C%2038.794015%5D%2C%20%5B48.634375%2C%2038.270378%5D%2C%20%5B48.883249%2C%2038.320245%5D%2C%20%5B49.199612%2C%2037.582874%5D%2C%20%5B50.147771%2C%2037.374567%5D%2C%20%5B50.842354%2C%2036.872814%5D%2C%20%5B52.264025%2C%2036.700422%5D%2C%20%5B53.82579%2C%2036.965031%5D%2C%20%5B53.921598%2C%2037.198918%5D%5D%5D%2C%20%22type%22%3A%20%22Polygon%22%7D%2C%20%22id%22%3A%20%22IRN%22%2C%20%22properties%22%3A%20%7B%22name%22%3A%20%22Iran%22%7D%2C%20%22type%22%3A%20%22Feature%22%7D%2C%20%7B%22geometry%22%3A%20%7B%22coordinates%22%3A%20%5B%5B%5B45.420618%2C%2035.977546%5D%2C%20%5B46.07634%2C%2035.677383%5D%2C%20%5B46.151788%2C%2035.093259%5D%2C%20%5B45.64846%2C%2034.748138%5D%2C%20%5B45.416691%2C%2033.967798%5D%2C%20%5B46.109362%2C%2033.017287%5D%2C%20%5B47.334661%2C%2032.469155%5D%2C%20%5B47.849204%2C%2031.709176%5D%2C%20%5B47.685286%2C%2030.984853%5D%2C%20%5B48.004698%2C%2030.985137%5D%2C%20%5B48.014568%2C%2030.452457%5D%2C%20%5B48.567971%2C%2029.926778%5D%2C%20%5B47.974519%2C%2029.975819%5D%2C%20%5B47.302622%2C%2030.05907%5D%2C%20%5B46.568713%2C%2029.099025%5D%2C%20%5B44.709499%2C%2029.178891%5D%2C%20%5B41.889981%2C%2031.190009%5D%2C%20%5B40.399994%2C%2031.889992%5D%2C%20%5B39.195468%2C%2032.161009%5D%2C%20%5B38.792341%2C%2033.378686%5D%2C%20%5B41.006159%2C%2034.419372%5D%2C%20%5B41.383965%2C%2035.628317%5D%2C%20%5B41.289707%2C%2036.358815%5D%2C%20%5B41.837064%2C%2036.605854%5D%2C%20%5B42.349591%2C%2037.229873%5D%2C%20%5B42.779126%2C%2037.385264%5D%2C%20%5B43.942259%2C%2037.256228%5D%2C%20%5B44.293452%2C%2037.001514%5D%2C%20%5B44.772699%2C%2037.170445%5D%2C%20%5B45.420618%2C%2035.977546%5D%5D%5D%2C%20%22type%22%3A%20%22Polygon%22%7D%2C%20%22id%22%3A%20%22IRQ%22%2C%20%22properties%22%3A%20%7B%22name%22%3A%20%22Iraq%22%7D%2C%20%22type%22%3A%20%22Feature%22%7D%2C%20%7B%22geometry%22%3A%20%7B%22coordinates%22%3A%20%5B%5B%5B-14.508695%2C%2066.455892%5D%2C%20%5B-14.739637%2C%2065.808748%5D%2C%20%5B-13.609732%2C%2065.126671%5D%2C%20%5B-14.909834%2C%2064.364082%5D%2C%20%5B-17.794438%2C%2063.678749%5D%2C%20%5B-18.656246%2C%2063.496383%5D%2C%20%5B-19.972755%2C%2063.643635%5D%2C%20%5B-22.762972%2C%2063.960179%5D%2C%20%5B-21.778484%2C%2064.402116%5D%2C%20%5B-23.955044%2C%2064.89113%5D%2C%20%5B-22.184403%2C%2065.084968%5D%2C%20%5B-22.227423%2C%2065.378594%5D%2C%20%5B-24.326184%2C%2065.611189%5D%2C%20%5B-23.650515%2C%2066.262519%5D%2C%20%5B-22.134922%2C%2066.410469%5D%2C%20%5B-20.576284%2C%2065.732112%5D%2C%20%5B-19.056842%2C%2066.276601%5D%2C%20%5B-17.798624%2C%2065.993853%5D%2C%20%5B-16.167819%2C%2066.526792%5D%2C%20%5B-14.508695%2C%2066.455892%5D%5D%5D%2C%20%22type%22%3A%20%22Polygon%22%7D%2C%20%22id%22%3A%20%22ISL%22%2C%20%22properties%22%3A%20%7B%22name%22%3A%20%22Iceland%22%7D%2C%20%22type%22%3A%20%22Feature%22%7D%2C%20%7B%22geometry%22%3A%20%7B%22coordinates%22%3A%20%5B%5B%5B35.719918%2C%2032.709192%5D%2C%20%5B35.545665%2C%2032.393992%5D%2C%20%5B35.18393%2C%2032.532511%5D%2C%20%5B34.974641%2C%2031.866582%5D%2C%20%5B35.225892%2C%2031.754341%5D%2C%20%5B34.970507%2C%2031.616778%5D%2C%20%5B34.927408%2C%2031.353435%5D%2C%20%5B35.397561%2C%2031.489086%5D%2C%20%5B35.420918%2C%2031.100066%5D%2C%20%5B34.922603%2C%2029.501326%5D%2C%20%5B34.265433%2C%2031.219361%5D%2C%20%5B34.556372%2C%2031.548824%5D%2C%20%5B34.488107%2C%2031.605539%5D%2C%20%5B34.752587%2C%2032.072926%5D%2C%20%5B34.955417%2C%2032.827376%5D%2C%20%5B35.098457%2C%2033.080539%5D%2C%20%5B35.126053%2C%2033.0909%5D%2C%20%5B35.460709%2C%2033.08904%5D%2C%20%5B35.552797%2C%2033.264275%5D%2C%20%5B35.821101%2C%2033.277426%5D%2C%20%5B35.836397%2C%2032.868123%5D%2C%20%5B35.700798%2C%2032.716014%5D%2C%20%5B35.719918%2C%2032.709192%5D%5D%5D%2C%20%22type%22%3A%20%22Polygon%22%7D%2C%20%22id%22%3A%20%22ISR%22%2C%20%22properties%22%3A%20%7B%22name%22%3A%20%22Israel%22%7D%2C%20%22type%22%3A%20%22Feature%22%7D%2C%20%7B%22geometry%22%3A%20%7B%22coordinates%22%3A%20%5B%5B%5B%5B15.520376%2C%2038.231155%5D%2C%20%5B15.160243%2C%2037.444046%5D%2C%20%5B15.309898%2C%2037.134219%5D%2C%20%5B15.099988%2C%2036.619987%5D%2C%20%5B14.335229%2C%2036.996631%5D%2C%20%5B13.826733%2C%2037.104531%5D%2C%20%5B12.431004%2C%2037.61295%5D%2C%20%5B12.570944%2C%2038.126381%5D%2C%20%5B13.741156%2C%2038.034966%5D%2C%20%5B14.761249%2C%2038.143874%5D%2C%20%5B15.520376%2C%2038.231155%5D%5D%5D%2C%20%5B%5B%5B9.210012%2C%2041.209991%5D%2C%20%5B9.809975%2C%2040.500009%5D%2C%20%5B9.669519%2C%2039.177376%5D%2C%20%5B9.214818%2C%2039.240473%5D%2C%20%5B8.806936%2C%2038.906618%5D%2C%20%5B8.428302%2C%2039.171847%5D%2C%20%5B8.388253%2C%2040.378311%5D%2C%20%5B8.159998%2C%2040.950007%5D%2C%20%5B8.709991%2C%2040.899984%5D%2C%20%5B9.210012%2C%2041.209991%5D%5D%5D%2C%20%5B%5B%5B12.376485%2C%2046.767559%5D%2C%20%5B13.806475%2C%2046.509306%5D%2C%20%5B13.69811%2C%2046.016778%5D%2C%20%5B13.93763%2C%2045.591016%5D%2C%20%5B13.141606%2C%2045.736692%5D%2C%20%5B12.328581%2C%2045.381778%5D%2C%20%5B12.383875%2C%2044.885374%5D%2C%20%5B12.261453%2C%2044.600482%5D%2C%20%5B12.589237%2C%2044.091366%5D%2C%20%5B13.526906%2C%2043.587727%5D%2C%20%5B14.029821%2C%2042.761008%5D%2C%20%5B15.14257%2C%2041.95514%5D%2C%20%5B15.926191%2C%2041.961315%5D%2C%20%5B16.169897%2C%2041.740295%5D%2C%20%5B15.889346%2C%2041.541082%5D%2C%20%5B16.785002%2C%2041.179606%5D%2C%20%5B17.519169%2C%2040.877143%5D%2C%20%5B18.376687%2C%2040.355625%5D%2C%20%5B18.480247%2C%2040.168866%5D%2C%20%5B18.293385%2C%2039.810774%5D%2C%20%5B17.73838%2C%2040.277671%5D%2C%20%5B16.869596%2C%2040.442235%5D%2C%20%5B16.448743%2C%2039.795401%5D%2C%20%5B17.17149%2C%2039.4247%5D%2C%20%5B17.052841%2C%2038.902871%5D%2C%20%5B16.635088%2C%2038.843572%5D%2C%20%5B16.100961%2C%2037.985899%5D%2C%20%5B15.684087%2C%2037.908849%5D%2C%20%5B15.687963%2C%2038.214593%5D%2C%20%5B15.891981%2C%2038.750942%5D%2C%20%5B16.109332%2C%2038.964547%5D%2C%20%5B15.718814%2C%2039.544072%5D%2C%20%5B15.413613%2C%2040.048357%5D%2C%20%5B14.998496%2C%2040.172949%5D%2C%20%5B14.703268%2C%2040.60455%5D%2C%20%5B14.060672%2C%2040.786348%5D%2C%20%5B13.627985%2C%2041.188287%5D%2C%20%5B12.888082%2C%2041.25309%5D%2C%20%5B12.106683%2C%2041.704535%5D%2C%20%5B11.191906%2C%2042.355425%5D%2C%20%5B10.511948%2C%2042.931463%5D%2C%20%5B10.200029%2C%2043.920007%5D%2C%20%5B9.702488%2C%2044.036279%5D%2C%20%5B8.888946%2C%2044.366336%5D%2C%20%5B8.428561%2C%2044.231228%5D%2C%20%5B7.850767%2C%2043.767148%5D%2C%20%5B7.435185%2C%2043.693845%5D%2C%20%5B7.549596%2C%2044.127901%5D%2C%20%5B7.007562%2C%2044.254767%5D%2C%20%5B6.749955%2C%2045.028518%5D%2C%20%5B7.096652%2C%2045.333099%5D%2C%20%5B6.802355%2C%2045.70858%5D%2C%20%5B6.843593%2C%2045.991147%5D%2C%20%5B7.273851%2C%2045.776948%5D%2C%20%5B7.755992%2C%2045.82449%5D%2C%20%5B8.31663%2C%2046.163642%5D%2C%20%5B8.489952%2C%2046.005151%5D%2C%20%5B8.966306%2C%2046.036932%5D%2C%20%5B9.182882%2C%2046.440215%5D%2C%20%5B9.922837%2C%2046.314899%5D%2C%20%5B10.363378%2C%2046.483571%5D%2C%20%5B10.442701%2C%2046.893546%5D%2C%20%5B11.048556%2C%2046.751359%5D%2C%20%5B11.164828%2C%2046.941579%5D%2C%20%5B12.153088%2C%2047.115393%5D%2C%20%5B12.376485%2C%2046.767559%5D%5D%5D%5D%2C%20%22type%22%3A%20%22MultiPolygon%22%7D%2C%20%22id%22%3A%20%22ITA%22%2C%20%22properties%22%3A%20%7B%22name%22%3A%20%22Italy%22%7D%2C%20%22type%22%3A%20%22Feature%22%7D%2C%20%7B%22geometry%22%3A%20%7B%22coordinates%22%3A%20%5B%5B%5B-77.569601%2C%2018.490525%5D%2C%20%5B-76.896619%2C%2018.400867%5D%2C%20%5B-76.365359%2C%2018.160701%5D%2C%20%5B-76.199659%2C%2017.886867%5D%2C%20%5B-76.902561%2C%2017.868238%5D%2C%20%5B-77.206341%2C%2017.701116%5D%2C%20%5B-77.766023%2C%2017.861597%5D%2C%20%5B-78.337719%2C%2018.225968%5D%2C%20%5B-78.217727%2C%2018.454533%5D%2C%20%5B-77.797365%2C%2018.524218%5D%2C%20%5B-77.569601%2C%2018.490525%5D%5D%5D%2C%20%22type%22%3A%20%22Polygon%22%7D%2C%20%22id%22%3A%20%22JAM%22%2C%20%22properties%22%3A%20%7B%22name%22%3A%20%22Jamaica%22%7D%2C%20%22type%22%3A%20%22Feature%22%7D%2C%20%7B%22geometry%22%3A%20%7B%22coordinates%22%3A%20%5B%5B%5B35.545665%2C%2032.393992%5D%2C%20%5B35.719918%2C%2032.709192%5D%2C%20%5B36.834062%2C%2032.312938%5D%2C%20%5B38.792341%2C%2033.378686%5D%2C%20%5B39.195468%2C%2032.161009%5D%2C%20%5B39.004886%2C%2032.010217%5D%2C%20%5B37.002166%2C%2031.508413%5D%2C%20%5B37.998849%2C%2030.5085%5D%2C%20%5B37.66812%2C%2030.338665%5D%2C%20%5B37.503582%2C%2030.003776%5D%2C%20%5B36.740528%2C%2029.865283%5D%2C%20%5B36.501214%2C%2029.505254%5D%2C%20%5B36.068941%2C%2029.197495%5D%2C%20%5B34.956037%2C%2029.356555%5D%2C%20%5B34.922603%2C%2029.501326%5D%2C%20%5B35.420918%2C%2031.100066%5D%2C%20%5B35.397561%2C%2031.489086%5D%2C%20%5B35.545252%2C%2031.782505%5D%2C%20%5B35.545665%2C%2032.393992%5D%5D%5D%2C%20%22type%22%3A%20%22Polygon%22%7D%2C%20%22id%22%3A%20%22JOR%22%2C%20%22properties%22%3A%20%7B%22name%22%3A%20%22Jordan%22%7D%2C%20%22type%22%3A%20%22Feature%22%7D%2C%20%7B%22geometry%22%3A%20%7B%22coordinates%22%3A%20%5B%5B%5B%5B134.638428%2C%2034.149234%5D%2C%20%5B134.766379%2C%2033.806335%5D%2C%20%5B134.203416%2C%2033.201178%5D%2C%20%5B133.79295%2C%2033.521985%5D%2C%20%5B133.280268%2C%2033.28957%5D%2C%20%5B133.014858%2C%2032.704567%5D%2C%20%5B132.363115%2C%2032.989382%5D%2C%20%5B132.371176%2C%2033.463642%5D%2C%20%5B132.924373%2C%2034.060299%5D%2C%20%5B133.492968%2C%2033.944621%5D%2C%20%5B133.904106%2C%2034.364931%5D%2C%20%5B134.638428%2C%2034.149234%5D%5D%5D%2C%20%5B%5B%5B140.976388%2C%2037.142074%5D%2C%20%5B140.59977%2C%2036.343983%5D%2C%20%5B140.774074%2C%2035.842877%5D%2C%20%5B140.253279%2C%2035.138114%5D%2C%20%5B138.975528%2C%2034.6676%5D%2C%20%5B137.217599%2C%2034.606286%5D%2C%20%5B135.792983%2C%2033.464805%5D%2C%20%5B135.120983%2C%2033.849071%5D%2C%20%5B135.079435%2C%2034.596545%5D%2C%20%5B133.340316%2C%2034.375938%5D%2C%20%5B132.156771%2C%2033.904933%5D%2C%20%5B130.986145%2C%2033.885761%5D%2C%20%5B132.000036%2C%2033.149992%5D%2C%20%5B131.33279%2C%2031.450355%5D%2C%20%5B130.686318%2C%2031.029579%5D%2C%20%5B130.20242%2C%2031.418238%5D%2C%20%5B130.447676%2C%2032.319475%5D%2C%20%5B129.814692%2C%2032.61031%5D%2C%20%5B129.408463%2C%2033.296056%5D%2C%20%5B130.353935%2C%2033.604151%5D%2C%20%5B130.878451%2C%2034.232743%5D%2C%20%5B131.884229%2C%2034.749714%5D%2C%20%5B132.617673%2C%2035.433393%5D%2C%20%5B134.608301%2C%2035.731618%5D%2C%20%5B135.677538%2C%2035.527134%5D%2C%20%5B136.723831%2C%2037.304984%5D%2C%20%5B137.390612%2C%2036.827391%5D%2C%20%5B138.857602%2C%2037.827485%5D%2C%20%5B139.426405%2C%2038.215962%5D%2C%20%5B140.05479%2C%2039.438807%5D%2C%20%5B139.883379%2C%2040.563312%5D%2C%20%5B140.305783%2C%2041.195005%5D%2C%20%5B141.368973%2C%2041.37856%5D%2C%20%5B141.914263%2C%2039.991616%5D%2C%20%5B141.884601%2C%2039.180865%5D%2C%20%5B140.959489%2C%2038.174001%5D%2C%20%5B140.976388%2C%2037.142074%5D%5D%5D%2C%20%5B%5B%5B143.910162%2C%2044.1741%5D%2C%20%5B144.613427%2C%2043.960883%5D%2C%20%5B145.320825%2C%2044.384733%5D%2C%20%5B145.543137%2C%2043.262088%5D%2C%20%5B144.059662%2C%2042.988358%5D%2C%20%5B143.18385%2C%2041.995215%5D%2C%20%5B141.611491%2C%2042.678791%5D%2C%20%5B141.067286%2C%2041.584594%5D%2C%20%5B139.955106%2C%2041.569556%5D%2C%20%5B139.817544%2C%2042.563759%5D%2C%20%5B140.312087%2C%2043.333273%5D%2C%20%5B141.380549%2C%2043.388825%5D%2C%20%5B141.671952%2C%2044.772125%5D%2C%20%5B141.967645%2C%2045.551483%5D%2C%20%5B143.14287%2C%2044.510358%5D%2C%20%5B143.910162%2C%2044.1741%5D%5D%5D%5D%2C%20%22type%22%3A%20%22MultiPolygon%22%7D%2C%20%22id%22%3A%20%22JPN%22%2C%20%22properties%22%3A%20%7B%22name%22%3A%20%22Japan%22%7D%2C%20%22type%22%3A%20%22Feature%22%7D%2C%20%7B%22geometry%22%3A%20%7B%22coordinates%22%3A%20%5B%5B%5B70.962315%2C%2042.266154%5D%2C%20%5B70.388965%2C%2042.081308%5D%2C%20%5B69.070027%2C%2041.384244%5D%2C%20%5B68.632483%2C%2040.668681%5D%2C%20%5B68.259896%2C%2040.662325%5D%2C%20%5B67.985856%2C%2041.135991%5D%2C%20%5B66.714047%2C%2041.168444%5D%2C%20%5B66.510649%2C%2041.987644%5D%2C%20%5B66.023392%2C%2041.994646%5D%2C%20%5B66.098012%2C%2042.99766%5D%2C%20%5B64.900824%2C%2043.728081%5D%2C%20%5B63.185787%2C%2043.650075%5D%2C%20%5B62.0133%2C%2043.504477%5D%2C%20%5B61.05832%2C%2044.405817%5D%2C%20%5B60.239972%2C%2044.784037%5D%2C%20%5B58.689989%2C%2045.500014%5D%2C%20%5B58.503127%2C%2045.586804%5D%2C%20%5B55.928917%2C%2044.995858%5D%2C%20%5B55.968191%2C%2041.308642%5D%2C%20%5B55.455251%2C%2041.259859%5D%2C%20%5B54.755345%2C%2042.043971%5D%2C%20%5B54.079418%2C%2042.324109%5D%2C%20%5B52.944293%2C%2042.116034%5D%2C%20%5B52.50246%2C%2041.783316%5D%2C%20%5B52.446339%2C%2042.027151%5D%2C%20%5B52.692112%2C%2042.443895%5D%2C%20%5B52.501426%2C%2042.792298%5D%2C%20%5B51.342427%2C%2043.132975%5D%2C%20%5B50.891292%2C%2044.031034%5D%2C%20%5B50.339129%2C%2044.284016%5D%2C%20%5B50.305643%2C%2044.609836%5D%2C%20%5B51.278503%2C%2044.514854%5D%2C%20%5B51.316899%2C%2045.245998%5D%2C%20%5B52.16739%2C%2045.408391%5D%2C%20%5B53.040876%2C%2045.259047%5D%2C%20%5B53.220866%2C%2046.234646%5D%2C%20%5B53.042737%2C%2046.853006%5D%2C%20%5B52.042023%2C%2046.804637%5D%2C%20%5B51.191945%2C%2047.048705%5D%2C%20%5B50.034083%2C%2046.60899%5D%2C%20%5B49.10116%2C%2046.39933%5D%2C%20%5B48.593241%2C%2046.561034%5D%2C%20%5B48.694734%2C%2047.075628%5D%2C%20%5B48.057253%2C%2047.743753%5D%2C%20%5B47.315231%2C%2047.715847%5D%2C%20%5B46.466446%2C%2048.394152%5D%2C%20%5B47.043672%2C%2049.152039%5D%2C%20%5B46.751596%2C%2049.356006%5D%2C%20%5B47.54948%2C%2050.454698%5D%2C%20%5B48.577841%2C%2049.87476%5D%2C%20%5B48.702382%2C%2050.605128%5D%2C%20%5B50.766648%2C%2051.692762%5D%2C%20%5B52.328724%2C%2051.718652%5D%2C%20%5B54.532878%2C%2051.02624%5D%2C%20%5B55.716941%2C%2050.621717%5D%2C%20%5B56.777961%2C%2051.043551%5D%2C%20%5B58.363291%2C%2051.063653%5D%2C%20%5B59.642282%2C%2050.545442%5D%2C%20%5B59.932807%2C%2050.842194%5D%2C%20%5B61.337424%2C%2050.79907%5D%2C%20%5B61.588003%2C%2051.272659%5D%2C%20%5B59.967534%2C%2051.96042%5D%2C%20%5B60.927269%2C%2052.447548%5D%2C%20%5B60.739993%2C%2052.719986%5D%2C%20%5B61.699986%2C%2052.979996%5D%2C%20%5B60.978066%2C%2053.664993%5D%2C%20%5B61.436591%2C%2054.006265%5D%2C%20%5B65.178534%2C%2054.354228%5D%2C%20%5B65.666876%2C%2054.601267%5D%2C%20%5B68.1691%2C%2054.970392%5D%2C%20%5B69.068167%2C%2055.38525%5D%2C%20%5B70.865267%2C%2055.169734%5D%2C%20%5B71.180131%2C%2054.133285%5D%2C%20%5B72.22415%2C%2054.376655%5D%2C%20%5B73.508516%2C%2054.035617%5D%2C%20%5B73.425679%2C%2053.48981%5D%2C%20%5B74.384845%2C%2053.546861%5D%2C%20%5B76.8911%2C%2054.490524%5D%2C%20%5B76.525179%2C%2054.177003%5D%2C%20%5B77.800916%2C%2053.404415%5D%2C%20%5B80.03556%2C%2050.864751%5D%2C%20%5B80.568447%2C%2051.388336%5D%2C%20%5B81.945986%2C%2050.812196%5D%2C%20%5B83.383004%2C%2051.069183%5D%2C%20%5B83.935115%2C%2050.889246%5D%2C%20%5B84.416377%2C%2050.3114%5D%2C%20%5B85.11556%2C%2050.117303%5D%2C%20%5B85.54127%2C%2049.692859%5D%2C%20%5B86.829357%2C%2049.826675%5D%2C%20%5B87.35997%2C%2049.214981%5D%2C%20%5B86.598776%2C%2048.549182%5D%2C%20%5B85.768233%2C%2048.455751%5D%2C%20%5B85.720484%2C%2047.452969%5D%2C%20%5B85.16429%2C%2047.000956%5D%2C%20%5B83.180484%2C%2047.330031%5D%2C%20%5B82.458926%2C%2045.53965%5D%2C%20%5B81.947071%2C%2045.317027%5D%2C%20%5B79.966106%2C%2044.917517%5D%2C%20%5B80.866206%2C%2043.180362%5D%2C%20%5B80.18015%2C%2042.920068%5D%2C%20%5B80.25999%2C%2042.349999%5D%2C%20%5B79.643645%2C%2042.496683%5D%2C%20%5B79.142177%2C%2042.856092%5D%2C%20%5B77.658392%2C%2042.960686%5D%2C%20%5B76.000354%2C%2042.988022%5D%2C%20%5B75.636965%2C%2042.8779%5D%2C%20%5B74.212866%2C%2043.298339%5D%2C%20%5B73.645304%2C%2043.091272%5D%2C%20%5B73.489758%2C%2042.500894%5D%2C%20%5B71.844638%2C%2042.845395%5D%2C%20%5B71.186281%2C%2042.704293%5D%2C%20%5B70.962315%2C%2042.266154%5D%5D%5D%2C%20%22type%22%3A%20%22Polygon%22%7D%2C%20%22id%22%3A%20%22KAZ%22%2C%20%22properties%22%3A%20%7B%22name%22%3A%20%22Kazakhstan%22%7D%2C%20%22type%22%3A%20%22Feature%22%7D%2C%20%7B%22geometry%22%3A%20%7B%22coordinates%22%3A%20%5B%5B%5B40.993%2C%20-0.85829%5D%2C%20%5B41.58513%2C%20-1.68325%5D%2C%20%5B40.88477%2C%20-2.08255%5D%2C%20%5B40.63785%2C%20-2.49979%5D%2C%20%5B40.26304%2C%20-2.57309%5D%2C%20%5B40.12119%2C%20-3.27768%5D%2C%20%5B39.80006%2C%20-3.68116%5D%2C%20%5B39.60489%2C%20-4.34653%5D%2C%20%5B39.20222%2C%20-4.67677%5D%2C%20%5B37.7669%2C%20-3.67712%5D%2C%20%5B37.69869%2C%20-3.09699%5D%2C%20%5B34.07262%2C%20-1.05982%5D%2C%20%5B33.903711%2C%20-0.95%5D%2C%20%5B33.893569%2C%200.109814%5D%2C%20%5B34.18%2C%200.515%5D%2C%20%5B34.6721%2C%201.17694%5D%2C%20%5B35.03599%2C%201.90584%5D%2C%20%5B34.59607%2C%203.05374%5D%2C%20%5B34.47913%2C%203.5556%5D%2C%20%5B34.005%2C%204.249885%5D%2C%20%5B34.620196%2C%204.847123%5D%2C%20%5B35.298007%2C%205.506%5D%2C%20%5B35.817448%2C%205.338232%5D%2C%20%5B35.817448%2C%204.776966%5D%2C%20%5B36.159079%2C%204.447864%5D%2C%20%5B36.855093%2C%204.447864%5D%2C%20%5B38.120915%2C%203.598605%5D%2C%20%5B38.43697%2C%203.58851%5D%2C%20%5B38.67114%2C%203.61607%5D%2C%20%5B38.89251%2C%203.50074%5D%2C%20%5B39.559384%2C%203.42206%5D%2C%20%5B39.85494%2C%203.83879%5D%2C%20%5B40.76848%2C%204.25702%5D%2C%20%5B41.1718%2C%203.91909%5D%2C%20%5B41.855083%2C%203.918912%5D%2C%20%5B40.98105%2C%202.78452%5D%2C%20%5B40.993%2C%20-0.85829%5D%5D%5D%2C%20%22type%22%3A%20%22Polygon%22%7D%2C%20%22id%22%3A%20%22KEN%22%2C%20%22properties%22%3A%20%7B%22name%22%3A%20%22Kenya%22%7D%2C%20%22type%22%3A%20%22Feature%22%7D%2C%20%7B%22geometry%22%3A%20%7B%22coordinates%22%3A%20%5B%5B%5B70.962315%2C%2042.266154%5D%2C%20%5B71.186281%2C%2042.704293%5D%2C%20%5B71.844638%2C%2042.845395%5D%2C%20%5B73.489758%2C%2042.500894%5D%2C%20%5B73.645304%2C%2043.091272%5D%2C%20%5B74.212866%2C%2043.298339%5D%2C%20%5B75.636965%2C%2042.8779%5D%2C%20%5B76.000354%2C%2042.988022%5D%2C%20%5B77.658392%2C%2042.960686%5D%2C%20%5B79.142177%2C%2042.856092%5D%2C%20%5B79.643645%2C%2042.496683%5D%2C%20%5B80.25999%2C%2042.349999%5D%2C%20%5B80.11943%2C%2042.123941%5D%2C%20%5B78.543661%2C%2041.582243%5D%2C%20%5B78.187197%2C%2041.185316%5D%2C%20%5B76.904484%2C%2041.066486%5D%2C%20%5B76.526368%2C%2040.427946%5D%2C%20%5B75.467828%2C%2040.562072%5D%2C%20%5B74.776862%2C%2040.366425%5D%2C%20%5B73.822244%2C%2039.893973%5D%2C%20%5B73.960013%2C%2039.660008%5D%2C%20%5B73.675379%2C%2039.431237%5D%2C%20%5B71.784694%2C%2039.279463%5D%2C%20%5B70.549162%2C%2039.604198%5D%2C%20%5B69.464887%2C%2039.526683%5D%2C%20%5B69.55961%2C%2040.103211%5D%2C%20%5B70.648019%2C%2039.935754%5D%2C%20%5B71.014198%2C%2040.244366%5D%2C%20%5B71.774875%2C%2040.145844%5D%2C%20%5B73.055417%2C%2040.866033%5D%2C%20%5B71.870115%2C%2041.3929%5D%2C%20%5B71.157859%2C%2041.143587%5D%2C%20%5B70.420022%2C%2041.519998%5D%2C%20%5B71.259248%2C%2042.167711%5D%2C%20%5B70.962315%2C%2042.266154%5D%5D%5D%2C%20%22type%22%3A%20%22Polygon%22%7D%2C%20%22id%22%3A%20%22KGZ%22%2C%20%22properties%22%3A%20%7B%22name%22%3A%20%22Kyrgyzstan%22%7D%2C%20%22type%22%3A%20%22Feature%22%7D%2C%20%7B%22geometry%22%3A%20%7B%22coordinates%22%3A%20%5B%5B%5B103.49728%2C%2010.632555%5D%2C%20%5B103.09069%2C%2011.153661%5D%2C%20%5B102.584932%2C%2012.186595%5D%2C%20%5B102.348099%2C%2013.394247%5D%2C%20%5B102.988422%2C%2014.225721%5D%2C%20%5B104.281418%2C%2014.416743%5D%2C%20%5B105.218777%2C%2014.273212%5D%2C%20%5B106.043946%2C%2013.881091%5D%2C%20%5B106.496373%2C%2014.570584%5D%2C%20%5B107.382727%2C%2014.202441%5D%2C%20%5B107.614548%2C%2013.535531%5D%2C%20%5B107.491403%2C%2012.337206%5D%2C%20%5B105.810524%2C%2011.567615%5D%2C%20%5B106.24967%2C%2010.961812%5D%2C%20%5B105.199915%2C%2010.88931%5D%2C%20%5B104.334335%2C%2010.486544%5D%2C%20%5B103.49728%2C%2010.632555%5D%5D%5D%2C%20%22type%22%3A%20%22Polygon%22%7D%2C%20%22id%22%3A%20%22KHM%22%2C%20%22properties%22%3A%20%7B%22name%22%3A%20%22Cambodia%22%7D%2C%20%22type%22%3A%20%22Feature%22%7D%2C%20%7B%22geometry%22%3A%20%7B%22coordinates%22%3A%20%5B%5B%5B128.349716%2C%2038.612243%5D%2C%20%5B129.21292%2C%2037.432392%5D%2C%20%5B129.46045%2C%2036.784189%5D%2C%20%5B129.468304%2C%2035.632141%5D%2C%20%5B129.091377%2C%2035.082484%5D%2C%20%5B128.18585%2C%2034.890377%5D%2C%20%5B127.386519%2C%2034.475674%5D%2C%20%5B126.485748%2C%2034.390046%5D%2C%20%5B126.37392%2C%2034.93456%5D%2C%20%5B126.559231%2C%2035.684541%5D%2C%20%5B126.117398%2C%2036.725485%5D%2C%20%5B126.860143%2C%2036.893924%5D%2C%20%5B126.174759%2C%2037.749686%5D%2C%20%5B126.237339%2C%2037.840378%5D%2C%20%5B126.68372%2C%2037.804773%5D%2C%20%5B127.073309%2C%2038.256115%5D%2C%20%5B127.780035%2C%2038.304536%5D%2C%20%5B128.205746%2C%2038.370397%5D%2C%20%5B128.349716%2C%2038.612243%5D%5D%5D%2C%20%22type%22%3A%20%22Polygon%22%7D%2C%20%22id%22%3A%20%22KOR%22%2C%20%22properties%22%3A%20%7B%22name%22%3A%20%22South%20Korea%22%7D%2C%20%22type%22%3A%20%22Feature%22%7D%2C%20%7B%22geometry%22%3A%20%7B%22coordinates%22%3A%20%5B%5B%5B20.76216%2C%2042.05186%5D%2C%20%5B20.71731%2C%2041.84711%5D%2C%20%5B20.59023%2C%2041.85541%5D%2C%20%5B20.52295%2C%2042.21787%5D%2C%20%5B20.28374%2C%2042.32025%5D%2C%20%5B20.0707%2C%2042.58863%5D%2C%20%5B20.25758%2C%2042.81275%5D%2C%20%5B20.49679%2C%2042.88469%5D%2C%20%5B20.63508%2C%2043.21671%5D%2C%20%5B20.81448%2C%2043.27205%5D%2C%20%5B20.95651%2C%2043.13094%5D%2C%20%5B21.143395%2C%2043.068685%5D%2C%20%5B21.27421%2C%2042.90959%5D%2C%20%5B21.43866%2C%2042.86255%5D%2C%20%5B21.63302%2C%2042.67717%5D%2C%20%5B21.77505%2C%2042.6827%5D%2C%20%5B21.66292%2C%2042.43922%5D%2C%20%5B21.54332%2C%2042.32025%5D%2C%20%5B21.576636%2C%2042.245224%5D%2C%20%5B21.3527%2C%2042.2068%5D%2C%20%5B20.76216%2C%2042.05186%5D%5D%5D%2C%20%22type%22%3A%20%22Polygon%22%7D%2C%20%22id%22%3A%20%22-99%22%2C%20%22properties%22%3A%20%7B%22name%22%3A%20%22Kosovo%22%7D%2C%20%22type%22%3A%20%22Feature%22%7D%2C%20%7B%22geometry%22%3A%20%7B%22coordinates%22%3A%20%5B%5B%5B47.974519%2C%2029.975819%5D%2C%20%5B48.183189%2C%2029.534477%5D%2C%20%5B48.093943%2C%2029.306299%5D%2C%20%5B48.416094%2C%2028.552004%5D%2C%20%5B47.708851%2C%2028.526063%5D%2C%20%5B47.459822%2C%2029.002519%5D%2C%20%5B46.568713%2C%2029.099025%5D%2C%20%5B47.302622%2C%2030.05907%5D%2C%20%5B47.974519%2C%2029.975819%5D%5D%5D%2C%20%22type%22%3A%20%22Polygon%22%7D%2C%20%22id%22%3A%20%22KWT%22%2C%20%22properties%22%3A%20%7B%22name%22%3A%20%22Kuwait%22%7D%2C%20%22type%22%3A%20%22Feature%22%7D%2C%20%7B%22geometry%22%3A%20%7B%22coordinates%22%3A%20%5B%5B%5B105.218777%2C%2014.273212%5D%2C%20%5B105.544338%2C%2014.723934%5D%2C%20%5B105.589039%2C%2015.570316%5D%2C%20%5B104.779321%2C%2016.441865%5D%2C%20%5B104.716947%2C%2017.428859%5D%2C%20%5B103.956477%2C%2018.240954%5D%2C%20%5B103.200192%2C%2018.309632%5D%2C%20%5B102.998706%2C%2017.961695%5D%2C%20%5B102.413005%2C%2017.932782%5D%2C%20%5B102.113592%2C%2018.109102%5D%2C%20%5B101.059548%2C%2017.512497%5D%2C%20%5B101.035931%2C%2018.408928%5D%2C%20%5B101.282015%2C%2019.462585%5D%2C%20%5B100.606294%2C%2019.508344%5D%2C%20%5B100.548881%2C%2020.109238%5D%2C%20%5B100.115988%2C%2020.41785%5D%2C%20%5B100.329101%2C%2020.786122%5D%2C%20%5B101.180005%2C%2021.436573%5D%2C%20%5B101.270026%2C%2021.201652%5D%2C%20%5B101.80312%2C%2021.174367%5D%2C%20%5B101.652018%2C%2022.318199%5D%2C%20%5B102.170436%2C%2022.464753%5D%2C%20%5B102.754896%2C%2021.675137%5D%2C%20%5B103.203861%2C%2020.766562%5D%2C%20%5B104.435%2C%2020.758733%5D%2C%20%5B104.822574%2C%2019.886642%5D%2C%20%5B104.183388%2C%2019.624668%5D%2C%20%5B103.896532%2C%2019.265181%5D%2C%20%5B105.094598%2C%2018.666975%5D%2C%20%5B105.925762%2C%2017.485315%5D%2C%20%5B106.556008%2C%2016.604284%5D%2C%20%5B107.312706%2C%2015.908538%5D%2C%20%5B107.564525%2C%2015.202173%5D%2C%20%5B107.382727%2C%2014.202441%5D%2C%20%5B106.496373%2C%2014.570584%5D%2C%20%5B106.043946%2C%2013.881091%5D%2C%20%5B105.218777%2C%2014.273212%5D%5D%5D%2C%20%22type%22%3A%20%22Polygon%22%7D%2C%20%22id%22%3A%20%22LAO%22%2C%20%22properties%22%3A%20%7B%22name%22%3A%20%22Laos%22%7D%2C%20%22type%22%3A%20%22Feature%22%7D%2C%20%7B%22geometry%22%3A%20%7B%22coordinates%22%3A%20%5B%5B%5B35.821101%2C%2033.277426%5D%2C%20%5B35.552797%2C%2033.264275%5D%2C%20%5B35.460709%2C%2033.08904%5D%2C%20%5B35.126053%2C%2033.0909%5D%2C%20%5B35.482207%2C%2033.90545%5D%2C%20%5B35.979592%2C%2034.610058%5D%2C%20%5B35.998403%2C%2034.644914%5D%2C%20%5B36.448194%2C%2034.593935%5D%2C%20%5B36.61175%2C%2034.201789%5D%2C%20%5B36.06646%2C%2033.824912%5D%2C%20%5B35.821101%2C%2033.277426%5D%5D%5D%2C%20%22type%22%3A%20%22Polygon%22%7D%2C%20%22id%22%3A%20%22LBN%22%2C%20%22properties%22%3A%20%7B%22name%22%3A%20%22Lebanon%22%7D%2C%20%22type%22%3A%20%22Feature%22%7D%2C%20%7B%22geometry%22%3A%20%7B%22coordinates%22%3A%20%5B%5B%5B-7.712159%2C%204.364566%5D%2C%20%5B-7.974107%2C%204.355755%5D%2C%20%5B-9.004794%2C%204.832419%5D%2C%20%5B-9.91342%2C%205.593561%5D%2C%20%5B-10.765384%2C%206.140711%5D%2C%20%5B-11.438779%2C%206.785917%5D%2C%20%5B-11.199802%2C%207.105846%5D%2C%20%5B-11.146704%2C%207.396706%5D%2C%20%5B-10.695595%2C%207.939464%5D%2C%20%5B-10.230094%2C%208.406206%5D%2C%20%5B-10.016567%2C%208.428504%5D%2C%20%5B-9.755342%2C%208.541055%5D%2C%20%5B-9.33728%2C%207.928534%5D%2C%20%5B-9.403348%2C%207.526905%5D%2C%20%5B-9.208786%2C%207.313921%5D%2C%20%5B-8.926065%2C%207.309037%5D%2C%20%5B-8.722124%2C%207.711674%5D%2C%20%5B-8.439298%2C%207.686043%5D%2C%20%5B-8.485446%2C%207.395208%5D%2C%20%5B-8.385452%2C%206.911801%5D%2C%20%5B-8.60288%2C%206.467564%5D%2C%20%5B-8.311348%2C%206.193033%5D%2C%20%5B-7.993693%2C%206.12619%5D%2C%20%5B-7.570153%2C%205.707352%5D%2C%20%5B-7.539715%2C%205.313345%5D%2C%20%5B-7.635368%2C%205.188159%5D%2C%20%5B-7.712159%2C%204.364566%5D%5D%5D%2C%20%22type%22%3A%20%22Polygon%22%7D%2C%20%22id%22%3A%20%22LBR%22%2C%20%22properties%22%3A%20%7B%22name%22%3A%20%22Liberia%22%7D%2C%20%22type%22%3A%20%22Feature%22%7D%2C%20%7B%22geometry%22%3A%20%7B%22coordinates%22%3A%20%5B%5B%5B14.8513%2C%2022.86295%5D%2C%20%5B14.143871%2C%2022.491289%5D%2C%20%5B13.581425%2C%2023.040506%5D%2C%20%5B11.999506%2C%2023.471668%5D%2C%20%5B11.560669%2C%2024.097909%5D%2C%20%5B10.771364%2C%2024.562532%5D%2C%20%5B10.303847%2C%2024.379313%5D%2C%20%5B9.948261%2C%2024.936954%5D%2C%20%5B9.910693%2C%2025.365455%5D%2C%20%5B9.319411%2C%2026.094325%5D%2C%20%5B9.716286%2C%2026.512206%5D%2C%20%5B9.629056%2C%2027.140953%5D%2C%20%5B9.756128%2C%2027.688259%5D%2C%20%5B9.683885%2C%2028.144174%5D%2C%20%5B9.859998%2C%2028.95999%5D%2C%20%5B9.805634%2C%2029.424638%5D%2C%20%5B9.48214%2C%2030.307556%5D%2C%20%5B9.970017%2C%2030.539325%5D%2C%20%5B10.056575%2C%2030.961831%5D%2C%20%5B9.950225%2C%2031.37607%5D%2C%20%5B10.636901%2C%2031.761421%5D%2C%20%5B10.94479%2C%2032.081815%5D%2C%20%5B11.432253%2C%2032.368903%5D%2C%20%5B11.488787%2C%2033.136996%5D%2C%20%5B12.66331%2C%2032.79278%5D%2C%20%5B13.08326%2C%2032.87882%5D%2C%20%5B13.91868%2C%2032.71196%5D%2C%20%5B15.24563%2C%2032.26508%5D%2C%20%5B15.71394%2C%2031.37626%5D%2C%20%5B16.61162%2C%2031.18218%5D%2C%20%5B18.02109%2C%2030.76357%5D%2C%20%5B19.08641%2C%2030.26639%5D%2C%20%5B19.57404%2C%2030.52582%5D%2C%20%5B20.05335%2C%2030.98576%5D%2C%20%5B19.82033%2C%2031.75179%5D%2C%20%5B20.13397%2C%2032.2382%5D%2C%20%5B20.85452%2C%2032.7068%5D%2C%20%5B21.54298%2C%2032.8432%5D%2C%20%5B22.89576%2C%2032.63858%5D%2C%20%5B23.2368%2C%2032.19149%5D%2C%20%5B23.60913%2C%2032.18726%5D%2C%20%5B23.9275%2C%2032.01667%5D%2C%20%5B24.92114%2C%2031.89936%5D%2C%20%5B25.16482%2C%2031.56915%5D%2C%20%5B24.80287%2C%2031.08929%5D%2C%20%5B24.95762%2C%2030.6616%5D%2C%20%5B24.70007%2C%2030.04419%5D%2C%20%5B25%2C%2029.238655%5D%2C%20%5B25%2C%2025.6825%5D%2C%20%5B25%2C%2022%5D%2C%20%5B25%2C%2020.00304%5D%2C%20%5B23.85%2C%2020%5D%2C%20%5B23.83766%2C%2019.58047%5D%2C%20%5B19.84926%2C%2021.49509%5D%2C%20%5B15.86085%2C%2023.40972%5D%2C%20%5B14.8513%2C%2022.86295%5D%5D%5D%2C%20%22type%22%3A%20%22Polygon%22%7D%2C%20%22id%22%3A%20%22LBY%22%2C%20%22properties%22%3A%20%7B%22name%22%3A%20%22Libya%22%7D%2C%20%22type%22%3A%20%22Feature%22%7D%2C%20%7B%22geometry%22%3A%20%7B%22coordinates%22%3A%20%5B%5B%5B81.787959%2C%207.523055%5D%2C%20%5B81.637322%2C%206.481775%5D%2C%20%5B81.21802%2C%206.197141%5D%2C%20%5B80.348357%2C%205.96837%5D%2C%20%5B79.872469%2C%206.763463%5D%2C%20%5B79.695167%2C%208.200843%5D%2C%20%5B80.147801%2C%209.824078%5D%2C%20%5B80.838818%2C%209.268427%5D%2C%20%5B81.304319%2C%208.564206%5D%2C%20%5B81.787959%2C%207.523055%5D%5D%5D%2C%20%22type%22%3A%20%22Polygon%22%7D%2C%20%22id%22%3A%20%22LKA%22%2C%20%22properties%22%3A%20%7B%22name%22%3A%20%22Sri%20Lanka%22%7D%2C%20%22type%22%3A%20%22Feature%22%7D%2C%20%7B%22geometry%22%3A%20%7B%22coordinates%22%3A%20%5B%5B%5B28.978263%2C%20-28.955597%5D%2C%20%5B29.325166%2C%20-29.257387%5D%2C%20%5B29.018415%2C%20-29.743766%5D%2C%20%5B28.8484%2C%20-30.070051%5D%2C%20%5B28.291069%2C%20-30.226217%5D%2C%20%5B28.107205%2C%20-30.545732%5D%2C%20%5B27.749397%2C%20-30.645106%5D%2C%20%5B26.999262%2C%20-29.875954%5D%2C%20%5B27.532511%2C%20-29.242711%5D%2C%20%5B28.074338%2C%20-28.851469%5D%2C%20%5B28.5417%2C%20-28.647502%5D%2C%20%5B28.978263%2C%20-28.955597%5D%5D%5D%2C%20%22type%22%3A%20%22Polygon%22%7D%2C%20%22id%22%3A%20%22LSO%22%2C%20%22properties%22%3A%20%7B%22name%22%3A%20%22Lesotho%22%7D%2C%20%22type%22%3A%20%22Feature%22%7D%2C%20%7B%22geometry%22%3A%20%7B%22coordinates%22%3A%20%5B%5B%5B22.731099%2C%2054.327537%5D%2C%20%5B22.651052%2C%2054.582741%5D%2C%20%5B22.757764%2C%2054.856574%5D%2C%20%5B22.315724%2C%2055.015299%5D%2C%20%5B21.268449%2C%2055.190482%5D%2C%20%5B21.0558%2C%2056.031076%5D%2C%20%5B22.201157%2C%2056.337802%5D%2C%20%5B23.878264%2C%2056.273671%5D%2C%20%5B24.860684%2C%2056.372528%5D%2C%20%5B25.000934%2C%2056.164531%5D%2C%20%5B25.533047%2C%2056.100297%5D%2C%20%5B26.494331%2C%2055.615107%5D%2C%20%5B26.588279%2C%2055.167176%5D%2C%20%5B25.768433%2C%2054.846963%5D%2C%20%5B25.536354%2C%2054.282423%5D%2C%20%5B24.450684%2C%2053.905702%5D%2C%20%5B23.484128%2C%2053.912498%5D%2C%20%5B23.243987%2C%2054.220567%5D%2C%20%5B22.731099%2C%2054.327537%5D%5D%5D%2C%20%22type%22%3A%20%22Polygon%22%7D%2C%20%22id%22%3A%20%22LTU%22%2C%20%22properties%22%3A%20%7B%22name%22%3A%20%22Lithuania%22%7D%2C%20%22type%22%3A%20%22Feature%22%7D%2C%20%7B%22geometry%22%3A%20%7B%22coordinates%22%3A%20%5B%5B%5B6.043073%2C%2050.128052%5D%2C%20%5B6.242751%2C%2049.902226%5D%2C%20%5B6.18632%2C%2049.463803%5D%2C%20%5B5.897759%2C%2049.442667%5D%2C%20%5B5.674052%2C%2049.529484%5D%2C%20%5B5.782417%2C%2050.090328%5D%2C%20%5B6.043073%2C%2050.128052%5D%5D%5D%2C%20%22type%22%3A%20%22Polygon%22%7D%2C%20%22id%22%3A%20%22LUX%22%2C%20%22properties%22%3A%20%7B%22name%22%3A%20%22Luxembourg%22%7D%2C%20%22type%22%3A%20%22Feature%22%7D%2C%20%7B%22geometry%22%3A%20%7B%22coordinates%22%3A%20%5B%5B%5B21.0558%2C%2056.031076%5D%2C%20%5B21.090424%2C%2056.783873%5D%2C%20%5B21.581866%2C%2057.411871%5D%2C%20%5B22.524341%2C%2057.753374%5D%2C%20%5B23.318453%2C%2057.006236%5D%2C%20%5B24.12073%2C%2057.025693%5D%2C%20%5B24.312863%2C%2057.793424%5D%2C%20%5B25.164594%2C%2057.970157%5D%2C%20%5B25.60281%2C%2057.847529%5D%2C%20%5B26.463532%2C%2057.476389%5D%2C%20%5B27.288185%2C%2057.474528%5D%2C%20%5B27.770016%2C%2057.244258%5D%2C%20%5B27.855282%2C%2056.759326%5D%2C%20%5B28.176709%2C%2056.16913%5D%2C%20%5B27.10246%2C%2055.783314%5D%2C%20%5B26.494331%2C%2055.615107%5D%2C%20%5B25.533047%2C%2056.100297%5D%2C%20%5B25.000934%2C%2056.164531%5D%2C%20%5B24.860684%2C%2056.372528%5D%2C%20%5B23.878264%2C%2056.273671%5D%2C%20%5B22.201157%2C%2056.337802%5D%2C%20%5B21.0558%2C%2056.031076%5D%5D%5D%2C%20%22type%22%3A%20%22Polygon%22%7D%2C%20%22id%22%3A%20%22LVA%22%2C%20%22properties%22%3A%20%7B%22name%22%3A%20%22Latvia%22%7D%2C%20%22type%22%3A%20%22Feature%22%7D%2C%20%7B%22geometry%22%3A%20%7B%22coordinates%22%3A%20%5B%5B%5B-5.193863%2C%2035.755182%5D%2C%20%5B-4.591006%2C%2035.330712%5D%2C%20%5B-3.640057%2C%2035.399855%5D%2C%20%5B-2.604306%2C%2035.179093%5D%2C%20%5B-2.169914%2C%2035.168396%5D%2C%20%5B-1.792986%2C%2034.527919%5D%2C%20%5B-1.733455%2C%2033.919713%5D%2C%20%5B-1.388049%2C%2032.864015%5D%2C%20%5B-1.124551%2C%2032.651522%5D%2C%20%5B-1.307899%2C%2032.262889%5D%2C%20%5B-2.616605%2C%2032.094346%5D%2C%20%5B-3.06898%2C%2031.724498%5D%2C%20%5B-3.647498%2C%2031.637294%5D%2C%20%5B-3.690441%2C%2030.896952%5D%2C%20%5B-4.859646%2C%2030.501188%5D%2C%20%5B-5.242129%2C%2030.000443%5D%2C%20%5B-6.060632%2C%2029.7317%5D%2C%20%5B-7.059228%2C%2029.579228%5D%2C%20%5B-8.674116%2C%2028.841289%5D%2C%20%5B-8.66559%2C%2027.656426%5D%2C%20%5B-8.817809%2C%2027.656426%5D%2C%20%5B-8.817828%2C%2027.656426%5D%2C%20%5B-8.794884%2C%2027.120696%5D%2C%20%5B-9.413037%2C%2027.088476%5D%2C%20%5B-9.735343%2C%2026.860945%5D%2C%20%5B-10.189424%2C%2026.860945%5D%2C%20%5B-10.551263%2C%2026.990808%5D%2C%20%5B-11.392555%2C%2026.883424%5D%2C%20%5B-11.71822%2C%2026.104092%5D%2C%20%5B-12.030759%2C%2026.030866%5D%2C%20%5B-12.500963%2C%2024.770116%5D%2C%20%5B-13.89111%2C%2023.691009%5D%2C%20%5B-14.221168%2C%2022.310163%5D%2C%20%5B-14.630833%2C%2021.86094%5D%2C%20%5B-14.750955%2C%2021.5006%5D%2C%20%5B-17.002962%2C%2021.420734%5D%2C%20%5B-17.020428%2C%2021.42231%5D%2C%20%5B-16.973248%2C%2021.885745%5D%2C%20%5B-16.589137%2C%2022.158234%5D%2C%20%5B-16.261922%2C%2022.67934%5D%2C%20%5B-16.326414%2C%2023.017768%5D%2C%20%5B-15.982611%2C%2023.723358%5D%2C%20%5B-15.426004%2C%2024.359134%5D%2C%20%5B-15.089332%2C%2024.520261%5D%2C%20%5B-14.824645%2C%2025.103533%5D%2C%20%5B-14.800926%2C%2025.636265%5D%2C%20%5B-14.43994%2C%2026.254418%5D%2C%20%5B-13.773805%2C%2026.618892%5D%2C%20%5B-13.139942%2C%2027.640148%5D%2C%20%5B-13.121613%2C%2027.654148%5D%2C%20%5B-12.618837%2C%2028.038186%5D%2C%20%5B-11.688919%2C%2028.148644%5D%2C%20%5B-10.900957%2C%2028.832142%5D%2C%20%5B-10.399592%2C%2029.098586%5D%2C%20%5B-9.564811%2C%2029.933574%5D%2C%20%5B-9.814718%2C%2031.177736%5D%2C%20%5B-9.434793%2C%2032.038096%5D%2C%20%5B-9.300693%2C%2032.564679%5D%2C%20%5B-8.657476%2C%2033.240245%5D%2C%20%5B-7.654178%2C%2033.697065%5D%2C%20%5B-6.912544%2C%2034.110476%5D%2C%20%5B-6.244342%2C%2035.145865%5D%2C%20%5B-5.929994%2C%2035.759988%5D%2C%20%5B-5.193863%2C%2035.755182%5D%5D%5D%2C%20%22type%22%3A%20%22Polygon%22%7D%2C%20%22id%22%3A%20%22MAR%22%2C%20%22properties%22%3A%20%7B%22name%22%3A%20%22Morocco%22%7D%2C%20%22type%22%3A%20%22Feature%22%7D%2C%20%7B%22geometry%22%3A%20%7B%22coordinates%22%3A%20%5B%5B%5B26.619337%2C%2048.220726%5D%2C%20%5B26.857824%2C%2048.368211%5D%2C%20%5B27.522537%2C%2048.467119%5D%2C%20%5B28.259547%2C%2048.155562%5D%2C%20%5B28.670891%2C%2048.118149%5D%2C%20%5B29.122698%2C%2047.849095%5D%2C%20%5B29.050868%2C%2047.510227%5D%2C%20%5B29.415135%2C%2047.346645%5D%2C%20%5B29.559674%2C%2046.928583%5D%2C%20%5B29.908852%2C%2046.674361%5D%2C%20%5B29.83821%2C%2046.525326%5D%2C%20%5B30.024659%2C%2046.423937%5D%2C%20%5B29.759972%2C%2046.349988%5D%2C%20%5B29.170654%2C%2046.379262%5D%2C%20%5B29.072107%2C%2046.517678%5D%2C%20%5B28.862972%2C%2046.437889%5D%2C%20%5B28.933717%2C%2046.25883%5D%2C%20%5B28.659987%2C%2045.939987%5D%2C%20%5B28.485269%2C%2045.596907%5D%2C%20%5B28.233554%2C%2045.488283%5D%2C%20%5B28.054443%2C%2045.944586%5D%2C%20%5B28.160018%2C%2046.371563%5D%2C%20%5B28.12803%2C%2046.810476%5D%2C%20%5B27.551166%2C%2047.405117%5D%2C%20%5B27.233873%2C%2047.826771%5D%2C%20%5B26.924176%2C%2048.123264%5D%2C%20%5B26.619337%2C%2048.220726%5D%5D%5D%2C%20%22type%22%3A%20%22Polygon%22%7D%2C%20%22id%22%3A%20%22MDA%22%2C%20%22properties%22%3A%20%7B%22name%22%3A%20%22Moldova%22%7D%2C%20%22type%22%3A%20%22Feature%22%7D%2C%20%7B%22geometry%22%3A%20%7B%22coordinates%22%3A%20%5B%5B%5B49.543519%2C%20-12.469833%5D%2C%20%5B49.808981%2C%20-12.895285%5D%2C%20%5B50.056511%2C%20-13.555761%5D%2C%20%5B50.217431%2C%20-14.758789%5D%2C%20%5B50.476537%2C%20-15.226512%5D%2C%20%5B50.377111%2C%20-15.706069%5D%2C%20%5B50.200275%2C%20-16.000263%5D%2C%20%5B49.860606%2C%20-15.414253%5D%2C%20%5B49.672607%2C%20-15.710204%5D%2C%20%5B49.863344%2C%20-16.451037%5D%2C%20%5B49.774564%2C%20-16.875042%5D%2C%20%5B49.498612%2C%20-17.106036%5D%2C%20%5B49.435619%2C%20-17.953064%5D%2C%20%5B49.041792%2C%20-19.118781%5D%2C%20%5B48.548541%2C%20-20.496888%5D%2C%20%5B47.930749%2C%20-22.391501%5D%2C%20%5B47.547723%2C%20-23.781959%5D%2C%20%5B47.095761%2C%20-24.94163%5D%2C%20%5B46.282478%2C%20-25.178463%5D%2C%20%5B45.409508%2C%20-25.601434%5D%2C%20%5B44.833574%2C%20-25.346101%5D%2C%20%5B44.03972%2C%20-24.988345%5D%2C%20%5B43.763768%2C%20-24.460677%5D%2C%20%5B43.697778%2C%20-23.574116%5D%2C%20%5B43.345654%2C%20-22.776904%5D%2C%20%5B43.254187%2C%20-22.057413%5D%2C%20%5B43.433298%2C%20-21.336475%5D%2C%20%5B43.893683%2C%20-21.163307%5D%2C%20%5B43.89637%2C%20-20.830459%5D%2C%20%5B44.374325%2C%20-20.072366%5D%2C%20%5B44.464397%2C%20-19.435454%5D%2C%20%5B44.232422%2C%20-18.961995%5D%2C%20%5B44.042976%2C%20-18.331387%5D%2C%20%5B43.963084%2C%20-17.409945%5D%2C%20%5B44.312469%2C%20-16.850496%5D%2C%20%5B44.446517%2C%20-16.216219%5D%2C%20%5B44.944937%2C%20-16.179374%5D%2C%20%5B45.502732%2C%20-15.974373%5D%2C%20%5B45.872994%2C%20-15.793454%5D%2C%20%5B46.312243%2C%20-15.780018%5D%2C%20%5B46.882183%2C%20-15.210182%5D%2C%20%5B47.70513%2C%20-14.594303%5D%2C%20%5B48.005215%2C%20-14.091233%5D%2C%20%5B47.869047%2C%20-13.663869%5D%2C%20%5B48.293828%2C%20-13.784068%5D%2C%20%5B48.84506%2C%20-13.089175%5D%2C%20%5B48.863509%2C%20-12.487868%5D%2C%20%5B49.194651%2C%20-12.040557%5D%2C%20%5B49.543519%2C%20-12.469833%5D%5D%5D%2C%20%22type%22%3A%20%22Polygon%22%7D%2C%20%22id%22%3A%20%22MDG%22%2C%20%22properties%22%3A%20%7B%22name%22%3A%20%22Madagascar%22%7D%2C%20%22type%22%3A%20%22Feature%22%7D%2C%20%7B%22geometry%22%3A%20%7B%22coordinates%22%3A%20%5B%5B%5B-97.140008%2C%2025.869997%5D%2C%20%5B-97.528072%2C%2024.992144%5D%2C%20%5B-97.702946%2C%2024.272343%5D%2C%20%5B-97.776042%2C%2022.93258%5D%2C%20%5B-97.872367%2C%2022.444212%5D%2C%20%5B-97.699044%2C%2021.898689%5D%2C%20%5B-97.38896%2C%2021.411019%5D%2C%20%5B-97.189333%2C%2020.635433%5D%2C%20%5B-96.525576%2C%2019.890931%5D%2C%20%5B-96.292127%2C%2019.320371%5D%2C%20%5B-95.900885%2C%2018.828024%5D%2C%20%5B-94.839063%2C%2018.562717%5D%2C%20%5B-94.42573%2C%2018.144371%5D%2C%20%5B-93.548651%2C%2018.423837%5D%2C%20%5B-92.786114%2C%2018.524839%5D%2C%20%5B-92.037348%2C%2018.704569%5D%2C%20%5B-91.407903%2C%2018.876083%5D%2C%20%5B-90.77187%2C%2019.28412%5D%2C%20%5B-90.53359%2C%2019.867418%5D%2C%20%5B-90.451476%2C%2020.707522%5D%2C%20%5B-90.278618%2C%2020.999855%5D%2C%20%5B-89.601321%2C%2021.261726%5D%2C%20%5B-88.543866%2C%2021.493675%5D%2C%20%5B-87.658417%2C%2021.458846%5D%2C%20%5B-87.05189%2C%2021.543543%5D%2C%20%5B-86.811982%2C%2021.331515%5D%2C%20%5B-86.845908%2C%2020.849865%5D%2C%20%5B-87.383291%2C%2020.255405%5D%2C%20%5B-87.621054%2C%2019.646553%5D%2C%20%5B-87.43675%2C%2019.472403%5D%2C%20%5B-87.58656%2C%2019.04013%5D%2C%20%5B-87.837191%2C%2018.259816%5D%2C%20%5B-88.090664%2C%2018.516648%5D%2C%20%5B-88.300031%2C%2018.499982%5D%2C%20%5B-88.490123%2C%2018.486831%5D%2C%20%5B-88.848344%2C%2017.883198%5D%2C%20%5B-89.029857%2C%2018.001511%5D%2C%20%5B-89.150909%2C%2017.955468%5D%2C%20%5B-89.14308%2C%2017.808319%5D%2C%20%5B-90.067934%2C%2017.819326%5D%2C%20%5B-91.00152%2C%2017.817595%5D%2C%20%5B-91.002269%2C%2017.254658%5D%2C%20%5B-91.453921%2C%2017.252177%5D%2C%20%5B-91.08167%2C%2016.918477%5D%2C%20%5B-90.711822%2C%2016.687483%5D%2C%20%5B-90.600847%2C%2016.470778%5D%2C%20%5B-90.438867%2C%2016.41011%5D%2C%20%5B-90.464473%2C%2016.069562%5D%2C%20%5B-91.74796%2C%2016.066565%5D%2C%20%5B-92.229249%2C%2015.251447%5D%2C%20%5B-92.087216%2C%2015.064585%5D%2C%20%5B-92.20323%2C%2014.830103%5D%2C%20%5B-92.22775%2C%2014.538829%5D%2C%20%5B-93.359464%2C%2015.61543%5D%2C%20%5B-93.875169%2C%2015.940164%5D%2C%20%5B-94.691656%2C%2016.200975%5D%2C%20%5B-95.250227%2C%2016.128318%5D%2C%20%5B-96.053382%2C%2015.752088%5D%2C%20%5B-96.557434%2C%2015.653515%5D%2C%20%5B-97.263592%2C%2015.917065%5D%2C%20%5B-98.01303%2C%2016.107312%5D%2C%20%5B-98.947676%2C%2016.566043%5D%2C%20%5B-99.697397%2C%2016.706164%5D%2C%20%5B-100.829499%2C%2017.171071%5D%2C%20%5B-101.666089%2C%2017.649026%5D%2C%20%5B-101.918528%2C%2017.91609%5D%2C%20%5B-102.478132%2C%2017.975751%5D%2C%20%5B-103.50099%2C%2018.292295%5D%2C%20%5B-103.917527%2C%2018.748572%5D%2C%20%5B-104.99201%2C%2019.316134%5D%2C%20%5B-105.493038%2C%2019.946767%5D%2C%20%5B-105.731396%2C%2020.434102%5D%2C%20%5B-105.397773%2C%2020.531719%5D%2C%20%5B-105.500661%2C%2020.816895%5D%2C%20%5B-105.270752%2C%2021.076285%5D%2C%20%5B-105.265817%2C%2021.422104%5D%2C%20%5B-105.603161%2C%2021.871146%5D%2C%20%5B-105.693414%2C%2022.26908%5D%2C%20%5B-106.028716%2C%2022.773752%5D%2C%20%5B-106.90998%2C%2023.767774%5D%2C%20%5B-107.915449%2C%2024.548915%5D%2C%20%5B-108.401905%2C%2025.172314%5D%2C%20%5B-109.260199%2C%2025.580609%5D%2C%20%5B-109.444089%2C%2025.824884%5D%2C%20%5B-109.291644%2C%2026.442934%5D%2C%20%5B-109.801458%2C%2026.676176%5D%2C%20%5B-110.391732%2C%2027.162115%5D%2C%20%5B-110.641019%2C%2027.859876%5D%2C%20%5B-111.178919%2C%2027.941241%5D%2C%20%5B-111.759607%2C%2028.467953%5D%2C%20%5B-112.228235%2C%2028.954409%5D%2C%20%5B-112.271824%2C%2029.266844%5D%2C%20%5B-112.809594%2C%2030.021114%5D%2C%20%5B-113.163811%2C%2030.786881%5D%2C%20%5B-113.148669%2C%2031.170966%5D%2C%20%5B-113.871881%2C%2031.567608%5D%2C%20%5B-114.205737%2C%2031.524045%5D%2C%20%5B-114.776451%2C%2031.799532%5D%2C%20%5B-114.9367%2C%2031.393485%5D%2C%20%5B-114.771232%2C%2030.913617%5D%2C%20%5B-114.673899%2C%2030.162681%5D%2C%20%5B-114.330974%2C%2029.750432%5D%2C%20%5B-113.588875%2C%2029.061611%5D%2C%20%5B-113.424053%2C%2028.826174%5D%2C%20%5B-113.271969%2C%2028.754783%5D%2C%20%5B-113.140039%2C%2028.411289%5D%2C%20%5B-112.962298%2C%2028.42519%5D%2C%20%5B-112.761587%2C%2027.780217%5D%2C%20%5B-112.457911%2C%2027.525814%5D%2C%20%5B-112.244952%2C%2027.171727%5D%2C%20%5B-111.616489%2C%2026.662817%5D%2C%20%5B-111.284675%2C%2025.73259%5D%2C%20%5B-110.987819%2C%2025.294606%5D%2C%20%5B-110.710007%2C%2024.826004%5D%2C%20%5B-110.655049%2C%2024.298595%5D%2C%20%5B-110.172856%2C%2024.265548%5D%2C%20%5B-109.771847%2C%2023.811183%5D%2C%20%5B-109.409104%2C%2023.364672%5D%2C%20%5B-109.433392%2C%2023.185588%5D%2C%20%5B-109.854219%2C%2022.818272%5D%2C%20%5B-110.031392%2C%2022.823078%5D%2C%20%5B-110.295071%2C%2023.430973%5D%2C%20%5B-110.949501%2C%2024.000964%5D%2C%20%5B-111.670568%2C%2024.484423%5D%2C%20%5B-112.182036%2C%2024.738413%5D%2C%20%5B-112.148989%2C%2025.470125%5D%2C%20%5B-112.300711%2C%2026.012004%5D%2C%20%5B-112.777297%2C%2026.32196%5D%2C%20%5B-113.464671%2C%2026.768186%5D%2C%20%5B-113.59673%2C%2026.63946%5D%2C%20%5B-113.848937%2C%2026.900064%5D%2C%20%5B-114.465747%2C%2027.14209%5D%2C%20%5B-115.055142%2C%2027.722727%5D%2C%20%5B-114.982253%2C%2027.7982%5D%2C%20%5B-114.570366%2C%2027.741485%5D%2C%20%5B-114.199329%2C%2028.115003%5D%2C%20%5B-114.162018%2C%2028.566112%5D%2C%20%5B-114.931842%2C%2029.279479%5D%2C%20%5B-115.518654%2C%2029.556362%5D%2C%20%5B-115.887365%2C%2030.180794%5D%2C%20%5B-116.25835%2C%2030.836464%5D%2C%20%5B-116.721526%2C%2031.635744%5D%2C%20%5B-117.12776%2C%2032.53534%5D%2C%20%5B-115.99135%2C%2032.61239%5D%2C%20%5B-114.72139%2C%2032.72083%5D%2C%20%5B-114.815%2C%2032.52528%5D%2C%20%5B-113.30498%2C%2032.03914%5D%2C%20%5B-111.02361%2C%2031.33472%5D%2C%20%5B-109.035%2C%2031.34194%5D%2C%20%5B-108.24194%2C%2031.34222%5D%2C%20%5B-108.24%2C%2031.754854%5D%2C%20%5B-106.50759%2C%2031.75452%5D%2C%20%5B-106.1429%2C%2031.39995%5D%2C%20%5B-105.63159%2C%2031.08383%5D%2C%20%5B-105.03737%2C%2030.64402%5D%2C%20%5B-104.70575%2C%2030.12173%5D%2C%20%5B-104.45697%2C%2029.57196%5D%2C%20%5B-103.94%2C%2029.27%5D%2C%20%5B-103.11%2C%2028.97%5D%2C%20%5B-102.48%2C%2029.76%5D%2C%20%5B-101.6624%2C%2029.7793%5D%2C%20%5B-100.9576%2C%2029.38071%5D%2C%20%5B-100.45584%2C%2028.69612%5D%2C%20%5B-100.11%2C%2028.11%5D%2C%20%5B-99.52%2C%2027.54%5D%2C%20%5B-99.3%2C%2026.84%5D%2C%20%5B-99.02%2C%2026.37%5D%2C%20%5B-98.24%2C%2026.06%5D%2C%20%5B-97.53%2C%2025.84%5D%2C%20%5B-97.140008%2C%2025.869997%5D%5D%5D%2C%20%22type%22%3A%20%22Polygon%22%7D%2C%20%22id%22%3A%20%22MEX%22%2C%20%22properties%22%3A%20%7B%22name%22%3A%20%22Mexico%22%7D%2C%20%22type%22%3A%20%22Feature%22%7D%2C%20%7B%22geometry%22%3A%20%7B%22coordinates%22%3A%20%5B%5B%5B20.59023%2C%2041.85541%5D%2C%20%5B20.71731%2C%2041.84711%5D%2C%20%5B20.76216%2C%2042.05186%5D%2C%20%5B21.3527%2C%2042.2068%5D%2C%20%5B21.576636%2C%2042.245224%5D%2C%20%5B21.91708%2C%2042.30364%5D%2C%20%5B22.380526%2C%2042.32026%5D%2C%20%5B22.881374%2C%2041.999297%5D%2C%20%5B22.952377%2C%2041.337994%5D%2C%20%5B22.76177%2C%2041.3048%5D%2C%20%5B22.597308%2C%2041.130487%5D%2C%20%5B22.055378%2C%2041.149866%5D%2C%20%5B21.674161%2C%2040.931275%5D%2C%20%5B21.02004%2C%2040.842727%5D%2C%20%5B20.60518%2C%2041.08622%5D%2C%20%5B20.46315%2C%2041.51509%5D%2C%20%5B20.59023%2C%2041.85541%5D%5D%5D%2C%20%22type%22%3A%20%22Polygon%22%7D%2C%20%22id%22%3A%20%22MKD%22%2C%20%22properties%22%3A%20%7B%22name%22%3A%20%22Macedonia%22%7D%2C%20%22type%22%3A%20%22Feature%22%7D%2C%20%7B%22geometry%22%3A%20%7B%22coordinates%22%3A%20%5B%5B%5B-12.17075%2C%2014.616834%5D%2C%20%5B-11.834208%2C%2014.799097%5D%2C%20%5B-11.666078%2C%2015.388208%5D%2C%20%5B-11.349095%2C%2015.411256%5D%2C%20%5B-10.650791%2C%2015.132746%5D%2C%20%5B-10.086846%2C%2015.330486%5D%2C%20%5B-9.700255%2C%2015.264107%5D%2C%20%5B-9.550238%2C%2015.486497%5D%2C%20%5B-5.537744%2C%2015.50169%5D%2C%20%5B-5.315277%2C%2016.201854%5D%2C%20%5B-5.488523%2C%2016.325102%5D%2C%20%5B-5.971129%2C%2020.640833%5D%2C%20%5B-6.453787%2C%2024.956591%5D%2C%20%5B-4.923337%2C%2024.974574%5D%2C%20%5B-1.550055%2C%2022.792666%5D%2C%20%5B1.823228%2C%2020.610809%5D%2C%20%5B2.060991%2C%2020.142233%5D%2C%20%5B2.683588%2C%2019.85623%5D%2C%20%5B3.146661%2C%2019.693579%5D%2C%20%5B3.158133%2C%2019.057364%5D%2C%20%5B4.267419%2C%2019.155265%5D%2C%20%5B4.27021%2C%2016.852227%5D%2C%20%5B3.723422%2C%2016.184284%5D%2C%20%5B3.638259%2C%2015.56812%5D%2C%20%5B2.749993%2C%2015.409525%5D%2C%20%5B1.385528%2C%2015.323561%5D%2C%20%5B1.015783%2C%2014.968182%5D%2C%20%5B0.374892%2C%2014.928908%5D%2C%20%5B-0.266257%2C%2014.924309%5D%2C%20%5B-0.515854%2C%2015.116158%5D%2C%20%5B-1.066363%2C%2014.973815%5D%2C%20%5B-2.001035%2C%2014.559008%5D%2C%20%5B-2.191825%2C%2014.246418%5D%2C%20%5B-2.967694%2C%2013.79815%5D%2C%20%5B-3.103707%2C%2013.541267%5D%2C%20%5B-3.522803%2C%2013.337662%5D%2C%20%5B-4.006391%2C%2013.472485%5D%2C%20%5B-4.280405%2C%2013.228444%5D%2C%20%5B-4.427166%2C%2012.542646%5D%2C%20%5B-5.220942%2C%2011.713859%5D%2C%20%5B-5.197843%2C%2011.375146%5D%2C%20%5B-5.470565%2C%2010.95127%5D%2C%20%5B-5.404342%2C%2010.370737%5D%2C%20%5B-5.816926%2C%2010.222555%5D%2C%20%5B-6.050452%2C%2010.096361%5D%2C%20%5B-6.205223%2C%2010.524061%5D%2C%20%5B-6.493965%2C%2010.411303%5D%2C%20%5B-6.666461%2C%2010.430811%5D%2C%20%5B-6.850507%2C%2010.138994%5D%2C%20%5B-7.622759%2C%2010.147236%5D%2C%20%5B-7.89959%2C%2010.297382%5D%2C%20%5B-8.029944%2C%2010.206535%5D%2C%20%5B-8.335377%2C%2010.494812%5D%2C%20%5B-8.282357%2C%2010.792597%5D%2C%20%5B-8.407311%2C%2010.909257%5D%2C%20%5B-8.620321%2C%2010.810891%5D%2C%20%5B-8.581305%2C%2011.136246%5D%2C%20%5B-8.376305%2C%2011.393646%5D%2C%20%5B-8.786099%2C%2011.812561%5D%2C%20%5B-8.905265%2C%2012.088358%5D%2C%20%5B-9.127474%2C%2012.30806%5D%2C%20%5B-9.327616%2C%2012.334286%5D%2C%20%5B-9.567912%2C%2012.194243%5D%2C%20%5B-9.890993%2C%2012.060479%5D%2C%20%5B-10.165214%2C%2011.844084%5D%2C%20%5B-10.593224%2C%2011.923975%5D%2C%20%5B-10.87083%2C%2012.177887%5D%2C%20%5B-11.036556%2C%2012.211245%5D%2C%20%5B-11.297574%2C%2012.077971%5D%2C%20%5B-11.456169%2C%2012.076834%5D%2C%20%5B-11.513943%2C%2012.442988%5D%2C%20%5B-11.467899%2C%2012.754519%5D%2C%20%5B-11.553398%2C%2013.141214%5D%2C%20%5B-11.927716%2C%2013.422075%5D%2C%20%5B-12.124887%2C%2013.994727%5D%2C%20%5B-12.17075%2C%2014.616834%5D%5D%5D%2C%20%22type%22%3A%20%22Polygon%22%7D%2C%20%22id%22%3A%20%22MLI%22%2C%20%22properties%22%3A%20%7B%22name%22%3A%20%22Mali%22%7D%2C%20%22type%22%3A%20%22Feature%22%7D%2C%20%7B%22geometry%22%3A%20%7B%22coordinates%22%3A%20%5B%5B%5B99.543309%2C%2020.186598%5D%2C%20%5B98.959676%2C%2019.752981%5D%2C%20%5B98.253724%2C%2019.708203%5D%2C%20%5B97.797783%2C%2018.62708%5D%2C%20%5B97.375896%2C%2018.445438%5D%2C%20%5B97.859123%2C%2017.567946%5D%2C%20%5B98.493761%2C%2016.837836%5D%2C%20%5B98.903348%2C%2016.177824%5D%2C%20%5B98.537376%2C%2015.308497%5D%2C%20%5B98.192074%2C%2015.123703%5D%2C%20%5B98.430819%2C%2014.622028%5D%2C%20%5B99.097755%2C%2013.827503%5D%2C%20%5B99.212012%2C%2013.269294%5D%2C%20%5B99.196354%2C%2012.804748%5D%2C%20%5B99.587286%2C%2011.892763%5D%2C%20%5B99.038121%2C%2010.960546%5D%2C%20%5B98.553551%2C%209.93296%5D%2C%20%5B98.457174%2C%2010.675266%5D%2C%20%5B98.764546%2C%2011.441292%5D%2C%20%5B98.428339%2C%2012.032987%5D%2C%20%5B98.509574%2C%2013.122378%5D%2C%20%5B98.103604%2C%2013.64046%5D%2C%20%5B97.777732%2C%2014.837286%5D%2C%20%5B97.597072%2C%2016.100568%5D%2C%20%5B97.16454%2C%2016.928734%5D%2C%20%5B96.505769%2C%2016.427241%5D%2C%20%5B95.369352%2C%2015.71439%5D%2C%20%5B94.808405%2C%2015.803454%5D%2C%20%5B94.188804%2C%2016.037936%5D%2C%20%5B94.533486%2C%2017.27724%5D%2C%20%5B94.324817%2C%2018.213514%5D%2C%20%5B93.540988%2C%2019.366493%5D%2C%20%5B93.663255%2C%2019.726962%5D%2C%20%5B93.078278%2C%2019.855145%5D%2C%20%5B92.368554%2C%2020.670883%5D%2C%20%5B92.303234%2C%2021.475485%5D%2C%20%5B92.652257%2C%2021.324048%5D%2C%20%5B92.672721%2C%2022.041239%5D%2C%20%5B93.166128%2C%2022.27846%5D%2C%20%5B93.060294%2C%2022.703111%5D%2C%20%5B93.286327%2C%2023.043658%5D%2C%20%5B93.325188%2C%2024.078556%5D%2C%20%5B94.106742%2C%2023.850741%5D%2C%20%5B94.552658%2C%2024.675238%5D%2C%20%5B94.603249%2C%2025.162495%5D%2C%20%5B95.155153%2C%2026.001307%5D%2C%20%5B95.124768%2C%2026.573572%5D%2C%20%5B96.419366%2C%2027.264589%5D%2C%20%5B97.133999%2C%2027.083774%5D%2C%20%5B97.051989%2C%2027.699059%5D%2C%20%5B97.402561%2C%2027.882536%5D%2C%20%5B97.327114%2C%2028.261583%5D%2C%20%5B97.911988%2C%2028.335945%5D%2C%20%5B98.246231%2C%2027.747221%5D%2C%20%5B98.68269%2C%2027.508812%5D%2C%20%5B98.712094%2C%2026.743536%5D%2C%20%5B98.671838%2C%2025.918703%5D%2C%20%5B97.724609%2C%2025.083637%5D%2C%20%5B97.60472%2C%2023.897405%5D%2C%20%5B98.660262%2C%2024.063286%5D%2C%20%5B98.898749%2C%2023.142722%5D%2C%20%5B99.531992%2C%2022.949039%5D%2C%20%5B99.240899%2C%2022.118314%5D%2C%20%5B99.983489%2C%2021.742937%5D%2C%20%5B100.416538%2C%2021.558839%5D%2C%20%5B101.150033%2C%2021.849984%5D%2C%20%5B101.180005%2C%2021.436573%5D%2C%20%5B100.329101%2C%2020.786122%5D%2C%20%5B100.115988%2C%2020.41785%5D%2C%20%5B99.543309%2C%2020.186598%5D%5D%5D%2C%20%22type%22%3A%20%22Polygon%22%7D%2C%20%22id%22%3A%20%22MMR%22%2C%20%22properties%22%3A%20%7B%22name%22%3A%20%22Myanmar%22%7D%2C%20%22type%22%3A%20%22Feature%22%7D%2C%20%7B%22geometry%22%3A%20%7B%22coordinates%22%3A%20%5B%5B%5B19.801613%2C%2042.500093%5D%2C%20%5B19.738051%2C%2042.688247%5D%2C%20%5B19.30449%2C%2042.19574%5D%2C%20%5B19.37177%2C%2041.87755%5D%2C%20%5B19.16246%2C%2041.95502%5D%2C%20%5B18.88214%2C%2042.28151%5D%2C%20%5B18.45%2C%2042.48%5D%2C%20%5B18.56%2C%2042.65%5D%2C%20%5B18.70648%2C%2043.20011%5D%2C%20%5B19.03165%2C%2043.43253%5D%2C%20%5B19.21852%2C%2043.52384%5D%2C%20%5B19.48389%2C%2043.35229%5D%2C%20%5B19.63%2C%2043.21378%5D%2C%20%5B19.95857%2C%2043.10604%5D%2C%20%5B20.3398%2C%2042.89852%5D%2C%20%5B20.25758%2C%2042.81275%5D%2C%20%5B20.0707%2C%2042.58863%5D%2C%20%5B19.801613%2C%2042.500093%5D%5D%5D%2C%20%22type%22%3A%20%22Polygon%22%7D%2C%20%22id%22%3A%20%22MNE%22%2C%20%22properties%22%3A%20%7B%22name%22%3A%20%22Montenegro%22%7D%2C%20%22type%22%3A%20%22Feature%22%7D%2C%20%7B%22geometry%22%3A%20%7B%22coordinates%22%3A%20%5B%5B%5B87.751264%2C%2049.297198%5D%2C%20%5B88.805567%2C%2049.470521%5D%2C%20%5B90.713667%2C%2050.331812%5D%2C%20%5B92.234712%2C%2050.802171%5D%2C%20%5B93.104219%2C%2050.49529%5D%2C%20%5B94.147566%2C%2050.480537%5D%2C%20%5B94.815949%2C%2050.013433%5D%2C%20%5B95.814028%2C%2049.977467%5D%2C%20%5B97.259728%2C%2049.726061%5D%2C%20%5B98.231762%2C%2050.422401%5D%2C%20%5B97.82574%2C%2051.010995%5D%2C%20%5B98.861491%2C%2052.047366%5D%2C%20%5B99.981732%2C%2051.634006%5D%2C%20%5B100.88948%2C%2051.516856%5D%2C%20%5B102.065223%2C%2051.259921%5D%2C%20%5B102.255909%2C%2050.510561%5D%2C%20%5B103.676545%2C%2050.089966%5D%2C%20%5B104.621552%2C%2050.275329%5D%2C%20%5B105.886591%2C%2050.406019%5D%2C%20%5B106.888804%2C%2050.274296%5D%2C%20%5B107.868176%2C%2049.793705%5D%2C%20%5B108.475167%2C%2049.282548%5D%2C%20%5B109.402449%2C%2049.292961%5D%2C%20%5B110.662011%2C%2049.130128%5D%2C%20%5B111.581231%2C%2049.377968%5D%2C%20%5B112.89774%2C%2049.543565%5D%2C%20%5B114.362456%2C%2050.248303%5D%2C%20%5B114.96211%2C%2050.140247%5D%2C%20%5B115.485695%2C%2049.805177%5D%2C%20%5B116.678801%2C%2049.888531%5D%2C%20%5B116.191802%2C%2049.134598%5D%2C%20%5B115.485282%2C%2048.135383%5D%2C%20%5B115.742837%2C%2047.726545%5D%2C%20%5B116.308953%2C%2047.85341%5D%2C%20%5B117.295507%2C%2047.697709%5D%2C%20%5B118.064143%2C%2048.06673%5D%2C%20%5B118.866574%2C%2047.74706%5D%2C%20%5B119.772824%2C%2047.048059%5D%2C%20%5B119.66327%2C%2046.69268%5D%2C%20%5B118.874326%2C%2046.805412%5D%2C%20%5B117.421701%2C%2046.672733%5D%2C%20%5B116.717868%2C%2046.388202%5D%2C%20%5B115.985096%2C%2045.727235%5D%2C%20%5B114.460332%2C%2045.339817%5D%2C%20%5B113.463907%2C%2044.808893%5D%2C%20%5B112.436062%2C%2045.011646%5D%2C%20%5B111.873306%2C%2045.102079%5D%2C%20%5B111.348377%2C%2044.457442%5D%2C%20%5B111.667737%2C%2044.073176%5D%2C%20%5B111.829588%2C%2043.743118%5D%2C%20%5B111.129682%2C%2043.406834%5D%2C%20%5B110.412103%2C%2042.871234%5D%2C%20%5B109.243596%2C%2042.519446%5D%2C%20%5B107.744773%2C%2042.481516%5D%2C%20%5B106.129316%2C%2042.134328%5D%2C%20%5B104.964994%2C%2041.59741%5D%2C%20%5B104.522282%2C%2041.908347%5D%2C%20%5B103.312278%2C%2041.907468%5D%2C%20%5B101.83304%2C%2042.514873%5D%2C%20%5B100.845866%2C%2042.663804%5D%2C%20%5B99.515817%2C%2042.524691%5D%2C%20%5B97.451757%2C%2042.74889%5D%2C%20%5B96.349396%2C%2042.725635%5D%2C%20%5B95.762455%2C%2043.319449%5D%2C%20%5B95.306875%2C%2044.241331%5D%2C%20%5B94.688929%2C%2044.352332%5D%2C%20%5B93.480734%2C%2044.975472%5D%2C%20%5B92.133891%2C%2045.115076%5D%2C%20%5B90.94554%2C%2045.286073%5D%2C%20%5B90.585768%2C%2045.719716%5D%2C%20%5B90.970809%2C%2046.888146%5D%2C%20%5B90.280826%2C%2047.693549%5D%2C%20%5B88.854298%2C%2048.069082%5D%2C%20%5B88.013832%2C%2048.599463%5D%2C%20%5B87.751264%2C%2049.297198%5D%5D%5D%2C%20%22type%22%3A%20%22Polygon%22%7D%2C%20%22id%22%3A%20%22MNG%22%2C%20%22properties%22%3A%20%7B%22name%22%3A%20%22Mongolia%22%7D%2C%20%22type%22%3A%20%22Feature%22%7D%2C%20%7B%22geometry%22%3A%20%7B%22coordinates%22%3A%20%5B%5B%5B34.559989%2C%20-11.52002%5D%2C%20%5B35.312398%2C%20-11.439146%5D%2C%20%5B36.514082%2C%20-11.720938%5D%2C%20%5B36.775151%2C%20-11.594537%5D%2C%20%5B37.471284%2C%20-11.568751%5D%2C%20%5B37.827645%2C%20-11.268769%5D%2C%20%5B38.427557%2C%20-11.285202%5D%2C%20%5B39.52103%2C%20-10.896854%5D%2C%20%5B40.316589%2C%20-10.317096%5D%2C%20%5B40.478387%2C%20-10.765441%5D%2C%20%5B40.437253%2C%20-11.761711%5D%2C%20%5B40.560811%2C%20-12.639177%5D%2C%20%5B40.59962%2C%20-14.201975%5D%2C%20%5B40.775475%2C%20-14.691764%5D%2C%20%5B40.477251%2C%20-15.406294%5D%2C%20%5B40.089264%2C%20-16.100774%5D%2C%20%5B39.452559%2C%20-16.720891%5D%2C%20%5B38.538351%2C%20-17.101023%5D%2C%20%5B37.411133%2C%20-17.586368%5D%2C%20%5B36.281279%2C%20-18.659688%5D%2C%20%5B35.896497%2C%20-18.84226%5D%2C%20%5B35.1984%2C%20-19.552811%5D%2C%20%5B34.786383%2C%20-19.784012%5D%2C%20%5B34.701893%2C%20-20.497043%5D%2C%20%5B35.176127%2C%20-21.254361%5D%2C%20%5B35.373428%2C%20-21.840837%5D%2C%20%5B35.385848%2C%20-22.14%5D%2C%20%5B35.562546%2C%20-22.09%5D%2C%20%5B35.533935%2C%20-23.070788%5D%2C%20%5B35.371774%2C%20-23.535359%5D%2C%20%5B35.60747%2C%20-23.706563%5D%2C%20%5B35.458746%2C%20-24.12261%5D%2C%20%5B35.040735%2C%20-24.478351%5D%2C%20%5B34.215824%2C%20-24.816314%5D%2C%20%5B33.01321%2C%20-25.357573%5D%2C%20%5B32.574632%2C%20-25.727318%5D%2C%20%5B32.660363%2C%20-26.148584%5D%2C%20%5B32.915955%2C%20-26.215867%5D%2C%20%5B32.83012%2C%20-26.742192%5D%2C%20%5B32.071665%2C%20-26.73382%5D%2C%20%5B31.985779%2C%20-26.29178%5D%2C%20%5B31.837778%2C%20-25.843332%5D%2C%20%5B31.752408%2C%20-25.484284%5D%2C%20%5B31.930589%2C%20-24.369417%5D%2C%20%5B31.670398%2C%20-23.658969%5D%2C%20%5B31.191409%2C%20-22.25151%5D%2C%20%5B32.244988%2C%20-21.116489%5D%2C%20%5B32.508693%2C%20-20.395292%5D%2C%20%5B32.659743%2C%20-20.30429%5D%2C%20%5B32.772708%2C%20-19.715592%5D%2C%20%5B32.611994%2C%20-19.419383%5D%2C%20%5B32.654886%2C%20-18.67209%5D%2C%20%5B32.849861%2C%20-17.979057%5D%2C%20%5B32.847639%2C%20-16.713398%5D%2C%20%5B32.328239%2C%20-16.392074%5D%2C%20%5B31.852041%2C%20-16.319417%5D%2C%20%5B31.636498%2C%20-16.07199%5D%2C%20%5B31.173064%2C%20-15.860944%5D%2C%20%5B30.338955%2C%20-15.880839%5D%2C%20%5B30.274256%2C%20-15.507787%5D%2C%20%5B30.179481%2C%20-14.796099%5D%2C%20%5B33.214025%2C%20-13.97186%5D%2C%20%5B33.7897%2C%20-14.451831%5D%2C%20%5B34.064825%2C%20-14.35995%5D%2C%20%5B34.459633%2C%20-14.61301%5D%2C%20%5B34.517666%2C%20-15.013709%5D%2C%20%5B34.307291%2C%20-15.478641%5D%2C%20%5B34.381292%2C%20-16.18356%5D%2C%20%5B35.03381%2C%20-16.8013%5D%2C%20%5B35.339063%2C%20-16.10744%5D%2C%20%5B35.771905%2C%20-15.896859%5D%2C%20%5B35.686845%2C%20-14.611046%5D%2C%20%5B35.267956%2C%20-13.887834%5D%2C%20%5B34.907151%2C%20-13.565425%5D%2C%20%5B34.559989%2C%20-13.579998%5D%2C%20%5B34.280006%2C%20-12.280025%5D%2C%20%5B34.559989%2C%20-11.52002%5D%5D%5D%2C%20%22type%22%3A%20%22Polygon%22%7D%2C%20%22id%22%3A%20%22MOZ%22%2C%20%22properties%22%3A%20%7B%22name%22%3A%20%22Mozambique%22%7D%2C%20%22type%22%3A%20%22Feature%22%7D%2C%20%7B%22geometry%22%3A%20%7B%22coordinates%22%3A%20%5B%5B%5B-12.17075%2C%2014.616834%5D%2C%20%5B-12.830658%2C%2015.303692%5D%2C%20%5B-13.435738%2C%2016.039383%5D%2C%20%5B-14.099521%2C%2016.304302%5D%2C%20%5B-14.577348%2C%2016.598264%5D%2C%20%5B-15.135737%2C%2016.587282%5D%2C%20%5B-15.623666%2C%2016.369337%5D%2C%20%5B-16.12069%2C%2016.455663%5D%2C%20%5B-16.463098%2C%2016.135036%5D%2C%20%5B-16.549708%2C%2016.673892%5D%2C%20%5B-16.270552%2C%2017.166963%5D%2C%20%5B-16.146347%2C%2018.108482%5D%2C%20%5B-16.256883%2C%2019.096716%5D%2C%20%5B-16.377651%2C%2019.593817%5D%2C%20%5B-16.277838%2C%2020.092521%5D%2C%20%5B-16.536324%2C%2020.567866%5D%2C%20%5B-17.063423%2C%2020.999752%5D%2C%20%5B-16.845194%2C%2021.333323%5D%2C%20%5B-12.929102%2C%2021.327071%5D%2C%20%5B-13.118754%2C%2022.77122%5D%2C%20%5B-12.874222%2C%2023.284832%5D%2C%20%5B-11.937224%2C%2023.374594%5D%2C%20%5B-11.969419%2C%2025.933353%5D%2C%20%5B-8.687294%2C%2025.881056%5D%2C%20%5B-8.6844%2C%2027.395744%5D%2C%20%5B-4.923337%2C%2024.974574%5D%2C%20%5B-6.453787%2C%2024.956591%5D%2C%20%5B-5.971129%2C%2020.640833%5D%2C%20%5B-5.488523%2C%2016.325102%5D%2C%20%5B-5.315277%2C%2016.201854%5D%2C%20%5B-5.537744%2C%2015.50169%5D%2C%20%5B-9.550238%2C%2015.486497%5D%2C%20%5B-9.700255%2C%2015.264107%5D%2C%20%5B-10.086846%2C%2015.330486%5D%2C%20%5B-10.650791%2C%2015.132746%5D%2C%20%5B-11.349095%2C%2015.411256%5D%2C%20%5B-11.666078%2C%2015.388208%5D%2C%20%5B-11.834208%2C%2014.799097%5D%2C%20%5B-12.17075%2C%2014.616834%5D%5D%5D%2C%20%22type%22%3A%20%22Polygon%22%7D%2C%20%22id%22%3A%20%22MRT%22%2C%20%22properties%22%3A%20%7B%22name%22%3A%20%22Mauritania%22%7D%2C%20%22type%22%3A%20%22Feature%22%7D%2C%20%7B%22geometry%22%3A%20%7B%22coordinates%22%3A%20%5B%5B%5B34.559989%2C%20-11.52002%5D%2C%20%5B34.280006%2C%20-12.280025%5D%2C%20%5B34.559989%2C%20-13.579998%5D%2C%20%5B34.907151%2C%20-13.565425%5D%2C%20%5B35.267956%2C%20-13.887834%5D%2C%20%5B35.686845%2C%20-14.611046%5D%2C%20%5B35.771905%2C%20-15.896859%5D%2C%20%5B35.339063%2C%20-16.10744%5D%2C%20%5B35.03381%2C%20-16.8013%5D%2C%20%5B34.381292%2C%20-16.18356%5D%2C%20%5B34.307291%2C%20-15.478641%5D%2C%20%5B34.517666%2C%20-15.013709%5D%2C%20%5B34.459633%2C%20-14.61301%5D%2C%20%5B34.064825%2C%20-14.35995%5D%2C%20%5B33.7897%2C%20-14.451831%5D%2C%20%5B33.214025%2C%20-13.97186%5D%2C%20%5B32.688165%2C%20-13.712858%5D%2C%20%5B32.991764%2C%20-12.783871%5D%2C%20%5B33.306422%2C%20-12.435778%5D%2C%20%5B33.114289%2C%20-11.607198%5D%2C%20%5B33.31531%2C%20-10.79655%5D%2C%20%5B33.485688%2C%20-10.525559%5D%2C%20%5B33.231388%2C%20-9.676722%5D%2C%20%5B32.759375%2C%20-9.230599%5D%2C%20%5B33.739729%2C%20-9.417151%5D%2C%20%5B33.940838%2C%20-9.693674%5D%2C%20%5B34.280006%2C%20-10.16%5D%2C%20%5B34.559989%2C%20-11.52002%5D%5D%5D%2C%20%22type%22%3A%20%22Polygon%22%7D%2C%20%22id%22%3A%20%22MWI%22%2C%20%22properties%22%3A%20%7B%22name%22%3A%20%22Malawi%22%7D%2C%20%22type%22%3A%20%22Feature%22%7D%2C%20%7B%22geometry%22%3A%20%7B%22coordinates%22%3A%20%5B%5B%5B%5B101.075516%2C%206.204867%5D%2C%20%5B101.154219%2C%205.691384%5D%2C%20%5B101.814282%2C%205.810808%5D%2C%20%5B102.141187%2C%206.221636%5D%2C%20%5B102.371147%2C%206.128205%5D%2C%20%5B102.961705%2C%205.524495%5D%2C%20%5B103.381215%2C%204.855001%5D%2C%20%5B103.438575%2C%204.181606%5D%2C%20%5B103.332122%2C%203.726698%5D%2C%20%5B103.429429%2C%203.382869%5D%2C%20%5B103.502448%2C%202.791019%5D%2C%20%5B103.854674%2C%202.515454%5D%2C%20%5B104.247932%2C%201.631141%5D%2C%20%5B104.228811%2C%201.293048%5D%2C%20%5B103.519707%2C%201.226334%5D%2C%20%5B102.573615%2C%201.967115%5D%2C%20%5B101.390638%2C%202.760814%5D%2C%20%5B101.27354%2C%203.270292%5D%2C%20%5B100.695435%2C%203.93914%5D%2C%20%5B100.557408%2C%204.76728%5D%2C%20%5B100.196706%2C%205.312493%5D%2C%20%5B100.30626%2C%206.040562%5D%2C%20%5B100.085757%2C%206.464489%5D%2C%20%5B100.259596%2C%206.642825%5D%2C%20%5B101.075516%2C%206.204867%5D%5D%5D%2C%20%5B%5B%5B118.618321%2C%204.478202%5D%2C%20%5B117.882035%2C%204.137551%5D%2C%20%5B117.015214%2C%204.306094%5D%2C%20%5B115.865517%2C%204.306559%5D%2C%20%5B115.519078%2C%203.169238%5D%2C%20%5B115.134037%2C%202.821482%5D%2C%20%5B114.621355%2C%201.430688%5D%2C%20%5B113.80585%2C%201.217549%5D%2C%20%5B112.859809%2C%201.49779%5D%2C%20%5B112.380252%2C%201.410121%5D%2C%20%5B111.797548%2C%200.904441%5D%2C%20%5B111.159138%2C%200.976478%5D%2C%20%5B110.514061%2C%200.773131%5D%2C%20%5B109.830227%2C%201.338136%5D%2C%20%5B109.66326%2C%202.006467%5D%2C%20%5B110.396135%2C%201.663775%5D%2C%20%5B111.168853%2C%201.850637%5D%2C%20%5B111.370081%2C%202.697303%5D%2C%20%5B111.796928%2C%202.885897%5D%2C%20%5B112.995615%2C%203.102395%5D%2C%20%5B113.712935%2C%203.893509%5D%2C%20%5B114.204017%2C%204.525874%5D%2C%20%5B114.659596%2C%204.007637%5D%2C%20%5B114.869557%2C%204.348314%5D%2C%20%5B115.347461%2C%204.316636%5D%2C%20%5B115.4057%2C%204.955228%5D%2C%20%5B115.45071%2C%205.44773%5D%2C%20%5B116.220741%2C%206.143191%5D%2C%20%5B116.725103%2C%206.924771%5D%2C%20%5B117.129626%2C%206.928053%5D%2C%20%5B117.643393%2C%206.422166%5D%2C%20%5B117.689075%2C%205.98749%5D%2C%20%5B118.347691%2C%205.708696%5D%2C%20%5B119.181904%2C%205.407836%5D%2C%20%5B119.110694%2C%205.016128%5D%2C%20%5B118.439727%2C%204.966519%5D%2C%20%5B118.618321%2C%204.478202%5D%5D%5D%5D%2C%20%22type%22%3A%20%22MultiPolygon%22%7D%2C%20%22id%22%3A%20%22MYS%22%2C%20%22properties%22%3A%20%7B%22name%22%3A%20%22Malaysia%22%7D%2C%20%22type%22%3A%20%22Feature%22%7D%2C%20%7B%22geometry%22%3A%20%7B%22coordinates%22%3A%20%5B%5B%5B16.344977%2C%20-28.576705%5D%2C%20%5B15.601818%2C%20-27.821247%5D%2C%20%5B15.210472%2C%20-27.090956%5D%2C%20%5B14.989711%2C%20-26.117372%5D%2C%20%5B14.743214%2C%20-25.39292%5D%2C%20%5B14.408144%2C%20-23.853014%5D%2C%20%5B14.385717%2C%20-22.656653%5D%2C%20%5B14.257714%2C%20-22.111208%5D%2C%20%5B13.868642%2C%20-21.699037%5D%2C%20%5B13.352498%2C%20-20.872834%5D%2C%20%5B12.826845%2C%20-19.673166%5D%2C%20%5B12.608564%2C%20-19.045349%5D%2C%20%5B11.794919%2C%20-18.069129%5D%2C%20%5B11.734199%2C%20-17.301889%5D%2C%20%5B12.215461%2C%20-17.111668%5D%2C%20%5B12.814081%2C%20-16.941343%5D%2C%20%5B13.462362%2C%20-16.971212%5D%2C%20%5B14.058501%2C%20-17.423381%5D%2C%20%5B14.209707%2C%20-17.353101%5D%2C%20%5B18.263309%2C%20-17.309951%5D%2C%20%5B18.956187%2C%20-17.789095%5D%2C%20%5B21.377176%2C%20-17.930636%5D%2C%20%5B23.215048%2C%20-17.523116%5D%2C%20%5B24.033862%2C%20-17.295843%5D%2C%20%5B24.682349%2C%20-17.353411%5D%2C%20%5B25.07695%2C%20-17.578823%5D%2C%20%5B25.084443%2C%20-17.661816%5D%2C%20%5B24.520705%2C%20-17.887125%5D%2C%20%5B24.217365%2C%20-17.889347%5D%2C%20%5B23.579006%2C%20-18.281261%5D%2C%20%5B23.196858%2C%20-17.869038%5D%2C%20%5B21.65504%2C%20-18.219146%5D%2C%20%5B20.910641%2C%20-18.252219%5D%2C%20%5B20.881134%2C%20-21.814327%5D%2C%20%5B19.895458%2C%20-21.849157%5D%2C%20%5B19.895768%2C%20-24.76779%5D%2C%20%5B19.894734%2C%20-28.461105%5D%2C%20%5B19.002127%2C%20-28.972443%5D%2C%20%5B18.464899%2C%20-29.045462%5D%2C%20%5B17.836152%2C%20-28.856378%5D%2C%20%5B17.387497%2C%20-28.783514%5D%2C%20%5B17.218929%2C%20-28.355943%5D%2C%20%5B16.824017%2C%20-28.082162%5D%2C%20%5B16.344977%2C%20-28.576705%5D%5D%5D%2C%20%22type%22%3A%20%22Polygon%22%7D%2C%20%22id%22%3A%20%22NAM%22%2C%20%22properties%22%3A%20%7B%22name%22%3A%20%22Namibia%22%7D%2C%20%22type%22%3A%20%22Feature%22%7D%2C%20%7B%22geometry%22%3A%20%7B%22coordinates%22%3A%20%5B%5B%5B165.77999%2C%20-21.080005%5D%2C%20%5B166.599991%2C%20-21.700019%5D%2C%20%5B167.120011%2C%20-22.159991%5D%2C%20%5B166.740035%2C%20-22.399976%5D%2C%20%5B166.189732%2C%20-22.129708%5D%2C%20%5B165.474375%2C%20-21.679607%5D%2C%20%5B164.829815%2C%20-21.14982%5D%2C%20%5B164.167995%2C%20-20.444747%5D%2C%20%5B164.029606%2C%20-20.105646%5D%2C%20%5B164.459967%2C%20-20.120012%5D%2C%20%5B165.020036%2C%20-20.459991%5D%2C%20%5B165.460009%2C%20-20.800022%5D%2C%20%5B165.77999%2C%20-21.080005%5D%5D%5D%2C%20%22type%22%3A%20%22Polygon%22%7D%2C%20%22id%22%3A%20%22NCL%22%2C%20%22properties%22%3A%20%7B%22name%22%3A%20%22New%20Caledonia%22%7D%2C%20%22type%22%3A%20%22Feature%22%7D%2C%20%7B%22geometry%22%3A%20%7B%22coordinates%22%3A%20%5B%5B%5B2.154474%2C%2011.94015%5D%2C%20%5B2.177108%2C%2012.625018%5D%2C%20%5B1.024103%2C%2012.851826%5D%2C%20%5B0.993046%2C%2013.33575%5D%2C%20%5B0.429928%2C%2013.988733%5D%2C%20%5B0.295646%2C%2014.444235%5D%2C%20%5B0.374892%2C%2014.928908%5D%2C%20%5B1.015783%2C%2014.968182%5D%2C%20%5B1.385528%2C%2015.323561%5D%2C%20%5B2.749993%2C%2015.409525%5D%2C%20%5B3.638259%2C%2015.56812%5D%2C%20%5B3.723422%2C%2016.184284%5D%2C%20%5B4.27021%2C%2016.852227%5D%2C%20%5B4.267419%2C%2019.155265%5D%2C%20%5B5.677566%2C%2019.601207%5D%2C%20%5B8.572893%2C%2021.565661%5D%2C%20%5B11.999506%2C%2023.471668%5D%2C%20%5B13.581425%2C%2023.040506%5D%2C%20%5B14.143871%2C%2022.491289%5D%2C%20%5B14.8513%2C%2022.86295%5D%2C%20%5B15.096888%2C%2021.308519%5D%2C%20%5B15.471077%2C%2021.048457%5D%2C%20%5B15.487148%2C%2020.730415%5D%2C%20%5B15.903247%2C%2020.387619%5D%2C%20%5B15.685741%2C%2019.95718%5D%2C%20%5B15.300441%2C%2017.92795%5D%2C%20%5B15.247731%2C%2016.627306%5D%2C%20%5B13.972202%2C%2015.684366%5D%2C%20%5B13.540394%2C%2014.367134%5D%2C%20%5B13.956699%2C%2013.996691%5D%2C%20%5B13.954477%2C%2013.353449%5D%2C%20%5B14.595781%2C%2013.330427%5D%2C%20%5B14.495787%2C%2012.859396%5D%2C%20%5B14.213531%2C%2012.802035%5D%2C%20%5B14.181336%2C%2012.483657%5D%2C%20%5B13.995353%2C%2012.461565%5D%2C%20%5B13.318702%2C%2013.556356%5D%2C%20%5B13.083987%2C%2013.596147%5D%2C%20%5B12.302071%2C%2013.037189%5D%2C%20%5B11.527803%2C%2013.32898%5D%2C%20%5B10.989593%2C%2013.387323%5D%2C%20%5B10.701032%2C%2013.246918%5D%2C%20%5B10.114814%2C%2013.277252%5D%2C%20%5B9.524928%2C%2012.851102%5D%2C%20%5B9.014933%2C%2012.826659%5D%2C%20%5B7.804671%2C%2013.343527%5D%2C%20%5B7.330747%2C%2013.098038%5D%2C%20%5B6.820442%2C%2013.115091%5D%2C%20%5B6.445426%2C%2013.492768%5D%2C%20%5B5.443058%2C%2013.865924%5D%2C%20%5B4.368344%2C%2013.747482%5D%2C%20%5B4.107946%2C%2013.531216%5D%2C%20%5B3.967283%2C%2012.956109%5D%2C%20%5B3.680634%2C%2012.552903%5D%2C%20%5B3.61118%2C%2011.660167%5D%2C%20%5B2.848643%2C%2012.235636%5D%2C%20%5B2.490164%2C%2012.233052%5D%2C%20%5B2.154474%2C%2011.94015%5D%5D%5D%2C%20%22type%22%3A%20%22Polygon%22%7D%2C%20%22id%22%3A%20%22NER%22%2C%20%22properties%22%3A%20%7B%22name%22%3A%20%22Niger%22%7D%2C%20%22type%22%3A%20%22Feature%22%7D%2C%20%7B%22geometry%22%3A%20%7B%22coordinates%22%3A%20%5B%5B%5B8.500288%2C%204.771983%5D%2C%20%5B7.462108%2C%204.412108%5D%2C%20%5B7.082596%2C%204.464689%5D%2C%20%5B6.698072%2C%204.240594%5D%2C%20%5B5.898173%2C%204.262453%5D%2C%20%5B5.362805%2C%204.887971%5D%2C%20%5B5.033574%2C%205.611802%5D%2C%20%5B4.325607%2C%206.270651%5D%2C%20%5B3.57418%2C%206.2583%5D%2C%20%5B2.691702%2C%206.258817%5D%2C%20%5B2.749063%2C%207.870734%5D%2C%20%5B2.723793%2C%208.506845%5D%2C%20%5B2.912308%2C%209.137608%5D%2C%20%5B3.220352%2C%209.444153%5D%2C%20%5B3.705438%2C%2010.06321%5D%2C%20%5B3.60007%2C%2010.332186%5D%2C%20%5B3.797112%2C%2010.734746%5D%2C%20%5B3.572216%2C%2011.327939%5D%2C%20%5B3.61118%2C%2011.660167%5D%2C%20%5B3.680634%2C%2012.552903%5D%2C%20%5B3.967283%2C%2012.956109%5D%2C%20%5B4.107946%2C%2013.531216%5D%2C%20%5B4.368344%2C%2013.747482%5D%2C%20%5B5.443058%2C%2013.865924%5D%2C%20%5B6.445426%2C%2013.492768%5D%2C%20%5B6.820442%2C%2013.115091%5D%2C%20%5B7.330747%2C%2013.098038%5D%2C%20%5B7.804671%2C%2013.343527%5D%2C%20%5B9.014933%2C%2012.826659%5D%2C%20%5B9.524928%2C%2012.851102%5D%2C%20%5B10.114814%2C%2013.277252%5D%2C%20%5B10.701032%2C%2013.246918%5D%2C%20%5B10.989593%2C%2013.387323%5D%2C%20%5B11.527803%2C%2013.32898%5D%2C%20%5B12.302071%2C%2013.037189%5D%2C%20%5B13.083987%2C%2013.596147%5D%2C%20%5B13.318702%2C%2013.556356%5D%2C%20%5B13.995353%2C%2012.461565%5D%2C%20%5B14.181336%2C%2012.483657%5D%2C%20%5B14.577178%2C%2012.085361%5D%2C%20%5B14.468192%2C%2011.904752%5D%2C%20%5B14.415379%2C%2011.572369%5D%2C%20%5B13.57295%2C%2010.798566%5D%2C%20%5B13.308676%2C%2010.160362%5D%2C%20%5B13.1676%2C%209.640626%5D%2C%20%5B12.955468%2C%209.417772%5D%2C%20%5B12.753672%2C%208.717763%5D%2C%20%5B12.218872%2C%208.305824%5D%2C%20%5B12.063946%2C%207.799808%5D%2C%20%5B11.839309%2C%207.397042%5D%2C%20%5B11.745774%2C%206.981383%5D%2C%20%5B11.058788%2C%206.644427%5D%2C%20%5B10.497375%2C%207.055358%5D%2C%20%5B10.118277%2C%207.03877%5D%2C%20%5B9.522706%2C%206.453482%5D%2C%20%5B9.233163%2C%206.444491%5D%2C%20%5B8.757533%2C%205.479666%5D%2C%20%5B8.500288%2C%204.771983%5D%5D%5D%2C%20%22type%22%3A%20%22Polygon%22%7D%2C%20%22id%22%3A%20%22NGA%22%2C%20%22properties%22%3A%20%7B%22name%22%3A%20%22Nigeria%22%7D%2C%20%22type%22%3A%20%22Feature%22%7D%2C%20%7B%22geometry%22%3A%20%7B%22coordinates%22%3A%20%5B%5B%5B-85.71254%2C%2011.088445%5D%2C%20%5B-86.058488%2C%2011.403439%5D%2C%20%5B-86.52585%2C%2011.806877%5D%2C%20%5B-86.745992%2C%2012.143962%5D%2C%20%5B-87.167516%2C%2012.458258%5D%2C%20%5B-87.668493%2C%2012.90991%5D%2C%20%5B-87.557467%2C%2013.064552%5D%2C%20%5B-87.392386%2C%2012.914018%5D%2C%20%5B-87.316654%2C%2012.984686%5D%2C%20%5B-87.005769%2C%2013.025794%5D%2C%20%5B-86.880557%2C%2013.254204%5D%2C%20%5B-86.733822%2C%2013.263093%5D%2C%20%5B-86.755087%2C%2013.754845%5D%2C%20%5B-86.520708%2C%2013.778487%5D%2C%20%5B-86.312142%2C%2013.771356%5D%2C%20%5B-86.096264%2C%2014.038187%5D%2C%20%5B-85.801295%2C%2013.836055%5D%2C%20%5B-85.698665%2C%2013.960078%5D%2C%20%5B-85.514413%2C%2014.079012%5D%2C%20%5B-85.165365%2C%2014.35437%5D%2C%20%5B-85.148751%2C%2014.560197%5D%2C%20%5B-85.052787%2C%2014.551541%5D%2C%20%5B-84.924501%2C%2014.790493%5D%2C%20%5B-84.820037%2C%2014.819587%5D%2C%20%5B-84.649582%2C%2014.666805%5D%2C%20%5B-84.449336%2C%2014.621614%5D%2C%20%5B-84.228342%2C%2014.748764%5D%2C%20%5B-83.975721%2C%2014.749436%5D%2C%20%5B-83.628585%2C%2014.880074%5D%2C%20%5B-83.489989%2C%2015.016267%5D%2C%20%5B-83.147219%2C%2014.995829%5D%2C%20%5B-83.233234%2C%2014.899866%5D%2C%20%5B-83.284162%2C%2014.676624%5D%2C%20%5B-83.182126%2C%2014.310703%5D%2C%20%5B-83.4125%2C%2013.970078%5D%2C%20%5B-83.519832%2C%2013.567699%5D%2C%20%5B-83.552207%2C%2013.127054%5D%2C%20%5B-83.498515%2C%2012.869292%5D%2C%20%5B-83.473323%2C%2012.419087%5D%2C%20%5B-83.626104%2C%2012.32085%5D%2C%20%5B-83.719613%2C%2011.893124%5D%2C%20%5B-83.650858%2C%2011.629032%5D%2C%20%5B-83.85547%2C%2011.373311%5D%2C%20%5B-83.808936%2C%2011.103044%5D%2C%20%5B-83.655612%2C%2010.938764%5D%2C%20%5B-83.895054%2C%2010.726839%5D%2C%20%5B-84.190179%2C%2010.79345%5D%2C%20%5B-84.355931%2C%2010.999226%5D%2C%20%5B-84.673069%2C%2011.082657%5D%2C%20%5B-84.903003%2C%2010.952303%5D%2C%20%5B-85.561852%2C%2011.217119%5D%2C%20%5B-85.71254%2C%2011.088445%5D%5D%5D%2C%20%22type%22%3A%20%22Polygon%22%7D%2C%20%22id%22%3A%20%22NIC%22%2C%20%22properties%22%3A%20%7B%22name%22%3A%20%22Nicaragua%22%7D%2C%20%22type%22%3A%20%22Feature%22%7D%2C%20%7B%22geometry%22%3A%20%7B%22coordinates%22%3A%20%5B%5B%5B6.074183%2C%2053.510403%5D%2C%20%5B6.90514%2C%2053.482162%5D%2C%20%5B7.092053%2C%2053.144043%5D%2C%20%5B6.84287%2C%2052.22844%5D%2C%20%5B6.589397%2C%2051.852029%5D%2C%20%5B5.988658%2C%2051.851616%5D%2C%20%5B6.156658%2C%2050.803721%5D%2C%20%5B5.606976%2C%2051.037298%5D%2C%20%5B4.973991%2C%2051.475024%5D%2C%20%5B4.047071%2C%2051.267259%5D%2C%20%5B3.314971%2C%2051.345755%5D%2C%20%5B3.830289%2C%2051.620545%5D%2C%20%5B4.705997%2C%2053.091798%5D%2C%20%5B6.074183%2C%2053.510403%5D%5D%5D%2C%20%22type%22%3A%20%22Polygon%22%7D%2C%20%22id%22%3A%20%22NLD%22%2C%20%22properties%22%3A%20%7B%22name%22%3A%20%22Netherlands%22%7D%2C%20%22type%22%3A%20%22Feature%22%7D%2C%20%7B%22geometry%22%3A%20%7B%22coordinates%22%3A%20%5B%5B%5B%5B28.165547%2C%2071.185474%5D%2C%20%5B31.293418%2C%2070.453788%5D%2C%20%5B30.005435%2C%2070.186259%5D%2C%20%5B31.101079%2C%2069.55808%5D%2C%20%5B29.399581%2C%2069.156916%5D%2C%20%5B28.59193%2C%2069.064777%5D%2C%20%5B29.015573%2C%2069.766491%5D%2C%20%5B27.732292%2C%2070.164193%5D%2C%20%5B26.179622%2C%2069.825299%5D%2C%20%5B25.689213%2C%2069.092114%5D%2C%20%5B24.735679%2C%2068.649557%5D%2C%20%5B23.66205%2C%2068.891247%5D%2C%20%5B22.356238%2C%2068.841741%5D%2C%20%5B21.244936%2C%2069.370443%5D%2C%20%5B20.645593%2C%2069.106247%5D%2C%20%5B20.025269%2C%2069.065139%5D%2C%20%5B19.87856%2C%2068.407194%5D%2C%20%5B17.993868%2C%2068.567391%5D%2C%20%5B17.729182%2C%2068.010552%5D%2C%20%5B16.768879%2C%2068.013937%5D%2C%20%5B16.108712%2C%2067.302456%5D%2C%20%5B15.108411%2C%2066.193867%5D%2C%20%5B13.55569%2C%2064.787028%5D%2C%20%5B13.919905%2C%2064.445421%5D%2C%20%5B13.571916%2C%2064.049114%5D%2C%20%5B12.579935%2C%2064.066219%5D%2C%20%5B11.930569%2C%2063.128318%5D%2C%20%5B11.992064%2C%2061.800362%5D%2C%20%5B12.631147%2C%2061.293572%5D%2C%20%5B12.300366%2C%2060.117933%5D%2C%20%5B11.468272%2C%2059.432393%5D%2C%20%5B11.027369%2C%2058.856149%5D%2C%20%5B10.356557%2C%2059.469807%5D%2C%20%5B8.382%2C%2058.313288%5D%2C%20%5B7.048748%2C%2058.078884%5D%2C%20%5B5.665835%2C%2058.588155%5D%2C%20%5B5.308234%2C%2059.663232%5D%2C%20%5B4.992078%2C%2061.970998%5D%2C%20%5B5.9129%2C%2062.614473%5D%2C%20%5B8.553411%2C%2063.454008%5D%2C%20%5B10.527709%2C%2064.486038%5D%2C%20%5B12.358347%2C%2065.879726%5D%2C%20%5B14.761146%2C%2067.810642%5D%2C%20%5B16.435927%2C%2068.563205%5D%2C%20%5B19.184028%2C%2069.817444%5D%2C%20%5B21.378416%2C%2070.255169%5D%2C%20%5B23.023742%2C%2070.202072%5D%2C%20%5B24.546543%2C%2071.030497%5D%2C%20%5B26.37005%2C%2070.986262%5D%2C%20%5B28.165547%2C%2071.185474%5D%5D%5D%2C%20%5B%5B%5B24.72412%2C%2077.85385%5D%2C%20%5B22.49032%2C%2077.44493%5D%2C%20%5B20.72601%2C%2077.67704%5D%2C%20%5B21.41611%2C%2077.93504%5D%2C%20%5B20.8119%2C%2078.25463%5D%2C%20%5B22.88426%2C%2078.45494%5D%2C%20%5B23.28134%2C%2078.07954%5D%2C%20%5B24.72412%2C%2077.85385%5D%5D%5D%2C%20%5B%5B%5B18.25183%2C%2079.70175%5D%2C%20%5B21.54383%2C%2078.95611%5D%2C%20%5B19.02737%2C%2078.5626%5D%2C%20%5B18.47172%2C%2077.82669%5D%2C%20%5B17.59441%2C%2077.63796%5D%2C%20%5B17.1182%2C%2076.80941%5D%2C%20%5B15.91315%2C%2076.77045%5D%2C%20%5B13.76259%2C%2077.38035%5D%2C%20%5B14.66956%2C%2077.73565%5D%2C%20%5B13.1706%2C%2078.02493%5D%2C%20%5B11.22231%2C%2078.8693%5D%2C%20%5B10.44453%2C%2079.65239%5D%2C%20%5B13.17077%2C%2080.01046%5D%2C%20%5B13.71852%2C%2079.66039%5D%2C%20%5B15.14282%2C%2079.67431%5D%2C%20%5B15.52255%2C%2080.01608%5D%2C%20%5B16.99085%2C%2080.05086%5D%2C%20%5B18.25183%2C%2079.70175%5D%5D%5D%2C%20%5B%5B%5B25.447625%2C%2080.40734%5D%2C%20%5B27.407506%2C%2080.056406%5D%2C%20%5B25.924651%2C%2079.517834%5D%2C%20%5B23.024466%2C%2079.400012%5D%2C%20%5B20.075188%2C%2079.566823%5D%2C%20%5B19.897266%2C%2079.842362%5D%2C%20%5B18.462264%2C%2079.85988%5D%2C%20%5B17.368015%2C%2080.318896%5D%2C%20%5B20.455992%2C%2080.598156%5D%2C%20%5B21.907945%2C%2080.357679%5D%2C%20%5B22.919253%2C%2080.657144%5D%2C%20%5B25.447625%2C%2080.40734%5D%5D%5D%5D%2C%20%22type%22%3A%20%22MultiPolygon%22%7D%2C%20%22id%22%3A%20%22NOR%22%2C%20%22properties%22%3A%20%7B%22name%22%3A%20%22Norway%22%7D%2C%20%22type%22%3A%20%22Feature%22%7D%2C%20%7B%22geometry%22%3A%20%7B%22coordinates%22%3A%20%5B%5B%5B88.120441%2C%2027.876542%5D%2C%20%5B88.043133%2C%2027.445819%5D%2C%20%5B88.174804%2C%2026.810405%5D%2C%20%5B88.060238%2C%2026.414615%5D%2C%20%5B87.227472%2C%2026.397898%5D%2C%20%5B86.024393%2C%2026.630985%5D%2C%20%5B85.251779%2C%2026.726198%5D%2C%20%5B84.675018%2C%2027.234901%5D%2C%20%5B83.304249%2C%2027.364506%5D%2C%20%5B81.999987%2C%2027.925479%5D%2C%20%5B81.057203%2C%2028.416095%5D%2C%20%5B80.088425%2C%2028.79447%5D%2C%20%5B80.476721%2C%2029.729865%5D%2C%20%5B81.111256%2C%2030.183481%5D%2C%20%5B81.525804%2C%2030.422717%5D%2C%20%5B82.327513%2C%2030.115268%5D%2C%20%5B83.337115%2C%2029.463732%5D%2C%20%5B83.898993%2C%2029.320226%5D%2C%20%5B84.23458%2C%2028.839894%5D%2C%20%5B85.011638%2C%2028.642774%5D%2C%20%5B85.82332%2C%2028.203576%5D%2C%20%5B86.954517%2C%2027.974262%5D%2C%20%5B88.120441%2C%2027.876542%5D%5D%5D%2C%20%22type%22%3A%20%22Polygon%22%7D%2C%20%22id%22%3A%20%22NPL%22%2C%20%22properties%22%3A%20%7B%22name%22%3A%20%22Nepal%22%7D%2C%20%22type%22%3A%20%22Feature%22%7D%2C%20%7B%22geometry%22%3A%20%7B%22coordinates%22%3A%20%5B%5B%5B%5B173.020375%2C%20-40.919052%5D%2C%20%5B173.247234%2C%20-41.331999%5D%2C%20%5B173.958405%2C%20-40.926701%5D%2C%20%5B174.247587%2C%20-41.349155%5D%2C%20%5B174.248517%2C%20-41.770008%5D%2C%20%5B173.876447%2C%20-42.233184%5D%2C%20%5B173.22274%2C%20-42.970038%5D%2C%20%5B172.711246%2C%20-43.372288%5D%2C%20%5B173.080113%2C%20-43.853344%5D%2C%20%5B172.308584%2C%20-43.865694%5D%2C%20%5B171.452925%2C%20-44.242519%5D%2C%20%5B171.185138%2C%20-44.897104%5D%2C%20%5B170.616697%2C%20-45.908929%5D%2C%20%5B169.831422%2C%20-46.355775%5D%2C%20%5B169.332331%2C%20-46.641235%5D%2C%20%5B168.411354%2C%20-46.619945%5D%2C%20%5B167.763745%2C%20-46.290197%5D%2C%20%5B166.676886%2C%20-46.219917%5D%2C%20%5B166.509144%2C%20-45.852705%5D%2C%20%5B167.046424%2C%20-45.110941%5D%2C%20%5B168.303763%2C%20-44.123973%5D%2C%20%5B168.949409%2C%20-43.935819%5D%2C%20%5B169.667815%2C%20-43.555326%5D%2C%20%5B170.52492%2C%20-43.031688%5D%2C%20%5B171.12509%2C%20-42.512754%5D%2C%20%5B171.569714%2C%20-41.767424%5D%2C%20%5B171.948709%2C%20-41.514417%5D%2C%20%5B172.097227%2C%20-40.956104%5D%2C%20%5B172.79858%2C%20-40.493962%5D%2C%20%5B173.020375%2C%20-40.919052%5D%5D%5D%2C%20%5B%5B%5B174.612009%2C%20-36.156397%5D%2C%20%5B175.336616%2C%20-37.209098%5D%2C%20%5B175.357596%2C%20-36.526194%5D%2C%20%5B175.808887%2C%20-36.798942%5D%2C%20%5B175.95849%2C%20-37.555382%5D%2C%20%5B176.763195%2C%20-37.881253%5D%2C%20%5B177.438813%2C%20-37.961248%5D%2C%20%5B178.010354%2C%20-37.579825%5D%2C%20%5B178.517094%2C%20-37.695373%5D%2C%20%5B178.274731%2C%20-38.582813%5D%2C%20%5B177.97046%2C%20-39.166343%5D%2C%20%5B177.206993%2C%20-39.145776%5D%2C%20%5B176.939981%2C%20-39.449736%5D%2C%20%5B177.032946%2C%20-39.879943%5D%2C%20%5B176.885824%2C%20-40.065978%5D%2C%20%5B176.508017%2C%20-40.604808%5D%2C%20%5B176.01244%2C%20-41.289624%5D%2C%20%5B175.239567%2C%20-41.688308%5D%2C%20%5B175.067898%2C%20-41.425895%5D%2C%20%5B174.650973%2C%20-41.281821%5D%2C%20%5B175.22763%2C%20-40.459236%5D%2C%20%5B174.900157%2C%20-39.908933%5D%2C%20%5B173.824047%2C%20-39.508854%5D%2C%20%5B173.852262%2C%20-39.146602%5D%2C%20%5B174.574802%2C%20-38.797683%5D%2C%20%5B174.743474%2C%20-38.027808%5D%2C%20%5B174.697017%2C%20-37.381129%5D%2C%20%5B174.292028%2C%20-36.711092%5D%2C%20%5B174.319004%2C%20-36.534824%5D%2C%20%5B173.840997%2C%20-36.121981%5D%2C%20%5B173.054171%2C%20-35.237125%5D%2C%20%5B172.636005%2C%20-34.529107%5D%2C%20%5B173.007042%2C%20-34.450662%5D%2C%20%5B173.551298%2C%20-35.006183%5D%2C%20%5B174.32939%2C%20-35.265496%5D%2C%20%5B174.612009%2C%20-36.156397%5D%5D%5D%5D%2C%20%22type%22%3A%20%22MultiPolygon%22%7D%2C%20%22id%22%3A%20%22NZL%22%2C%20%22properties%22%3A%20%7B%22name%22%3A%20%22New%20Zealand%22%7D%2C%20%22type%22%3A%20%22Feature%22%7D%2C%20%7B%22geometry%22%3A%20%7B%22coordinates%22%3A%20%5B%5B%5B%5B58.861141%2C%2021.114035%5D%2C%20%5B58.487986%2C%2020.428986%5D%2C%20%5B58.034318%2C%2020.481437%5D%2C%20%5B57.826373%2C%2020.243002%5D%2C%20%5B57.665762%2C%2019.736005%5D%2C%20%5B57.7887%2C%2019.06757%5D%2C%20%5B57.694391%2C%2018.94471%5D%2C%20%5B57.234264%2C%2018.947991%5D%2C%20%5B56.609651%2C%2018.574267%5D%2C%20%5B56.512189%2C%2018.087113%5D%2C%20%5B56.283521%2C%2017.876067%5D%2C%20%5B55.661492%2C%2017.884128%5D%2C%20%5B55.269939%2C%2017.632309%5D%2C%20%5B55.2749%2C%2017.228354%5D%2C%20%5B54.791002%2C%2016.950697%5D%2C%20%5B54.239253%2C%2017.044981%5D%2C%20%5B53.570508%2C%2016.707663%5D%2C%20%5B53.108573%2C%2016.651051%5D%2C%20%5B52.782184%2C%2017.349742%5D%2C%20%5B52.00001%2C%2019.000003%5D%2C%20%5B54.999982%2C%2019.999994%5D%2C%20%5B55.666659%2C%2022.000001%5D%2C%20%5B55.208341%2C%2022.70833%5D%2C%20%5B55.234489%2C%2023.110993%5D%2C%20%5B55.525841%2C%2023.524869%5D%2C%20%5B55.528632%2C%2023.933604%5D%2C%20%5B55.981214%2C%2024.130543%5D%2C%20%5B55.804119%2C%2024.269604%5D%2C%20%5B55.886233%2C%2024.920831%5D%2C%20%5B56.396847%2C%2024.924732%5D%2C%20%5B56.84514%2C%2024.241673%5D%2C%20%5B57.403453%2C%2023.878594%5D%2C%20%5B58.136948%2C%2023.747931%5D%2C%20%5B58.729211%2C%2023.565668%5D%2C%20%5B59.180502%2C%2022.992395%5D%2C%20%5B59.450098%2C%2022.660271%5D%2C%20%5B59.80806%2C%2022.533612%5D%2C%20%5B59.806148%2C%2022.310525%5D%2C%20%5B59.442191%2C%2021.714541%5D%2C%20%5B59.282408%2C%2021.433886%5D%2C%20%5B58.861141%2C%2021.114035%5D%5D%5D%2C%20%5B%5B%5B56.391421%2C%2025.895991%5D%2C%20%5B56.261042%2C%2025.714606%5D%2C%20%5B56.070821%2C%2026.055464%5D%2C%20%5B56.362017%2C%2026.395934%5D%2C%20%5B56.485679%2C%2026.309118%5D%2C%20%5B56.391421%2C%2025.895991%5D%5D%5D%5D%2C%20%22type%22%3A%20%22MultiPolygon%22%7D%2C%20%22id%22%3A%20%22OMN%22%2C%20%22properties%22%3A%20%7B%22name%22%3A%20%22Oman%22%7D%2C%20%22type%22%3A%20%22Feature%22%7D%2C%20%7B%22geometry%22%3A%20%7B%22coordinates%22%3A%20%5B%5B%5B75.158028%2C%2037.133031%5D%2C%20%5B75.896897%2C%2036.666806%5D%2C%20%5B76.192848%2C%2035.898403%5D%2C%20%5B77.837451%2C%2035.49401%5D%2C%20%5B76.871722%2C%2034.653544%5D%2C%20%5B75.757061%2C%2034.504923%5D%2C%20%5B74.240203%2C%2034.748887%5D%2C%20%5B73.749948%2C%2034.317699%5D%2C%20%5B74.104294%2C%2033.441473%5D%2C%20%5B74.451559%2C%2032.7649%5D%2C%20%5B75.258642%2C%2032.271105%5D%2C%20%5B74.405929%2C%2031.692639%5D%2C%20%5B74.42138%2C%2030.979815%5D%2C%20%5B73.450638%2C%2029.976413%5D%2C%20%5B72.823752%2C%2028.961592%5D%2C%20%5B71.777666%2C%2027.91318%5D%2C%20%5B70.616496%2C%2027.989196%5D%2C%20%5B69.514393%2C%2026.940966%5D%2C%20%5B70.168927%2C%2026.491872%5D%2C%20%5B70.282873%2C%2025.722229%5D%2C%20%5B70.844699%2C%2025.215102%5D%2C%20%5B71.04324%2C%2024.356524%5D%2C%20%5B68.842599%2C%2024.359134%5D%2C%20%5B68.176645%2C%2023.691965%5D%2C%20%5B67.443667%2C%2023.944844%5D%2C%20%5B67.145442%2C%2024.663611%5D%2C%20%5B66.372828%2C%2025.425141%5D%2C%20%5B64.530408%2C%2025.237039%5D%2C%20%5B62.905701%2C%2025.218409%5D%2C%20%5B61.497363%2C%2025.078237%5D%2C%20%5B61.874187%2C%2026.239975%5D%2C%20%5B63.316632%2C%2026.756532%5D%2C%20%5B63.233898%2C%2027.217047%5D%2C%20%5B62.755426%2C%2027.378923%5D%2C%20%5B62.72783%2C%2028.259645%5D%2C%20%5B61.771868%2C%2028.699334%5D%2C%20%5B61.369309%2C%2029.303276%5D%2C%20%5B60.874248%2C%2029.829239%5D%2C%20%5B62.549857%2C%2029.318572%5D%2C%20%5B63.550261%2C%2029.468331%5D%2C%20%5B64.148002%2C%2029.340819%5D%2C%20%5B64.350419%2C%2029.560031%5D%2C%20%5B65.046862%2C%2029.472181%5D%2C%20%5B66.346473%2C%2029.887943%5D%2C%20%5B66.381458%2C%2030.738899%5D%2C%20%5B66.938891%2C%2031.304911%5D%2C%20%5B67.683394%2C%2031.303154%5D%2C%20%5B67.792689%2C%2031.58293%5D%2C%20%5B68.556932%2C%2031.71331%5D%2C%20%5B68.926677%2C%2031.620189%5D%2C%20%5B69.317764%2C%2031.901412%5D%2C%20%5B69.262522%2C%2032.501944%5D%2C%20%5B69.687147%2C%2033.105499%5D%2C%20%5B70.323594%2C%2033.358533%5D%2C%20%5B69.930543%2C%2034.02012%5D%2C%20%5B70.881803%2C%2033.988856%5D%2C%20%5B71.156773%2C%2034.348911%5D%2C%20%5B71.115019%2C%2034.733126%5D%2C%20%5B71.613076%2C%2035.153203%5D%2C%20%5B71.498768%2C%2035.650563%5D%2C%20%5B71.262348%2C%2036.074388%5D%2C%20%5B71.846292%2C%2036.509942%5D%2C%20%5B72.920025%2C%2036.720007%5D%2C%20%5B74.067552%2C%2036.836176%5D%2C%20%5B74.575893%2C%2037.020841%5D%2C%20%5B75.158028%2C%2037.133031%5D%5D%5D%2C%20%22type%22%3A%20%22Polygon%22%7D%2C%20%22id%22%3A%20%22PAK%22%2C%20%22properties%22%3A%20%7B%22name%22%3A%20%22Pakistan%22%7D%2C%20%22type%22%3A%20%22Feature%22%7D%2C%20%7B%22geometry%22%3A%20%7B%22coordinates%22%3A%20%5B%5B%5B-77.881571%2C%207.223771%5D%2C%20%5B-78.214936%2C%207.512255%5D%2C%20%5B-78.429161%2C%208.052041%5D%2C%20%5B-78.182096%2C%208.319182%5D%2C%20%5B-78.435465%2C%208.387705%5D%2C%20%5B-78.622121%2C%208.718124%5D%2C%20%5B-79.120307%2C%208.996092%5D%2C%20%5B-79.557877%2C%208.932375%5D%2C%20%5B-79.760578%2C%208.584515%5D%2C%20%5B-80.164481%2C%208.333316%5D%2C%20%5B-80.382659%2C%208.298409%5D%2C%20%5B-80.480689%2C%208.090308%5D%2C%20%5B-80.00369%2C%207.547524%5D%2C%20%5B-80.276671%2C%207.419754%5D%2C%20%5B-80.421158%2C%207.271572%5D%2C%20%5B-80.886401%2C%207.220541%5D%2C%20%5B-81.059543%2C%207.817921%5D%2C%20%5B-81.189716%2C%207.647906%5D%2C%20%5B-81.519515%2C%207.70661%5D%2C%20%5B-81.721311%2C%208.108963%5D%2C%20%5B-82.131441%2C%208.175393%5D%2C%20%5B-82.390934%2C%208.292362%5D%2C%20%5B-82.820081%2C%208.290864%5D%2C%20%5B-82.850958%2C%208.073823%5D%2C%20%5B-82.965783%2C%208.225028%5D%2C%20%5B-82.913176%2C%208.423517%5D%2C%20%5B-82.829771%2C%208.626295%5D%2C%20%5B-82.868657%2C%208.807266%5D%2C%20%5B-82.719183%2C%208.925709%5D%2C%20%5B-82.927155%2C%209.07433%5D%2C%20%5B-82.932891%2C%209.476812%5D%2C%20%5B-82.546196%2C%209.566135%5D%2C%20%5B-82.187123%2C%209.207449%5D%2C%20%5B-82.207586%2C%208.995575%5D%2C%20%5B-81.808567%2C%208.950617%5D%2C%20%5B-81.714154%2C%209.031955%5D%2C%20%5B-81.439287%2C%208.786234%5D%2C%20%5B-80.947302%2C%208.858504%5D%2C%20%5B-80.521901%2C%209.111072%5D%2C%20%5B-79.9146%2C%209.312765%5D%2C%20%5B-79.573303%2C%209.61161%5D%2C%20%5B-79.021192%2C%209.552931%5D%2C%20%5B-79.05845%2C%209.454565%5D%2C%20%5B-78.500888%2C%209.420459%5D%2C%20%5B-78.055928%2C%209.24773%5D%2C%20%5B-77.729514%2C%208.946844%5D%2C%20%5B-77.353361%2C%208.670505%5D%2C%20%5B-77.474723%2C%208.524286%5D%2C%20%5B-77.242566%2C%207.935278%5D%2C%20%5B-77.431108%2C%207.638061%5D%2C%20%5B-77.753414%2C%207.70984%5D%2C%20%5B-77.881571%2C%207.223771%5D%5D%5D%2C%20%22type%22%3A%20%22Polygon%22%7D%2C%20%22id%22%3A%20%22PAN%22%2C%20%22properties%22%3A%20%7B%22name%22%3A%20%22Panama%22%7D%2C%20%22type%22%3A%20%22Feature%22%7D%2C%20%7B%22geometry%22%3A%20%7B%22coordinates%22%3A%20%5B%5B%5B-69.590424%2C%20-17.580012%5D%2C%20%5B-69.858444%2C%20-18.092694%5D%2C%20%5B-70.372572%2C%20-18.347975%5D%2C%20%5B-71.37525%2C%20-17.773799%5D%2C%20%5B-71.462041%2C%20-17.363488%5D%2C%20%5B-73.44453%2C%20-16.359363%5D%2C%20%5B-75.237883%2C%20-15.265683%5D%2C%20%5B-76.009205%2C%20-14.649286%5D%2C%20%5B-76.423469%2C%20-13.823187%5D%2C%20%5B-76.259242%2C%20-13.535039%5D%2C%20%5B-77.106192%2C%20-12.222716%5D%2C%20%5B-78.092153%2C%20-10.377712%5D%2C%20%5B-79.036953%2C%20-8.386568%5D%2C%20%5B-79.44592%2C%20-7.930833%5D%2C%20%5B-79.760578%2C%20-7.194341%5D%2C%20%5B-80.537482%2C%20-6.541668%5D%2C%20%5B-81.249996%2C%20-6.136834%5D%2C%20%5B-80.926347%2C%20-5.690557%5D%2C%20%5B-81.410943%2C%20-4.736765%5D%2C%20%5B-81.09967%2C%20-4.036394%5D%2C%20%5B-80.302561%2C%20-3.404856%5D%2C%20%5B-80.184015%2C%20-3.821162%5D%2C%20%5B-80.469295%2C%20-4.059287%5D%2C%20%5B-80.442242%2C%20-4.425724%5D%2C%20%5B-80.028908%2C%20-4.346091%5D%2C%20%5B-79.624979%2C%20-4.454198%5D%2C%20%5B-79.205289%2C%20-4.959129%5D%2C%20%5B-78.639897%2C%20-4.547784%5D%2C%20%5B-78.450684%2C%20-3.873097%5D%2C%20%5B-77.837905%2C%20-3.003021%5D%2C%20%5B-76.635394%2C%20-2.608678%5D%2C%20%5B-75.544996%2C%20-1.56161%5D%2C%20%5B-75.233723%2C%20-0.911417%5D%2C%20%5B-75.373223%2C%20-0.152032%5D%2C%20%5B-75.106625%2C%20-0.057205%5D%2C%20%5B-74.441601%2C%20-0.53082%5D%2C%20%5B-74.122395%2C%20-1.002833%5D%2C%20%5B-73.659504%2C%20-1.260491%5D%2C%20%5B-73.070392%2C%20-2.308954%5D%2C%20%5B-72.325787%2C%20-2.434218%5D%2C%20%5B-71.774761%2C%20-2.16979%5D%2C%20%5B-71.413646%2C%20-2.342802%5D%2C%20%5B-70.813476%2C%20-2.256865%5D%2C%20%5B-70.047709%2C%20-2.725156%5D%2C%20%5B-70.692682%2C%20-3.742872%5D%2C%20%5B-70.394044%2C%20-3.766591%5D%2C%20%5B-69.893635%2C%20-4.298187%5D%2C%20%5B-70.794769%2C%20-4.251265%5D%2C%20%5B-70.928843%2C%20-4.401591%5D%2C%20%5B-71.748406%2C%20-4.593983%5D%2C%20%5B-72.891928%2C%20-5.274561%5D%2C%20%5B-72.964507%2C%20-5.741251%5D%2C%20%5B-73.219711%2C%20-6.089189%5D%2C%20%5B-73.120027%2C%20-6.629931%5D%2C%20%5B-73.724487%2C%20-6.918595%5D%2C%20%5B-73.723401%2C%20-7.340999%5D%2C%20%5B-73.987235%2C%20-7.52383%5D%2C%20%5B-73.571059%2C%20-8.424447%5D%2C%20%5B-73.015383%2C%20-9.032833%5D%2C%20%5B-73.226713%2C%20-9.462213%5D%2C%20%5B-72.563033%2C%20-9.520194%5D%2C%20%5B-72.184891%2C%20-10.053598%5D%2C%20%5B-71.302412%2C%20-10.079436%5D%2C%20%5B-70.481894%2C%20-9.490118%5D%2C%20%5B-70.548686%2C%20-11.009147%5D%2C%20%5B-70.093752%2C%20-11.123972%5D%2C%20%5B-69.529678%2C%20-10.951734%5D%2C%20%5B-68.66508%2C%20-12.5613%5D%2C%20%5B-68.88008%2C%20-12.899729%5D%2C%20%5B-68.929224%2C%20-13.602684%5D%2C%20%5B-68.948887%2C%20-14.453639%5D%2C%20%5B-69.339535%2C%20-14.953195%5D%2C%20%5B-69.160347%2C%20-15.323974%5D%2C%20%5B-69.389764%2C%20-15.660129%5D%2C%20%5B-68.959635%2C%20-16.500698%5D%2C%20%5B-69.590424%2C%20-17.580012%5D%5D%5D%2C%20%22type%22%3A%20%22Polygon%22%7D%2C%20%22id%22%3A%20%22PER%22%2C%20%22properties%22%3A%20%7B%22name%22%3A%20%22Peru%22%7D%2C%20%22type%22%3A%20%22Feature%22%7D%2C%20%7B%22geometry%22%3A%20%7B%22coordinates%22%3A%20%5B%5B%5B%5B126.376814%2C%208.414706%5D%2C%20%5B126.478513%2C%207.750354%5D%2C%20%5B126.537424%2C%207.189381%5D%2C%20%5B126.196773%2C%206.274294%5D%2C%20%5B125.831421%2C%207.293715%5D%2C%20%5B125.363852%2C%206.786485%5D%2C%20%5B125.683161%2C%206.049657%5D%2C%20%5B125.396512%2C%205.581003%5D%2C%20%5B124.219788%2C%206.161355%5D%2C%20%5B123.93872%2C%206.885136%5D%2C%20%5B124.243662%2C%207.36061%5D%2C%20%5B123.610212%2C%207.833527%5D%2C%20%5B123.296071%2C%207.418876%5D%2C%20%5B122.825506%2C%207.457375%5D%2C%20%5B122.085499%2C%206.899424%5D%2C%20%5B121.919928%2C%207.192119%5D%2C%20%5B122.312359%2C%208.034962%5D%2C%20%5B122.942398%2C%208.316237%5D%2C%20%5B123.487688%2C%208.69301%5D%2C%20%5B123.841154%2C%208.240324%5D%2C%20%5B124.60147%2C%208.514158%5D%2C%20%5B124.764612%2C%208.960409%5D%2C%20%5B125.471391%2C%208.986997%5D%2C%20%5B125.412118%2C%209.760335%5D%2C%20%5B126.222714%2C%209.286074%5D%2C%20%5B126.306637%2C%208.782487%5D%2C%20%5B126.376814%2C%208.414706%5D%5D%5D%2C%20%5B%5B%5B123.982438%2C%2010.278779%5D%2C%20%5B123.623183%2C%209.950091%5D%2C%20%5B123.309921%2C%209.318269%5D%2C%20%5B122.995883%2C%209.022189%5D%2C%20%5B122.380055%2C%209.713361%5D%2C%20%5B122.586089%2C%209.981045%5D%2C%20%5B122.837081%2C%2010.261157%5D%2C%20%5B122.947411%2C%2010.881868%5D%2C%20%5B123.49885%2C%2010.940624%5D%2C%20%5B123.337774%2C%2010.267384%5D%2C%20%5B124.077936%2C%2011.232726%5D%2C%20%5B123.982438%2C%2010.278779%5D%5D%5D%2C%20%5B%5B%5B118.504581%2C%209.316383%5D%2C%20%5B117.174275%2C%208.3675%5D%2C%20%5B117.664477%2C%209.066889%5D%2C%20%5B118.386914%2C%209.6845%5D%2C%20%5B118.987342%2C%2010.376292%5D%2C%20%5B119.511496%2C%2011.369668%5D%2C%20%5B119.689677%2C%2010.554291%5D%2C%20%5B119.029458%2C%2010.003653%5D%2C%20%5B118.504581%2C%209.316383%5D%5D%5D%2C%20%5B%5B%5B121.883548%2C%2011.891755%5D%2C%20%5B122.483821%2C%2011.582187%5D%2C%20%5B123.120217%2C%2011.58366%5D%2C%20%5B123.100838%2C%2011.165934%5D%2C%20%5B122.637714%2C%2010.741308%5D%2C%20%5B122.00261%2C%2010.441017%5D%2C%20%5B121.967367%2C%2010.905691%5D%2C%20%5B122.03837%2C%2011.415841%5D%2C%20%5B121.883548%2C%2011.891755%5D%5D%5D%2C%20%5B%5B%5B125.502552%2C%2012.162695%5D%2C%20%5B125.783465%2C%2011.046122%5D%2C%20%5B125.011884%2C%2011.311455%5D%2C%20%5B125.032761%2C%2010.975816%5D%2C%20%5B125.277449%2C%2010.358722%5D%2C%20%5B124.801819%2C%2010.134679%5D%2C%20%5B124.760168%2C%2010.837995%5D%2C%20%5B124.459101%2C%2010.88993%5D%2C%20%5B124.302522%2C%2011.495371%5D%2C%20%5B124.891013%2C%2011.415583%5D%2C%20%5B124.87799%2C%2011.79419%5D%2C%20%5B124.266762%2C%2012.557761%5D%2C%20%5B125.227116%2C%2012.535721%5D%2C%20%5B125.502552%2C%2012.162695%5D%5D%5D%2C%20%5B%5B%5B121.527394%2C%2013.06959%5D%2C%20%5B121.26219%2C%2012.20556%5D%2C%20%5B120.833896%2C%2012.704496%5D%2C%20%5B120.323436%2C%2013.466413%5D%2C%20%5B121.180128%2C%2013.429697%5D%2C%20%5B121.527394%2C%2013.06959%5D%5D%5D%2C%20%5B%5B%5B121.321308%2C%2018.504065%5D%2C%20%5B121.937601%2C%2018.218552%5D%2C%20%5B122.246006%2C%2018.47895%5D%2C%20%5B122.336957%2C%2018.224883%5D%2C%20%5B122.174279%2C%2017.810283%5D%2C%20%5B122.515654%2C%2017.093505%5D%2C%20%5B122.252311%2C%2016.262444%5D%2C%20%5B121.662786%2C%2015.931018%5D%2C%20%5B121.50507%2C%2015.124814%5D%2C%20%5B121.728829%2C%2014.328376%5D%2C%20%5B122.258925%2C%2014.218202%5D%2C%20%5B122.701276%2C%2014.336541%5D%2C%20%5B123.950295%2C%2013.782131%5D%2C%20%5B123.855107%2C%2013.237771%5D%2C%20%5B124.181289%2C%2012.997527%5D%2C%20%5B124.077419%2C%2012.536677%5D%2C%20%5B123.298035%2C%2013.027526%5D%2C%20%5B122.928652%2C%2013.55292%5D%2C%20%5B122.671355%2C%2013.185836%5D%2C%20%5B122.03465%2C%2013.784482%5D%2C%20%5B121.126385%2C%2013.636687%5D%2C%20%5B120.628637%2C%2013.857656%5D%2C%20%5B120.679384%2C%2014.271016%5D%2C%20%5B120.991819%2C%2014.525393%5D%2C%20%5B120.693336%2C%2014.756671%5D%2C%20%5B120.564145%2C%2014.396279%5D%2C%20%5B120.070429%2C%2014.970869%5D%2C%20%5B119.920929%2C%2015.406347%5D%2C%20%5B119.883773%2C%2016.363704%5D%2C%20%5B120.286488%2C%2016.034629%5D%2C%20%5B120.390047%2C%2017.599081%5D%2C%20%5B120.715867%2C%2018.505227%5D%2C%20%5B121.321308%2C%2018.504065%5D%5D%5D%5D%2C%20%22type%22%3A%20%22MultiPolygon%22%7D%2C%20%22id%22%3A%20%22PHL%22%2C%20%22properties%22%3A%20%7B%22name%22%3A%20%22Philippines%22%7D%2C%20%22type%22%3A%20%22Feature%22%7D%2C%20%7B%22geometry%22%3A%20%7B%22coordinates%22%3A%20%5B%5B%5B%5B155.880026%2C%20-6.819997%5D%2C%20%5B155.599991%2C%20-6.919991%5D%2C%20%5B155.166994%2C%20-6.535931%5D%2C%20%5B154.729192%2C%20-5.900828%5D%2C%20%5B154.514114%2C%20-5.139118%5D%2C%20%5B154.652504%2C%20-5.042431%5D%2C%20%5B154.759991%2C%20-5.339984%5D%2C%20%5B155.062918%2C%20-5.566792%5D%2C%20%5B155.547746%2C%20-6.200655%5D%2C%20%5B156.019965%2C%20-6.540014%5D%2C%20%5B155.880026%2C%20-6.819997%5D%5D%5D%2C%20%5B%5B%5B151.982796%2C%20-5.478063%5D%2C%20%5B151.459107%2C%20-5.56028%5D%2C%20%5B151.30139%2C%20-5.840728%5D%2C%20%5B150.754447%2C%20-6.083763%5D%2C%20%5B150.241197%2C%20-6.317754%5D%2C%20%5B149.709963%2C%20-6.316513%5D%2C%20%5B148.890065%2C%20-6.02604%5D%2C%20%5B148.318937%2C%20-5.747142%5D%2C%20%5B148.401826%2C%20-5.437756%5D%2C%20%5B149.298412%2C%20-5.583742%5D%2C%20%5B149.845562%2C%20-5.505503%5D%2C%20%5B149.99625%2C%20-5.026101%5D%2C%20%5B150.139756%2C%20-5.001348%5D%2C%20%5B150.236908%2C%20-5.53222%5D%2C%20%5B150.807467%2C%20-5.455842%5D%2C%20%5B151.089672%2C%20-5.113693%5D%2C%20%5B151.647881%2C%20-4.757074%5D%2C%20%5B151.537862%2C%20-4.167807%5D%2C%20%5B152.136792%2C%20-4.14879%5D%2C%20%5B152.338743%2C%20-4.312966%5D%2C%20%5B152.318693%2C%20-4.867661%5D%2C%20%5B151.982796%2C%20-5.478063%5D%5D%5D%2C%20%5B%5B%5B147.191874%2C%20-7.388024%5D%2C%20%5B148.084636%2C%20-8.044108%5D%2C%20%5B148.734105%2C%20-9.104664%5D%2C%20%5B149.306835%2C%20-9.071436%5D%2C%20%5B149.266631%2C%20-9.514406%5D%2C%20%5B150.038728%2C%20-9.684318%5D%2C%20%5B149.738798%2C%20-9.872937%5D%2C%20%5B150.801628%2C%20-10.293687%5D%2C%20%5B150.690575%2C%20-10.582713%5D%2C%20%5B150.028393%2C%20-10.652476%5D%2C%20%5B149.78231%2C%20-10.393267%5D%2C%20%5B148.923138%2C%20-10.280923%5D%2C%20%5B147.913018%2C%20-10.130441%5D%2C%20%5B147.135443%2C%20-9.492444%5D%2C%20%5B146.567881%2C%20-8.942555%5D%2C%20%5B146.048481%2C%20-8.067414%5D%2C%20%5B144.744168%2C%20-7.630128%5D%2C%20%5B143.897088%2C%20-7.91533%5D%2C%20%5B143.286376%2C%20-8.245491%5D%2C%20%5B143.413913%2C%20-8.983069%5D%2C%20%5B142.628431%2C%20-9.326821%5D%2C%20%5B142.068259%2C%20-9.159596%5D%2C%20%5B141.033852%2C%20-9.117893%5D%2C%20%5B141.017057%2C%20-5.859022%5D%2C%20%5B141.00021%2C%20-2.600151%5D%2C%20%5B142.735247%2C%20-3.289153%5D%2C%20%5B144.583971%2C%20-3.861418%5D%2C%20%5B145.27318%2C%20-4.373738%5D%2C%20%5B145.829786%2C%20-4.876498%5D%2C%20%5B145.981922%2C%20-5.465609%5D%2C%20%5B147.648073%2C%20-6.083659%5D%2C%20%5B147.891108%2C%20-6.614015%5D%2C%20%5B146.970905%2C%20-6.721657%5D%2C%20%5B147.191874%2C%20-7.388024%5D%5D%5D%2C%20%5B%5B%5B153.140038%2C%20-4.499983%5D%2C%20%5B152.827292%2C%20-4.766427%5D%2C%20%5B152.638673%2C%20-4.176127%5D%2C%20%5B152.406026%2C%20-3.789743%5D%2C%20%5B151.953237%2C%20-3.462062%5D%2C%20%5B151.384279%2C%20-3.035422%5D%2C%20%5B150.66205%2C%20-2.741486%5D%2C%20%5B150.939965%2C%20-2.500002%5D%2C%20%5B151.479984%2C%20-2.779985%5D%2C%20%5B151.820015%2C%20-2.999972%5D%2C%20%5B152.239989%2C%20-3.240009%5D%2C%20%5B152.640017%2C%20-3.659983%5D%2C%20%5B153.019994%2C%20-3.980015%5D%2C%20%5B153.140038%2C%20-4.499983%5D%5D%5D%5D%2C%20%22type%22%3A%20%22MultiPolygon%22%7D%2C%20%22id%22%3A%20%22PNG%22%2C%20%22properties%22%3A%20%7B%22name%22%3A%20%22Papua%20New%20Guinea%22%7D%2C%20%22type%22%3A%20%22Feature%22%7D%2C%20%7B%22geometry%22%3A%20%7B%22coordinates%22%3A%20%5B%5B%5B15.016996%2C%2051.106674%5D%2C%20%5B14.607098%2C%2051.745188%5D%2C%20%5B14.685026%2C%2052.089947%5D%2C%20%5B14.4376%2C%2052.62485%5D%2C%20%5B14.074521%2C%2052.981263%5D%2C%20%5B14.353315%2C%2053.248171%5D%2C%20%5B14.119686%2C%2053.757029%5D%2C%20%5B14.8029%2C%2054.050706%5D%2C%20%5B16.363477%2C%2054.513159%5D%2C%20%5B17.622832%2C%2054.851536%5D%2C%20%5B18.620859%2C%2054.682606%5D%2C%20%5B18.696255%2C%2054.438719%5D%2C%20%5B19.66064%2C%2054.426084%5D%2C%20%5B20.892245%2C%2054.312525%5D%2C%20%5B22.731099%2C%2054.327537%5D%2C%20%5B23.243987%2C%2054.220567%5D%2C%20%5B23.484128%2C%2053.912498%5D%2C%20%5B23.527536%2C%2053.470122%5D%2C%20%5B23.804935%2C%2053.089731%5D%2C%20%5B23.799199%2C%2052.691099%5D%2C%20%5B23.199494%2C%2052.486977%5D%2C%20%5B23.508002%2C%2052.023647%5D%2C%20%5B23.527071%2C%2051.578454%5D%2C%20%5B24.029986%2C%2050.705407%5D%2C%20%5B23.922757%2C%2050.424881%5D%2C%20%5B23.426508%2C%2050.308506%5D%2C%20%5B22.51845%2C%2049.476774%5D%2C%20%5B22.776419%2C%2049.027395%5D%2C%20%5B22.558138%2C%2049.085738%5D%2C%20%5B21.607808%2C%2049.470107%5D%2C%20%5B20.887955%2C%2049.328772%5D%2C%20%5B20.415839%2C%2049.431453%5D%2C%20%5B19.825023%2C%2049.217125%5D%2C%20%5B19.320713%2C%2049.571574%5D%2C%20%5B18.909575%2C%2049.435846%5D%2C%20%5B18.853144%2C%2049.49623%5D%2C%20%5B18.392914%2C%2049.988629%5D%2C%20%5B17.649445%2C%2050.049038%5D%2C%20%5B17.554567%2C%2050.362146%5D%2C%20%5B16.868769%2C%2050.473974%5D%2C%20%5B16.719476%2C%2050.215747%5D%2C%20%5B16.176253%2C%2050.422607%5D%2C%20%5B16.238627%2C%2050.697733%5D%2C%20%5B15.490972%2C%2050.78473%5D%2C%20%5B15.016996%2C%2051.106674%5D%5D%5D%2C%20%22type%22%3A%20%22Polygon%22%7D%2C%20%22id%22%3A%20%22POL%22%2C%20%22properties%22%3A%20%7B%22name%22%3A%20%22Poland%22%7D%2C%20%22type%22%3A%20%22Feature%22%7D%2C%20%7B%22geometry%22%3A%20%7B%22coordinates%22%3A%20%5B%5B%5B-66.282434%2C%2018.514762%5D%2C%20%5B-65.771303%2C%2018.426679%5D%2C%20%5B-65.591004%2C%2018.228035%5D%2C%20%5B-65.847164%2C%2017.975906%5D%2C%20%5B-66.599934%2C%2017.981823%5D%2C%20%5B-67.184162%2C%2017.946553%5D%2C%20%5B-67.242428%2C%2018.37446%5D%2C%20%5B-67.100679%2C%2018.520601%5D%2C%20%5B-66.282434%2C%2018.514762%5D%5D%5D%2C%20%22type%22%3A%20%22Polygon%22%7D%2C%20%22id%22%3A%20%22PRI%22%2C%20%22properties%22%3A%20%7B%22name%22%3A%20%22Puerto%20Rico%22%7D%2C%20%22type%22%3A%20%22Feature%22%7D%2C%20%7B%22geometry%22%3A%20%7B%22coordinates%22%3A%20%5B%5B%5B130.640016%2C%2042.395009%5D%2C%20%5B130.780007%2C%2042.220007%5D%2C%20%5B130.400031%2C%2042.280004%5D%2C%20%5B129.965949%2C%2041.941368%5D%2C%20%5B129.667362%2C%2041.601104%5D%2C%20%5B129.705189%2C%2040.882828%5D%2C%20%5B129.188115%2C%2040.661808%5D%2C%20%5B129.0104%2C%2040.485436%5D%2C%20%5B128.633368%2C%2040.189847%5D%2C%20%5B127.967414%2C%2040.025413%5D%2C%20%5B127.533436%2C%2039.75685%5D%2C%20%5B127.50212%2C%2039.323931%5D%2C%20%5B127.385434%2C%2039.213472%5D%2C%20%5B127.783343%2C%2039.050898%5D%2C%20%5B128.349716%2C%2038.612243%5D%2C%20%5B128.205746%2C%2038.370397%5D%2C%20%5B127.780035%2C%2038.304536%5D%2C%20%5B127.073309%2C%2038.256115%5D%2C%20%5B126.68372%2C%2037.804773%5D%2C%20%5B126.237339%2C%2037.840378%5D%2C%20%5B126.174759%2C%2037.749686%5D%2C%20%5B125.689104%2C%2037.94001%5D%2C%20%5B125.568439%2C%2037.752089%5D%2C%20%5B125.27533%2C%2037.669071%5D%2C%20%5B125.240087%2C%2037.857224%5D%2C%20%5B124.981033%2C%2037.948821%5D%2C%20%5B124.712161%2C%2038.108346%5D%2C%20%5B124.985994%2C%2038.548474%5D%2C%20%5B125.221949%2C%2038.665857%5D%2C%20%5B125.132859%2C%2038.848559%5D%2C%20%5B125.38659%2C%2039.387958%5D%2C%20%5B125.321116%2C%2039.551385%5D%2C%20%5B124.737482%2C%2039.660344%5D%2C%20%5B124.265625%2C%2039.928493%5D%2C%20%5B125.079942%2C%2040.569824%5D%2C%20%5B126.182045%2C%2041.107336%5D%2C%20%5B126.869083%2C%2041.816569%5D%2C%20%5B127.343783%2C%2041.503152%5D%2C%20%5B128.208433%2C%2041.466772%5D%2C%20%5B128.052215%2C%2041.994285%5D%2C%20%5B129.596669%2C%2042.424982%5D%2C%20%5B129.994267%2C%2042.985387%5D%2C%20%5B130.640016%2C%2042.395009%5D%5D%5D%2C%20%22type%22%3A%20%22Polygon%22%7D%2C%20%22id%22%3A%20%22PRK%22%2C%20%22properties%22%3A%20%7B%22name%22%3A%20%22North%20Korea%22%7D%2C%20%22type%22%3A%20%22Feature%22%7D%2C%20%7B%22geometry%22%3A%20%7B%22coordinates%22%3A%20%5B%5B%5B-9.034818%2C%2041.880571%5D%2C%20%5B-8.671946%2C%2042.134689%5D%2C%20%5B-8.263857%2C%2042.280469%5D%2C%20%5B-8.013175%2C%2041.790886%5D%2C%20%5B-7.422513%2C%2041.792075%5D%2C%20%5B-7.251309%2C%2041.918346%5D%2C%20%5B-6.668606%2C%2041.883387%5D%2C%20%5B-6.389088%2C%2041.381815%5D%2C%20%5B-6.851127%2C%2041.111083%5D%2C%20%5B-6.86402%2C%2040.330872%5D%2C%20%5B-7.026413%2C%2040.184524%5D%2C%20%5B-7.066592%2C%2039.711892%5D%2C%20%5B-7.498632%2C%2039.629571%5D%2C%20%5B-7.098037%2C%2039.030073%5D%2C%20%5B-7.374092%2C%2038.373059%5D%2C%20%5B-7.029281%2C%2038.075764%5D%2C%20%5B-7.166508%2C%2037.803894%5D%2C%20%5B-7.537105%2C%2037.428904%5D%2C%20%5B-7.453726%2C%2037.097788%5D%2C%20%5B-7.855613%2C%2036.838269%5D%2C%20%5B-8.382816%2C%2036.97888%5D%2C%20%5B-8.898857%2C%2036.868809%5D%2C%20%5B-8.746101%2C%2037.651346%5D%2C%20%5B-8.839998%2C%2038.266243%5D%2C%20%5B-9.287464%2C%2038.358486%5D%2C%20%5B-9.526571%2C%2038.737429%5D%2C%20%5B-9.446989%2C%2039.392066%5D%2C%20%5B-9.048305%2C%2039.755093%5D%2C%20%5B-8.977353%2C%2040.159306%5D%2C%20%5B-8.768684%2C%2040.760639%5D%2C%20%5B-8.790853%2C%2041.184334%5D%2C%20%5B-8.990789%2C%2041.543459%5D%2C%20%5B-9.034818%2C%2041.880571%5D%5D%5D%2C%20%22type%22%3A%20%22Polygon%22%7D%2C%20%22id%22%3A%20%22PRT%22%2C%20%22properties%22%3A%20%7B%22name%22%3A%20%22Portugal%22%7D%2C%20%22type%22%3A%20%22Feature%22%7D%2C%20%7B%22geometry%22%3A%20%7B%22coordinates%22%3A%20%5B%5B%5B-62.685057%2C%20-22.249029%5D%2C%20%5B-62.291179%2C%20-21.051635%5D%2C%20%5B-62.265961%2C%20-20.513735%5D%2C%20%5B-61.786326%2C%20-19.633737%5D%2C%20%5B-60.043565%2C%20-19.342747%5D%2C%20%5B-59.115042%2C%20-19.356906%5D%2C%20%5B-58.183471%2C%20-19.868399%5D%2C%20%5B-58.166392%2C%20-20.176701%5D%2C%20%5B-57.870674%2C%20-20.732688%5D%2C%20%5B-57.937156%2C%20-22.090176%5D%2C%20%5B-56.88151%2C%20-22.282154%5D%2C%20%5B-56.473317%2C%20-22.0863%5D%2C%20%5B-55.797958%2C%20-22.35693%5D%2C%20%5B-55.610683%2C%20-22.655619%5D%2C%20%5B-55.517639%2C%20-23.571998%5D%2C%20%5B-55.400747%2C%20-23.956935%5D%2C%20%5B-55.027902%2C%20-24.001274%5D%2C%20%5B-54.652834%2C%20-23.839578%5D%2C%20%5B-54.29296%2C%20-24.021014%5D%2C%20%5B-54.293476%2C%20-24.5708%5D%2C%20%5B-54.428946%2C%20-25.162185%5D%2C%20%5B-54.625291%2C%20-25.739255%5D%2C%20%5B-54.788795%2C%20-26.621786%5D%2C%20%5B-55.695846%2C%20-27.387837%5D%2C%20%5B-56.486702%2C%20-27.548499%5D%2C%20%5B-57.60976%2C%20-27.395899%5D%2C%20%5B-58.618174%2C%20-27.123719%5D%2C%20%5B-57.63366%2C%20-25.603657%5D%2C%20%5B-57.777217%2C%20-25.16234%5D%2C%20%5B-58.807128%2C%20-24.771459%5D%2C%20%5B-60.028966%2C%20-24.032796%5D%2C%20%5B-60.846565%2C%20-23.880713%5D%2C%20%5B-62.685057%2C%20-22.249029%5D%5D%5D%2C%20%22type%22%3A%20%22Polygon%22%7D%2C%20%22id%22%3A%20%22PRY%22%2C%20%22properties%22%3A%20%7B%22name%22%3A%20%22Paraguay%22%7D%2C%20%22type%22%3A%20%22Feature%22%7D%2C%20%7B%22geometry%22%3A%20%7B%22coordinates%22%3A%20%5B%5B%5B50.810108%2C%2024.754743%5D%2C%20%5B50.743911%2C%2025.482424%5D%2C%20%5B51.013352%2C%2026.006992%5D%2C%20%5B51.286462%2C%2026.114582%5D%2C%20%5B51.589079%2C%2025.801113%5D%2C%20%5B51.6067%2C%2025.21567%5D%2C%20%5B51.389608%2C%2024.627386%5D%2C%20%5B51.112415%2C%2024.556331%5D%2C%20%5B50.810108%2C%2024.754743%5D%5D%5D%2C%20%22type%22%3A%20%22Polygon%22%7D%2C%20%22id%22%3A%20%22QAT%22%2C%20%22properties%22%3A%20%7B%22name%22%3A%20%22Qatar%22%7D%2C%20%22type%22%3A%20%22Feature%22%7D%2C%20%7B%22geometry%22%3A%20%7B%22coordinates%22%3A%20%5B%5B%5B22.710531%2C%2047.882194%5D%2C%20%5B23.142236%2C%2048.096341%5D%2C%20%5B23.760958%2C%2047.985598%5D%2C%20%5B24.402056%2C%2047.981878%5D%2C%20%5B24.866317%2C%2047.737526%5D%2C%20%5B25.207743%2C%2047.891056%5D%2C%20%5B25.945941%2C%2047.987149%5D%2C%20%5B26.19745%2C%2048.220881%5D%2C%20%5B26.619337%2C%2048.220726%5D%2C%20%5B26.924176%2C%2048.123264%5D%2C%20%5B27.233873%2C%2047.826771%5D%2C%20%5B27.551166%2C%2047.405117%5D%2C%20%5B28.12803%2C%2046.810476%5D%2C%20%5B28.160018%2C%2046.371563%5D%2C%20%5B28.054443%2C%2045.944586%5D%2C%20%5B28.233554%2C%2045.488283%5D%2C%20%5B28.679779%2C%2045.304031%5D%2C%20%5B29.149725%2C%2045.464925%5D%2C%20%5B29.603289%2C%2045.293308%5D%2C%20%5B29.626543%2C%2045.035391%5D%2C%20%5B29.141612%2C%2044.82021%5D%2C%20%5B28.837858%2C%2044.913874%5D%2C%20%5B28.558081%2C%2043.707462%5D%2C%20%5B27.970107%2C%2043.812468%5D%2C%20%5B27.2424%2C%2044.175986%5D%2C%20%5B26.065159%2C%2043.943494%5D%2C%20%5B25.569272%2C%2043.688445%5D%2C%20%5B24.100679%2C%2043.741051%5D%2C%20%5B23.332302%2C%2043.897011%5D%2C%20%5B22.944832%2C%2043.823785%5D%2C%20%5B22.65715%2C%2044.234923%5D%2C%20%5B22.474008%2C%2044.409228%5D%2C%20%5B22.705726%2C%2044.578003%5D%2C%20%5B22.459022%2C%2044.702517%5D%2C%20%5B22.145088%2C%2044.478422%5D%2C%20%5B21.562023%2C%2044.768947%5D%2C%20%5B21.483526%2C%2045.18117%5D%2C%20%5B20.874313%2C%2045.416375%5D%2C%20%5B20.762175%2C%2045.734573%5D%2C%20%5B20.220192%2C%2046.127469%5D%2C%20%5B21.021952%2C%2046.316088%5D%2C%20%5B21.626515%2C%2046.994238%5D%2C%20%5B22.099768%2C%2047.672439%5D%2C%20%5B22.710531%2C%2047.882194%5D%5D%5D%2C%20%22type%22%3A%20%22Polygon%22%7D%2C%20%22id%22%3A%20%22ROU%22%2C%20%22properties%22%3A%20%7B%22name%22%3A%20%22Romania%22%7D%2C%20%22type%22%3A%20%22Feature%22%7D%2C%20%7B%22geometry%22%3A%20%7B%22coordinates%22%3A%20%5B%5B%5B%5B143.648007%2C%2050.7476%5D%2C%20%5B144.654148%2C%2048.976391%5D%2C%20%5B143.173928%2C%2049.306551%5D%2C%20%5B142.558668%2C%2047.861575%5D%2C%20%5B143.533492%2C%2046.836728%5D%2C%20%5B143.505277%2C%2046.137908%5D%2C%20%5B142.747701%2C%2046.740765%5D%2C%20%5B142.09203%2C%2045.966755%5D%2C%20%5B141.906925%2C%2046.805929%5D%2C%20%5B142.018443%2C%2047.780133%5D%2C%20%5B141.904445%2C%2048.859189%5D%2C%20%5B142.1358%2C%2049.615163%5D%2C%20%5B142.179983%2C%2050.952342%5D%2C%20%5B141.594076%2C%2051.935435%5D%2C%20%5B141.682546%2C%2053.301966%5D%2C%20%5B142.606934%2C%2053.762145%5D%2C%20%5B142.209749%2C%2054.225476%5D%2C%20%5B142.654786%2C%2054.365881%5D%2C%20%5B142.914616%2C%2053.704578%5D%2C%20%5B143.260848%2C%2052.74076%5D%2C%20%5B143.235268%2C%2051.75666%5D%2C%20%5B143.648007%2C%2050.7476%5D%5D%5D%2C%20%5B%5B%5B22.731099%2C%2054.327537%5D%2C%20%5B20.892245%2C%2054.312525%5D%2C%20%5B19.66064%2C%2054.426084%5D%2C%20%5B19.888481%2C%2054.86616%5D%2C%20%5B21.268449%2C%2055.190482%5D%2C%20%5B22.315724%2C%2055.015299%5D%2C%20%5B22.757764%2C%2054.856574%5D%2C%20%5B22.651052%2C%2054.582741%5D%2C%20%5B22.731099%2C%2054.327537%5D%5D%5D%2C%20%5B%5B%5B-175.01425%2C%2066.58435%5D%2C%20%5B-174.33983%2C%2066.33556%5D%2C%20%5B-174.57182%2C%2067.06219%5D%2C%20%5B-171.85731%2C%2066.91308%5D%2C%20%5B-169.89958%2C%2065.97724%5D%2C%20%5B-170.89107%2C%2065.54139%5D%2C%20%5B-172.53025%2C%2065.43791%5D%2C%20%5B-172.555%2C%2064.46079%5D%2C%20%5B-172.95533%2C%2064.25269%5D%2C%20%5B-173.89184%2C%2064.2826%5D%2C%20%5B-174.65392%2C%2064.63125%5D%2C%20%5B-175.98353%2C%2064.92288%5D%2C%20%5B-176.20716%2C%2065.35667%5D%2C%20%5B-177.22266%2C%2065.52024%5D%2C%20%5B-178.35993%2C%2065.39052%5D%2C%20%5B-178.90332%2C%2065.74044%5D%2C%20%5B-178.68611%2C%2066.11211%5D%2C%20%5B-179.88377%2C%2065.87456%5D%2C%20%5B-179.43268%2C%2065.40411%5D%2C%20%5B-180%2C%2064.979709%5D%2C%20%5B-180%2C%2068.963636%5D%2C%20%5B-177.55%2C%2068.2%5D%2C%20%5B-174.92825%2C%2067.20589%5D%2C%20%5B-175.01425%2C%2066.58435%5D%5D%5D%2C%20%5B%5B%5B180%2C%2070.832199%5D%2C%20%5B178.903425%2C%2070.78114%5D%2C%20%5B178.7253%2C%2071.0988%5D%2C%20%5B180%2C%2071.515714%5D%2C%20%5B180%2C%2070.832199%5D%5D%5D%2C%20%5B%5B%5B-178.69378%2C%2070.89302%5D%2C%20%5B-180%2C%2070.832199%5D%2C%20%5B-180%2C%2071.515714%5D%2C%20%5B-179.871875%2C%2071.55762%5D%2C%20%5B-179.02433%2C%2071.55553%5D%2C%20%5B-177.577945%2C%2071.26948%5D%2C%20%5B-177.663575%2C%2071.13277%5D%2C%20%5B-178.69378%2C%2070.89302%5D%5D%5D%2C%20%5B%5B%5B143.60385%2C%2073.21244%5D%2C%20%5B142.08763%2C%2073.20544%5D%2C%20%5B140.038155%2C%2073.31692%5D%2C%20%5B139.86312%2C%2073.36983%5D%2C%20%5B140.81171%2C%2073.76506%5D%2C%20%5B142.06207%2C%2073.85758%5D%2C%20%5B143.48283%2C%2073.47525%5D%2C%20%5B143.60385%2C%2073.21244%5D%5D%5D%2C%20%5B%5B%5B150.73167%2C%2075.08406%5D%2C%20%5B149.575925%2C%2074.68892%5D%2C%20%5B147.977465%2C%2074.778355%5D%2C%20%5B146.11919%2C%2075.17298%5D%2C%20%5B146.358485%2C%2075.49682%5D%2C%20%5B148.22223%2C%2075.345845%5D%2C%20%5B150.73167%2C%2075.08406%5D%5D%5D%2C%20%5B%5B%5B145.086285%2C%2075.562625%5D%2C%20%5B144.3%2C%2074.82%5D%2C%20%5B140.61381%2C%2074.84768%5D%2C%20%5B138.95544%2C%2074.61148%5D%2C%20%5B136.97439%2C%2075.26167%5D%2C%20%5B137.51176%2C%2075.94917%5D%2C%20%5B138.831075%2C%2076.13676%5D%2C%20%5B141.471615%2C%2076.09289%5D%2C%20%5B145.086285%2C%2075.562625%5D%5D%5D%2C%20%5B%5B%5B57.535693%2C%2070.720464%5D%2C%20%5B56.944979%2C%2070.632743%5D%2C%20%5B53.677375%2C%2070.762658%5D%2C%20%5B53.412017%2C%2071.206662%5D%2C%20%5B51.601895%2C%2071.474759%5D%2C%20%5B51.455754%2C%2072.014881%5D%2C%20%5B52.478275%2C%2072.229442%5D%2C%20%5B52.444169%2C%2072.774731%5D%2C%20%5B54.427614%2C%2073.627548%5D%2C%20%5B53.50829%2C%2073.749814%5D%2C%20%5B55.902459%2C%2074.627486%5D%2C%20%5B55.631933%2C%2075.081412%5D%2C%20%5B57.868644%2C%2075.60939%5D%2C%20%5B61.170044%2C%2076.251883%5D%2C%20%5B64.498368%2C%2076.439055%5D%2C%20%5B66.210977%2C%2076.809782%5D%2C%20%5B68.15706%2C%2076.939697%5D%2C%20%5B68.852211%2C%2076.544811%5D%2C%20%5B68.180573%2C%2076.233642%5D%2C%20%5B64.637326%2C%2075.737755%5D%2C%20%5B61.583508%2C%2075.260885%5D%2C%20%5B58.477082%2C%2074.309056%5D%2C%20%5B56.986786%2C%2073.333044%5D%2C%20%5B55.419336%2C%2072.371268%5D%2C%20%5B55.622838%2C%2071.540595%5D%2C%20%5B57.535693%2C%2070.720464%5D%5D%5D%2C%20%5B%5B%5B106.97013%2C%2076.97419%5D%2C%20%5B107.24%2C%2076.48%5D%2C%20%5B108.1538%2C%2076.72335%5D%2C%20%5B111.07726%2C%2076.71%5D%2C%20%5B113.33151%2C%2076.22224%5D%2C%20%5B114.13417%2C%2075.84764%5D%2C%20%5B113.88539%2C%2075.32779%5D%2C%20%5B112.77918%2C%2075.03186%5D%2C%20%5B110.15125%2C%2074.47673%5D%2C%20%5B109.4%2C%2074.18%5D%2C%20%5B110.64%2C%2074.04%5D%2C%20%5B112.11919%2C%2073.78774%5D%2C%20%5B113.01954%2C%2073.97693%5D%2C%20%5B113.52958%2C%2073.33505%5D%2C%20%5B113.96881%2C%2073.59488%5D%2C%20%5B115.56782%2C%2073.75285%5D%2C%20%5B118.77633%2C%2073.58772%5D%2C%20%5B119.02%2C%2073.12%5D%2C%20%5B123.20066%2C%2072.97122%5D%2C%20%5B123.25777%2C%2073.73503%5D%2C%20%5B125.38%2C%2073.56%5D%2C%20%5B126.97644%2C%2073.56549%5D%2C%20%5B128.59126%2C%2073.03871%5D%2C%20%5B129.05157%2C%2072.39872%5D%2C%20%5B128.46%2C%2071.98%5D%2C%20%5B129.71599%2C%2071.19304%5D%2C%20%5B131.28858%2C%2070.78699%5D%2C%20%5B132.2535%2C%2071.8363%5D%2C%20%5B133.85766%2C%2071.38642%5D%2C%20%5B135.56193%2C%2071.65525%5D%2C%20%5B137.49755%2C%2071.34763%5D%2C%20%5B138.23409%2C%2071.62803%5D%2C%20%5B139.86983%2C%2071.48783%5D%2C%20%5B139.14791%2C%2072.41619%5D%2C%20%5B140.46817%2C%2072.84941%5D%2C%20%5B149.5%2C%2072.2%5D%2C%20%5B150.35118%2C%2071.60643%5D%2C%20%5B152.9689%2C%2070.84222%5D%2C%20%5B157.00688%2C%2071.03141%5D%2C%20%5B158.99779%2C%2070.86672%5D%2C%20%5B159.83031%2C%2070.45324%5D%2C%20%5B159.70866%2C%2069.72198%5D%2C%20%5B160.94053%2C%2069.43728%5D%2C%20%5B162.27907%2C%2069.64204%5D%2C%20%5B164.05248%2C%2069.66823%5D%2C%20%5B165.94037%2C%2069.47199%5D%2C%20%5B167.83567%2C%2069.58269%5D%2C%20%5B169.57763%2C%2068.6938%5D%2C%20%5B170.81688%2C%2069.01363%5D%2C%20%5B170.0082%2C%2069.65276%5D%2C%20%5B170.45345%2C%2070.09703%5D%2C%20%5B173.64391%2C%2069.81743%5D%2C%20%5B175.72403%2C%2069.87725%5D%2C%20%5B178.6%2C%2069.4%5D%2C%20%5B180%2C%2068.963636%5D%2C%20%5B180%2C%2064.979709%5D%2C%20%5B179.99281%2C%2064.97433%5D%2C%20%5B178.7072%2C%2064.53493%5D%2C%20%5B177.41128%2C%2064.60821%5D%2C%20%5B178.313%2C%2064.07593%5D%2C%20%5B178.90825%2C%2063.25197%5D%2C%20%5B179.37034%2C%2062.98262%5D%2C%20%5B179.48636%2C%2062.56894%5D%2C%20%5B179.22825%2C%2062.3041%5D%2C%20%5B177.3643%2C%2062.5219%5D%2C%20%5B174.56929%2C%2061.76915%5D%2C%20%5B173.68013%2C%2061.65261%5D%2C%20%5B172.15%2C%2060.95%5D%2C%20%5B170.6985%2C%2060.33618%5D%2C%20%5B170.33085%2C%2059.88177%5D%2C%20%5B168.90046%2C%2060.57355%5D%2C%20%5B166.29498%2C%2059.78855%5D%2C%20%5B165.84%2C%2060.16%5D%2C%20%5B164.87674%2C%2059.7316%5D%2C%20%5B163.53929%2C%2059.86871%5D%2C%20%5B163.21711%2C%2059.21101%5D%2C%20%5B162.01733%2C%2058.24328%5D%2C%20%5B162.05297%2C%2057.83912%5D%2C%20%5B163.19191%2C%2057.61503%5D%2C%20%5B163.05794%2C%2056.15924%5D%2C%20%5B162.12958%2C%2056.12219%5D%2C%20%5B161.70146%2C%2055.28568%5D%2C%20%5B162.11749%2C%2054.85514%5D%2C%20%5B160.36877%2C%2054.34433%5D%2C%20%5B160.02173%2C%2053.20257%5D%2C%20%5B158.53094%2C%2052.95868%5D%2C%20%5B158.23118%2C%2051.94269%5D%2C%20%5B156.78979%2C%2051.01105%5D%2C%20%5B156.42%2C%2051.7%5D%2C%20%5B155.99182%2C%2053.15895%5D%2C%20%5B155.43366%2C%2055.38103%5D%2C%20%5B155.91442%2C%2056.76792%5D%2C%20%5B156.75815%2C%2057.3647%5D%2C%20%5B156.81035%2C%2057.83204%5D%2C%20%5B158.36433%2C%2058.05575%5D%2C%20%5B160.15064%2C%2059.31477%5D%2C%20%5B161.87204%2C%2060.343%5D%2C%20%5B163.66969%2C%2061.1409%5D%2C%20%5B164.47355%2C%2062.55061%5D%2C%20%5B163.25842%2C%2062.46627%5D%2C%20%5B162.65791%2C%2061.6425%5D%2C%20%5B160.12148%2C%2060.54423%5D%2C%20%5B159.30232%2C%2061.77396%5D%2C%20%5B156.72068%2C%2061.43442%5D%2C%20%5B154.21806%2C%2059.75818%5D%2C%20%5B155.04375%2C%2059.14495%5D%2C%20%5B152.81185%2C%2058.88385%5D%2C%20%5B151.26573%2C%2058.78089%5D%2C%20%5B151.33815%2C%2059.50396%5D%2C%20%5B149.78371%2C%2059.65573%5D%2C%20%5B148.54481%2C%2059.16448%5D%2C%20%5B145.48722%2C%2059.33637%5D%2C%20%5B142.19782%2C%2059.03998%5D%2C%20%5B138.95848%2C%2057.08805%5D%2C%20%5B135.12619%2C%2054.72959%5D%2C%20%5B136.70171%2C%2054.60355%5D%2C%20%5B137.19342%2C%2053.97732%5D%2C%20%5B138.1647%2C%2053.75501%5D%2C%20%5B138.80463%2C%2054.25455%5D%2C%20%5B139.90151%2C%2054.18968%5D%2C%20%5B141.34531%2C%2053.08957%5D%2C%20%5B141.37923%2C%2052.23877%5D%2C%20%5B140.59742%2C%2051.23967%5D%2C%20%5B140.51308%2C%2050.04553%5D%2C%20%5B140.06193%2C%2048.44671%5D%2C%20%5B138.55472%2C%2046.99965%5D%2C%20%5B138.21971%2C%2046.30795%5D%2C%20%5B136.86232%2C%2045.1435%5D%2C%20%5B135.51535%2C%2043.989%5D%2C%20%5B134.86939%2C%2043.39821%5D%2C%20%5B133.53687%2C%2042.81147%5D%2C%20%5B132.90627%2C%2042.79849%5D%2C%20%5B132.27807%2C%2043.28456%5D%2C%20%5B130.93587%2C%2042.55274%5D%2C%20%5B130.78%2C%2042.22%5D%2C%20%5B130.64%2C%2042.395%5D%2C%20%5B130.633866%2C%2042.903015%5D%2C%20%5B131.144688%2C%2042.92999%5D%2C%20%5B131.288555%2C%2044.11152%5D%2C%20%5B131.02519%2C%2044.96796%5D%2C%20%5B131.883454%2C%2045.321162%5D%2C%20%5B133.09712%2C%2045.14409%5D%2C%20%5B133.769644%2C%2046.116927%5D%2C%20%5B134.11235%2C%2047.21248%5D%2C%20%5B134.50081%2C%2047.57845%5D%2C%20%5B135.026311%2C%2048.47823%5D%2C%20%5B133.373596%2C%2048.183442%5D%2C%20%5B132.50669%2C%2047.78896%5D%2C%20%5B130.98726%2C%2047.79013%5D%2C%20%5B130.582293%2C%2048.729687%5D%2C%20%5B129.397818%2C%2049.4406%5D%2C%20%5B127.6574%2C%2049.76027%5D%2C%20%5B127.287456%2C%2050.739797%5D%2C%20%5B126.939157%2C%2051.353894%5D%2C%20%5B126.564399%2C%2051.784255%5D%2C%20%5B125.946349%2C%2052.792799%5D%2C%20%5B125.068211%2C%2053.161045%5D%2C%20%5B123.57147%2C%2053.4588%5D%2C%20%5B122.245748%2C%2053.431726%5D%2C%20%5B121.003085%2C%2053.251401%5D%2C%20%5B120.177089%2C%2052.753886%5D%2C%20%5B120.725789%2C%2052.516226%5D%2C%20%5B120.7382%2C%2051.96411%5D%2C%20%5B120.18208%2C%2051.64355%5D%2C%20%5B119.27939%2C%2050.58292%5D%2C%20%5B119.288461%2C%2050.142883%5D%2C%20%5B117.879244%2C%2049.510983%5D%2C%20%5B116.678801%2C%2049.888531%5D%2C%20%5B115.485695%2C%2049.805177%5D%2C%20%5B114.96211%2C%2050.140247%5D%2C%20%5B114.362456%2C%2050.248303%5D%2C%20%5B112.89774%2C%2049.543565%5D%2C%20%5B111.581231%2C%2049.377968%5D%2C%20%5B110.662011%2C%2049.130128%5D%2C%20%5B109.402449%2C%2049.292961%5D%2C%20%5B108.475167%2C%2049.282548%5D%2C%20%5B107.868176%2C%2049.793705%5D%2C%20%5B106.888804%2C%2050.274296%5D%2C%20%5B105.886591%2C%2050.406019%5D%2C%20%5B104.62158%2C%2050.27532%5D%2C%20%5B103.676545%2C%2050.089966%5D%2C%20%5B102.25589%2C%2050.51056%5D%2C%20%5B102.06521%2C%2051.25991%5D%2C%20%5B100.88948%2C%2051.516856%5D%2C%20%5B99.981732%2C%2051.634006%5D%2C%20%5B98.861491%2C%2052.047366%5D%2C%20%5B97.82574%2C%2051.010995%5D%2C%20%5B98.231762%2C%2050.422401%5D%2C%20%5B97.25976%2C%2049.72605%5D%2C%20%5B95.81402%2C%2049.97746%5D%2C%20%5B94.815949%2C%2050.013433%5D%2C%20%5B94.147566%2C%2050.480537%5D%2C%20%5B93.10421%2C%2050.49529%5D%2C%20%5B92.234712%2C%2050.802171%5D%2C%20%5B90.713667%2C%2050.331812%5D%2C%20%5B88.805567%2C%2049.470521%5D%2C%20%5B87.751264%2C%2049.297198%5D%2C%20%5B87.35997%2C%2049.214981%5D%2C%20%5B86.829357%2C%2049.826675%5D%2C%20%5B85.54127%2C%2049.692859%5D%2C%20%5B85.11556%2C%2050.117303%5D%2C%20%5B84.416377%2C%2050.3114%5D%2C%20%5B83.935115%2C%2050.889246%5D%2C%20%5B83.383004%2C%2051.069183%5D%2C%20%5B81.945986%2C%2050.812196%5D%2C%20%5B80.568447%2C%2051.388336%5D%2C%20%5B80.03556%2C%2050.864751%5D%2C%20%5B77.800916%2C%2053.404415%5D%2C%20%5B76.525179%2C%2054.177003%5D%2C%20%5B76.8911%2C%2054.490524%5D%2C%20%5B74.38482%2C%2053.54685%5D%2C%20%5B73.425679%2C%2053.48981%5D%2C%20%5B73.508516%2C%2054.035617%5D%2C%20%5B72.22415%2C%2054.376655%5D%2C%20%5B71.180131%2C%2054.133285%5D%2C%20%5B70.865267%2C%2055.169734%5D%2C%20%5B69.068167%2C%2055.38525%5D%2C%20%5B68.1691%2C%2054.970392%5D%2C%20%5B65.66687%2C%2054.60125%5D%2C%20%5B65.178534%2C%2054.354228%5D%2C%20%5B61.4366%2C%2054.00625%5D%2C%20%5B60.978066%2C%2053.664993%5D%2C%20%5B61.699986%2C%2052.979996%5D%2C%20%5B60.739993%2C%2052.719986%5D%2C%20%5B60.927269%2C%2052.447548%5D%2C%20%5B59.967534%2C%2051.96042%5D%2C%20%5B61.588003%2C%2051.272659%5D%2C%20%5B61.337424%2C%2050.79907%5D%2C%20%5B59.932807%2C%2050.842194%5D%2C%20%5B59.642282%2C%2050.545442%5D%2C%20%5B58.36332%2C%2051.06364%5D%2C%20%5B56.77798%2C%2051.04355%5D%2C%20%5B55.71694%2C%2050.62171%5D%2C%20%5B54.532878%2C%2051.02624%5D%2C%20%5B52.328724%2C%2051.718652%5D%2C%20%5B50.766648%2C%2051.692762%5D%2C%20%5B48.702382%2C%2050.605128%5D%2C%20%5B48.577841%2C%2049.87476%5D%2C%20%5B47.54948%2C%2050.454698%5D%2C%20%5B46.751596%2C%2049.356006%5D%2C%20%5B47.043672%2C%2049.152039%5D%2C%20%5B46.466446%2C%2048.394152%5D%2C%20%5B47.31524%2C%2047.71585%5D%2C%20%5B48.05725%2C%2047.74377%5D%2C%20%5B48.694734%2C%2047.075628%5D%2C%20%5B48.59325%2C%2046.56104%5D%2C%20%5B49.10116%2C%2046.39933%5D%2C%20%5B48.64541%2C%2045.80629%5D%2C%20%5B47.67591%2C%2045.64149%5D%2C%20%5B46.68201%2C%2044.6092%5D%2C%20%5B47.59094%2C%2043.66016%5D%2C%20%5B47.49252%2C%2042.98658%5D%2C%20%5B48.58437%2C%2041.80888%5D%2C%20%5B47.987283%2C%2041.405819%5D%2C%20%5B47.815666%2C%2041.151416%5D%2C%20%5B47.373315%2C%2041.219732%5D%2C%20%5B46.686071%2C%2041.827137%5D%2C%20%5B46.404951%2C%2041.860675%5D%2C%20%5B45.7764%2C%2042.09244%5D%2C%20%5B45.470279%2C%2042.502781%5D%2C%20%5B44.537623%2C%2042.711993%5D%2C%20%5B43.93121%2C%2042.55496%5D%2C%20%5B43.75599%2C%2042.74083%5D%2C%20%5B42.3944%2C%2043.2203%5D%2C%20%5B40.92219%2C%2043.38215%5D%2C%20%5B40.076965%2C%2043.553104%5D%2C%20%5B39.955009%2C%2043.434998%5D%2C%20%5B38.68%2C%2044.28%5D%2C%20%5B37.53912%2C%2044.65721%5D%2C%20%5B36.67546%2C%2045.24469%5D%2C%20%5B37.40317%2C%2045.40451%5D%2C%20%5B38.23295%2C%2046.24087%5D%2C%20%5B37.67372%2C%2046.63657%5D%2C%20%5B39.14767%2C%2047.04475%5D%2C%20%5B39.1212%2C%2047.26336%5D%2C%20%5B38.223538%2C%2047.10219%5D%2C%20%5B38.255112%2C%2047.5464%5D%2C%20%5B38.77057%2C%2047.82562%5D%2C%20%5B39.738278%2C%2047.898937%5D%2C%20%5B39.89562%2C%2048.23241%5D%2C%20%5B39.67465%2C%2048.78382%5D%2C%20%5B40.080789%2C%2049.30743%5D%2C%20%5B40.06904%2C%2049.60105%5D%2C%20%5B38.594988%2C%2049.926462%5D%2C%20%5B38.010631%2C%2049.915662%5D%2C%20%5B37.39346%2C%2050.383953%5D%2C%20%5B36.626168%2C%2050.225591%5D%2C%20%5B35.356116%2C%2050.577197%5D%2C%20%5B35.37791%2C%2050.77394%5D%2C%20%5B35.022183%2C%2051.207572%5D%2C%20%5B34.224816%2C%2051.255993%5D%2C%20%5B34.141978%2C%2051.566413%5D%2C%20%5B34.391731%2C%2051.768882%5D%2C%20%5B33.7527%2C%2052.335075%5D%2C%20%5B32.715761%2C%2052.238465%5D%2C%20%5B32.412058%2C%2052.288695%5D%2C%20%5B32.15944%2C%2052.06125%5D%2C%20%5B31.78597%2C%2052.10168%5D%2C%20%5B31.540018%2C%2052.742052%5D%2C%20%5B31.305201%2C%2053.073996%5D%2C%20%5B31.49764%2C%2053.16743%5D%2C%20%5B32.304519%2C%2053.132726%5D%2C%20%5B32.693643%2C%2053.351421%5D%2C%20%5B32.405599%2C%2053.618045%5D%2C%20%5B31.731273%2C%2053.794029%5D%2C%20%5B31.791424%2C%2053.974639%5D%2C%20%5B31.384472%2C%2054.157056%5D%2C%20%5B30.757534%2C%2054.811771%5D%2C%20%5B30.971836%2C%2055.081548%5D%2C%20%5B30.873909%2C%2055.550976%5D%2C%20%5B29.896294%2C%2055.789463%5D%2C%20%5B29.371572%2C%2055.670091%5D%2C%20%5B29.229513%2C%2055.918344%5D%2C%20%5B28.176709%2C%2056.16913%5D%2C%20%5B27.855282%2C%2056.759326%5D%2C%20%5B27.770016%2C%2057.244258%5D%2C%20%5B27.288185%2C%2057.474528%5D%2C%20%5B27.716686%2C%2057.791899%5D%2C%20%5B27.42015%2C%2058.72457%5D%2C%20%5B28.131699%2C%2059.300825%5D%2C%20%5B27.98112%2C%2059.47537%5D%2C%20%5B29.1177%2C%2060.02805%5D%2C%20%5B28.07%2C%2060.50352%5D%2C%20%5B30.211107%2C%2061.780028%5D%2C%20%5B31.139991%2C%2062.357693%5D%2C%20%5B31.516092%2C%2062.867687%5D%2C%20%5B30.035872%2C%2063.552814%5D%2C%20%5B30.444685%2C%2064.204453%5D%2C%20%5B29.54443%2C%2064.948672%5D%2C%20%5B30.21765%2C%2065.80598%5D%2C%20%5B29.054589%2C%2066.944286%5D%2C%20%5B29.977426%2C%2067.698297%5D%2C%20%5B28.445944%2C%2068.364613%5D%2C%20%5B28.59193%2C%2069.064777%5D%2C%20%5B29.39955%2C%2069.15692%5D%2C%20%5B31.10108%2C%2069.55811%5D%2C%20%5B32.13272%2C%2069.90595%5D%2C%20%5B33.77547%2C%2069.30142%5D%2C%20%5B36.51396%2C%2069.06342%5D%2C%20%5B40.29234%2C%2067.9324%5D%2C%20%5B41.05987%2C%2067.45713%5D%2C%20%5B41.12595%2C%2066.79158%5D%2C%20%5B40.01583%2C%2066.26618%5D%2C%20%5B38.38295%2C%2065.99953%5D%2C%20%5B33.91871%2C%2066.75961%5D%2C%20%5B33.18444%2C%2066.63253%5D%2C%20%5B34.81477%2C%2065.90015%5D%2C%20%5B34.878574%2C%2065.436213%5D%2C%20%5B34.94391%2C%2064.41437%5D%2C%20%5B36.23129%2C%2064.10945%5D%2C%20%5B37.01273%2C%2063.84983%5D%2C%20%5B37.14197%2C%2064.33471%5D%2C%20%5B36.539579%2C%2064.76446%5D%2C%20%5B37.17604%2C%2065.14322%5D%2C%20%5B39.59345%2C%2064.52079%5D%2C%20%5B40.4356%2C%2064.76446%5D%2C%20%5B39.7626%2C%2065.49682%5D%2C%20%5B42.09309%2C%2066.47623%5D%2C%20%5B43.01604%2C%2066.41858%5D%2C%20%5B43.94975%2C%2066.06908%5D%2C%20%5B44.53226%2C%2066.75634%5D%2C%20%5B43.69839%2C%2067.35245%5D%2C%20%5B44.18795%2C%2067.95051%5D%2C%20%5B43.45282%2C%2068.57079%5D%2C%20%5B46.25%2C%2068.25%5D%2C%20%5B46.82134%2C%2067.68997%5D%2C%20%5B45.55517%2C%2067.56652%5D%2C%20%5B45.56202%2C%2067.01005%5D%2C%20%5B46.34915%2C%2066.66767%5D%2C%20%5B47.89416%2C%2066.88455%5D%2C%20%5B48.13876%2C%2067.52238%5D%2C%20%5B50.22766%2C%2067.99867%5D%2C%20%5B53.71743%2C%2068.85738%5D%2C%20%5B54.47171%2C%2068.80815%5D%2C%20%5B53.48582%2C%2068.20131%5D%2C%20%5B54.72628%2C%2068.09702%5D%2C%20%5B55.44268%2C%2068.43866%5D%2C%20%5B57.31702%2C%2068.46628%5D%2C%20%5B58.802%2C%2068.88082%5D%2C%20%5B59.94142%2C%2068.27844%5D%2C%20%5B61.07784%2C%2068.94069%5D%2C%20%5B60.03%2C%2069.52%5D%2C%20%5B60.55%2C%2069.85%5D%2C%20%5B63.504%2C%2069.54739%5D%2C%20%5B64.888115%2C%2069.234835%5D%2C%20%5B68.51216%2C%2068.09233%5D%2C%20%5B69.18068%2C%2068.61563%5D%2C%20%5B68.16444%2C%2069.14436%5D%2C%20%5B68.13522%2C%2069.35649%5D%2C%20%5B66.93008%2C%2069.45461%5D%2C%20%5B67.25976%2C%2069.92873%5D%2C%20%5B66.72492%2C%2070.70889%5D%2C%20%5B66.69466%2C%2071.02897%5D%2C%20%5B68.54006%2C%2071.9345%5D%2C%20%5B69.19636%2C%2072.84336%5D%2C%20%5B69.94%2C%2073.04%5D%2C%20%5B72.58754%2C%2072.77629%5D%2C%20%5B72.79603%2C%2072.22006%5D%2C%20%5B71.84811%2C%2071.40898%5D%2C%20%5B72.47011%2C%2071.09019%5D%2C%20%5B72.79188%2C%2070.39114%5D%2C%20%5B72.5647%2C%2069.02085%5D%2C%20%5B73.66787%2C%2068.4079%5D%2C%20%5B73.2387%2C%2067.7404%5D%2C%20%5B71.28%2C%2066.32%5D%2C%20%5B72.42301%2C%2066.17267%5D%2C%20%5B72.82077%2C%2066.53267%5D%2C%20%5B73.92099%2C%2066.78946%5D%2C%20%5B74.18651%2C%2067.28429%5D%2C%20%5B75.052%2C%2067.76047%5D%2C%20%5B74.46926%2C%2068.32899%5D%2C%20%5B74.93584%2C%2068.98918%5D%2C%20%5B73.84236%2C%2069.07146%5D%2C%20%5B73.60187%2C%2069.62763%5D%2C%20%5B74.3998%2C%2070.63175%5D%2C%20%5B73.1011%2C%2071.44717%5D%2C%20%5B74.89082%2C%2072.12119%5D%2C%20%5B74.65926%2C%2072.83227%5D%2C%20%5B75.15801%2C%2072.85497%5D%2C%20%5B75.68351%2C%2072.30056%5D%2C%20%5B75.28898%2C%2071.33556%5D%2C%20%5B76.35911%2C%2071.15287%5D%2C%20%5B75.90313%2C%2071.87401%5D%2C%20%5B77.57665%2C%2072.26717%5D%2C%20%5B79.65202%2C%2072.32011%5D%2C%20%5B81.5%2C%2071.75%5D%2C%20%5B80.61071%2C%2072.58285%5D%2C%20%5B80.51109%2C%2073.6482%5D%2C%20%5B82.25%2C%2073.85%5D%2C%20%5B84.65526%2C%2073.80591%5D%2C%20%5B86.8223%2C%2073.93688%5D%2C%20%5B86.00956%2C%2074.45967%5D%2C%20%5B87.16682%2C%2075.11643%5D%2C%20%5B88.31571%2C%2075.14393%5D%2C%20%5B90.26%2C%2075.64%5D%2C%20%5B92.90058%2C%2075.77333%5D%2C%20%5B93.23421%2C%2076.0472%5D%2C%20%5B95.86%2C%2076.14%5D%2C%20%5B96.67821%2C%2075.91548%5D%2C%20%5B98.92254%2C%2076.44689%5D%2C%20%5B100.75967%2C%2076.43028%5D%2C%20%5B101.03532%2C%2076.86189%5D%2C%20%5B101.99084%2C%2077.28754%5D%2C%20%5B104.3516%2C%2077.69792%5D%2C%20%5B106.06664%2C%2077.37389%5D%2C%20%5B104.705%2C%2077.1274%5D%2C%20%5B106.97013%2C%2076.97419%5D%5D%5D%2C%20%5B%5B%5B105.07547%2C%2078.30689%5D%2C%20%5B99.43814%2C%2077.921%5D%2C%20%5B101.2649%2C%2079.23399%5D%2C%20%5B102.08635%2C%2079.34641%5D%2C%20%5B102.837815%2C%2079.28129%5D%2C%20%5B105.37243%2C%2078.71334%5D%2C%20%5B105.07547%2C%2078.30689%5D%5D%5D%2C%20%5B%5B%5B51.136187%2C%2080.54728%5D%2C%20%5B49.793685%2C%2080.415428%5D%2C%20%5B48.894411%2C%2080.339567%5D%2C%20%5B48.754937%2C%2080.175468%5D%2C%20%5B47.586119%2C%2080.010181%5D%2C%20%5B46.502826%2C%2080.247247%5D%2C%20%5B47.072455%2C%2080.559424%5D%2C%20%5B44.846958%2C%2080.58981%5D%2C%20%5B46.799139%2C%2080.771918%5D%2C%20%5B48.318477%2C%2080.78401%5D%2C%20%5B48.522806%2C%2080.514569%5D%2C%20%5B49.09719%2C%2080.753986%5D%2C%20%5B50.039768%2C%2080.918885%5D%2C%20%5B51.522933%2C%2080.699726%5D%2C%20%5B51.136187%2C%2080.54728%5D%5D%5D%2C%20%5B%5B%5B99.93976%2C%2078.88094%5D%2C%20%5B97.75794%2C%2078.7562%5D%2C%20%5B94.97259%2C%2079.044745%5D%2C%20%5B93.31288%2C%2079.4265%5D%2C%20%5B92.5454%2C%2080.14379%5D%2C%20%5B91.18107%2C%2080.34146%5D%2C%20%5B93.77766%2C%2081.0246%5D%2C%20%5B95.940895%2C%2081.2504%5D%2C%20%5B97.88385%2C%2080.746975%5D%2C%20%5B100.186655%2C%2079.780135%5D%2C%20%5B99.93976%2C%2078.88094%5D%5D%5D%5D%2C%20%22type%22%3A%20%22MultiPolygon%22%7D%2C%20%22id%22%3A%20%22RUS%22%2C%20%22properties%22%3A%20%7B%22name%22%3A%20%22Russia%22%7D%2C%20%22type%22%3A%20%22Feature%22%7D%2C%20%7B%22geometry%22%3A%20%7B%22coordinates%22%3A%20%5B%5B%5B30.419105%2C%20-1.134659%5D%2C%20%5B30.816135%2C%20-1.698914%5D%2C%20%5B30.758309%2C%20-2.28725%5D%2C%20%5B30.469696%2C%20-2.413858%5D%2C%20%5B29.938359%2C%20-2.348487%5D%2C%20%5B29.632176%2C%20-2.917858%5D%2C%20%5B29.024926%2C%20-2.839258%5D%2C%20%5B29.117479%2C%20-2.292211%5D%2C%20%5B29.254835%2C%20-2.21511%5D%2C%20%5B29.291887%2C%20-1.620056%5D%2C%20%5B29.579466%2C%20-1.341313%5D%2C%20%5B29.821519%2C%20-1.443322%5D%2C%20%5B30.419105%2C%20-1.134659%5D%5D%5D%2C%20%22type%22%3A%20%22Polygon%22%7D%2C%20%22id%22%3A%20%22RWA%22%2C%20%22properties%22%3A%20%7B%22name%22%3A%20%22Rwanda%22%7D%2C%20%22type%22%3A%20%22Feature%22%7D%2C%20%7B%22geometry%22%3A%20%7B%22coordinates%22%3A%20%5B%5B%5B-8.794884%2C%2027.120696%5D%2C%20%5B-8.817828%2C%2027.656426%5D%2C%20%5B-8.66559%2C%2027.656426%5D%2C%20%5B-8.665124%2C%2027.589479%5D%2C%20%5B-8.6844%2C%2027.395744%5D%2C%20%5B-8.687294%2C%2025.881056%5D%2C%20%5B-11.969419%2C%2025.933353%5D%2C%20%5B-11.937224%2C%2023.374594%5D%2C%20%5B-12.874222%2C%2023.284832%5D%2C%20%5B-13.118754%2C%2022.77122%5D%2C%20%5B-12.929102%2C%2021.327071%5D%2C%20%5B-16.845194%2C%2021.333323%5D%2C%20%5B-17.063423%2C%2020.999752%5D%2C%20%5B-17.020428%2C%2021.42231%5D%2C%20%5B-17.002962%2C%2021.420734%5D%2C%20%5B-14.750955%2C%2021.5006%5D%2C%20%5B-14.630833%2C%2021.86094%5D%2C%20%5B-14.221168%2C%2022.310163%5D%2C%20%5B-13.89111%2C%2023.691009%5D%2C%20%5B-12.500963%2C%2024.770116%5D%2C%20%5B-12.030759%2C%2026.030866%5D%2C%20%5B-11.71822%2C%2026.104092%5D%2C%20%5B-11.392555%2C%2026.883424%5D%2C%20%5B-10.551263%2C%2026.990808%5D%2C%20%5B-10.189424%2C%2026.860945%5D%2C%20%5B-9.735343%2C%2026.860945%5D%2C%20%5B-9.413037%2C%2027.088476%5D%2C%20%5B-8.794884%2C%2027.120696%5D%5D%5D%2C%20%22type%22%3A%20%22Polygon%22%7D%2C%20%22id%22%3A%20%22-99%22%2C%20%22properties%22%3A%20%7B%22name%22%3A%20%22Western%20Sahara%22%7D%2C%20%22type%22%3A%20%22Feature%22%7D%2C%20%7B%22geometry%22%3A%20%7B%22coordinates%22%3A%20%5B%5B%5B42.779332%2C%2016.347891%5D%2C%20%5B42.649573%2C%2016.774635%5D%2C%20%5B42.347989%2C%2017.075806%5D%2C%20%5B42.270888%2C%2017.474722%5D%2C%20%5B41.754382%2C%2017.833046%5D%2C%20%5B41.221391%2C%2018.6716%5D%2C%20%5B40.939341%2C%2019.486485%5D%2C%20%5B40.247652%2C%2020.174635%5D%2C%20%5B39.801685%2C%2020.338862%5D%2C%20%5B39.139399%2C%2021.291905%5D%2C%20%5B39.023696%2C%2021.986875%5D%2C%20%5B39.066329%2C%2022.579656%5D%2C%20%5B38.492772%2C%2023.688451%5D%2C%20%5B38.02386%2C%2024.078686%5D%2C%20%5B37.483635%2C%2024.285495%5D%2C%20%5B37.154818%2C%2024.858483%5D%2C%20%5B37.209491%2C%2025.084542%5D%2C%20%5B36.931627%2C%2025.602959%5D%2C%20%5B36.639604%2C%2025.826228%5D%2C%20%5B36.249137%2C%2026.570136%5D%2C%20%5B35.640182%2C%2027.37652%5D%2C%20%5B35.130187%2C%2028.063352%5D%2C%20%5B34.632336%2C%2028.058546%5D%2C%20%5B34.787779%2C%2028.607427%5D%2C%20%5B34.83222%2C%2028.957483%5D%2C%20%5B34.956037%2C%2029.356555%5D%2C%20%5B36.068941%2C%2029.197495%5D%2C%20%5B36.501214%2C%2029.505254%5D%2C%20%5B36.740528%2C%2029.865283%5D%2C%20%5B37.503582%2C%2030.003776%5D%2C%20%5B37.66812%2C%2030.338665%5D%2C%20%5B37.998849%2C%2030.5085%5D%2C%20%5B37.002166%2C%2031.508413%5D%2C%20%5B39.004886%2C%2032.010217%5D%2C%20%5B39.195468%2C%2032.161009%5D%2C%20%5B40.399994%2C%2031.889992%5D%2C%20%5B41.889981%2C%2031.190009%5D%2C%20%5B44.709499%2C%2029.178891%5D%2C%20%5B46.568713%2C%2029.099025%5D%2C%20%5B47.459822%2C%2029.002519%5D%2C%20%5B47.708851%2C%2028.526063%5D%2C%20%5B48.416094%2C%2028.552004%5D%2C%20%5B48.807595%2C%2027.689628%5D%2C%20%5B49.299554%2C%2027.461218%5D%2C%20%5B49.470914%2C%2027.109999%5D%2C%20%5B50.152422%2C%2026.689663%5D%2C%20%5B50.212935%2C%2026.277027%5D%2C%20%5B50.113303%2C%2025.943972%5D%2C%20%5B50.239859%2C%2025.60805%5D%2C%20%5B50.527387%2C%2025.327808%5D%2C%20%5B50.660557%2C%2024.999896%5D%2C%20%5B50.810108%2C%2024.754743%5D%2C%20%5B51.112415%2C%2024.556331%5D%2C%20%5B51.389608%2C%2024.627386%5D%2C%20%5B51.579519%2C%2024.245497%5D%2C%20%5B51.617708%2C%2024.014219%5D%2C%20%5B52.000733%2C%2023.001154%5D%2C%20%5B55.006803%2C%2022.496948%5D%2C%20%5B55.208341%2C%2022.70833%5D%2C%20%5B55.666659%2C%2022.000001%5D%2C%20%5B54.999982%2C%2019.999994%5D%2C%20%5B52.00001%2C%2019.000003%5D%2C%20%5B49.116672%2C%2018.616668%5D%2C%20%5B48.183344%2C%2018.166669%5D%2C%20%5B47.466695%2C%2017.116682%5D%2C%20%5B47.000005%2C%2016.949999%5D%2C%20%5B46.749994%2C%2017.283338%5D%2C%20%5B46.366659%2C%2017.233315%5D%2C%20%5B45.399999%2C%2017.333335%5D%2C%20%5B45.216651%2C%2017.433329%5D%2C%20%5B44.062613%2C%2017.410359%5D%2C%20%5B43.791519%2C%2017.319977%5D%2C%20%5B43.380794%2C%2017.579987%5D%2C%20%5B43.115798%2C%2017.08844%5D%2C%20%5B43.218375%2C%2016.66689%5D%2C%20%5B42.779332%2C%2016.347891%5D%5D%5D%2C%20%22type%22%3A%20%22Polygon%22%7D%2C%20%22id%22%3A%20%22SAU%22%2C%20%22properties%22%3A%20%7B%22name%22%3A%20%22Saudi%20Arabia%22%7D%2C%20%22type%22%3A%20%22Feature%22%7D%2C%20%7B%22geometry%22%3A%20%7B%22coordinates%22%3A%20%5B%5B%5B33.963393%2C%209.464285%5D%2C%20%5B33.824963%2C%209.484061%5D%2C%20%5B33.842131%2C%209.981915%5D%2C%20%5B33.721959%2C%2010.325262%5D%2C%20%5B33.206938%2C%2010.720112%5D%2C%20%5B33.086766%2C%2011.441141%5D%2C%20%5B33.206938%2C%2012.179338%5D%2C%20%5B32.743419%2C%2012.248008%5D%2C%20%5B32.67475%2C%2012.024832%5D%2C%20%5B32.073892%2C%2011.97333%5D%2C%20%5B32.314235%2C%2011.681484%5D%2C%20%5B32.400072%2C%2011.080626%5D%2C%20%5B31.850716%2C%2010.531271%5D%2C%20%5B31.352862%2C%209.810241%5D%2C%20%5B30.837841%2C%209.707237%5D%2C%20%5B29.996639%2C%2010.290927%5D%2C%20%5B29.618957%2C%2010.084919%5D%2C%20%5B29.515953%2C%209.793074%5D%2C%20%5B29.000932%2C%209.604232%5D%2C%20%5B28.966597%2C%209.398224%5D%2C%20%5B27.97089%2C%209.398224%5D%2C%20%5B27.833551%2C%209.604232%5D%2C%20%5B27.112521%2C%209.638567%5D%2C%20%5B26.752006%2C%209.466893%5D%2C%20%5B26.477328%2C%209.55273%5D%2C%20%5B25.962307%2C%2010.136421%5D%2C%20%5B25.790633%2C%2010.411099%5D%2C%20%5B25.069604%2C%2010.27376%5D%2C%20%5B24.794926%2C%209.810241%5D%2C%20%5B24.537415%2C%208.917538%5D%2C%20%5B24.194068%2C%208.728696%5D%2C%20%5B23.88698%2C%208.61973%5D%2C%20%5B23.805813%2C%208.666319%5D%2C%20%5B23.459013%2C%208.954286%5D%2C%20%5B23.394779%2C%209.265068%5D%2C%20%5B23.55725%2C%209.681218%5D%2C%20%5B23.554304%2C%2010.089255%5D%2C%20%5B22.977544%2C%2010.714463%5D%2C%20%5B22.864165%2C%2011.142395%5D%2C%20%5B22.87622%2C%2011.38461%5D%2C%20%5B22.50869%2C%2011.67936%5D%2C%20%5B22.49762%2C%2012.26024%5D%2C%20%5B22.28801%2C%2012.64605%5D%2C%20%5B21.93681%2C%2012.58818%5D%2C%20%5B22.03759%2C%2012.95546%5D%2C%20%5B22.29658%2C%2013.37232%5D%2C%20%5B22.18329%2C%2013.78648%5D%2C%20%5B22.51202%2C%2014.09318%5D%2C%20%5B22.30351%2C%2014.32682%5D%2C%20%5B22.56795%2C%2014.94429%5D%2C%20%5B23.02459%2C%2015.68072%5D%2C%20%5B23.88689%2C%2015.61084%5D%2C%20%5B23.83766%2C%2019.58047%5D%2C%20%5B23.85%2C%2020%5D%2C%20%5B25%2C%2020.00304%5D%2C%20%5B25%2C%2022%5D%2C%20%5B29.02%2C%2022%5D%2C%20%5B32.9%2C%2022%5D%2C%20%5B36.86623%2C%2022%5D%2C%20%5B37.18872%2C%2021.01885%5D%2C%20%5B36.96941%2C%2020.83744%5D%2C%20%5B37.1147%2C%2019.80796%5D%2C%20%5B37.48179%2C%2018.61409%5D%2C%20%5B37.86276%2C%2018.36786%5D%2C%20%5B38.41009%2C%2017.998307%5D%2C%20%5B37.904%2C%2017.42754%5D%2C%20%5B37.16747%2C%2017.26314%5D%2C%20%5B36.85253%2C%2016.95655%5D%2C%20%5B36.75389%2C%2016.29186%5D%2C%20%5B36.32322%2C%2014.82249%5D%2C%20%5B36.42951%2C%2014.42211%5D%2C%20%5B36.27022%2C%2013.56333%5D%2C%20%5B35.86363%2C%2012.57828%5D%2C%20%5B35.26049%2C%2012.08286%5D%2C%20%5B34.83163%2C%2011.31896%5D%2C%20%5B34.73115%2C%2010.91017%5D%2C%20%5B34.25745%2C%2010.63009%5D%2C%20%5B33.96162%2C%209.58358%5D%2C%20%5B33.963393%2C%209.464285%5D%5D%5D%2C%20%22type%22%3A%20%22Polygon%22%7D%2C%20%22id%22%3A%20%22SDN%22%2C%20%22properties%22%3A%20%7B%22name%22%3A%20%22Sudan%22%7D%2C%20%22type%22%3A%20%22Feature%22%7D%2C%20%7B%22geometry%22%3A%20%7B%22coordinates%22%3A%20%5B%5B%5B33.963393%2C%209.464285%5D%2C%20%5B33.97498%2C%208.68456%5D%2C%20%5B33.8255%2C%208.37916%5D%2C%20%5B33.2948%2C%208.35458%5D%2C%20%5B32.95418%2C%207.78497%5D%2C%20%5B33.56829%2C%207.71334%5D%2C%20%5B34.0751%2C%207.22595%5D%2C%20%5B34.25032%2C%206.82607%5D%2C%20%5B34.70702%2C%206.59422%5D%2C%20%5B35.298007%2C%205.506%5D%2C%20%5B34.620196%2C%204.847123%5D%2C%20%5B34.005%2C%204.249885%5D%2C%20%5B33.39%2C%203.79%5D%2C%20%5B32.68642%2C%203.79232%5D%2C%20%5B31.88145%2C%203.55827%5D%2C%20%5B31.24556%2C%203.7819%5D%2C%20%5B30.83385%2C%203.50917%5D%2C%20%5B29.95349%2C%204.1737%5D%2C%20%5B29.715995%2C%204.600805%5D%2C%20%5B29.159078%2C%204.389267%5D%2C%20%5B28.696678%2C%204.455077%5D%2C%20%5B28.428994%2C%204.287155%5D%2C%20%5B27.979977%2C%204.408413%5D%2C%20%5B27.374226%2C%205.233944%5D%2C%20%5B27.213409%2C%205.550953%5D%2C%20%5B26.465909%2C%205.946717%5D%2C%20%5B26.213418%2C%206.546603%5D%2C%20%5B25.796648%2C%206.979316%5D%2C%20%5B25.124131%2C%207.500085%5D%2C%20%5B25.114932%2C%207.825104%5D%2C%20%5B24.567369%2C%208.229188%5D%2C%20%5B23.88698%2C%208.61973%5D%2C%20%5B24.194068%2C%208.728696%5D%2C%20%5B24.537415%2C%208.917538%5D%2C%20%5B24.794926%2C%209.810241%5D%2C%20%5B25.069604%2C%2010.27376%5D%2C%20%5B25.790633%2C%2010.411099%5D%2C%20%5B25.962307%2C%2010.136421%5D%2C%20%5B26.477328%2C%209.55273%5D%2C%20%5B26.752006%2C%209.466893%5D%2C%20%5B27.112521%2C%209.638567%5D%2C%20%5B27.833551%2C%209.604232%5D%2C%20%5B27.97089%2C%209.398224%5D%2C%20%5B28.966597%2C%209.398224%5D%2C%20%5B29.000932%2C%209.604232%5D%2C%20%5B29.515953%2C%209.793074%5D%2C%20%5B29.618957%2C%2010.084919%5D%2C%20%5B29.996639%2C%2010.290927%5D%2C%20%5B30.837841%2C%209.707237%5D%2C%20%5B31.352862%2C%209.810241%5D%2C%20%5B31.850716%2C%2010.531271%5D%2C%20%5B32.400072%2C%2011.080626%5D%2C%20%5B32.314235%2C%2011.681484%5D%2C%20%5B32.073892%2C%2011.97333%5D%2C%20%5B32.67475%2C%2012.024832%5D%2C%20%5B32.743419%2C%2012.248008%5D%2C%20%5B33.206938%2C%2012.179338%5D%2C%20%5B33.086766%2C%2011.441141%5D%2C%20%5B33.206938%2C%2010.720112%5D%2C%20%5B33.721959%2C%2010.325262%5D%2C%20%5B33.842131%2C%209.981915%5D%2C%20%5B33.824963%2C%209.484061%5D%2C%20%5B33.963393%2C%209.464285%5D%5D%5D%2C%20%22type%22%3A%20%22Polygon%22%7D%2C%20%22id%22%3A%20%22SDS%22%2C%20%22properties%22%3A%20%7B%22name%22%3A%20%22South%20Sudan%22%7D%2C%20%22type%22%3A%20%22Feature%22%7D%2C%20%7B%22geometry%22%3A%20%7B%22coordinates%22%3A%20%5B%5B%5B-16.713729%2C%2013.594959%5D%2C%20%5B-17.126107%2C%2014.373516%5D%2C%20%5B-17.625043%2C%2014.729541%5D%2C%20%5B-17.185173%2C%2014.919477%5D%2C%20%5B-16.700706%2C%2015.621527%5D%2C%20%5B-16.463098%2C%2016.135036%5D%2C%20%5B-16.12069%2C%2016.455663%5D%2C%20%5B-15.623666%2C%2016.369337%5D%2C%20%5B-15.135737%2C%2016.587282%5D%2C%20%5B-14.577348%2C%2016.598264%5D%2C%20%5B-14.099521%2C%2016.304302%5D%2C%20%5B-13.435738%2C%2016.039383%5D%2C%20%5B-12.830658%2C%2015.303692%5D%2C%20%5B-12.17075%2C%2014.616834%5D%2C%20%5B-12.124887%2C%2013.994727%5D%2C%20%5B-11.927716%2C%2013.422075%5D%2C%20%5B-11.553398%2C%2013.141214%5D%2C%20%5B-11.467899%2C%2012.754519%5D%2C%20%5B-11.513943%2C%2012.442988%5D%2C%20%5B-11.658301%2C%2012.386583%5D%2C%20%5B-12.203565%2C%2012.465648%5D%2C%20%5B-12.278599%2C%2012.35444%5D%2C%20%5B-12.499051%2C%2012.33209%5D%2C%20%5B-13.217818%2C%2012.575874%5D%2C%20%5B-13.700476%2C%2012.586183%5D%2C%20%5B-15.548477%2C%2012.62817%5D%2C%20%5B-15.816574%2C%2012.515567%5D%2C%20%5B-16.147717%2C%2012.547762%5D%2C%20%5B-16.677452%2C%2012.384852%5D%2C%20%5B-16.841525%2C%2013.151394%5D%2C%20%5B-15.931296%2C%2013.130284%5D%2C%20%5B-15.691001%2C%2013.270353%5D%2C%20%5B-15.511813%2C%2013.27857%5D%2C%20%5B-15.141163%2C%2013.509512%5D%2C%20%5B-14.712197%2C%2013.298207%5D%2C%20%5B-14.277702%2C%2013.280585%5D%2C%20%5B-13.844963%2C%2013.505042%5D%2C%20%5B-14.046992%2C%2013.794068%5D%2C%20%5B-14.376714%2C%2013.62568%5D%2C%20%5B-14.687031%2C%2013.630357%5D%2C%20%5B-15.081735%2C%2013.876492%5D%2C%20%5B-15.39877%2C%2013.860369%5D%2C%20%5B-15.624596%2C%2013.623587%5D%2C%20%5B-16.713729%2C%2013.594959%5D%5D%5D%2C%20%22type%22%3A%20%22Polygon%22%7D%2C%20%22id%22%3A%20%22SEN%22%2C%20%22properties%22%3A%20%7B%22name%22%3A%20%22Senegal%22%7D%2C%20%22type%22%3A%20%22Feature%22%7D%2C%20%7B%22geometry%22%3A%20%7B%22coordinates%22%3A%20%5B%5B%5B%5B162.119025%2C%20-10.482719%5D%2C%20%5B162.398646%2C%20-10.826367%5D%2C%20%5B161.700032%2C%20-10.820011%5D%2C%20%5B161.319797%2C%20-10.204751%5D%2C%20%5B161.917383%2C%20-10.446701%5D%2C%20%5B162.119025%2C%20-10.482719%5D%5D%5D%2C%20%5B%5B%5B160.852229%2C%20-9.872937%5D%2C%20%5B160.462588%2C%20-9.89521%5D%2C%20%5B159.849447%2C%20-9.794027%5D%2C%20%5B159.640003%2C%20-9.63998%5D%2C%20%5B159.702945%2C%20-9.24295%5D%2C%20%5B160.362956%2C%20-9.400304%5D%2C%20%5B160.688518%2C%20-9.610162%5D%2C%20%5B160.852229%2C%20-9.872937%5D%5D%5D%2C%20%5B%5B%5B161.679982%2C%20-9.599982%5D%2C%20%5B161.529397%2C%20-9.784312%5D%2C%20%5B160.788253%2C%20-8.917543%5D%2C%20%5B160.579997%2C%20-8.320009%5D%2C%20%5B160.920028%2C%20-8.320009%5D%2C%20%5B161.280006%2C%20-9.120011%5D%2C%20%5B161.679982%2C%20-9.599982%5D%5D%5D%2C%20%5B%5B%5B159.875027%2C%20-8.33732%5D%2C%20%5B159.917402%2C%20-8.53829%5D%2C%20%5B159.133677%2C%20-8.114181%5D%2C%20%5B158.586114%2C%20-7.754824%5D%2C%20%5B158.21115%2C%20-7.421872%5D%2C%20%5B158.359978%2C%20-7.320018%5D%2C%20%5B158.820001%2C%20-7.560003%5D%2C%20%5B159.640003%2C%20-8.020027%5D%2C%20%5B159.875027%2C%20-8.33732%5D%5D%5D%2C%20%5B%5B%5B157.538426%2C%20-7.34782%5D%2C%20%5B157.33942%2C%20-7.404767%5D%2C%20%5B156.90203%2C%20-7.176874%5D%2C%20%5B156.491358%2C%20-6.765943%5D%2C%20%5B156.542828%2C%20-6.599338%5D%2C%20%5B157.14%2C%20-7.021638%5D%2C%20%5B157.538426%2C%20-7.34782%5D%5D%5D%5D%2C%20%22type%22%3A%20%22MultiPolygon%22%7D%2C%20%22id%22%3A%20%22SLB%22%2C%20%22properties%22%3A%20%7B%22name%22%3A%20%22Solomon%20Islands%22%7D%2C%20%22type%22%3A%20%22Feature%22%7D%2C%20%7B%22geometry%22%3A%20%7B%22coordinates%22%3A%20%5B%5B%5B-11.438779%2C%206.785917%5D%2C%20%5B-11.708195%2C%206.860098%5D%2C%20%5B-12.428099%2C%207.262942%5D%2C%20%5B-12.949049%2C%207.798646%5D%2C%20%5B-13.124025%2C%208.163946%5D%2C%20%5B-13.24655%2C%208.903049%5D%2C%20%5B-12.711958%2C%209.342712%5D%2C%20%5B-12.596719%2C%209.620188%5D%2C%20%5B-12.425929%2C%209.835834%5D%2C%20%5B-12.150338%2C%209.858572%5D%2C%20%5B-11.917277%2C%2010.046984%5D%2C%20%5B-11.117481%2C%2010.045873%5D%2C%20%5B-10.839152%2C%209.688246%5D%2C%20%5B-10.622395%2C%209.26791%5D%2C%20%5B-10.65477%2C%208.977178%5D%2C%20%5B-10.494315%2C%208.715541%5D%2C%20%5B-10.505477%2C%208.348896%5D%2C%20%5B-10.230094%2C%208.406206%5D%2C%20%5B-10.695595%2C%207.939464%5D%2C%20%5B-11.146704%2C%207.396706%5D%2C%20%5B-11.199802%2C%207.105846%5D%2C%20%5B-11.438779%2C%206.785917%5D%5D%5D%2C%20%22type%22%3A%20%22Polygon%22%7D%2C%20%22id%22%3A%20%22SLE%22%2C%20%22properties%22%3A%20%7B%22name%22%3A%20%22Sierra%20Leone%22%7D%2C%20%22type%22%3A%20%22Feature%22%7D%2C%20%7B%22geometry%22%3A%20%7B%22coordinates%22%3A%20%5B%5B%5B-87.793111%2C%2013.38448%5D%2C%20%5B-87.904112%2C%2013.149017%5D%2C%20%5B-88.483302%2C%2013.163951%5D%2C%20%5B-88.843228%2C%2013.259734%5D%2C%20%5B-89.256743%2C%2013.458533%5D%2C%20%5B-89.812394%2C%2013.520622%5D%2C%20%5B-90.095555%2C%2013.735338%5D%2C%20%5B-90.064678%2C%2013.88197%5D%2C%20%5B-89.721934%2C%2014.134228%5D%2C%20%5B-89.534219%2C%2014.244816%5D%2C%20%5B-89.587343%2C%2014.362586%5D%2C%20%5B-89.353326%2C%2014.424133%5D%2C%20%5B-89.058512%2C%2014.340029%5D%2C%20%5B-88.843073%2C%2014.140507%5D%2C%20%5B-88.541231%2C%2013.980155%5D%2C%20%5B-88.503998%2C%2013.845486%5D%2C%20%5B-88.065343%2C%2013.964626%5D%2C%20%5B-87.859515%2C%2013.893312%5D%2C%20%5B-87.723503%2C%2013.78505%5D%2C%20%5B-87.793111%2C%2013.38448%5D%5D%5D%2C%20%22type%22%3A%20%22Polygon%22%7D%2C%20%22id%22%3A%20%22SLV%22%2C%20%22properties%22%3A%20%7B%22name%22%3A%20%22El%20Salvador%22%7D%2C%20%22type%22%3A%20%22Feature%22%7D%2C%20%7B%22geometry%22%3A%20%7B%22coordinates%22%3A%20%5B%5B%5B48.93813%2C%209.451749%5D%2C%20%5B48.486736%2C%208.837626%5D%2C%20%5B47.78942%2C%208.003%5D%2C%20%5B46.948328%2C%207.996877%5D%2C%20%5B43.67875%2C%209.18358%5D%2C%20%5B43.296975%2C%209.540477%5D%2C%20%5B42.92812%2C%2010.02194%5D%2C%20%5B42.55876%2C%2010.57258%5D%2C%20%5B42.776852%2C%2010.926879%5D%2C%20%5B43.145305%2C%2011.46204%5D%2C%20%5B43.47066%2C%2011.27771%5D%2C%20%5B43.666668%2C%2010.864169%5D%2C%20%5B44.117804%2C%2010.445538%5D%2C%20%5B44.614259%2C%2010.442205%5D%2C%20%5B45.556941%2C%2010.698029%5D%2C%20%5B46.645401%2C%2010.816549%5D%2C%20%5B47.525658%2C%2011.127228%5D%2C%20%5B48.021596%2C%2011.193064%5D%2C%20%5B48.378784%2C%2011.375482%5D%2C%20%5B48.948206%2C%2011.410622%5D%2C%20%5B48.942005%2C%2011.394266%5D%2C%20%5B48.938491%2C%2010.982327%5D%2C%20%5B48.938233%2C%209.9735%5D%2C%20%5B48.93813%2C%209.451749%5D%5D%5D%2C%20%22type%22%3A%20%22Polygon%22%7D%2C%20%22id%22%3A%20%22-99%22%2C%20%22properties%22%3A%20%7B%22name%22%3A%20%22Somaliland%22%7D%2C%20%22type%22%3A%20%22Feature%22%7D%2C%20%7B%22geometry%22%3A%20%7B%22coordinates%22%3A%20%5B%5B%5B49.72862%2C%2011.5789%5D%2C%20%5B50.25878%2C%2011.67957%5D%2C%20%5B50.73202%2C%2012.0219%5D%2C%20%5B51.1112%2C%2012.02464%5D%2C%20%5B51.13387%2C%2011.74815%5D%2C%20%5B51.04153%2C%2011.16651%5D%2C%20%5B51.04531%2C%2010.6409%5D%2C%20%5B50.83418%2C%2010.27972%5D%2C%20%5B50.55239%2C%209.19874%5D%2C%20%5B50.07092%2C%208.08173%5D%2C%20%5B49.4527%2C%206.80466%5D%2C%20%5B48.59455%2C%205.33911%5D%2C%20%5B47.74079%2C%204.2194%5D%2C%20%5B46.56476%2C%202.85529%5D%2C%20%5B45.56399%2C%202.04576%5D%2C%20%5B44.06815%2C%201.05283%5D%2C%20%5B43.13597%2C%200.2922%5D%2C%20%5B42.04157%2C%20-0.91916%5D%2C%20%5B41.81095%2C%20-1.44647%5D%2C%20%5B41.58513%2C%20-1.68325%5D%2C%20%5B40.993%2C%20-0.85829%5D%2C%20%5B40.98105%2C%202.78452%5D%2C%20%5B41.855083%2C%203.918912%5D%2C%20%5B42.12861%2C%204.23413%5D%2C%20%5B42.76967%2C%204.25259%5D%2C%20%5B43.66087%2C%204.95755%5D%2C%20%5B44.9636%2C%205.00162%5D%2C%20%5B47.78942%2C%208.003%5D%2C%20%5B48.486736%2C%208.837626%5D%2C%20%5B48.93813%2C%209.451749%5D%2C%20%5B48.938233%2C%209.9735%5D%2C%20%5B48.938491%2C%2010.982327%5D%2C%20%5B48.942005%2C%2011.394266%5D%2C%20%5B48.948205%2C%2011.410617%5D%2C%20%5B49.26776%2C%2011.43033%5D%2C%20%5B49.72862%2C%2011.5789%5D%5D%5D%2C%20%22type%22%3A%20%22Polygon%22%7D%2C%20%22id%22%3A%20%22SOM%22%2C%20%22properties%22%3A%20%7B%22name%22%3A%20%22Somalia%22%7D%2C%20%22type%22%3A%20%22Feature%22%7D%2C%20%7B%22geometry%22%3A%20%7B%22coordinates%22%3A%20%5B%5B%5B20.874313%2C%2045.416375%5D%2C%20%5B21.483526%2C%2045.18117%5D%2C%20%5B21.562023%2C%2044.768947%5D%2C%20%5B22.145088%2C%2044.478422%5D%2C%20%5B22.459022%2C%2044.702517%5D%2C%20%5B22.705726%2C%2044.578003%5D%2C%20%5B22.474008%2C%2044.409228%5D%2C%20%5B22.65715%2C%2044.234923%5D%2C%20%5B22.410446%2C%2044.008063%5D%2C%20%5B22.500157%2C%2043.642814%5D%2C%20%5B22.986019%2C%2043.211161%5D%2C%20%5B22.604801%2C%2042.898519%5D%2C%20%5B22.436595%2C%2042.580321%5D%2C%20%5B22.545012%2C%2042.461362%5D%2C%20%5B22.380526%2C%2042.32026%5D%2C%20%5B21.91708%2C%2042.30364%5D%2C%20%5B21.576636%2C%2042.245224%5D%2C%20%5B21.54332%2C%2042.32025%5D%2C%20%5B21.66292%2C%2042.43922%5D%2C%20%5B21.77505%2C%2042.6827%5D%2C%20%5B21.63302%2C%2042.67717%5D%2C%20%5B21.43866%2C%2042.86255%5D%2C%20%5B21.27421%2C%2042.90959%5D%2C%20%5B21.143395%2C%2043.068685%5D%2C%20%5B20.95651%2C%2043.13094%5D%2C%20%5B20.81448%2C%2043.27205%5D%2C%20%5B20.63508%2C%2043.21671%5D%2C%20%5B20.49679%2C%2042.88469%5D%2C%20%5B20.25758%2C%2042.81275%5D%2C%20%5B20.3398%2C%2042.89852%5D%2C%20%5B19.95857%2C%2043.10604%5D%2C%20%5B19.63%2C%2043.21378%5D%2C%20%5B19.48389%2C%2043.35229%5D%2C%20%5B19.21852%2C%2043.52384%5D%2C%20%5B19.454%2C%2043.5681%5D%2C%20%5B19.59976%2C%2044.03847%5D%2C%20%5B19.11761%2C%2044.42307%5D%2C%20%5B19.36803%2C%2044.863%5D%2C%20%5B19.00548%2C%2044.86023%5D%2C%20%5B19.390476%2C%2045.236516%5D%2C%20%5B19.072769%2C%2045.521511%5D%2C%20%5B18.82982%2C%2045.90888%5D%2C%20%5B19.596045%2C%2046.17173%5D%2C%20%5B20.220192%2C%2046.127469%5D%2C%20%5B20.762175%2C%2045.734573%5D%2C%20%5B20.874313%2C%2045.416375%5D%5D%5D%2C%20%22type%22%3A%20%22Polygon%22%7D%2C%20%22id%22%3A%20%22SRB%22%2C%20%22properties%22%3A%20%7B%22name%22%3A%20%22Republic%20of%20Serbia%22%7D%2C%20%22type%22%3A%20%22Feature%22%7D%2C%20%7B%22geometry%22%3A%20%7B%22coordinates%22%3A%20%5B%5B%5B-57.147436%2C%205.97315%5D%2C%20%5B-55.949318%2C%205.772878%5D%2C%20%5B-55.84178%2C%205.953125%5D%2C%20%5B-55.03325%2C%206.025291%5D%2C%20%5B-53.958045%2C%205.756548%5D%2C%20%5B-54.478633%2C%204.896756%5D%2C%20%5B-54.399542%2C%204.212611%5D%2C%20%5B-54.006931%2C%203.620038%5D%2C%20%5B-54.181726%2C%203.18978%5D%2C%20%5B-54.269705%2C%202.732392%5D%2C%20%5B-54.524754%2C%202.311849%5D%2C%20%5B-55.097587%2C%202.523748%5D%2C%20%5B-55.569755%2C%202.421506%5D%2C%20%5B-55.973322%2C%202.510364%5D%2C%20%5B-56.073342%2C%202.220795%5D%2C%20%5B-55.9056%2C%202.021996%5D%2C%20%5B-55.995698%2C%201.817667%5D%2C%20%5B-56.539386%2C%201.899523%5D%2C%20%5B-57.150098%2C%202.768927%5D%2C%20%5B-57.281433%2C%203.333492%5D%2C%20%5B-57.601569%2C%203.334655%5D%2C%20%5B-58.044694%2C%204.060864%5D%2C%20%5B-57.86021%2C%204.576801%5D%2C%20%5B-57.914289%2C%204.812626%5D%2C%20%5B-57.307246%2C%205.073567%5D%2C%20%5B-57.147436%2C%205.97315%5D%5D%5D%2C%20%22type%22%3A%20%22Polygon%22%7D%2C%20%22id%22%3A%20%22SUR%22%2C%20%22properties%22%3A%20%7B%22name%22%3A%20%22Suriname%22%7D%2C%20%22type%22%3A%20%22Feature%22%7D%2C%20%7B%22geometry%22%3A%20%7B%22coordinates%22%3A%20%5B%5B%5B18.853144%2C%2049.49623%5D%2C%20%5B18.909575%2C%2049.435846%5D%2C%20%5B19.320713%2C%2049.571574%5D%2C%20%5B19.825023%2C%2049.217125%5D%2C%20%5B20.415839%2C%2049.431453%5D%2C%20%5B20.887955%2C%2049.328772%5D%2C%20%5B21.607808%2C%2049.470107%5D%2C%20%5B22.558138%2C%2049.085738%5D%2C%20%5B22.280842%2C%2048.825392%5D%2C%20%5B22.085608%2C%2048.422264%5D%2C%20%5B21.872236%2C%2048.319971%5D%2C%20%5B20.801294%2C%2048.623854%5D%2C%20%5B20.473562%2C%2048.56285%5D%2C%20%5B20.239054%2C%2048.327567%5D%2C%20%5B19.769471%2C%2048.202691%5D%2C%20%5B19.661364%2C%2048.266615%5D%2C%20%5B19.174365%2C%2048.111379%5D%2C%20%5B18.777025%2C%2048.081768%5D%2C%20%5B18.696513%2C%2047.880954%5D%2C%20%5B17.857133%2C%2047.758429%5D%2C%20%5B17.488473%2C%2047.867466%5D%2C%20%5B16.979667%2C%2048.123497%5D%2C%20%5B16.879983%2C%2048.470013%5D%2C%20%5B16.960288%2C%2048.596982%5D%2C%20%5B17.101985%2C%2048.816969%5D%2C%20%5B17.545007%2C%2048.800019%5D%2C%20%5B17.886485%2C%2048.903475%5D%2C%20%5B17.913512%2C%2048.996493%5D%2C%20%5B18.104973%2C%2049.043983%5D%2C%20%5B18.170498%2C%2049.271515%5D%2C%20%5B18.399994%2C%2049.315001%5D%2C%20%5B18.554971%2C%2049.495015%5D%2C%20%5B18.853144%2C%2049.49623%5D%5D%5D%2C%20%22type%22%3A%20%22Polygon%22%7D%2C%20%22id%22%3A%20%22SVK%22%2C%20%22properties%22%3A%20%7B%22name%22%3A%20%22Slovakia%22%7D%2C%20%22type%22%3A%20%22Feature%22%7D%2C%20%7B%22geometry%22%3A%20%7B%22coordinates%22%3A%20%5B%5B%5B13.806475%2C%2046.509306%5D%2C%20%5B14.632472%2C%2046.431817%5D%2C%20%5B15.137092%2C%2046.658703%5D%2C%20%5B16.011664%2C%2046.683611%5D%2C%20%5B16.202298%2C%2046.852386%5D%2C%20%5B16.370505%2C%2046.841327%5D%2C%20%5B16.564808%2C%2046.503751%5D%2C%20%5B15.768733%2C%2046.238108%5D%2C%20%5B15.67153%2C%2045.834154%5D%2C%20%5B15.323954%2C%2045.731783%5D%2C%20%5B15.327675%2C%2045.452316%5D%2C%20%5B14.935244%2C%2045.471695%5D%2C%20%5B14.595109%2C%2045.634941%5D%2C%20%5B14.411968%2C%2045.466166%5D%2C%20%5B13.71506%2C%2045.500324%5D%2C%20%5B13.93763%2C%2045.591016%5D%2C%20%5B13.69811%2C%2046.016778%5D%2C%20%5B13.806475%2C%2046.509306%5D%5D%5D%2C%20%22type%22%3A%20%22Polygon%22%7D%2C%20%22id%22%3A%20%22SVN%22%2C%20%22properties%22%3A%20%7B%22name%22%3A%20%22Slovenia%22%7D%2C%20%22type%22%3A%20%22Feature%22%7D%2C%20%7B%22geometry%22%3A%20%7B%22coordinates%22%3A%20%5B%5B%5B22.183173%2C%2065.723741%5D%2C%20%5B21.213517%2C%2065.026005%5D%2C%20%5B21.369631%2C%2064.413588%5D%2C%20%5B19.778876%2C%2063.609554%5D%2C%20%5B17.847779%2C%2062.7494%5D%2C%20%5B17.119555%2C%2061.341166%5D%2C%20%5B17.831346%2C%2060.636583%5D%2C%20%5B18.787722%2C%2060.081914%5D%2C%20%5B17.869225%2C%2058.953766%5D%2C%20%5B16.829185%2C%2058.719827%5D%2C%20%5B16.44771%2C%2057.041118%5D%2C%20%5B15.879786%2C%2056.104302%5D%2C%20%5B14.666681%2C%2056.200885%5D%2C%20%5B14.100721%2C%2055.407781%5D%2C%20%5B12.942911%2C%2055.361737%5D%2C%20%5B12.625101%2C%2056.30708%5D%2C%20%5B11.787942%2C%2057.441817%5D%2C%20%5B11.027369%2C%2058.856149%5D%2C%20%5B11.468272%2C%2059.432393%5D%2C%20%5B12.300366%2C%2060.117933%5D%2C%20%5B12.631147%2C%2061.293572%5D%2C%20%5B11.992064%2C%2061.800362%5D%2C%20%5B11.930569%2C%2063.128318%5D%2C%20%5B12.579935%2C%2064.066219%5D%2C%20%5B13.571916%2C%2064.049114%5D%2C%20%5B13.919905%2C%2064.445421%5D%2C%20%5B13.55569%2C%2064.787028%5D%2C%20%5B15.108411%2C%2066.193867%5D%2C%20%5B16.108712%2C%2067.302456%5D%2C%20%5B16.768879%2C%2068.013937%5D%2C%20%5B17.729182%2C%2068.010552%5D%2C%20%5B17.993868%2C%2068.567391%5D%2C%20%5B19.87856%2C%2068.407194%5D%2C%20%5B20.025269%2C%2069.065139%5D%2C%20%5B20.645593%2C%2069.106247%5D%2C%20%5B21.978535%2C%2068.616846%5D%2C%20%5B23.539473%2C%2067.936009%5D%2C%20%5B23.56588%2C%2066.396051%5D%2C%20%5B23.903379%2C%2066.006927%5D%2C%20%5B22.183173%2C%2065.723741%5D%5D%5D%2C%20%22type%22%3A%20%22Polygon%22%7D%2C%20%22id%22%3A%20%22SWE%22%2C%20%22properties%22%3A%20%7B%22name%22%3A%20%22Sweden%22%7D%2C%20%22type%22%3A%20%22Feature%22%7D%2C%20%7B%22geometry%22%3A%20%7B%22coordinates%22%3A%20%5B%5B%5B32.071665%2C%20-26.73382%5D%2C%20%5B31.86806%2C%20-27.177927%5D%2C%20%5B31.282773%2C%20-27.285879%5D%2C%20%5B30.685962%2C%20-26.743845%5D%2C%20%5B30.676609%2C%20-26.398078%5D%2C%20%5B30.949667%2C%20-26.022649%5D%2C%20%5B31.04408%2C%20-25.731452%5D%2C%20%5B31.333158%2C%20-25.660191%5D%2C%20%5B31.837778%2C%20-25.843332%5D%2C%20%5B31.985779%2C%20-26.29178%5D%2C%20%5B32.071665%2C%20-26.73382%5D%5D%5D%2C%20%22type%22%3A%20%22Polygon%22%7D%2C%20%22id%22%3A%20%22SWZ%22%2C%20%22properties%22%3A%20%7B%22name%22%3A%20%22Swaziland%22%7D%2C%20%22type%22%3A%20%22Feature%22%7D%2C%20%7B%22geometry%22%3A%20%7B%22coordinates%22%3A%20%5B%5B%5B38.792341%2C%2033.378686%5D%2C%20%5B36.834062%2C%2032.312938%5D%2C%20%5B35.719918%2C%2032.709192%5D%2C%20%5B35.700798%2C%2032.716014%5D%2C%20%5B35.836397%2C%2032.868123%5D%2C%20%5B35.821101%2C%2033.277426%5D%2C%20%5B36.06646%2C%2033.824912%5D%2C%20%5B36.61175%2C%2034.201789%5D%2C%20%5B36.448194%2C%2034.593935%5D%2C%20%5B35.998403%2C%2034.644914%5D%2C%20%5B35.905023%2C%2035.410009%5D%2C%20%5B36.149763%2C%2035.821535%5D%2C%20%5B36.41755%2C%2036.040617%5D%2C%20%5B36.685389%2C%2036.259699%5D%2C%20%5B36.739494%2C%2036.81752%5D%2C%20%5B37.066761%2C%2036.623036%5D%2C%20%5B38.167727%2C%2036.90121%5D%2C%20%5B38.699891%2C%2036.712927%5D%2C%20%5B39.52258%2C%2036.716054%5D%2C%20%5B40.673259%2C%2037.091276%5D%2C%20%5B41.212089%2C%2037.074352%5D%2C%20%5B42.349591%2C%2037.229873%5D%2C%20%5B41.837064%2C%2036.605854%5D%2C%20%5B41.289707%2C%2036.358815%5D%2C%20%5B41.383965%2C%2035.628317%5D%2C%20%5B41.006159%2C%2034.419372%5D%2C%20%5B38.792341%2C%2033.378686%5D%5D%5D%2C%20%22type%22%3A%20%22Polygon%22%7D%2C%20%22id%22%3A%20%22SYR%22%2C%20%22properties%22%3A%20%7B%22name%22%3A%20%22Syria%22%7D%2C%20%22type%22%3A%20%22Feature%22%7D%2C%20%7B%22geometry%22%3A%20%7B%22coordinates%22%3A%20%5B%5B%5B14.495787%2C%2012.859396%5D%2C%20%5B14.595781%2C%2013.330427%5D%2C%20%5B13.954477%2C%2013.353449%5D%2C%20%5B13.956699%2C%2013.996691%5D%2C%20%5B13.540394%2C%2014.367134%5D%2C%20%5B13.97217%2C%2015.68437%5D%2C%20%5B15.247731%2C%2016.627306%5D%2C%20%5B15.300441%2C%2017.92795%5D%2C%20%5B15.685741%2C%2019.95718%5D%2C%20%5B15.903247%2C%2020.387619%5D%2C%20%5B15.487148%2C%2020.730415%5D%2C%20%5B15.47106%2C%2021.04845%5D%2C%20%5B15.096888%2C%2021.308519%5D%2C%20%5B14.8513%2C%2022.86295%5D%2C%20%5B15.86085%2C%2023.40972%5D%2C%20%5B19.84926%2C%2021.49509%5D%2C%20%5B23.83766%2C%2019.58047%5D%2C%20%5B23.88689%2C%2015.61084%5D%2C%20%5B23.02459%2C%2015.68072%5D%2C%20%5B22.56795%2C%2014.94429%5D%2C%20%5B22.30351%2C%2014.32682%5D%2C%20%5B22.51202%2C%2014.09318%5D%2C%20%5B22.18329%2C%2013.78648%5D%2C%20%5B22.29658%2C%2013.37232%5D%2C%20%5B22.03759%2C%2012.95546%5D%2C%20%5B21.93681%2C%2012.58818%5D%2C%20%5B22.28801%2C%2012.64605%5D%2C%20%5B22.49762%2C%2012.26024%5D%2C%20%5B22.50869%2C%2011.67936%5D%2C%20%5B22.87622%2C%2011.38461%5D%2C%20%5B22.864165%2C%2011.142395%5D%2C%20%5B22.231129%2C%2010.971889%5D%2C%20%5B21.723822%2C%2010.567056%5D%2C%20%5B21.000868%2C%209.475985%5D%2C%20%5B20.059685%2C%209.012706%5D%2C%20%5B19.094008%2C%209.074847%5D%2C%20%5B18.81201%2C%208.982915%5D%2C%20%5B18.911022%2C%208.630895%5D%2C%20%5B18.389555%2C%208.281304%5D%2C%20%5B17.96493%2C%207.890914%5D%2C%20%5B16.705988%2C%207.508328%5D%2C%20%5B16.456185%2C%207.734774%5D%2C%20%5B16.290562%2C%207.754307%5D%2C%20%5B16.106232%2C%207.497088%5D%2C%20%5B15.27946%2C%207.421925%5D%2C%20%5B15.436092%2C%207.692812%5D%2C%20%5B15.120866%2C%208.38215%5D%2C%20%5B14.979996%2C%208.796104%5D%2C%20%5B14.544467%2C%208.965861%5D%2C%20%5B13.954218%2C%209.549495%5D%2C%20%5B14.171466%2C%2010.021378%5D%2C%20%5B14.627201%2C%209.920919%5D%2C%20%5B14.909354%2C%209.992129%5D%2C%20%5B15.467873%2C%209.982337%5D%2C%20%5B14.923565%2C%2010.891325%5D%2C%20%5B14.960152%2C%2011.555574%5D%2C%20%5B14.89336%2C%2012.21905%5D%2C%20%5B14.495787%2C%2012.859396%5D%5D%5D%2C%20%22type%22%3A%20%22Polygon%22%7D%2C%20%22id%22%3A%20%22TCD%22%2C%20%22properties%22%3A%20%7B%22name%22%3A%20%22Chad%22%7D%2C%20%22type%22%3A%20%22Feature%22%7D%2C%20%7B%22geometry%22%3A%20%7B%22coordinates%22%3A%20%5B%5B%5B1.865241%2C%206.142158%5D%2C%20%5B1.060122%2C%205.928837%5D%2C%20%5B0.836931%2C%206.279979%5D%2C%20%5B0.570384%2C%206.914359%5D%2C%20%5B0.490957%2C%207.411744%5D%2C%20%5B0.712029%2C%208.312465%5D%2C%20%5B0.461192%2C%208.677223%5D%2C%20%5B0.365901%2C%209.465004%5D%2C%20%5B0.36758%2C%2010.191213%5D%2C%20%5B-0.049785%2C%2010.706918%5D%2C%20%5B0.023803%2C%2011.018682%5D%2C%20%5B0.899563%2C%2010.997339%5D%2C%20%5B0.772336%2C%2010.470808%5D%2C%20%5B1.077795%2C%2010.175607%5D%2C%20%5B1.425061%2C%209.825395%5D%2C%20%5B1.463043%2C%209.334624%5D%2C%20%5B1.664478%2C%209.12859%5D%2C%20%5B1.618951%2C%206.832038%5D%2C%20%5B1.865241%2C%206.142158%5D%5D%5D%2C%20%22type%22%3A%20%22Polygon%22%7D%2C%20%22id%22%3A%20%22TGO%22%2C%20%22properties%22%3A%20%7B%22name%22%3A%20%22Togo%22%7D%2C%20%22type%22%3A%20%22Feature%22%7D%2C%20%7B%22geometry%22%3A%20%7B%22coordinates%22%3A%20%5B%5B%5B102.584932%2C%2012.186595%5D%2C%20%5B101.687158%2C%2012.64574%5D%2C%20%5B100.83181%2C%2012.627085%5D%2C%20%5B100.978467%2C%2013.412722%5D%2C%20%5B100.097797%2C%2013.406856%5D%2C%20%5B100.018733%2C%2012.307001%5D%2C%20%5B99.478921%2C%2010.846367%5D%2C%20%5B99.153772%2C%209.963061%5D%2C%20%5B99.222399%2C%209.239255%5D%2C%20%5B99.873832%2C%209.207862%5D%2C%20%5B100.279647%2C%208.295153%5D%2C%20%5B100.459274%2C%207.429573%5D%2C%20%5B101.017328%2C%206.856869%5D%2C%20%5B101.623079%2C%206.740622%5D%2C%20%5B102.141187%2C%206.221636%5D%2C%20%5B101.814282%2C%205.810808%5D%2C%20%5B101.154219%2C%205.691384%5D%2C%20%5B101.075516%2C%206.204867%5D%2C%20%5B100.259596%2C%206.642825%5D%2C%20%5B100.085757%2C%206.464489%5D%2C%20%5B99.690691%2C%206.848213%5D%2C%20%5B99.519642%2C%207.343454%5D%2C%20%5B98.988253%2C%207.907993%5D%2C%20%5B98.503786%2C%208.382305%5D%2C%20%5B98.339662%2C%207.794512%5D%2C%20%5B98.150009%2C%208.350007%5D%2C%20%5B98.25915%2C%208.973923%5D%2C%20%5B98.553551%2C%209.93296%5D%2C%20%5B99.038121%2C%2010.960546%5D%2C%20%5B99.587286%2C%2011.892763%5D%2C%20%5B99.196354%2C%2012.804748%5D%2C%20%5B99.212012%2C%2013.269294%5D%2C%20%5B99.097755%2C%2013.827503%5D%2C%20%5B98.430819%2C%2014.622028%5D%2C%20%5B98.192074%2C%2015.123703%5D%2C%20%5B98.537376%2C%2015.308497%5D%2C%20%5B98.903348%2C%2016.177824%5D%2C%20%5B98.493761%2C%2016.837836%5D%2C%20%5B97.859123%2C%2017.567946%5D%2C%20%5B97.375896%2C%2018.445438%5D%2C%20%5B97.797783%2C%2018.62708%5D%2C%20%5B98.253724%2C%2019.708203%5D%2C%20%5B98.959676%2C%2019.752981%5D%2C%20%5B99.543309%2C%2020.186598%5D%2C%20%5B100.115988%2C%2020.41785%5D%2C%20%5B100.548881%2C%2020.109238%5D%2C%20%5B100.606294%2C%2019.508344%5D%2C%20%5B101.282015%2C%2019.462585%5D%2C%20%5B101.035931%2C%2018.408928%5D%2C%20%5B101.059548%2C%2017.512497%5D%2C%20%5B102.113592%2C%2018.109102%5D%2C%20%5B102.413005%2C%2017.932782%5D%2C%20%5B102.998706%2C%2017.961695%5D%2C%20%5B103.200192%2C%2018.309632%5D%2C%20%5B103.956477%2C%2018.240954%5D%2C%20%5B104.716947%2C%2017.428859%5D%2C%20%5B104.779321%2C%2016.441865%5D%2C%20%5B105.589039%2C%2015.570316%5D%2C%20%5B105.544338%2C%2014.723934%5D%2C%20%5B105.218777%2C%2014.273212%5D%2C%20%5B104.281418%2C%2014.416743%5D%2C%20%5B102.988422%2C%2014.225721%5D%2C%20%5B102.348099%2C%2013.394247%5D%2C%20%5B102.584932%2C%2012.186595%5D%5D%5D%2C%20%22type%22%3A%20%22Polygon%22%7D%2C%20%22id%22%3A%20%22THA%22%2C%20%22properties%22%3A%20%7B%22name%22%3A%20%22Thailand%22%7D%2C%20%22type%22%3A%20%22Feature%22%7D%2C%20%7B%22geometry%22%3A%20%7B%22coordinates%22%3A%20%5B%5B%5B71.014198%2C%2040.244366%5D%2C%20%5B70.648019%2C%2039.935754%5D%2C%20%5B69.55961%2C%2040.103211%5D%2C%20%5B69.464887%2C%2039.526683%5D%2C%20%5B70.549162%2C%2039.604198%5D%2C%20%5B71.784694%2C%2039.279463%5D%2C%20%5B73.675379%2C%2039.431237%5D%2C%20%5B73.928852%2C%2038.505815%5D%2C%20%5B74.257514%2C%2038.606507%5D%2C%20%5B74.864816%2C%2038.378846%5D%2C%20%5B74.829986%2C%2037.990007%5D%2C%20%5B74.980002%2C%2037.41999%5D%2C%20%5B73.948696%2C%2037.421566%5D%2C%20%5B73.260056%2C%2037.495257%5D%2C%20%5B72.63689%2C%2037.047558%5D%2C%20%5B72.193041%2C%2036.948288%5D%2C%20%5B71.844638%2C%2036.738171%5D%2C%20%5B71.448693%2C%2037.065645%5D%2C%20%5B71.541918%2C%2037.905774%5D%2C%20%5B71.239404%2C%2037.953265%5D%2C%20%5B71.348131%2C%2038.258905%5D%2C%20%5B70.806821%2C%2038.486282%5D%2C%20%5B70.376304%2C%2038.138396%5D%2C%20%5B70.270574%2C%2037.735165%5D%2C%20%5B70.116578%2C%2037.588223%5D%2C%20%5B69.518785%2C%2037.608997%5D%2C%20%5B69.196273%2C%2037.151144%5D%2C%20%5B68.859446%2C%2037.344336%5D%2C%20%5B68.135562%2C%2037.023115%5D%2C%20%5B67.83%2C%2037.144994%5D%2C%20%5B68.392033%2C%2038.157025%5D%2C%20%5B68.176025%2C%2038.901553%5D%2C%20%5B67.44222%2C%2039.140144%5D%2C%20%5B67.701429%2C%2039.580478%5D%2C%20%5B68.536416%2C%2039.533453%5D%2C%20%5B69.011633%2C%2040.086158%5D%2C%20%5B69.329495%2C%2040.727824%5D%2C%20%5B70.666622%2C%2040.960213%5D%2C%20%5B70.45816%2C%2040.496495%5D%2C%20%5B70.601407%2C%2040.218527%5D%2C%20%5B71.014198%2C%2040.244366%5D%5D%5D%2C%20%22type%22%3A%20%22Polygon%22%7D%2C%20%22id%22%3A%20%22TJK%22%2C%20%22properties%22%3A%20%7B%22name%22%3A%20%22Tajikistan%22%7D%2C%20%22type%22%3A%20%22Feature%22%7D%2C%20%7B%22geometry%22%3A%20%7B%22coordinates%22%3A%20%5B%5B%5B61.210817%2C%2035.650072%5D%2C%20%5B61.123071%2C%2036.491597%5D%2C%20%5B60.377638%2C%2036.527383%5D%2C%20%5B59.234762%2C%2037.412988%5D%2C%20%5B58.436154%2C%2037.522309%5D%2C%20%5B57.330434%2C%2038.029229%5D%2C%20%5B56.619366%2C%2038.121394%5D%2C%20%5B56.180375%2C%2037.935127%5D%2C%20%5B55.511578%2C%2037.964117%5D%2C%20%5B54.800304%2C%2037.392421%5D%2C%20%5B53.921598%2C%2037.198918%5D%2C%20%5B53.735511%2C%2037.906136%5D%2C%20%5B53.880929%2C%2038.952093%5D%2C%20%5B53.101028%2C%2039.290574%5D%2C%20%5B53.357808%2C%2039.975286%5D%2C%20%5B52.693973%2C%2040.033629%5D%2C%20%5B52.915251%2C%2040.876523%5D%2C%20%5B53.858139%2C%2040.631034%5D%2C%20%5B54.736845%2C%2040.951015%5D%2C%20%5B54.008311%2C%2041.551211%5D%2C%20%5B53.721713%2C%2042.123191%5D%2C%20%5B52.91675%2C%2041.868117%5D%2C%20%5B52.814689%2C%2041.135371%5D%2C%20%5B52.50246%2C%2041.783316%5D%2C%20%5B52.944293%2C%2042.116034%5D%2C%20%5B54.079418%2C%2042.324109%5D%2C%20%5B54.755345%2C%2042.043971%5D%2C%20%5B55.455251%2C%2041.259859%5D%2C%20%5B55.968191%2C%2041.308642%5D%2C%20%5B57.096391%2C%2041.32231%5D%2C%20%5B56.932215%2C%2041.826026%5D%2C%20%5B57.78653%2C%2042.170553%5D%2C%20%5B58.629011%2C%2042.751551%5D%2C%20%5B59.976422%2C%2042.223082%5D%2C%20%5B60.083341%2C%2041.425146%5D%2C%20%5B60.465953%2C%2041.220327%5D%2C%20%5B61.547179%2C%2041.26637%5D%2C%20%5B61.882714%2C%2041.084857%5D%2C%20%5B62.37426%2C%2040.053886%5D%2C%20%5B63.518015%2C%2039.363257%5D%2C%20%5B64.170223%2C%2038.892407%5D%2C%20%5B65.215999%2C%2038.402695%5D%2C%20%5B66.54615%2C%2037.974685%5D%2C%20%5B66.518607%2C%2037.362784%5D%2C%20%5B66.217385%2C%2037.39379%5D%2C%20%5B65.745631%2C%2037.661164%5D%2C%20%5B65.588948%2C%2037.305217%5D%2C%20%5B64.746105%2C%2037.111818%5D%2C%20%5B64.546479%2C%2036.312073%5D%2C%20%5B63.982896%2C%2036.007957%5D%2C%20%5B63.193538%2C%2035.857166%5D%2C%20%5B62.984662%2C%2035.404041%5D%2C%20%5B62.230651%2C%2035.270664%5D%2C%20%5B61.210817%2C%2035.650072%5D%5D%5D%2C%20%22type%22%3A%20%22Polygon%22%7D%2C%20%22id%22%3A%20%22TKM%22%2C%20%22properties%22%3A%20%7B%22name%22%3A%20%22Turkmenistan%22%7D%2C%20%22type%22%3A%20%22Feature%22%7D%2C%20%7B%22geometry%22%3A%20%7B%22coordinates%22%3A%20%5B%5B%5B124.968682%2C%20-8.89279%5D%2C%20%5B125.086246%2C%20-8.656887%5D%2C%20%5B125.947072%2C%20-8.432095%5D%2C%20%5B126.644704%2C%20-8.398247%5D%2C%20%5B126.957243%2C%20-8.273345%5D%2C%20%5B127.335928%2C%20-8.397317%5D%2C%20%5B126.967992%2C%20-8.668256%5D%2C%20%5B125.925885%2C%20-9.106007%5D%2C%20%5B125.08852%2C%20-9.393173%5D%2C%20%5B125.07002%2C%20-9.089987%5D%2C%20%5B124.968682%2C%20-8.89279%5D%5D%5D%2C%20%22type%22%3A%20%22Polygon%22%7D%2C%20%22id%22%3A%20%22TLS%22%2C%20%22properties%22%3A%20%7B%22name%22%3A%20%22East%20Timor%22%7D%2C%20%22type%22%3A%20%22Feature%22%7D%2C%20%7B%22geometry%22%3A%20%7B%22coordinates%22%3A%20%5B%5B%5B-61.68%2C%2010.76%5D%2C%20%5B-61.105%2C%2010.89%5D%2C%20%5B-60.895%2C%2010.855%5D%2C%20%5B-60.935%2C%2010.11%5D%2C%20%5B-61.77%2C%2010%5D%2C%20%5B-61.95%2C%2010.09%5D%2C%20%5B-61.66%2C%2010.365%5D%2C%20%5B-61.68%2C%2010.76%5D%5D%5D%2C%20%22type%22%3A%20%22Polygon%22%7D%2C%20%22id%22%3A%20%22TTO%22%2C%20%22properties%22%3A%20%7B%22name%22%3A%20%22Trinidad%20and%20Tobago%22%7D%2C%20%22type%22%3A%20%22Feature%22%7D%2C%20%7B%22geometry%22%3A%20%7B%22coordinates%22%3A%20%5B%5B%5B9.48214%2C%2030.307556%5D%2C%20%5B9.055603%2C%2032.102692%5D%2C%20%5B8.439103%2C%2032.506285%5D%2C%20%5B8.430473%2C%2032.748337%5D%2C%20%5B7.612642%2C%2033.344115%5D%2C%20%5B7.524482%2C%2034.097376%5D%2C%20%5B8.140981%2C%2034.655146%5D%2C%20%5B8.376368%2C%2035.479876%5D%2C%20%5B8.217824%2C%2036.433177%5D%2C%20%5B8.420964%2C%2036.946427%5D%2C%20%5B9.509994%2C%2037.349994%5D%2C%20%5B10.210002%2C%2037.230002%5D%2C%20%5B10.18065%2C%2036.724038%5D%2C%20%5B11.028867%2C%2037.092103%5D%2C%20%5B11.100026%2C%2036.899996%5D%2C%20%5B10.600005%2C%2036.41%5D%2C%20%5B10.593287%2C%2035.947444%5D%2C%20%5B10.939519%2C%2035.698984%5D%2C%20%5B10.807847%2C%2034.833507%5D%2C%20%5B10.149593%2C%2034.330773%5D%2C%20%5B10.339659%2C%2033.785742%5D%2C%20%5B10.856836%2C%2033.76874%5D%2C%20%5B11.108501%2C%2033.293343%5D%2C%20%5B11.488787%2C%2033.136996%5D%2C%20%5B11.432253%2C%2032.368903%5D%2C%20%5B10.94479%2C%2032.081815%5D%2C%20%5B10.636901%2C%2031.761421%5D%2C%20%5B9.950225%2C%2031.37607%5D%2C%20%5B10.056575%2C%2030.961831%5D%2C%20%5B9.970017%2C%2030.539325%5D%2C%20%5B9.48214%2C%2030.307556%5D%5D%5D%2C%20%22type%22%3A%20%22Polygon%22%7D%2C%20%22id%22%3A%20%22TUN%22%2C%20%22properties%22%3A%20%7B%22name%22%3A%20%22Tunisia%22%7D%2C%20%22type%22%3A%20%22Feature%22%7D%2C%20%7B%22geometry%22%3A%20%7B%22coordinates%22%3A%20%5B%5B%5B%5B36.913127%2C%2041.335358%5D%2C%20%5B38.347665%2C%2040.948586%5D%2C%20%5B39.512607%2C%2041.102763%5D%2C%20%5B40.373433%2C%2041.013673%5D%2C%20%5B41.554084%2C%2041.535656%5D%2C%20%5B42.619549%2C%2041.583173%5D%2C%20%5B43.582746%2C%2041.092143%5D%2C%20%5B43.752658%2C%2040.740201%5D%2C%20%5B43.656436%2C%2040.253564%5D%2C%20%5B44.400009%2C%2040.005%5D%2C%20%5B44.79399%2C%2039.713003%5D%2C%20%5B44.109225%2C%2039.428136%5D%2C%20%5B44.421403%2C%2038.281281%5D%2C%20%5B44.225756%2C%2037.971584%5D%2C%20%5B44.772699%2C%2037.170445%5D%2C%20%5B44.293452%2C%2037.001514%5D%2C%20%5B43.942259%2C%2037.256228%5D%2C%20%5B42.779126%2C%2037.385264%5D%2C%20%5B42.349591%2C%2037.229873%5D%2C%20%5B41.212089%2C%2037.074352%5D%2C%20%5B40.673259%2C%2037.091276%5D%2C%20%5B39.52258%2C%2036.716054%5D%2C%20%5B38.699891%2C%2036.712927%5D%2C%20%5B38.167727%2C%2036.90121%5D%2C%20%5B37.066761%2C%2036.623036%5D%2C%20%5B36.739494%2C%2036.81752%5D%2C%20%5B36.685389%2C%2036.259699%5D%2C%20%5B36.41755%2C%2036.040617%5D%2C%20%5B36.149763%2C%2035.821535%5D%2C%20%5B35.782085%2C%2036.274995%5D%2C%20%5B36.160822%2C%2036.650606%5D%2C%20%5B35.550936%2C%2036.565443%5D%2C%20%5B34.714553%2C%2036.795532%5D%2C%20%5B34.026895%2C%2036.21996%5D%2C%20%5B32.509158%2C%2036.107564%5D%2C%20%5B31.699595%2C%2036.644275%5D%2C%20%5B30.621625%2C%2036.677865%5D%2C%20%5B30.391096%2C%2036.262981%5D%2C%20%5B29.699976%2C%2036.144357%5D%2C%20%5B28.732903%2C%2036.676831%5D%2C%20%5B27.641187%2C%2036.658822%5D%2C%20%5B27.048768%2C%2037.653361%5D%2C%20%5B26.318218%2C%2038.208133%5D%2C%20%5B26.8047%2C%2038.98576%5D%2C%20%5B26.170785%2C%2039.463612%5D%2C%20%5B27.28002%2C%2040.420014%5D%2C%20%5B28.819978%2C%2040.460011%5D%2C%20%5B29.240004%2C%2041.219991%5D%2C%20%5B31.145934%2C%2041.087622%5D%2C%20%5B32.347979%2C%2041.736264%5D%2C%20%5B33.513283%2C%2042.01896%5D%2C%20%5B35.167704%2C%2042.040225%5D%2C%20%5B36.913127%2C%2041.335358%5D%5D%5D%2C%20%5B%5B%5B27.192377%2C%2040.690566%5D%2C%20%5B26.358009%2C%2040.151994%5D%2C%20%5B26.043351%2C%2040.617754%5D%2C%20%5B26.056942%2C%2040.824123%5D%2C%20%5B26.294602%2C%2040.936261%5D%2C%20%5B26.604196%2C%2041.562115%5D%2C%20%5B26.117042%2C%2041.826905%5D%2C%20%5B27.135739%2C%2042.141485%5D%2C%20%5B27.99672%2C%2042.007359%5D%2C%20%5B28.115525%2C%2041.622886%5D%2C%20%5B28.988443%2C%2041.299934%5D%2C%20%5B28.806438%2C%2041.054962%5D%2C%20%5B27.619017%2C%2040.999823%5D%2C%20%5B27.192377%2C%2040.690566%5D%5D%5D%5D%2C%20%22type%22%3A%20%22MultiPolygon%22%7D%2C%20%22id%22%3A%20%22TUR%22%2C%20%22properties%22%3A%20%7B%22name%22%3A%20%22Turkey%22%7D%2C%20%22type%22%3A%20%22Feature%22%7D%2C%20%7B%22geometry%22%3A%20%7B%22coordinates%22%3A%20%5B%5B%5B121.777818%2C%2024.394274%5D%2C%20%5B121.175632%2C%2022.790857%5D%2C%20%5B120.74708%2C%2021.970571%5D%2C%20%5B120.220083%2C%2022.814861%5D%2C%20%5B120.106189%2C%2023.556263%5D%2C%20%5B120.69468%2C%2024.538451%5D%2C%20%5B121.495044%2C%2025.295459%5D%2C%20%5B121.951244%2C%2024.997596%5D%2C%20%5B121.777818%2C%2024.394274%5D%5D%5D%2C%20%22type%22%3A%20%22Polygon%22%7D%2C%20%22id%22%3A%20%22TWN%22%2C%20%22properties%22%3A%20%7B%22name%22%3A%20%22Taiwan%22%7D%2C%20%22type%22%3A%20%22Feature%22%7D%2C%20%7B%22geometry%22%3A%20%7B%22coordinates%22%3A%20%5B%5B%5B33.903711%2C%20-0.95%5D%2C%20%5B34.07262%2C%20-1.05982%5D%2C%20%5B37.69869%2C%20-3.09699%5D%2C%20%5B37.7669%2C%20-3.67712%5D%2C%20%5B39.20222%2C%20-4.67677%5D%2C%20%5B38.74054%2C%20-5.90895%5D%2C%20%5B38.79977%2C%20-6.47566%5D%2C%20%5B39.44%2C%20-6.84%5D%2C%20%5B39.47%2C%20-7.1%5D%2C%20%5B39.19469%2C%20-7.7039%5D%2C%20%5B39.25203%2C%20-8.00781%5D%2C%20%5B39.18652%2C%20-8.48551%5D%2C%20%5B39.53574%2C%20-9.11237%5D%2C%20%5B39.9496%2C%20-10.0984%5D%2C%20%5B40.31659%2C%20-10.3171%5D%2C%20%5B39.521%2C%20-10.89688%5D%2C%20%5B38.427557%2C%20-11.285202%5D%2C%20%5B37.82764%2C%20-11.26879%5D%2C%20%5B37.47129%2C%20-11.56876%5D%2C%20%5B36.775151%2C%20-11.594537%5D%2C%20%5B36.514082%2C%20-11.720938%5D%2C%20%5B35.312398%2C%20-11.439146%5D%2C%20%5B34.559989%2C%20-11.52002%5D%2C%20%5B34.28%2C%20-10.16%5D%2C%20%5B33.940838%2C%20-9.693674%5D%2C%20%5B33.73972%2C%20-9.41715%5D%2C%20%5B32.759375%2C%20-9.230599%5D%2C%20%5B32.191865%2C%20-8.930359%5D%2C%20%5B31.556348%2C%20-8.762049%5D%2C%20%5B31.157751%2C%20-8.594579%5D%2C%20%5B30.74%2C%20-8.34%5D%2C%20%5B30.2%2C%20-7.08%5D%2C%20%5B29.62%2C%20-6.52%5D%2C%20%5B29.419993%2C%20-5.939999%5D%2C%20%5B29.519987%2C%20-5.419979%5D%2C%20%5B29.339998%2C%20-4.499983%5D%2C%20%5B29.753512%2C%20-4.452389%5D%2C%20%5B30.11632%2C%20-4.09012%5D%2C%20%5B30.50554%2C%20-3.56858%5D%2C%20%5B30.75224%2C%20-3.35931%5D%2C%20%5B30.74301%2C%20-3.03431%5D%2C%20%5B30.52766%2C%20-2.80762%5D%2C%20%5B30.46967%2C%20-2.41383%5D%2C%20%5B30.758309%2C%20-2.28725%5D%2C%20%5B30.816135%2C%20-1.698914%5D%2C%20%5B30.419105%2C%20-1.134659%5D%2C%20%5B30.76986%2C%20-1.01455%5D%2C%20%5B31.86617%2C%20-1.02736%5D%2C%20%5B33.903711%2C%20-0.95%5D%5D%5D%2C%20%22type%22%3A%20%22Polygon%22%7D%2C%20%22id%22%3A%20%22TZA%22%2C%20%22properties%22%3A%20%7B%22name%22%3A%20%22United%20Republic%20of%20Tanzania%22%7D%2C%20%22type%22%3A%20%22Feature%22%7D%2C%20%7B%22geometry%22%3A%20%7B%22coordinates%22%3A%20%5B%5B%5B31.86617%2C%20-1.02736%5D%2C%20%5B30.76986%2C%20-1.01455%5D%2C%20%5B30.419105%2C%20-1.134659%5D%2C%20%5B29.821519%2C%20-1.443322%5D%2C%20%5B29.579466%2C%20-1.341313%5D%2C%20%5B29.587838%2C%20-0.587406%5D%2C%20%5B29.8195%2C%20-0.2053%5D%2C%20%5B29.875779%2C%200.59738%5D%2C%20%5B30.086154%2C%201.062313%5D%2C%20%5B30.468508%2C%201.583805%5D%2C%20%5B30.85267%2C%201.849396%5D%2C%20%5B31.174149%2C%202.204465%5D%2C%20%5B30.77332%2C%202.33989%5D%2C%20%5B30.83385%2C%203.50917%5D%2C%20%5B31.24556%2C%203.7819%5D%2C%20%5B31.88145%2C%203.55827%5D%2C%20%5B32.68642%2C%203.79232%5D%2C%20%5B33.39%2C%203.79%5D%2C%20%5B34.005%2C%204.249885%5D%2C%20%5B34.47913%2C%203.5556%5D%2C%20%5B34.59607%2C%203.05374%5D%2C%20%5B35.03599%2C%201.90584%5D%2C%20%5B34.6721%2C%201.17694%5D%2C%20%5B34.18%2C%200.515%5D%2C%20%5B33.893569%2C%200.109814%5D%2C%20%5B33.903711%2C%20-0.95%5D%2C%20%5B31.86617%2C%20-1.02736%5D%5D%5D%2C%20%22type%22%3A%20%22Polygon%22%7D%2C%20%22id%22%3A%20%22UGA%22%2C%20%22properties%22%3A%20%7B%22name%22%3A%20%22Uganda%22%7D%2C%20%22type%22%3A%20%22Feature%22%7D%2C%20%7B%22geometry%22%3A%20%7B%22coordinates%22%3A%20%5B%5B%5B31.785998%2C%2052.101678%5D%2C%20%5B32.159412%2C%2052.061267%5D%2C%20%5B32.412058%2C%2052.288695%5D%2C%20%5B32.715761%2C%2052.238465%5D%2C%20%5B33.7527%2C%2052.335075%5D%2C%20%5B34.391731%2C%2051.768882%5D%2C%20%5B34.141978%2C%2051.566413%5D%2C%20%5B34.224816%2C%2051.255993%5D%2C%20%5B35.022183%2C%2051.207572%5D%2C%20%5B35.377924%2C%2050.773955%5D%2C%20%5B35.356116%2C%2050.577197%5D%2C%20%5B36.626168%2C%2050.225591%5D%2C%20%5B37.39346%2C%2050.383953%5D%2C%20%5B38.010631%2C%2049.915662%5D%2C%20%5B38.594988%2C%2049.926462%5D%2C%20%5B40.069058%2C%2049.601055%5D%2C%20%5B40.080789%2C%2049.30743%5D%2C%20%5B39.674664%2C%2048.783818%5D%2C%20%5B39.895632%2C%2048.232405%5D%2C%20%5B39.738278%2C%2047.898937%5D%2C%20%5B38.770585%2C%2047.825608%5D%2C%20%5B38.255112%2C%2047.5464%5D%2C%20%5B38.223538%2C%2047.10219%5D%2C%20%5B37.425137%2C%2047.022221%5D%2C%20%5B36.759855%2C%2046.6987%5D%2C%20%5B35.823685%2C%2046.645964%5D%2C%20%5B34.962342%2C%2046.273197%5D%2C%20%5B35.020788%2C%2045.651219%5D%2C%20%5B35.510009%2C%2045.409993%5D%2C%20%5B36.529998%2C%2045.46999%5D%2C%20%5B36.334713%2C%2045.113216%5D%2C%20%5B35.239999%2C%2044.939996%5D%2C%20%5B33.882511%2C%2044.361479%5D%2C%20%5B33.326421%2C%2044.564877%5D%2C%20%5B33.546924%2C%2045.034771%5D%2C%20%5B32.454174%2C%2045.327466%5D%2C%20%5B32.630804%2C%2045.519186%5D%2C%20%5B33.588162%2C%2045.851569%5D%2C%20%5B33.298567%2C%2046.080598%5D%2C%20%5B31.74414%2C%2046.333348%5D%2C%20%5B31.675307%2C%2046.706245%5D%2C%20%5B30.748749%2C%2046.5831%5D%2C%20%5B30.377609%2C%2046.03241%5D%2C%20%5B29.603289%2C%2045.293308%5D%2C%20%5B29.149725%2C%2045.464925%5D%2C%20%5B28.679779%2C%2045.304031%5D%2C%20%5B28.233554%2C%2045.488283%5D%2C%20%5B28.485269%2C%2045.596907%5D%2C%20%5B28.659987%2C%2045.939987%5D%2C%20%5B28.933717%2C%2046.25883%5D%2C%20%5B28.862972%2C%2046.437889%5D%2C%20%5B29.072107%2C%2046.517678%5D%2C%20%5B29.170654%2C%2046.379262%5D%2C%20%5B29.759972%2C%2046.349988%5D%2C%20%5B30.024659%2C%2046.423937%5D%2C%20%5B29.83821%2C%2046.525326%5D%2C%20%5B29.908852%2C%2046.674361%5D%2C%20%5B29.559674%2C%2046.928583%5D%2C%20%5B29.415135%2C%2047.346645%5D%2C%20%5B29.050868%2C%2047.510227%5D%2C%20%5B29.122698%2C%2047.849095%5D%2C%20%5B28.670891%2C%2048.118149%5D%2C%20%5B28.259547%2C%2048.155562%5D%2C%20%5B27.522537%2C%2048.467119%5D%2C%20%5B26.857824%2C%2048.368211%5D%2C%20%5B26.619337%2C%2048.220726%5D%2C%20%5B26.19745%2C%2048.220881%5D%2C%20%5B25.945941%2C%2047.987149%5D%2C%20%5B25.207743%2C%2047.891056%5D%2C%20%5B24.866317%2C%2047.737526%5D%2C%20%5B24.402056%2C%2047.981878%5D%2C%20%5B23.760958%2C%2047.985598%5D%2C%20%5B23.142236%2C%2048.096341%5D%2C%20%5B22.710531%2C%2047.882194%5D%2C%20%5B22.64082%2C%2048.15024%5D%2C%20%5B22.085608%2C%2048.422264%5D%2C%20%5B22.280842%2C%2048.825392%5D%2C%20%5B22.558138%2C%2049.085738%5D%2C%20%5B22.776419%2C%2049.027395%5D%2C%20%5B22.51845%2C%2049.476774%5D%2C%20%5B23.426508%2C%2050.308506%5D%2C%20%5B23.922757%2C%2050.424881%5D%2C%20%5B24.029986%2C%2050.705407%5D%2C%20%5B23.527071%2C%2051.578454%5D%2C%20%5B24.005078%2C%2051.617444%5D%2C%20%5B24.553106%2C%2051.888461%5D%2C%20%5B25.327788%2C%2051.910656%5D%2C%20%5B26.337959%2C%2051.832289%5D%2C%20%5B27.454066%2C%2051.592303%5D%2C%20%5B28.241615%2C%2051.572227%5D%2C%20%5B28.617613%2C%2051.427714%5D%2C%20%5B28.992835%2C%2051.602044%5D%2C%20%5B29.254938%2C%2051.368234%5D%2C%20%5B30.157364%2C%2051.416138%5D%2C%20%5B30.555117%2C%2051.319503%5D%2C%20%5B30.619454%2C%2051.822806%5D%2C%20%5B30.927549%2C%2052.042353%5D%2C%20%5B31.785998%2C%2052.101678%5D%5D%5D%2C%20%22type%22%3A%20%22Polygon%22%7D%2C%20%22id%22%3A%20%22UKR%22%2C%20%22properties%22%3A%20%7B%22name%22%3A%20%22Ukraine%22%7D%2C%20%22type%22%3A%20%22Feature%22%7D%2C%20%7B%22geometry%22%3A%20%7B%22coordinates%22%3A%20%5B%5B%5B-57.625133%2C%20-30.216295%5D%2C%20%5B-56.976026%2C%20-30.109686%5D%2C%20%5B-55.973245%2C%20-30.883076%5D%2C%20%5B-55.60151%2C%20-30.853879%5D%2C%20%5B-54.572452%2C%20-31.494511%5D%2C%20%5B-53.787952%2C%20-32.047243%5D%2C%20%5B-53.209589%2C%20-32.727666%5D%2C%20%5B-53.650544%2C%20-33.202004%5D%2C%20%5B-53.373662%2C%20-33.768378%5D%2C%20%5B-53.806426%2C%20-34.396815%5D%2C%20%5B-54.935866%2C%20-34.952647%5D%2C%20%5B-55.67409%2C%20-34.752659%5D%2C%20%5B-56.215297%2C%20-34.859836%5D%2C%20%5B-57.139685%2C%20-34.430456%5D%2C%20%5B-57.817861%2C%20-34.462547%5D%2C%20%5B-58.427074%2C%20-33.909454%5D%2C%20%5B-58.349611%2C%20-33.263189%5D%2C%20%5B-58.132648%2C%20-33.040567%5D%2C%20%5B-58.14244%2C%20-32.044504%5D%2C%20%5B-57.874937%2C%20-31.016556%5D%2C%20%5B-57.625133%2C%20-30.216295%5D%5D%5D%2C%20%22type%22%3A%20%22Polygon%22%7D%2C%20%22id%22%3A%20%22URY%22%2C%20%22properties%22%3A%20%7B%22name%22%3A%20%22Uruguay%22%7D%2C%20%22type%22%3A%20%22Feature%22%7D%2C%20%7B%22geometry%22%3A%20%7B%22coordinates%22%3A%20%5B%5B%5B%5B-155.54211%2C%2019.08348%5D%2C%20%5B-155.68817%2C%2018.91619%5D%2C%20%5B-155.93665%2C%2019.05939%5D%2C%20%5B-155.90806%2C%2019.33888%5D%2C%20%5B-156.07347%2C%2019.70294%5D%2C%20%5B-156.02368%2C%2019.81422%5D%2C%20%5B-155.85008%2C%2019.97729%5D%2C%20%5B-155.91907%2C%2020.17395%5D%2C%20%5B-155.86108%2C%2020.26721%5D%2C%20%5B-155.78505%2C%2020.2487%5D%2C%20%5B-155.40214%2C%2020.07975%5D%2C%20%5B-155.22452%2C%2019.99302%5D%2C%20%5B-155.06226%2C%2019.8591%5D%2C%20%5B-154.80741%2C%2019.50871%5D%2C%20%5B-154.83147%2C%2019.45328%5D%2C%20%5B-155.22217%2C%2019.23972%5D%2C%20%5B-155.54211%2C%2019.08348%5D%5D%5D%2C%20%5B%5B%5B-156.07926%2C%2020.64397%5D%2C%20%5B-156.41445%2C%2020.57241%5D%2C%20%5B-156.58673%2C%2020.783%5D%2C%20%5B-156.70167%2C%2020.8643%5D%2C%20%5B-156.71055%2C%2020.92676%5D%2C%20%5B-156.61258%2C%2021.01249%5D%2C%20%5B-156.25711%2C%2020.91745%5D%2C%20%5B-155.99566%2C%2020.76404%5D%2C%20%5B-156.07926%2C%2020.64397%5D%5D%5D%2C%20%5B%5B%5B-156.75824%2C%2021.17684%5D%2C%20%5B-156.78933%2C%2021.06873%5D%2C%20%5B-157.32521%2C%2021.09777%5D%2C%20%5B-157.25027%2C%2021.21958%5D%2C%20%5B-156.75824%2C%2021.17684%5D%5D%5D%2C%20%5B%5B%5B-157.65283%2C%2021.32217%5D%2C%20%5B-157.70703%2C%2021.26442%5D%2C%20%5B-157.7786%2C%2021.27729%5D%2C%20%5B-158.12667%2C%2021.31244%5D%2C%20%5B-158.2538%2C%2021.53919%5D%2C%20%5B-158.29265%2C%2021.57912%5D%2C%20%5B-158.0252%2C%2021.71696%5D%2C%20%5B-157.94161%2C%2021.65272%5D%2C%20%5B-157.65283%2C%2021.32217%5D%5D%5D%2C%20%5B%5B%5B-159.34512%2C%2021.982%5D%2C%20%5B-159.46372%2C%2021.88299%5D%2C%20%5B-159.80051%2C%2022.06533%5D%2C%20%5B-159.74877%2C%2022.1382%5D%2C%20%5B-159.5962%2C%2022.23618%5D%2C%20%5B-159.36569%2C%2022.21494%5D%2C%20%5B-159.34512%2C%2021.982%5D%5D%5D%2C%20%5B%5B%5B-94.81758%2C%2049.38905%5D%2C%20%5B-94.64%2C%2048.84%5D%2C%20%5B-94.32914%2C%2048.67074%5D%2C%20%5B-93.63087%2C%2048.60926%5D%2C%20%5B-92.61%2C%2048.45%5D%2C%20%5B-91.64%2C%2048.14%5D%2C%20%5B-90.83%2C%2048.27%5D%2C%20%5B-89.6%2C%2048.01%5D%2C%20%5B-89.272917%2C%2048.019808%5D%2C%20%5B-88.378114%2C%2048.302918%5D%2C%20%5B-87.439793%2C%2047.94%5D%2C%20%5B-86.461991%2C%2047.553338%5D%2C%20%5B-85.652363%2C%2047.220219%5D%2C%20%5B-84.87608%2C%2046.900083%5D%2C%20%5B-84.779238%2C%2046.637102%5D%2C%20%5B-84.543749%2C%2046.538684%5D%2C%20%5B-84.6049%2C%2046.4396%5D%2C%20%5B-84.3367%2C%2046.40877%5D%2C%20%5B-84.14212%2C%2046.512226%5D%2C%20%5B-84.091851%2C%2046.275419%5D%2C%20%5B-83.890765%2C%2046.116927%5D%2C%20%5B-83.616131%2C%2046.116927%5D%2C%20%5B-83.469551%2C%2045.994686%5D%2C%20%5B-83.592851%2C%2045.816894%5D%2C%20%5B-82.550925%2C%2045.347517%5D%2C%20%5B-82.337763%2C%2044.44%5D%2C%20%5B-82.137642%2C%2043.571088%5D%2C%20%5B-82.43%2C%2042.98%5D%2C%20%5B-82.9%2C%2042.43%5D%2C%20%5B-83.12%2C%2042.08%5D%2C%20%5B-83.142%2C%2041.975681%5D%2C%20%5B-83.02981%2C%2041.832796%5D%2C%20%5B-82.690089%2C%2041.675105%5D%2C%20%5B-82.439278%2C%2041.675105%5D%2C%20%5B-81.277747%2C%2042.209026%5D%2C%20%5B-80.247448%2C%2042.3662%5D%2C%20%5B-78.939362%2C%2042.863611%5D%2C%20%5B-78.92%2C%2042.965%5D%2C%20%5B-79.01%2C%2043.27%5D%2C%20%5B-79.171674%2C%2043.466339%5D%2C%20%5B-78.72028%2C%2043.625089%5D%2C%20%5B-77.737885%2C%2043.629056%5D%2C%20%5B-76.820034%2C%2043.628784%5D%2C%20%5B-76.5%2C%2044.018459%5D%2C%20%5B-76.375%2C%2044.09631%5D%2C%20%5B-75.31821%2C%2044.81645%5D%2C%20%5B-74.867%2C%2045.00048%5D%2C%20%5B-73.34783%2C%2045.00738%5D%2C%20%5B-71.50506%2C%2045.0082%5D%2C%20%5B-71.405%2C%2045.255%5D%2C%20%5B-71.08482%2C%2045.30524%5D%2C%20%5B-70.66%2C%2045.46%5D%2C%20%5B-70.305%2C%2045.915%5D%2C%20%5B-69.99997%2C%2046.69307%5D%2C%20%5B-69.237216%2C%2047.447781%5D%2C%20%5B-68.905%2C%2047.185%5D%2C%20%5B-68.23444%2C%2047.35486%5D%2C%20%5B-67.79046%2C%2047.06636%5D%2C%20%5B-67.79134%2C%2045.70281%5D%2C%20%5B-67.13741%2C%2045.13753%5D%2C%20%5B-66.96466%2C%2044.8097%5D%2C%20%5B-68.03252%2C%2044.3252%5D%2C%20%5B-69.06%2C%2043.98%5D%2C%20%5B-70.11617%2C%2043.68405%5D%2C%20%5B-70.645476%2C%2043.090238%5D%2C%20%5B-70.81489%2C%2042.8653%5D%2C%20%5B-70.825%2C%2042.335%5D%2C%20%5B-70.495%2C%2041.805%5D%2C%20%5B-70.08%2C%2041.78%5D%2C%20%5B-70.185%2C%2042.145%5D%2C%20%5B-69.88497%2C%2041.92283%5D%2C%20%5B-69.96503%2C%2041.63717%5D%2C%20%5B-70.64%2C%2041.475%5D%2C%20%5B-71.12039%2C%2041.49445%5D%2C%20%5B-71.86%2C%2041.32%5D%2C%20%5B-72.295%2C%2041.27%5D%2C%20%5B-72.87643%2C%2041.22065%5D%2C%20%5B-73.71%2C%2040.931102%5D%2C%20%5B-72.24126%2C%2041.11948%5D%2C%20%5B-71.945%2C%2040.93%5D%2C%20%5B-73.345%2C%2040.63%5D%2C%20%5B-73.982%2C%2040.628%5D%2C%20%5B-73.952325%2C%2040.75075%5D%2C%20%5B-74.25671%2C%2040.47351%5D%2C%20%5B-73.96244%2C%2040.42763%5D%2C%20%5B-74.17838%2C%2039.70926%5D%2C%20%5B-74.90604%2C%2038.93954%5D%2C%20%5B-74.98041%2C%2039.1964%5D%2C%20%5B-75.20002%2C%2039.24845%5D%2C%20%5B-75.52805%2C%2039.4985%5D%2C%20%5B-75.32%2C%2038.96%5D%2C%20%5B-75.071835%2C%2038.782032%5D%2C%20%5B-75.05673%2C%2038.40412%5D%2C%20%5B-75.37747%2C%2038.01551%5D%2C%20%5B-75.94023%2C%2037.21689%5D%2C%20%5B-76.03127%2C%2037.2566%5D%2C%20%5B-75.72205%2C%2037.93705%5D%2C%20%5B-76.23287%2C%2038.319215%5D%2C%20%5B-76.35%2C%2039.15%5D%2C%20%5B-76.542725%2C%2038.717615%5D%2C%20%5B-76.32933%2C%2038.08326%5D%2C%20%5B-76.989998%2C%2038.239992%5D%2C%20%5B-76.30162%2C%2037.917945%5D%2C%20%5B-76.25874%2C%2036.9664%5D%2C%20%5B-75.9718%2C%2036.89726%5D%2C%20%5B-75.86804%2C%2036.55125%5D%2C%20%5B-75.72749%2C%2035.55074%5D%2C%20%5B-76.36318%2C%2034.80854%5D%2C%20%5B-77.397635%2C%2034.51201%5D%2C%20%5B-78.05496%2C%2033.92547%5D%2C%20%5B-78.55435%2C%2033.86133%5D%2C%20%5B-79.06067%2C%2033.49395%5D%2C%20%5B-79.20357%2C%2033.15839%5D%2C%20%5B-80.301325%2C%2032.509355%5D%2C%20%5B-80.86498%2C%2032.0333%5D%2C%20%5B-81.33629%2C%2031.44049%5D%2C%20%5B-81.49042%2C%2030.72999%5D%2C%20%5B-81.31371%2C%2030.03552%5D%2C%20%5B-80.98%2C%2029.18%5D%2C%20%5B-80.535585%2C%2028.47213%5D%2C%20%5B-80.53%2C%2028.04%5D%2C%20%5B-80.056539%2C%2026.88%5D%2C%20%5B-80.088015%2C%2026.205765%5D%2C%20%5B-80.13156%2C%2025.816775%5D%2C%20%5B-80.38103%2C%2025.20616%5D%2C%20%5B-80.68%2C%2025.08%5D%2C%20%5B-81.17213%2C%2025.20126%5D%2C%20%5B-81.33%2C%2025.64%5D%2C%20%5B-81.71%2C%2025.87%5D%2C%20%5B-82.24%2C%2026.73%5D%2C%20%5B-82.70515%2C%2027.49504%5D%2C%20%5B-82.85526%2C%2027.88624%5D%2C%20%5B-82.65%2C%2028.55%5D%2C%20%5B-82.93%2C%2029.1%5D%2C%20%5B-83.70959%2C%2029.93656%5D%2C%20%5B-84.1%2C%2030.09%5D%2C%20%5B-85.10882%2C%2029.63615%5D%2C%20%5B-85.28784%2C%2029.68612%5D%2C%20%5B-85.7731%2C%2030.15261%5D%2C%20%5B-86.4%2C%2030.4%5D%2C%20%5B-87.53036%2C%2030.27433%5D%2C%20%5B-88.41782%2C%2030.3849%5D%2C%20%5B-89.18049%2C%2030.31598%5D%2C%20%5B-89.593831%2C%2030.159994%5D%2C%20%5B-89.413735%2C%2029.89419%5D%2C%20%5B-89.43%2C%2029.48864%5D%2C%20%5B-89.21767%2C%2029.29108%5D%2C%20%5B-89.40823%2C%2029.15961%5D%2C%20%5B-89.77928%2C%2029.30714%5D%2C%20%5B-90.15463%2C%2029.11743%5D%2C%20%5B-90.880225%2C%2029.148535%5D%2C%20%5B-91.626785%2C%2029.677%5D%2C%20%5B-92.49906%2C%2029.5523%5D%2C%20%5B-93.22637%2C%2029.78375%5D%2C%20%5B-93.84842%2C%2029.71363%5D%2C%20%5B-94.69%2C%2029.48%5D%2C%20%5B-95.60026%2C%2028.73863%5D%2C%20%5B-96.59404%2C%2028.30748%5D%2C%20%5B-97.14%2C%2027.83%5D%2C%20%5B-97.37%2C%2027.38%5D%2C%20%5B-97.38%2C%2026.69%5D%2C%20%5B-97.33%2C%2026.21%5D%2C%20%5B-97.14%2C%2025.87%5D%2C%20%5B-97.53%2C%2025.84%5D%2C%20%5B-98.24%2C%2026.06%5D%2C%20%5B-99.02%2C%2026.37%5D%2C%20%5B-99.3%2C%2026.84%5D%2C%20%5B-99.52%2C%2027.54%5D%2C%20%5B-100.11%2C%2028.11%5D%2C%20%5B-100.45584%2C%2028.69612%5D%2C%20%5B-100.9576%2C%2029.38071%5D%2C%20%5B-101.6624%2C%2029.7793%5D%2C%20%5B-102.48%2C%2029.76%5D%2C%20%5B-103.11%2C%2028.97%5D%2C%20%5B-103.94%2C%2029.27%5D%2C%20%5B-104.45697%2C%2029.57196%5D%2C%20%5B-104.70575%2C%2030.12173%5D%2C%20%5B-105.03737%2C%2030.64402%5D%2C%20%5B-105.63159%2C%2031.08383%5D%2C%20%5B-106.1429%2C%2031.39995%5D%2C%20%5B-106.50759%2C%2031.75452%5D%2C%20%5B-108.24%2C%2031.754854%5D%2C%20%5B-108.24194%2C%2031.34222%5D%2C%20%5B-109.035%2C%2031.34194%5D%2C%20%5B-111.02361%2C%2031.33472%5D%2C%20%5B-113.30498%2C%2032.03914%5D%2C%20%5B-114.815%2C%2032.52528%5D%2C%20%5B-114.72139%2C%2032.72083%5D%2C%20%5B-115.99135%2C%2032.61239%5D%2C%20%5B-117.12776%2C%2032.53534%5D%2C%20%5B-117.295938%2C%2033.046225%5D%2C%20%5B-117.944%2C%2033.621236%5D%2C%20%5B-118.410602%2C%2033.740909%5D%2C%20%5B-118.519895%2C%2034.027782%5D%2C%20%5B-119.081%2C%2034.078%5D%2C%20%5B-119.438841%2C%2034.348477%5D%2C%20%5B-120.36778%2C%2034.44711%5D%2C%20%5B-120.62286%2C%2034.60855%5D%2C%20%5B-120.74433%2C%2035.15686%5D%2C%20%5B-121.71457%2C%2036.16153%5D%2C%20%5B-122.54747%2C%2037.55176%5D%2C%20%5B-122.51201%2C%2037.78339%5D%2C%20%5B-122.95319%2C%2038.11371%5D%2C%20%5B-123.7272%2C%2038.95166%5D%2C%20%5B-123.86517%2C%2039.76699%5D%2C%20%5B-124.39807%2C%2040.3132%5D%2C%20%5B-124.17886%2C%2041.14202%5D%2C%20%5B-124.2137%2C%2041.99964%5D%2C%20%5B-124.53284%2C%2042.76599%5D%2C%20%5B-124.14214%2C%2043.70838%5D%2C%20%5B-124.020535%2C%2044.615895%5D%2C%20%5B-123.89893%2C%2045.52341%5D%2C%20%5B-124.079635%2C%2046.86475%5D%2C%20%5B-124.39567%2C%2047.72017%5D%2C%20%5B-124.68721%2C%2048.184433%5D%2C%20%5B-124.566101%2C%2048.379715%5D%2C%20%5B-123.12%2C%2048.04%5D%2C%20%5B-122.58736%2C%2047.096%5D%2C%20%5B-122.34%2C%2047.36%5D%2C%20%5B-122.5%2C%2048.18%5D%2C%20%5B-122.84%2C%2049%5D%2C%20%5B-120%2C%2049%5D%2C%20%5B-117.03121%2C%2049%5D%2C%20%5B-116.04818%2C%2049%5D%2C%20%5B-113%2C%2049%5D%2C%20%5B-110.05%2C%2049%5D%2C%20%5B-107.05%2C%2049%5D%2C%20%5B-104.04826%2C%2048.99986%5D%2C%20%5B-100.65%2C%2049%5D%2C%20%5B-97.22872%2C%2049.0007%5D%2C%20%5B-95.15907%2C%2049%5D%2C%20%5B-95.15609%2C%2049.38425%5D%2C%20%5B-94.81758%2C%2049.38905%5D%5D%5D%2C%20%5B%5B%5B-153.006314%2C%2057.115842%5D%2C%20%5B-154.00509%2C%2056.734677%5D%2C%20%5B-154.516403%2C%2056.992749%5D%2C%20%5B-154.670993%2C%2057.461196%5D%2C%20%5B-153.76278%2C%2057.816575%5D%2C%20%5B-153.228729%2C%2057.968968%5D%2C%20%5B-152.564791%2C%2057.901427%5D%2C%20%5B-152.141147%2C%2057.591059%5D%2C%20%5B-153.006314%2C%2057.115842%5D%5D%5D%2C%20%5B%5B%5B-165.579164%2C%2059.909987%5D%2C%20%5B-166.19277%2C%2059.754441%5D%2C%20%5B-166.848337%2C%2059.941406%5D%2C%20%5B-167.455277%2C%2060.213069%5D%2C%20%5B-166.467792%2C%2060.38417%5D%2C%20%5B-165.67443%2C%2060.293607%5D%2C%20%5B-165.579164%2C%2059.909987%5D%5D%5D%2C%20%5B%5B%5B-171.731657%2C%2063.782515%5D%2C%20%5B-171.114434%2C%2063.592191%5D%2C%20%5B-170.491112%2C%2063.694975%5D%2C%20%5B-169.682505%2C%2063.431116%5D%2C%20%5B-168.689439%2C%2063.297506%5D%2C%20%5B-168.771941%2C%2063.188598%5D%2C%20%5B-169.52944%2C%2062.976931%5D%2C%20%5B-170.290556%2C%2063.194438%5D%2C%20%5B-170.671386%2C%2063.375822%5D%2C%20%5B-171.553063%2C%2063.317789%5D%2C%20%5B-171.791111%2C%2063.405846%5D%2C%20%5B-171.731657%2C%2063.782515%5D%5D%5D%2C%20%5B%5B%5B-155.06779%2C%2071.147776%5D%2C%20%5B-154.344165%2C%2070.696409%5D%2C%20%5B-153.900006%2C%2070.889989%5D%2C%20%5B-152.210006%2C%2070.829992%5D%2C%20%5B-152.270002%2C%2070.600006%5D%2C%20%5B-150.739992%2C%2070.430017%5D%2C%20%5B-149.720003%2C%2070.53001%5D%2C%20%5B-147.613362%2C%2070.214035%5D%2C%20%5B-145.68999%2C%2070.12001%5D%2C%20%5B-144.920011%2C%2069.989992%5D%2C%20%5B-143.589446%2C%2070.152514%5D%2C%20%5B-142.07251%2C%2069.851938%5D%2C%20%5B-140.985988%2C%2069.711998%5D%2C%20%5B-140.985988%2C%2069.711998%5D%2C%20%5B-140.992499%2C%2066.000029%5D%2C%20%5B-140.99777%2C%2060.306397%5D%2C%20%5B-140.012998%2C%2060.276838%5D%2C%20%5B-139.039%2C%2060.000007%5D%2C%20%5B-138.34089%2C%2059.56211%5D%2C%20%5B-137.4525%2C%2058.905%5D%2C%20%5B-136.47972%2C%2059.46389%5D%2C%20%5B-135.47583%2C%2059.78778%5D%2C%20%5B-134.945%2C%2059.27056%5D%2C%20%5B-134.27111%2C%2058.86111%5D%2C%20%5B-133.355549%2C%2058.410285%5D%2C%20%5B-132.73042%2C%2057.69289%5D%2C%20%5B-131.70781%2C%2056.55212%5D%2C%20%5B-130.00778%2C%2055.91583%5D%2C%20%5B-129.979994%2C%2055.284998%5D%2C%20%5B-130.53611%2C%2054.802753%5D%2C%20%5B-131.085818%2C%2055.178906%5D%2C%20%5B-131.967211%2C%2055.497776%5D%2C%20%5B-132.250011%2C%2056.369996%5D%2C%20%5B-133.539181%2C%2057.178887%5D%2C%20%5B-134.078063%2C%2058.123068%5D%2C%20%5B-135.038211%2C%2058.187715%5D%2C%20%5B-136.628062%2C%2058.212209%5D%2C%20%5B-137.800006%2C%2058.499995%5D%2C%20%5B-139.867787%2C%2059.537762%5D%2C%20%5B-140.825274%2C%2059.727517%5D%2C%20%5B-142.574444%2C%2060.084447%5D%2C%20%5B-143.958881%2C%2059.99918%5D%2C%20%5B-145.925557%2C%2060.45861%5D%2C%20%5B-147.114374%2C%2060.884656%5D%2C%20%5B-148.224306%2C%2060.672989%5D%2C%20%5B-148.018066%2C%2059.978329%5D%2C%20%5B-148.570823%2C%2059.914173%5D%2C%20%5B-149.727858%2C%2059.705658%5D%2C%20%5B-150.608243%2C%2059.368211%5D%2C%20%5B-151.716393%2C%2059.155821%5D%2C%20%5B-151.859433%2C%2059.744984%5D%2C%20%5B-151.409719%2C%2060.725803%5D%2C%20%5B-150.346941%2C%2061.033588%5D%2C%20%5B-150.621111%2C%2061.284425%5D%2C%20%5B-151.895839%2C%2060.727198%5D%2C%20%5B-152.57833%2C%2060.061657%5D%2C%20%5B-154.019172%2C%2059.350279%5D%2C%20%5B-153.287511%2C%2058.864728%5D%2C%20%5B-154.232492%2C%2058.146374%5D%2C%20%5B-155.307491%2C%2057.727795%5D%2C%20%5B-156.308335%2C%2057.422774%5D%2C%20%5B-156.556097%2C%2056.979985%5D%2C%20%5B-158.117217%2C%2056.463608%5D%2C%20%5B-158.433321%2C%2055.994154%5D%2C%20%5B-159.603327%2C%2055.566686%5D%2C%20%5B-160.28972%2C%2055.643581%5D%2C%20%5B-161.223048%2C%2055.364735%5D%2C%20%5B-162.237766%2C%2055.024187%5D%2C%20%5B-163.069447%2C%2054.689737%5D%2C%20%5B-164.785569%2C%2054.404173%5D%2C%20%5B-164.942226%2C%2054.572225%5D%2C%20%5B-163.84834%2C%2055.039431%5D%2C%20%5B-162.870001%2C%2055.348043%5D%2C%20%5B-161.804175%2C%2055.894986%5D%2C%20%5B-160.563605%2C%2056.008055%5D%2C%20%5B-160.07056%2C%2056.418055%5D%2C%20%5B-158.684443%2C%2057.016675%5D%2C%20%5B-158.461097%2C%2057.216921%5D%2C%20%5B-157.72277%2C%2057.570001%5D%2C%20%5B-157.550274%2C%2058.328326%5D%2C%20%5B-157.041675%2C%2058.918885%5D%2C%20%5B-158.194731%2C%2058.615802%5D%2C%20%5B-158.517218%2C%2058.787781%5D%2C%20%5B-159.058606%2C%2058.424186%5D%2C%20%5B-159.711667%2C%2058.93139%5D%2C%20%5B-159.981289%2C%2058.572549%5D%2C%20%5B-160.355271%2C%2059.071123%5D%2C%20%5B-161.355003%2C%2058.670838%5D%2C%20%5B-161.968894%2C%2058.671665%5D%2C%20%5B-162.054987%2C%2059.266925%5D%2C%20%5B-161.874171%2C%2059.633621%5D%2C%20%5B-162.518059%2C%2059.989724%5D%2C%20%5B-163.818341%2C%2059.798056%5D%2C%20%5B-164.662218%2C%2060.267484%5D%2C%20%5B-165.346388%2C%2060.507496%5D%2C%20%5B-165.350832%2C%2061.073895%5D%2C%20%5B-166.121379%2C%2061.500019%5D%2C%20%5B-165.734452%2C%2062.074997%5D%2C%20%5B-164.919179%2C%2062.633076%5D%2C%20%5B-164.562508%2C%2063.146378%5D%2C%20%5B-163.753332%2C%2063.219449%5D%2C%20%5B-163.067224%2C%2063.059459%5D%2C%20%5B-162.260555%2C%2063.541936%5D%2C%20%5B-161.53445%2C%2063.455817%5D%2C%20%5B-160.772507%2C%2063.766108%5D%2C%20%5B-160.958335%2C%2064.222799%5D%2C%20%5B-161.518068%2C%2064.402788%5D%2C%20%5B-160.777778%2C%2064.788604%5D%2C%20%5B-161.391926%2C%2064.777235%5D%2C%20%5B-162.45305%2C%2064.559445%5D%2C%20%5B-162.757786%2C%2064.338605%5D%2C%20%5B-163.546394%2C%2064.55916%5D%2C%20%5B-164.96083%2C%2064.446945%5D%2C%20%5B-166.425288%2C%2064.686672%5D%2C%20%5B-166.845004%2C%2065.088896%5D%2C%20%5B-168.11056%2C%2065.669997%5D%2C%20%5B-166.705271%2C%2066.088318%5D%2C%20%5B-164.47471%2C%2066.57666%5D%2C%20%5B-163.652512%2C%2066.57666%5D%2C%20%5B-163.788602%2C%2066.077207%5D%2C%20%5B-161.677774%2C%2066.11612%5D%2C%20%5B-162.489715%2C%2066.735565%5D%2C%20%5B-163.719717%2C%2067.116395%5D%2C%20%5B-164.430991%2C%2067.616338%5D%2C%20%5B-165.390287%2C%2068.042772%5D%2C%20%5B-166.764441%2C%2068.358877%5D%2C%20%5B-166.204707%2C%2068.883031%5D%2C%20%5B-164.430811%2C%2068.915535%5D%2C%20%5B-163.168614%2C%2069.371115%5D%2C%20%5B-162.930566%2C%2069.858062%5D%2C%20%5B-161.908897%2C%2070.33333%5D%2C%20%5B-160.934797%2C%2070.44769%5D%2C%20%5B-159.039176%2C%2070.891642%5D%2C%20%5B-158.119723%2C%2070.824721%5D%2C%20%5B-156.580825%2C%2071.357764%5D%2C%20%5B-155.06779%2C%2071.147776%5D%5D%5D%5D%2C%20%22type%22%3A%20%22MultiPolygon%22%7D%2C%20%22id%22%3A%20%22USA%22%2C%20%22properties%22%3A%20%7B%22name%22%3A%20%22United%20States%20of%20America%22%7D%2C%20%22type%22%3A%20%22Feature%22%7D%2C%20%7B%22geometry%22%3A%20%7B%22coordinates%22%3A%20%5B%5B%5B66.518607%2C%2037.362784%5D%2C%20%5B66.54615%2C%2037.974685%5D%2C%20%5B65.215999%2C%2038.402695%5D%2C%20%5B64.170223%2C%2038.892407%5D%2C%20%5B63.518015%2C%2039.363257%5D%2C%20%5B62.37426%2C%2040.053886%5D%2C%20%5B61.882714%2C%2041.084857%5D%2C%20%5B61.547179%2C%2041.26637%5D%2C%20%5B60.465953%2C%2041.220327%5D%2C%20%5B60.083341%2C%2041.425146%5D%2C%20%5B59.976422%2C%2042.223082%5D%2C%20%5B58.629011%2C%2042.751551%5D%2C%20%5B57.78653%2C%2042.170553%5D%2C%20%5B56.932215%2C%2041.826026%5D%2C%20%5B57.096391%2C%2041.32231%5D%2C%20%5B55.968191%2C%2041.308642%5D%2C%20%5B55.928917%2C%2044.995858%5D%2C%20%5B58.503127%2C%2045.586804%5D%2C%20%5B58.689989%2C%2045.500014%5D%2C%20%5B60.239972%2C%2044.784037%5D%2C%20%5B61.05832%2C%2044.405817%5D%2C%20%5B62.0133%2C%2043.504477%5D%2C%20%5B63.185787%2C%2043.650075%5D%2C%20%5B64.900824%2C%2043.728081%5D%2C%20%5B66.098012%2C%2042.99766%5D%2C%20%5B66.023392%2C%2041.994646%5D%2C%20%5B66.510649%2C%2041.987644%5D%2C%20%5B66.714047%2C%2041.168444%5D%2C%20%5B67.985856%2C%2041.135991%5D%2C%20%5B68.259896%2C%2040.662325%5D%2C%20%5B68.632483%2C%2040.668681%5D%2C%20%5B69.070027%2C%2041.384244%5D%2C%20%5B70.388965%2C%2042.081308%5D%2C%20%5B70.962315%2C%2042.266154%5D%2C%20%5B71.259248%2C%2042.167711%5D%2C%20%5B70.420022%2C%2041.519998%5D%2C%20%5B71.157859%2C%2041.143587%5D%2C%20%5B71.870115%2C%2041.3929%5D%2C%20%5B73.055417%2C%2040.866033%5D%2C%20%5B71.774875%2C%2040.145844%5D%2C%20%5B71.014198%2C%2040.244366%5D%2C%20%5B70.601407%2C%2040.218527%5D%2C%20%5B70.45816%2C%2040.496495%5D%2C%20%5B70.666622%2C%2040.960213%5D%2C%20%5B69.329495%2C%2040.727824%5D%2C%20%5B69.011633%2C%2040.086158%5D%2C%20%5B68.536416%2C%2039.533453%5D%2C%20%5B67.701429%2C%2039.580478%5D%2C%20%5B67.44222%2C%2039.140144%5D%2C%20%5B68.176025%2C%2038.901553%5D%2C%20%5B68.392033%2C%2038.157025%5D%2C%20%5B67.83%2C%2037.144994%5D%2C%20%5B67.075782%2C%2037.356144%5D%2C%20%5B66.518607%2C%2037.362784%5D%5D%5D%2C%20%22type%22%3A%20%22Polygon%22%7D%2C%20%22id%22%3A%20%22UZB%22%2C%20%22properties%22%3A%20%7B%22name%22%3A%20%22Uzbekistan%22%7D%2C%20%22type%22%3A%20%22Feature%22%7D%2C%20%7B%22geometry%22%3A%20%7B%22coordinates%22%3A%20%5B%5B%5B-71.331584%2C%2011.776284%5D%2C%20%5B-71.360006%2C%2011.539994%5D%2C%20%5B-71.94705%2C%2011.423282%5D%2C%20%5B-71.620868%2C%2010.96946%5D%2C%20%5B-71.633064%2C%2010.446494%5D%2C%20%5B-72.074174%2C%209.865651%5D%2C%20%5B-71.695644%2C%209.072263%5D%2C%20%5B-71.264559%2C%209.137195%5D%2C%20%5B-71.039999%2C%209.859993%5D%2C%20%5B-71.350084%2C%2010.211935%5D%2C%20%5B-71.400623%2C%2010.968969%5D%2C%20%5B-70.155299%2C%2011.375482%5D%2C%20%5B-70.293843%2C%2011.846822%5D%2C%20%5B-69.943245%2C%2012.162307%5D%2C%20%5B-69.5843%2C%2011.459611%5D%2C%20%5B-68.882999%2C%2011.443385%5D%2C%20%5B-68.233271%2C%2010.885744%5D%2C%20%5B-68.194127%2C%2010.554653%5D%2C%20%5B-67.296249%2C%2010.545868%5D%2C%20%5B-66.227864%2C%2010.648627%5D%2C%20%5B-65.655238%2C%2010.200799%5D%2C%20%5B-64.890452%2C%2010.077215%5D%2C%20%5B-64.329479%2C%2010.389599%5D%2C%20%5B-64.318007%2C%2010.641418%5D%2C%20%5B-63.079322%2C%2010.701724%5D%2C%20%5B-61.880946%2C%2010.715625%5D%2C%20%5B-62.730119%2C%2010.420269%5D%2C%20%5B-62.388512%2C%209.948204%5D%2C%20%5B-61.588767%2C%209.873067%5D%2C%20%5B-60.830597%2C%209.38134%5D%2C%20%5B-60.671252%2C%208.580174%5D%2C%20%5B-60.150096%2C%208.602757%5D%2C%20%5B-59.758285%2C%208.367035%5D%2C%20%5B-60.550588%2C%207.779603%5D%2C%20%5B-60.637973%2C%207.415%5D%2C%20%5B-60.295668%2C%207.043911%5D%2C%20%5B-60.543999%2C%206.856584%5D%2C%20%5B-61.159336%2C%206.696077%5D%2C%20%5B-61.139415%2C%206.234297%5D%2C%20%5B-61.410303%2C%205.959068%5D%2C%20%5B-60.733574%2C%205.200277%5D%2C%20%5B-60.601179%2C%204.918098%5D%2C%20%5B-60.966893%2C%204.536468%5D%2C%20%5B-62.08543%2C%204.162124%5D%2C%20%5B-62.804533%2C%204.006965%5D%2C%20%5B-63.093198%2C%203.770571%5D%2C%20%5B-63.888343%2C%204.02053%5D%2C%20%5B-64.628659%2C%204.148481%5D%2C%20%5B-64.816064%2C%204.056445%5D%2C%20%5B-64.368494%2C%203.79721%5D%2C%20%5B-64.408828%2C%203.126786%5D%2C%20%5B-64.269999%2C%202.497006%5D%2C%20%5B-63.422867%2C%202.411068%5D%2C%20%5B-63.368788%2C%202.2009%5D%2C%20%5B-64.083085%2C%201.916369%5D%2C%20%5B-64.199306%2C%201.492855%5D%2C%20%5B-64.611012%2C%201.328731%5D%2C%20%5B-65.354713%2C%201.095282%5D%2C%20%5B-65.548267%2C%200.789254%5D%2C%20%5B-66.325765%2C%200.724452%5D%2C%20%5B-66.876326%2C%201.253361%5D%2C%20%5B-67.181294%2C%202.250638%5D%2C%20%5B-67.447092%2C%202.600281%5D%2C%20%5B-67.809938%2C%202.820655%5D%2C%20%5B-67.303173%2C%203.318454%5D%2C%20%5B-67.337564%2C%203.542342%5D%2C%20%5B-67.621836%2C%203.839482%5D%2C%20%5B-67.823012%2C%204.503937%5D%2C%20%5B-67.744697%2C%205.221129%5D%2C%20%5B-67.521532%2C%205.55687%5D%2C%20%5B-67.34144%2C%206.095468%5D%2C%20%5B-67.695087%2C%206.267318%5D%2C%20%5B-68.265052%2C%206.153268%5D%2C%20%5B-68.985319%2C%206.206805%5D%2C%20%5B-69.38948%2C%206.099861%5D%2C%20%5B-70.093313%2C%206.960376%5D%2C%20%5B-70.674234%2C%207.087785%5D%2C%20%5B-71.960176%2C%206.991615%5D%2C%20%5B-72.198352%2C%207.340431%5D%2C%20%5B-72.444487%2C%207.423785%5D%2C%20%5B-72.479679%2C%207.632506%5D%2C%20%5B-72.360901%2C%208.002638%5D%2C%20%5B-72.439862%2C%208.405275%5D%2C%20%5B-72.660495%2C%208.625288%5D%2C%20%5B-72.78873%2C%209.085027%5D%2C%20%5B-73.304952%2C%209.152%5D%2C%20%5B-73.027604%2C%209.73677%5D%2C%20%5B-72.905286%2C%2010.450344%5D%2C%20%5B-72.614658%2C%2010.821975%5D%2C%20%5B-72.227575%2C%2011.108702%5D%2C%20%5B-71.973922%2C%2011.608672%5D%2C%20%5B-71.331584%2C%2011.776284%5D%5D%5D%2C%20%22type%22%3A%20%22Polygon%22%7D%2C%20%22id%22%3A%20%22VEN%22%2C%20%22properties%22%3A%20%7B%22name%22%3A%20%22Venezuela%22%7D%2C%20%22type%22%3A%20%22Feature%22%7D%2C%20%7B%22geometry%22%3A%20%7B%22coordinates%22%3A%20%5B%5B%5B108.05018%2C%2021.55238%5D%2C%20%5B106.715068%2C%2020.696851%5D%2C%20%5B105.881682%2C%2019.75205%5D%2C%20%5B105.662006%2C%2019.058165%5D%2C%20%5B106.426817%2C%2018.004121%5D%2C%20%5B107.361954%2C%2016.697457%5D%2C%20%5B108.269495%2C%2016.079742%5D%2C%20%5B108.877107%2C%2015.276691%5D%2C%20%5B109.33527%2C%2013.426028%5D%2C%20%5B109.200136%2C%2011.666859%5D%2C%20%5B108.36613%2C%2011.008321%5D%2C%20%5B107.220929%2C%2010.364484%5D%2C%20%5B106.405113%2C%209.53084%5D%2C%20%5B105.158264%2C%208.59976%5D%2C%20%5B104.795185%2C%209.241038%5D%2C%20%5B105.076202%2C%209.918491%5D%2C%20%5B104.334335%2C%2010.486544%5D%2C%20%5B105.199915%2C%2010.88931%5D%2C%20%5B106.24967%2C%2010.961812%5D%2C%20%5B105.810524%2C%2011.567615%5D%2C%20%5B107.491403%2C%2012.337206%5D%2C%20%5B107.614548%2C%2013.535531%5D%2C%20%5B107.382727%2C%2014.202441%5D%2C%20%5B107.564525%2C%2015.202173%5D%2C%20%5B107.312706%2C%2015.908538%5D%2C%20%5B106.556008%2C%2016.604284%5D%2C%20%5B105.925762%2C%2017.485315%5D%2C%20%5B105.094598%2C%2018.666975%5D%2C%20%5B103.896532%2C%2019.265181%5D%2C%20%5B104.183388%2C%2019.624668%5D%2C%20%5B104.822574%2C%2019.886642%5D%2C%20%5B104.435%2C%2020.758733%5D%2C%20%5B103.203861%2C%2020.766562%5D%2C%20%5B102.754896%2C%2021.675137%5D%2C%20%5B102.170436%2C%2022.464753%5D%2C%20%5B102.706992%2C%2022.708795%5D%2C%20%5B103.504515%2C%2022.703757%5D%2C%20%5B104.476858%2C%2022.81915%5D%2C%20%5B105.329209%2C%2023.352063%5D%2C%20%5B105.811247%2C%2022.976892%5D%2C%20%5B106.725403%2C%2022.794268%5D%2C%20%5B106.567273%2C%2022.218205%5D%2C%20%5B107.04342%2C%2021.811899%5D%2C%20%5B108.05018%2C%2021.55238%5D%5D%5D%2C%20%22type%22%3A%20%22Polygon%22%7D%2C%20%22id%22%3A%20%22VNM%22%2C%20%22properties%22%3A%20%7B%22name%22%3A%20%22Vietnam%22%7D%2C%20%22type%22%3A%20%22Feature%22%7D%2C%20%7B%22geometry%22%3A%20%7B%22coordinates%22%3A%20%5B%5B%5B%5B167.844877%2C%20-16.466333%5D%2C%20%5B167.515181%2C%20-16.59785%5D%2C%20%5B167.180008%2C%20-16.159995%5D%2C%20%5B167.216801%2C%20-15.891846%5D%2C%20%5B167.844877%2C%20-16.466333%5D%5D%5D%2C%20%5B%5B%5B167.107712%2C%20-14.93392%5D%2C%20%5B167.270028%2C%20-15.740021%5D%2C%20%5B167.001207%2C%20-15.614602%5D%2C%20%5B166.793158%2C%20-15.668811%5D%2C%20%5B166.649859%2C%20-15.392704%5D%2C%20%5B166.629137%2C%20-14.626497%5D%2C%20%5B167.107712%2C%20-14.93392%5D%5D%5D%5D%2C%20%22type%22%3A%20%22MultiPolygon%22%7D%2C%20%22id%22%3A%20%22VUT%22%2C%20%22properties%22%3A%20%7B%22name%22%3A%20%22Vanuatu%22%7D%2C%20%22type%22%3A%20%22Feature%22%7D%2C%20%7B%22geometry%22%3A%20%7B%22coordinates%22%3A%20%5B%5B%5B35.545665%2C%2032.393992%5D%2C%20%5B35.545252%2C%2031.782505%5D%2C%20%5B35.397561%2C%2031.489086%5D%2C%20%5B34.927408%2C%2031.353435%5D%2C%20%5B34.970507%2C%2031.616778%5D%2C%20%5B35.225892%2C%2031.754341%5D%2C%20%5B34.974641%2C%2031.866582%5D%2C%20%5B35.18393%2C%2032.532511%5D%2C%20%5B35.545665%2C%2032.393992%5D%5D%5D%2C%20%22type%22%3A%20%22Polygon%22%7D%2C%20%22id%22%3A%20%22PSE%22%2C%20%22properties%22%3A%20%7B%22name%22%3A%20%22West%20Bank%22%7D%2C%20%22type%22%3A%20%22Feature%22%7D%2C%20%7B%22geometry%22%3A%20%7B%22coordinates%22%3A%20%5B%5B%5B53.108573%2C%2016.651051%5D%2C%20%5B52.385206%2C%2016.382411%5D%2C%20%5B52.191729%2C%2015.938433%5D%2C%20%5B52.168165%2C%2015.59742%5D%2C%20%5B51.172515%2C%2015.17525%5D%2C%20%5B49.574576%2C%2014.708767%5D%2C%20%5B48.679231%2C%2014.003202%5D%2C%20%5B48.238947%2C%2013.94809%5D%2C%20%5B47.938914%2C%2014.007233%5D%2C%20%5B47.354454%2C%2013.59222%5D%2C%20%5B46.717076%2C%2013.399699%5D%2C%20%5B45.877593%2C%2013.347764%5D%2C%20%5B45.62505%2C%2013.290946%5D%2C%20%5B45.406459%2C%2013.026905%5D%2C%20%5B45.144356%2C%2012.953938%5D%2C%20%5B44.989533%2C%2012.699587%5D%2C%20%5B44.494576%2C%2012.721653%5D%2C%20%5B44.175113%2C%2012.58595%5D%2C%20%5B43.482959%2C%2012.6368%5D%2C%20%5B43.222871%2C%2013.22095%5D%2C%20%5B43.251448%2C%2013.767584%5D%2C%20%5B43.087944%2C%2014.06263%5D%2C%20%5B42.892245%2C%2014.802249%5D%2C%20%5B42.604873%2C%2015.213335%5D%2C%20%5B42.805015%2C%2015.261963%5D%2C%20%5B42.702438%2C%2015.718886%5D%2C%20%5B42.823671%2C%2015.911742%5D%2C%20%5B42.779332%2C%2016.347891%5D%2C%20%5B43.218375%2C%2016.66689%5D%2C%20%5B43.115798%2C%2017.08844%5D%2C%20%5B43.380794%2C%2017.579987%5D%2C%20%5B43.791519%2C%2017.319977%5D%2C%20%5B44.062613%2C%2017.410359%5D%2C%20%5B45.216651%2C%2017.433329%5D%2C%20%5B45.399999%2C%2017.333335%5D%2C%20%5B46.366659%2C%2017.233315%5D%2C%20%5B46.749994%2C%2017.283338%5D%2C%20%5B47.000005%2C%2016.949999%5D%2C%20%5B47.466695%2C%2017.116682%5D%2C%20%5B48.183344%2C%2018.166669%5D%2C%20%5B49.116672%2C%2018.616668%5D%2C%20%5B52.00001%2C%2019.000003%5D%2C%20%5B52.782184%2C%2017.349742%5D%2C%20%5B53.108573%2C%2016.651051%5D%5D%5D%2C%20%22type%22%3A%20%22Polygon%22%7D%2C%20%22id%22%3A%20%22YEM%22%2C%20%22properties%22%3A%20%7B%22name%22%3A%20%22Yemen%22%7D%2C%20%22type%22%3A%20%22Feature%22%7D%2C%20%7B%22geometry%22%3A%20%7B%22coordinates%22%3A%20%5B%5B%5B31.521001%2C%20-29.257387%5D%2C%20%5B31.325561%2C%20-29.401978%5D%2C%20%5B30.901763%2C%20-29.909957%5D%2C%20%5B30.622813%2C%20-30.423776%5D%2C%20%5B30.055716%2C%20-31.140269%5D%2C%20%5B28.925553%2C%20-32.172041%5D%2C%20%5B28.219756%2C%20-32.771953%5D%2C%20%5B27.464608%2C%20-33.226964%5D%2C%20%5B26.419452%2C%20-33.61495%5D%2C%20%5B25.909664%2C%20-33.66704%5D%2C%20%5B25.780628%2C%20-33.944646%5D%2C%20%5B25.172862%2C%20-33.796851%5D%2C%20%5B24.677853%2C%20-33.987176%5D%2C%20%5B23.594043%2C%20-33.794474%5D%2C%20%5B22.988189%2C%20-33.916431%5D%2C%20%5B22.574157%2C%20-33.864083%5D%2C%20%5B21.542799%2C%20-34.258839%5D%2C%20%5B20.689053%2C%20-34.417175%5D%2C%20%5B20.071261%2C%20-34.795137%5D%2C%20%5B19.616405%2C%20-34.819166%5D%2C%20%5B19.193278%2C%20-34.462599%5D%2C%20%5B18.855315%2C%20-34.444306%5D%2C%20%5B18.424643%2C%20-33.997873%5D%2C%20%5B18.377411%2C%20-34.136521%5D%2C%20%5B18.244499%2C%20-33.867752%5D%2C%20%5B18.25008%2C%20-33.281431%5D%2C%20%5B17.92519%2C%20-32.611291%5D%2C%20%5B18.24791%2C%20-32.429131%5D%2C%20%5B18.221762%2C%20-31.661633%5D%2C%20%5B17.566918%2C%20-30.725721%5D%2C%20%5B17.064416%2C%20-29.878641%5D%2C%20%5B17.062918%2C%20-29.875954%5D%2C%20%5B16.344977%2C%20-28.576705%5D%2C%20%5B16.824017%2C%20-28.082162%5D%2C%20%5B17.218929%2C%20-28.355943%5D%2C%20%5B17.387497%2C%20-28.783514%5D%2C%20%5B17.836152%2C%20-28.856378%5D%2C%20%5B18.464899%2C%20-29.045462%5D%2C%20%5B19.002127%2C%20-28.972443%5D%2C%20%5B19.894734%2C%20-28.461105%5D%2C%20%5B19.895768%2C%20-24.76779%5D%2C%20%5B20.165726%2C%20-24.917962%5D%2C%20%5B20.758609%2C%20-25.868136%5D%2C%20%5B20.66647%2C%20-26.477453%5D%2C%20%5B20.889609%2C%20-26.828543%5D%2C%20%5B21.605896%2C%20-26.726534%5D%2C%20%5B22.105969%2C%20-26.280256%5D%2C%20%5B22.579532%2C%20-25.979448%5D%2C%20%5B22.824271%2C%20-25.500459%5D%2C%20%5B23.312097%2C%20-25.26869%5D%2C%20%5B23.73357%2C%20-25.390129%5D%2C%20%5B24.211267%2C%20-25.670216%5D%2C%20%5B25.025171%2C%20-25.71967%5D%2C%20%5B25.664666%2C%20-25.486816%5D%2C%20%5B25.765849%2C%20-25.174845%5D%2C%20%5B25.941652%2C%20-24.696373%5D%2C%20%5B26.485753%2C%20-24.616327%5D%2C%20%5B26.786407%2C%20-24.240691%5D%2C%20%5B27.11941%2C%20-23.574323%5D%2C%20%5B28.017236%2C%20-22.827754%5D%2C%20%5B29.432188%2C%20-22.091313%5D%2C%20%5B29.839037%2C%20-22.102216%5D%2C%20%5B30.322883%2C%20-22.271612%5D%2C%20%5B30.659865%2C%20-22.151567%5D%2C%20%5B31.191409%2C%20-22.25151%5D%2C%20%5B31.670398%2C%20-23.658969%5D%2C%20%5B31.930589%2C%20-24.369417%5D%2C%20%5B31.752408%2C%20-25.484284%5D%2C%20%5B31.837778%2C%20-25.843332%5D%2C%20%5B31.333158%2C%20-25.660191%5D%2C%20%5B31.04408%2C%20-25.731452%5D%2C%20%5B30.949667%2C%20-26.022649%5D%2C%20%5B30.676609%2C%20-26.398078%5D%2C%20%5B30.685962%2C%20-26.743845%5D%2C%20%5B31.282773%2C%20-27.285879%5D%2C%20%5B31.86806%2C%20-27.177927%5D%2C%20%5B32.071665%2C%20-26.73382%5D%2C%20%5B32.83012%2C%20-26.742192%5D%2C%20%5B32.580265%2C%20-27.470158%5D%2C%20%5B32.462133%2C%20-28.301011%5D%2C%20%5B32.203389%2C%20-28.752405%5D%2C%20%5B31.521001%2C%20-29.257387%5D%5D%2C%20%5B%5B28.978263%2C%20-28.955597%5D%2C%20%5B28.5417%2C%20-28.647502%5D%2C%20%5B28.074338%2C%20-28.851469%5D%2C%20%5B27.532511%2C%20-29.242711%5D%2C%20%5B26.999262%2C%20-29.875954%5D%2C%20%5B27.749397%2C%20-30.645106%5D%2C%20%5B28.107205%2C%20-30.545732%5D%2C%20%5B28.291069%2C%20-30.226217%5D%2C%20%5B28.8484%2C%20-30.070051%5D%2C%20%5B29.018415%2C%20-29.743766%5D%2C%20%5B29.325166%2C%20-29.257387%5D%2C%20%5B28.978263%2C%20-28.955597%5D%5D%5D%2C%20%22type%22%3A%20%22Polygon%22%7D%2C%20%22id%22%3A%20%22ZAF%22%2C%20%22properties%22%3A%20%7B%22name%22%3A%20%22South%20Africa%22%7D%2C%20%22type%22%3A%20%22Feature%22%7D%2C%20%7B%22geometry%22%3A%20%7B%22coordinates%22%3A%20%5B%5B%5B32.759375%2C%20-9.230599%5D%2C%20%5B33.231388%2C%20-9.676722%5D%2C%20%5B33.485688%2C%20-10.525559%5D%2C%20%5B33.31531%2C%20-10.79655%5D%2C%20%5B33.114289%2C%20-11.607198%5D%2C%20%5B33.306422%2C%20-12.435778%5D%2C%20%5B32.991764%2C%20-12.783871%5D%2C%20%5B32.688165%2C%20-13.712858%5D%2C%20%5B33.214025%2C%20-13.97186%5D%2C%20%5B30.179481%2C%20-14.796099%5D%2C%20%5B30.274256%2C%20-15.507787%5D%2C%20%5B29.516834%2C%20-15.644678%5D%2C%20%5B28.947463%2C%20-16.043051%5D%2C%20%5B28.825869%2C%20-16.389749%5D%2C%20%5B28.467906%2C%20-16.4684%5D%2C%20%5B27.598243%2C%20-17.290831%5D%2C%20%5B27.044427%2C%20-17.938026%5D%2C%20%5B26.706773%2C%20-17.961229%5D%2C%20%5B26.381935%2C%20-17.846042%5D%2C%20%5B25.264226%2C%20-17.73654%5D%2C%20%5B25.084443%2C%20-17.661816%5D%2C%20%5B25.07695%2C%20-17.578823%5D%2C%20%5B24.682349%2C%20-17.353411%5D%2C%20%5B24.033862%2C%20-17.295843%5D%2C%20%5B23.215048%2C%20-17.523116%5D%2C%20%5B22.562478%2C%20-16.898451%5D%2C%20%5B21.887843%2C%20-16.08031%5D%2C%20%5B21.933886%2C%20-12.898437%5D%2C%20%5B24.016137%2C%20-12.911046%5D%2C%20%5B23.930922%2C%20-12.565848%5D%2C%20%5B24.079905%2C%20-12.191297%5D%2C%20%5B23.904154%2C%20-11.722282%5D%2C%20%5B24.017894%2C%20-11.237298%5D%2C%20%5B23.912215%2C%20-10.926826%5D%2C%20%5B24.257155%2C%20-10.951993%5D%2C%20%5B24.314516%2C%20-11.262826%5D%2C%20%5B24.78317%2C%20-11.238694%5D%2C%20%5B25.418118%2C%20-11.330936%5D%2C%20%5B25.75231%2C%20-11.784965%5D%2C%20%5B26.553088%2C%20-11.92444%5D%2C%20%5B27.16442%2C%20-11.608748%5D%2C%20%5B27.388799%2C%20-12.132747%5D%2C%20%5B28.155109%2C%20-12.272481%5D%2C%20%5B28.523562%2C%20-12.698604%5D%2C%20%5B28.934286%2C%20-13.248958%5D%2C%20%5B29.699614%2C%20-13.257227%5D%2C%20%5B29.616001%2C%20-12.178895%5D%2C%20%5B29.341548%2C%20-12.360744%5D%2C%20%5B28.642417%2C%20-11.971569%5D%2C%20%5B28.372253%2C%20-11.793647%5D%2C%20%5B28.49607%2C%20-10.789884%5D%2C%20%5B28.673682%2C%20-9.605925%5D%2C%20%5B28.449871%2C%20-9.164918%5D%2C%20%5B28.734867%2C%20-8.526559%5D%2C%20%5B29.002912%2C%20-8.407032%5D%2C%20%5B30.346086%2C%20-8.238257%5D%2C%20%5B30.740015%2C%20-8.340007%5D%2C%20%5B31.157751%2C%20-8.594579%5D%2C%20%5B31.556348%2C%20-8.762049%5D%2C%20%5B32.191865%2C%20-8.930359%5D%2C%20%5B32.759375%2C%20-9.230599%5D%5D%5D%2C%20%22type%22%3A%20%22Polygon%22%7D%2C%20%22id%22%3A%20%22ZMB%22%2C%20%22properties%22%3A%20%7B%22name%22%3A%20%22Zambia%22%7D%2C%20%22type%22%3A%20%22Feature%22%7D%2C%20%7B%22geometry%22%3A%20%7B%22coordinates%22%3A%20%5B%5B%5B31.191409%2C%20-22.25151%5D%2C%20%5B30.659865%2C%20-22.151567%5D%2C%20%5B30.322883%2C%20-22.271612%5D%2C%20%5B29.839037%2C%20-22.102216%5D%2C%20%5B29.432188%2C%20-22.091313%5D%2C%20%5B28.794656%2C%20-21.639454%5D%2C%20%5B28.02137%2C%20-21.485975%5D%2C%20%5B27.727228%2C%20-20.851802%5D%2C%20%5B27.724747%2C%20-20.499059%5D%2C%20%5B27.296505%2C%20-20.39152%5D%2C%20%5B26.164791%2C%20-19.293086%5D%2C%20%5B25.850391%2C%20-18.714413%5D%2C%20%5B25.649163%2C%20-18.536026%5D%2C%20%5B25.264226%2C%20-17.73654%5D%2C%20%5B26.381935%2C%20-17.846042%5D%2C%20%5B26.706773%2C%20-17.961229%5D%2C%20%5B27.044427%2C%20-17.938026%5D%2C%20%5B27.598243%2C%20-17.290831%5D%2C%20%5B28.467906%2C%20-16.4684%5D%2C%20%5B28.825869%2C%20-16.389749%5D%2C%20%5B28.947463%2C%20-16.043051%5D%2C%20%5B29.516834%2C%20-15.644678%5D%2C%20%5B30.274256%2C%20-15.507787%5D%2C%20%5B30.338955%2C%20-15.880839%5D%2C%20%5B31.173064%2C%20-15.860944%5D%2C%20%5B31.636498%2C%20-16.07199%5D%2C%20%5B31.852041%2C%20-16.319417%5D%2C%20%5B32.328239%2C%20-16.392074%5D%2C%20%5B32.847639%2C%20-16.713398%5D%2C%20%5B32.849861%2C%20-17.979057%5D%2C%20%5B32.654886%2C%20-18.67209%5D%2C%20%5B32.611994%2C%20-19.419383%5D%2C%20%5B32.772708%2C%20-19.715592%5D%2C%20%5B32.659743%2C%20-20.30429%5D%2C%20%5B32.508693%2C%20-20.395292%5D%2C%20%5B32.244988%2C%20-21.116489%5D%2C%20%5B31.191409%2C%20-22.25151%5D%5D%5D%2C%20%22type%22%3A%20%22Polygon%22%7D%2C%20%22id%22%3A%20%22ZWE%22%2C%20%22properties%22%3A%20%7B%22name%22%3A%20%22Zimbabwe%22%7D%2C%20%22type%22%3A%20%22Feature%22%7D%5D%2C%20%22type%22%3A%20%22FeatureCollection%22%7D%29%3B%0A%0A%20%20%20%20%20%20%20%20%0A%20%20%20%20%0A%20%20%20%20geo_json_1289e5352f7a4e0193e1a64e3f2744e7.bindTooltip%28%0A%20%20%20%20function%28layer%29%7B%0A%20%20%20%20let%20div%20%3D%20L.DomUtil.create%28%27div%27%29%3B%0A%20%20%20%20%0A%20%20%20%20let%20handleObject%20%3D%20feature%3D%3Etypeof%28feature%29%3D%3D%27object%27%20%3F%20JSON.stringify%28feature%29%20%3A%20feature%3B%0A%20%20%20%20let%20fields%20%3D%20%5B%22name%22%5D%3B%0A%20%20%20%20let%20aliases%20%3D%20%5B%22name%22%5D%3B%0A%20%20%20%20let%20table%20%3D%20%27%3Ctable%3E%27%20%2B%0A%20%20%20%20%20%20%20%20String%28%0A%20%20%20%20%20%20%20%20fields.map%28%0A%20%20%20%20%20%20%20%20%28v%2Ci%29%3D%3E%0A%20%20%20%20%20%20%20%20%60%3Ctr%3E%0A%20%20%20%20%20%20%20%20%20%20%20%20%3Ctd%3E%24%7BhandleObject%28layer.feature.properties%5Bv%5D%29%7D%3C/td%3E%0A%20%20%20%20%20%20%20%20%3C/tr%3E%60%29.join%28%27%27%29%29%0A%20%20%20%20%2B%27%3C/table%3E%27%3B%0A%20%20%20%20div.innerHTML%3Dtable%3B%0A%20%20%20%20%0A%20%20%20%20return%20div%0A%20%20%20%20%7D%0A%20%20%20%20%2C%7B%22className%22%3A%20%22foliumtooltip%22%2C%20%22sticky%22%3A%20true%7D%29%3B%0A%20%20%20%20%20%20%20%20%20%20%20%20%20%20%20%20%20%20%20%20%20%0A%20%20%20%20%0A%20%20%20%20var%20color_map_2f6080b0158e4a7586b4ed340d7580a9%20%3D%20%7B%7D%3B%0A%0A%20%20%20%20%0A%20%20%20%20color_map_2f6080b0158e4a7586b4ed340d7580a9.color%20%3D%20d3.scale.threshold%28%29%0A%20%20%20%20%20%20%20%20%20%20%20%20%20%20.domain%28%5B0.0%2C%20260.52104208416836%2C%20521.0420841683367%2C%20781.563126252505%2C%201042.0841683366734%2C%201302.6052104208418%2C%201563.12625250501%2C%201823.6472945891783%2C%202084.168336673347%2C%202344.689378757515%2C%202605.2104208416836%2C%202865.7314629258517%2C%203126.25250501002%2C%203386.7735470941884%2C%203647.2945891783565%2C%203907.815631262525%2C%204168.336673346694%2C%204428.857715430861%2C%204689.37875751503%2C%204949.899799599199%2C%205210.420841683367%2C%205470.941883767535%2C%205731.462925851703%2C%205991.983967935872%2C%206252.50501002004%2C%206513.026052104208%2C%206773.547094188377%2C%207034.068136272545%2C%207294.589178356713%2C%207555.110220440882%2C%207815.63126252505%2C%208076.152304609219%2C%208336.673346693387%2C%208597.194388777556%2C%208857.715430861723%2C%209118.236472945891%2C%209378.75751503006%2C%209639.278557114229%2C%209899.799599198397%2C%2010160.320641282566%2C%2010420.841683366734%2C%2010681.362725450901%2C%2010941.88376753507%2C%2011202.404809619238%2C%2011462.925851703407%2C%2011723.446893787575%2C%2011983.967935871744%2C%2012244.488977955913%2C%2012505.01002004008%2C%2012765.531062124248%2C%2013026.052104208416%2C%2013286.573146292585%2C%2013547.094188376754%2C%2013807.615230460922%2C%2014068.13627254509%2C%2014328.65731462926%2C%2014589.178356713426%2C%2014849.699398797595%2C%2015110.220440881763%2C%2015370.741482965932%2C%2015631.2625250501%2C%2015891.78356713427%2C%2016152.304609218438%2C%2016412.825651302606%2C%2016673.346693386775%2C%2016933.867735470943%2C%2017194.388777555112%2C%2017454.909819639277%2C%2017715.430861723446%2C%2017975.951903807614%2C%2018236.472945891783%2C%2018496.99398797595%2C%2018757.51503006012%2C%2019018.03607214429%2C%2019278.557114228457%2C%2019539.078156312626%2C%2019799.599198396794%2C%2020060.120240480963%2C%2020320.64128256513%2C%2020581.1623246493%2C%2020841.68336673347%2C%2021102.204408817634%2C%2021362.725450901802%2C%2021623.24649298597%2C%2021883.76753507014%2C%2022144.288577154308%2C%2022404.809619238476%2C%2022665.330661322645%2C%2022925.851703406814%2C%2023186.372745490982%2C%2023446.89378757515%2C%2023707.41482965932%2C%2023967.935871743488%2C%2024228.456913827657%2C%2024488.977955911825%2C%2024749.498997995994%2C%2025010.02004008016%2C%2025270.541082164327%2C%2025531.062124248496%2C%2025791.583166332664%2C%2026052.104208416833%2C%2026312.625250501%2C%2026573.14629258517%2C%2026833.66733466934%2C%2027094.188376753507%2C%2027354.709418837676%2C%2027615.230460921844%2C%2027875.751503006013%2C%2028136.27254509018%2C%2028396.79358717435%2C%2028657.31462925852%2C%2028917.835671342684%2C%2029178.356713426852%2C%2029438.87775551102%2C%2029699.39879759519%2C%2029959.919839679358%2C%2030220.440881763527%2C%2030480.961923847695%2C%2030741.482965931864%2C%2031002.004008016032%2C%2031262.5250501002%2C%2031523.04609218437%2C%2031783.56713426854%2C%2032044.088176352707%2C%2032304.609218436875%2C%2032565.13026052104%2C%2032825.65130260521%2C%2033086.17234468938%2C%2033346.69338677355%2C%2033607.21442885772%2C%2033867.73547094189%2C%2034128.256513026055%2C%2034388.777555110224%2C%2034649.298597194385%2C%2034909.819639278554%2C%2035170.34068136272%2C%2035430.86172344689%2C%2035691.38276553106%2C%2035951.90380761523%2C%2036212.4248496994%2C%2036472.945891783565%2C%2036733.466933867734%2C%2036993.9879759519%2C%2037254.50901803607%2C%2037515.03006012024%2C%2037775.55110220441%2C%2038036.07214428858%2C%2038296.593186372746%2C%2038557.114228456914%2C%2038817.63527054108%2C%2039078.15631262525%2C%2039338.67735470942%2C%2039599.19839679359%2C%2039859.71943887776%2C%2040120.240480961926%2C%2040380.761523046094%2C%2040641.28256513026%2C%2040901.80360721443%2C%2041162.3246492986%2C%2041422.84569138277%2C%2041683.36673346694%2C%2041943.887775551106%2C%2042204.40881763527%2C%2042464.929859719436%2C%2042725.450901803604%2C%2042985.97194388777%2C%2043246.49298597194%2C%2043507.01402805611%2C%2043767.53507014028%2C%2044028.05611222445%2C%2044288.577154308616%2C%2044549.098196392784%2C%2044809.61923847695%2C%2045070.14028056112%2C%2045330.66132264529%2C%2045591.18236472946%2C%2045851.70340681363%2C%2046112.224448897796%2C%2046372.745490981964%2C%2046633.26653306613%2C%2046893.7875751503%2C%2047154.30861723447%2C%2047414.82965931864%2C%2047675.35070140281%2C%2047935.871743486976%2C%2048196.392785571144%2C%2048456.91382765531%2C%2048717.43486973948%2C%2048977.95591182365%2C%2049238.47695390782%2C%2049498.99799599199%2C%2049759.51903807615%2C%2050020.04008016032%2C%2050280.561122244486%2C%2050541.082164328654%2C%2050801.60320641282%2C%2051062.12424849699%2C%2051322.64529058116%2C%2051583.16633266533%2C%2051843.6873747495%2C%2052104.208416833666%2C%2052364.729458917835%2C%2052625.250501002%2C%2052885.77154308617%2C%2053146.29258517034%2C%2053406.81362725451%2C%2053667.33466933868%2C%2053927.855711422846%2C%2054188.376753507015%2C%2054448.89779559118%2C%2054709.41883767535%2C%2054969.93987975952%2C%2055230.46092184369%2C%2055490.98196392786%2C%2055751.503006012026%2C%2056012.024048096195%2C%2056272.54509018036%2C%2056533.06613226453%2C%2056793.5871743487%2C%2057054.10821643287%2C%2057314.62925851704%2C%2057575.1503006012%2C%2057835.67134268537%2C%2058096.192384769536%2C%2058356.713426853705%2C%2058617.23446893787%2C%2058877.75551102204%2C%2059138.27655310621%2C%2059398.79759519038%2C%2059659.31863727455%2C%2059919.839679358716%2C%2060180.360721442885%2C%2060440.88176352705%2C%2060701.40280561122%2C%2060961.92384769539%2C%2061222.44488977956%2C%2061482.96593186373%2C%2061743.486973947896%2C%2062004.008016032065%2C%2062264.52905811623%2C%2062525.0501002004%2C%2062785.57114228457%2C%2063046.09218436874%2C%2063306.61322645291%2C%2063567.13426853708%2C%2063827.655310621245%2C%2064088.17635270541%2C%2064348.69739478958%2C%2064609.21843687375%2C%2064869.73947895792%2C%2065130.26052104208%2C%2065390.78156312625%2C%2065651.30260521043%2C%2065911.82364729459%2C%2066172.34468937876%2C%2066432.86573146292%2C%2066693.3867735471%2C%2066953.90781563126%2C%2067214.42885771544%2C%2067474.9498997996%2C%2067735.47094188377%2C%2067995.99198396794%2C%2068256.51302605211%2C%2068517.03406813627%2C%2068777.55511022045%2C%2069038.07615230461%2C%2069298.59719438877%2C%2069559.11823647295%2C%2069819.63927855711%2C%2070080.16032064128%2C%2070340.68136272545%2C%2070601.20240480962%2C%2070861.72344689378%2C%2071122.24448897796%2C%2071382.76553106212%2C%2071643.2865731463%2C%2071903.80761523046%2C%2072164.32865731463%2C%2072424.8496993988%2C%2072685.37074148297%2C%2072945.89178356713%2C%2073206.4128256513%2C%2073466.93386773547%2C%2073727.45490981964%2C%2073987.9759519038%2C%2074248.49699398798%2C%2074509.01803607214%2C%2074769.53907815632%2C%2075030.06012024048%2C%2075290.58116232466%2C%2075551.10220440882%2C%2075811.62324649299%2C%2076072.14428857715%2C%2076332.66533066133%2C%2076593.18637274549%2C%2076853.70741482965%2C%2077114.22845691383%2C%2077374.74949899799%2C%2077635.27054108217%2C%2077895.79158316633%2C%2078156.3126252505%2C%2078416.83366733466%2C%2078677.35470941884%2C%2078937.875751503%2C%2079198.39679358718%2C%2079458.91783567134%2C%2079719.43887775551%2C%2079979.95991983968%2C%2080240.48096192385%2C%2080501.00200400801%2C%2080761.52304609219%2C%2081022.04408817635%2C%2081282.56513026053%2C%2081543.08617234469%2C%2081803.60721442886%2C%2082064.12825651302%2C%2082324.6492985972%2C%2082585.17034068136%2C%2082845.69138276554%2C%2083106.2124248497%2C%2083366.73346693387%2C%2083627.25450901804%2C%2083887.77555110221%2C%2084148.29659318637%2C%2084408.81763527053%2C%2084669.33867735471%2C%2084929.85971943887%2C%2085190.38076152305%2C%2085450.90180360721%2C%2085711.42284569138%2C%2085971.94388777555%2C%2086232.46492985972%2C%2086492.98597194388%2C%2086753.50701402806%2C%2087014.02805611222%2C%2087274.5490981964%2C%2087535.07014028056%2C%2087795.59118236473%2C%2088056.1122244489%2C%2088316.63326653307%2C%2088577.15430861723%2C%2088837.67535070141%2C%2089098.19639278557%2C%2089358.71743486974%2C%2089619.2384769539%2C%2089879.75951903808%2C%2090140.28056112224%2C%2090400.80160320642%2C%2090661.32264529058%2C%2090921.84368737476%2C%2091182.36472945892%2C%2091442.8857715431%2C%2091703.40681362725%2C%2091963.92785571142%2C%2092224.44889779559%2C%2092484.96993987975%2C%2092745.49098196393%2C%2093006.01202404809%2C%2093266.53306613227%2C%2093527.05410821643%2C%2093787.5751503006%2C%2094048.09619238476%2C%2094308.61723446894%2C%2094569.1382765531%2C%2094829.65931863728%2C%2095090.18036072144%2C%2095350.70140280561%2C%2095611.22244488978%2C%2095871.74348697395%2C%2096132.26452905811%2C%2096392.78557114229%2C%2096653.30661322645%2C%2096913.82765531063%2C%2097174.34869739479%2C%2097434.86973947896%2C%2097695.39078156312%2C%2097955.9118236473%2C%2098216.43286573146%2C%2098476.95390781564%2C%2098737.4749498998%2C%2098997.99599198397%2C%2099258.51703406814%2C%2099519.0380761523%2C%2099779.55911823647%2C%20100040.08016032063%2C%20100300.60120240481%2C%20100561.12224448897%2C%20100821.64328657315%2C%20101082.16432865731%2C%20101342.68537074148%2C%20101603.20641282565%2C%20101863.72745490982%2C%20102124.24849699398%2C%20102384.76953907816%2C%20102645.29058116232%2C%20102905.8116232465%2C%20103166.33266533066%2C%20103426.85370741483%2C%20103687.374749499%2C%20103947.89579158317%2C%20104208.41683366733%2C%20104468.93787575151%2C%20104729.45891783567%2C%20104989.97995991984%2C%20105250.501002004%2C%20105511.02204408818%2C%20105771.54308617234%2C%20106032.06412825652%2C%20106292.58517034068%2C%20106553.10621242486%2C%20106813.62725450902%2C%20107074.14829659318%2C%20107334.66933867735%2C%20107595.19038076152%2C%20107855.71142284569%2C%20108116.23246492985%2C%20108376.75350701403%2C%20108637.27454909819%2C%20108897.79559118237%2C%20109158.31663326653%2C%20109418.8376753507%2C%20109679.35871743486%2C%20109939.87975951904%2C%20110200.4008016032%2C%20110460.92184368738%2C%20110721.44288577154%2C%20110981.96392785572%2C%20111242.48496993988%2C%20111503.00601202405%2C%20111763.52705410821%2C%20112024.04809619239%2C%20112284.56913827655%2C%20112545.09018036073%2C%20112805.61122244489%2C%20113066.13226452906%2C%20113326.65330661323%2C%20113587.1743486974%2C%20113847.69539078156%2C%20114108.21643286574%2C%20114368.7374749499%2C%20114629.25851703408%2C%20114889.77955911824%2C%20115150.3006012024%2C%20115410.82164328657%2C%20115671.34268537074%2C%20115931.86372745491%2C%20116192.38476953907%2C%20116452.90581162325%2C%20116713.42685370741%2C%20116973.94789579159%2C%20117234.46893787575%2C%20117494.98997995992%2C%20117755.51102204408%2C%20118016.03206412826%2C%20118276.55310621242%2C%20118537.0741482966%2C%20118797.59519038076%2C%20119058.11623246493%2C%20119318.6372745491%2C%20119579.15831663327%2C%20119839.67935871743%2C%20120100.20040080161%2C%20120360.72144288577%2C%20120621.24248496995%2C%20120881.7635270541%2C%20121142.28456913828%2C%20121402.80561122244%2C%20121663.32665330662%2C%20121923.84769539078%2C%20122184.36873747496%2C%20122444.88977955912%2C%20122705.41082164328%2C%20122965.93186372746%2C%20123226.45290581162%2C%20123486.97394789579%2C%20123747.49498997995%2C%20124008.01603206413%2C%20124268.53707414829%2C%20124529.05811623247%2C%20124789.57915831663%2C%20125050.1002004008%2C%20125310.62124248497%2C%20125571.14228456914%2C%20125831.6633266533%2C%20126092.18436873748%2C%20126352.70541082164%2C%20126613.22645290582%2C%20126873.74749498998%2C%20127134.26853707415%2C%20127394.78957915831%2C%20127655.31062124249%2C%20127915.83166332665%2C%20128176.35270541083%2C%20128436.87374749499%2C%20128697.39478957916%2C%20128957.91583166333%2C%20129218.4368737475%2C%20129478.95791583166%2C%20129739.47895791584%2C%20130000.0%5D%29%0A%20%20%20%20%20%20%20%20%20%20%20%20%20%20.range%28%5B%27%23fee5d9ff%27%2C%20%27%23fee5d9ff%27%2C%20%27%23fee5d9ff%27%2C%20%27%23fee5d9ff%27%2C%20%27%23fee5d9ff%27%2C%20%27%23fee5d9ff%27%2C%20%27%23fee5d9ff%27%2C%20%27%23fee5d9ff%27%2C%20%27%23fee5d9ff%27%2C%20%27%23fee5d9ff%27%2C%20%27%23fee5d9ff%27%2C%20%27%23fee5d9ff%27%2C%20%27%23fee5d9ff%27%2C%20%27%23fee5d9ff%27%2C%20%27%23fee5d9ff%27%2C%20%27%23fee5d9ff%27%2C%20%27%23fee5d9ff%27%2C%20%27%23fee5d9ff%27%2C%20%27%23fee5d9ff%27%2C%20%27%23fee5d9ff%27%2C%20%27%23fee5d9ff%27%2C%20%27%23fee5d9ff%27%2C%20%27%23fee5d9ff%27%2C%20%27%23fee5d9ff%27%2C%20%27%23fee5d9ff%27%2C%20%27%23fee5d9ff%27%2C%20%27%23fee5d9ff%27%2C%20%27%23fee5d9ff%27%2C%20%27%23fee5d9ff%27%2C%20%27%23fee5d9ff%27%2C%20%27%23fee5d9ff%27%2C%20%27%23fcbba1ff%27%2C%20%27%23fcbba1ff%27%2C%20%27%23fcbba1ff%27%2C%20%27%23fcbba1ff%27%2C%20%27%23fcbba1ff%27%2C%20%27%23fcbba1ff%27%2C%20%27%23fcbba1ff%27%2C%20%27%23fcbba1ff%27%2C%20%27%23fcbba1ff%27%2C%20%27%23fcbba1ff%27%2C%20%27%23fcbba1ff%27%2C%20%27%23fcbba1ff%27%2C%20%27%23fcbba1ff%27%2C%20%27%23fcbba1ff%27%2C%20%27%23fcbba1ff%27%2C%20%27%23fcbba1ff%27%2C%20%27%23fcbba1ff%27%2C%20%27%23fcbba1ff%27%2C%20%27%23fcbba1ff%27%2C%20%27%23fcbba1ff%27%2C%20%27%23fcbba1ff%27%2C%20%27%23fcbba1ff%27%2C%20%27%23fcbba1ff%27%2C%20%27%23fcbba1ff%27%2C%20%27%23fcbba1ff%27%2C%20%27%23fcbba1ff%27%2C%20%27%23fcbba1ff%27%2C%20%27%23fcbba1ff%27%2C%20%27%23fcbba1ff%27%2C%20%27%23fcbba1ff%27%2C%20%27%23fcbba1ff%27%2C%20%27%23fcbba1ff%27%2C%20%27%23fcbba1ff%27%2C%20%27%23fcbba1ff%27%2C%20%27%23fcbba1ff%27%2C%20%27%23fcbba1ff%27%2C%20%27%23fcbba1ff%27%2C%20%27%23fcbba1ff%27%2C%20%27%23fcbba1ff%27%2C%20%27%23fcbba1ff%27%2C%20%27%23fcbba1ff%27%2C%20%27%23fcbba1ff%27%2C%20%27%23fcbba1ff%27%2C%20%27%23fcbba1ff%27%2C%20%27%23fcbba1ff%27%2C%20%27%23fcbba1ff%27%2C%20%27%23fc9272ff%27%2C%20%27%23fc9272ff%27%2C%20%27%23fc9272ff%27%2C%20%27%23fc9272ff%27%2C%20%27%23fc9272ff%27%2C%20%27%23fc9272ff%27%2C%20%27%23fc9272ff%27%2C%20%27%23fc9272ff%27%2C%20%27%23fc9272ff%27%2C%20%27%23fc9272ff%27%2C%20%27%23fc9272ff%27%2C%20%27%23fc9272ff%27%2C%20%27%23fc9272ff%27%2C%20%27%23fc9272ff%27%2C%20%27%23fc9272ff%27%2C%20%27%23fc9272ff%27%2C%20%27%23fc9272ff%27%2C%20%27%23fc9272ff%27%2C%20%27%23fc9272ff%27%2C%20%27%23fc9272ff%27%2C%20%27%23fc9272ff%27%2C%20%27%23fc9272ff%27%2C%20%27%23fc9272ff%27%2C%20%27%23fc9272ff%27%2C%20%27%23fc9272ff%27%2C%20%27%23fc9272ff%27%2C%20%27%23fc9272ff%27%2C%20%27%23fc9272ff%27%2C%20%27%23fc9272ff%27%2C%20%27%23fc9272ff%27%2C%20%27%23fc9272ff%27%2C%20%27%23fc9272ff%27%2C%20%27%23fc9272ff%27%2C%20%27%23fc9272ff%27%2C%20%27%23fc9272ff%27%2C%20%27%23fc9272ff%27%2C%20%27%23fc9272ff%27%2C%20%27%23fc9272ff%27%2C%20%27%23fc9272ff%27%2C%20%27%23fc9272ff%27%2C%20%27%23fc9272ff%27%2C%20%27%23fc9272ff%27%2C%20%27%23fc9272ff%27%2C%20%27%23fc9272ff%27%2C%20%27%23fc9272ff%27%2C%20%27%23fc9272ff%27%2C%20%27%23fc9272ff%27%2C%20%27%23fc9272ff%27%2C%20%27%23fc9272ff%27%2C%20%27%23fc9272ff%27%2C%20%27%23fc9272ff%27%2C%20%27%23fc9272ff%27%2C%20%27%23fc9272ff%27%2C%20%27%23fc9272ff%27%2C%20%27%23fc9272ff%27%2C%20%27%23fc9272ff%27%2C%20%27%23fc9272ff%27%2C%20%27%23fc9272ff%27%2C%20%27%23fb6a4aff%27%2C%20%27%23fb6a4aff%27%2C%20%27%23fb6a4aff%27%2C%20%27%23fb6a4aff%27%2C%20%27%23fb6a4aff%27%2C%20%27%23fb6a4aff%27%2C%20%27%23fb6a4aff%27%2C%20%27%23fb6a4aff%27%2C%20%27%23fb6a4aff%27%2C%20%27%23fb6a4aff%27%2C%20%27%23fb6a4aff%27%2C%20%27%23fb6a4aff%27%2C%20%27%23fb6a4aff%27%2C%20%27%23fb6a4aff%27%2C%20%27%23fb6a4aff%27%2C%20%27%23fb6a4aff%27%2C%20%27%23fb6a4aff%27%2C%20%27%23fb6a4aff%27%2C%20%27%23fb6a4aff%27%2C%20%27%23fb6a4aff%27%2C%20%27%23fb6a4aff%27%2C%20%27%23fb6a4aff%27%2C%20%27%23fb6a4aff%27%2C%20%27%23fb6a4aff%27%2C%20%27%23fb6a4aff%27%2C%20%27%23fb6a4aff%27%2C%20%27%23fb6a4aff%27%2C%20%27%23fb6a4aff%27%2C%20%27%23fb6a4aff%27%2C%20%27%23fb6a4aff%27%2C%20%27%23fb6a4aff%27%2C%20%27%23fb6a4aff%27%2C%20%27%23fb6a4aff%27%2C%20%27%23fb6a4aff%27%2C%20%27%23fb6a4aff%27%2C%20%27%23fb6a4aff%27%2C%20%27%23fb6a4aff%27%2C%20%27%23fb6a4aff%27%2C%20%27%23fb6a4aff%27%2C%20%27%23fb6a4aff%27%2C%20%27%23fb6a4aff%27%2C%20%27%23fb6a4aff%27%2C%20%27%23fb6a4aff%27%2C%20%27%23fb6a4aff%27%2C%20%27%23fb6a4aff%27%2C%20%27%23fb6a4aff%27%2C%20%27%23fb6a4aff%27%2C%20%27%23fb6a4aff%27%2C%20%27%23fb6a4aff%27%2C%20%27%23fb6a4aff%27%2C%20%27%23fb6a4aff%27%2C%20%27%23fb6a4aff%27%2C%20%27%23fb6a4aff%27%2C%20%27%23fb6a4aff%27%2C%20%27%23fb6a4aff%27%2C%20%27%23fb6a4aff%27%2C%20%27%23fb6a4aff%27%2C%20%27%23de2d26ff%27%2C%20%27%23de2d26ff%27%2C%20%27%23de2d26ff%27%2C%20%27%23de2d26ff%27%2C%20%27%23de2d26ff%27%2C%20%27%23de2d26ff%27%2C%20%27%23de2d26ff%27%2C%20%27%23de2d26ff%27%2C%20%27%23de2d26ff%27%2C%20%27%23de2d26ff%27%2C%20%27%23de2d26ff%27%2C%20%27%23de2d26ff%27%2C%20%27%23de2d26ff%27%2C%20%27%23de2d26ff%27%2C%20%27%23de2d26ff%27%2C%20%27%23de2d26ff%27%2C%20%27%23de2d26ff%27%2C%20%27%23de2d26ff%27%2C%20%27%23de2d26ff%27%2C%20%27%23de2d26ff%27%2C%20%27%23de2d26ff%27%2C%20%27%23de2d26ff%27%2C%20%27%23de2d26ff%27%2C%20%27%23de2d26ff%27%2C%20%27%23de2d26ff%27%2C%20%27%23de2d26ff%27%2C%20%27%23de2d26ff%27%2C%20%27%23de2d26ff%27%2C%20%27%23de2d26ff%27%2C%20%27%23de2d26ff%27%2C%20%27%23de2d26ff%27%2C%20%27%23de2d26ff%27%2C%20%27%23de2d26ff%27%2C%20%27%23de2d26ff%27%2C%20%27%23de2d26ff%27%2C%20%27%23de2d26ff%27%2C%20%27%23de2d26ff%27%2C%20%27%23de2d26ff%27%2C%20%27%23de2d26ff%27%2C%20%27%23de2d26ff%27%2C%20%27%23de2d26ff%27%2C%20%27%23de2d26ff%27%2C%20%27%23de2d26ff%27%2C%20%27%23de2d26ff%27%2C%20%27%23de2d26ff%27%2C%20%27%23de2d26ff%27%2C%20%27%23de2d26ff%27%2C%20%27%23de2d26ff%27%2C%20%27%23de2d26ff%27%2C%20%27%23de2d26ff%27%2C%20%27%23de2d26ff%27%2C%20%27%23de2d26ff%27%2C%20%27%23de2d26ff%27%2C%20%27%23de2d26ff%27%2C%20%27%23de2d26ff%27%2C%20%27%23de2d26ff%27%2C%20%27%23de2d26ff%27%2C%20%27%23de2d26ff%27%2C%20%27%23de2d26ff%27%2C%20%27%23de2d26ff%27%2C%20%27%23de2d26ff%27%2C%20%27%23de2d26ff%27%2C%20%27%23de2d26ff%27%2C%20%27%23de2d26ff%27%2C%20%27%23de2d26ff%27%2C%20%27%23de2d26ff%27%2C%20%27%23de2d26ff%27%2C%20%27%23de2d26ff%27%2C%20%27%23de2d26ff%27%2C%20%27%23de2d26ff%27%2C%20%27%23de2d26ff%27%2C%20%27%23de2d26ff%27%2C%20%27%23de2d26ff%27%2C%20%27%23de2d26ff%27%2C%20%27%23de2d26ff%27%2C%20%27%23de2d26ff%27%2C%20%27%23de2d26ff%27%2C%20%27%23a50f15ff%27%2C%20%27%23a50f15ff%27%2C%20%27%23a50f15ff%27%2C%20%27%23a50f15ff%27%2C%20%27%23a50f15ff%27%2C%20%27%23a50f15ff%27%2C%20%27%23a50f15ff%27%2C%20%27%23a50f15ff%27%2C%20%27%23a50f15ff%27%2C%20%27%23a50f15ff%27%2C%20%27%23a50f15ff%27%2C%20%27%23a50f15ff%27%2C%20%27%23a50f15ff%27%2C%20%27%23a50f15ff%27%2C%20%27%23a50f15ff%27%2C%20%27%23a50f15ff%27%2C%20%27%23a50f15ff%27%2C%20%27%23a50f15ff%27%2C%20%27%23a50f15ff%27%2C%20%27%23a50f15ff%27%2C%20%27%23a50f15ff%27%2C%20%27%23a50f15ff%27%2C%20%27%23a50f15ff%27%2C%20%27%23a50f15ff%27%2C%20%27%23a50f15ff%27%2C%20%27%23a50f15ff%27%2C%20%27%23a50f15ff%27%2C%20%27%23a50f15ff%27%2C%20%27%23a50f15ff%27%2C%20%27%23a50f15ff%27%2C%20%27%23a50f15ff%27%2C%20%27%23a50f15ff%27%2C%20%27%23a50f15ff%27%2C%20%27%23a50f15ff%27%2C%20%27%23a50f15ff%27%2C%20%27%23a50f15ff%27%2C%20%27%23a50f15ff%27%2C%20%27%23a50f15ff%27%2C%20%27%23a50f15ff%27%2C%20%27%23a50f15ff%27%2C%20%27%23a50f15ff%27%2C%20%27%23a50f15ff%27%2C%20%27%23a50f15ff%27%2C%20%27%23a50f15ff%27%2C%20%27%23a50f15ff%27%2C%20%27%23a50f15ff%27%2C%20%27%23a50f15ff%27%2C%20%27%23a50f15ff%27%2C%20%27%23a50f15ff%27%2C%20%27%23a50f15ff%27%2C%20%27%23a50f15ff%27%2C%20%27%23a50f15ff%27%2C%20%27%23a50f15ff%27%2C%20%27%23a50f15ff%27%2C%20%27%23a50f15ff%27%2C%20%27%23a50f15ff%27%2C%20%27%23a50f15ff%27%2C%20%27%23a50f15ff%27%2C%20%27%23a50f15ff%27%2C%20%27%23a50f15ff%27%2C%20%27%23a50f15ff%27%2C%20%27%23a50f15ff%27%2C%20%27%23a50f15ff%27%2C%20%27%23a50f15ff%27%2C%20%27%23a50f15ff%27%2C%20%27%23a50f15ff%27%2C%20%27%23a50f15ff%27%2C%20%27%23a50f15ff%27%2C%20%27%23a50f15ff%27%2C%20%27%23a50f15ff%27%2C%20%27%23a50f15ff%27%2C%20%27%23a50f15ff%27%2C%20%27%23a50f15ff%27%2C%20%27%23a50f15ff%27%2C%20%27%23a50f15ff%27%2C%20%27%23a50f15ff%27%2C%20%27%23a50f15ff%27%2C%20%27%23a50f15ff%27%2C%20%27%23a50f15ff%27%2C%20%27%23a50f15ff%27%2C%20%27%23a50f15ff%27%2C%20%27%23a50f15ff%27%2C%20%27%23a50f15ff%27%2C%20%27%23a50f15ff%27%2C%20%27%23a50f15ff%27%2C%20%27%23a50f15ff%27%2C%20%27%23a50f15ff%27%2C%20%27%23a50f15ff%27%2C%20%27%23a50f15ff%27%2C%20%27%23a50f15ff%27%2C%20%27%23a50f15ff%27%2C%20%27%23a50f15ff%27%2C%20%27%23a50f15ff%27%2C%20%27%23a50f15ff%27%2C%20%27%23a50f15ff%27%2C%20%27%23a50f15ff%27%2C%20%27%23a50f15ff%27%2C%20%27%23a50f15ff%27%2C%20%27%23a50f15ff%27%2C%20%27%23a50f15ff%27%2C%20%27%23a50f15ff%27%2C%20%27%23a50f15ff%27%2C%20%27%23a50f15ff%27%2C%20%27%23a50f15ff%27%2C%20%27%23a50f15ff%27%2C%20%27%23a50f15ff%27%2C%20%27%23a50f15ff%27%2C%20%27%23a50f15ff%27%2C%20%27%23a50f15ff%27%2C%20%27%23a50f15ff%27%2C%20%27%23a50f15ff%27%2C%20%27%23a50f15ff%27%2C%20%27%23a50f15ff%27%2C%20%27%23a50f15ff%27%2C%20%27%23a50f15ff%27%2C%20%27%23a50f15ff%27%2C%20%27%23a50f15ff%27%2C%20%27%23a50f15ff%27%2C%20%27%23a50f15ff%27%2C%20%27%23a50f15ff%27%2C%20%27%23a50f15ff%27%2C%20%27%23a50f15ff%27%2C%20%27%23a50f15ff%27%2C%20%27%23a50f15ff%27%2C%20%27%23a50f15ff%27%2C%20%27%23a50f15ff%27%2C%20%27%23a50f15ff%27%2C%20%27%23a50f15ff%27%2C%20%27%23a50f15ff%27%2C%20%27%23a50f15ff%27%2C%20%27%23a50f15ff%27%2C%20%27%23a50f15ff%27%2C%20%27%23a50f15ff%27%2C%20%27%23a50f15ff%27%2C%20%27%23a50f15ff%27%2C%20%27%23a50f15ff%27%2C%20%27%23a50f15ff%27%2C%20%27%23a50f15ff%27%2C%20%27%23a50f15ff%27%2C%20%27%23a50f15ff%27%2C%20%27%23a50f15ff%27%2C%20%27%23a50f15ff%27%2C%20%27%23a50f15ff%27%2C%20%27%23a50f15ff%27%2C%20%27%23a50f15ff%27%2C%20%27%23a50f15ff%27%2C%20%27%23a50f15ff%27%2C%20%27%23a50f15ff%27%2C%20%27%23a50f15ff%27%2C%20%27%23a50f15ff%27%2C%20%27%23a50f15ff%27%2C%20%27%23a50f15ff%27%2C%20%27%23a50f15ff%27%2C%20%27%23a50f15ff%27%2C%20%27%23a50f15ff%27%2C%20%27%23a50f15ff%27%2C%20%27%23a50f15ff%27%2C%20%27%23a50f15ff%27%2C%20%27%23a50f15ff%27%2C%20%27%23a50f15ff%27%2C%20%27%23a50f15ff%27%2C%20%27%23a50f15ff%27%2C%20%27%23a50f15ff%27%2C%20%27%23a50f15ff%27%2C%20%27%23a50f15ff%27%2C%20%27%23a50f15ff%27%2C%20%27%23a50f15ff%27%2C%20%27%23a50f15ff%27%2C%20%27%23a50f15ff%27%2C%20%27%23a50f15ff%27%2C%20%27%23a50f15ff%27%2C%20%27%23a50f15ff%27%2C%20%27%23a50f15ff%27%2C%20%27%23a50f15ff%27%2C%20%27%23a50f15ff%27%2C%20%27%23a50f15ff%27%2C%20%27%23a50f15ff%27%2C%20%27%23a50f15ff%27%2C%20%27%23a50f15ff%27%2C%20%27%23a50f15ff%27%2C%20%27%23a50f15ff%27%2C%20%27%23a50f15ff%27%2C%20%27%23a50f15ff%27%2C%20%27%23a50f15ff%27%2C%20%27%23a50f15ff%27%2C%20%27%23a50f15ff%27%2C%20%27%23a50f15ff%27%2C%20%27%23a50f15ff%27%2C%20%27%23a50f15ff%27%2C%20%27%23a50f15ff%27%2C%20%27%23a50f15ff%27%2C%20%27%23a50f15ff%27%2C%20%27%23a50f15ff%27%2C%20%27%23a50f15ff%27%2C%20%27%23a50f15ff%27%2C%20%27%23a50f15ff%27%2C%20%27%23a50f15ff%27%2C%20%27%23a50f15ff%27%2C%20%27%23a50f15ff%27%2C%20%27%23a50f15ff%27%2C%20%27%23a50f15ff%27%2C%20%27%23a50f15ff%27%2C%20%27%23a50f15ff%27%2C%20%27%23a50f15ff%27%2C%20%27%23a50f15ff%27%2C%20%27%23a50f15ff%27%2C%20%27%23a50f15ff%27%2C%20%27%23a50f15ff%27%2C%20%27%23a50f15ff%27%2C%20%27%23a50f15ff%27%2C%20%27%23a50f15ff%27%2C%20%27%23a50f15ff%27%2C%20%27%23a50f15ff%27%2C%20%27%23a50f15ff%27%2C%20%27%23a50f15ff%27%2C%20%27%23a50f15ff%27%2C%20%27%23a50f15ff%27%2C%20%27%23a50f15ff%27%2C%20%27%23a50f15ff%27%2C%20%27%23a50f15ff%27%2C%20%27%23a50f15ff%27%2C%20%27%23a50f15ff%27%2C%20%27%23a50f15ff%27%2C%20%27%23a50f15ff%27%2C%20%27%23a50f15ff%27%2C%20%27%23a50f15ff%27%2C%20%27%23a50f15ff%27%2C%20%27%23a50f15ff%27%2C%20%27%23a50f15ff%27%2C%20%27%23a50f15ff%27%2C%20%27%23a50f15ff%27%5D%29%3B%0A%20%20%20%20%0A%0A%20%20%20%20color_map_2f6080b0158e4a7586b4ed340d7580a9.x%20%3D%20d3.scale.linear%28%29%0A%20%20%20%20%20%20%20%20%20%20%20%20%20%20.domain%28%5B0.0%2C%20130000.0%5D%29%0A%20%20%20%20%20%20%20%20%20%20%20%20%20%20.range%28%5B0%2C%20400%5D%29%3B%0A%0A%20%20%20%20color_map_2f6080b0158e4a7586b4ed340d7580a9.legend%20%3D%20L.control%28%7Bposition%3A%20%27topright%27%7D%29%3B%0A%20%20%20%20color_map_2f6080b0158e4a7586b4ed340d7580a9.legend.onAdd%20%3D%20function%20%28map%29%20%7Bvar%20div%20%3D%20L.DomUtil.create%28%27div%27%2C%20%27legend%27%29%3B%20return%20div%7D%3B%0A%20%20%20%20color_map_2f6080b0158e4a7586b4ed340d7580a9.legend.addTo%28map_09db261f8dfb423f83c9a2ac36594622%29%3B%0A%0A%20%20%20%20color_map_2f6080b0158e4a7586b4ed340d7580a9.xAxis%20%3D%20d3.svg.axis%28%29%0A%20%20%20%20%20%20%20%20.scale%28color_map_2f6080b0158e4a7586b4ed340d7580a9.x%29%0A%20%20%20%20%20%20%20%20.orient%28%22top%22%29%0A%20%20%20%20%20%20%20%20.tickSize%281%29%0A%20%20%20%20%20%20%20%20.tickValues%28%5B0%2C%208000%2C%2020000%2C%2035000%2C%2050000%2C%2070000%2C%20130000%5D%29%3B%0A%0A%20%20%20%20color_map_2f6080b0158e4a7586b4ed340d7580a9.svg%20%3D%20d3.select%28%22.legend.leaflet-control%22%29.append%28%22svg%22%29%0A%20%20%20%20%20%20%20%20.attr%28%22id%22%2C%20%27legend%27%29%0A%20%20%20%20%20%20%20%20.attr%28%22width%22%2C%20450%29%0A%20%20%20%20%20%20%20%20.attr%28%22height%22%2C%2040%29%3B%0A%0A%20%20%20%20color_map_2f6080b0158e4a7586b4ed340d7580a9.g%20%3D%20color_map_2f6080b0158e4a7586b4ed340d7580a9.svg.append%28%22g%22%29%0A%20%20%20%20%20%20%20%20.attr%28%22class%22%2C%20%22key%22%29%0A%20%20%20%20%20%20%20%20.attr%28%22transform%22%2C%20%22translate%2825%2C16%29%22%29%3B%0A%0A%20%20%20%20color_map_2f6080b0158e4a7586b4ed340d7580a9.g.selectAll%28%22rect%22%29%0A%20%20%20%20%20%20%20%20.data%28color_map_2f6080b0158e4a7586b4ed340d7580a9.color.range%28%29.map%28function%28d%2C%20i%29%20%7B%0A%20%20%20%20%20%20%20%20%20%20return%20%7B%0A%20%20%20%20%20%20%20%20%20%20%20%20x0%3A%20i%20%3F%20color_map_2f6080b0158e4a7586b4ed340d7580a9.x%28color_map_2f6080b0158e4a7586b4ed340d7580a9.color.domain%28%29%5Bi%20-%201%5D%29%20%3A%20color_map_2f6080b0158e4a7586b4ed340d7580a9.x.range%28%29%5B0%5D%2C%0A%20%20%20%20%20%20%20%20%20%20%20%20x1%3A%20i%20%3C%20color_map_2f6080b0158e4a7586b4ed340d7580a9.color.domain%28%29.length%20%3F%20color_map_2f6080b0158e4a7586b4ed340d7580a9.x%28color_map_2f6080b0158e4a7586b4ed340d7580a9.color.domain%28%29%5Bi%5D%29%20%3A%20color_map_2f6080b0158e4a7586b4ed340d7580a9.x.range%28%29%5B1%5D%2C%0A%20%20%20%20%20%20%20%20%20%20%20%20z%3A%20d%0A%20%20%20%20%20%20%20%20%20%20%7D%3B%0A%20%20%20%20%20%20%20%20%7D%29%29%0A%20%20%20%20%20%20.enter%28%29.append%28%22rect%22%29%0A%20%20%20%20%20%20%20%20.attr%28%22height%22%2C%2010%29%0A%20%20%20%20%20%20%20%20.attr%28%22x%22%2C%20function%28d%29%20%7B%20return%20d.x0%3B%20%7D%29%0A%20%20%20%20%20%20%20%20.attr%28%22width%22%2C%20function%28d%29%20%7B%20return%20d.x1%20-%20d.x0%3B%20%7D%29%0A%20%20%20%20%20%20%20%20.style%28%22fill%22%2C%20function%28d%29%20%7B%20return%20d.z%3B%20%7D%29%3B%0A%0A%20%20%20%20color_map_2f6080b0158e4a7586b4ed340d7580a9.g.call%28color_map_2f6080b0158e4a7586b4ed340d7580a9.xAxis%29.append%28%22text%22%29%0A%20%20%20%20%20%20%20%20.attr%28%22class%22%2C%20%22caption%22%29%0A%20%20%20%20%20%20%20%20.attr%28%22y%22%2C%2021%29%0A%20%20%20%20%20%20%20%20.text%28%27GDP%27%29%3B%0A%3C/script%3E onload=\"this.contentDocument.open();this.contentDocument.write(    decodeURIComponent(this.getAttribute('data-html')));this.contentDocument.close();\" allowfullscreen webkitallowfullscreen mozallowfullscreen></iframe></div></div>"
      ],
      "text/plain": [
       "<folium.folium.Map at 0x7fa13147c2e0>"
      ]
     },
     "execution_count": 12,
     "metadata": {},
     "output_type": "execute_result"
    }
   ],
   "source": [
    "### Creating a heatmap with folium showing GDP worldwide in 2017 \n",
    "\n",
    "# Making a subset on the data from the latest year\n",
    "df_a_2017 = df_global_clean[df_global_clean['Year']==2017]\n",
    "\n",
    "loc = 'Figure 4: GDP Worldwide'\n",
    "title_html = '''\n",
    "             <h3 align=\"center\" style=\"font-size:16px\"><b>{}</b></h3>\n",
    "             '''.format(loc)\n",
    "#Creating a base map\n",
    "map = folium.Map(zoom_start=6, tiles=\"cartodbpositron\")\n",
    "\n",
    "\n",
    "map.get_root().html.add_child(folium.Element(title_html))\n",
    "\n",
    "\n",
    "# # Importing a file containing geographical data \n",
    "url = 'https://raw.githubusercontent.com/KvantropologSofie/SocialData2022DTU/main/world-countries.json'\n",
    "resp = requests.get(url)\n",
    "world_countries = json.loads(resp.text)\n",
    "\n",
    "# Initiating choropleth features\n",
    "choropleth=folium.Choropleth(\n",
    "    #The GeoJSON data to represent the world country\n",
    "    geo_data=world_countries,\n",
    "    name='GDP/capita',\n",
    "    threshold_scale=[0,8000,20000,35000,50000,70000,130000], #use the custom scale for the legend,\n",
    "    data=df_a_2017, \n",
    "    #The column accepting list with 2 value; The country name and  the numerical value\n",
    "    columns=['Code', 'GDP/capita'], \n",
    "    key_on='feature.id',\n",
    "    fill_color='Reds', #Setting layout \n",
    "    fill_opacity=2,\n",
    "    line_opacity=0.3,  \n",
    "    legend_name=\"GDP\",\n",
    "    nan_fill_color='white',\n",
    "    \n",
    ").add_to(map)\n",
    "\n",
    "#Adding tooltip to show countrynames when hovering over location\n",
    "choropleth.geojson.add_child(folium.features.GeoJsonTooltip(['name'], labels=False))\n",
    "\n",
    "# Save the map as html for the website\n",
    "# map.save('gdp_worldmap.html')\n",
    "\n",
    "#Showing the map\n",
    "map"
   ]
  },
  {
   "cell_type": "markdown",
   "id": "3e87903d",
   "metadata": {},
   "source": [
    "### **RUN THE CELL BELOW TO SEE VISUALIZATION**"
   ]
  },
  {
   "cell_type": "code",
   "execution_count": 23,
   "id": "381d84f6",
   "metadata": {},
   "outputs": [
    {
     "data": {
      "text/html": [
       "\n",
       "        <iframe\n",
       "            width=\"700\"\n",
       "            height=\"600\"\n",
       "            src=\"https://rawcdn.githack.com/KvantropologSofie/socialdata2022.io/e277416e7c642c7226aa1129fd0b718e5f6d7af9/pictures%20and%20titles/gdp_worldmap.html\"\n",
       "            frameborder=\"0\"\n",
       "            allowfullscreen\n",
       "            \n",
       "        ></iframe>\n",
       "        "
      ],
      "text/plain": [
       "<IPython.lib.display.IFrame at 0x1811ed2adf0>"
      ]
     },
     "execution_count": 23,
     "metadata": {},
     "output_type": "execute_result"
    }
   ],
   "source": [
    "from IPython.display import IFrame\n",
    "\n",
    "# Displaying air pollution in Denmark\n",
    "IFrame(src=\"https://rawcdn.githack.com/KvantropologSofie/socialdata2022.io/e277416e7c642c7226aa1129fd0b718e5f6d7af9/pictures%20and%20titles/gdp_worldmap.html\", width=700, height=600)"
   ]
  },
  {
   "cell_type": "markdown",
   "id": "a8d137a2",
   "metadata": {},
   "source": [
    "**2.4.4 Scatterplot of the relation between $PM_{2.5}$ and pollution death rates**\n",
    "\n",
    "The scatterplot presented in Figure 5 includes nearly all features from our global dataset, and represents the relation between $PM_{2.5}$ and pollution deaths in 2017. On the y-axis we see the death rates, while we on the x-axis see the concentrations of $PM_{2.5}$. Each point represents a country, and the color of the point indicates the GDP. Lastly, the size of the node represents the size of the population in a given country. The map is interactive, and when you hover over the nodes the exact information for each country is shown. You can zoom in to distinguish between points that are clustered.\n",
    "\n",
    "From the scatterplot, we observe an overall tendency of countries with higher GDP being clustered together with low death rates and low concentrations of air-pollution. On the other side, we see that countries with lower GDP are experiencing higher death rates, while also being exposed to higher rates of pollution. However, we also find exeptions from this overall tendency, where Madagascar, for example, appers to experience extremly high concentrations of pollution 128 PM2.5 $μg/m^{3}$, while at the same having low death rates of only 19 per. 100.000 citizen. Another exception is Qatar that has high pollution levels, high death rates, and also a high GDP. A few other countries from the Arabian Peninsula such as Saudi Arabia and Bahrain also experience high levels of pollution and death rates while having relatively high GDP. \n",
    "\n",
    "It is further evident that there a huge variation in the size of the population in the respective countries. China and India have the biggest populations, while at the same time experiencing high concentrations of pollution. However, it is also evident, that the size of the population does not seem to affect the concentrations of pollution.\n",
    "\n",
    "Based on the plot it is evident that there might be a correlation between death rased caused by pollution and concentrations of $PM_{2.5}$. This will further be examined in the next section, where we aim to predict death rates based on a range of different features. "
   ]
  },
  {
   "cell_type": "code",
   "execution_count": 16,
   "id": "10de3212",
   "metadata": {},
   "outputs": [],
   "source": [
    "#Selecting the relevant columns and removing observations with nan-values\n",
    "df_a_2017=df_a_2017[list(df_global_clean.columns)[:8]]\n",
    "df_a_2017=df_a_2017.dropna()\n",
    "\n",
    "#Renaming variables to not include spaces - this is necessary for making the hovertool work in the plot below \n",
    "df_a_2017=df_a_2017.rename(columns={'PM2.5 (μg/m3)': 'pollution', \"Country Name\": \"Country_Name\",'GDP/capita':'GDP','Air pollution death rate':'Death_rate'})\n",
    "\n",
    "# Creating a variable of different GDP-levels \n",
    "GDP_level=[]\n",
    "for gdp in df_a_2017.GDP:\n",
    "    if gdp<=8000:\n",
    "        GDP_level.append('GDP (0,8000]')\n",
    "    if (gdp>8000) & (gdp<=20000):\n",
    "        GDP_level.append('GDP (8000,20000]')\n",
    "    if (gdp>20000) & (gdp<=35000):\n",
    "        GDP_level.append('GDP (20000,35000]')\n",
    "    if (gdp>35000) & (gdp<=50000):\n",
    "        GDP_level.append('GDP (35000,50000]')\n",
    "    if (gdp>50000) & (gdp<=70000):\n",
    "        GDP_level.append('GDP (50000,70000]')\n",
    "    if gdp>70000 :\n",
    "        GDP_level.append('GDP 70000 and above')    \n",
    "\n",
    "# Adding GDP levels to dataframe \n",
    "df_a_2017['GDP_level']=GDP_level\n",
    "\n",
    "# Making GDP levels to a variable that can be sorted from low to high\n",
    "GDP_sorted=['GDP (0,8000]','GDP (8000,20000]','GDP (20000,35000]','GDP (35000,50000]','GDP (50000,70000]','GDP 70000 and above']\n",
    "df_a_2017['GDP_level']=pd.Categorical(df_a_2017['GDP_level'],categories=GDP_sorted,ordered=True)\n",
    "\n",
    "#Sorting the dataframe according to GDP_level\n",
    "df_a_2017=df_a_2017.sort_values('GDP_level')"
   ]
  },
  {
   "cell_type": "code",
   "execution_count": 26,
   "id": "2e0327f9",
   "metadata": {},
   "outputs": [
    {
     "data": {
      "text/html": [
       "\n",
       "\n",
       "\n",
       "\n",
       "\n",
       "\n",
       "  <div class=\"bk-root\" id=\"e4c67711-6884-45ca-b68b-7edf2c8123a5\" data-root-id=\"1646\"></div>\n"
      ]
     },
     "metadata": {},
     "output_type": "display_data"
    },
    {
     "data": {
      "application/javascript": [
       "(function(root) {\n",
       "  function embed_document(root) {\n",
       "    \n",
       "  const docs_json = {\"0548797b-aa98-4b92-95e4-12765e6b7820\":{\"defs\":[],\"roots\":{\"references\":[{\"attributes\":{\"background_fill_color\":\"#f5f5f5\",\"below\":[{\"id\":\"1657\"}],\"center\":[{\"id\":\"1660\"},{\"id\":\"1664\"},{\"id\":\"1690\"}],\"height\":500,\"left\":[{\"id\":\"1661\"}],\"renderers\":[{\"id\":\"1678\"}],\"right\":[{\"id\":\"1672\"}],\"title\":{\"id\":\"1647\"},\"toolbar\":{\"id\":\"1668\"},\"toolbar_location\":\"below\",\"width\":1000,\"x_range\":{\"id\":\"1649\"},\"x_scale\":{\"id\":\"1653\"},\"y_range\":{\"id\":\"1651\"},\"y_scale\":{\"id\":\"1655\"}},\"id\":\"1646\",\"subtype\":\"Figure\",\"type\":\"Plot\"},{\"attributes\":{\"label\":{\"field\":\"GDP_level\"},\"renderers\":[{\"id\":\"1678\"}]},\"id\":\"1689\",\"type\":\"LegendItem\"},{\"attributes\":{},\"id\":\"1683\",\"type\":\"AllLabels\"},{\"attributes\":{\"coordinates\":null,\"data_source\":{\"id\":\"1673\"},\"glyph\":{\"id\":\"1675\"},\"group\":null,\"hover_glyph\":null,\"muted_glyph\":{\"id\":\"1677\"},\"nonselection_glyph\":{\"id\":\"1676\"},\"view\":{\"id\":\"1679\"}},\"id\":\"1678\",\"type\":\"GlyphRenderer\"},{\"attributes\":{},\"id\":\"1686\",\"type\":\"AllLabels\"},{\"attributes\":{\"data\":null,\"x\":[55617.0,1421021794.0],\"y\":[7,70]},\"id\":\"1644\",\"type\":\"LinearInterpolator\"},{\"attributes\":{\"fill_alpha\":{\"value\":0.2},\"fill_color\":{\"field\":\"GDP_level\",\"transform\":{\"id\":\"1645\"}},\"hatch_alpha\":{\"value\":0.2},\"line_alpha\":{\"value\":0.2},\"line_color\":{\"field\":\"GDP_level\",\"transform\":{\"id\":\"1645\"}},\"size\":{\"field\":\"Population\",\"transform\":{\"id\":\"1644\"}},\"x\":{\"field\":\"pollution\"},\"y\":{\"field\":\"Death_rate\"}},\"id\":\"1677\",\"type\":\"Scatter\"},{\"attributes\":{\"tools\":[{\"id\":\"1665\"},{\"id\":\"1666\"},{\"id\":\"1667\"}]},\"id\":\"1668\",\"type\":\"Toolbar\"},{\"attributes\":{},\"id\":\"1666\",\"type\":\"PanTool\"},{\"attributes\":{\"coordinates\":null,\"group\":null,\"text\":\"Node size: Population\",\"x\":100,\"y\":0},\"id\":\"1690\",\"type\":\"Label\"},{\"attributes\":{},\"id\":\"1649\",\"type\":\"DataRange1d\"},{\"attributes\":{},\"id\":\"1667\",\"type\":\"ZoomInTool\"},{\"attributes\":{\"factors\":[\"GDP (0,8000]\",\"GDP (8000,20000]\",\"GDP (20000,35000]\",\"GDP (35000,50000]\",\"GDP (50000,70000]\",\"GDP 70000 and above\"],\"palette\":[\"#fee0d2\",\"#fcbba1\",\"#fb6a4a\",\"#ef3b2c\",\"#a50f15\",\"#67000d\"]},\"id\":\"1645\",\"type\":\"CategoricalColorMapper\"},{\"attributes\":{\"data\":{\"Code\":[\"AFG\",\"MLI\",\"MHL\",\"MRT\",\"FSM\",\"MDA\",\"MNG\",\"MWI\",\"MNE\",\"MOZ\",\"MMR\",\"NAM\",\"NPL\",\"NIC\",\"NER\",\"MAR\",\"MDG\",\"LBY\",\"LBR\",\"HTI\",\"HND\",\"IND\",\"IDN\",\"IRN\",\"IRQ\",\"JAM\",\"JOR\",\"KEN\",\"KIR\",\"KGZ\",\"LAO\",\"ZMB\",\"LBN\",\"LSO\",\"NGA\",\"GUY\",\"MKD\",\"PSE\",\"TJK\",\"TZA\",\"THA\",\"TLS\",\"TGO\",\"TON\",\"SYR\",\"TUN\",\"UGA\",\"UKR\",\"UZB\",\"VUT\",\"VNM\",\"YEM\",\"TKM\",\"SUR\",\"SDN\",\"LKA\",\"PNG\",\"PRY\",\"PER\",\"PHL\",\"RWA\",\"VCT\",\"WSM\",\"STP\",\"SEN\",\"SRB\",\"SLE\",\"SLB\",\"SOM\",\"ZAF\",\"SSD\",\"PAK\",\"GNB\",\"ZWE\",\"GTM\",\"SLV\",\"BTN\",\"CAF\",\"EGY\",\"ECU\",\"BIH\",\"DOM\",\"DMA\",\"DJI\",\"BWA\",\"COD\",\"BFA\",\"BDI\",\"CIV\",\"COG\",\"KHM\",\"COM\",\"COL\",\"CMR\",\"CPV\",\"GIN\",\"BEN\",\"ERI\",\"BOL\",\"SWZ\",\"ALB\",\"DZA\",\"AGO\",\"GHA\",\"GEO\",\"BLZ\",\"ARM\",\"GMB\",\"TCD\",\"GAB\",\"AZE\",\"ETH\",\"FJI\",\"BGD\",\"BLR\",\"TTO\",\"VEN\",\"ASM\",\"URY\",\"POL\",\"BRB\",\"ATG\",\"SYC\",\"RUS\",\"LCA\",\"ARG\",\"SVK\",\"BGR\",\"BRA\",\"ROU\",\"TUR\",\"PAN\",\"LVA\",\"MDV\",\"LTU\",\"MUS\",\"MEX\",\"GNQ\",\"OMN\",\"CUB\",\"CRI\",\"HRV\",\"KAZ\",\"GRC\",\"CHN\",\"HUN\",\"CHL\",\"GRD\",\"MYS\",\"BHS\",\"SVN\",\"KWT\",\"EST\",\"ITA\",\"KOR\",\"BHR\",\"ESP\",\"PRT\",\"MLT\",\"SAU\",\"BRN\",\"CZE\",\"CYP\",\"MNP\",\"PRI\",\"VIR\",\"GBR\",\"ARE\",\"NZL\",\"DEU\",\"ISR\",\"NLD\",\"JPN\",\"CAN\",\"AND\",\"FRA\",\"FIN\",\"BEL\",\"GUM\",\"AUT\",\"SGP\",\"QAT\",\"IRL\",\"SWE\",\"DNK\",\"USA\",\"GRL\",\"AUS\",\"LUX\",\"CHE\",\"BMU\",\"ISL\",\"NOR\"],\"Country Code\":[\"AFG\",\"MLI\",\"MHL\",\"MRT\",\"FSM\",\"MDA\",\"MNG\",\"MWI\",\"MNE\",\"MOZ\",\"MMR\",\"NAM\",\"NPL\",\"NIC\",\"NER\",\"MAR\",\"MDG\",\"LBY\",\"LBR\",\"HTI\",\"HND\",\"IND\",\"IDN\",\"IRN\",\"IRQ\",\"JAM\",\"JOR\",\"KEN\",\"KIR\",\"KGZ\",\"LAO\",\"ZMB\",\"LBN\",\"LSO\",\"NGA\",\"GUY\",\"MKD\",\"PSE\",\"TJK\",\"TZA\",\"THA\",\"TLS\",\"TGO\",\"TON\",\"SYR\",\"TUN\",\"UGA\",\"UKR\",\"UZB\",\"VUT\",\"VNM\",\"YEM\",\"TKM\",\"SUR\",\"SDN\",\"LKA\",\"PNG\",\"PRY\",\"PER\",\"PHL\",\"RWA\",\"VCT\",\"WSM\",\"STP\",\"SEN\",\"SRB\",\"SLE\",\"SLB\",\"SOM\",\"ZAF\",\"SSD\",\"PAK\",\"GNB\",\"ZWE\",\"GTM\",\"SLV\",\"BTN\",\"CAF\",\"EGY\",\"ECU\",\"BIH\",\"DOM\",\"DMA\",\"DJI\",\"BWA\",\"COD\",\"BFA\",\"BDI\",\"CIV\",\"COG\",\"KHM\",\"COM\",\"COL\",\"CMR\",\"CPV\",\"GIN\",\"BEN\",\"ERI\",\"BOL\",\"SWZ\",\"ALB\",\"DZA\",\"AGO\",\"GHA\",\"GEO\",\"BLZ\",\"ARM\",\"GMB\",\"TCD\",\"GAB\",\"AZE\",\"ETH\",\"FJI\",\"BGD\",\"BLR\",\"TTO\",\"VEN\",\"ASM\",\"URY\",\"POL\",\"BRB\",\"ATG\",\"SYC\",\"RUS\",\"LCA\",\"ARG\",\"SVK\",\"BGR\",\"BRA\",\"ROU\",\"TUR\",\"PAN\",\"LVA\",\"MDV\",\"LTU\",\"MUS\",\"MEX\",\"GNQ\",\"OMN\",\"CUB\",\"CRI\",\"HRV\",\"KAZ\",\"GRC\",\"CHN\",\"HUN\",\"CHL\",\"GRD\",\"MYS\",\"BHS\",\"SVN\",\"KWT\",\"EST\",\"ITA\",\"KOR\",\"BHR\",\"ESP\",\"PRT\",\"MLT\",\"SAU\",\"BRN\",\"CZE\",\"CYP\",\"MNP\",\"PRI\",\"VIR\",\"GBR\",\"ARE\",\"NZL\",\"DEU\",\"ISR\",\"NLD\",\"JPN\",\"CAN\",\"AND\",\"FRA\",\"FIN\",\"BEL\",\"GUM\",\"AUT\",\"SGP\",\"QAT\",\"IRL\",\"SWE\",\"DNK\",\"USA\",\"GRL\",\"AUS\",\"LUX\",\"CHE\",\"BMU\",\"ISL\",\"NOR\"],\"Country_Name\":[\"Afghanistan\",\"Mali\",\"Marshall Islands\",\"Mauritania\",\"Micronesia, Fed. Sts.\",\"Moldova\",\"Mongolia\",\"Malawi\",\"Montenegro\",\"Mozambique\",\"Myanmar\",\"Namibia\",\"Nepal\",\"Nicaragua\",\"Niger\",\"Morocco\",\"Madagascar\",\"Libya\",\"Liberia\",\"Haiti\",\"Honduras\",\"India\",\"Indonesia\",\"Iran, Islamic Rep.\",\"Iraq\",\"Jamaica\",\"Jordan\",\"Kenya\",\"Kiribati\",\"Kyrgyz Republic\",\"Lao PDR\",\"Zambia\",\"Lebanon\",\"Lesotho\",\"Nigeria\",\"Guyana\",\"North Macedonia\",\"West Bank and Gaza\",\"Tajikistan\",\"Tanzania\",\"Thailand\",\"Timor-Leste\",\"Togo\",\"Tonga\",\"Syrian Arab Republic\",\"Tunisia\",\"Uganda\",\"Ukraine\",\"Uzbekistan\",\"Vanuatu\",\"Vietnam\",\"Yemen, Rep.\",\"Turkmenistan\",\"Suriname\",\"Sudan\",\"Sri Lanka\",\"Papua New Guinea\",\"Paraguay\",\"Peru\",\"Philippines\",\"Rwanda\",\"St. Vincent and the Grenadines\",\"Samoa\",\"Sao Tome and Principe\",\"Senegal\",\"Serbia\",\"Sierra Leone\",\"Solomon Islands\",\"Somalia\",\"South Africa\",\"South Sudan\",\"Pakistan\",\"Guinea-Bissau\",\"Zimbabwe\",\"Guatemala\",\"El Salvador\",\"Bhutan\",\"Central African Republic\",\"Egypt, Arab Rep.\",\"Ecuador\",\"Bosnia and Herzegovina\",\"Dominican Republic\",\"Dominica\",\"Djibouti\",\"Botswana\",\"Congo, Dem. Rep.\",\"Burkina Faso\",\"Burundi\",\"Cote d'Ivoire\",\"Congo, Rep.\",\"Cambodia\",\"Comoros\",\"Colombia\",\"Cameroon\",\"Cabo Verde\",\"Guinea\",\"Benin\",\"Eritrea\",\"Bolivia\",\"Eswatini\",\"Albania\",\"Algeria\",\"Angola\",\"Ghana\",\"Georgia\",\"Belize\",\"Armenia\",\"Gambia, The\",\"Chad\",\"Gabon\",\"Azerbaijan\",\"Ethiopia\",\"Fiji\",\"Bangladesh\",\"Belarus\",\"Trinidad and Tobago\",\"Venezuela, RB\",\"American Samoa\",\"Uruguay\",\"Poland\",\"Barbados\",\"Antigua and Barbuda\",\"Seychelles\",\"Russian Federation\",\"St. Lucia\",\"Argentina\",\"Slovak Republic\",\"Bulgaria\",\"Brazil\",\"Romania\",\"Turkey\",\"Panama\",\"Latvia\",\"Maldives\",\"Lithuania\",\"Mauritius\",\"Mexico\",\"Equatorial Guinea\",\"Oman\",\"Cuba\",\"Costa Rica\",\"Croatia\",\"Kazakhstan\",\"Greece\",\"China\",\"Hungary\",\"Chile\",\"Grenada\",\"Malaysia\",\"Bahamas, The\",\"Slovenia\",\"Kuwait\",\"Estonia\",\"Italy\",\"Korea, Rep.\",\"Bahrain\",\"Spain\",\"Portugal\",\"Malta\",\"Saudi Arabia\",\"Brunei Darussalam\",\"Czech Republic\",\"Cyprus\",\"Northern Mariana Islands\",\"Puerto Rico\",\"Virgin Islands (U.S.)\",\"United Kingdom\",\"United Arab Emirates\",\"New Zealand\",\"Germany\",\"Israel\",\"Netherlands\",\"Japan\",\"Canada\",\"Andorra\",\"France\",\"Finland\",\"Belgium\",\"Guam\",\"Austria\",\"Singapore\",\"Qatar\",\"Ireland\",\"Sweden\",\"Denmark\",\"United States\",\"Greenland\",\"Australia\",\"Luxembourg\",\"Switzerland\",\"Bermuda\",\"Iceland\",\"Norway\"],\"Death_rate\":{\"__ndarray__\":\"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\",\"dtype\":\"float64\",\"order\":\"little\",\"shape\":[193]},\"GDP\":{\"__ndarray__\":\"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\",\"dtype\":\"float64\",\"order\":\"little\",\"shape\":[193]},\"GDP_level\":[\"GDP (0,8000]\",\"GDP (0,8000]\",\"GDP (0,8000]\",\"GDP (0,8000]\",\"GDP (0,8000]\",\"GDP (0,8000]\",\"GDP (0,8000]\",\"GDP (0,8000]\",\"GDP (0,8000]\",\"GDP (0,8000]\",\"GDP (0,8000]\",\"GDP (0,8000]\",\"GDP (0,8000]\",\"GDP (0,8000]\",\"GDP (0,8000]\",\"GDP (0,8000]\",\"GDP (0,8000]\",\"GDP (0,8000]\",\"GDP (0,8000]\",\"GDP (0,8000]\",\"GDP (0,8000]\",\"GDP (0,8000]\",\"GDP (0,8000]\",\"GDP (0,8000]\",\"GDP (0,8000]\",\"GDP (0,8000]\",\"GDP (0,8000]\",\"GDP (0,8000]\",\"GDP (0,8000]\",\"GDP (0,8000]\",\"GDP (0,8000]\",\"GDP (0,8000]\",\"GDP (0,8000]\",\"GDP (0,8000]\",\"GDP (0,8000]\",\"GDP (0,8000]\",\"GDP (0,8000]\",\"GDP (0,8000]\",\"GDP (0,8000]\",\"GDP (0,8000]\",\"GDP (0,8000]\",\"GDP (0,8000]\",\"GDP (0,8000]\",\"GDP (0,8000]\",\"GDP (0,8000]\",\"GDP (0,8000]\",\"GDP (0,8000]\",\"GDP (0,8000]\",\"GDP (0,8000]\",\"GDP (0,8000]\",\"GDP (0,8000]\",\"GDP (0,8000]\",\"GDP (0,8000]\",\"GDP (0,8000]\",\"GDP (0,8000]\",\"GDP (0,8000]\",\"GDP (0,8000]\",\"GDP (0,8000]\",\"GDP (0,8000]\",\"GDP (0,8000]\",\"GDP (0,8000]\",\"GDP (0,8000]\",\"GDP (0,8000]\",\"GDP (0,8000]\",\"GDP (0,8000]\",\"GDP (0,8000]\",\"GDP (0,8000]\",\"GDP (0,8000]\",\"GDP (0,8000]\",\"GDP (0,8000]\",\"GDP (0,8000]\",\"GDP (0,8000]\",\"GDP (0,8000]\",\"GDP (0,8000]\",\"GDP (0,8000]\",\"GDP (0,8000]\",\"GDP (0,8000]\",\"GDP (0,8000]\",\"GDP (0,8000]\",\"GDP (0,8000]\",\"GDP (0,8000]\",\"GDP (0,8000]\",\"GDP (0,8000]\",\"GDP (0,8000]\",\"GDP (0,8000]\",\"GDP (0,8000]\",\"GDP (0,8000]\",\"GDP (0,8000]\",\"GDP (0,8000]\",\"GDP (0,8000]\",\"GDP (0,8000]\",\"GDP (0,8000]\",\"GDP (0,8000]\",\"GDP (0,8000]\",\"GDP (0,8000]\",\"GDP (0,8000]\",\"GDP (0,8000]\",\"GDP (0,8000]\",\"GDP (0,8000]\",\"GDP (0,8000]\",\"GDP (0,8000]\",\"GDP (0,8000]\",\"GDP (0,8000]\",\"GDP (0,8000]\",\"GDP (0,8000]\",\"GDP (0,8000]\",\"GDP (0,8000]\",\"GDP (0,8000]\",\"GDP (0,8000]\",\"GDP (0,8000]\",\"GDP (0,8000]\",\"GDP (0,8000]\",\"GDP (0,8000]\",\"GDP (0,8000]\",\"GDP (0,8000]\",\"GDP (8000,20000]\",\"GDP (8000,20000]\",\"GDP (8000,20000]\",\"GDP (8000,20000]\",\"GDP (8000,20000]\",\"GDP (8000,20000]\",\"GDP (8000,20000]\",\"GDP (8000,20000]\",\"GDP (8000,20000]\",\"GDP (8000,20000]\",\"GDP (8000,20000]\",\"GDP (8000,20000]\",\"GDP (8000,20000]\",\"GDP (8000,20000]\",\"GDP (8000,20000]\",\"GDP (8000,20000]\",\"GDP (8000,20000]\",\"GDP (8000,20000]\",\"GDP (8000,20000]\",\"GDP (8000,20000]\",\"GDP (8000,20000]\",\"GDP (8000,20000]\",\"GDP (8000,20000]\",\"GDP (8000,20000]\",\"GDP (8000,20000]\",\"GDP (8000,20000]\",\"GDP (8000,20000]\",\"GDP (8000,20000]\",\"GDP (8000,20000]\",\"GDP (8000,20000]\",\"GDP (8000,20000]\",\"GDP (8000,20000]\",\"GDP (8000,20000]\",\"GDP (8000,20000]\",\"GDP (20000,35000]\",\"GDP (20000,35000]\",\"GDP (20000,35000]\",\"GDP (20000,35000]\",\"GDP (20000,35000]\",\"GDP (20000,35000]\",\"GDP (20000,35000]\",\"GDP (20000,35000]\",\"GDP (20000,35000]\",\"GDP (20000,35000]\",\"GDP (20000,35000]\",\"GDP (20000,35000]\",\"GDP (20000,35000]\",\"GDP (20000,35000]\",\"GDP (20000,35000]\",\"GDP (20000,35000]\",\"GDP (35000,50000]\",\"GDP (35000,50000]\",\"GDP (35000,50000]\",\"GDP (35000,50000]\",\"GDP (35000,50000]\",\"GDP (35000,50000]\",\"GDP (35000,50000]\",\"GDP (35000,50000]\",\"GDP (35000,50000]\",\"GDP (35000,50000]\",\"GDP (35000,50000]\",\"GDP (35000,50000]\",\"GDP (35000,50000]\",\"GDP (35000,50000]\",\"GDP (35000,50000]\",\"GDP (50000,70000]\",\"GDP (50000,70000]\",\"GDP (50000,70000]\",\"GDP (50000,70000]\",\"GDP (50000,70000]\",\"GDP (50000,70000]\",\"GDP (50000,70000]\",\"GDP (50000,70000]\",\"GDP 70000 and above\",\"GDP 70000 and above\",\"GDP 70000 and above\",\"GDP 70000 and above\",\"GDP 70000 and above\"],\"Population\":{\"__ndarray__\":\"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\",\"dtype\":\"float64\",\"order\":\"little\",\"shape\":[193]},\"Year\":{\"__ndarray__\":\"AAAAAACEn0AAAAAAAISfQAAAAAAAhJ9AAAAAAACEn0AAAAAAAISfQAAAAAAAhJ9AAAAAAACEn0AAAAAAAISfQAAAAAAAhJ9AAAAAAACEn0AAAAAAAISfQAAAAAAAhJ9AAAAAAACEn0AAAAAAAISfQAAAAAAAhJ9AAAAAAACEn0AAAAAAAISfQAAAAAAAhJ9AAAAAAACEn0AAAAAAAISfQAAAAAAAhJ9AAAAAAACEn0AAAAAAAISfQAAAAAAAhJ9AAAAAAACEn0AAAAAAAISfQAAAAAAAhJ9AAAAAAACEn0AAAAAAAISfQAAAAAAAhJ9AAAAAAACEn0AAAAAAAISfQAAAAAAAhJ9AAAAAAACEn0AAAAAAAISfQAAAAAAAhJ9AAAAAAACEn0AAAAAAAISfQAAAAAAAhJ9AAAAAAACEn0AAAAAAAISfQAAAAAAAhJ9AAAAAAACEn0AAAAAAAISfQAAAAAAAhJ9AAAAAAACEn0AAAAAAAISfQAAAAAAAhJ9AAAAAAACEn0AAAAAAAISfQAAAAAAAhJ9AAAAAAACEn0AAAAAAAISfQAAAAAAAhJ9AAAAAAACEn0AAAAAAAISfQAAAAAAAhJ9AAAAAAACEn0AAAAAAAISfQAAAAAAAhJ9AAAAAAACEn0AAAAAAAISfQAAAAAAAhJ9AAAAAAACEn0AAAAAAAISfQAAAAAAAhJ9AAAAAAACEn0AAAAAAAISfQAAAAAAAhJ9AAAAAAACEn0AAAAAAAISfQAAAAAAAhJ9AAAAAAACEn0AAAAAAAISfQAAAAAAAhJ9AAAAAAACEn0AAAAAAAISfQAAAAAAAhJ9AAAAAAACEn0AAAAAAAISfQAAAAAAAhJ9AAAAAAACEn0AAAAAAAISfQAAAAAAAhJ9AAAAAAACEn0AAAAAAAISfQAAAAAAAhJ9AAAAAAACEn0AAAAAAAISfQAAAAAAAhJ9AAAAAAACEn0AAAAAAAISfQAAAAAAAhJ9AAAAAAACEn0AAAAAAAISfQAAAAAAAhJ9AAAAAAACEn0AAAAAAAISfQAAAAAAAhJ9AAAAAAACEn0AAAAAAAISfQAAAAAAAhJ9AAAAAAACEn0AAAAAAAISfQAAAAAAAhJ9AAAAAAACEn0AAAAAAAISfQAAAAAAAhJ9AAAAAAACEn0AAAAAAAISfQAAAAAAAhJ9AAAAAAACEn0AAAAAAAISfQAAAAAAAhJ9AAAAAAACEn0AAAAAAAISfQAAAAAAAhJ9AAAAAAACEn0AAAAAAAISfQAAAAAAAhJ9AAAAAAACEn0AAAAAAAISfQAAAAAAAhJ9AAAAAAACEn0AAAAAAAISfQAAAAAAAhJ9AAAAAAACEn0AAAAAAAISfQAAAAAAAhJ9AAAAAAACEn0AAAAAAAISfQAAAAAAAhJ9AAAAAAACEn0AAAAAAAISfQAAAAAAAhJ9AAAAAAACEn0AAAAAAAISfQAAAAAAAhJ9AAAAAAACEn0AAAAAAAISfQAAAAAAAhJ9AAAAAAACEn0AAAAAAAISfQAAAAAAAhJ9AAAAAAACEn0AAAAAAAISfQAAAAAAAhJ9AAAAAAACEn0AAAAAAAISfQAAAAAAAhJ9AAAAAAACEn0AAAAAAAISfQAAAAAAAhJ9AAAAAAACEn0AAAAAAAISfQAAAAAAAhJ9AAAAAAACEn0AAAAAAAISfQAAAAAAAhJ9AAAAAAACEn0AAAAAAAISfQAAAAAAAhJ9AAAAAAACEn0AAAAAAAISfQAAAAAAAhJ9AAAAAAACEn0AAAAAAAISfQAAAAAAAhJ9AAAAAAACEn0AAAAAAAISfQAAAAAAAhJ9AAAAAAACEn0AAAAAAAISfQAAAAAAAhJ9AAAAAAACEn0AAAAAAAISfQAAAAAAAhJ9AAAAAAACEn0AAAAAAAISfQAAAAAAAhJ9AAAAAAACEn0AAAAAAAISfQAAAAAAAhJ9AAAAAAACEn0AAAAAAAISfQAAAAAAAhJ9AAAAAAACEn0AAAAAAAISfQAAAAAAAhJ9AAAAAAACEn0AAAAAAAISfQAAAAAAAhJ9AAAAAAACEn0A=\",\"dtype\":\"float64\",\"order\":\"little\",\"shape\":[193]},\"index\":[6,755,769,776,797,804,811,734,818,832,839,846,853,874,881,825,727,706,699,538,545,566,573,580,587,615,629,643,650,664,671,1343,685,692,888,531,895,930,1189,1196,1203,1210,1217,1224,1182,1238,1259,1266,1308,1315,1329,1336,1252,1161,1154,1147,944,951,958,965,1014,1028,1035,1042,1056,1063,1077,1105,1112,1119,1133,923,524,1350,510,384,153,244,377,370,167,363,356,349,174,335,202,209,300,286,216,279,272,223,237,517,139,398,160,412,13,20,41,475,461,132,62,454,251,447,83,419,426,104,118,1231,1322,27,1301,972,111,48,1070,1007,1021,55,1091,195,181,1000,1245,937,678,748,713,783,790,391,916,314,293,307,636,482,265,552,258,496,741,90,1098,657,405,608,1126,97,1140,979,762,1049,188,328,321,902,986,1294,1280,1273,867,468,601,860,622,230,34,440,433,125,503,76,1084,993,594,1168,342,1287,489,69,720,1175,146,559,909],\"pollution\":{\"__ndarray__\":\"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\",\"dtype\":\"float64\",\"order\":\"little\",\"shape\":[193]}},\"selected\":{\"id\":\"1688\"},\"selection_policy\":{\"id\":\"1687\"}},\"id\":\"1673\",\"type\":\"ColumnDataSource\"},{\"attributes\":{},\"id\":\"1687\",\"type\":\"UnionRenderers\"},{\"attributes\":{},\"id\":\"1688\",\"type\":\"Selection\"},{\"attributes\":{\"coordinates\":null,\"group\":null,\"items\":[{\"id\":\"1689\"}]},\"id\":\"1672\",\"type\":\"Legend\"},{\"attributes\":{},\"id\":\"1653\",\"type\":\"LinearScale\"},{\"attributes\":{},\"id\":\"1651\",\"type\":\"DataRange1d\"},{\"attributes\":{},\"id\":\"1655\",\"type\":\"LinearScale\"},{\"attributes\":{\"fill_alpha\":{\"value\":0.1},\"fill_color\":{\"field\":\"GDP_level\",\"transform\":{\"id\":\"1645\"}},\"hatch_alpha\":{\"value\":0.1},\"line_alpha\":{\"value\":0.1},\"line_color\":{\"field\":\"GDP_level\",\"transform\":{\"id\":\"1645\"}},\"size\":{\"field\":\"Population\",\"transform\":{\"id\":\"1644\"}},\"x\":{\"field\":\"pollution\"},\"y\":{\"field\":\"Death_rate\"}},\"id\":\"1676\",\"type\":\"Scatter\"},{\"attributes\":{\"coordinates\":null,\"group\":null,\"text\":\"Figure 5: Relation between death rates and pollution levels across countries in 2017\",\"text_font_size\":\"15pt\"},\"id\":\"1647\",\"type\":\"Title\"},{\"attributes\":{},\"id\":\"1685\",\"type\":\"BasicTickFormatter\"},{\"attributes\":{\"axis_label\":\"Death rates caused by pollution and pollution levels\",\"coordinates\":null,\"formatter\":{\"id\":\"1682\"},\"group\":null,\"major_label_policy\":{\"id\":\"1683\"},\"ticker\":{\"id\":\"1662\"}},\"id\":\"1661\",\"type\":\"LinearAxis\"},{\"attributes\":{},\"id\":\"1682\",\"type\":\"BasicTickFormatter\"},{\"attributes\":{},\"id\":\"1658\",\"type\":\"BasicTicker\"},{\"attributes\":{\"axis_label\":\"Pollution level PM2.5 (\\u03bcg/m3) in 2017\",\"coordinates\":null,\"formatter\":{\"id\":\"1685\"},\"group\":null,\"major_label_policy\":{\"id\":\"1686\"},\"ticker\":{\"id\":\"1658\"}},\"id\":\"1657\",\"type\":\"LinearAxis\"},{\"attributes\":{\"axis\":{\"id\":\"1657\"},\"coordinates\":null,\"grid_line_color\":\"white\",\"group\":null,\"ticker\":null},\"id\":\"1660\",\"type\":\"Grid\"},{\"attributes\":{\"fill_alpha\":{\"value\":0.6},\"fill_color\":{\"field\":\"GDP_level\",\"transform\":{\"id\":\"1645\"}},\"line_color\":{\"field\":\"GDP_level\",\"transform\":{\"id\":\"1645\"}},\"size\":{\"field\":\"Population\",\"transform\":{\"id\":\"1644\"}},\"x\":{\"field\":\"pollution\"},\"y\":{\"field\":\"Death_rate\"}},\"id\":\"1675\",\"type\":\"Scatter\"},{\"attributes\":{\"axis\":{\"id\":\"1661\"},\"coordinates\":null,\"dimension\":1,\"grid_line_color\":\"white\",\"group\":null,\"ticker\":null},\"id\":\"1664\",\"type\":\"Grid\"},{\"attributes\":{\"source\":{\"id\":\"1673\"}},\"id\":\"1679\",\"type\":\"CDSView\"},{\"attributes\":{},\"id\":\"1662\",\"type\":\"BasicTicker\"},{\"attributes\":{\"callback\":null,\"tooltips\":[[\"Country\",\"@Country_Name\"],[\"PM2.5 Air Pollution\",\"@pollution\"],[\"Air pollution death rate\",\"@Death_rate\"],[\"GDP per capita\",\"@GDP/capita\"],[\"Population size\",\"@Population\"]]},\"id\":\"1665\",\"type\":\"HoverTool\"}],\"root_ids\":[\"1646\"]},\"title\":\"Bokeh Application\",\"version\":\"2.4.2\"}};\n",
       "  const render_items = [{\"docid\":\"0548797b-aa98-4b92-95e4-12765e6b7820\",\"root_ids\":[\"1646\"],\"roots\":{\"1646\":\"e4c67711-6884-45ca-b68b-7edf2c8123a5\"}}];\n",
       "  root.Bokeh.embed.embed_items_notebook(docs_json, render_items);\n",
       "\n",
       "  }\n",
       "  if (root.Bokeh !== undefined) {\n",
       "    embed_document(root);\n",
       "  } else {\n",
       "    let attempts = 0;\n",
       "    const timer = setInterval(function(root) {\n",
       "      if (root.Bokeh !== undefined) {\n",
       "        clearInterval(timer);\n",
       "        embed_document(root);\n",
       "      } else {\n",
       "        attempts++;\n",
       "        if (attempts > 100) {\n",
       "          clearInterval(timer);\n",
       "          console.log(\"Bokeh: ERROR: Unable to run BokehJS code because BokehJS library is missing\");\n",
       "        }\n",
       "      }\n",
       "    }, 10, root)\n",
       "  }\n",
       "})(window);"
      ],
      "application/vnd.bokehjs_exec.v0+json": ""
     },
     "metadata": {
      "application/vnd.bokehjs_exec.v0+json": {
       "id": "1646"
      }
     },
     "output_type": "display_data"
    },
    {
     "data": {
      "text/plain": [
       "'/Users/miaannjorgensen/Desktop/Visualisation/World_scatter_new.html'"
      ]
     },
     "execution_count": 26,
     "metadata": {},
     "output_type": "execute_result"
    }
   ],
   "source": [
    "curdoc().clear()\n",
    "### creating a scatterplot with Bokeh ###\n",
    "output_file(\"toolbar.html\")\n",
    "\n",
    "# Defining a size_mapper to adjust observation after population size \n",
    "size_mapper=LinearInterpolator(\n",
    "    x=[df_a_2017.Population.min(),df_a_2017.Population.max()],\n",
    "    y=[7,70])\n",
    "\n",
    "\n",
    "# Defining a colormap of 6 red colors according to GDP-categories\n",
    "cmap=[\"#fee0d2\",\"#fcbba1\",\"#fb6a4a\",\"#ef3b2c\",\"#a50f15\",\"#67000d\"]\n",
    "index_cmap = factor_cmap('GDP_level', palette=cmap, \n",
    "                         factors=GDP_sorted)\n",
    "\n",
    "#Initiating the figure, including layout and setting tools. We also define which values should be shown with the hovertool \n",
    "p = figure(plot_width=1000, plot_height=500,\n",
    "           title = \"Figure 5: Relation between death rates and pollution levels across countries in 2017\",\n",
    "           toolbar_location='below',tools=['hover', 'pan','zoom_in'],tooltips=[('Country',\"@Country_Name\"),\n",
    "            (\"PM2.5 Air Pollution\",\"@pollution\"), (\"Air pollution death rate\",\"@Death_rate\"),('GDP per capita','@GDP/capita'),('Population size','@Population')])\n",
    "\n",
    "# Adjusting title size and moving legend outside of the plot \n",
    "p.title.text_font_size = '15pt'\n",
    "p.add_layout(Legend(), 'right')\n",
    "\n",
    "# Creating the scatterplot with pollution on x-axis and death on y-axis. \n",
    "p.scatter('pollution','Death_rate',source=df_a_2017,fill_alpha=0.6,line_color=index_cmap, \n",
    "          fill_color=index_cmap,legend_field='GDP_level',size={'field':'Population','transform': size_mapper})\n",
    "p.xaxis.axis_label = 'Pollution level PM2.5 (μg/m3) in 2017'\n",
    "p.yaxis.axis_label = 'Death rates caused by pollution and pollution levels'\n",
    "p.background_fill_color = \"#f5f5f5\"\n",
    "p.xgrid.grid_line_color ='white'\n",
    "p.ygrid.grid_line_color ='white'\n",
    "\n",
    "from bokeh.models import Label\n",
    "\n",
    "# Adding comment about population and node size\n",
    "mytext = Label(x=100, y=0, text='Node size: Population')\n",
    "p.add_layout(mytext)\n",
    "\n",
    "show(p)\n",
    "\n",
    "# # set output to static HTML file\n",
    "output_file(filename=\"World_scatter_new.html\", title=\"Static HTML file\")\n",
    "save(p)"
   ]
  },
  {
   "cell_type": "markdown",
   "id": "8dbeef64",
   "metadata": {},
   "source": [
    "### **RUN THE CELL BELOW TO SEE VISUALIZATION**"
   ]
  },
  {
   "cell_type": "code",
   "execution_count": 25,
   "id": "c24943bc",
   "metadata": {},
   "outputs": [
    {
     "data": {
      "text/html": [
       "\n",
       "        <iframe\n",
       "            width=\"900\"\n",
       "            height=\"600\"\n",
       "            src=\"https://rawcdn.githack.com/KvantropologSofie/socialdata2022.io/e277416e7c642c7226aa1129fd0b718e5f6d7af9/pictures%20and%20titles/World_scatter_new.html\"\n",
       "            frameborder=\"0\"\n",
       "            allowfullscreen\n",
       "            \n",
       "        ></iframe>\n",
       "        "
      ],
      "text/plain": [
       "<IPython.lib.display.IFrame at 0x1811ed2aee0>"
      ]
     },
     "execution_count": 25,
     "metadata": {},
     "output_type": "execute_result"
    }
   ],
   "source": [
    "from IPython.display import IFrame\n",
    "\n",
    "# Displaying air pollution in Denmark\n",
    "IFrame(src=\"https://rawcdn.githack.com/KvantropologSofie/socialdata2022.io/e277416e7c642c7226aa1129fd0b718e5f6d7af9/pictures%20and%20titles/World_scatter_new.html\", width=900, height=600)"
   ]
  },
  {
   "cell_type": "markdown",
   "id": "0a4ac9f1",
   "metadata": {},
   "source": [
    "---\n",
    "### 2.5 Prediction of deaths caused by pollution\n",
    "<a name=\"prediction\"></a>"
   ]
  },
  {
   "cell_type": "markdown",
   "id": "6230801e",
   "metadata": {},
   "source": [
    "In the following section we are training a model with the goal of predicting the air pollution death rates based on a range of factors such as health expenditure, concentration of $PM_{2.5}$, GDP and the size of the population. As our dataset contains multiple years (from 2011 to 2017) for all respective countries, we aim to predict the air pollution death rates in 2017 based on the past. The aim of this part of the project is furthermore to gain insights into which features are weighed the highest when predicting pollution death rates."
   ]
  },
  {
   "cell_type": "code",
   "execution_count": 19,
   "id": "ce36fe37",
   "metadata": {},
   "outputs": [],
   "source": [
    "#Import modules for data processing \n",
    "import pycountry # To import pycountry you have to run \"pip install pycountry in your prompt\"\n",
    "\n",
    "# Import modules for interactive vizualizations \n",
    "\n",
    "#import modules for data machine learning  \n",
    "from sklearn.ensemble import RandomForestRegressor\n",
    "from sklearn import metrics\n",
    "import matplotlib.pyplot as plt\n",
    "from sklearn.model_selection import train_test_split\n",
    "from sklearn.model_selection import RandomizedSearchCV\n",
    "from sklearn.model_selection import KFold\n",
    "from sklearn.metrics import mean_squared_error, explained_variance_score,max_error, mean_absolute_error, median_absolute_error, r2_score, mean_absolute_percentage_error\n",
    "from bokeh.io import curdoc\n",
    "import seaborn as sns\n",
    "import warnings\n",
    "csfont = {'fontname':'Times New Roman'}\n",
    "warnings.filterwarnings('ignore')"
   ]
  },
  {
   "cell_type": "code",
   "execution_count": 28,
   "id": "9ae06380",
   "metadata": {},
   "outputs": [],
   "source": [
    "#Importing the data:\n",
    "df_global_clean = pd.read_csv('https://raw.githubusercontent.com/KvantropologSofie/SocialData2022DTU/main/clean_global_dataframe.csv')"
   ]
  },
  {
   "cell_type": "markdown",
   "id": "0df3e146",
   "metadata": {},
   "source": [
    "**Encoding the categorical data**\n",
    "\n",
    "As an initial step, we applied one-of-K encoding on the categorical variable *Continent*. Thus, the column are splitted into multiple binary columns. We chose this method over other forms of encoding to avoid assigning meaning or hierachy to the different categories/continents (Srinidhi, 2018). "
   ]
  },
  {
   "cell_type": "code",
   "execution_count": 29,
   "id": "4441aac6",
   "metadata": {},
   "outputs": [],
   "source": [
    "#Encoding of continent:\n",
    "df_global_clean = pd.get_dummies(df_global_clean, columns = ['Continent'], drop_first=True)\n",
    "df_global_clean = df_global_clean.rename(columns={\"PM2.5 (μg/m3)\":\"PM2.5\", \"Health expenditure as a % of GDP\":\"Health expenditure\"})"
   ]
  },
  {
   "cell_type": "markdown",
   "id": "d03a56a6",
   "metadata": {},
   "source": [
    "**Correlation matrix**\n",
    "\n",
    "As the initial step we are investigating the relationship between the different attributes through a correlation matrix. A correlation matrix is simply a table reporting the correlation between all pairs of attributes, which makes it possible to determine if the ML problem appears to be sensible. \n",
    "\n",
    "Based on the correlation matrix presented in Figure 6 it is evident that the air pollution death rate is highly correlated with *GDP*, $PM_{2.5}$, *health expenditure* and *Cardiovascular disease death rate*. These findings are based the first part of our project not surprising, as we found patterns of countries with lower GDP's being exposed to higher concentrations of $PM_{2.5}$, while countries with higher death rates related to pollution, in a smiliar manner, experience higher rates of $PM_{2.5}$."
   ]
  },
  {
   "cell_type": "code",
   "execution_count": 30,
   "id": "c9011c87",
   "metadata": {},
   "outputs": [
    {
     "data": {
      "image/png": "[encoded data removed]",
      "text/plain": [
       "<Figure size 432x288 with 2 Axes>"
      ]
     },
     "metadata": {
      "needs_background": "light"
     },
     "output_type": "display_data"
    }
   ],
   "source": [
    "#Creating the correlation matrix:\n",
    "df_global_clean1 = df_global_clean.rename(columns={'Continent_Asia':'Asia','Continent_Europe': 'Europe', 'Continent_North America': 'North America', 'Continent_Oceania':'Oceania', 'Continent_South America':'South America'})\n",
    "\n",
    "#Plotting:\n",
    "corrMatrix = df_global_clean1.corr()\n",
    "sns.heatmap(corrMatrix, cmap=\"Reds\")\n",
    "plt.title('Figure 6: Correlation Matrix',**csfont, size=20)\n",
    "plt.show()"
   ]
  },
  {
   "cell_type": "markdown",
   "id": "bb11856e",
   "metadata": {},
   "source": [
    "**Splitting our data into test, train and validation data:**\n",
    "\n",
    "We start out by splitting the data into a test, train and validation set. The validation set will be the data from year 2017, which is the year where we want to predict the death rate. The data from the remaining years are further splitted into training and training data (70/30%)."
   ]
  },
  {
   "cell_type": "code",
   "execution_count": 31,
   "id": "f2348779",
   "metadata": {},
   "outputs": [],
   "source": [
    "#Retrieving observations from 2017 for validation:\n",
    "val_df = df_global_clean[df_global_clean['Year']==2017]\n",
    "remaining_obs = df_global_clean[df_global_clean['Year']!=2017]\n",
    "\n",
    "y_val = val_df[\"Air pollution death rate\"]\n",
    "y = remaining_obs[\"Air pollution death rate\"]\n",
    "\n",
    "x_val = val_df.drop(['Code','Country Name','Country Code','Air pollution death rate'], axis=1)\n",
    "x = remaining_obs.drop(['Code','Country Name','Country Code','Air pollution death rate'], axis=1)"
   ]
  },
  {
   "cell_type": "code",
   "execution_count": 32,
   "id": "f362e66d",
   "metadata": {},
   "outputs": [],
   "source": [
    "#Splitting into train and test data 70/30:\n",
    "x_train, x_test, y_train, y_test=train_test_split(x, y, test_size=0.3, random_state=0)"
   ]
  },
  {
   "cell_type": "markdown",
   "id": "20dde480",
   "metadata": {},
   "source": [
    "**Fitting the model:**\n",
    "\n",
    "We are using a RandomForestRegressor to predict air pollution death rates. We are using a regressor rather than a classifier as our target variable is continuous, and Random Forest over Decision trees as this type of algorithm is significantly more powerfull and less prone to overfitting (Grus ch. 17, 2015). "
   ]
  },
  {
   "cell_type": "code",
   "execution_count": 33,
   "id": "0d0fc1ba",
   "metadata": {},
   "outputs": [],
   "source": [
    "# Instantiate model\n",
    "rf = RandomForestRegressor(random_state = 0)\n",
    "\n",
    "# Train the model on training data\n",
    "rf.fit(x_train, y_train);\n",
    "\n",
    "#Predicting:\n",
    "y_pred = rf.predict(x_test)"
   ]
  },
  {
   "cell_type": "markdown",
   "id": "9f88b975",
   "metadata": {},
   "source": [
    "##### Evaluating the performance of the initial model:\n",
    "As we are working with a regression problem instead of a classification problem the model will be evaluated based on the mean squared error (MSE) which represents the average squared difference between the predicted values and the actual values (Hiregoudar 2020)."
   ]
  },
  {
   "cell_type": "code",
   "execution_count": 34,
   "id": "a5e8e206",
   "metadata": {},
   "outputs": [
    {
     "name": "stdout",
     "output_type": "stream",
     "text": [
      "The MSE of our baseline model is 7.5594414535676195\n"
     ]
    }
   ],
   "source": [
    "from sklearn.metrics import mean_squared_error\n",
    "import math\n",
    "\n",
    "#Calculating the MSE:\n",
    "print('The MSE of our baseline model is', math.sqrt(mean_squared_error(y_test, y_pred)))"
   ]
  },
  {
   "cell_type": "markdown",
   "id": "ffe3c140",
   "metadata": {},
   "source": [
    "**Tuning hyperparameters:**\n",
    "\n",
    "We chose to perform a 5-fold cross-validation to find the optimal hyperparameters for the model for our model, with the aim of improving our baseline model. Through this approach we are, to a higher extend, avoiding overfitting. We use RandomizedSearchCV from Scikit-Learn to define a grid of relevalt parameters, and use this grid in the cross-validation of the 5 different folds (Koehrsen 2018)."
   ]
  },
  {
   "cell_type": "code",
   "execution_count": 36,
   "id": "9baf9d71",
   "metadata": {},
   "outputs": [],
   "source": [
    "#Defining parameters:\n",
    "\n",
    "# Number of trees in random forest\n",
    "n_estimators = [int(x) for x in np.linspace(start = 200, stop = 2000, num = 10)]\n",
    "\n",
    "# Number of features to consider at every split\n",
    "max_features = ['auto', 'sqrt']\n",
    "\n",
    "# Maximum number of levels in tree\n",
    "max_depth = [int(x) for x in np.linspace(10, 110, num = 11)]\n",
    "max_depth.append(None)\n",
    "\n",
    "# Minimum number of samples required to split a node\n",
    "min_samples_split = [2, 5, 10]\n",
    "\n",
    "# Minimum number of samples required at each leaf node\n",
    "min_samples_leaf = [1, 2, 4]\n",
    "\n",
    "# Method of selecting samples for training each tree\n",
    "bootstrap = [True, False]\n",
    "\n",
    "# Creating the grid with all the parameters:\n",
    "grid = {'n_estimators': n_estimators,\n",
    "               'max_features': max_features,\n",
    "               'max_depth': max_depth,\n",
    "               'min_samples_split': min_samples_split,\n",
    "               'min_samples_leaf': min_samples_leaf,\n",
    "               'bootstrap': bootstrap}"
   ]
  },
  {
   "cell_type": "code",
   "execution_count": 37,
   "id": "6ded58e3",
   "metadata": {},
   "outputs": [
    {
     "data": {
      "text/plain": [
       "{'n_estimators': 800,\n",
       " 'min_samples_split': 2,\n",
       " 'min_samples_leaf': 2,\n",
       " 'max_features': 'auto',\n",
       " 'max_depth': 100,\n",
       " 'bootstrap': True}"
      ]
     },
     "execution_count": 37,
     "metadata": {},
     "output_type": "execute_result"
    }
   ],
   "source": [
    "#Initializing a kfold with 5 folds\n",
    "kfold = KFold(n_splits=5, shuffle=True, random_state=8)\n",
    "\n",
    "#We are now performing the search and fitting it:\n",
    "rf_kf = RandomizedSearchCV(estimator = rf, param_distributions = grid, cv = kfold, random_state=0)\n",
    "\n",
    "# Fit the random search model\n",
    "rf_kf.fit(x_train, y_train)\n",
    "\n",
    "#Finding the best parameters:\n",
    "rf_kf.best_params_"
   ]
  },
  {
   "cell_type": "markdown",
   "id": "32c16e6c",
   "metadata": {},
   "source": [
    "**Training the model based on best parameters and predicting the death rate in 2017 based on the past:**\n",
    "\n",
    "We are now using the best possible model to predict the death rate in 2017 using our validation data."
   ]
  },
  {
   "cell_type": "code",
   "execution_count": 38,
   "id": "dfe49367",
   "metadata": {},
   "outputs": [
    {
     "name": "stdout",
     "output_type": "stream",
     "text": [
      "The MSE of the tuned model is 9.276057882339527\n"
     ]
    }
   ],
   "source": [
    "#Defining the best model:\n",
    "best_model = rf_kf.best_estimator_\n",
    "\n",
    "#validation from the best model:\n",
    "y_val_best = best_model.predict(x_val)\n",
    "\n",
    "print('The MSE of the tuned model is', math.sqrt(mean_squared_error(y_val, y_val_best)))"
   ]
  },
  {
   "cell_type": "markdown",
   "id": "e78c5329",
   "metadata": {},
   "source": [
    "#### Results:\n",
    "Based on the predicted values, it is now possible to plot the results to gain an understanding of how the model predicts. Based on the scatterplot presented in Figure B it is evident that we based on the random forest regressor are able to obtain quite accurate predictions of number of pollution deaths in 2017. The plot is showing a clear linear relation with no significant outliers, thereby indicating that our model is performing relatively well. \n",
    "\n",
    "Figure A reports the feature importance of the features included in our final regressor. The feature importances make it possible to determine what contributed to the predictions of the models, and if some of the features, to a higher extend, were included as noise. Based on the plot it is evident that the attribute *Cardiovascular disease death rate* is weighted the highest. However, many air-pollution deaths are, according to WHO attributable to cardiovascular disease, which might explain the high importance of this feature (Kim et. al 2020). We further observe that features such as $PM_{2.5}$, Asia and *GDP* are  significant predictors of death rates."
   ]
  },
  {
   "cell_type": "code",
   "execution_count": 39,
   "id": "c4be617d",
   "metadata": {},
   "outputs": [
    {
     "data": {
      "image/png": "[encoded data removed]",
      "text/plain": [
       "<Figure size 1440x360 with 2 Axes>"
      ]
     },
     "metadata": {
      "needs_background": "light"
     },
     "output_type": "display_data"
    }
   ],
   "source": [
    "# Initiating subplots\n",
    "colors= [\"#fff5f0\",\"#fee0d2\",\"#fcbba1\",\"#fc9272\",\"#fb6a4a\",\"#ef3b2c\",\"#cb181d\",\"#a50f15\",\"#67000d\"]\n",
    "\n",
    "fig, axes = plt.subplots(1, 2, figsize=(20,5))\n",
    "x = x.rename(columns={'Continent_Asia':'Asia','Continent_Europe': 'Europe', 'Continent_North America': 'North America', 'Continent_Oceania':'Oceania', 'Continent_South America':'South America'})\n",
    "\n",
    "#Visualization of feature importance:\n",
    "importances = best_model.feature_importances_\n",
    "std = np.std([best_model.feature_importances_ for best_model in best_model.estimators_], axis=0)\n",
    "forest_importances = pd.Series(importances, index=x.columns)\n",
    "forest_importances = forest_importances.sort_values(ascending=False)\n",
    "\n",
    "forest_importances.plot.bar(yerr=std, ax=axes[0], color = colors[7])\n",
    "axes[0].set_title(\"A) Feature importance \",fontsize=16,**csfont)\n",
    "axes[0].set_ylabel(\"Importance\",fontsize=14,**csfont)\n",
    "\n",
    "#Plotting the reltionship between y_validation and the predicted y:\n",
    "sns.scatterplot(x=y_val, y=y_val_best, ax=axes[1], color=colors[6])\n",
    "plt.ylabel(\"Predicted Air Pollution Deaths 2017\",**csfont, size=14)\n",
    "plt.xlabel(\"True Air Pollution Deaths 2017\",**csfont, size=14)\n",
    "plt.xlim([0,y_val.max()+40])\n",
    "plt.ylim([0,y_val.max()+20])\n",
    "plt.title('B) Scatterplot of relationship between true values and predicted values',**csfont,fontsize=16)\n",
    "\n",
    "#Visualizing subplots\n",
    "fig.suptitle('7: Results: Random Forest Regressor',y=1.1,fontsize=30,**csfont)\n",
    "plt.subplots_adjust(wspace=0.30, hspace=0.1)\n",
    "plt.show()"
   ]
  },
  {
   "cell_type": "markdown",
   "id": "d70e21c9",
   "metadata": {},
   "source": [
    "### 2.6 Conclusion: Global patterns\n",
    "<a name=\"conclusionglobal\"></a>\n",
    "\n",
    "Based on the first part of the project it is evident that countries with lower GDP are experiencing the biggest burden of polluted air. These countries are most often placed in either Africa or Asia, and are furthermore often the ones suffering from the highest death rates related to air pollution. The results are, thereby indicating clear signs of environmental inequality on a global scale. "
   ]
  },
  {
   "cell_type": "markdown",
   "id": "d71d067b",
   "metadata": {},
   "source": [
    "## 3. Pollution in Denmark\n",
    "<a name=\"denmark\"></a>\n",
    "\n",
    "**OBS: As the pollution data used in this part of the project is confidential, it will not be possible to run the following part of the notebook. All visualizations nevertheless shown in the notebook and on the website** "
   ]
  },
  {
   "cell_type": "markdown",
   "id": "882725e5",
   "metadata": {},
   "source": [
    "In this section of the report we are zooming in on Denmark to investigate possible inequalities in a country with with high GDP and low concentrations of air pollution. Through the first part of the assignment it became evident that countries with lower GDP experience higher death rates and higher concentrations of pollution than more developed countries. The same tendencies are found in the excisting literature, indicating that individuals with lower socioeconomic background are disproportionally affected by air pollution. Despite Denmark having low concentrations of air pollution, statistics still indicate that the death of 3.500 Danish citizens are caused by bad air every year. However, there is a lack of research into who the affected individuals are, and if there are geographical differences in the exposure, which is our main motivation for conducting this analysis.\n",
    "\n",
    "### 3.1 Data\n",
    "<a name=\"denmarkdata\"></a>\n",
    "\n",
    "Through this part of the analysis we are using data from three different sources to shed light on possible inequalitites related to bad air. The pollution data used in the analysis is collected in 2015, and we are therefore also retrieving social data from this year.\n",
    "\n",
    "**Luften på din vej**\n",
    "\n",
    "The pollution data is collected as a part of the research project *Luften på din vej*. The main goal of the original dataset is to raise awareness about air quality in a Danish context, and make the information available for the general public. The dataset contains three different types of pollutants ($NO_{2}$, $PM_{2.5}$ and $PM_{10}$), and the concentrations have been modelled for 2.4 milion adresses in Denmark. We are thus working with a dataset covering all parts of Denmark, leading to minimal bias related to activity (Wan & Nakayama, 2012). We got access to the dataset in relation to another project, and we are thereby not allowed to share the data further, or use it in its original form where it is mapped into 8043 smaller and more homogeneous Danish areas. It would furthermore, be impossible to gain access to social data (registerdata) on such a granular level. Thus, the data is mapped into Danish muncipalities in order to combine and compare it with data retrieved from Statistics Denmark. \n",
    "\n",
    "**Statistics Denmark**\n",
    "\n",
    "We are further retrieving multiple datasets from Statistics Denmark (Statistikbanken) and combining them based on muncipalities. The datasets cover aspects such as income, health expenses and the predicted life expectancy for children born in 2015.\n",
    "\n",
    "**Shapefiles from DAWA**\n",
    "\n",
    "Finally, we are using geographical shapefiles from DAWA to plot the Danish data. We are mapping our data into muncipalities (98) instead of regions (5) as this approach allows us to ivestigate differences on a more granular level. The shapefiles are retrieved through DAGI's (Danmarks Administrative Geografiske Inddeling) API. "
   ]
  },
  {
   "cell_type": "code",
   "execution_count": 2,
   "id": "4c31eceb",
   "metadata": {},
   "outputs": [
    {
     "data": {
      "text/html": [
       "\n",
       "    <div class=\"bk-root\">\n",
       "        <a href=\"https://bokeh.org\" target=\"_blank\" class=\"bk-logo bk-logo-small bk-logo-notebook\"></a>\n",
       "        <span id=\"1003\">Loading BokehJS ...</span>\n",
       "    </div>"
      ]
     },
     "metadata": {},
     "output_type": "display_data"
    },
    {
     "data": {
      "application/javascript": [
       "\n",
       "(function(root) {\n",
       "  function now() {\n",
       "    return new Date();\n",
       "  }\n",
       "\n",
       "  const force = true;\n",
       "\n",
       "  if (typeof root._bokeh_onload_callbacks === \"undefined\" || force === true) {\n",
       "    root._bokeh_onload_callbacks = [];\n",
       "    root._bokeh_is_loading = undefined;\n",
       "  }\n",
       "\n",
       "  const JS_MIME_TYPE = 'application/javascript';\n",
       "  const HTML_MIME_TYPE = 'text/html';\n",
       "  const EXEC_MIME_TYPE = 'application/vnd.bokehjs_exec.v0+json';\n",
       "  const CLASS_NAME = 'output_bokeh rendered_html';\n",
       "\n",
       "  /**\n",
       "   * Render data to the DOM node\n",
       "   */\n",
       "  function render(props, node) {\n",
       "    const script = document.createElement(\"script\");\n",
       "    node.appendChild(script);\n",
       "  }\n",
       "\n",
       "  /**\n",
       "   * Handle when an output is cleared or removed\n",
       "   */\n",
       "  function handleClearOutput(event, handle) {\n",
       "    const cell = handle.cell;\n",
       "\n",
       "    const id = cell.output_area._bokeh_element_id;\n",
       "    const server_id = cell.output_area._bokeh_server_id;\n",
       "    // Clean up Bokeh references\n",
       "    if (id != null && id in Bokeh.index) {\n",
       "      Bokeh.index[id].model.document.clear();\n",
       "      delete Bokeh.index[id];\n",
       "    }\n",
       "\n",
       "    if (server_id !== undefined) {\n",
       "      // Clean up Bokeh references\n",
       "      const cmd_clean = \"from bokeh.io.state import curstate; print(curstate().uuid_to_server['\" + server_id + \"'].get_sessions()[0].document.roots[0]._id)\";\n",
       "      cell.notebook.kernel.execute(cmd_clean, {\n",
       "        iopub: {\n",
       "          output: function(msg) {\n",
       "            const id = msg.content.text.trim();\n",
       "            if (id in Bokeh.index) {\n",
       "              Bokeh.index[id].model.document.clear();\n",
       "              delete Bokeh.index[id];\n",
       "            }\n",
       "          }\n",
       "        }\n",
       "      });\n",
       "      // Destroy server and session\n",
       "      const cmd_destroy = \"import bokeh.io.notebook as ion; ion.destroy_server('\" + server_id + \"')\";\n",
       "      cell.notebook.kernel.execute(cmd_destroy);\n",
       "    }\n",
       "  }\n",
       "\n",
       "  /**\n",
       "   * Handle when a new output is added\n",
       "   */\n",
       "  function handleAddOutput(event, handle) {\n",
       "    const output_area = handle.output_area;\n",
       "    const output = handle.output;\n",
       "\n",
       "    // limit handleAddOutput to display_data with EXEC_MIME_TYPE content only\n",
       "    if ((output.output_type != \"display_data\") || (!Object.prototype.hasOwnProperty.call(output.data, EXEC_MIME_TYPE))) {\n",
       "      return\n",
       "    }\n",
       "\n",
       "    const toinsert = output_area.element.find(\".\" + CLASS_NAME.split(' ')[0]);\n",
       "\n",
       "    if (output.metadata[EXEC_MIME_TYPE][\"id\"] !== undefined) {\n",
       "      toinsert[toinsert.length - 1].firstChild.textContent = output.data[JS_MIME_TYPE];\n",
       "      // store reference to embed id on output_area\n",
       "      output_area._bokeh_element_id = output.metadata[EXEC_MIME_TYPE][\"id\"];\n",
       "    }\n",
       "    if (output.metadata[EXEC_MIME_TYPE][\"server_id\"] !== undefined) {\n",
       "      const bk_div = document.createElement(\"div\");\n",
       "      bk_div.innerHTML = output.data[HTML_MIME_TYPE];\n",
       "      const script_attrs = bk_div.children[0].attributes;\n",
       "      for (let i = 0; i < script_attrs.length; i++) {\n",
       "        toinsert[toinsert.length - 1].firstChild.setAttribute(script_attrs[i].name, script_attrs[i].value);\n",
       "        toinsert[toinsert.length - 1].firstChild.textContent = bk_div.children[0].textContent\n",
       "      }\n",
       "      // store reference to server id on output_area\n",
       "      output_area._bokeh_server_id = output.metadata[EXEC_MIME_TYPE][\"server_id\"];\n",
       "    }\n",
       "  }\n",
       "\n",
       "  function register_renderer(events, OutputArea) {\n",
       "\n",
       "    function append_mime(data, metadata, element) {\n",
       "      // create a DOM node to render to\n",
       "      const toinsert = this.create_output_subarea(\n",
       "        metadata,\n",
       "        CLASS_NAME,\n",
       "        EXEC_MIME_TYPE\n",
       "      );\n",
       "      this.keyboard_manager.register_events(toinsert);\n",
       "      // Render to node\n",
       "      const props = {data: data, metadata: metadata[EXEC_MIME_TYPE]};\n",
       "      render(props, toinsert[toinsert.length - 1]);\n",
       "      element.append(toinsert);\n",
       "      return toinsert\n",
       "    }\n",
       "\n",
       "    /* Handle when an output is cleared or removed */\n",
       "    events.on('clear_output.CodeCell', handleClearOutput);\n",
       "    events.on('delete.Cell', handleClearOutput);\n",
       "\n",
       "    /* Handle when a new output is added */\n",
       "    events.on('output_added.OutputArea', handleAddOutput);\n",
       "\n",
       "    /**\n",
       "     * Register the mime type and append_mime function with output_area\n",
       "     */\n",
       "    OutputArea.prototype.register_mime_type(EXEC_MIME_TYPE, append_mime, {\n",
       "      /* Is output safe? */\n",
       "      safe: true,\n",
       "      /* Index of renderer in `output_area.display_order` */\n",
       "      index: 0\n",
       "    });\n",
       "  }\n",
       "\n",
       "  // register the mime type if in Jupyter Notebook environment and previously unregistered\n",
       "  if (root.Jupyter !== undefined) {\n",
       "    const events = require('base/js/events');\n",
       "    const OutputArea = require('notebook/js/outputarea').OutputArea;\n",
       "\n",
       "    if (OutputArea.prototype.mime_types().indexOf(EXEC_MIME_TYPE) == -1) {\n",
       "      register_renderer(events, OutputArea);\n",
       "    }\n",
       "  }\n",
       "\n",
       "  \n",
       "  if (typeof (root._bokeh_timeout) === \"undefined\" || force === true) {\n",
       "    root._bokeh_timeout = Date.now() + 5000;\n",
       "    root._bokeh_failed_load = false;\n",
       "  }\n",
       "\n",
       "  const NB_LOAD_WARNING = {'data': {'text/html':\n",
       "     \"<div style='background-color: #fdd'>\\n\"+\n",
       "     \"<p>\\n\"+\n",
       "     \"BokehJS does not appear to have successfully loaded. If loading BokehJS from CDN, this \\n\"+\n",
       "     \"may be due to a slow or bad network connection. Possible fixes:\\n\"+\n",
       "     \"</p>\\n\"+\n",
       "     \"<ul>\\n\"+\n",
       "     \"<li>re-rerun `output_notebook()` to attempt to load from CDN again, or</li>\\n\"+\n",
       "     \"<li>use INLINE resources instead, as so:</li>\\n\"+\n",
       "     \"</ul>\\n\"+\n",
       "     \"<code>\\n\"+\n",
       "     \"from bokeh.resources import INLINE\\n\"+\n",
       "     \"output_notebook(resources=INLINE)\\n\"+\n",
       "     \"</code>\\n\"+\n",
       "     \"</div>\"}};\n",
       "\n",
       "  function display_loaded() {\n",
       "    const el = document.getElementById(\"1003\");\n",
       "    if (el != null) {\n",
       "      el.textContent = \"BokehJS is loading...\";\n",
       "    }\n",
       "    if (root.Bokeh !== undefined) {\n",
       "      if (el != null) {\n",
       "        el.textContent = \"BokehJS \" + root.Bokeh.version + \" successfully loaded.\";\n",
       "      }\n",
       "    } else if (Date.now() < root._bokeh_timeout) {\n",
       "      setTimeout(display_loaded, 100)\n",
       "    }\n",
       "  }\n",
       "\n",
       "\n",
       "  function run_callbacks() {\n",
       "    try {\n",
       "      root._bokeh_onload_callbacks.forEach(function(callback) {\n",
       "        if (callback != null)\n",
       "          callback();\n",
       "      });\n",
       "    } finally {\n",
       "      delete root._bokeh_onload_callbacks\n",
       "    }\n",
       "    console.debug(\"Bokeh: all callbacks have finished\");\n",
       "  }\n",
       "\n",
       "  function load_libs(css_urls, js_urls, callback) {\n",
       "    if (css_urls == null) css_urls = [];\n",
       "    if (js_urls == null) js_urls = [];\n",
       "\n",
       "    root._bokeh_onload_callbacks.push(callback);\n",
       "    if (root._bokeh_is_loading > 0) {\n",
       "      console.debug(\"Bokeh: BokehJS is being loaded, scheduling callback at\", now());\n",
       "      return null;\n",
       "    }\n",
       "    if (js_urls == null || js_urls.length === 0) {\n",
       "      run_callbacks();\n",
       "      return null;\n",
       "    }\n",
       "    console.debug(\"Bokeh: BokehJS not loaded, scheduling load and callback at\", now());\n",
       "    root._bokeh_is_loading = css_urls.length + js_urls.length;\n",
       "\n",
       "    function on_load() {\n",
       "      root._bokeh_is_loading--;\n",
       "      if (root._bokeh_is_loading === 0) {\n",
       "        console.debug(\"Bokeh: all BokehJS libraries/stylesheets loaded\");\n",
       "        run_callbacks()\n",
       "      }\n",
       "    }\n",
       "\n",
       "    function on_error(url) {\n",
       "      console.error(\"failed to load \" + url);\n",
       "    }\n",
       "\n",
       "    for (let i = 0; i < css_urls.length; i++) {\n",
       "      const url = css_urls[i];\n",
       "      const element = document.createElement(\"link\");\n",
       "      element.onload = on_load;\n",
       "      element.onerror = on_error.bind(null, url);\n",
       "      element.rel = \"stylesheet\";\n",
       "      element.type = \"text/css\";\n",
       "      element.href = url;\n",
       "      console.debug(\"Bokeh: injecting link tag for BokehJS stylesheet: \", url);\n",
       "      document.body.appendChild(element);\n",
       "    }\n",
       "\n",
       "    for (let i = 0; i < js_urls.length; i++) {\n",
       "      const url = js_urls[i];\n",
       "      const element = document.createElement('script');\n",
       "      element.onload = on_load;\n",
       "      element.onerror = on_error.bind(null, url);\n",
       "      element.async = false;\n",
       "      element.src = url;\n",
       "      console.debug(\"Bokeh: injecting script tag for BokehJS library: \", url);\n",
       "      document.head.appendChild(element);\n",
       "    }\n",
       "  };\n",
       "\n",
       "  function inject_raw_css(css) {\n",
       "    const element = document.createElement(\"style\");\n",
       "    element.appendChild(document.createTextNode(css));\n",
       "    document.body.appendChild(element);\n",
       "  }\n",
       "\n",
       "  \n",
       "  const js_urls = [\"https://cdn.bokeh.org/bokeh/release/bokeh-2.4.2.min.js\", \"https://cdn.bokeh.org/bokeh/release/bokeh-gl-2.4.2.min.js\", \"https://cdn.bokeh.org/bokeh/release/bokeh-widgets-2.4.2.min.js\", \"https://cdn.bokeh.org/bokeh/release/bokeh-tables-2.4.2.min.js\", \"https://cdn.bokeh.org/bokeh/release/bokeh-mathjax-2.4.2.min.js\"];\n",
       "  const css_urls = [];\n",
       "  \n",
       "\n",
       "  const inline_js = [\n",
       "    function(Bokeh) {\n",
       "      Bokeh.set_log_level(\"info\");\n",
       "    },\n",
       "    function(Bokeh) {\n",
       "    \n",
       "    \n",
       "    }\n",
       "  ];\n",
       "\n",
       "  function run_inline_js() {\n",
       "    \n",
       "    if (root.Bokeh !== undefined || force === true) {\n",
       "      \n",
       "    for (let i = 0; i < inline_js.length; i++) {\n",
       "      inline_js[i].call(root, root.Bokeh);\n",
       "    }\n",
       "    if (force === true) {\n",
       "        display_loaded();\n",
       "      }} else if (Date.now() < root._bokeh_timeout) {\n",
       "      setTimeout(run_inline_js, 100);\n",
       "    } else if (!root._bokeh_failed_load) {\n",
       "      console.log(\"Bokeh: BokehJS failed to load within specified timeout.\");\n",
       "      root._bokeh_failed_load = true;\n",
       "    } else if (force !== true) {\n",
       "      const cell = $(document.getElementById(\"1003\")).parents('.cell').data().cell;\n",
       "      cell.output_area.append_execute_result(NB_LOAD_WARNING)\n",
       "    }\n",
       "\n",
       "  }\n",
       "\n",
       "  if (root._bokeh_is_loading === 0) {\n",
       "    console.debug(\"Bokeh: BokehJS loaded, going straight to plotting\");\n",
       "    run_inline_js();\n",
       "  } else {\n",
       "    load_libs(css_urls, js_urls, function() {\n",
       "      console.debug(\"Bokeh: BokehJS plotting callback run at\", now());\n",
       "      run_inline_js();\n",
       "    });\n",
       "  }\n",
       "}(window));"
      ],
      "application/vnd.bokehjs_load.v0+json": "\n(function(root) {\n  function now() {\n    return new Date();\n  }\n\n  const force = true;\n\n  if (typeof root._bokeh_onload_callbacks === \"undefined\" || force === true) {\n    root._bokeh_onload_callbacks = [];\n    root._bokeh_is_loading = undefined;\n  }\n\n  \n\n  \n  if (typeof (root._bokeh_timeout) === \"undefined\" || force === true) {\n    root._bokeh_timeout = Date.now() + 5000;\n    root._bokeh_failed_load = false;\n  }\n\n  const NB_LOAD_WARNING = {'data': {'text/html':\n     \"<div style='background-color: #fdd'>\\n\"+\n     \"<p>\\n\"+\n     \"BokehJS does not appear to have successfully loaded. If loading BokehJS from CDN, this \\n\"+\n     \"may be due to a slow or bad network connection. Possible fixes:\\n\"+\n     \"</p>\\n\"+\n     \"<ul>\\n\"+\n     \"<li>re-rerun `output_notebook()` to attempt to load from CDN again, or</li>\\n\"+\n     \"<li>use INLINE resources instead, as so:</li>\\n\"+\n     \"</ul>\\n\"+\n     \"<code>\\n\"+\n     \"from bokeh.resources import INLINE\\n\"+\n     \"output_notebook(resources=INLINE)\\n\"+\n     \"</code>\\n\"+\n     \"</div>\"}};\n\n  function display_loaded() {\n    const el = document.getElementById(\"1003\");\n    if (el != null) {\n      el.textContent = \"BokehJS is loading...\";\n    }\n    if (root.Bokeh !== undefined) {\n      if (el != null) {\n        el.textContent = \"BokehJS \" + root.Bokeh.version + \" successfully loaded.\";\n      }\n    } else if (Date.now() < root._bokeh_timeout) {\n      setTimeout(display_loaded, 100)\n    }\n  }\n\n\n  function run_callbacks() {\n    try {\n      root._bokeh_onload_callbacks.forEach(function(callback) {\n        if (callback != null)\n          callback();\n      });\n    } finally {\n      delete root._bokeh_onload_callbacks\n    }\n    console.debug(\"Bokeh: all callbacks have finished\");\n  }\n\n  function load_libs(css_urls, js_urls, callback) {\n    if (css_urls == null) css_urls = [];\n    if (js_urls == null) js_urls = [];\n\n    root._bokeh_onload_callbacks.push(callback);\n    if (root._bokeh_is_loading > 0) {\n      console.debug(\"Bokeh: BokehJS is being loaded, scheduling callback at\", now());\n      return null;\n    }\n    if (js_urls == null || js_urls.length === 0) {\n      run_callbacks();\n      return null;\n    }\n    console.debug(\"Bokeh: BokehJS not loaded, scheduling load and callback at\", now());\n    root._bokeh_is_loading = css_urls.length + js_urls.length;\n\n    function on_load() {\n      root._bokeh_is_loading--;\n      if (root._bokeh_is_loading === 0) {\n        console.debug(\"Bokeh: all BokehJS libraries/stylesheets loaded\");\n        run_callbacks()\n      }\n    }\n\n    function on_error(url) {\n      console.error(\"failed to load \" + url);\n    }\n\n    for (let i = 0; i < css_urls.length; i++) {\n      const url = css_urls[i];\n      const element = document.createElement(\"link\");\n      element.onload = on_load;\n      element.onerror = on_error.bind(null, url);\n      element.rel = \"stylesheet\";\n      element.type = \"text/css\";\n      element.href = url;\n      console.debug(\"Bokeh: injecting link tag for BokehJS stylesheet: \", url);\n      document.body.appendChild(element);\n    }\n\n    for (let i = 0; i < js_urls.length; i++) {\n      const url = js_urls[i];\n      const element = document.createElement('script');\n      element.onload = on_load;\n      element.onerror = on_error.bind(null, url);\n      element.async = false;\n      element.src = url;\n      console.debug(\"Bokeh: injecting script tag for BokehJS library: \", url);\n      document.head.appendChild(element);\n    }\n  };\n\n  function inject_raw_css(css) {\n    const element = document.createElement(\"style\");\n    element.appendChild(document.createTextNode(css));\n    document.body.appendChild(element);\n  }\n\n  \n  const js_urls = [\"https://cdn.bokeh.org/bokeh/release/bokeh-2.4.2.min.js\", \"https://cdn.bokeh.org/bokeh/release/bokeh-gl-2.4.2.min.js\", \"https://cdn.bokeh.org/bokeh/release/bokeh-widgets-2.4.2.min.js\", \"https://cdn.bokeh.org/bokeh/release/bokeh-tables-2.4.2.min.js\", \"https://cdn.bokeh.org/bokeh/release/bokeh-mathjax-2.4.2.min.js\"];\n  const css_urls = [];\n  \n\n  const inline_js = [\n    function(Bokeh) {\n      Bokeh.set_log_level(\"info\");\n    },\n    function(Bokeh) {\n    \n    \n    }\n  ];\n\n  function run_inline_js() {\n    \n    if (root.Bokeh !== undefined || force === true) {\n      \n    for (let i = 0; i < inline_js.length; i++) {\n      inline_js[i].call(root, root.Bokeh);\n    }\n    if (force === true) {\n        display_loaded();\n      }} else if (Date.now() < root._bokeh_timeout) {\n      setTimeout(run_inline_js, 100);\n    } else if (!root._bokeh_failed_load) {\n      console.log(\"Bokeh: BokehJS failed to load within specified timeout.\");\n      root._bokeh_failed_load = true;\n    } else if (force !== true) {\n      const cell = $(document.getElementById(\"1003\")).parents('.cell').data().cell;\n      cell.output_area.append_execute_result(NB_LOAD_WARNING)\n    }\n\n  }\n\n  if (root._bokeh_is_loading === 0) {\n    console.debug(\"Bokeh: BokehJS loaded, going straight to plotting\");\n    run_inline_js();\n  } else {\n    load_libs(css_urls, js_urls, function() {\n      console.debug(\"Bokeh: BokehJS plotting callback run at\", now());\n      run_inline_js();\n    });\n  }\n}(window));"
     },
     "metadata": {},
     "output_type": "display_data"
    }
   ],
   "source": [
    "#Importing modules:\n",
    "import pandas as pd\n",
    "import numpy as np\n",
    "from pyproj import CRS\n",
    "import geopandas as gpd\n",
    "from pyproj import Proj, transform\n",
    "import matplotlib.pyplot as plt\n",
    "from scipy import stats\n",
    "import astropy.stats\n",
    "from plotly.subplots import make_subplots\n",
    "import plotly.graph_objects as go\n",
    "import folium\n",
    "\n",
    "# Importing relevant modules for making bokeh-plots \n",
    "from bokeh.io import push_notebook, show, output_notebook\n",
    "from bokeh.layouts import row \n",
    "from bokeh.plotting import figure\n",
    "from bokeh.transform import factor_cmap\n",
    "from bokeh.plotting import figure\n",
    "from bokeh.io import show, output_notebook, reset_output\n",
    "from bokeh.models import  ColumnDataSource, Legend\n",
    "from bokeh.models import HoverTool\n",
    "from bokeh.models.widgets import Tabs, Panel\n",
    "from bokeh.io import curdoc\n",
    "from bokeh.layouts import layout\n",
    "from bokeh.models import LinearInterpolator\n",
    "from bokeh.plotting import figure, output_file, save\n",
    "from bokeh.layouts import column\n",
    "from bokeh.models import Div\n",
    "output_notebook()"
   ]
  },
  {
   "cell_type": "markdown",
   "id": "ed619667",
   "metadata": {},
   "source": [
    "### 3.2: Data mining and preprocessing\n",
    "<a name=\"denmarkpre\"></a>\n",
    "As an initial stage of the analysis we are mapping the smaller areas into the Danish muncipalities. As shown below, each area is represented by a ploygon with geographical information in the form of epsg 25832 (UTM zone 32N). However, the data retrieved through DAWA is in the format of epsg 4326 (standard coordinate frame for the Earth), and it is therefore necessary to convert our data to this format before mapping the smaller areas and muncipalities together."
   ]
  },
  {
   "cell_type": "code",
   "execution_count": 3,
   "id": "87468abe",
   "metadata": {},
   "outputs": [
    {
     "data": {
      "image/svg+xml": [
       "<svg xmlns=\"http://www.w3.org/2000/svg\" xmlns:xlink=\"http://www.w3.org/1999/xlink\" width=\"300\" height=\"300\" viewBox=\"607520.0 6066620.0 2160.0 1860.0\" preserveAspectRatio=\"xMinYMin meet\"><g transform=\"matrix(1,0,0,-1,0,12135100.0)\"><path fill-rule=\"evenodd\" fill=\"#66cc99\" stroke=\"#555555\" stroke-width=\"14.4\" opacity=\"0.6\" d=\"M 609500.0,6068400.0 L 609500.0,6068300.0 L 609600.0,6068300.0 L 609600.0,6068200.0 L 609600.0,6068100.0 L 609600.0,6068000.0 L 609600.0,6067900.0 L 609600.0,6067800.0 L 609600.0,6067700.0 L 609500.0,6067700.0 L 609500.0,6067600.0 L 609500.0,6067500.0 L 609500.0,6067400.0 L 609500.0,6067300.0 L 609500.0,6067200.0 L 609500.0,6067100.0 L 609500.0,6067000.0 L 609400.0,6067000.0 L 609400.0,6066900.0 L 609300.0,6066900.0 L 609200.0,6066900.0 L 609200.0,6066800.0 L 609100.0,6066800.0 L 609000.0,6066800.0 L 608900.0,6066800.0 L 608900.0,6066700.0 L 608800.0,6066700.0 L 608700.0,6066700.0 L 608600.0,6066700.0 L 608500.0,6066700.0 L 608400.0,6066700.0 L 608300.0,6066700.0 L 608300.0,6066800.0 L 608300.0,6066900.0 L 608200.0,6066900.0 L 608200.0,6067000.0 L 608200.0,6067100.0 L 608200.0,6067200.0 L 608200.0,6067300.0 L 608200.0,6067400.0 L 608200.0,6067500.0 L 608100.0,6067500.0 L 608100.0,6067600.0 L 608000.0,6067600.0 L 608000.0,6067700.0 L 607900.0,6067700.0 L 607800.0,6067700.0 L 607800.0,6067800.0 L 607800.0,6067900.0 L 607700.0,6067900.0 L 607700.0,6068000.0 L 607600.0,6068000.0 L 607600.0,6068100.0 L 607600.0,6068200.0 L 607700.0,6068200.0 L 607800.0,6068200.0 L 607900.0,6068200.0 L 608000.0,6068200.0 L 608100.0,6068200.0 L 608200.0,6068200.0 L 608200.0,6068300.0 L 608300.0,6068300.0 L 608400.0,6068300.0 L 608500.0,6068300.0 L 608600.0,6068300.0 L 608700.0,6068300.0 L 608800.0,6068300.0 L 608900.0,6068300.0 L 608900.0,6068400.0 L 609000.0,6068400.0 L 609100.0,6068400.0 L 609100.0,6068300.0 L 609200.0,6068300.0 L 609300.0,6068300.0 L 609400.0,6068300.0 L 609400.0,6068400.0 L 609500.0,6068400.0 z\" /></g></svg>"
      ],
      "text/plain": [
       "<shapely.geometry.polygon.Polygon at 0x7fad11abd940>"
      ]
     },
     "execution_count": 3,
     "metadata": {},
     "output_type": "execute_result"
    }
   ],
   "source": [
    "#Importing the shapefile representing the 8043 areas:\n",
    "areas_ = gpd.read_file(\"mergedarea.dbf\")\n",
    "\n",
    "# Define crs\n",
    "areas_.crs = CRS.from_epsg(25832)\n",
    "\n",
    "#Visualizing the initial format of the geo-data:\n",
    "areas_.geometry[0]"
   ]
  },
  {
   "cell_type": "markdown",
   "id": "c4f6d2aa",
   "metadata": {},
   "source": [
    "<img src= \"https://raw.githubusercontent.com/KvantropologSofie/socialdata2022.io/main/area.png\" width=\"300\"/>"
   ]
  },
  {
   "cell_type": "markdown",
   "id": "22d9e0a2",
   "metadata": {},
   "source": [
    "For each area in our original dataset we are finding the centroid. These centroids will afterwards be used to map each of the initial areas into muncipalities based on the nearest neighbors. "
   ]
  },
  {
   "cell_type": "code",
   "execution_count": 4,
   "id": "8d07de2e",
   "metadata": {},
   "outputs": [],
   "source": [
    "#Finding the centroid for each goemetry:\n",
    "areas_['centroid'] = areas_['geometry'].centroid"
   ]
  },
  {
   "cell_type": "markdown",
   "id": "ca6bb881",
   "metadata": {},
   "source": [
    "We are now transforming each centroid to the desired format by using PYPROJ (a cartographic projections and coordinate transformations library)."
   ]
  },
  {
   "cell_type": "code",
   "execution_count": 5,
   "id": "67442016",
   "metadata": {},
   "outputs": [],
   "source": [
    "#Defining function to transform the epsg of our data:\n",
    "def mytransform(point):\n",
    "    inProj = Proj('epsg:25832') #input proj\n",
    "    outProj = Proj('epsg:4326') #output proj\n",
    "    x1, y1 = point.x, point.y\n",
    "    x2, y2 = transform(inProj,outProj,x1,y1)\n",
    "    return [y2, x2] #returning lan and lon\n",
    "\n",
    "#Applying the function to the centroids to get latitude and longitude:\n",
    "areas_['lat_lon'] = areas_['centroid'].apply(mytransform)"
   ]
  },
  {
   "cell_type": "markdown",
   "id": "1aeeb8de",
   "metadata": {},
   "source": [
    "Retrieving shapefiles from DAWA and turning the relevant information into a dataframe:"
   ]
  },
  {
   "cell_type": "code",
   "execution_count": 10,
   "id": "2ce4e4c5",
   "metadata": {},
   "outputs": [],
   "source": [
    "import requests\n",
    "response = requests.get(\"https://api.dataforsyningen.dk/kommuner\")\n",
    "shapefile = response.json()"
   ]
  },
  {
   "cell_type": "code",
   "execution_count": 12,
   "id": "a9314080",
   "metadata": {},
   "outputs": [],
   "source": [
    "#Importing the shapefile from dawa:\n",
    "#Creating empty lists to save the information:\n",
    "names = []\n",
    "coordinates = []\n",
    "region = []\n",
    "bb = []\n",
    "kod = []\n",
    "\n",
    "#looping through the shapefile to save the information as a dataframe:\n",
    "for item in shapefile:\n",
    "    i = item['navn']\n",
    "    c = item['visueltcenter']\n",
    "    r = item['region']['navn']\n",
    "    b = item['bbox']\n",
    "    k = item['kode']\n",
    "    \n",
    "    #appending the info to the empty lists:\n",
    "    names.append(i)\n",
    "    coordinates.append(c)\n",
    "    region.append(r)\n",
    "    bb.append(b)\n",
    "    kod.append(k)\n",
    "    \n",
    "    #Creating final dataframe containing the information of interest:\n",
    "    df = pd.DataFrame(list(zip(names, coordinates, region, bb, kod)),\n",
    "               columns =['Name', 'Coordinates', 'Region', 'B', 'kode'])"
   ]
  },
  {
   "cell_type": "markdown",
   "id": "ea19d12c",
   "metadata": {},
   "source": [
    "We are now mapping each of the smaller areas in our original dataset into the muncipalities found through DAWA. Each small area is mapped into the closest muncipality (the nearest neighbor) based on the centroid (the middle of the polygon). "
   ]
  },
  {
   "cell_type": "code",
   "execution_count": 13,
   "id": "02745ee7",
   "metadata": {},
   "outputs": [],
   "source": [
    "#Find closest municipality\n",
    "X = []\n",
    "Y = []\n",
    "\n",
    "for j, reg in enumerate(areas_.lat_lon): #Looping through the converted centroids.\n",
    "    dist = [] #Empty list\n",
    "    for i, mun in enumerate(df.Coordinates): #Looping through each muncipalities coordinates:\n",
    "        #appending the distance between lat and lon to the empty list:\n",
    "        dist.append(np.linalg.norm([mun[0]-reg[0], mun[0]-reg[0]])) \n",
    "    dists = np.array(dist) \n",
    "    idx = dists.argmin()\n",
    "    #X[idx].append(j)\n",
    "    X.append(df.iloc[idx].Name)\n",
    "    Y.append(df.iloc[idx].kode)\n",
    "    matches = pd.DataFrame(zip(X,Y), columns =['City', 'Kode'])\n",
    "\n",
    "#creating a final column in the dataset corresponding to the respective area:\n",
    "matches = matches.reset_index()\n",
    "matches['area'] = matches['index'] + 1"
   ]
  },
  {
   "cell_type": "markdown",
   "id": "96bf93b7",
   "metadata": {},
   "source": [
    "The pollution data is now merged onto the new dataset by maching based on areas:"
   ]
  },
  {
   "cell_type": "code",
   "execution_count": 15,
   "id": "b017c440",
   "metadata": {},
   "outputs": [
    {
     "data": {
      "text/html": [
       "<div>\n",
       "<style scoped>\n",
       "    .dataframe tbody tr th:only-of-type {\n",
       "        vertical-align: middle;\n",
       "    }\n",
       "\n",
       "    .dataframe tbody tr th {\n",
       "        vertical-align: top;\n",
       "    }\n",
       "\n",
       "    .dataframe thead th {\n",
       "        text-align: right;\n",
       "    }\n",
       "</style>\n",
       "<table border=\"1\" class=\"dataframe\">\n",
       "  <thead>\n",
       "    <tr style=\"text-align: right;\">\n",
       "      <th></th>\n",
       "      <th>City</th>\n",
       "      <th>Kode</th>\n",
       "      <th>area</th>\n",
       "      <th>MEAN_NO2Gade</th>\n",
       "      <th>MEAN_PM25Gade</th>\n",
       "      <th>MEAN_PM10Gade</th>\n",
       "    </tr>\n",
       "  </thead>\n",
       "  <tbody>\n",
       "    <tr>\n",
       "      <th>0</th>\n",
       "      <td>Nyborg</td>\n",
       "      <td>0450</td>\n",
       "      <td>1</td>\n",
       "      <td>7.652307</td>\n",
       "      <td>10.539932</td>\n",
       "      <td>14.297604</td>\n",
       "    </tr>\n",
       "    <tr>\n",
       "      <th>1</th>\n",
       "      <td>Langeland</td>\n",
       "      <td>0482</td>\n",
       "      <td>2</td>\n",
       "      <td>7.765130</td>\n",
       "      <td>10.593023</td>\n",
       "      <td>14.325582</td>\n",
       "    </tr>\n",
       "  </tbody>\n",
       "</table>\n",
       "</div>"
      ],
      "text/plain": [
       "        City  Kode  area  MEAN_NO2Gade  MEAN_PM25Gade  MEAN_PM10Gade\n",
       "0     Nyborg  0450     1      7.652307      10.539932      14.297604\n",
       "1  Langeland  0482     2      7.765130      10.593023      14.325582"
      ]
     },
     "execution_count": 15,
     "metadata": {},
     "output_type": "execute_result"
    }
   ],
   "source": [
    "#Reading the data\n",
    "pollution = pd.read_csv('pollution.csv')\n",
    "#Merging based on areas:\n",
    "pollution = pollution.merge(matches, on='area')\n",
    "pollution = pollution[['City', 'Kode','area', 'MEAN_NO2Gade', 'MEAN_PM25Gade', 'MEAN_PM10Gade']]\n",
    "pollution.head(2)"
   ]
  },
  {
   "cell_type": "markdown",
   "id": "c823ccb5",
   "metadata": {},
   "source": [
    "Looking into how many areas we have in each of the different muncipalities:"
   ]
  },
  {
   "cell_type": "code",
   "execution_count": 16,
   "id": "7b53a283",
   "metadata": {},
   "outputs": [],
   "source": [
    "agg = pollution.groupby('City').agg({'area': 'count', 'MEAN_PM25Gade':'var'}).sort_values(ascending=False, by='area').reset_index()"
   ]
  },
  {
   "cell_type": "code",
   "execution_count": 17,
   "id": "90aeb900",
   "metadata": {},
   "outputs": [
    {
     "name": "stdout",
     "output_type": "stream",
     "text": [
      "The muncipalities with fewest areas is: Ballerup with 2 areas.\n",
      "The muncipalities with most areas is: Nordfyns with 280 areas.\n"
     ]
    }
   ],
   "source": [
    "print('The muncipalities with fewest areas is:',agg['City'].iloc[-1], 'with',agg['area'].iloc[-1], 'areas.')\n",
    "print('The muncipalities with most areas is:', agg['City'].iloc[0], 'with',agg['area'].iloc[0], 'areas.')"
   ]
  },
  {
   "cell_type": "markdown",
   "id": "64328486",
   "metadata": {},
   "source": [
    "It is evident that there are quite big differences in the number of areas per muncipality. We therefore decided to look further into this, by plotting a histogram, and thereby getting a overview of the distribution of areas in each muncipality. As in Assignment 1, we choose to define the bin with using Scott's rule (Janert, 2010, p. 16). "
   ]
  },
  {
   "cell_type": "code",
   "execution_count": 20,
   "id": "d842eb94",
   "metadata": {},
   "outputs": [
    {
     "data": {
      "image/png": "[encoded data removed]",
      "text/plain": [
       "<Figure size 432x288 with 1 Axes>"
      ]
     },
     "metadata": {
      "needs_background": "light"
     },
     "output_type": "display_data"
    }
   ],
   "source": [
    "#Finding the right bin width:\n",
    "scotts = astropy.stats.scott_bin_width(agg['area'])\n",
    "\n",
    "#Plotting:\n",
    "plt.hist(agg['area'], color = '#fcbba1', edgecolor='black', bins=np.arange(min(agg['area']), max(agg['area']), scotts))\n",
    "plt.title('Figure 9: Number of areas per muncipality', size=16, **csfont)\n",
    "plt.xlabel(\"Nuber of areas\", **csfont)\n",
    "plt.ylabel(\"Muncipalities\", **csfont)\n",
    "plt.show()"
   ]
  },
  {
   "cell_type": "markdown",
   "id": "8b3df597",
   "metadata": {},
   "source": [
    "Based on the histogram it is evident that most of the muncipalities have less than 50 areas, while only few are having more than 200. Under other circumstances it would make sense to look further into the variance in concentrations of air pollutants to investigate possible bias related to issues such as a lack of sensors in specific areas. Nevertheless, as the smaller areas used in this project are already aggregated based on street level (where we have the concentrations for each street in Denmark), we find it reasonable to aggregate the smaller areas into the muncipalities, in order to be able to compare the concentrations with our social/economic data."
   ]
  },
  {
   "cell_type": "code",
   "execution_count": 27,
   "id": "c52b5a1a",
   "metadata": {},
   "outputs": [],
   "source": [
    "#Grouping by muncipality and taking the mean of the airpollutants:\n",
    "agg_pollution = pollution.groupby(['City', 'Kode']).agg({'MEAN_NO2Gade': 'mean', 'MEAN_PM25Gade': 'mean','MEAN_PM10Gade': 'mean'}).reset_index()"
   ]
  },
  {
   "cell_type": "markdown",
   "id": "968b060b",
   "metadata": {},
   "source": [
    "**Adding social data from Statistics Denmark**\n",
    "\n",
    "We are further adding data from statistics Denmark to the dataframe. The data is merged based on muncipalities. As described earlier, we are interested in data regarding income, health-expenses and life-expectancy of children born in 2015. "
   ]
  },
  {
   "cell_type": "code",
   "execution_count": 28,
   "id": "27e2da49",
   "metadata": {},
   "outputs": [],
   "source": [
    "#average income:\n",
    "income = pd.read_excel('indkomst_dk_statistik.xlsx')  \n",
    "income = income.rename(columns={\"Unnamed: 0\": \"munci\", \"2015\":\"Income\"})\n",
    "income = income.drop(columns={\"2016\",\"2017\",\"2018\",\"2019\",\"2020\"})\n",
    "\n",
    "#health expenses:\n",
    "health_expenses = pd.read_excel('sundhedsudgifter.xlsx') \n",
    "\n",
    "#Merging:\n",
    "data_frames = [health_expenses, income]\n",
    "\n",
    "import functools as ft\n",
    "df_dk = ft.reduce(lambda left, right: pd.merge(left, right, on='munci'), data_frames)\n",
    "\n",
    "#Life expectancy for kids born now:\n",
    "life_expectancy = pd.read_excel('life_expect.xlsx') \n",
    "life_expectancy = life_expectancy.rename(columns={\"All Denmark\": \"munci\", 80.9:\"Life expectancy kids\"})\n",
    "\n",
    "df_dk = df_dk.merge(life_expectancy, on='munci', how='left')\n",
    "\n",
    "#Merging social factors and pollutiondata:\n",
    "df_dk = df_dk.merge(agg_pollution, left_on='munci', right_on ='City', how='right')"
   ]
  },
  {
   "cell_type": "markdown",
   "id": "c4c83afc",
   "metadata": {},
   "source": [
    "**Adding geodata to the frame:**\n",
    "\n",
    "As the last part of the preprocessing we are adding additional geo-data to the dataframe such as the coordinates of each muncipality and the corresponding region. We are again using the data from DAWA, but this time by importing it as a geopandas dataframe."
   ]
  },
  {
   "cell_type": "code",
   "execution_count": 29,
   "id": "4c3e5706",
   "metadata": {},
   "outputs": [],
   "source": [
    "#Importing the geo-locations as a geopandas df:\n",
    "locations_df = gpd.read_file(\"https://api.dataforsyningen.dk/kommuner?format=geojson\")\n",
    "locations_df = locations_df[['regionskode', 'kode', 'geometry', 'regionsnavn', 'navn']]\n",
    "df_final = locations_df.merge(df_dk, right_on ='munci', left_on ='navn', how='right')\n",
    "df_final = df_final[['Kode','regionskode', 'geometry', 'regionsnavn', 'navn', 'Sundhedsudgifter pr indbygger', 'Income', 'Life expectancy kids', 'MEAN_NO2Gade', 'MEAN_PM25Gade', 'MEAN_PM10Gade']]"
   ]
  },
  {
   "cell_type": "markdown",
   "id": "f7d3820c",
   "metadata": {},
   "source": [
    "### 3.3 Basic stats:\n",
    "<a name=\"statsdk\"></a>\n",
    "\n",
    "After the preprocessing steps we end up with our final dataset containing 10 different columns and 98 rows (corresponding to 98 muncipalities spread across 5 different regions). Figure 10 represents boxplots showing the distribution of our final features. From the plot it is evident, that NO2 is the type of pollution with the biggest variance ranging from 4 to 20, with a mean of approximately 10. It is further evident, that $PM_{10}$ and $PM_{2.5}$ are having lower variance with a more normal distribution. Despite these findings we will mainly focus on $PM_{2.5}$ in the further analysis, as this type of pollution has health impacts even at very low concentrations, and is ranked as the top 5th cause of death globally. \n",
    "\n",
    "When looking into the variables retrieved from Statistics Denmark, we are likewise finding big differences in the variance of the features. Especially in income, where some muncipalities are having an average income of 600.000, while others are less than half. The same tendencies are found in both predicted life expectancy, but also in health expenses where there are significant differences in the minimum and maximum values. The boxplots are thus indicating clear differences in all features for the different muncipalities. In order to investigate these differences further, we are going to map the geographical patterns."
   ]
  },
  {
   "cell_type": "code",
   "execution_count": 31,
   "id": "709796ee",
   "metadata": {},
   "outputs": [
    {
     "data": {
      "text/plain": [
       "'boxplotsnew.html'"
      ]
     },
     "execution_count": 31,
     "metadata": {},
     "output_type": "execute_result"
    }
   ],
   "source": [
    "df_final = df_final.rename(columns={\"MEAN_NO2Gade\": \"NO2\", \"MEAN_PM25Gade\":\"PM2.5\", \"MEAN_PM10Gade\":\"PM10\", 'Sundhedsudgifter pr indbygger':'Health expenses','Life expectancy kids':'Life expectancy'})\n",
    "\n",
    "vars = ['Health expenses', 'Income', 'Life expectancy','NO2', 'PM2.5', 'PM10']\n",
    "fig = make_subplots(rows=1, cols=len(vars))\n",
    "for i, var in enumerate(vars):\n",
    "    fig.add_trace(\n",
    "        go.Box(y=df_final[var],\n",
    "        name=var),\n",
    "        row=1, col=i+1\n",
    "    )\n",
    "fig.update_layout(title_text=\"Figure 10: Boxplots over the Danish attributes\", colorway =[\"#fcbba1\",\"#fc9272\",\"#fb6a4a\",\"#ef3b2c\",\"#cb181d\",\"#a50f15\",\"#67000d\"] )\n",
    "\n",
    "fig.update_layout(\n",
    "    font_family=\"Times New Roman\",\n",
    "    title_font_family=\"Times New Roman\",\n",
    "    plot_bgcolor=\"#f5f5f5\")\n",
    "\n",
    "fig.update_traces(boxpoints='all', jitter=.01)\n",
    "\n",
    "# # set output to static HTML file\n",
    "#Saving HTML code to put on the website\n",
    "plotly.offline.plot(fig, auto_open=False,filename='boxplotsnew.html', validate=True)"
   ]
  },
  {
   "cell_type": "markdown",
   "id": "f8d99f71",
   "metadata": {},
   "source": [
    "### **RUN THE CELL BELOW TO SEE VISUALIZATION**"
   ]
  },
  {
   "cell_type": "code",
   "execution_count": 1,
   "id": "d497738e",
   "metadata": {},
   "outputs": [
    {
     "data": {
      "text/html": [
       "\n",
       "        <iframe\n",
       "            width=\"1000\"\n",
       "            height=\"750\"\n",
       "            src=\"https://rawcdn.githack.com/KvantropologSofie/socialdata2022.io/8da5418d1fe64920d241ea779d64130ed9f172f2/boxplotdk%20(1).html\"\n",
       "            frameborder=\"0\"\n",
       "            allowfullscreen\n",
       "            \n",
       "        ></iframe>\n",
       "        "
      ],
      "text/plain": [
       "<IPython.lib.display.IFrame at 0x1811d367880>"
      ]
     },
     "execution_count": 1,
     "metadata": {},
     "output_type": "execute_result"
    }
   ],
   "source": [
    "from IPython.display import IFrame\n",
    "\n",
    "# Displaying air pollution in Denmark\n",
    "IFrame(src=\"https://rawcdn.githack.com/KvantropologSofie/socialdata2022.io/8da5418d1fe64920d241ea779d64130ed9f172f2/boxplotdk%20(1).html\", width=1000, height=750)"
   ]
  },
  {
   "cell_type": "markdown",
   "id": "8399339d",
   "metadata": {},
   "source": [
    "### 3.4 Data Analysis:\n",
    "<a name=\"analysisdk\"></a>"
   ]
  },
  {
   "cell_type": "markdown",
   "id": "79a5bd5a",
   "metadata": {},
   "source": [
    "**3.4.1: Mapping**\n",
    "\n",
    "The mapping of the annual concentrations indicates that Zealand, and especially the Capital Region of Denmark and Region Zealand are exposed to the highest annual concentrations of $PM_{2.5}$ and $NO_{2}$, while high concentrations of $PM_{10}$ are more prevalent in the western part of Denmark. When looking into the maps reporting the data from Statistics Denmark, we observe patterns of the Capital Region of Denmark a having higher annual income that the remaining regions, while we at the same time observe higher annual income in the areas surrounding bigger Danish cities such as Århus. At the same time, it is also evident that municipalities in southern Denmark, such as Lolland and Langeland are having significantly lower annual incomes. When looking into the average health expenses spent on each citizen, it is further clear, that the municipalities with lower income have higher expenses related to healthcare. Through the final layer in the mapping of the data from Statistics Denmark we observe that the municipalities characterized by lower incomes and higher health expenditure, are also the municipalities where kids born today can expect to have shorter lives. Thus, these results are indicating that both high-income and low-income municipalities on Zealand are exposed to high annual concentrations of $PM_{2.5}$. We will investigate these patterns further by looking into possible realtions between the different features through scatterplots."
   ]
  },
  {
   "cell_type": "code",
   "execution_count": 33,
   "id": "2e497524",
   "metadata": {},
   "outputs": [],
   "source": [
    "#Retrieving the geodata needed for the plots:\n",
    "#response = requests.get(\"https://api.dataforsyningen.dk/kommuner?format=geojson\")\n",
    "#df_dk = response.json()\n",
    "#df_final = df_final[df_final['navn'].notna()]"
   ]
  },
  {
   "cell_type": "code",
   "execution_count": 34,
   "id": "cc30845c",
   "metadata": {},
   "outputs": [],
   "source": [
    "response = requests.get(\"https://api.dataforsyningen.dk/kommuner?format=geojson\")\n",
    "df_dk_ = response.json()"
   ]
  },
  {
   "cell_type": "markdown",
   "id": "6a17f9d0",
   "metadata": {},
   "source": [
    "As our geojson file is extremely large we have to reduce its size before using it in our maps:"
   ]
  },
  {
   "cell_type": "code",
   "execution_count": 36,
   "id": "a4728622",
   "metadata": {},
   "outputs": [],
   "source": [
    "import visvalingamwyatt as vw\n",
    "\n",
    "for i, geometry in enumerate(df_dk_[\"features\"]):\n",
    "    # returns a copy of the geometry, simplified (keeping 20% of points)\n",
    "    df_dk_[\"features\"][i][\"geometry\"] = vw.simplify_geometry(df_dk_[\"features\"][i][\"geometry\"], ratio=0.20)"
   ]
  },
  {
   "cell_type": "code",
   "execution_count": 230,
   "id": "6a7a7ab7",
   "metadata": {},
   "outputs": [],
   "source": [
    "df_dk = df_dk_.copy()"
   ]
  },
  {
   "cell_type": "markdown",
   "id": "079c09b7",
   "metadata": {},
   "source": [
    "**Pollution with $PM_{2.5}$, $PM_{10}$ and $NO{2}$ in a Danish context**"
   ]
  },
  {
   "cell_type": "code",
   "execution_count": 261,
   "id": "b7141e07",
   "metadata": {},
   "outputs": [],
   "source": [
    "# Create a Map instance\n",
    "from folium import plugins\n",
    "\n",
    "#align=\"center\" \n",
    "loc = 'Annual concentrations of air pollution (2015)'\n",
    "\n",
    "title_html = '''\n",
    "             <h3 style=\"font-size:16px\" face=\"Times New Roman\" ><b>{}</b></h3>\n",
    "             '''.format(loc)   \n",
    "\n",
    "m = folium.Map(location=[56.26392, 9.501785], tiles = 'cartodbpositron', zoom_start=7, control_scale=True, overlay=True)\n",
    "m.get_root().html.add_child(folium.Element(title_html))\n",
    "\n",
    "\n",
    "# Plot a choropleth map\n",
    "# Notice: 'geoid' column that we created earlier needs to be assigned always as the first column\n",
    "\n",
    "choropleth = folium.Choropleth(\n",
    "    geo_data=df_dk,\n",
    "    data=df_final,\n",
    "    name = 'Particulate matter (PM2,5)',\n",
    "    columns=['Kode', 'PM2.5'],\n",
    "    key_on='feature.properties.kode',\n",
    "    fill_color=\"Reds\",\n",
    "    fill_opacity=2,\n",
    "    overlay=True,\n",
    "    highlight=True,\n",
    "    line_opacity=0.3, legend_name= 'PM2.5').add_to(m)\n",
    "\n",
    "choropleth1 = folium.Choropleth(\n",
    "    geo_data=df_dk,\n",
    "    name='Nitrogen dioxide (NO2)',\n",
    "    data=df_final,\n",
    "    columns=['Kode', 'NO2'],\n",
    "    key_on='feature.properties.kode',\n",
    "    fill_color=\"Reds\",\n",
    "    fill_opacity=2,\n",
    "    line_opacity=0.3,\n",
    "    overlay=True,\n",
    "    #threshold_scale=[0,10,11,12,13,14],#\n",
    "    legend_name= 'NO2').add_to(m)\n",
    "\n",
    "choropleth2 = folium.Choropleth(\n",
    "    geo_data=df_dk,\n",
    "    data=df_final,\n",
    "    name = 'particulate matter (PM10)',\n",
    "    columns=['Kode', 'PM10'],\n",
    "    key_on='feature.properties.kode',\n",
    "    fill_color=\"Reds\",\n",
    "    fill_opacity=2,\n",
    "    overlay=True,\n",
    "    line_opacity=0.3,\n",
    "    #threshold_scale=[0,10,11,12,13,14],#\n",
    "    legend_name= 'PM10').add_to(m)\n",
    "\n",
    "#folium.TileLayer('cartodbpositron',overlay=True,name=\"View in Light Mode\").add_to(m)\n",
    "folium.LayerControl(collapsed=False).add_to(m)\n",
    "choropleth.geojson.add_child(folium.features.GeoJsonTooltip(['navn', 'regionsnavn'], labels=True))\n",
    "choropleth1.geojson.add_child(folium.features.GeoJsonTooltip(['navn', 'regionsnavn'], labels=True))\n",
    "choropleth2.geojson.add_child(folium.features.GeoJsonTooltip(['navn', 'regionsnavn'], labels=True))\n",
    "\n",
    "m\n",
    "m.save('pollution_map_dk_final.html', include_plotlyjs=\"cdn\")\n"
   ]
  },
  {
   "cell_type": "markdown",
   "id": "05810641",
   "metadata": {},
   "source": [
    "### **RUN THE CELL BELOW TO SEE VISUALIZATION**"
   ]
  },
  {
   "cell_type": "code",
   "execution_count": 3,
   "id": "8254078b",
   "metadata": {},
   "outputs": [
    {
     "data": {
      "text/html": [
       "\n",
       "        <iframe\n",
       "            width=\"1000\"\n",
       "            height=\"750\"\n",
       "            src=\"https://rawcdn.githack.com/KvantropologSofie/socialdata2022.io/22fd7f086c55cf371a6be9dd7fc9968a5bdb0a16/pollution_map_dk_final.html?\"\n",
       "            frameborder=\"0\"\n",
       "            allowfullscreen\n",
       "            \n",
       "        ></iframe>\n",
       "        "
      ],
      "text/plain": [
       "<IPython.lib.display.IFrame at 0x1811d3b22e0>"
      ]
     },
     "execution_count": 3,
     "metadata": {},
     "output_type": "execute_result"
    }
   ],
   "source": [
    "# Displaying air pollution in Denmark\n",
    "from IPython.display import IFrame\n",
    "IFrame(src=\"https://rawcdn.githack.com/KvantropologSofie/socialdata2022.io/22fd7f086c55cf371a6be9dd7fc9968a5bdb0a16/pollution_map_dk_final.html?\", width=1000, height=750)"
   ]
  },
  {
   "cell_type": "markdown",
   "id": "fc0fcfab",
   "metadata": {},
   "source": [
    "**Mapping of income, health expenses and life expectancy**"
   ]
  },
  {
   "cell_type": "code",
   "execution_count": 262,
   "id": "1ce1cb2e",
   "metadata": {},
   "outputs": [],
   "source": [
    "loc = 'Income, health expenses and life expectancy (2015)'\n",
    "\n",
    "title_html = '''\n",
    "             <h3 align=\"center\" style=\"font-size:16px\" face=\"Times New Roman\" ><b>{}</b></h3>\n",
    "             '''.format(loc)   \n",
    "\n",
    "m = folium.Map(location=[56.26392, 9.501785], tiles = 'cartodbpositron', zoom_start=7, control_scale=True)\n",
    "m.get_root().html.add_child(folium.Element(title_html))\n",
    "\n",
    "\n",
    "# Plot a choropleth map\n",
    "# Notice: 'geoid' column that we created earlier needs to be assigned always as the first column\n",
    "\n",
    "choropleth = folium.Choropleth(\n",
    "    geo_data=df_dk,\n",
    "    data=df_final,\n",
    "    name = 'Income',\n",
    "    columns=['Kode', 'Income'],\n",
    "    #threshold_scale=[200000, 250000, 270000, 300000,350000,400000,500000,600000,700000],\n",
    "    key_on='feature.properties.kode',\n",
    "    fill_color=\"Reds\",\n",
    "    fill_opacity=2,\n",
    "    overlay=True,\n",
    "    highlight=True,\n",
    "    line_opacity=0.3, legend_name= 'Income').add_to(m)\n",
    "\n",
    "choropleth1 = folium.Choropleth(\n",
    "    geo_data=df_dk,\n",
    "    name='Health expenses per citizen',\n",
    "    data=df_final,\n",
    "    columns=['Kode', 'Health expenses'],\n",
    "    key_on='feature.properties.kode',\n",
    "    fill_color=\"Reds\",\n",
    "    fill_opacity=2,\n",
    "    line_opacity=0.3,\n",
    "    overlay=True,\n",
    "    #threshold_scale=[0,10,11,12,13,14],#\n",
    "    legend_name= 'Health expenses').add_to(m)\n",
    "\n",
    "choropleth2 = folium.Choropleth(\n",
    "    geo_data=df_dk,\n",
    "    data=df_final,\n",
    "    name = 'Life expectancy for children born in 2015',\n",
    "    columns=['Kode', 'Life expectancy'],\n",
    "    key_on='feature.properties.kode',\n",
    "    fill_color=\"Reds\",\n",
    "    fill_opacity=2,\n",
    "    overlay=True,\n",
    "    line_opacity=0.3,\n",
    "    #threshold_scale=[0,10,11,12,13,14],#\n",
    "    legend_name= 'Life expectancy').add_to(m)\n",
    "\n",
    "#folium.TileLayer('cartodbpositron',overlay=True,name=\"View in Light Mode\").add_to(m)\n",
    "\n",
    "folium.LayerControl(collapsed=False).add_to(m)\n",
    "\n",
    "#Displaying regions and \n",
    "choropleth.geojson.add_child(folium.features.GeoJsonTooltip(['navn', 'regionsnavn'], labels=True))\n",
    "choropleth1.geojson.add_child(folium.features.GeoJsonTooltip(['navn', 'regionsnavn'], labels=True))\n",
    "choropleth2.geojson.add_child(folium.features.GeoJsonTooltip(['navn', 'regionsnavn'], labels=True))\n",
    "\n",
    "m\n",
    "m.save('social_map_final.html', include_plotlyjs=\"cdn\")"
   ]
  },
  {
   "cell_type": "markdown",
   "id": "b178bf07",
   "metadata": {},
   "source": [
    "Code displaying the map without running the code:"
   ]
  },
  {
   "cell_type": "markdown",
   "id": "3443f43a",
   "metadata": {},
   "source": [
    "### **RUN THE CELL BELOW TO SEE VISUALIZATION**"
   ]
  },
  {
   "cell_type": "code",
   "execution_count": 5,
   "id": "ff242fda",
   "metadata": {},
   "outputs": [
    {
     "data": {
      "text/html": [
       "\n",
       "        <iframe\n",
       "            width=\"1000\"\n",
       "            height=\"750\"\n",
       "            src=\"https://rawcdn.githack.com/KvantropologSofie/socialdata2022.io/22fd7f086c55cf371a6be9dd7fc9968a5bdb0a16/social_map_final.html?raw=true\"\n",
       "            frameborder=\"0\"\n",
       "            allowfullscreen\n",
       "            \n",
       "        ></iframe>\n",
       "        "
      ],
      "text/plain": [
       "<IPython.lib.display.IFrame at 0x1811d3b2700>"
      ]
     },
     "execution_count": 5,
     "metadata": {},
     "output_type": "execute_result"
    }
   ],
   "source": [
    "from IPython.display import IFrame\n",
    "# Displaying air social factors in Denmark\n",
    "IFrame(src=\"https://rawcdn.githack.com/KvantropologSofie/socialdata2022.io/22fd7f086c55cf371a6be9dd7fc9968a5bdb0a16/social_map_final.html?raw=true\", width=1000, height=750)"
   ]
  },
  {
   "cell_type": "markdown",
   "id": "cb9912d1",
   "metadata": {},
   "source": [
    "**3.4.2: Scatterblots**\n",
    "\n",
    "In the folowing section we are investigating the relation between the attributes through scatterplots."
   ]
  },
  {
   "cell_type": "code",
   "execution_count": 98,
   "id": "81814b1b",
   "metadata": {},
   "outputs": [
    {
     "data": {
      "text/plain": [
       "'/Users/miaannjorgensen/Desktop/Visualisation/scatterplots_df1.html'"
      ]
     },
     "execution_count": 98,
     "metadata": {},
     "output_type": "execute_result"
    }
   ],
   "source": [
    "scatter = df_final[['navn', 'Income', 'regionsnavn', 'PM2.5', 'Life expectancy', 'NO2']]\n",
    "scatter = scatter.rename(columns={\"PM2.5\":\"PM\", \"Life expectancy\":\"LE\"})\n",
    "regions=list(scatter.regionsnavn.unique())\n",
    "regions\n",
    "\n",
    "'''Creating bokeh scatterplot'''\n",
    "#output_file(\"toolbar.html\")\n",
    "\n",
    "# Defining a colormap of 6 blue colors according to GDP-categories\n",
    "cmap=[\"#fcbba1\",\"#fc9272\",\"#fb6a4a\",\"#ef3b2c\",\"#cb181d\",\"#a50f15\",\"#67000d\"]\n",
    "index_cmap = factor_cmap('regionsnavn', palette=cmap, \n",
    "                         factors=regions)\n",
    "\n",
    "p1 = figure(plot_width=600, plot_height=400, title = \"A) Relationship between income and PM2.5\",\n",
    "           toolbar_location='below',tools=['hover', 'pan','zoom_in'],tooltips=[('Kommune: ',\"@navn\"),\n",
    "            (\"PM2.5: \",\"@PM\"), (\"Income: \",\"@Income\"), ('Region',\"@regionsnavn\")])\n",
    "\n",
    "# Adjusting title size and moving legend outside of the plot \n",
    "p1.title.text_font_size = '12pt'\n",
    "p1.add_layout(Legend(label_text_font_size = '8pt'), 'right')\n",
    "#p.legend.label_text_font_size = '20pt'\n",
    "p1.legend.click_policy=\"hide\"\n",
    "\n",
    "p1.scatter('PM','Income',source=scatter,fill_alpha=0.6,line_color=index_cmap, \n",
    "          fill_color=index_cmap,size=7, legend_field='regionsnavn')\n",
    "p1.xaxis.axis_label = 'Particulate matter (PM2.5)'\n",
    "p1.yaxis.axis_label = 'Income'\n",
    "p1.xaxis.axis_label_text_font = 'Times New Roman'\n",
    "p1.yaxis.axis_label_text_font = 'Times New Roman'\n",
    "p1.title.text_font = \"times new roman\"\n",
    "\n",
    "#Second plot:\n",
    "index_cmap = factor_cmap('regionsnavn', palette=cmap, \n",
    "                         factors=regions)\n",
    "p2 = figure(plot_width=600, plot_height=400, title = \"B) Relationship between life expectancy and PM2.5\",\n",
    "           toolbar_location='below',tools=['hover', 'pan','zoom_in'],tooltips=[('Kommune: ',\"@navn\"),\n",
    "            (\"PM2.5: \",\"@PM\"), (\"Life expectancy: \",\"@LE\"), ('Region',\"@regionsnavn\")])\n",
    "\n",
    "# Adjusting title size and moving legend outside of the plot \n",
    "p2.title.text_font_size = '12pt'\n",
    "p2.add_layout(Legend(label_text_font_size = '8pt'), 'right')\n",
    "#p.legend.label_text_font_size = '20pt'\n",
    "p2.legend.click_policy=\"hide\"\n",
    "\n",
    "p2.scatter('PM','LE',source=scatter,fill_alpha=0.6,line_color=index_cmap, \n",
    "          fill_color=index_cmap,size=7, legend_field='regionsnavn')\n",
    "p2.xaxis.axis_label = 'Particulate matter (PM2.5)'\n",
    "p2.yaxis.axis_label = 'Life expectancy'\n",
    "p2.xaxis.axis_label_text_font = 'Times New Roman'\n",
    "p2.yaxis.axis_label_text_font = 'Times New Roman'\n",
    "p2.title.text_font = \"times new roman\"\n",
    "\n",
    "#Third plot\n",
    "index_cmap = factor_cmap('regionsnavn', palette=cmap, \n",
    "                         factors=regions)\n",
    "p3 = figure(plot_width=600, plot_height=400, title = \"C) Relationship between life expectancy and income\",\n",
    "           toolbar_location='below',tools=['hover', 'pan','zoom_in'],tooltips=[('Kommune: ',\"@navn\"),\n",
    "            (\"Income: \",\"@Income\"), (\"Life expectancy: \",\"@LE\"), ('Region',\"@regionsnavn\")])\n",
    "\n",
    "# Adjusting title size and moving legend outside of the plot \n",
    "p3.title.text_font_size = '12pt'\n",
    "p3.add_layout(Legend(label_text_font_size = '8pt'), 'right')\n",
    "#p.legend.label_text_font_size = '20pt'\n",
    "p3.legend.click_policy=\"hide\"\n",
    "\n",
    "p3.scatter('LE','Income',source=scatter,fill_alpha=0.6,line_color=index_cmap, \n",
    "          fill_color=index_cmap,legend_field='regionsnavn',size=7)\n",
    "p3.xaxis.axis_label = 'Life expectancy'\n",
    "p3.yaxis.axis_label = 'Income'\n",
    "p3.legend.label_text_font = \"times\"\n",
    "p3.xaxis.axis_label_text_font = 'Times New Roman'\n",
    "p3.yaxis.axis_label_text_font = 'Times New Roman'\n",
    "p3.title.text_font = \"times new roman\"\n",
    "\n",
    "plots1 = column(p1, p2, p3)\n",
    "#show(column(Div(align=\"center\", text=\"<h2> Figure 13: Scatterplots reporting the relationship between income, life expectancy and pollution </hl>\"), plots))\n",
    "\n",
    "# # set output to static HTML file\n",
    "output_file(filename=\"scatterplots_df1.html\", title=\"Static HTML file\")\n",
    "save(plots1)"
   ]
  },
  {
   "cell_type": "markdown",
   "id": "4295f3a6",
   "metadata": {},
   "source": [
    "### **RUN THE CELL BELOW TO SEE VISUALIZATION**"
   ]
  },
  {
   "cell_type": "code",
   "execution_count": 4,
   "id": "a1e71f86",
   "metadata": {},
   "outputs": [
    {
     "data": {
      "text/html": [
       "\n",
       "        <iframe\n",
       "            width=\"1000\"\n",
       "            height=\"750\"\n",
       "            src=\"https://rawcdn.githack.com/KvantropologSofie/socialdata2022.io/e277416e7c642c7226aa1129fd0b718e5f6d7af9/scatterplots_df1.html\"\n",
       "            frameborder=\"0\"\n",
       "            allowfullscreen\n",
       "            \n",
       "        ></iframe>\n",
       "        "
      ],
      "text/plain": [
       "<IPython.lib.display.IFrame at 0x1811d3b26a0>"
      ]
     },
     "execution_count": 4,
     "metadata": {},
     "output_type": "execute_result"
    }
   ],
   "source": [
    "from IPython.display import IFrame\n",
    "\n",
    "# Displaying air pollution in Denmark\n",
    "IFrame(src=\"https://rawcdn.githack.com/KvantropologSofie/socialdata2022.io/e277416e7c642c7226aa1129fd0b718e5f6d7af9/scatterplots_df1.html\", width=1000, height=750)"
   ]
  },
  {
   "cell_type": "markdown",
   "id": "d009aa95",
   "metadata": {},
   "source": [
    "We are lastly going to investigate potential relationships between exposure to $PM_{2.5}$, income and life expextancy through the scatterplots presented above. Based on scatterplot A, we are finding evidence of the muncipalities in Zealand being exposed to higher concentrations of PM2.5. It is further evident that these mucipalities are having a big variance in annual income, ranging from Bornholm with an average income of 262.203, to Gentofte with an average annual income of 611.952. Thus, these results indicate, that individuals with different social background are exposed to the same high consentrations of air pollution. To get a further understanding of the potential consequenses of this, we decided to plot the relationship between exposure to air pollutants and life expectancy as reported in B. Based on the plot it is evident that there are no clear relationship between exposure to $PM_{2.5}$ and life expectancy, where muncipalities with both the lowest (Lolland) and highest (Rudersdal and Gentofe) are experiencing the same concentrations of pollution. When looking into the relationship between life expectancy and income, we are, nevertheless, observing a clear picture of muncipalities with higer annual incomes also having a higher life expectancy. \n",
    "\n",
    "Based on the scatterplots it is thereby apparent that muncipalities with high concentrations of pollution, is often located in Region Zealand or the Capital Region of Denmark, while muncipalities located in the remaining parts of Denmark are experiencing lower concentrations of $PM_{2.5}$. It is furthermore also evident that the muncipalities experiencing the higest concentrations of pollutions are populated with individuals from significantly different economic positions. The results are thereby not showing signs of environmental inequality, but rather that individuals with higher economic capital can expect to live longer lifes."
   ]
  },
  {
   "cell_type": "markdown",
   "id": "727d64a4",
   "metadata": {},
   "source": [
    "### 3.4 Conclusion - Denmark:\n",
    "<a name=\"conclusiondk\"></a>\n",
    "\n",
    "Throughout this part of the project we have zoomed in on Denmark to investigate whether environmental inequality also exsists in a Developed country with relatively low exposure to pollution. Based on our visualizations it is evident, that Zealand is exposed to the higest concentrations of pollution, while also having the biggest income inequality. Thus, our project indicates that individuals with different economic capital are exposed to the same high concentrations of pollutions, but also that different groups in society may be affected differently by the negative consequenses of the bad air. Kids born in Gentofte, which is the muncipalities with the highest annual income, but also concentrations of $PM_{2.5}$ can expect to live significantly longer lives than kids born in Lolland who are experiencing simmilar concentrations of $PM_{2.5}$. "
   ]
  },
  {
   "cell_type": "markdown",
   "id": "4525b4c3",
   "metadata": {},
   "source": [
    "## 4. Genre:\n",
    "<a name=\"genre\"></a>\n",
    "\n",
    "According to Segel and Heer, the organization of design space contains three divisions of features: genre, visual narrative tactics, and narrative structure tactics. \n",
    "\n",
    "For the story genre we used part magazine style and part annotated graph. Annotated chart is an obvious choice to highlight the visualizations we wish to present and also to allow for further interactivity. However as Segel and Heer mention, interactive graphs typically under-utilize common narrative techniques such as repetition of key points, introductory texts, and final summaries and syntheses. In order to emphasize key observations from the data, we will also incorporate part of a magazine style. \n",
    "\n",
    "For visual narrative tactics we consider visual structuring, highlighting, and transition guide. Our visual structuring is primarily in the form of having a consistent visual platform. The other visual narrative tactics are more applicable to slide show or film genres and not as much the magazine styles. Given our chosen genre, we focus less on visual narrative tactics and more on narrative structure.\n",
    "\n",
    "We apply many of the narrative structure tactics as these are quite important for our genres. The ordering is more of a user-directed path. While the menu on the left of the website hints at a direction, and therefore is not random, it is ultimately up to the user to click and choose their own path. We also did this to allow for a more clear divide between the key takeaways of the different parts of our story. We choose to employ interactivity with the graphs more than with the website itself. Since our focus is the data we wish to visualize, we bring the user closer to the data by allowing them to interact with it. And lastly, bringing in key parts of the magazine style, our messaging will be very thorough and consist of captions, headlines, comment repetition, introductory texts, summary conclusion, etc.  \n"
   ]
  },
  {
   "cell_type": "markdown",
   "id": "58b55f00",
   "metadata": {},
   "source": [
    "## 5. Vizualisations:\n",
    "<a name=\"visualisations\"></a>\n",
    "\n",
    "We have chosen a wide range of different visualizations in our project. In this section we will briefly describe the visualizations included in the website, and why we deem them relevant for the story we want to tell.\n",
    "\n",
    "- **Boxplots:** We included boxplots as an initial way to investigate the variability in our features. The boxplots provided us with information of the distribution of the observations, and made it possible to determine whether there were visible outliers in the concentration of air pollution, GDP and income (Janert, P. K. 2010). We decided to add a jitter to our boxplots to detect possible clusters in the data.\n",
    "\n",
    "- **Maps:** We chose to include mulitple interactive maps to visualize spartial differences in a more intuitive way. Through maps it is possible to highlight trends in pollution and GDP/income, and thereby gain clarity over patterns. The maps further made it possible to visualize changes in concentrations of air pollution over time.\n",
    "\n",
    "- **Lineplots:** In addition to the map visualizing changes over time, we chose to create a line plot. Through the line plot it is possible to easily compare changes across the different continents, and gain an overall overview of the tendencies.\n",
    "\n",
    "- **Scatterplots:** We lastly included scatterplots to investigate possible relations between our features (Janert, P. K. 2010). \n"
   ]
  },
  {
   "cell_type": "markdown",
   "id": "9342e18d",
   "metadata": {},
   "source": [
    "## 6. Discussion and conclusion:\n",
    "<a name=\"finalcon\"></a>\n",
    "Through this project we have investigated differences in exposure to air pollution globally and nation-wise. In line with the existing research, our results indicate that countries with lower GDP are more affected by bad air quality. High concentrations of $PM_{2.5}$ are especially prevalent across Asia and Africa, where many countries also are suffering from high death rates caused by pollution. The first part of the project thus indicates that there are clear signs of environmental inequality related to air pollution globally, and that the negative consequences of air-pollution are affecting countries with lower GDP to a higher extend than countries with higher GDP. \n",
    " \n",
    "We further zoomed into Denmark to investigate a country on an individual and more granular level. Based on the global part of our report, Denmark stood out as a country exposed to low concentrations of PM2.5, while at the same time having a high GDP. However, when looking into the Danish municipalities we found significant differences in both income and exposure to air pollutants. Through the Danish part of the project, it was not possible to find clear signs of environmental inequality, as both municipalities with higher and lower income are exposed to the same high concentrations of pollution. However, we found that Zealand in general experience the highest concentrations of air pollution. The existing research further indicates, that socially and economically disadvantaged individuals are more susceptible to the negative health effects of air pollution (Williams et. al (2018). We find the same patterns globally, but also when zooming in on Denmark, where children born in Gentofte can expect to live significantly longer than children born in Lolland despite experiencing the same concentrations of air pollution throughout life. However, as life expectancy is simply an estimation, future studies should compare pollution to actual health indicators from a Danish context. Our study thus indicates that it is essential to assess each respective country on an individual and more granular level in order to capture variations within. Even within a highly developed nation as Denmark we find significant differences in both income, life expectancy and exposure to different types on pollutants. Therefore, even bigger differences are likely to be found in countries such as Qatar with high GDP, high income-inequalities and high concentrations of air pollution when looking into nation-wide patterns.\n",
    "\n",
    "Even though our patterns appear quite clear, we should not blindly trust the data. Through our visualizations, several biases and errors became visible, such as the unrealistic increase in pollution in Madagascar from 2016 to 2017. In line with the arguments of Janert (2010), these data errors would most likely have gone unnoticed without the different visualizations. We are further aware that the data, especially from the global part of the project, might be subject to biased related to how it is measured. Countries with fewer resources might not have the capacity to produce accurate estimates of neither pollution deaths nor concentrations. We are furthermore not aware of the number of sensors used to estimate the concentrations for each country. Thus the environmental inequality that we found using data might be even larger, but unfortunately, this is difficult for us to account for. "
   ]
  },
  {
   "cell_type": "markdown",
   "id": "99cc8c11",
   "metadata": {},
   "source": [
    "## 7. Contributions:\n",
    "<a name=\"contributions\"></a>\n",
    "\n"
   ]
  },
  {
   "cell_type": "markdown",
   "id": "85fc05a1",
   "metadata": {},
   "source": [
    "*Assignment Contributions*:\n",
    "\n",
    "Group Members: \n",
    "- Sofie Læbo Astrupgaard\n",
    "- Mia Ann Jørgensen\n",
    "- Alysha Chamadia \n",
    "\n",
    "Contributions\n",
    "1. [Motivation](#Motivation) - Sofie, Mia, Alysha\n",
    "2. [Global Patterns](#Global) -Alysha\n",
    "    1. [Global data](#globaldata) - Sofie\n",
    "    2. [Preprocessing and data mining](#preprocessing)- Mia \n",
    "    3. [Basic stats and exploration of the data](#basicstats) - Sofie \n",
    "    4. [Data analysis](#dataanalysis) - Mia\n",
    "    5. [Prediction of deaths caused by pollution](#prediction) - Alysha \n",
    "    6. [Conclusion](#conclusionglobal) - Alysha\n",
    "3. [Zooming in on Denmark](#denmark)- Mia\n",
    "    1. [Data used in the Danish part](#denmarkdata) - Sofie\n",
    "    2. [Preprocessing and data mining](#denmarkpre) - Mia \n",
    "    3. [Basic stats - Denmark](#statsdk) - Sofie\n",
    "    4. [Data analysis](#analysisdk) - Mia\n",
    "    4. [Conclusion](#conclusiondk) - Sofie \n",
    "4. [Genre](#genre)- Alysha\n",
    "5. [Visualizations](#visualisations) - Alysha\n",
    "6. [Discussion and Conclusion](#finalcon) - Mia, Sofie \n",
    "8. Website - Mia, Sofie"
   ]
  },
  {
   "cell_type": "markdown",
   "id": "2ab92628",
   "metadata": {},
   "source": [
    "## 8. References:\n",
    "<a name=\"references\"></a>\n",
    "\n",
    "\n",
    "- Hiregoudar, S. (2020). Ways to Evaluate Regression Models - Towards Data Science. Medium. https://towardsdatascience.com/ways-to-evaluate-regression-models-77a3ff45ba70\n",
    "- Koehrsen, W. (2019, December 10). Hyperparameter Tuning the Random Forest in Python - Towards Data Science. Medium. https://towardsdatascience.com/hyperparameter-tuning-the-random-forest-in-python-using-scikit-learn-28d2aa77dd74\n",
    "- Wiliams et. al (2018). Impact of air pollution scenarios on inequalities\n",
    "- Janert, P. K. (2010). Data Analysis with Open Source Tools: A Hands-On Guide for Programmers and Data Scientists (1st ed.). O’Reilly Media.\n",
    "- WHO (2021). https://www.who.int/news-room/fact-sheets/detail/ambient-(outdoor)-air-quality-and-health\n",
    "- Srinidhi, S. (2020, January 9). Label Encoder vs. One Hot Encoder in Machine Learning. Medium. https://contactsunny.medium.com/label-encoder-vs-one-hot-encoder-in-machine-learning-3fc273365621\n",
    "- Grus, J. (2015). Data Science from Scratch: First Principles with Python (1st ed.). O’Reilly Media.\n",
    "- Kim et all. (2020). Cumulative Lifetime Burden of Cardiovascular Disease From Early Exposure to Air Pollution. \n",
    "- Hank, C., Arnold, M., and Gerber, A. (2021) Introduction to econometrics with R. https://www.econometrics-with-r.org/index.html"
   ]
  }
 ],
 "metadata": {
  "hide_input": false,
  "kernelspec": {
   "display_name": "Python 3 (ipykernel)",
   "language": "python",
   "name": "python3"
  },
  "language_info": {
   "codemirror_mode": {
    "name": "ipython",
    "version": 3
   },
   "file_extension": ".py",
   "mimetype": "text/x-python",
   "name": "python",
   "nbconvert_exporter": "python",
   "pygments_lexer": "ipython3",
   "version": "3.9.7"
  }
 },
 "nbformat": 4,
 "nbformat_minor": 5
}
